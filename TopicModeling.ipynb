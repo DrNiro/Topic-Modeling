{
  "cells": [
    {
      "cell_type": "markdown",
      "metadata": {
        "id": "e-VFgghlz6-u"
      },
      "source": [
        "#Part I - Preperations"
      ]
    },
    {
      "cell_type": "markdown",
      "metadata": {
        "id": "8v2BX2L6tgaV"
      },
      "source": [
        "##Installs"
      ]
    },
    {
      "cell_type": "markdown",
      "metadata": {
        "id": "cnV3PmWdXaue"
      },
      "source": [
        "First run instructions:\n",
        "\n",
        "  1. Run installs once (first code cell).\n",
        "  2. Restart runtime.\n",
        "  3. Run all (updating pd required version)."
      ]
    },
    {
      "cell_type": "code",
      "execution_count": null,
      "metadata": {
        "id": "fmNwC742sJmD"
      },
      "outputs": [],
      "source": [
        "!pip install stop-words\n",
        "!pip install pyLDAvis\n",
        "!pip install --upgrade gensim"
      ]
    },
    {
      "cell_type": "markdown",
      "metadata": {
        "id": "EVsnhGFGcstU"
      },
      "source": [
        "** upgrade gensim to version 4.1.0. **NOTE:** does not support LdaMallet anymore."
      ]
    },
    {
      "cell_type": "markdown",
      "metadata": {
        "id": "GTZTlwJatjLx"
      },
      "source": [
        "##Imports"
      ]
    },
    {
      "cell_type": "code",
      "execution_count": null,
      "metadata": {
        "id": "xlCQY4XNg5cm"
      },
      "outputs": [],
      "source": [
        "from nltk.tokenize import RegexpTokenizer\n",
        "from nltk.stem.wordnet import WordNetLemmatizer\n",
        "import pandas as pd\n",
        "import numpy as np\n",
        "from tqdm import tqdm_notebook as tqdm\n",
        "\n",
        "import gensim\n",
        "from gensim import corpora, models\n",
        "from gensim.models import LsiModel, LdaModel, LdaMulticore, HdpModel, EnsembleLda\n",
        "from gensim.similarities import Similarity\n",
        "from gensim.test.utils import get_tmpfile\n",
        "from gensim.models.coherencemodel import CoherenceModel\n",
        "from gensim.matutils import cossim\n",
        "\n",
        "from stop_words import get_stop_words\n",
        "import pyLDAvis\n",
        "import pyLDAvis.gensim_models as gensimvis\n",
        "\n",
        "import nltk\n",
        "import pprint\n",
        "import logging\n",
        "\n",
        "import spacy\n",
        "from spacy.lemmatizer import Lemmatizer\n",
        "from spacy.lang.en.stop_words import STOP_WORDS\n",
        "from spacy import displacy\n",
        "\n",
        "import warnings\n",
        "from torch.serialization import SourceChangeWarning"
      ]
    },
    {
      "cell_type": "markdown",
      "metadata": {
        "id": "TCoem0Y6t0pT"
      },
      "source": [
        "##Notebook pre-settings"
      ]
    },
    {
      "cell_type": "markdown",
      "metadata": {
        "id": "7YyG5tn0J786"
      },
      "source": [
        "train/load mode"
      ]
    },
    {
      "cell_type": "code",
      "execution_count": null,
      "metadata": {
        "id": "Y8ByoDXEJ7e5"
      },
      "outputs": [],
      "source": [
        "LOAD = True"
      ]
    },
    {
      "cell_type": "markdown",
      "metadata": {
        "id": "fkgfE8Zx1UJT"
      },
      "source": [
        "Supress deprication warnings."
      ]
    },
    {
      "cell_type": "code",
      "execution_count": null,
      "metadata": {
        "id": "TaXm3lma1TUd"
      },
      "outputs": [],
      "source": [
        "warnings.filterwarnings(\"ignore\", category=DeprecationWarning)"
      ]
    },
    {
      "cell_type": "code",
      "execution_count": null,
      "metadata": {
        "id": "9qYkv0hB1EPU"
      },
      "outputs": [],
      "source": [
        "logging.basicConfig(format='%(asctime)s : %(levelname)s : %(message)s', level=logging.INFO)"
      ]
    },
    {
      "cell_type": "markdown",
      "metadata": {
        "id": "qeXd_uBR1cst"
      },
      "source": [
        "Downloading wordnet to get english-stop-words from."
      ]
    },
    {
      "cell_type": "code",
      "execution_count": null,
      "metadata": {
        "colab": {
          "base_uri": "https://localhost:8080/"
        },
        "id": "0iFkTheTs_g6",
        "outputId": "c3a28da9-c910-4952-9ed3-68cbb6745ad5"
      },
      "outputs": [
        {
          "name": "stdout",
          "output_type": "stream",
          "text": [
            "[nltk_data] Downloading package wordnet to /root/nltk_data...\n",
            "[nltk_data]   Unzipping corpora/wordnet.zip.\n"
          ]
        },
        {
          "data": {
            "text/plain": [
              "True"
            ]
          },
          "execution_count": 5,
          "metadata": {},
          "output_type": "execute_result"
        }
      ],
      "source": [
        "nltk.download('wordnet')"
      ]
    },
    {
      "cell_type": "markdown",
      "metadata": {
        "id": "fIAUuRNC1ncs"
      },
      "source": [
        "Set pandas option to print all cell content."
      ]
    },
    {
      "cell_type": "code",
      "execution_count": null,
      "metadata": {
        "id": "9JBGL2pDXtYg"
      },
      "outputs": [],
      "source": [
        "pd.set_option('display.max_colwidth', None)"
      ]
    },
    {
      "cell_type": "markdown",
      "metadata": {
        "id": "ymrxYPDrgg9l"
      },
      "source": [
        "Download data\n",
        "\n",
        "Links id:\n",
        "\n",
        "    data = 1V-7cI74NT9wsl-vK02-IMA6ITkBEWHbC\n",
        "    my_test_input = 1AEl-jpWfY79XFbu4yItqyIUh31Pu1tXo\n",
        "    titles_test_input = 1agQ4_-X9BkJmZ1K8mY3R3PzRv9-LOyWB"
      ]
    },
    {
      "cell_type": "code",
      "execution_count": null,
      "metadata": {
        "colab": {
          "base_uri": "https://localhost:8080/"
        },
        "id": "Y0382mLrgUHA",
        "outputId": "1d82c184-5cc4-47d1-c06e-2d5a6ec9040a"
      },
      "outputs": [
        {
          "name": "stdout",
          "output_type": "stream",
          "text": [
            "Downloading...\n",
            "From: https://drive.google.com/uc?id=1V-7cI74NT9wsl-vK02-IMA6ITkBEWHbC\n",
            "To: /content/US-Economic-News.csv\n",
            "12.5MB [00:00, 46.6MB/s]\n",
            "Downloading...\n",
            "From: https://drive.google.com/uc?id=1AEl-jpWfY79XFbu4yItqyIUh31Pu1tXo\n",
            "To: /content/test_sentences.csv\n",
            "100% 79.0/79.0 [00:00<00:00, 44.4kB/s]\n",
            "Downloading...\n",
            "From: https://drive.google.com/uc?id=1agQ4_-X9BkJmZ1K8mY3R3PzRv9-LOyWB\n",
            "To: /content/voted-kaggle-dataset.csv\n",
            "4.29MB [00:00, 66.5MB/s]\n"
          ]
        }
      ],
      "source": [
        "!gdown --id 1V-7cI74NT9wsl-vK02-IMA6ITkBEWHbC\n",
        "!gdown --id 1AEl-jpWfY79XFbu4yItqyIUh31Pu1tXo\n",
        "!gdown --id 1agQ4_-X9BkJmZ1K8mY3R3PzRv9-LOyWB"
      ]
    },
    {
      "cell_type": "markdown",
      "metadata": {
        "id": "uYsn4sfEt7NC"
      },
      "source": [
        "##General topic-modeling settings"
      ]
    },
    {
      "cell_type": "markdown",
      "metadata": {
        "id": "UGL5orHyFSXQ"
      },
      "source": [
        "With nltk"
      ]
    },
    {
      "cell_type": "code",
      "execution_count": null,
      "metadata": {
        "id": "_txkG2V0hljv"
      },
      "outputs": [],
      "source": [
        "pattern = r'\\b[^\\d\\W]+\\b'\n",
        "tokenizer = RegexpTokenizer(pattern)\n",
        "en_stop = get_stop_words('en')\n",
        "lemmatizer = WordNetLemmatizer()\n",
        "remove_words = ['br', 'ûªs', 'ûª', 'ûªt', 'ûó', 'ðê', 'ûïwe', 'ûïthe', 'ûïi', \n",
        "                'ûªre', 'de', 'ûªve', 'ûïit', 'ûóand', 'ûªll', 'er', 'tion', \n",
        "                'û_', 'åç', 'åè', 'ûótaiwan', 'ûïlee', 'sh', 'ûªaiwlfw', 'ofgltsw',\n",
        "                ]\n"
      ]
    },
    {
      "cell_type": "markdown",
      "metadata": {
        "id": "Ll9ScxHzFQiJ"
      },
      "source": [
        "With SpaCy"
      ]
    },
    {
      "cell_type": "code",
      "execution_count": null,
      "metadata": {
        "id": "x61l0Jr0FNCh"
      },
      "outputs": [],
      "source": [
        "nlp = spacy.load('en')\n",
        "more_stop_words = ['say', '\\s', 'mr', 'Mr', 'said', 'says', 'saying', 'today', 'be'] + en_stop\n",
        "nlp.Defaults.stop_words.update(more_stop_words) # Updates spaCy's default stop words list with my additional words. \n",
        "remove = [r'</br>', '<br>']\n",
        "for stopword in more_stop_words:\n",
        "    lexeme = nlp.vocab[stopword]\n",
        "    lexeme.is_stop = True"
      ]
    },
    {
      "cell_type": "markdown",
      "metadata": {
        "id": "yaBoggNSuBwB"
      },
      "source": [
        "##Util functions"
      ]
    },
    {
      "cell_type": "markdown",
      "metadata": {
        "id": "ijyBdn4JEjrK"
      },
      "source": [
        "Spacy functions"
      ]
    },
    {
      "cell_type": "code",
      "execution_count": null,
      "metadata": {
        "id": "1DkHqNowikeY"
      },
      "outputs": [],
      "source": [
        "def clean_raw_texts(data_df, text_col_name, range=None):\n",
        "    all_texts = data_df[text_col_name].values\n",
        "\n",
        "    if range is not None and isinstance(range, int):\n",
        "        all_texts = all_texts[:range]\n",
        "\n",
        "    for i, text in enumerate(all_texts):\n",
        "        for rw in remove:\n",
        "            if rw in text:\n",
        "                text = text.replace(rw, '') # delete </br> tags leftovers.\n",
        "        all_texts[i] = text\n",
        "\n",
        "    # bigram = gensim.models.phrases.Phrases(all_texts)\n",
        "    # all_texts = [bigram[line] for line in all_texts]\n",
        "\n",
        "    return all_texts"
      ]
    },
    {
      "cell_type": "code",
      "execution_count": null,
      "metadata": {
        "id": "cOZhyzcgm9wM"
      },
      "outputs": [],
      "source": [
        "def to_docs_with_spacy(texts):\n",
        "    docs = []\n",
        "\n",
        "    for text in tqdm(texts):\n",
        "        doc = nlp(text)\n",
        "        docs.append(doc)\n",
        "    \n",
        "    return docs"
      ]
    },
    {
      "cell_type": "code",
      "execution_count": null,
      "metadata": {
        "id": "t1nDz4x43n1k"
      },
      "outputs": [],
      "source": [
        "def clean_docs_with_spacy(docs):\n",
        "    texts, tmp = [], []\n",
        "\n",
        "    for doc in docs:\n",
        "        for word in doc:                  \n",
        "            if word.text != '\\n' and not word.is_stop and not word.is_punct and not word.like_num and len(word.text) > 1:\n",
        "                tmp.append(word.lemma_)\n",
        "                \n",
        "        texts.append(tmp)\n",
        "        tmp = []\n",
        "    \n",
        "    bigram = gensim.models.phrases.Phrases(texts)\n",
        "    texts = [bigram[line] for line in texts]\n",
        "\n",
        "    return texts"
      ]
    },
    {
      "cell_type": "code",
      "execution_count": null,
      "metadata": {
        "id": "KczqRshmE8_Z"
      },
      "outputs": [],
      "source": [
        "def preprocess_with_spacy(data_df, text_col_name, range=None):\n",
        "    texts = clean_raw_texts(data_df, text_col_name, range)\n",
        "    docs = to_docs_with_spacy(texts)\n",
        "    texts = clean_docs_with_spacy(docs)\n",
        "\n",
        "    return docs, texts"
      ]
    },
    {
      "cell_type": "code",
      "execution_count": null,
      "metadata": {
        "id": "bA4irEy0hN-Q"
      },
      "outputs": [],
      "source": [
        "def text_to_corpus(texts):\n",
        "    # turn our tokenized documents into a id <-> term dictionary\n",
        "    dictionary = corpora.Dictionary(texts)\n",
        "    # convert tokenized documents into a document-term matrix\n",
        "    corpus = [dictionary.doc2bow(text) for text in texts]  \n",
        "\n",
        "    return dictionary, corpus"
      ]
    },
    {
      "cell_type": "code",
      "execution_count": null,
      "metadata": {
        "id": "8KJyqJSY0vnZ"
      },
      "outputs": [],
      "source": [
        "def get_model(model_tag, configuration):\n",
        "    models = {\n",
        "        'lsi': LsiModel,\n",
        "        'lda': LdaModel,\n",
        "        'hdp': HdpModel,\n",
        "        'lda_mult': LdaMulticore,\n",
        "        'ensemble': EnsembleLda,\n",
        "    }\n",
        "\n",
        "    if model_tag not in models.keys():\n",
        "        print(\"no model under tag:\", model_tag)\n",
        "        print(\"available tags:\", [key for key in models.keys()])\n",
        "        return None\n",
        "\n",
        "    return models[model_tag](**configuration)"
      ]
    },
    {
      "cell_type": "code",
      "execution_count": null,
      "metadata": {
        "id": "pC9Vkv-pFDbi"
      },
      "outputs": [],
      "source": [
        "def save_model(model, filename):\n",
        "    ext = '.model'\n",
        "    fixed_name = filename.replace(ext, '')\n",
        "    ver = 1\n",
        "    while os.path.isfile(fixed_name):\n",
        "        v += 1\n",
        "        fixed_name += v\n",
        "\n",
        "    fixed_name += ext\n",
        "\n",
        "    model.save(fixed_name)\n",
        "\n",
        "def load_trained_model(filename, model_tag):\n",
        "    models = models = {\n",
        "        'lsi': LsiModel,\n",
        "        'lda': LdaModel,\n",
        "        'hdp': HdpModel,\n",
        "        'lda_mult': LdaMulticore,\n",
        "        'ensemble': EnsembleLda,\n",
        "    }\n",
        "\n",
        "    if model_tag not in models.keys():\n",
        "        print(\"no model under tag:\", model_tag)\n",
        "        print(\"available tags:\", [key for key in models.keys()])\n",
        "        return None\n",
        "    \n",
        "    ext = '.model'\n",
        "    filename.replace(ext, '')\n",
        "    filename += ext\n",
        "\n",
        "    return models[model_tag].load(filename)"
      ]
    },
    {
      "cell_type": "markdown",
      "metadata": {
        "id": "Gj5sj86Mz9z_"
      },
      "source": [
        "#Part II - Dataset & Models construction"
      ]
    },
    {
      "cell_type": "markdown",
      "metadata": {
        "id": "Jx69B0iP8-HX"
      },
      "source": [
        "Read data from csv files"
      ]
    },
    {
      "cell_type": "code",
      "execution_count": null,
      "metadata": {
        "id": "d8ZbCFqn0A_w"
      },
      "outputs": [],
      "source": [
        "df = pd.read_csv('/content/US-Economic-News.csv', encoding='utf_8')\n",
        "test_df = pd.read_csv('/content/test_sentences.csv')\n",
        "test_articles_df = pd.read_csv('/content/voted-kaggle-dataset.csv')"
      ]
    },
    {
      "cell_type": "markdown",
      "metadata": {
        "id": "BBUd81jshvQc"
      },
      "source": [
        "SpaCy data pre-processing"
      ]
    },
    {
      "cell_type": "code",
      "execution_count": null,
      "metadata": {
        "colab": {
          "base_uri": "https://localhost:8080/",
          "height": 188,
          "referenced_widgets": [
            "e576e1b497e8467882dce7257de727ae",
            "250dd837cee04ae2a5d217b7934b2ab5",
            "7f3fac98ff18423db41ec1bf87455468",
            "9a26213c4e744e44ba958c232fbb6932",
            "1c6bcccdd5a24c3aa522aded10cd529c",
            "bae84e5449524df18194fbac3d0afc22",
            "98a684d5ea8741b8bab9bf91537654f7",
            "9de49d7b26d24e6e8c6be097c51e68db",
            "9b61237d057746c4b12980efa175a32b",
            "30e03850fbca4c44ab29adb4ae9fafb1",
            "03a034a985904b74a8cada2a2f70a828"
          ]
        },
        "id": "ZfNWCX7pjvN-",
        "outputId": "9dbe7362-d5b3-449d-f9a9-41a8f93e8e2c"
      },
      "outputs": [
        {
          "data": {
            "application/vnd.jupyter.widget-view+json": {
              "model_id": "e576e1b497e8467882dce7257de727ae",
              "version_major": 2,
              "version_minor": 0
            },
            "text/plain": [
              "  0%|          | 0/8000 [00:00<?, ?it/s]"
            ]
          },
          "metadata": {},
          "output_type": "display_data"
        },
        {
          "name": "stderr",
          "output_type": "stream",
          "text": [
            "2021-09-14 13:34:47,748 : INFO : collecting all words and their counts\n",
            "2021-09-14 13:34:47,751 : INFO : PROGRESS: at sentence #0, processed 0 words and 0 word types\n",
            "2021-09-14 13:34:50,074 : INFO : collected 609451 token types (unigram + bigrams) from a corpus of 947683 words and 8000 sentences\n",
            "2021-09-14 13:34:50,077 : INFO : merged Phrases<609451 vocab, min_count=5, threshold=10.0, max_vocab_size=40000000>\n",
            "2021-09-14 13:34:50,080 : INFO : Phrases lifecycle event {'msg': 'built Phrases<609451 vocab, min_count=5, threshold=10.0, max_vocab_size=40000000> in 2.33s', 'datetime': '2021-09-14T13:34:50.080836', 'gensim': '4.1.0', 'python': '3.7.11 (default, Jul  3 2021, 18:01:19) \\n[GCC 7.5.0]', 'platform': 'Linux-5.4.104+-x86_64-with-Ubuntu-18.04-bionic', 'event': 'created'}\n"
          ]
        },
        {
          "name": "stdout",
          "output_type": "stream",
          "text": [
            "CPU times: user 6min 32s, sys: 7.27 s, total: 6min 39s\n",
            "Wall time: 6min 41s\n"
          ]
        }
      ],
      "source": [
        "%%time\n",
        "docs, texts = preprocess_with_spacy(df, 'text')"
      ]
    },
    {
      "cell_type": "code",
      "execution_count": null,
      "metadata": {
        "colab": {
          "base_uri": "https://localhost:8080/",
          "height": 188,
          "referenced_widgets": [
            "75c589bd4752482982003406fd81adad",
            "45ecd59849d14c76b657ef48060bc09f",
            "451ad5bc1db044fcad2cbfd24d724510",
            "8bde0386b1f3418985dfd2647fb4e768",
            "1a9eb14a7ac5458fbe36424f49ec39c5",
            "7dad4494d7254704a84e47b656e9bdfe",
            "dbefbbcae3154e119644d519acbd3c69",
            "c527dc41924141e4b6784f34d138fe05",
            "dff06ff1a9644d32876fed4ae208fac8",
            "34f2c38e040d44319c8281bd57dc5f92",
            "4b92e809903e43bfad19fd43037fc7da"
          ]
        },
        "id": "7wCwS0ZwHB_Y",
        "outputId": "ec93bbf1-32bd-42eb-b616-11d5867609bd"
      },
      "outputs": [
        {
          "data": {
            "application/vnd.jupyter.widget-view+json": {
              "model_id": "75c589bd4752482982003406fd81adad",
              "version_major": 2,
              "version_minor": 0
            },
            "text/plain": [
              "  0%|          | 0/5 [00:00<?, ?it/s]"
            ]
          },
          "metadata": {},
          "output_type": "display_data"
        },
        {
          "name": "stderr",
          "output_type": "stream",
          "text": [
            "2021-09-14 13:34:53,680 : INFO : collecting all words and their counts\n",
            "2021-09-14 13:34:53,697 : INFO : PROGRESS: at sentence #0, processed 0 words and 0 word types\n",
            "2021-09-14 13:34:53,714 : INFO : collected 11 token types (unigram + bigrams) from a corpus of 8 words and 5 sentences\n",
            "2021-09-14 13:34:53,727 : INFO : merged Phrases<11 vocab, min_count=5, threshold=10.0, max_vocab_size=40000000>\n",
            "2021-09-14 13:34:53,742 : INFO : Phrases lifecycle event {'msg': 'built Phrases<11 vocab, min_count=5, threshold=10.0, max_vocab_size=40000000> in 0.06s', 'datetime': '2021-09-14T13:34:53.742423', 'gensim': '4.1.0', 'python': '3.7.11 (default, Jul  3 2021, 18:01:19) \\n[GCC 7.5.0]', 'platform': 'Linux-5.4.104+-x86_64-with-Ubuntu-18.04-bionic', 'event': 'created'}\n"
          ]
        },
        {
          "name": "stdout",
          "output_type": "stream",
          "text": [
            "CPU times: user 134 ms, sys: 15.8 ms, total: 150 ms\n",
            "Wall time: 268 ms\n"
          ]
        }
      ],
      "source": [
        "%%time\n",
        "test_docs, test_texts = preprocess_with_spacy(test_df, 'test')"
      ]
    },
    {
      "cell_type": "code",
      "execution_count": null,
      "metadata": {
        "colab": {
          "base_uri": "https://localhost:8080/",
          "height": 262
        },
        "id": "IRDCgCtqlXGY",
        "outputId": "fb7cc777-5521-402c-fde2-7dd2887f0e88"
      },
      "outputs": [
        {
          "data": {
            "text/html": [
              "<span class=\"tex2jax_ignore\"><div class=\"entities\" style=\"line-height: 2.5; direction: ltr\">\n",
              "<mark class=\"entity\" style=\"background: #feca74; padding: 0.45em 0.6em; margin: 0 0.25em; line-height: 1; border-radius: 0.35em;\">\n",
              "    NEW YORK\n",
              "    <span style=\"font-size: 0.8em; font-weight: bold; line-height: 1; border-radius: 0.35em; text-transform: uppercase; vertical-align: middle; margin-left: 0.5rem\">GPE</span>\n",
              "</mark>\n",
              " -- Yields on most certificates of deposit offered by major banks dropped \n",
              "<mark class=\"entity\" style=\"background: #e4e7d2; padding: 0.45em 0.6em; margin: 0 0.25em; line-height: 1; border-radius: 0.35em;\">\n",
              "    more than a tenth\n",
              "    <span style=\"font-size: 0.8em; font-weight: bold; line-height: 1; border-radius: 0.35em; text-transform: uppercase; vertical-align: middle; margin-left: 0.5rem\">CARDINAL</span>\n",
              "</mark>\n",
              " of a percentage point in \n",
              "<mark class=\"entity\" style=\"background: #bfe1d9; padding: 0.45em 0.6em; margin: 0 0.25em; line-height: 1; border-radius: 0.35em;\">\n",
              "    the latest week\n",
              "    <span style=\"font-size: 0.8em; font-weight: bold; line-height: 1; border-radius: 0.35em; text-transform: uppercase; vertical-align: middle; margin-left: 0.5rem\">DATE</span>\n",
              "</mark>\n",
              ", reflecting the overall decline in short-term interest rates.On small-denomination, or &quot;consumer,&quot; CDs sold directly by banks, the average yield on \n",
              "<mark class=\"entity\" style=\"background: #bfe1d9; padding: 0.45em 0.6em; margin: 0 0.25em; line-height: 1; border-radius: 0.35em;\">\n",
              "    six-month\n",
              "    <span style=\"font-size: 0.8em; font-weight: bold; line-height: 1; border-radius: 0.35em; text-transform: uppercase; vertical-align: middle; margin-left: 0.5rem\">DATE</span>\n",
              "</mark>\n",
              " deposits fell to \n",
              "<mark class=\"entity\" style=\"background: #e4e7d2; padding: 0.45em 0.6em; margin: 0 0.25em; line-height: 1; border-radius: 0.35em;\">\n",
              "    5.49%\n",
              "    <span style=\"font-size: 0.8em; font-weight: bold; line-height: 1; border-radius: 0.35em; text-transform: uppercase; vertical-align: middle; margin-left: 0.5rem\">PERCENT</span>\n",
              "</mark>\n",
              " from \n",
              "<mark class=\"entity\" style=\"background: #e4e7d2; padding: 0.45em 0.6em; margin: 0 0.25em; line-height: 1; border-radius: 0.35em;\">\n",
              "    5.62%\n",
              "    <span style=\"font-size: 0.8em; font-weight: bold; line-height: 1; border-radius: 0.35em; text-transform: uppercase; vertical-align: middle; margin-left: 0.5rem\">PERCENT</span>\n",
              "</mark>\n",
              " in \n",
              "<mark class=\"entity\" style=\"background: #bfe1d9; padding: 0.45em 0.6em; margin: 0 0.25em; line-height: 1; border-radius: 0.35em;\">\n",
              "    the week ended yesterday\n",
              "    <span style=\"font-size: 0.8em; font-weight: bold; line-height: 1; border-radius: 0.35em; text-transform: uppercase; vertical-align: middle; margin-left: 0.5rem\">DATE</span>\n",
              "</mark>\n",
              ", according to an 18-bank survey by \n",
              "<mark class=\"entity\" style=\"background: #7aecec; padding: 0.45em 0.6em; margin: 0 0.25em; line-height: 1; border-radius: 0.35em;\">\n",
              "    Banxquote Money Markets\n",
              "    <span style=\"font-size: 0.8em; font-weight: bold; line-height: 1; border-radius: 0.35em; text-transform: uppercase; vertical-align: middle; margin-left: 0.5rem\">ORG</span>\n",
              "</mark>\n",
              ", a \n",
              "<mark class=\"entity\" style=\"background: #feca74; padding: 0.45em 0.6em; margin: 0 0.25em; line-height: 1; border-radius: 0.35em;\">\n",
              "    Wilmington\n",
              "    <span style=\"font-size: 0.8em; font-weight: bold; line-height: 1; border-radius: 0.35em; text-transform: uppercase; vertical-align: middle; margin-left: 0.5rem\">GPE</span>\n",
              "</mark>\n",
              ", \n",
              "<mark class=\"entity\" style=\"background: #feca74; padding: 0.45em 0.6em; margin: 0 0.25em; line-height: 1; border-radius: 0.35em;\">\n",
              "    Del.\n",
              "    <span style=\"font-size: 0.8em; font-weight: bold; line-height: 1; border-radius: 0.35em; text-transform: uppercase; vertical-align: middle; margin-left: 0.5rem\">GPE</span>\n",
              "</mark>\n",
              ", information service.On \n",
              "<mark class=\"entity\" style=\"background: #bfe1d9; padding: 0.45em 0.6em; margin: 0 0.25em; line-height: 1; border-radius: 0.35em;\">\n",
              "    three-month\n",
              "    <span style=\"font-size: 0.8em; font-weight: bold; line-height: 1; border-radius: 0.35em; text-transform: uppercase; vertical-align: middle; margin-left: 0.5rem\">DATE</span>\n",
              "</mark>\n",
              " &quot;consumer&quot; deposits, the average yield sank to \n",
              "<mark class=\"entity\" style=\"background: #e4e7d2; padding: 0.45em 0.6em; margin: 0 0.25em; line-height: 1; border-radius: 0.35em;\">\n",
              "    5.29%\n",
              "    <span style=\"font-size: 0.8em; font-weight: bold; line-height: 1; border-radius: 0.35em; text-transform: uppercase; vertical-align: middle; margin-left: 0.5rem\">PERCENT</span>\n",
              "</mark>\n",
              " from \n",
              "<mark class=\"entity\" style=\"background: #e4e7d2; padding: 0.45em 0.6em; margin: 0 0.25em; line-height: 1; border-radius: 0.35em;\">\n",
              "    5.42%\n",
              "    <span style=\"font-size: 0.8em; font-weight: bold; line-height: 1; border-radius: 0.35em; text-transform: uppercase; vertical-align: middle; margin-left: 0.5rem\">PERCENT</span>\n",
              "</mark>\n",
              " \n",
              "<mark class=\"entity\" style=\"background: #bfe1d9; padding: 0.45em 0.6em; margin: 0 0.25em; line-height: 1; border-radius: 0.35em;\">\n",
              "    the week before\n",
              "    <span style=\"font-size: 0.8em; font-weight: bold; line-height: 1; border-radius: 0.35em; text-transform: uppercase; vertical-align: middle; margin-left: 0.5rem\">DATE</span>\n",
              "</mark>\n",
              ", according to \n",
              "<mark class=\"entity\" style=\"background: #7aecec; padding: 0.45em 0.6em; margin: 0 0.25em; line-height: 1; border-radius: 0.35em;\">\n",
              "    Banxquote\n",
              "    <span style=\"font-size: 0.8em; font-weight: bold; line-height: 1; border-radius: 0.35em; text-transform: uppercase; vertical-align: middle; margin-left: 0.5rem\">ORG</span>\n",
              "</mark>\n",
              ". \n",
              "<mark class=\"entity\" style=\"background: #e4e7d2; padding: 0.45em 0.6em; margin: 0 0.25em; line-height: 1; border-radius: 0.35em;\">\n",
              "    Two\n",
              "    <span style=\"font-size: 0.8em; font-weight: bold; line-height: 1; border-radius: 0.35em; text-transform: uppercase; vertical-align: middle; margin-left: 0.5rem\">CARDINAL</span>\n",
              "</mark>\n",
              " banks in the \n",
              "<mark class=\"entity\" style=\"background: #7aecec; padding: 0.45em 0.6em; margin: 0 0.25em; line-height: 1; border-radius: 0.35em;\">\n",
              "    Banxquote\n",
              "    <span style=\"font-size: 0.8em; font-weight: bold; line-height: 1; border-radius: 0.35em; text-transform: uppercase; vertical-align: middle; margin-left: 0.5rem\">ORG</span>\n",
              "</mark>\n",
              " survey, \n",
              "<mark class=\"entity\" style=\"background: #7aecec; padding: 0.45em 0.6em; margin: 0 0.25em; line-height: 1; border-radius: 0.35em;\">\n",
              "    Citibank\n",
              "    <span style=\"font-size: 0.8em; font-weight: bold; line-height: 1; border-radius: 0.35em; text-transform: uppercase; vertical-align: middle; margin-left: 0.5rem\">ORG</span>\n",
              "</mark>\n",
              " in \n",
              "<mark class=\"entity\" style=\"background: #feca74; padding: 0.45em 0.6em; margin: 0 0.25em; line-height: 1; border-radius: 0.35em;\">\n",
              "    New York\n",
              "    <span style=\"font-size: 0.8em; font-weight: bold; line-height: 1; border-radius: 0.35em; text-transform: uppercase; vertical-align: middle; margin-left: 0.5rem\">GPE</span>\n",
              "</mark>\n",
              " and \n",
              "<mark class=\"entity\" style=\"background: #feca74; padding: 0.45em 0.6em; margin: 0 0.25em; line-height: 1; border-radius: 0.35em;\">\n",
              "    CoreStates\n",
              "    <span style=\"font-size: 0.8em; font-weight: bold; line-height: 1; border-radius: 0.35em; text-transform: uppercase; vertical-align: middle; margin-left: 0.5rem\">GPE</span>\n",
              "</mark>\n",
              " in \n",
              "<mark class=\"entity\" style=\"background: #feca74; padding: 0.45em 0.6em; margin: 0 0.25em; line-height: 1; border-radius: 0.35em;\">\n",
              "    Pennsylvania\n",
              "    <span style=\"font-size: 0.8em; font-weight: bold; line-height: 1; border-radius: 0.35em; text-transform: uppercase; vertical-align: middle; margin-left: 0.5rem\">GPE</span>\n",
              "</mark>\n",
              ", are paying \n",
              "<mark class=\"entity\" style=\"background: #e4e7d2; padding: 0.45em 0.6em; margin: 0 0.25em; line-height: 1; border-radius: 0.35em;\">\n",
              "    less than 5%\n",
              "    <span style=\"font-size: 0.8em; font-weight: bold; line-height: 1; border-radius: 0.35em; text-transform: uppercase; vertical-align: middle; margin-left: 0.5rem\">PERCENT</span>\n",
              "</mark>\n",
              " on \n",
              "<mark class=\"entity\" style=\"background: #bfe1d9; padding: 0.45em 0.6em; margin: 0 0.25em; line-height: 1; border-radius: 0.35em;\">\n",
              "    threemonth\n",
              "    <span style=\"font-size: 0.8em; font-weight: bold; line-height: 1; border-radius: 0.35em; text-transform: uppercase; vertical-align: middle; margin-left: 0.5rem\">DATE</span>\n",
              "</mark>\n",
              " small-denomination CDs.Declines were somewhat smaller on \n",
              "<mark class=\"entity\" style=\"background: #bfe1d9; padding: 0.45em 0.6em; margin: 0 0.25em; line-height: 1; border-radius: 0.35em;\">\n",
              "    five-year\n",
              "    <span style=\"font-size: 0.8em; font-weight: bold; line-height: 1; border-radius: 0.35em; text-transform: uppercase; vertical-align: middle; margin-left: 0.5rem\">DATE</span>\n",
              "</mark>\n",
              " consumer CDs, which eased to \n",
              "<mark class=\"entity\" style=\"background: #e4e7d2; padding: 0.45em 0.6em; margin: 0 0.25em; line-height: 1; border-radius: 0.35em;\">\n",
              "    7.37%\n",
              "    <span style=\"font-size: 0.8em; font-weight: bold; line-height: 1; border-radius: 0.35em; text-transform: uppercase; vertical-align: middle; margin-left: 0.5rem\">PERCENT</span>\n",
              "</mark>\n",
              " from \n",
              "<mark class=\"entity\" style=\"background: #e4e7d2; padding: 0.45em 0.6em; margin: 0 0.25em; line-height: 1; border-radius: 0.35em;\">\n",
              "    7.45%\n",
              "    <span style=\"font-size: 0.8em; font-weight: bold; line-height: 1; border-radius: 0.35em; text-transform: uppercase; vertical-align: middle; margin-left: 0.5rem\">PERCENT</span>\n",
              "</mark>\n",
              ", \n",
              "<mark class=\"entity\" style=\"background: #7aecec; padding: 0.45em 0.6em; margin: 0 0.25em; line-height: 1; border-radius: 0.35em;\">\n",
              "    Banxquote\n",
              "    <span style=\"font-size: 0.8em; font-weight: bold; line-height: 1; border-radius: 0.35em; text-transform: uppercase; vertical-align: middle; margin-left: 0.5rem\">ORG</span>\n",
              "</mark>\n",
              " said.Yields on \n",
              "<mark class=\"entity\" style=\"background: #bfe1d9; padding: 0.45em 0.6em; margin: 0 0.25em; line-height: 1; border-radius: 0.35em;\">\n",
              "    three-month\n",
              "    <span style=\"font-size: 0.8em; font-weight: bold; line-height: 1; border-radius: 0.35em; text-transform: uppercase; vertical-align: middle; margin-left: 0.5rem\">DATE</span>\n",
              "</mark>\n",
              " and \n",
              "<mark class=\"entity\" style=\"background: #bfe1d9; padding: 0.45em 0.6em; margin: 0 0.25em; line-height: 1; border-radius: 0.35em;\">\n",
              "    six-month\n",
              "    <span style=\"font-size: 0.8em; font-weight: bold; line-height: 1; border-radius: 0.35em; text-transform: uppercase; vertical-align: middle; margin-left: 0.5rem\">DATE</span>\n",
              "</mark>\n",
              " \n",
              "<mark class=\"entity\" style=\"background: #7aecec; padding: 0.45em 0.6em; margin: 0 0.25em; line-height: 1; border-radius: 0.35em;\">\n",
              "    Treasury\n",
              "    <span style=\"font-size: 0.8em; font-weight: bold; line-height: 1; border-radius: 0.35em; text-transform: uppercase; vertical-align: middle; margin-left: 0.5rem\">ORG</span>\n",
              "</mark>\n",
              " bills sold at \n",
              "<mark class=\"entity\" style=\"background: #bfe1d9; padding: 0.45em 0.6em; margin: 0 0.25em; line-height: 1; border-radius: 0.35em;\">\n",
              "    Monday\n",
              "    <span style=\"font-size: 0.8em; font-weight: bold; line-height: 1; border-radius: 0.35em; text-transform: uppercase; vertical-align: middle; margin-left: 0.5rem\">DATE</span>\n",
              "</mark>\n",
              "'s auction plummeted \n",
              "<mark class=\"entity\" style=\"background: #e4e7d2; padding: 0.45em 0.6em; margin: 0 0.25em; line-height: 1; border-radius: 0.35em;\">\n",
              "    more than a fifth\n",
              "    <span style=\"font-size: 0.8em; font-weight: bold; line-height: 1; border-radius: 0.35em; text-transform: uppercase; vertical-align: middle; margin-left: 0.5rem\">CARDINAL</span>\n",
              "</mark>\n",
              " of a percentage point from \n",
              "<mark class=\"entity\" style=\"background: #bfe1d9; padding: 0.45em 0.6em; margin: 0 0.25em; line-height: 1; border-radius: 0.35em;\">\n",
              "    the previous week\n",
              "    <span style=\"font-size: 0.8em; font-weight: bold; line-height: 1; border-radius: 0.35em; text-transform: uppercase; vertical-align: middle; margin-left: 0.5rem\">DATE</span>\n",
              "</mark>\n",
              ", to \n",
              "<mark class=\"entity\" style=\"background: #e4e7d2; padding: 0.45em 0.6em; margin: 0 0.25em; line-height: 1; border-radius: 0.35em;\">\n",
              "    5.46%\n",
              "    <span style=\"font-size: 0.8em; font-weight: bold; line-height: 1; border-radius: 0.35em; text-transform: uppercase; vertical-align: middle; margin-left: 0.5rem\">PERCENT</span>\n",
              "</mark>\n",
              " and \n",
              "<mark class=\"entity\" style=\"background: #e4e7d2; padding: 0.45em 0.6em; margin: 0 0.25em; line-height: 1; border-radius: 0.35em;\">\n",
              "    5.63%\n",
              "    <span style=\"font-size: 0.8em; font-weight: bold; line-height: 1; border-radius: 0.35em; text-transform: uppercase; vertical-align: middle; margin-left: 0.5rem\">PERCENT</span>\n",
              "</mark>\n",
              ", respectively.</div></span>"
            ],
            "text/plain": [
              "<IPython.core.display.HTML object>"
            ]
          },
          "metadata": {},
          "output_type": "display_data"
        }
      ],
      "source": [
        "displacy.render(docs[0], style='ent', jupyter=True)"
      ]
    },
    {
      "cell_type": "code",
      "execution_count": null,
      "metadata": {
        "colab": {
          "base_uri": "https://localhost:8080/",
          "height": 778
        },
        "id": "zBSxrJRFmhzW",
        "outputId": "90856f28-da91-42f8-a18b-f641c422671d"
      },
      "outputs": [
        {
          "data": {
            "text/html": [
              "<span class=\"tex2jax_ignore\"><svg xmlns=\"http://www.w3.org/2000/svg\" xmlns:xlink=\"http://www.w3.org/1999/xlink\" xml:lang=\"en\" id=\"d05150fa85af4387a6077faa4b6b4cb5-0\" class=\"displacy\" width=\"13410\" height=\"737.0\" direction=\"ltr\" style=\"max-width: none; height: 737.0px; color: #000000; background: #ffffff; font-family: Arial; direction: ltr\">\n",
              "<text class=\"displacy-token\" fill=\"currentColor\" text-anchor=\"middle\" y=\"647.0\">\n",
              "    <tspan class=\"displacy-word\" fill=\"currentColor\" x=\"50\">NEW</tspan>\n",
              "    <tspan class=\"displacy-tag\" dy=\"2em\" fill=\"currentColor\" x=\"50\">PROPN</tspan>\n",
              "</text>\n",
              "\n",
              "<text class=\"displacy-token\" fill=\"currentColor\" text-anchor=\"middle\" y=\"647.0\">\n",
              "    <tspan class=\"displacy-word\" fill=\"currentColor\" x=\"130\">YORK --</tspan>\n",
              "    <tspan class=\"displacy-tag\" dy=\"2em\" fill=\"currentColor\" x=\"130\">PROPN</tspan>\n",
              "</text>\n",
              "\n",
              "<text class=\"displacy-token\" fill=\"currentColor\" text-anchor=\"middle\" y=\"647.0\">\n",
              "    <tspan class=\"displacy-word\" fill=\"currentColor\" x=\"210\">Yields</tspan>\n",
              "    <tspan class=\"displacy-tag\" dy=\"2em\" fill=\"currentColor\" x=\"210\">NOUN</tspan>\n",
              "</text>\n",
              "\n",
              "<text class=\"displacy-token\" fill=\"currentColor\" text-anchor=\"middle\" y=\"647.0\">\n",
              "    <tspan class=\"displacy-word\" fill=\"currentColor\" x=\"290\">on</tspan>\n",
              "    <tspan class=\"displacy-tag\" dy=\"2em\" fill=\"currentColor\" x=\"290\">ADP</tspan>\n",
              "</text>\n",
              "\n",
              "<text class=\"displacy-token\" fill=\"currentColor\" text-anchor=\"middle\" y=\"647.0\">\n",
              "    <tspan class=\"displacy-word\" fill=\"currentColor\" x=\"370\">most</tspan>\n",
              "    <tspan class=\"displacy-tag\" dy=\"2em\" fill=\"currentColor\" x=\"370\">ADJ</tspan>\n",
              "</text>\n",
              "\n",
              "<text class=\"displacy-token\" fill=\"currentColor\" text-anchor=\"middle\" y=\"647.0\">\n",
              "    <tspan class=\"displacy-word\" fill=\"currentColor\" x=\"450\">certificates</tspan>\n",
              "    <tspan class=\"displacy-tag\" dy=\"2em\" fill=\"currentColor\" x=\"450\">NOUN</tspan>\n",
              "</text>\n",
              "\n",
              "<text class=\"displacy-token\" fill=\"currentColor\" text-anchor=\"middle\" y=\"647.0\">\n",
              "    <tspan class=\"displacy-word\" fill=\"currentColor\" x=\"530\">of</tspan>\n",
              "    <tspan class=\"displacy-tag\" dy=\"2em\" fill=\"currentColor\" x=\"530\">ADP</tspan>\n",
              "</text>\n",
              "\n",
              "<text class=\"displacy-token\" fill=\"currentColor\" text-anchor=\"middle\" y=\"647.0\">\n",
              "    <tspan class=\"displacy-word\" fill=\"currentColor\" x=\"610\">deposit</tspan>\n",
              "    <tspan class=\"displacy-tag\" dy=\"2em\" fill=\"currentColor\" x=\"610\">NOUN</tspan>\n",
              "</text>\n",
              "\n",
              "<text class=\"displacy-token\" fill=\"currentColor\" text-anchor=\"middle\" y=\"647.0\">\n",
              "    <tspan class=\"displacy-word\" fill=\"currentColor\" x=\"690\">offered</tspan>\n",
              "    <tspan class=\"displacy-tag\" dy=\"2em\" fill=\"currentColor\" x=\"690\">VERB</tspan>\n",
              "</text>\n",
              "\n",
              "<text class=\"displacy-token\" fill=\"currentColor\" text-anchor=\"middle\" y=\"647.0\">\n",
              "    <tspan class=\"displacy-word\" fill=\"currentColor\" x=\"770\">by</tspan>\n",
              "    <tspan class=\"displacy-tag\" dy=\"2em\" fill=\"currentColor\" x=\"770\">ADP</tspan>\n",
              "</text>\n",
              "\n",
              "<text class=\"displacy-token\" fill=\"currentColor\" text-anchor=\"middle\" y=\"647.0\">\n",
              "    <tspan class=\"displacy-word\" fill=\"currentColor\" x=\"850\">major</tspan>\n",
              "    <tspan class=\"displacy-tag\" dy=\"2em\" fill=\"currentColor\" x=\"850\">ADJ</tspan>\n",
              "</text>\n",
              "\n",
              "<text class=\"displacy-token\" fill=\"currentColor\" text-anchor=\"middle\" y=\"647.0\">\n",
              "    <tspan class=\"displacy-word\" fill=\"currentColor\" x=\"930\">banks</tspan>\n",
              "    <tspan class=\"displacy-tag\" dy=\"2em\" fill=\"currentColor\" x=\"930\">NOUN</tspan>\n",
              "</text>\n",
              "\n",
              "<text class=\"displacy-token\" fill=\"currentColor\" text-anchor=\"middle\" y=\"647.0\">\n",
              "    <tspan class=\"displacy-word\" fill=\"currentColor\" x=\"1010\">dropped</tspan>\n",
              "    <tspan class=\"displacy-tag\" dy=\"2em\" fill=\"currentColor\" x=\"1010\">VERB</tspan>\n",
              "</text>\n",
              "\n",
              "<text class=\"displacy-token\" fill=\"currentColor\" text-anchor=\"middle\" y=\"647.0\">\n",
              "    <tspan class=\"displacy-word\" fill=\"currentColor\" x=\"1090\">more</tspan>\n",
              "    <tspan class=\"displacy-tag\" dy=\"2em\" fill=\"currentColor\" x=\"1090\">ADJ</tspan>\n",
              "</text>\n",
              "\n",
              "<text class=\"displacy-token\" fill=\"currentColor\" text-anchor=\"middle\" y=\"647.0\">\n",
              "    <tspan class=\"displacy-word\" fill=\"currentColor\" x=\"1170\">than</tspan>\n",
              "    <tspan class=\"displacy-tag\" dy=\"2em\" fill=\"currentColor\" x=\"1170\">SCONJ</tspan>\n",
              "</text>\n",
              "\n",
              "<text class=\"displacy-token\" fill=\"currentColor\" text-anchor=\"middle\" y=\"647.0\">\n",
              "    <tspan class=\"displacy-word\" fill=\"currentColor\" x=\"1250\">a</tspan>\n",
              "    <tspan class=\"displacy-tag\" dy=\"2em\" fill=\"currentColor\" x=\"1250\">DET</tspan>\n",
              "</text>\n",
              "\n",
              "<text class=\"displacy-token\" fill=\"currentColor\" text-anchor=\"middle\" y=\"647.0\">\n",
              "    <tspan class=\"displacy-word\" fill=\"currentColor\" x=\"1330\">tenth</tspan>\n",
              "    <tspan class=\"displacy-tag\" dy=\"2em\" fill=\"currentColor\" x=\"1330\">NOUN</tspan>\n",
              "</text>\n",
              "\n",
              "<text class=\"displacy-token\" fill=\"currentColor\" text-anchor=\"middle\" y=\"647.0\">\n",
              "    <tspan class=\"displacy-word\" fill=\"currentColor\" x=\"1410\">of</tspan>\n",
              "    <tspan class=\"displacy-tag\" dy=\"2em\" fill=\"currentColor\" x=\"1410\">ADP</tspan>\n",
              "</text>\n",
              "\n",
              "<text class=\"displacy-token\" fill=\"currentColor\" text-anchor=\"middle\" y=\"647.0\">\n",
              "    <tspan class=\"displacy-word\" fill=\"currentColor\" x=\"1490\">a</tspan>\n",
              "    <tspan class=\"displacy-tag\" dy=\"2em\" fill=\"currentColor\" x=\"1490\">DET</tspan>\n",
              "</text>\n",
              "\n",
              "<text class=\"displacy-token\" fill=\"currentColor\" text-anchor=\"middle\" y=\"647.0\">\n",
              "    <tspan class=\"displacy-word\" fill=\"currentColor\" x=\"1570\">percentage</tspan>\n",
              "    <tspan class=\"displacy-tag\" dy=\"2em\" fill=\"currentColor\" x=\"1570\">NOUN</tspan>\n",
              "</text>\n",
              "\n",
              "<text class=\"displacy-token\" fill=\"currentColor\" text-anchor=\"middle\" y=\"647.0\">\n",
              "    <tspan class=\"displacy-word\" fill=\"currentColor\" x=\"1650\">point</tspan>\n",
              "    <tspan class=\"displacy-tag\" dy=\"2em\" fill=\"currentColor\" x=\"1650\">NOUN</tspan>\n",
              "</text>\n",
              "\n",
              "<text class=\"displacy-token\" fill=\"currentColor\" text-anchor=\"middle\" y=\"647.0\">\n",
              "    <tspan class=\"displacy-word\" fill=\"currentColor\" x=\"1730\">in</tspan>\n",
              "    <tspan class=\"displacy-tag\" dy=\"2em\" fill=\"currentColor\" x=\"1730\">ADP</tspan>\n",
              "</text>\n",
              "\n",
              "<text class=\"displacy-token\" fill=\"currentColor\" text-anchor=\"middle\" y=\"647.0\">\n",
              "    <tspan class=\"displacy-word\" fill=\"currentColor\" x=\"1810\">the</tspan>\n",
              "    <tspan class=\"displacy-tag\" dy=\"2em\" fill=\"currentColor\" x=\"1810\">DET</tspan>\n",
              "</text>\n",
              "\n",
              "<text class=\"displacy-token\" fill=\"currentColor\" text-anchor=\"middle\" y=\"647.0\">\n",
              "    <tspan class=\"displacy-word\" fill=\"currentColor\" x=\"1890\">latest</tspan>\n",
              "    <tspan class=\"displacy-tag\" dy=\"2em\" fill=\"currentColor\" x=\"1890\">ADJ</tspan>\n",
              "</text>\n",
              "\n",
              "<text class=\"displacy-token\" fill=\"currentColor\" text-anchor=\"middle\" y=\"647.0\">\n",
              "    <tspan class=\"displacy-word\" fill=\"currentColor\" x=\"1970\">week,</tspan>\n",
              "    <tspan class=\"displacy-tag\" dy=\"2em\" fill=\"currentColor\" x=\"1970\">NOUN</tspan>\n",
              "</text>\n",
              "\n",
              "<text class=\"displacy-token\" fill=\"currentColor\" text-anchor=\"middle\" y=\"647.0\">\n",
              "    <tspan class=\"displacy-word\" fill=\"currentColor\" x=\"2050\">reflecting</tspan>\n",
              "    <tspan class=\"displacy-tag\" dy=\"2em\" fill=\"currentColor\" x=\"2050\">VERB</tspan>\n",
              "</text>\n",
              "\n",
              "<text class=\"displacy-token\" fill=\"currentColor\" text-anchor=\"middle\" y=\"647.0\">\n",
              "    <tspan class=\"displacy-word\" fill=\"currentColor\" x=\"2130\">the</tspan>\n",
              "    <tspan class=\"displacy-tag\" dy=\"2em\" fill=\"currentColor\" x=\"2130\">DET</tspan>\n",
              "</text>\n",
              "\n",
              "<text class=\"displacy-token\" fill=\"currentColor\" text-anchor=\"middle\" y=\"647.0\">\n",
              "    <tspan class=\"displacy-word\" fill=\"currentColor\" x=\"2210\">overall</tspan>\n",
              "    <tspan class=\"displacy-tag\" dy=\"2em\" fill=\"currentColor\" x=\"2210\">ADJ</tspan>\n",
              "</text>\n",
              "\n",
              "<text class=\"displacy-token\" fill=\"currentColor\" text-anchor=\"middle\" y=\"647.0\">\n",
              "    <tspan class=\"displacy-word\" fill=\"currentColor\" x=\"2290\">decline</tspan>\n",
              "    <tspan class=\"displacy-tag\" dy=\"2em\" fill=\"currentColor\" x=\"2290\">NOUN</tspan>\n",
              "</text>\n",
              "\n",
              "<text class=\"displacy-token\" fill=\"currentColor\" text-anchor=\"middle\" y=\"647.0\">\n",
              "    <tspan class=\"displacy-word\" fill=\"currentColor\" x=\"2370\">in</tspan>\n",
              "    <tspan class=\"displacy-tag\" dy=\"2em\" fill=\"currentColor\" x=\"2370\">ADP</tspan>\n",
              "</text>\n",
              "\n",
              "<text class=\"displacy-token\" fill=\"currentColor\" text-anchor=\"middle\" y=\"647.0\">\n",
              "    <tspan class=\"displacy-word\" fill=\"currentColor\" x=\"2450\">short-</tspan>\n",
              "    <tspan class=\"displacy-tag\" dy=\"2em\" fill=\"currentColor\" x=\"2450\">ADJ</tspan>\n",
              "</text>\n",
              "\n",
              "<text class=\"displacy-token\" fill=\"currentColor\" text-anchor=\"middle\" y=\"647.0\">\n",
              "    <tspan class=\"displacy-word\" fill=\"currentColor\" x=\"2530\">term</tspan>\n",
              "    <tspan class=\"displacy-tag\" dy=\"2em\" fill=\"currentColor\" x=\"2530\">NOUN</tspan>\n",
              "</text>\n",
              "\n",
              "<text class=\"displacy-token\" fill=\"currentColor\" text-anchor=\"middle\" y=\"647.0\">\n",
              "    <tspan class=\"displacy-word\" fill=\"currentColor\" x=\"2610\">interest</tspan>\n",
              "    <tspan class=\"displacy-tag\" dy=\"2em\" fill=\"currentColor\" x=\"2610\">NOUN</tspan>\n",
              "</text>\n",
              "\n",
              "<text class=\"displacy-token\" fill=\"currentColor\" text-anchor=\"middle\" y=\"647.0\">\n",
              "    <tspan class=\"displacy-word\" fill=\"currentColor\" x=\"2690\">rates.</tspan>\n",
              "    <tspan class=\"displacy-tag\" dy=\"2em\" fill=\"currentColor\" x=\"2690\">NOUN</tspan>\n",
              "</text>\n",
              "\n",
              "<text class=\"displacy-token\" fill=\"currentColor\" text-anchor=\"middle\" y=\"647.0\">\n",
              "    <tspan class=\"displacy-word\" fill=\"currentColor\" x=\"2770\">On</tspan>\n",
              "    <tspan class=\"displacy-tag\" dy=\"2em\" fill=\"currentColor\" x=\"2770\">ADP</tspan>\n",
              "</text>\n",
              "\n",
              "<text class=\"displacy-token\" fill=\"currentColor\" text-anchor=\"middle\" y=\"647.0\">\n",
              "    <tspan class=\"displacy-word\" fill=\"currentColor\" x=\"2850\">small-</tspan>\n",
              "    <tspan class=\"displacy-tag\" dy=\"2em\" fill=\"currentColor\" x=\"2850\">ADJ</tspan>\n",
              "</text>\n",
              "\n",
              "<text class=\"displacy-token\" fill=\"currentColor\" text-anchor=\"middle\" y=\"647.0\">\n",
              "    <tspan class=\"displacy-word\" fill=\"currentColor\" x=\"2930\">denomination,</tspan>\n",
              "    <tspan class=\"displacy-tag\" dy=\"2em\" fill=\"currentColor\" x=\"2930\">NOUN</tspan>\n",
              "</text>\n",
              "\n",
              "<text class=\"displacy-token\" fill=\"currentColor\" text-anchor=\"middle\" y=\"647.0\">\n",
              "    <tspan class=\"displacy-word\" fill=\"currentColor\" x=\"3010\">or &quot;</tspan>\n",
              "    <tspan class=\"displacy-tag\" dy=\"2em\" fill=\"currentColor\" x=\"3010\">CCONJ</tspan>\n",
              "</text>\n",
              "\n",
              "<text class=\"displacy-token\" fill=\"currentColor\" text-anchor=\"middle\" y=\"647.0\">\n",
              "    <tspan class=\"displacy-word\" fill=\"currentColor\" x=\"3090\">consumer,&quot;</tspan>\n",
              "    <tspan class=\"displacy-tag\" dy=\"2em\" fill=\"currentColor\" x=\"3090\">NOUN</tspan>\n",
              "</text>\n",
              "\n",
              "<text class=\"displacy-token\" fill=\"currentColor\" text-anchor=\"middle\" y=\"647.0\">\n",
              "    <tspan class=\"displacy-word\" fill=\"currentColor\" x=\"3170\">CDs</tspan>\n",
              "    <tspan class=\"displacy-tag\" dy=\"2em\" fill=\"currentColor\" x=\"3170\">NOUN</tspan>\n",
              "</text>\n",
              "\n",
              "<text class=\"displacy-token\" fill=\"currentColor\" text-anchor=\"middle\" y=\"647.0\">\n",
              "    <tspan class=\"displacy-word\" fill=\"currentColor\" x=\"3250\">sold</tspan>\n",
              "    <tspan class=\"displacy-tag\" dy=\"2em\" fill=\"currentColor\" x=\"3250\">VERB</tspan>\n",
              "</text>\n",
              "\n",
              "<text class=\"displacy-token\" fill=\"currentColor\" text-anchor=\"middle\" y=\"647.0\">\n",
              "    <tspan class=\"displacy-word\" fill=\"currentColor\" x=\"3330\">directly</tspan>\n",
              "    <tspan class=\"displacy-tag\" dy=\"2em\" fill=\"currentColor\" x=\"3330\">ADV</tspan>\n",
              "</text>\n",
              "\n",
              "<text class=\"displacy-token\" fill=\"currentColor\" text-anchor=\"middle\" y=\"647.0\">\n",
              "    <tspan class=\"displacy-word\" fill=\"currentColor\" x=\"3410\">by</tspan>\n",
              "    <tspan class=\"displacy-tag\" dy=\"2em\" fill=\"currentColor\" x=\"3410\">ADP</tspan>\n",
              "</text>\n",
              "\n",
              "<text class=\"displacy-token\" fill=\"currentColor\" text-anchor=\"middle\" y=\"647.0\">\n",
              "    <tspan class=\"displacy-word\" fill=\"currentColor\" x=\"3490\">banks,</tspan>\n",
              "    <tspan class=\"displacy-tag\" dy=\"2em\" fill=\"currentColor\" x=\"3490\">NOUN</tspan>\n",
              "</text>\n",
              "\n",
              "<text class=\"displacy-token\" fill=\"currentColor\" text-anchor=\"middle\" y=\"647.0\">\n",
              "    <tspan class=\"displacy-word\" fill=\"currentColor\" x=\"3570\">the</tspan>\n",
              "    <tspan class=\"displacy-tag\" dy=\"2em\" fill=\"currentColor\" x=\"3570\">DET</tspan>\n",
              "</text>\n",
              "\n",
              "<text class=\"displacy-token\" fill=\"currentColor\" text-anchor=\"middle\" y=\"647.0\">\n",
              "    <tspan class=\"displacy-word\" fill=\"currentColor\" x=\"3650\">average</tspan>\n",
              "    <tspan class=\"displacy-tag\" dy=\"2em\" fill=\"currentColor\" x=\"3650\">ADJ</tspan>\n",
              "</text>\n",
              "\n",
              "<text class=\"displacy-token\" fill=\"currentColor\" text-anchor=\"middle\" y=\"647.0\">\n",
              "    <tspan class=\"displacy-word\" fill=\"currentColor\" x=\"3730\">yield</tspan>\n",
              "    <tspan class=\"displacy-tag\" dy=\"2em\" fill=\"currentColor\" x=\"3730\">NOUN</tspan>\n",
              "</text>\n",
              "\n",
              "<text class=\"displacy-token\" fill=\"currentColor\" text-anchor=\"middle\" y=\"647.0\">\n",
              "    <tspan class=\"displacy-word\" fill=\"currentColor\" x=\"3810\">on</tspan>\n",
              "    <tspan class=\"displacy-tag\" dy=\"2em\" fill=\"currentColor\" x=\"3810\">ADP</tspan>\n",
              "</text>\n",
              "\n",
              "<text class=\"displacy-token\" fill=\"currentColor\" text-anchor=\"middle\" y=\"647.0\">\n",
              "    <tspan class=\"displacy-word\" fill=\"currentColor\" x=\"3890\">six-</tspan>\n",
              "    <tspan class=\"displacy-tag\" dy=\"2em\" fill=\"currentColor\" x=\"3890\">NUM</tspan>\n",
              "</text>\n",
              "\n",
              "<text class=\"displacy-token\" fill=\"currentColor\" text-anchor=\"middle\" y=\"647.0\">\n",
              "    <tspan class=\"displacy-word\" fill=\"currentColor\" x=\"3970\">month</tspan>\n",
              "    <tspan class=\"displacy-tag\" dy=\"2em\" fill=\"currentColor\" x=\"3970\">NOUN</tspan>\n",
              "</text>\n",
              "\n",
              "<text class=\"displacy-token\" fill=\"currentColor\" text-anchor=\"middle\" y=\"647.0\">\n",
              "    <tspan class=\"displacy-word\" fill=\"currentColor\" x=\"4050\">deposits</tspan>\n",
              "    <tspan class=\"displacy-tag\" dy=\"2em\" fill=\"currentColor\" x=\"4050\">NOUN</tspan>\n",
              "</text>\n",
              "\n",
              "<text class=\"displacy-token\" fill=\"currentColor\" text-anchor=\"middle\" y=\"647.0\">\n",
              "    <tspan class=\"displacy-word\" fill=\"currentColor\" x=\"4130\">fell</tspan>\n",
              "    <tspan class=\"displacy-tag\" dy=\"2em\" fill=\"currentColor\" x=\"4130\">VERB</tspan>\n",
              "</text>\n",
              "\n",
              "<text class=\"displacy-token\" fill=\"currentColor\" text-anchor=\"middle\" y=\"647.0\">\n",
              "    <tspan class=\"displacy-word\" fill=\"currentColor\" x=\"4210\">to</tspan>\n",
              "    <tspan class=\"displacy-tag\" dy=\"2em\" fill=\"currentColor\" x=\"4210\">ADP</tspan>\n",
              "</text>\n",
              "\n",
              "<text class=\"displacy-token\" fill=\"currentColor\" text-anchor=\"middle\" y=\"647.0\">\n",
              "    <tspan class=\"displacy-word\" fill=\"currentColor\" x=\"4290\">5.49%</tspan>\n",
              "    <tspan class=\"displacy-tag\" dy=\"2em\" fill=\"currentColor\" x=\"4290\">NUM</tspan>\n",
              "</text>\n",
              "\n",
              "<text class=\"displacy-token\" fill=\"currentColor\" text-anchor=\"middle\" y=\"647.0\">\n",
              "    <tspan class=\"displacy-word\" fill=\"currentColor\" x=\"4370\">from</tspan>\n",
              "    <tspan class=\"displacy-tag\" dy=\"2em\" fill=\"currentColor\" x=\"4370\">ADP</tspan>\n",
              "</text>\n",
              "\n",
              "<text class=\"displacy-token\" fill=\"currentColor\" text-anchor=\"middle\" y=\"647.0\">\n",
              "    <tspan class=\"displacy-word\" fill=\"currentColor\" x=\"4450\">5.62%</tspan>\n",
              "    <tspan class=\"displacy-tag\" dy=\"2em\" fill=\"currentColor\" x=\"4450\">NUM</tspan>\n",
              "</text>\n",
              "\n",
              "<text class=\"displacy-token\" fill=\"currentColor\" text-anchor=\"middle\" y=\"647.0\">\n",
              "    <tspan class=\"displacy-word\" fill=\"currentColor\" x=\"4530\">in</tspan>\n",
              "    <tspan class=\"displacy-tag\" dy=\"2em\" fill=\"currentColor\" x=\"4530\">ADP</tspan>\n",
              "</text>\n",
              "\n",
              "<text class=\"displacy-token\" fill=\"currentColor\" text-anchor=\"middle\" y=\"647.0\">\n",
              "    <tspan class=\"displacy-word\" fill=\"currentColor\" x=\"4610\">the</tspan>\n",
              "    <tspan class=\"displacy-tag\" dy=\"2em\" fill=\"currentColor\" x=\"4610\">DET</tspan>\n",
              "</text>\n",
              "\n",
              "<text class=\"displacy-token\" fill=\"currentColor\" text-anchor=\"middle\" y=\"647.0\">\n",
              "    <tspan class=\"displacy-word\" fill=\"currentColor\" x=\"4690\">week</tspan>\n",
              "    <tspan class=\"displacy-tag\" dy=\"2em\" fill=\"currentColor\" x=\"4690\">NOUN</tspan>\n",
              "</text>\n",
              "\n",
              "<text class=\"displacy-token\" fill=\"currentColor\" text-anchor=\"middle\" y=\"647.0\">\n",
              "    <tspan class=\"displacy-word\" fill=\"currentColor\" x=\"4770\">ended</tspan>\n",
              "    <tspan class=\"displacy-tag\" dy=\"2em\" fill=\"currentColor\" x=\"4770\">VERB</tspan>\n",
              "</text>\n",
              "\n",
              "<text class=\"displacy-token\" fill=\"currentColor\" text-anchor=\"middle\" y=\"647.0\">\n",
              "    <tspan class=\"displacy-word\" fill=\"currentColor\" x=\"4850\">yesterday,</tspan>\n",
              "    <tspan class=\"displacy-tag\" dy=\"2em\" fill=\"currentColor\" x=\"4850\">NOUN</tspan>\n",
              "</text>\n",
              "\n",
              "<text class=\"displacy-token\" fill=\"currentColor\" text-anchor=\"middle\" y=\"647.0\">\n",
              "    <tspan class=\"displacy-word\" fill=\"currentColor\" x=\"4930\">according</tspan>\n",
              "    <tspan class=\"displacy-tag\" dy=\"2em\" fill=\"currentColor\" x=\"4930\">VERB</tspan>\n",
              "</text>\n",
              "\n",
              "<text class=\"displacy-token\" fill=\"currentColor\" text-anchor=\"middle\" y=\"647.0\">\n",
              "    <tspan class=\"displacy-word\" fill=\"currentColor\" x=\"5010\">to</tspan>\n",
              "    <tspan class=\"displacy-tag\" dy=\"2em\" fill=\"currentColor\" x=\"5010\">ADP</tspan>\n",
              "</text>\n",
              "\n",
              "<text class=\"displacy-token\" fill=\"currentColor\" text-anchor=\"middle\" y=\"647.0\">\n",
              "    <tspan class=\"displacy-word\" fill=\"currentColor\" x=\"5090\">an</tspan>\n",
              "    <tspan class=\"displacy-tag\" dy=\"2em\" fill=\"currentColor\" x=\"5090\">DET</tspan>\n",
              "</text>\n",
              "\n",
              "<text class=\"displacy-token\" fill=\"currentColor\" text-anchor=\"middle\" y=\"647.0\">\n",
              "    <tspan class=\"displacy-word\" fill=\"currentColor\" x=\"5170\">18-bank</tspan>\n",
              "    <tspan class=\"displacy-tag\" dy=\"2em\" fill=\"currentColor\" x=\"5170\">NUM</tspan>\n",
              "</text>\n",
              "\n",
              "<text class=\"displacy-token\" fill=\"currentColor\" text-anchor=\"middle\" y=\"647.0\">\n",
              "    <tspan class=\"displacy-word\" fill=\"currentColor\" x=\"5250\">survey</tspan>\n",
              "    <tspan class=\"displacy-tag\" dy=\"2em\" fill=\"currentColor\" x=\"5250\">NOUN</tspan>\n",
              "</text>\n",
              "\n",
              "<text class=\"displacy-token\" fill=\"currentColor\" text-anchor=\"middle\" y=\"647.0\">\n",
              "    <tspan class=\"displacy-word\" fill=\"currentColor\" x=\"5330\">by</tspan>\n",
              "    <tspan class=\"displacy-tag\" dy=\"2em\" fill=\"currentColor\" x=\"5330\">ADP</tspan>\n",
              "</text>\n",
              "\n",
              "<text class=\"displacy-token\" fill=\"currentColor\" text-anchor=\"middle\" y=\"647.0\">\n",
              "    <tspan class=\"displacy-word\" fill=\"currentColor\" x=\"5410\">Banxquote</tspan>\n",
              "    <tspan class=\"displacy-tag\" dy=\"2em\" fill=\"currentColor\" x=\"5410\">PROPN</tspan>\n",
              "</text>\n",
              "\n",
              "<text class=\"displacy-token\" fill=\"currentColor\" text-anchor=\"middle\" y=\"647.0\">\n",
              "    <tspan class=\"displacy-word\" fill=\"currentColor\" x=\"5490\">Money</tspan>\n",
              "    <tspan class=\"displacy-tag\" dy=\"2em\" fill=\"currentColor\" x=\"5490\">PROPN</tspan>\n",
              "</text>\n",
              "\n",
              "<text class=\"displacy-token\" fill=\"currentColor\" text-anchor=\"middle\" y=\"647.0\">\n",
              "    <tspan class=\"displacy-word\" fill=\"currentColor\" x=\"5570\">Markets,</tspan>\n",
              "    <tspan class=\"displacy-tag\" dy=\"2em\" fill=\"currentColor\" x=\"5570\">PROPN</tspan>\n",
              "</text>\n",
              "\n",
              "<text class=\"displacy-token\" fill=\"currentColor\" text-anchor=\"middle\" y=\"647.0\">\n",
              "    <tspan class=\"displacy-word\" fill=\"currentColor\" x=\"5650\">a</tspan>\n",
              "    <tspan class=\"displacy-tag\" dy=\"2em\" fill=\"currentColor\" x=\"5650\">DET</tspan>\n",
              "</text>\n",
              "\n",
              "<text class=\"displacy-token\" fill=\"currentColor\" text-anchor=\"middle\" y=\"647.0\">\n",
              "    <tspan class=\"displacy-word\" fill=\"currentColor\" x=\"5730\">Wilmington,</tspan>\n",
              "    <tspan class=\"displacy-tag\" dy=\"2em\" fill=\"currentColor\" x=\"5730\">PROPN</tspan>\n",
              "</text>\n",
              "\n",
              "<text class=\"displacy-token\" fill=\"currentColor\" text-anchor=\"middle\" y=\"647.0\">\n",
              "    <tspan class=\"displacy-word\" fill=\"currentColor\" x=\"5810\">Del.,</tspan>\n",
              "    <tspan class=\"displacy-tag\" dy=\"2em\" fill=\"currentColor\" x=\"5810\">PROPN</tspan>\n",
              "</text>\n",
              "\n",
              "<text class=\"displacy-token\" fill=\"currentColor\" text-anchor=\"middle\" y=\"647.0\">\n",
              "    <tspan class=\"displacy-word\" fill=\"currentColor\" x=\"5890\">information</tspan>\n",
              "    <tspan class=\"displacy-tag\" dy=\"2em\" fill=\"currentColor\" x=\"5890\">NOUN</tspan>\n",
              "</text>\n",
              "\n",
              "<text class=\"displacy-token\" fill=\"currentColor\" text-anchor=\"middle\" y=\"647.0\">\n",
              "    <tspan class=\"displacy-word\" fill=\"currentColor\" x=\"5970\">service.</tspan>\n",
              "    <tspan class=\"displacy-tag\" dy=\"2em\" fill=\"currentColor\" x=\"5970\">NOUN</tspan>\n",
              "</text>\n",
              "\n",
              "<text class=\"displacy-token\" fill=\"currentColor\" text-anchor=\"middle\" y=\"647.0\">\n",
              "    <tspan class=\"displacy-word\" fill=\"currentColor\" x=\"6050\">On</tspan>\n",
              "    <tspan class=\"displacy-tag\" dy=\"2em\" fill=\"currentColor\" x=\"6050\">ADP</tspan>\n",
              "</text>\n",
              "\n",
              "<text class=\"displacy-token\" fill=\"currentColor\" text-anchor=\"middle\" y=\"647.0\">\n",
              "    <tspan class=\"displacy-word\" fill=\"currentColor\" x=\"6130\">three-</tspan>\n",
              "    <tspan class=\"displacy-tag\" dy=\"2em\" fill=\"currentColor\" x=\"6130\">NUM</tspan>\n",
              "</text>\n",
              "\n",
              "<text class=\"displacy-token\" fill=\"currentColor\" text-anchor=\"middle\" y=\"647.0\">\n",
              "    <tspan class=\"displacy-word\" fill=\"currentColor\" x=\"6210\">month &quot;</tspan>\n",
              "    <tspan class=\"displacy-tag\" dy=\"2em\" fill=\"currentColor\" x=\"6210\">NOUN</tspan>\n",
              "</text>\n",
              "\n",
              "<text class=\"displacy-token\" fill=\"currentColor\" text-anchor=\"middle\" y=\"647.0\">\n",
              "    <tspan class=\"displacy-word\" fill=\"currentColor\" x=\"6290\">consumer&quot;</tspan>\n",
              "    <tspan class=\"displacy-tag\" dy=\"2em\" fill=\"currentColor\" x=\"6290\">NOUN</tspan>\n",
              "</text>\n",
              "\n",
              "<text class=\"displacy-token\" fill=\"currentColor\" text-anchor=\"middle\" y=\"647.0\">\n",
              "    <tspan class=\"displacy-word\" fill=\"currentColor\" x=\"6370\">deposits,</tspan>\n",
              "    <tspan class=\"displacy-tag\" dy=\"2em\" fill=\"currentColor\" x=\"6370\">NOUN</tspan>\n",
              "</text>\n",
              "\n",
              "<text class=\"displacy-token\" fill=\"currentColor\" text-anchor=\"middle\" y=\"647.0\">\n",
              "    <tspan class=\"displacy-word\" fill=\"currentColor\" x=\"6450\">the</tspan>\n",
              "    <tspan class=\"displacy-tag\" dy=\"2em\" fill=\"currentColor\" x=\"6450\">DET</tspan>\n",
              "</text>\n",
              "\n",
              "<text class=\"displacy-token\" fill=\"currentColor\" text-anchor=\"middle\" y=\"647.0\">\n",
              "    <tspan class=\"displacy-word\" fill=\"currentColor\" x=\"6530\">average</tspan>\n",
              "    <tspan class=\"displacy-tag\" dy=\"2em\" fill=\"currentColor\" x=\"6530\">ADJ</tspan>\n",
              "</text>\n",
              "\n",
              "<text class=\"displacy-token\" fill=\"currentColor\" text-anchor=\"middle\" y=\"647.0\">\n",
              "    <tspan class=\"displacy-word\" fill=\"currentColor\" x=\"6610\">yield</tspan>\n",
              "    <tspan class=\"displacy-tag\" dy=\"2em\" fill=\"currentColor\" x=\"6610\">NOUN</tspan>\n",
              "</text>\n",
              "\n",
              "<text class=\"displacy-token\" fill=\"currentColor\" text-anchor=\"middle\" y=\"647.0\">\n",
              "    <tspan class=\"displacy-word\" fill=\"currentColor\" x=\"6690\">sank</tspan>\n",
              "    <tspan class=\"displacy-tag\" dy=\"2em\" fill=\"currentColor\" x=\"6690\">VERB</tspan>\n",
              "</text>\n",
              "\n",
              "<text class=\"displacy-token\" fill=\"currentColor\" text-anchor=\"middle\" y=\"647.0\">\n",
              "    <tspan class=\"displacy-word\" fill=\"currentColor\" x=\"6770\">to</tspan>\n",
              "    <tspan class=\"displacy-tag\" dy=\"2em\" fill=\"currentColor\" x=\"6770\">ADP</tspan>\n",
              "</text>\n",
              "\n",
              "<text class=\"displacy-token\" fill=\"currentColor\" text-anchor=\"middle\" y=\"647.0\">\n",
              "    <tspan class=\"displacy-word\" fill=\"currentColor\" x=\"6850\">5.29%</tspan>\n",
              "    <tspan class=\"displacy-tag\" dy=\"2em\" fill=\"currentColor\" x=\"6850\">NUM</tspan>\n",
              "</text>\n",
              "\n",
              "<text class=\"displacy-token\" fill=\"currentColor\" text-anchor=\"middle\" y=\"647.0\">\n",
              "    <tspan class=\"displacy-word\" fill=\"currentColor\" x=\"6930\">from</tspan>\n",
              "    <tspan class=\"displacy-tag\" dy=\"2em\" fill=\"currentColor\" x=\"6930\">ADP</tspan>\n",
              "</text>\n",
              "\n",
              "<text class=\"displacy-token\" fill=\"currentColor\" text-anchor=\"middle\" y=\"647.0\">\n",
              "    <tspan class=\"displacy-word\" fill=\"currentColor\" x=\"7010\">5.42%</tspan>\n",
              "    <tspan class=\"displacy-tag\" dy=\"2em\" fill=\"currentColor\" x=\"7010\">NUM</tspan>\n",
              "</text>\n",
              "\n",
              "<text class=\"displacy-token\" fill=\"currentColor\" text-anchor=\"middle\" y=\"647.0\">\n",
              "    <tspan class=\"displacy-word\" fill=\"currentColor\" x=\"7090\">the</tspan>\n",
              "    <tspan class=\"displacy-tag\" dy=\"2em\" fill=\"currentColor\" x=\"7090\">DET</tspan>\n",
              "</text>\n",
              "\n",
              "<text class=\"displacy-token\" fill=\"currentColor\" text-anchor=\"middle\" y=\"647.0\">\n",
              "    <tspan class=\"displacy-word\" fill=\"currentColor\" x=\"7170\">week</tspan>\n",
              "    <tspan class=\"displacy-tag\" dy=\"2em\" fill=\"currentColor\" x=\"7170\">NOUN</tspan>\n",
              "</text>\n",
              "\n",
              "<text class=\"displacy-token\" fill=\"currentColor\" text-anchor=\"middle\" y=\"647.0\">\n",
              "    <tspan class=\"displacy-word\" fill=\"currentColor\" x=\"7250\">before,</tspan>\n",
              "    <tspan class=\"displacy-tag\" dy=\"2em\" fill=\"currentColor\" x=\"7250\">ADP</tspan>\n",
              "</text>\n",
              "\n",
              "<text class=\"displacy-token\" fill=\"currentColor\" text-anchor=\"middle\" y=\"647.0\">\n",
              "    <tspan class=\"displacy-word\" fill=\"currentColor\" x=\"7330\">according</tspan>\n",
              "    <tspan class=\"displacy-tag\" dy=\"2em\" fill=\"currentColor\" x=\"7330\">VERB</tspan>\n",
              "</text>\n",
              "\n",
              "<text class=\"displacy-token\" fill=\"currentColor\" text-anchor=\"middle\" y=\"647.0\">\n",
              "    <tspan class=\"displacy-word\" fill=\"currentColor\" x=\"7410\">to</tspan>\n",
              "    <tspan class=\"displacy-tag\" dy=\"2em\" fill=\"currentColor\" x=\"7410\">ADP</tspan>\n",
              "</text>\n",
              "\n",
              "<text class=\"displacy-token\" fill=\"currentColor\" text-anchor=\"middle\" y=\"647.0\">\n",
              "    <tspan class=\"displacy-word\" fill=\"currentColor\" x=\"7490\">Banxquote.</tspan>\n",
              "    <tspan class=\"displacy-tag\" dy=\"2em\" fill=\"currentColor\" x=\"7490\">PROPN</tspan>\n",
              "</text>\n",
              "\n",
              "<text class=\"displacy-token\" fill=\"currentColor\" text-anchor=\"middle\" y=\"647.0\">\n",
              "    <tspan class=\"displacy-word\" fill=\"currentColor\" x=\"7570\">Two</tspan>\n",
              "    <tspan class=\"displacy-tag\" dy=\"2em\" fill=\"currentColor\" x=\"7570\">NUM</tspan>\n",
              "</text>\n",
              "\n",
              "<text class=\"displacy-token\" fill=\"currentColor\" text-anchor=\"middle\" y=\"647.0\">\n",
              "    <tspan class=\"displacy-word\" fill=\"currentColor\" x=\"7650\">banks</tspan>\n",
              "    <tspan class=\"displacy-tag\" dy=\"2em\" fill=\"currentColor\" x=\"7650\">NOUN</tspan>\n",
              "</text>\n",
              "\n",
              "<text class=\"displacy-token\" fill=\"currentColor\" text-anchor=\"middle\" y=\"647.0\">\n",
              "    <tspan class=\"displacy-word\" fill=\"currentColor\" x=\"7730\">in</tspan>\n",
              "    <tspan class=\"displacy-tag\" dy=\"2em\" fill=\"currentColor\" x=\"7730\">ADP</tspan>\n",
              "</text>\n",
              "\n",
              "<text class=\"displacy-token\" fill=\"currentColor\" text-anchor=\"middle\" y=\"647.0\">\n",
              "    <tspan class=\"displacy-word\" fill=\"currentColor\" x=\"7810\">the</tspan>\n",
              "    <tspan class=\"displacy-tag\" dy=\"2em\" fill=\"currentColor\" x=\"7810\">DET</tspan>\n",
              "</text>\n",
              "\n",
              "<text class=\"displacy-token\" fill=\"currentColor\" text-anchor=\"middle\" y=\"647.0\">\n",
              "    <tspan class=\"displacy-word\" fill=\"currentColor\" x=\"7890\">Banxquote</tspan>\n",
              "    <tspan class=\"displacy-tag\" dy=\"2em\" fill=\"currentColor\" x=\"7890\">PROPN</tspan>\n",
              "</text>\n",
              "\n",
              "<text class=\"displacy-token\" fill=\"currentColor\" text-anchor=\"middle\" y=\"647.0\">\n",
              "    <tspan class=\"displacy-word\" fill=\"currentColor\" x=\"7970\">survey,</tspan>\n",
              "    <tspan class=\"displacy-tag\" dy=\"2em\" fill=\"currentColor\" x=\"7970\">NOUN</tspan>\n",
              "</text>\n",
              "\n",
              "<text class=\"displacy-token\" fill=\"currentColor\" text-anchor=\"middle\" y=\"647.0\">\n",
              "    <tspan class=\"displacy-word\" fill=\"currentColor\" x=\"8050\">Citibank</tspan>\n",
              "    <tspan class=\"displacy-tag\" dy=\"2em\" fill=\"currentColor\" x=\"8050\">PROPN</tspan>\n",
              "</text>\n",
              "\n",
              "<text class=\"displacy-token\" fill=\"currentColor\" text-anchor=\"middle\" y=\"647.0\">\n",
              "    <tspan class=\"displacy-word\" fill=\"currentColor\" x=\"8130\">in</tspan>\n",
              "    <tspan class=\"displacy-tag\" dy=\"2em\" fill=\"currentColor\" x=\"8130\">ADP</tspan>\n",
              "</text>\n",
              "\n",
              "<text class=\"displacy-token\" fill=\"currentColor\" text-anchor=\"middle\" y=\"647.0\">\n",
              "    <tspan class=\"displacy-word\" fill=\"currentColor\" x=\"8210\">New</tspan>\n",
              "    <tspan class=\"displacy-tag\" dy=\"2em\" fill=\"currentColor\" x=\"8210\">PROPN</tspan>\n",
              "</text>\n",
              "\n",
              "<text class=\"displacy-token\" fill=\"currentColor\" text-anchor=\"middle\" y=\"647.0\">\n",
              "    <tspan class=\"displacy-word\" fill=\"currentColor\" x=\"8290\">York</tspan>\n",
              "    <tspan class=\"displacy-tag\" dy=\"2em\" fill=\"currentColor\" x=\"8290\">PROPN</tspan>\n",
              "</text>\n",
              "\n",
              "<text class=\"displacy-token\" fill=\"currentColor\" text-anchor=\"middle\" y=\"647.0\">\n",
              "    <tspan class=\"displacy-word\" fill=\"currentColor\" x=\"8370\">and</tspan>\n",
              "    <tspan class=\"displacy-tag\" dy=\"2em\" fill=\"currentColor\" x=\"8370\">CCONJ</tspan>\n",
              "</text>\n",
              "\n",
              "<text class=\"displacy-token\" fill=\"currentColor\" text-anchor=\"middle\" y=\"647.0\">\n",
              "    <tspan class=\"displacy-word\" fill=\"currentColor\" x=\"8450\">CoreStates</tspan>\n",
              "    <tspan class=\"displacy-tag\" dy=\"2em\" fill=\"currentColor\" x=\"8450\">PROPN</tspan>\n",
              "</text>\n",
              "\n",
              "<text class=\"displacy-token\" fill=\"currentColor\" text-anchor=\"middle\" y=\"647.0\">\n",
              "    <tspan class=\"displacy-word\" fill=\"currentColor\" x=\"8530\">in</tspan>\n",
              "    <tspan class=\"displacy-tag\" dy=\"2em\" fill=\"currentColor\" x=\"8530\">ADP</tspan>\n",
              "</text>\n",
              "\n",
              "<text class=\"displacy-token\" fill=\"currentColor\" text-anchor=\"middle\" y=\"647.0\">\n",
              "    <tspan class=\"displacy-word\" fill=\"currentColor\" x=\"8610\">Pennsylvania,</tspan>\n",
              "    <tspan class=\"displacy-tag\" dy=\"2em\" fill=\"currentColor\" x=\"8610\">PROPN</tspan>\n",
              "</text>\n",
              "\n",
              "<text class=\"displacy-token\" fill=\"currentColor\" text-anchor=\"middle\" y=\"647.0\">\n",
              "    <tspan class=\"displacy-word\" fill=\"currentColor\" x=\"8690\">are</tspan>\n",
              "    <tspan class=\"displacy-tag\" dy=\"2em\" fill=\"currentColor\" x=\"8690\">AUX</tspan>\n",
              "</text>\n",
              "\n",
              "<text class=\"displacy-token\" fill=\"currentColor\" text-anchor=\"middle\" y=\"647.0\">\n",
              "    <tspan class=\"displacy-word\" fill=\"currentColor\" x=\"8770\">paying</tspan>\n",
              "    <tspan class=\"displacy-tag\" dy=\"2em\" fill=\"currentColor\" x=\"8770\">VERB</tspan>\n",
              "</text>\n",
              "\n",
              "<text class=\"displacy-token\" fill=\"currentColor\" text-anchor=\"middle\" y=\"647.0\">\n",
              "    <tspan class=\"displacy-word\" fill=\"currentColor\" x=\"8850\">less</tspan>\n",
              "    <tspan class=\"displacy-tag\" dy=\"2em\" fill=\"currentColor\" x=\"8850\">ADJ</tspan>\n",
              "</text>\n",
              "\n",
              "<text class=\"displacy-token\" fill=\"currentColor\" text-anchor=\"middle\" y=\"647.0\">\n",
              "    <tspan class=\"displacy-word\" fill=\"currentColor\" x=\"8930\">than</tspan>\n",
              "    <tspan class=\"displacy-tag\" dy=\"2em\" fill=\"currentColor\" x=\"8930\">SCONJ</tspan>\n",
              "</text>\n",
              "\n",
              "<text class=\"displacy-token\" fill=\"currentColor\" text-anchor=\"middle\" y=\"647.0\">\n",
              "    <tspan class=\"displacy-word\" fill=\"currentColor\" x=\"9010\">5%</tspan>\n",
              "    <tspan class=\"displacy-tag\" dy=\"2em\" fill=\"currentColor\" x=\"9010\">NUM</tspan>\n",
              "</text>\n",
              "\n",
              "<text class=\"displacy-token\" fill=\"currentColor\" text-anchor=\"middle\" y=\"647.0\">\n",
              "    <tspan class=\"displacy-word\" fill=\"currentColor\" x=\"9090\">on</tspan>\n",
              "    <tspan class=\"displacy-tag\" dy=\"2em\" fill=\"currentColor\" x=\"9090\">ADP</tspan>\n",
              "</text>\n",
              "\n",
              "<text class=\"displacy-token\" fill=\"currentColor\" text-anchor=\"middle\" y=\"647.0\">\n",
              "    <tspan class=\"displacy-word\" fill=\"currentColor\" x=\"9170\">threemonth</tspan>\n",
              "    <tspan class=\"displacy-tag\" dy=\"2em\" fill=\"currentColor\" x=\"9170\">ADJ</tspan>\n",
              "</text>\n",
              "\n",
              "<text class=\"displacy-token\" fill=\"currentColor\" text-anchor=\"middle\" y=\"647.0\">\n",
              "    <tspan class=\"displacy-word\" fill=\"currentColor\" x=\"9250\">small-</tspan>\n",
              "    <tspan class=\"displacy-tag\" dy=\"2em\" fill=\"currentColor\" x=\"9250\">ADJ</tspan>\n",
              "</text>\n",
              "\n",
              "<text class=\"displacy-token\" fill=\"currentColor\" text-anchor=\"middle\" y=\"647.0\">\n",
              "    <tspan class=\"displacy-word\" fill=\"currentColor\" x=\"9330\">denomination</tspan>\n",
              "    <tspan class=\"displacy-tag\" dy=\"2em\" fill=\"currentColor\" x=\"9330\">NOUN</tspan>\n",
              "</text>\n",
              "\n",
              "<text class=\"displacy-token\" fill=\"currentColor\" text-anchor=\"middle\" y=\"647.0\">\n",
              "    <tspan class=\"displacy-word\" fill=\"currentColor\" x=\"9410\">CDs.</tspan>\n",
              "    <tspan class=\"displacy-tag\" dy=\"2em\" fill=\"currentColor\" x=\"9410\">NOUN</tspan>\n",
              "</text>\n",
              "\n",
              "<text class=\"displacy-token\" fill=\"currentColor\" text-anchor=\"middle\" y=\"647.0\">\n",
              "    <tspan class=\"displacy-word\" fill=\"currentColor\" x=\"9490\">Declines</tspan>\n",
              "    <tspan class=\"displacy-tag\" dy=\"2em\" fill=\"currentColor\" x=\"9490\">NOUN</tspan>\n",
              "</text>\n",
              "\n",
              "<text class=\"displacy-token\" fill=\"currentColor\" text-anchor=\"middle\" y=\"647.0\">\n",
              "    <tspan class=\"displacy-word\" fill=\"currentColor\" x=\"9570\">were</tspan>\n",
              "    <tspan class=\"displacy-tag\" dy=\"2em\" fill=\"currentColor\" x=\"9570\">AUX</tspan>\n",
              "</text>\n",
              "\n",
              "<text class=\"displacy-token\" fill=\"currentColor\" text-anchor=\"middle\" y=\"647.0\">\n",
              "    <tspan class=\"displacy-word\" fill=\"currentColor\" x=\"9650\">somewhat</tspan>\n",
              "    <tspan class=\"displacy-tag\" dy=\"2em\" fill=\"currentColor\" x=\"9650\">ADV</tspan>\n",
              "</text>\n",
              "\n",
              "<text class=\"displacy-token\" fill=\"currentColor\" text-anchor=\"middle\" y=\"647.0\">\n",
              "    <tspan class=\"displacy-word\" fill=\"currentColor\" x=\"9730\">smaller</tspan>\n",
              "    <tspan class=\"displacy-tag\" dy=\"2em\" fill=\"currentColor\" x=\"9730\">ADJ</tspan>\n",
              "</text>\n",
              "\n",
              "<text class=\"displacy-token\" fill=\"currentColor\" text-anchor=\"middle\" y=\"647.0\">\n",
              "    <tspan class=\"displacy-word\" fill=\"currentColor\" x=\"9810\">on</tspan>\n",
              "    <tspan class=\"displacy-tag\" dy=\"2em\" fill=\"currentColor\" x=\"9810\">ADP</tspan>\n",
              "</text>\n",
              "\n",
              "<text class=\"displacy-token\" fill=\"currentColor\" text-anchor=\"middle\" y=\"647.0\">\n",
              "    <tspan class=\"displacy-word\" fill=\"currentColor\" x=\"9890\">five-</tspan>\n",
              "    <tspan class=\"displacy-tag\" dy=\"2em\" fill=\"currentColor\" x=\"9890\">NUM</tspan>\n",
              "</text>\n",
              "\n",
              "<text class=\"displacy-token\" fill=\"currentColor\" text-anchor=\"middle\" y=\"647.0\">\n",
              "    <tspan class=\"displacy-word\" fill=\"currentColor\" x=\"9970\">year</tspan>\n",
              "    <tspan class=\"displacy-tag\" dy=\"2em\" fill=\"currentColor\" x=\"9970\">NOUN</tspan>\n",
              "</text>\n",
              "\n",
              "<text class=\"displacy-token\" fill=\"currentColor\" text-anchor=\"middle\" y=\"647.0\">\n",
              "    <tspan class=\"displacy-word\" fill=\"currentColor\" x=\"10050\">consumer</tspan>\n",
              "    <tspan class=\"displacy-tag\" dy=\"2em\" fill=\"currentColor\" x=\"10050\">NOUN</tspan>\n",
              "</text>\n",
              "\n",
              "<text class=\"displacy-token\" fill=\"currentColor\" text-anchor=\"middle\" y=\"647.0\">\n",
              "    <tspan class=\"displacy-word\" fill=\"currentColor\" x=\"10130\">CDs,</tspan>\n",
              "    <tspan class=\"displacy-tag\" dy=\"2em\" fill=\"currentColor\" x=\"10130\">NOUN</tspan>\n",
              "</text>\n",
              "\n",
              "<text class=\"displacy-token\" fill=\"currentColor\" text-anchor=\"middle\" y=\"647.0\">\n",
              "    <tspan class=\"displacy-word\" fill=\"currentColor\" x=\"10210\">which</tspan>\n",
              "    <tspan class=\"displacy-tag\" dy=\"2em\" fill=\"currentColor\" x=\"10210\">DET</tspan>\n",
              "</text>\n",
              "\n",
              "<text class=\"displacy-token\" fill=\"currentColor\" text-anchor=\"middle\" y=\"647.0\">\n",
              "    <tspan class=\"displacy-word\" fill=\"currentColor\" x=\"10290\">eased</tspan>\n",
              "    <tspan class=\"displacy-tag\" dy=\"2em\" fill=\"currentColor\" x=\"10290\">VERB</tspan>\n",
              "</text>\n",
              "\n",
              "<text class=\"displacy-token\" fill=\"currentColor\" text-anchor=\"middle\" y=\"647.0\">\n",
              "    <tspan class=\"displacy-word\" fill=\"currentColor\" x=\"10370\">to</tspan>\n",
              "    <tspan class=\"displacy-tag\" dy=\"2em\" fill=\"currentColor\" x=\"10370\">ADP</tspan>\n",
              "</text>\n",
              "\n",
              "<text class=\"displacy-token\" fill=\"currentColor\" text-anchor=\"middle\" y=\"647.0\">\n",
              "    <tspan class=\"displacy-word\" fill=\"currentColor\" x=\"10450\">7.37%</tspan>\n",
              "    <tspan class=\"displacy-tag\" dy=\"2em\" fill=\"currentColor\" x=\"10450\">NUM</tspan>\n",
              "</text>\n",
              "\n",
              "<text class=\"displacy-token\" fill=\"currentColor\" text-anchor=\"middle\" y=\"647.0\">\n",
              "    <tspan class=\"displacy-word\" fill=\"currentColor\" x=\"10530\">from</tspan>\n",
              "    <tspan class=\"displacy-tag\" dy=\"2em\" fill=\"currentColor\" x=\"10530\">ADP</tspan>\n",
              "</text>\n",
              "\n",
              "<text class=\"displacy-token\" fill=\"currentColor\" text-anchor=\"middle\" y=\"647.0\">\n",
              "    <tspan class=\"displacy-word\" fill=\"currentColor\" x=\"10610\">7.45%,</tspan>\n",
              "    <tspan class=\"displacy-tag\" dy=\"2em\" fill=\"currentColor\" x=\"10610\">NUM</tspan>\n",
              "</text>\n",
              "\n",
              "<text class=\"displacy-token\" fill=\"currentColor\" text-anchor=\"middle\" y=\"647.0\">\n",
              "    <tspan class=\"displacy-word\" fill=\"currentColor\" x=\"10690\">Banxquote</tspan>\n",
              "    <tspan class=\"displacy-tag\" dy=\"2em\" fill=\"currentColor\" x=\"10690\">PROPN</tspan>\n",
              "</text>\n",
              "\n",
              "<text class=\"displacy-token\" fill=\"currentColor\" text-anchor=\"middle\" y=\"647.0\">\n",
              "    <tspan class=\"displacy-word\" fill=\"currentColor\" x=\"10770\">said.</tspan>\n",
              "    <tspan class=\"displacy-tag\" dy=\"2em\" fill=\"currentColor\" x=\"10770\">VERB</tspan>\n",
              "</text>\n",
              "\n",
              "<text class=\"displacy-token\" fill=\"currentColor\" text-anchor=\"middle\" y=\"647.0\">\n",
              "    <tspan class=\"displacy-word\" fill=\"currentColor\" x=\"10850\">Yields</tspan>\n",
              "    <tspan class=\"displacy-tag\" dy=\"2em\" fill=\"currentColor\" x=\"10850\">NOUN</tspan>\n",
              "</text>\n",
              "\n",
              "<text class=\"displacy-token\" fill=\"currentColor\" text-anchor=\"middle\" y=\"647.0\">\n",
              "    <tspan class=\"displacy-word\" fill=\"currentColor\" x=\"10930\">on</tspan>\n",
              "    <tspan class=\"displacy-tag\" dy=\"2em\" fill=\"currentColor\" x=\"10930\">ADP</tspan>\n",
              "</text>\n",
              "\n",
              "<text class=\"displacy-token\" fill=\"currentColor\" text-anchor=\"middle\" y=\"647.0\">\n",
              "    <tspan class=\"displacy-word\" fill=\"currentColor\" x=\"11010\">three-</tspan>\n",
              "    <tspan class=\"displacy-tag\" dy=\"2em\" fill=\"currentColor\" x=\"11010\">NUM</tspan>\n",
              "</text>\n",
              "\n",
              "<text class=\"displacy-token\" fill=\"currentColor\" text-anchor=\"middle\" y=\"647.0\">\n",
              "    <tspan class=\"displacy-word\" fill=\"currentColor\" x=\"11090\">month</tspan>\n",
              "    <tspan class=\"displacy-tag\" dy=\"2em\" fill=\"currentColor\" x=\"11090\">NOUN</tspan>\n",
              "</text>\n",
              "\n",
              "<text class=\"displacy-token\" fill=\"currentColor\" text-anchor=\"middle\" y=\"647.0\">\n",
              "    <tspan class=\"displacy-word\" fill=\"currentColor\" x=\"11170\">and</tspan>\n",
              "    <tspan class=\"displacy-tag\" dy=\"2em\" fill=\"currentColor\" x=\"11170\">CCONJ</tspan>\n",
              "</text>\n",
              "\n",
              "<text class=\"displacy-token\" fill=\"currentColor\" text-anchor=\"middle\" y=\"647.0\">\n",
              "    <tspan class=\"displacy-word\" fill=\"currentColor\" x=\"11250\">six-</tspan>\n",
              "    <tspan class=\"displacy-tag\" dy=\"2em\" fill=\"currentColor\" x=\"11250\">NUM</tspan>\n",
              "</text>\n",
              "\n",
              "<text class=\"displacy-token\" fill=\"currentColor\" text-anchor=\"middle\" y=\"647.0\">\n",
              "    <tspan class=\"displacy-word\" fill=\"currentColor\" x=\"11330\">month</tspan>\n",
              "    <tspan class=\"displacy-tag\" dy=\"2em\" fill=\"currentColor\" x=\"11330\">NOUN</tspan>\n",
              "</text>\n",
              "\n",
              "<text class=\"displacy-token\" fill=\"currentColor\" text-anchor=\"middle\" y=\"647.0\">\n",
              "    <tspan class=\"displacy-word\" fill=\"currentColor\" x=\"11410\">Treasury</tspan>\n",
              "    <tspan class=\"displacy-tag\" dy=\"2em\" fill=\"currentColor\" x=\"11410\">PROPN</tspan>\n",
              "</text>\n",
              "\n",
              "<text class=\"displacy-token\" fill=\"currentColor\" text-anchor=\"middle\" y=\"647.0\">\n",
              "    <tspan class=\"displacy-word\" fill=\"currentColor\" x=\"11490\">bills</tspan>\n",
              "    <tspan class=\"displacy-tag\" dy=\"2em\" fill=\"currentColor\" x=\"11490\">NOUN</tspan>\n",
              "</text>\n",
              "\n",
              "<text class=\"displacy-token\" fill=\"currentColor\" text-anchor=\"middle\" y=\"647.0\">\n",
              "    <tspan class=\"displacy-word\" fill=\"currentColor\" x=\"11570\">sold</tspan>\n",
              "    <tspan class=\"displacy-tag\" dy=\"2em\" fill=\"currentColor\" x=\"11570\">VERB</tspan>\n",
              "</text>\n",
              "\n",
              "<text class=\"displacy-token\" fill=\"currentColor\" text-anchor=\"middle\" y=\"647.0\">\n",
              "    <tspan class=\"displacy-word\" fill=\"currentColor\" x=\"11650\">at</tspan>\n",
              "    <tspan class=\"displacy-tag\" dy=\"2em\" fill=\"currentColor\" x=\"11650\">ADP</tspan>\n",
              "</text>\n",
              "\n",
              "<text class=\"displacy-token\" fill=\"currentColor\" text-anchor=\"middle\" y=\"647.0\">\n",
              "    <tspan class=\"displacy-word\" fill=\"currentColor\" x=\"11730\">Monday</tspan>\n",
              "    <tspan class=\"displacy-tag\" dy=\"2em\" fill=\"currentColor\" x=\"11730\">PROPN</tspan>\n",
              "</text>\n",
              "\n",
              "<text class=\"displacy-token\" fill=\"currentColor\" text-anchor=\"middle\" y=\"647.0\">\n",
              "    <tspan class=\"displacy-word\" fill=\"currentColor\" x=\"11810\">'s</tspan>\n",
              "    <tspan class=\"displacy-tag\" dy=\"2em\" fill=\"currentColor\" x=\"11810\">PART</tspan>\n",
              "</text>\n",
              "\n",
              "<text class=\"displacy-token\" fill=\"currentColor\" text-anchor=\"middle\" y=\"647.0\">\n",
              "    <tspan class=\"displacy-word\" fill=\"currentColor\" x=\"11890\">auction</tspan>\n",
              "    <tspan class=\"displacy-tag\" dy=\"2em\" fill=\"currentColor\" x=\"11890\">NOUN</tspan>\n",
              "</text>\n",
              "\n",
              "<text class=\"displacy-token\" fill=\"currentColor\" text-anchor=\"middle\" y=\"647.0\">\n",
              "    <tspan class=\"displacy-word\" fill=\"currentColor\" x=\"11970\">plummeted</tspan>\n",
              "    <tspan class=\"displacy-tag\" dy=\"2em\" fill=\"currentColor\" x=\"11970\">VERB</tspan>\n",
              "</text>\n",
              "\n",
              "<text class=\"displacy-token\" fill=\"currentColor\" text-anchor=\"middle\" y=\"647.0\">\n",
              "    <tspan class=\"displacy-word\" fill=\"currentColor\" x=\"12050\">more</tspan>\n",
              "    <tspan class=\"displacy-tag\" dy=\"2em\" fill=\"currentColor\" x=\"12050\">ADJ</tspan>\n",
              "</text>\n",
              "\n",
              "<text class=\"displacy-token\" fill=\"currentColor\" text-anchor=\"middle\" y=\"647.0\">\n",
              "    <tspan class=\"displacy-word\" fill=\"currentColor\" x=\"12130\">than</tspan>\n",
              "    <tspan class=\"displacy-tag\" dy=\"2em\" fill=\"currentColor\" x=\"12130\">SCONJ</tspan>\n",
              "</text>\n",
              "\n",
              "<text class=\"displacy-token\" fill=\"currentColor\" text-anchor=\"middle\" y=\"647.0\">\n",
              "    <tspan class=\"displacy-word\" fill=\"currentColor\" x=\"12210\">a</tspan>\n",
              "    <tspan class=\"displacy-tag\" dy=\"2em\" fill=\"currentColor\" x=\"12210\">DET</tspan>\n",
              "</text>\n",
              "\n",
              "<text class=\"displacy-token\" fill=\"currentColor\" text-anchor=\"middle\" y=\"647.0\">\n",
              "    <tspan class=\"displacy-word\" fill=\"currentColor\" x=\"12290\">fifth</tspan>\n",
              "    <tspan class=\"displacy-tag\" dy=\"2em\" fill=\"currentColor\" x=\"12290\">NOUN</tspan>\n",
              "</text>\n",
              "\n",
              "<text class=\"displacy-token\" fill=\"currentColor\" text-anchor=\"middle\" y=\"647.0\">\n",
              "    <tspan class=\"displacy-word\" fill=\"currentColor\" x=\"12370\">of</tspan>\n",
              "    <tspan class=\"displacy-tag\" dy=\"2em\" fill=\"currentColor\" x=\"12370\">ADP</tspan>\n",
              "</text>\n",
              "\n",
              "<text class=\"displacy-token\" fill=\"currentColor\" text-anchor=\"middle\" y=\"647.0\">\n",
              "    <tspan class=\"displacy-word\" fill=\"currentColor\" x=\"12450\">a</tspan>\n",
              "    <tspan class=\"displacy-tag\" dy=\"2em\" fill=\"currentColor\" x=\"12450\">DET</tspan>\n",
              "</text>\n",
              "\n",
              "<text class=\"displacy-token\" fill=\"currentColor\" text-anchor=\"middle\" y=\"647.0\">\n",
              "    <tspan class=\"displacy-word\" fill=\"currentColor\" x=\"12530\">percentage</tspan>\n",
              "    <tspan class=\"displacy-tag\" dy=\"2em\" fill=\"currentColor\" x=\"12530\">NOUN</tspan>\n",
              "</text>\n",
              "\n",
              "<text class=\"displacy-token\" fill=\"currentColor\" text-anchor=\"middle\" y=\"647.0\">\n",
              "    <tspan class=\"displacy-word\" fill=\"currentColor\" x=\"12610\">point</tspan>\n",
              "    <tspan class=\"displacy-tag\" dy=\"2em\" fill=\"currentColor\" x=\"12610\">NOUN</tspan>\n",
              "</text>\n",
              "\n",
              "<text class=\"displacy-token\" fill=\"currentColor\" text-anchor=\"middle\" y=\"647.0\">\n",
              "    <tspan class=\"displacy-word\" fill=\"currentColor\" x=\"12690\">from</tspan>\n",
              "    <tspan class=\"displacy-tag\" dy=\"2em\" fill=\"currentColor\" x=\"12690\">ADP</tspan>\n",
              "</text>\n",
              "\n",
              "<text class=\"displacy-token\" fill=\"currentColor\" text-anchor=\"middle\" y=\"647.0\">\n",
              "    <tspan class=\"displacy-word\" fill=\"currentColor\" x=\"12770\">the</tspan>\n",
              "    <tspan class=\"displacy-tag\" dy=\"2em\" fill=\"currentColor\" x=\"12770\">DET</tspan>\n",
              "</text>\n",
              "\n",
              "<text class=\"displacy-token\" fill=\"currentColor\" text-anchor=\"middle\" y=\"647.0\">\n",
              "    <tspan class=\"displacy-word\" fill=\"currentColor\" x=\"12850\">previous</tspan>\n",
              "    <tspan class=\"displacy-tag\" dy=\"2em\" fill=\"currentColor\" x=\"12850\">ADJ</tspan>\n",
              "</text>\n",
              "\n",
              "<text class=\"displacy-token\" fill=\"currentColor\" text-anchor=\"middle\" y=\"647.0\">\n",
              "    <tspan class=\"displacy-word\" fill=\"currentColor\" x=\"12930\">week,</tspan>\n",
              "    <tspan class=\"displacy-tag\" dy=\"2em\" fill=\"currentColor\" x=\"12930\">NOUN</tspan>\n",
              "</text>\n",
              "\n",
              "<text class=\"displacy-token\" fill=\"currentColor\" text-anchor=\"middle\" y=\"647.0\">\n",
              "    <tspan class=\"displacy-word\" fill=\"currentColor\" x=\"13010\">to</tspan>\n",
              "    <tspan class=\"displacy-tag\" dy=\"2em\" fill=\"currentColor\" x=\"13010\">ADP</tspan>\n",
              "</text>\n",
              "\n",
              "<text class=\"displacy-token\" fill=\"currentColor\" text-anchor=\"middle\" y=\"647.0\">\n",
              "    <tspan class=\"displacy-word\" fill=\"currentColor\" x=\"13090\">5.46%</tspan>\n",
              "    <tspan class=\"displacy-tag\" dy=\"2em\" fill=\"currentColor\" x=\"13090\">NUM</tspan>\n",
              "</text>\n",
              "\n",
              "<text class=\"displacy-token\" fill=\"currentColor\" text-anchor=\"middle\" y=\"647.0\">\n",
              "    <tspan class=\"displacy-word\" fill=\"currentColor\" x=\"13170\">and</tspan>\n",
              "    <tspan class=\"displacy-tag\" dy=\"2em\" fill=\"currentColor\" x=\"13170\">CCONJ</tspan>\n",
              "</text>\n",
              "\n",
              "<text class=\"displacy-token\" fill=\"currentColor\" text-anchor=\"middle\" y=\"647.0\">\n",
              "    <tspan class=\"displacy-word\" fill=\"currentColor\" x=\"13250\">5.63%,</tspan>\n",
              "    <tspan class=\"displacy-tag\" dy=\"2em\" fill=\"currentColor\" x=\"13250\">NUM</tspan>\n",
              "</text>\n",
              "\n",
              "<text class=\"displacy-token\" fill=\"currentColor\" text-anchor=\"middle\" y=\"647.0\">\n",
              "    <tspan class=\"displacy-word\" fill=\"currentColor\" x=\"13330\">respectively.</tspan>\n",
              "    <tspan class=\"displacy-tag\" dy=\"2em\" fill=\"currentColor\" x=\"13330\">ADV</tspan>\n",
              "</text>\n",
              "\n",
              "<g class=\"displacy-arrow\">\n",
              "    <path class=\"displacy-arc\" id=\"arrow-d05150fa85af4387a6077faa4b6b4cb5-0-0\" stroke-width=\"2px\" d=\"M70,602.0 C70,562.0 60.0,562.0 60.0,602.0\" fill=\"none\" stroke=\"currentColor\"/>\n",
              "    <text dy=\"1.25em\" style=\"font-size: 0.8em; letter-spacing: 1px\">\n",
              "        <textPath xlink:href=\"#arrow-d05150fa85af4387a6077faa4b6b4cb5-0-0\" class=\"displacy-label\" startOffset=\"50%\" side=\"left\" fill=\"currentColor\" text-anchor=\"middle\">compound</textPath>\n",
              "    </text>\n",
              "    <path class=\"displacy-arrowhead\" d=\"M70,604.0 L62,592.0 78,592.0\" fill=\"currentColor\"/>\n",
              "</g>\n",
              "\n",
              "<g class=\"displacy-arrow\">\n",
              "    <path class=\"displacy-arc\" id=\"arrow-d05150fa85af4387a6077faa4b6b4cb5-0-1\" stroke-width=\"2px\" d=\"M230,602.0 C230,202.0 985.0,202.0 985.0,602.0\" fill=\"none\" stroke=\"currentColor\"/>\n",
              "    <text dy=\"1.25em\" style=\"font-size: 0.8em; letter-spacing: 1px\">\n",
              "        <textPath xlink:href=\"#arrow-d05150fa85af4387a6077faa4b6b4cb5-0-1\" class=\"displacy-label\" startOffset=\"50%\" side=\"left\" fill=\"currentColor\" text-anchor=\"middle\">nsubj</textPath>\n",
              "    </text>\n",
              "    <path class=\"displacy-arrowhead\" d=\"M230,604.0 L222,592.0 238,592.0\" fill=\"currentColor\"/>\n",
              "</g>\n",
              "\n",
              "<g class=\"displacy-arrow\">\n",
              "    <path class=\"displacy-arc\" id=\"arrow-d05150fa85af4387a6077faa4b6b4cb5-0-2\" stroke-width=\"2px\" d=\"M230,602.0 C230,562.0 220.0,562.0 220.0,602.0\" fill=\"none\" stroke=\"currentColor\"/>\n",
              "    <text dy=\"1.25em\" style=\"font-size: 0.8em; letter-spacing: 1px\">\n",
              "        <textPath xlink:href=\"#arrow-d05150fa85af4387a6077faa4b6b4cb5-0-2\" class=\"displacy-label\" startOffset=\"50%\" side=\"left\" fill=\"currentColor\" text-anchor=\"middle\">prep</textPath>\n",
              "    </text>\n",
              "    <path class=\"displacy-arrowhead\" d=\"M220.0,604.0 L228.0,592.0 212.0,592.0\" fill=\"currentColor\"/>\n",
              "</g>\n",
              "\n",
              "<g class=\"displacy-arrow\">\n",
              "    <path class=\"displacy-arc\" id=\"arrow-d05150fa85af4387a6077faa4b6b4cb5-0-3\" stroke-width=\"2px\" d=\"M390,602.0 C390,562.0 380.0,562.0 380.0,602.0\" fill=\"none\" stroke=\"currentColor\"/>\n",
              "    <text dy=\"1.25em\" style=\"font-size: 0.8em; letter-spacing: 1px\">\n",
              "        <textPath xlink:href=\"#arrow-d05150fa85af4387a6077faa4b6b4cb5-0-3\" class=\"displacy-label\" startOffset=\"50%\" side=\"left\" fill=\"currentColor\" text-anchor=\"middle\">amod</textPath>\n",
              "    </text>\n",
              "    <path class=\"displacy-arrowhead\" d=\"M390,604.0 L382,592.0 398,592.0\" fill=\"currentColor\"/>\n",
              "</g>\n",
              "\n",
              "<g class=\"displacy-arrow\">\n",
              "    <path class=\"displacy-arc\" id=\"arrow-d05150fa85af4387a6077faa4b6b4cb5-0-4\" stroke-width=\"2px\" d=\"M310,602.0 C310,522.0 385.0,522.0 385.0,602.0\" fill=\"none\" stroke=\"currentColor\"/>\n",
              "    <text dy=\"1.25em\" style=\"font-size: 0.8em; letter-spacing: 1px\">\n",
              "        <textPath xlink:href=\"#arrow-d05150fa85af4387a6077faa4b6b4cb5-0-4\" class=\"displacy-label\" startOffset=\"50%\" side=\"left\" fill=\"currentColor\" text-anchor=\"middle\">pobj</textPath>\n",
              "    </text>\n",
              "    <path class=\"displacy-arrowhead\" d=\"M385.0,604.0 L393.0,592.0 377.0,592.0\" fill=\"currentColor\"/>\n",
              "</g>\n",
              "\n",
              "<g class=\"displacy-arrow\">\n",
              "    <path class=\"displacy-arc\" id=\"arrow-d05150fa85af4387a6077faa4b6b4cb5-0-5\" stroke-width=\"2px\" d=\"M470,602.0 C470,562.0 460.0,562.0 460.0,602.0\" fill=\"none\" stroke=\"currentColor\"/>\n",
              "    <text dy=\"1.25em\" style=\"font-size: 0.8em; letter-spacing: 1px\">\n",
              "        <textPath xlink:href=\"#arrow-d05150fa85af4387a6077faa4b6b4cb5-0-5\" class=\"displacy-label\" startOffset=\"50%\" side=\"left\" fill=\"currentColor\" text-anchor=\"middle\">prep</textPath>\n",
              "    </text>\n",
              "    <path class=\"displacy-arrowhead\" d=\"M460.0,604.0 L468.0,592.0 452.0,592.0\" fill=\"currentColor\"/>\n",
              "</g>\n",
              "\n",
              "<g class=\"displacy-arrow\">\n",
              "    <path class=\"displacy-arc\" id=\"arrow-d05150fa85af4387a6077faa4b6b4cb5-0-6\" stroke-width=\"2px\" d=\"M550,602.0 C550,562.0 540.0,562.0 540.0,602.0\" fill=\"none\" stroke=\"currentColor\"/>\n",
              "    <text dy=\"1.25em\" style=\"font-size: 0.8em; letter-spacing: 1px\">\n",
              "        <textPath xlink:href=\"#arrow-d05150fa85af4387a6077faa4b6b4cb5-0-6\" class=\"displacy-label\" startOffset=\"50%\" side=\"left\" fill=\"currentColor\" text-anchor=\"middle\">pobj</textPath>\n",
              "    </text>\n",
              "    <path class=\"displacy-arrowhead\" d=\"M540.0,604.0 L548.0,592.0 532.0,592.0\" fill=\"currentColor\"/>\n",
              "</g>\n",
              "\n",
              "<g class=\"displacy-arrow\">\n",
              "    <path class=\"displacy-arc\" id=\"arrow-d05150fa85af4387a6077faa4b6b4cb5-0-7\" stroke-width=\"2px\" d=\"M470,602.0 C470,482.0 630.0,482.0 630.0,602.0\" fill=\"none\" stroke=\"currentColor\"/>\n",
              "    <text dy=\"1.25em\" style=\"font-size: 0.8em; letter-spacing: 1px\">\n",
              "        <textPath xlink:href=\"#arrow-d05150fa85af4387a6077faa4b6b4cb5-0-7\" class=\"displacy-label\" startOffset=\"50%\" side=\"left\" fill=\"currentColor\" text-anchor=\"middle\">acl</textPath>\n",
              "    </text>\n",
              "    <path class=\"displacy-arrowhead\" d=\"M630.0,604.0 L638.0,592.0 622.0,592.0\" fill=\"currentColor\"/>\n",
              "</g>\n",
              "\n",
              "<g class=\"displacy-arrow\">\n",
              "    <path class=\"displacy-arc\" id=\"arrow-d05150fa85af4387a6077faa4b6b4cb5-0-8\" stroke-width=\"2px\" d=\"M710,602.0 C710,562.0 700.0,562.0 700.0,602.0\" fill=\"none\" stroke=\"currentColor\"/>\n",
              "    <text dy=\"1.25em\" style=\"font-size: 0.8em; letter-spacing: 1px\">\n",
              "        <textPath xlink:href=\"#arrow-d05150fa85af4387a6077faa4b6b4cb5-0-8\" class=\"displacy-label\" startOffset=\"50%\" side=\"left\" fill=\"currentColor\" text-anchor=\"middle\">agent</textPath>\n",
              "    </text>\n",
              "    <path class=\"displacy-arrowhead\" d=\"M700.0,604.0 L708.0,592.0 692.0,592.0\" fill=\"currentColor\"/>\n",
              "</g>\n",
              "\n",
              "<g class=\"displacy-arrow\">\n",
              "    <path class=\"displacy-arc\" id=\"arrow-d05150fa85af4387a6077faa4b6b4cb5-0-9\" stroke-width=\"2px\" d=\"M870,602.0 C870,562.0 860.0,562.0 860.0,602.0\" fill=\"none\" stroke=\"currentColor\"/>\n",
              "    <text dy=\"1.25em\" style=\"font-size: 0.8em; letter-spacing: 1px\">\n",
              "        <textPath xlink:href=\"#arrow-d05150fa85af4387a6077faa4b6b4cb5-0-9\" class=\"displacy-label\" startOffset=\"50%\" side=\"left\" fill=\"currentColor\" text-anchor=\"middle\">amod</textPath>\n",
              "    </text>\n",
              "    <path class=\"displacy-arrowhead\" d=\"M870,604.0 L862,592.0 878,592.0\" fill=\"currentColor\"/>\n",
              "</g>\n",
              "\n",
              "<g class=\"displacy-arrow\">\n",
              "    <path class=\"displacy-arc\" id=\"arrow-d05150fa85af4387a6077faa4b6b4cb5-0-10\" stroke-width=\"2px\" d=\"M790,602.0 C790,522.0 865.0,522.0 865.0,602.0\" fill=\"none\" stroke=\"currentColor\"/>\n",
              "    <text dy=\"1.25em\" style=\"font-size: 0.8em; letter-spacing: 1px\">\n",
              "        <textPath xlink:href=\"#arrow-d05150fa85af4387a6077faa4b6b4cb5-0-10\" class=\"displacy-label\" startOffset=\"50%\" side=\"left\" fill=\"currentColor\" text-anchor=\"middle\">pobj</textPath>\n",
              "    </text>\n",
              "    <path class=\"displacy-arrowhead\" d=\"M865.0,604.0 L873.0,592.0 857.0,592.0\" fill=\"currentColor\"/>\n",
              "</g>\n",
              "\n",
              "<g class=\"displacy-arrow\">\n",
              "    <path class=\"displacy-arc\" id=\"arrow-d05150fa85af4387a6077faa4b6b4cb5-0-11\" stroke-width=\"2px\" d=\"M1030,602.0 C1030,562.0 1020.0,562.0 1020.0,602.0\" fill=\"none\" stroke=\"currentColor\"/>\n",
              "    <text dy=\"1.25em\" style=\"font-size: 0.8em; letter-spacing: 1px\">\n",
              "        <textPath xlink:href=\"#arrow-d05150fa85af4387a6077faa4b6b4cb5-0-11\" class=\"displacy-label\" startOffset=\"50%\" side=\"left\" fill=\"currentColor\" text-anchor=\"middle\">advmod</textPath>\n",
              "    </text>\n",
              "    <path class=\"displacy-arrowhead\" d=\"M1020.0,604.0 L1028.0,592.0 1012.0,592.0\" fill=\"currentColor\"/>\n",
              "</g>\n",
              "\n",
              "<g class=\"displacy-arrow\">\n",
              "    <path class=\"displacy-arc\" id=\"arrow-d05150fa85af4387a6077faa4b6b4cb5-0-12\" stroke-width=\"2px\" d=\"M1110,602.0 C1110,562.0 1100.0,562.0 1100.0,602.0\" fill=\"none\" stroke=\"currentColor\"/>\n",
              "    <text dy=\"1.25em\" style=\"font-size: 0.8em; letter-spacing: 1px\">\n",
              "        <textPath xlink:href=\"#arrow-d05150fa85af4387a6077faa4b6b4cb5-0-12\" class=\"displacy-label\" startOffset=\"50%\" side=\"left\" fill=\"currentColor\" text-anchor=\"middle\">prep</textPath>\n",
              "    </text>\n",
              "    <path class=\"displacy-arrowhead\" d=\"M1100.0,604.0 L1108.0,592.0 1092.0,592.0\" fill=\"currentColor\"/>\n",
              "</g>\n",
              "\n",
              "<g class=\"displacy-arrow\">\n",
              "    <path class=\"displacy-arc\" id=\"arrow-d05150fa85af4387a6077faa4b6b4cb5-0-13\" stroke-width=\"2px\" d=\"M1270,602.0 C1270,562.0 1260.0,562.0 1260.0,602.0\" fill=\"none\" stroke=\"currentColor\"/>\n",
              "    <text dy=\"1.25em\" style=\"font-size: 0.8em; letter-spacing: 1px\">\n",
              "        <textPath xlink:href=\"#arrow-d05150fa85af4387a6077faa4b6b4cb5-0-13\" class=\"displacy-label\" startOffset=\"50%\" side=\"left\" fill=\"currentColor\" text-anchor=\"middle\">det</textPath>\n",
              "    </text>\n",
              "    <path class=\"displacy-arrowhead\" d=\"M1270,604.0 L1262,592.0 1278,592.0\" fill=\"currentColor\"/>\n",
              "</g>\n",
              "\n",
              "<g class=\"displacy-arrow\">\n",
              "    <path class=\"displacy-arc\" id=\"arrow-d05150fa85af4387a6077faa4b6b4cb5-0-14\" stroke-width=\"2px\" d=\"M1190,602.0 C1190,522.0 1265.0,522.0 1265.0,602.0\" fill=\"none\" stroke=\"currentColor\"/>\n",
              "    <text dy=\"1.25em\" style=\"font-size: 0.8em; letter-spacing: 1px\">\n",
              "        <textPath xlink:href=\"#arrow-d05150fa85af4387a6077faa4b6b4cb5-0-14\" class=\"displacy-label\" startOffset=\"50%\" side=\"left\" fill=\"currentColor\" text-anchor=\"middle\">pobj</textPath>\n",
              "    </text>\n",
              "    <path class=\"displacy-arrowhead\" d=\"M1265.0,604.0 L1273.0,592.0 1257.0,592.0\" fill=\"currentColor\"/>\n",
              "</g>\n",
              "\n",
              "<g class=\"displacy-arrow\">\n",
              "    <path class=\"displacy-arc\" id=\"arrow-d05150fa85af4387a6077faa4b6b4cb5-0-15\" stroke-width=\"2px\" d=\"M1350,602.0 C1350,562.0 1340.0,562.0 1340.0,602.0\" fill=\"none\" stroke=\"currentColor\"/>\n",
              "    <text dy=\"1.25em\" style=\"font-size: 0.8em; letter-spacing: 1px\">\n",
              "        <textPath xlink:href=\"#arrow-d05150fa85af4387a6077faa4b6b4cb5-0-15\" class=\"displacy-label\" startOffset=\"50%\" side=\"left\" fill=\"currentColor\" text-anchor=\"middle\">prep</textPath>\n",
              "    </text>\n",
              "    <path class=\"displacy-arrowhead\" d=\"M1340.0,604.0 L1348.0,592.0 1332.0,592.0\" fill=\"currentColor\"/>\n",
              "</g>\n",
              "\n",
              "<g class=\"displacy-arrow\">\n",
              "    <path class=\"displacy-arc\" id=\"arrow-d05150fa85af4387a6077faa4b6b4cb5-0-16\" stroke-width=\"2px\" d=\"M1510,602.0 C1510,522.0 1585.0,522.0 1585.0,602.0\" fill=\"none\" stroke=\"currentColor\"/>\n",
              "    <text dy=\"1.25em\" style=\"font-size: 0.8em; letter-spacing: 1px\">\n",
              "        <textPath xlink:href=\"#arrow-d05150fa85af4387a6077faa4b6b4cb5-0-16\" class=\"displacy-label\" startOffset=\"50%\" side=\"left\" fill=\"currentColor\" text-anchor=\"middle\">det</textPath>\n",
              "    </text>\n",
              "    <path class=\"displacy-arrowhead\" d=\"M1510,604.0 L1502,592.0 1518,592.0\" fill=\"currentColor\"/>\n",
              "</g>\n",
              "\n",
              "<g class=\"displacy-arrow\">\n",
              "    <path class=\"displacy-arc\" id=\"arrow-d05150fa85af4387a6077faa4b6b4cb5-0-17\" stroke-width=\"2px\" d=\"M1590,602.0 C1590,562.0 1580.0,562.0 1580.0,602.0\" fill=\"none\" stroke=\"currentColor\"/>\n",
              "    <text dy=\"1.25em\" style=\"font-size: 0.8em; letter-spacing: 1px\">\n",
              "        <textPath xlink:href=\"#arrow-d05150fa85af4387a6077faa4b6b4cb5-0-17\" class=\"displacy-label\" startOffset=\"50%\" side=\"left\" fill=\"currentColor\" text-anchor=\"middle\">compound</textPath>\n",
              "    </text>\n",
              "    <path class=\"displacy-arrowhead\" d=\"M1590,604.0 L1582,592.0 1598,592.0\" fill=\"currentColor\"/>\n",
              "</g>\n",
              "\n",
              "<g class=\"displacy-arrow\">\n",
              "    <path class=\"displacy-arc\" id=\"arrow-d05150fa85af4387a6077faa4b6b4cb5-0-18\" stroke-width=\"2px\" d=\"M1430,602.0 C1430,482.0 1590.0,482.0 1590.0,602.0\" fill=\"none\" stroke=\"currentColor\"/>\n",
              "    <text dy=\"1.25em\" style=\"font-size: 0.8em; letter-spacing: 1px\">\n",
              "        <textPath xlink:href=\"#arrow-d05150fa85af4387a6077faa4b6b4cb5-0-18\" class=\"displacy-label\" startOffset=\"50%\" side=\"left\" fill=\"currentColor\" text-anchor=\"middle\">pobj</textPath>\n",
              "    </text>\n",
              "    <path class=\"displacy-arrowhead\" d=\"M1590.0,604.0 L1598.0,592.0 1582.0,592.0\" fill=\"currentColor\"/>\n",
              "</g>\n",
              "\n",
              "<g class=\"displacy-arrow\">\n",
              "    <path class=\"displacy-arc\" id=\"arrow-d05150fa85af4387a6077faa4b6b4cb5-0-19\" stroke-width=\"2px\" d=\"M1030,602.0 C1030,242.0 1700.0,242.0 1700.0,602.0\" fill=\"none\" stroke=\"currentColor\"/>\n",
              "    <text dy=\"1.25em\" style=\"font-size: 0.8em; letter-spacing: 1px\">\n",
              "        <textPath xlink:href=\"#arrow-d05150fa85af4387a6077faa4b6b4cb5-0-19\" class=\"displacy-label\" startOffset=\"50%\" side=\"left\" fill=\"currentColor\" text-anchor=\"middle\">prep</textPath>\n",
              "    </text>\n",
              "    <path class=\"displacy-arrowhead\" d=\"M1700.0,604.0 L1708.0,592.0 1692.0,592.0\" fill=\"currentColor\"/>\n",
              "</g>\n",
              "\n",
              "<g class=\"displacy-arrow\">\n",
              "    <path class=\"displacy-arc\" id=\"arrow-d05150fa85af4387a6077faa4b6b4cb5-0-20\" stroke-width=\"2px\" d=\"M1830,602.0 C1830,522.0 1905.0,522.0 1905.0,602.0\" fill=\"none\" stroke=\"currentColor\"/>\n",
              "    <text dy=\"1.25em\" style=\"font-size: 0.8em; letter-spacing: 1px\">\n",
              "        <textPath xlink:href=\"#arrow-d05150fa85af4387a6077faa4b6b4cb5-0-20\" class=\"displacy-label\" startOffset=\"50%\" side=\"left\" fill=\"currentColor\" text-anchor=\"middle\">det</textPath>\n",
              "    </text>\n",
              "    <path class=\"displacy-arrowhead\" d=\"M1830,604.0 L1822,592.0 1838,592.0\" fill=\"currentColor\"/>\n",
              "</g>\n",
              "\n",
              "<g class=\"displacy-arrow\">\n",
              "    <path class=\"displacy-arc\" id=\"arrow-d05150fa85af4387a6077faa4b6b4cb5-0-21\" stroke-width=\"2px\" d=\"M1910,602.0 C1910,562.0 1900.0,562.0 1900.0,602.0\" fill=\"none\" stroke=\"currentColor\"/>\n",
              "    <text dy=\"1.25em\" style=\"font-size: 0.8em; letter-spacing: 1px\">\n",
              "        <textPath xlink:href=\"#arrow-d05150fa85af4387a6077faa4b6b4cb5-0-21\" class=\"displacy-label\" startOffset=\"50%\" side=\"left\" fill=\"currentColor\" text-anchor=\"middle\">amod</textPath>\n",
              "    </text>\n",
              "    <path class=\"displacy-arrowhead\" d=\"M1910,604.0 L1902,592.0 1918,592.0\" fill=\"currentColor\"/>\n",
              "</g>\n",
              "\n",
              "<g class=\"displacy-arrow\">\n",
              "    <path class=\"displacy-arc\" id=\"arrow-d05150fa85af4387a6077faa4b6b4cb5-0-22\" stroke-width=\"2px\" d=\"M1750,602.0 C1750,482.0 1910.0,482.0 1910.0,602.0\" fill=\"none\" stroke=\"currentColor\"/>\n",
              "    <text dy=\"1.25em\" style=\"font-size: 0.8em; letter-spacing: 1px\">\n",
              "        <textPath xlink:href=\"#arrow-d05150fa85af4387a6077faa4b6b4cb5-0-22\" class=\"displacy-label\" startOffset=\"50%\" side=\"left\" fill=\"currentColor\" text-anchor=\"middle\">pobj</textPath>\n",
              "    </text>\n",
              "    <path class=\"displacy-arrowhead\" d=\"M1910.0,604.0 L1918.0,592.0 1902.0,592.0\" fill=\"currentColor\"/>\n",
              "</g>\n",
              "\n",
              "<g class=\"displacy-arrow\">\n",
              "    <path class=\"displacy-arc\" id=\"arrow-d05150fa85af4387a6077faa4b6b4cb5-0-23\" stroke-width=\"2px\" d=\"M1030,602.0 C1030,122.0 2035.0,122.0 2035.0,602.0\" fill=\"none\" stroke=\"currentColor\"/>\n",
              "    <text dy=\"1.25em\" style=\"font-size: 0.8em; letter-spacing: 1px\">\n",
              "        <textPath xlink:href=\"#arrow-d05150fa85af4387a6077faa4b6b4cb5-0-23\" class=\"displacy-label\" startOffset=\"50%\" side=\"left\" fill=\"currentColor\" text-anchor=\"middle\">advcl</textPath>\n",
              "    </text>\n",
              "    <path class=\"displacy-arrowhead\" d=\"M2035.0,604.0 L2043.0,592.0 2027.0,592.0\" fill=\"currentColor\"/>\n",
              "</g>\n",
              "\n",
              "<g class=\"displacy-arrow\">\n",
              "    <path class=\"displacy-arc\" id=\"arrow-d05150fa85af4387a6077faa4b6b4cb5-0-24\" stroke-width=\"2px\" d=\"M2150,602.0 C2150,522.0 2225.0,522.0 2225.0,602.0\" fill=\"none\" stroke=\"currentColor\"/>\n",
              "    <text dy=\"1.25em\" style=\"font-size: 0.8em; letter-spacing: 1px\">\n",
              "        <textPath xlink:href=\"#arrow-d05150fa85af4387a6077faa4b6b4cb5-0-24\" class=\"displacy-label\" startOffset=\"50%\" side=\"left\" fill=\"currentColor\" text-anchor=\"middle\">det</textPath>\n",
              "    </text>\n",
              "    <path class=\"displacy-arrowhead\" d=\"M2150,604.0 L2142,592.0 2158,592.0\" fill=\"currentColor\"/>\n",
              "</g>\n",
              "\n",
              "<g class=\"displacy-arrow\">\n",
              "    <path class=\"displacy-arc\" id=\"arrow-d05150fa85af4387a6077faa4b6b4cb5-0-25\" stroke-width=\"2px\" d=\"M2230,602.0 C2230,562.0 2220.0,562.0 2220.0,602.0\" fill=\"none\" stroke=\"currentColor\"/>\n",
              "    <text dy=\"1.25em\" style=\"font-size: 0.8em; letter-spacing: 1px\">\n",
              "        <textPath xlink:href=\"#arrow-d05150fa85af4387a6077faa4b6b4cb5-0-25\" class=\"displacy-label\" startOffset=\"50%\" side=\"left\" fill=\"currentColor\" text-anchor=\"middle\">amod</textPath>\n",
              "    </text>\n",
              "    <path class=\"displacy-arrowhead\" d=\"M2230,604.0 L2222,592.0 2238,592.0\" fill=\"currentColor\"/>\n",
              "</g>\n",
              "\n",
              "<g class=\"displacy-arrow\">\n",
              "    <path class=\"displacy-arc\" id=\"arrow-d05150fa85af4387a6077faa4b6b4cb5-0-26\" stroke-width=\"2px\" d=\"M2070,602.0 C2070,482.0 2230.0,482.0 2230.0,602.0\" fill=\"none\" stroke=\"currentColor\"/>\n",
              "    <text dy=\"1.25em\" style=\"font-size: 0.8em; letter-spacing: 1px\">\n",
              "        <textPath xlink:href=\"#arrow-d05150fa85af4387a6077faa4b6b4cb5-0-26\" class=\"displacy-label\" startOffset=\"50%\" side=\"left\" fill=\"currentColor\" text-anchor=\"middle\">dobj</textPath>\n",
              "    </text>\n",
              "    <path class=\"displacy-arrowhead\" d=\"M2230.0,604.0 L2238.0,592.0 2222.0,592.0\" fill=\"currentColor\"/>\n",
              "</g>\n",
              "\n",
              "<g class=\"displacy-arrow\">\n",
              "    <path class=\"displacy-arc\" id=\"arrow-d05150fa85af4387a6077faa4b6b4cb5-0-27\" stroke-width=\"2px\" d=\"M2310,602.0 C2310,562.0 2300.0,562.0 2300.0,602.0\" fill=\"none\" stroke=\"currentColor\"/>\n",
              "    <text dy=\"1.25em\" style=\"font-size: 0.8em; letter-spacing: 1px\">\n",
              "        <textPath xlink:href=\"#arrow-d05150fa85af4387a6077faa4b6b4cb5-0-27\" class=\"displacy-label\" startOffset=\"50%\" side=\"left\" fill=\"currentColor\" text-anchor=\"middle\">prep</textPath>\n",
              "    </text>\n",
              "    <path class=\"displacy-arrowhead\" d=\"M2300.0,604.0 L2308.0,592.0 2292.0,592.0\" fill=\"currentColor\"/>\n",
              "</g>\n",
              "\n",
              "<g class=\"displacy-arrow\">\n",
              "    <path class=\"displacy-arc\" id=\"arrow-d05150fa85af4387a6077faa4b6b4cb5-0-28\" stroke-width=\"2px\" d=\"M2470,602.0 C2470,562.0 2460.0,562.0 2460.0,602.0\" fill=\"none\" stroke=\"currentColor\"/>\n",
              "    <text dy=\"1.25em\" style=\"font-size: 0.8em; letter-spacing: 1px\">\n",
              "        <textPath xlink:href=\"#arrow-d05150fa85af4387a6077faa4b6b4cb5-0-28\" class=\"displacy-label\" startOffset=\"50%\" side=\"left\" fill=\"currentColor\" text-anchor=\"middle\">amod</textPath>\n",
              "    </text>\n",
              "    <path class=\"displacy-arrowhead\" d=\"M2470,604.0 L2462,592.0 2478,592.0\" fill=\"currentColor\"/>\n",
              "</g>\n",
              "\n",
              "<g class=\"displacy-arrow\">\n",
              "    <path class=\"displacy-arc\" id=\"arrow-d05150fa85af4387a6077faa4b6b4cb5-0-29\" stroke-width=\"2px\" d=\"M2550,602.0 C2550,522.0 2625.0,522.0 2625.0,602.0\" fill=\"none\" stroke=\"currentColor\"/>\n",
              "    <text dy=\"1.25em\" style=\"font-size: 0.8em; letter-spacing: 1px\">\n",
              "        <textPath xlink:href=\"#arrow-d05150fa85af4387a6077faa4b6b4cb5-0-29\" class=\"displacy-label\" startOffset=\"50%\" side=\"left\" fill=\"currentColor\" text-anchor=\"middle\">compound</textPath>\n",
              "    </text>\n",
              "    <path class=\"displacy-arrowhead\" d=\"M2550,604.0 L2542,592.0 2558,592.0\" fill=\"currentColor\"/>\n",
              "</g>\n",
              "\n",
              "<g class=\"displacy-arrow\">\n",
              "    <path class=\"displacy-arc\" id=\"arrow-d05150fa85af4387a6077faa4b6b4cb5-0-30\" stroke-width=\"2px\" d=\"M2630,602.0 C2630,562.0 2620.0,562.0 2620.0,602.0\" fill=\"none\" stroke=\"currentColor\"/>\n",
              "    <text dy=\"1.25em\" style=\"font-size: 0.8em; letter-spacing: 1px\">\n",
              "        <textPath xlink:href=\"#arrow-d05150fa85af4387a6077faa4b6b4cb5-0-30\" class=\"displacy-label\" startOffset=\"50%\" side=\"left\" fill=\"currentColor\" text-anchor=\"middle\">compound</textPath>\n",
              "    </text>\n",
              "    <path class=\"displacy-arrowhead\" d=\"M2630,604.0 L2622,592.0 2638,592.0\" fill=\"currentColor\"/>\n",
              "</g>\n",
              "\n",
              "<g class=\"displacy-arrow\">\n",
              "    <path class=\"displacy-arc\" id=\"arrow-d05150fa85af4387a6077faa4b6b4cb5-0-31\" stroke-width=\"2px\" d=\"M2390,602.0 C2390,442.0 2635.0,442.0 2635.0,602.0\" fill=\"none\" stroke=\"currentColor\"/>\n",
              "    <text dy=\"1.25em\" style=\"font-size: 0.8em; letter-spacing: 1px\">\n",
              "        <textPath xlink:href=\"#arrow-d05150fa85af4387a6077faa4b6b4cb5-0-31\" class=\"displacy-label\" startOffset=\"50%\" side=\"left\" fill=\"currentColor\" text-anchor=\"middle\">pobj</textPath>\n",
              "    </text>\n",
              "    <path class=\"displacy-arrowhead\" d=\"M2635.0,604.0 L2643.0,592.0 2627.0,592.0\" fill=\"currentColor\"/>\n",
              "</g>\n",
              "\n",
              "<g class=\"displacy-arrow\">\n",
              "    <path class=\"displacy-arc\" id=\"arrow-d05150fa85af4387a6077faa4b6b4cb5-0-32\" stroke-width=\"2px\" d=\"M2790,602.0 C2790,2.0 4130.0,2.0 4130.0,602.0\" fill=\"none\" stroke=\"currentColor\"/>\n",
              "    <text dy=\"1.25em\" style=\"font-size: 0.8em; letter-spacing: 1px\">\n",
              "        <textPath xlink:href=\"#arrow-d05150fa85af4387a6077faa4b6b4cb5-0-32\" class=\"displacy-label\" startOffset=\"50%\" side=\"left\" fill=\"currentColor\" text-anchor=\"middle\">prep</textPath>\n",
              "    </text>\n",
              "    <path class=\"displacy-arrowhead\" d=\"M2790,604.0 L2782,592.0 2798,592.0\" fill=\"currentColor\"/>\n",
              "</g>\n",
              "\n",
              "<g class=\"displacy-arrow\">\n",
              "    <path class=\"displacy-arc\" id=\"arrow-d05150fa85af4387a6077faa4b6b4cb5-0-33\" stroke-width=\"2px\" d=\"M2870,602.0 C2870,562.0 2860.0,562.0 2860.0,602.0\" fill=\"none\" stroke=\"currentColor\"/>\n",
              "    <text dy=\"1.25em\" style=\"font-size: 0.8em; letter-spacing: 1px\">\n",
              "        <textPath xlink:href=\"#arrow-d05150fa85af4387a6077faa4b6b4cb5-0-33\" class=\"displacy-label\" startOffset=\"50%\" side=\"left\" fill=\"currentColor\" text-anchor=\"middle\">amod</textPath>\n",
              "    </text>\n",
              "    <path class=\"displacy-arrowhead\" d=\"M2870,604.0 L2862,592.0 2878,592.0\" fill=\"currentColor\"/>\n",
              "</g>\n",
              "\n",
              "<g class=\"displacy-arrow\">\n",
              "    <path class=\"displacy-arc\" id=\"arrow-d05150fa85af4387a6077faa4b6b4cb5-0-34\" stroke-width=\"2px\" d=\"M2790,602.0 C2790,522.0 2865.0,522.0 2865.0,602.0\" fill=\"none\" stroke=\"currentColor\"/>\n",
              "    <text dy=\"1.25em\" style=\"font-size: 0.8em; letter-spacing: 1px\">\n",
              "        <textPath xlink:href=\"#arrow-d05150fa85af4387a6077faa4b6b4cb5-0-34\" class=\"displacy-label\" startOffset=\"50%\" side=\"left\" fill=\"currentColor\" text-anchor=\"middle\">pobj</textPath>\n",
              "    </text>\n",
              "    <path class=\"displacy-arrowhead\" d=\"M2865.0,604.0 L2873.0,592.0 2857.0,592.0\" fill=\"currentColor\"/>\n",
              "</g>\n",
              "\n",
              "<g class=\"displacy-arrow\">\n",
              "    <path class=\"displacy-arc\" id=\"arrow-d05150fa85af4387a6077faa4b6b4cb5-0-35\" stroke-width=\"2px\" d=\"M2950,602.0 C2950,562.0 2940.0,562.0 2940.0,602.0\" fill=\"none\" stroke=\"currentColor\"/>\n",
              "    <text dy=\"1.25em\" style=\"font-size: 0.8em; letter-spacing: 1px\">\n",
              "        <textPath xlink:href=\"#arrow-d05150fa85af4387a6077faa4b6b4cb5-0-35\" class=\"displacy-label\" startOffset=\"50%\" side=\"left\" fill=\"currentColor\" text-anchor=\"middle\">cc</textPath>\n",
              "    </text>\n",
              "    <path class=\"displacy-arrowhead\" d=\"M2940.0,604.0 L2948.0,592.0 2932.0,592.0\" fill=\"currentColor\"/>\n",
              "</g>\n",
              "\n",
              "<g class=\"displacy-arrow\">\n",
              "    <path class=\"displacy-arc\" id=\"arrow-d05150fa85af4387a6077faa4b6b4cb5-0-36\" stroke-width=\"2px\" d=\"M2950,602.0 C2950,522.0 3025.0,522.0 3025.0,602.0\" fill=\"none\" stroke=\"currentColor\"/>\n",
              "    <text dy=\"1.25em\" style=\"font-size: 0.8em; letter-spacing: 1px\">\n",
              "        <textPath xlink:href=\"#arrow-d05150fa85af4387a6077faa4b6b4cb5-0-36\" class=\"displacy-label\" startOffset=\"50%\" side=\"left\" fill=\"currentColor\" text-anchor=\"middle\">conj</textPath>\n",
              "    </text>\n",
              "    <path class=\"displacy-arrowhead\" d=\"M3025.0,604.0 L3033.0,592.0 3017.0,592.0\" fill=\"currentColor\"/>\n",
              "</g>\n",
              "\n",
              "<g class=\"displacy-arrow\">\n",
              "    <path class=\"displacy-arc\" id=\"arrow-d05150fa85af4387a6077faa4b6b4cb5-0-37\" stroke-width=\"2px\" d=\"M3190,602.0 C3190,162.0 4110.0,162.0 4110.0,602.0\" fill=\"none\" stroke=\"currentColor\"/>\n",
              "    <text dy=\"1.25em\" style=\"font-size: 0.8em; letter-spacing: 1px\">\n",
              "        <textPath xlink:href=\"#arrow-d05150fa85af4387a6077faa4b6b4cb5-0-37\" class=\"displacy-label\" startOffset=\"50%\" side=\"left\" fill=\"currentColor\" text-anchor=\"middle\">nsubj</textPath>\n",
              "    </text>\n",
              "    <path class=\"displacy-arrowhead\" d=\"M3190,604.0 L3182,592.0 3198,592.0\" fill=\"currentColor\"/>\n",
              "</g>\n",
              "\n",
              "<g class=\"displacy-arrow\">\n",
              "    <path class=\"displacy-arc\" id=\"arrow-d05150fa85af4387a6077faa4b6b4cb5-0-38\" stroke-width=\"2px\" d=\"M3190,602.0 C3190,562.0 3180.0,562.0 3180.0,602.0\" fill=\"none\" stroke=\"currentColor\"/>\n",
              "    <text dy=\"1.25em\" style=\"font-size: 0.8em; letter-spacing: 1px\">\n",
              "        <textPath xlink:href=\"#arrow-d05150fa85af4387a6077faa4b6b4cb5-0-38\" class=\"displacy-label\" startOffset=\"50%\" side=\"left\" fill=\"currentColor\" text-anchor=\"middle\">acl</textPath>\n",
              "    </text>\n",
              "    <path class=\"displacy-arrowhead\" d=\"M3180.0,604.0 L3188.0,592.0 3172.0,592.0\" fill=\"currentColor\"/>\n",
              "</g>\n",
              "\n",
              "<g class=\"displacy-arrow\">\n",
              "    <path class=\"displacy-arc\" id=\"arrow-d05150fa85af4387a6077faa4b6b4cb5-0-39\" stroke-width=\"2px\" d=\"M3270,602.0 C3270,562.0 3260.0,562.0 3260.0,602.0\" fill=\"none\" stroke=\"currentColor\"/>\n",
              "    <text dy=\"1.25em\" style=\"font-size: 0.8em; letter-spacing: 1px\">\n",
              "        <textPath xlink:href=\"#arrow-d05150fa85af4387a6077faa4b6b4cb5-0-39\" class=\"displacy-label\" startOffset=\"50%\" side=\"left\" fill=\"currentColor\" text-anchor=\"middle\">advmod</textPath>\n",
              "    </text>\n",
              "    <path class=\"displacy-arrowhead\" d=\"M3260.0,604.0 L3268.0,592.0 3252.0,592.0\" fill=\"currentColor\"/>\n",
              "</g>\n",
              "\n",
              "<g class=\"displacy-arrow\">\n",
              "    <path class=\"displacy-arc\" id=\"arrow-d05150fa85af4387a6077faa4b6b4cb5-0-40\" stroke-width=\"2px\" d=\"M3270,602.0 C3270,522.0 3345.0,522.0 3345.0,602.0\" fill=\"none\" stroke=\"currentColor\"/>\n",
              "    <text dy=\"1.25em\" style=\"font-size: 0.8em; letter-spacing: 1px\">\n",
              "        <textPath xlink:href=\"#arrow-d05150fa85af4387a6077faa4b6b4cb5-0-40\" class=\"displacy-label\" startOffset=\"50%\" side=\"left\" fill=\"currentColor\" text-anchor=\"middle\">agent</textPath>\n",
              "    </text>\n",
              "    <path class=\"displacy-arrowhead\" d=\"M3345.0,604.0 L3353.0,592.0 3337.0,592.0\" fill=\"currentColor\"/>\n",
              "</g>\n",
              "\n",
              "<g class=\"displacy-arrow\">\n",
              "    <path class=\"displacy-arc\" id=\"arrow-d05150fa85af4387a6077faa4b6b4cb5-0-41\" stroke-width=\"2px\" d=\"M3430,602.0 C3430,562.0 3420.0,562.0 3420.0,602.0\" fill=\"none\" stroke=\"currentColor\"/>\n",
              "    <text dy=\"1.25em\" style=\"font-size: 0.8em; letter-spacing: 1px\">\n",
              "        <textPath xlink:href=\"#arrow-d05150fa85af4387a6077faa4b6b4cb5-0-41\" class=\"displacy-label\" startOffset=\"50%\" side=\"left\" fill=\"currentColor\" text-anchor=\"middle\">pobj</textPath>\n",
              "    </text>\n",
              "    <path class=\"displacy-arrowhead\" d=\"M3420.0,604.0 L3428.0,592.0 3412.0,592.0\" fill=\"currentColor\"/>\n",
              "</g>\n",
              "\n",
              "<g class=\"displacy-arrow\">\n",
              "    <path class=\"displacy-arc\" id=\"arrow-d05150fa85af4387a6077faa4b6b4cb5-0-42\" stroke-width=\"2px\" d=\"M3590,602.0 C3590,522.0 3665.0,522.0 3665.0,602.0\" fill=\"none\" stroke=\"currentColor\"/>\n",
              "    <text dy=\"1.25em\" style=\"font-size: 0.8em; letter-spacing: 1px\">\n",
              "        <textPath xlink:href=\"#arrow-d05150fa85af4387a6077faa4b6b4cb5-0-42\" class=\"displacy-label\" startOffset=\"50%\" side=\"left\" fill=\"currentColor\" text-anchor=\"middle\">det</textPath>\n",
              "    </text>\n",
              "    <path class=\"displacy-arrowhead\" d=\"M3590,604.0 L3582,592.0 3598,592.0\" fill=\"currentColor\"/>\n",
              "</g>\n",
              "\n",
              "<g class=\"displacy-arrow\">\n",
              "    <path class=\"displacy-arc\" id=\"arrow-d05150fa85af4387a6077faa4b6b4cb5-0-43\" stroke-width=\"2px\" d=\"M3670,602.0 C3670,562.0 3660.0,562.0 3660.0,602.0\" fill=\"none\" stroke=\"currentColor\"/>\n",
              "    <text dy=\"1.25em\" style=\"font-size: 0.8em; letter-spacing: 1px\">\n",
              "        <textPath xlink:href=\"#arrow-d05150fa85af4387a6077faa4b6b4cb5-0-43\" class=\"displacy-label\" startOffset=\"50%\" side=\"left\" fill=\"currentColor\" text-anchor=\"middle\">amod</textPath>\n",
              "    </text>\n",
              "    <path class=\"displacy-arrowhead\" d=\"M3670,604.0 L3662,592.0 3678,592.0\" fill=\"currentColor\"/>\n",
              "</g>\n",
              "\n",
              "<g class=\"displacy-arrow\">\n",
              "    <path class=\"displacy-arc\" id=\"arrow-d05150fa85af4387a6077faa4b6b4cb5-0-44\" stroke-width=\"2px\" d=\"M3750,602.0 C3750,402.0 4080.0,402.0 4080.0,602.0\" fill=\"none\" stroke=\"currentColor\"/>\n",
              "    <text dy=\"1.25em\" style=\"font-size: 0.8em; letter-spacing: 1px\">\n",
              "        <textPath xlink:href=\"#arrow-d05150fa85af4387a6077faa4b6b4cb5-0-44\" class=\"displacy-label\" startOffset=\"50%\" side=\"left\" fill=\"currentColor\" text-anchor=\"middle\">nsubj</textPath>\n",
              "    </text>\n",
              "    <path class=\"displacy-arrowhead\" d=\"M3750,604.0 L3742,592.0 3758,592.0\" fill=\"currentColor\"/>\n",
              "</g>\n",
              "\n",
              "<g class=\"displacy-arrow\">\n",
              "    <path class=\"displacy-arc\" id=\"arrow-d05150fa85af4387a6077faa4b6b4cb5-0-45\" stroke-width=\"2px\" d=\"M3750,602.0 C3750,562.0 3740.0,562.0 3740.0,602.0\" fill=\"none\" stroke=\"currentColor\"/>\n",
              "    <text dy=\"1.25em\" style=\"font-size: 0.8em; letter-spacing: 1px\">\n",
              "        <textPath xlink:href=\"#arrow-d05150fa85af4387a6077faa4b6b4cb5-0-45\" class=\"displacy-label\" startOffset=\"50%\" side=\"left\" fill=\"currentColor\" text-anchor=\"middle\">prep</textPath>\n",
              "    </text>\n",
              "    <path class=\"displacy-arrowhead\" d=\"M3740.0,604.0 L3748.0,592.0 3732.0,592.0\" fill=\"currentColor\"/>\n",
              "</g>\n",
              "\n",
              "<g class=\"displacy-arrow\">\n",
              "    <path class=\"displacy-arc\" id=\"arrow-d05150fa85af4387a6077faa4b6b4cb5-0-46\" stroke-width=\"2px\" d=\"M3910,602.0 C3910,562.0 3900.0,562.0 3900.0,602.0\" fill=\"none\" stroke=\"currentColor\"/>\n",
              "    <text dy=\"1.25em\" style=\"font-size: 0.8em; letter-spacing: 1px\">\n",
              "        <textPath xlink:href=\"#arrow-d05150fa85af4387a6077faa4b6b4cb5-0-46\" class=\"displacy-label\" startOffset=\"50%\" side=\"left\" fill=\"currentColor\" text-anchor=\"middle\">nummod</textPath>\n",
              "    </text>\n",
              "    <path class=\"displacy-arrowhead\" d=\"M3910,604.0 L3902,592.0 3918,592.0\" fill=\"currentColor\"/>\n",
              "</g>\n",
              "\n",
              "<g class=\"displacy-arrow\">\n",
              "    <path class=\"displacy-arc\" id=\"arrow-d05150fa85af4387a6077faa4b6b4cb5-0-47\" stroke-width=\"2px\" d=\"M3990,602.0 C3990,562.0 3980.0,562.0 3980.0,602.0\" fill=\"none\" stroke=\"currentColor\"/>\n",
              "    <text dy=\"1.25em\" style=\"font-size: 0.8em; letter-spacing: 1px\">\n",
              "        <textPath xlink:href=\"#arrow-d05150fa85af4387a6077faa4b6b4cb5-0-47\" class=\"displacy-label\" startOffset=\"50%\" side=\"left\" fill=\"currentColor\" text-anchor=\"middle\">compound</textPath>\n",
              "    </text>\n",
              "    <path class=\"displacy-arrowhead\" d=\"M3990,604.0 L3982,592.0 3998,592.0\" fill=\"currentColor\"/>\n",
              "</g>\n",
              "\n",
              "<g class=\"displacy-arrow\">\n",
              "    <path class=\"displacy-arc\" id=\"arrow-d05150fa85af4387a6077faa4b6b4cb5-0-48\" stroke-width=\"2px\" d=\"M3830,602.0 C3830,482.0 3990.0,482.0 3990.0,602.0\" fill=\"none\" stroke=\"currentColor\"/>\n",
              "    <text dy=\"1.25em\" style=\"font-size: 0.8em; letter-spacing: 1px\">\n",
              "        <textPath xlink:href=\"#arrow-d05150fa85af4387a6077faa4b6b4cb5-0-48\" class=\"displacy-label\" startOffset=\"50%\" side=\"left\" fill=\"currentColor\" text-anchor=\"middle\">pobj</textPath>\n",
              "    </text>\n",
              "    <path class=\"displacy-arrowhead\" d=\"M3990.0,604.0 L3998.0,592.0 3982.0,592.0\" fill=\"currentColor\"/>\n",
              "</g>\n",
              "\n",
              "<g class=\"displacy-arrow\">\n",
              "    <path class=\"displacy-arc\" id=\"arrow-d05150fa85af4387a6077faa4b6b4cb5-0-49\" stroke-width=\"2px\" d=\"M4150,602.0 C4150,562.0 4140.0,562.0 4140.0,602.0\" fill=\"none\" stroke=\"currentColor\"/>\n",
              "    <text dy=\"1.25em\" style=\"font-size: 0.8em; letter-spacing: 1px\">\n",
              "        <textPath xlink:href=\"#arrow-d05150fa85af4387a6077faa4b6b4cb5-0-49\" class=\"displacy-label\" startOffset=\"50%\" side=\"left\" fill=\"currentColor\" text-anchor=\"middle\">prep</textPath>\n",
              "    </text>\n",
              "    <path class=\"displacy-arrowhead\" d=\"M4140.0,604.0 L4148.0,592.0 4132.0,592.0\" fill=\"currentColor\"/>\n",
              "</g>\n",
              "\n",
              "<g class=\"displacy-arrow\">\n",
              "    <path class=\"displacy-arc\" id=\"arrow-d05150fa85af4387a6077faa4b6b4cb5-0-50\" stroke-width=\"2px\" d=\"M4230,602.0 C4230,562.0 4220.0,562.0 4220.0,602.0\" fill=\"none\" stroke=\"currentColor\"/>\n",
              "    <text dy=\"1.25em\" style=\"font-size: 0.8em; letter-spacing: 1px\">\n",
              "        <textPath xlink:href=\"#arrow-d05150fa85af4387a6077faa4b6b4cb5-0-50\" class=\"displacy-label\" startOffset=\"50%\" side=\"left\" fill=\"currentColor\" text-anchor=\"middle\">pobj</textPath>\n",
              "    </text>\n",
              "    <path class=\"displacy-arrowhead\" d=\"M4220.0,604.0 L4228.0,592.0 4212.0,592.0\" fill=\"currentColor\"/>\n",
              "</g>\n",
              "\n",
              "<g class=\"displacy-arrow\">\n",
              "    <path class=\"displacy-arc\" id=\"arrow-d05150fa85af4387a6077faa4b6b4cb5-0-51\" stroke-width=\"2px\" d=\"M4150,602.0 C4150,482.0 4310.0,482.0 4310.0,602.0\" fill=\"none\" stroke=\"currentColor\"/>\n",
              "    <text dy=\"1.25em\" style=\"font-size: 0.8em; letter-spacing: 1px\">\n",
              "        <textPath xlink:href=\"#arrow-d05150fa85af4387a6077faa4b6b4cb5-0-51\" class=\"displacy-label\" startOffset=\"50%\" side=\"left\" fill=\"currentColor\" text-anchor=\"middle\">prep</textPath>\n",
              "    </text>\n",
              "    <path class=\"displacy-arrowhead\" d=\"M4310.0,604.0 L4318.0,592.0 4302.0,592.0\" fill=\"currentColor\"/>\n",
              "</g>\n",
              "\n",
              "<g class=\"displacy-arrow\">\n",
              "    <path class=\"displacy-arc\" id=\"arrow-d05150fa85af4387a6077faa4b6b4cb5-0-52\" stroke-width=\"2px\" d=\"M4390,602.0 C4390,562.0 4380.0,562.0 4380.0,602.0\" fill=\"none\" stroke=\"currentColor\"/>\n",
              "    <text dy=\"1.25em\" style=\"font-size: 0.8em; letter-spacing: 1px\">\n",
              "        <textPath xlink:href=\"#arrow-d05150fa85af4387a6077faa4b6b4cb5-0-52\" class=\"displacy-label\" startOffset=\"50%\" side=\"left\" fill=\"currentColor\" text-anchor=\"middle\">pobj</textPath>\n",
              "    </text>\n",
              "    <path class=\"displacy-arrowhead\" d=\"M4380.0,604.0 L4388.0,592.0 4372.0,592.0\" fill=\"currentColor\"/>\n",
              "</g>\n",
              "\n",
              "<g class=\"displacy-arrow\">\n",
              "    <path class=\"displacy-arc\" id=\"arrow-d05150fa85af4387a6077faa4b6b4cb5-0-53\" stroke-width=\"2px\" d=\"M4390,602.0 C4390,522.0 4465.0,522.0 4465.0,602.0\" fill=\"none\" stroke=\"currentColor\"/>\n",
              "    <text dy=\"1.25em\" style=\"font-size: 0.8em; letter-spacing: 1px\">\n",
              "        <textPath xlink:href=\"#arrow-d05150fa85af4387a6077faa4b6b4cb5-0-53\" class=\"displacy-label\" startOffset=\"50%\" side=\"left\" fill=\"currentColor\" text-anchor=\"middle\">prep</textPath>\n",
              "    </text>\n",
              "    <path class=\"displacy-arrowhead\" d=\"M4465.0,604.0 L4473.0,592.0 4457.0,592.0\" fill=\"currentColor\"/>\n",
              "</g>\n",
              "\n",
              "<g class=\"displacy-arrow\">\n",
              "    <path class=\"displacy-arc\" id=\"arrow-d05150fa85af4387a6077faa4b6b4cb5-0-54\" stroke-width=\"2px\" d=\"M4630,602.0 C4630,562.0 4620.0,562.0 4620.0,602.0\" fill=\"none\" stroke=\"currentColor\"/>\n",
              "    <text dy=\"1.25em\" style=\"font-size: 0.8em; letter-spacing: 1px\">\n",
              "        <textPath xlink:href=\"#arrow-d05150fa85af4387a6077faa4b6b4cb5-0-54\" class=\"displacy-label\" startOffset=\"50%\" side=\"left\" fill=\"currentColor\" text-anchor=\"middle\">det</textPath>\n",
              "    </text>\n",
              "    <path class=\"displacy-arrowhead\" d=\"M4630,604.0 L4622,592.0 4638,592.0\" fill=\"currentColor\"/>\n",
              "</g>\n",
              "\n",
              "<g class=\"displacy-arrow\">\n",
              "    <path class=\"displacy-arc\" id=\"arrow-d05150fa85af4387a6077faa4b6b4cb5-0-55\" stroke-width=\"2px\" d=\"M4550,602.0 C4550,522.0 4625.0,522.0 4625.0,602.0\" fill=\"none\" stroke=\"currentColor\"/>\n",
              "    <text dy=\"1.25em\" style=\"font-size: 0.8em; letter-spacing: 1px\">\n",
              "        <textPath xlink:href=\"#arrow-d05150fa85af4387a6077faa4b6b4cb5-0-55\" class=\"displacy-label\" startOffset=\"50%\" side=\"left\" fill=\"currentColor\" text-anchor=\"middle\">pobj</textPath>\n",
              "    </text>\n",
              "    <path class=\"displacy-arrowhead\" d=\"M4625.0,604.0 L4633.0,592.0 4617.0,592.0\" fill=\"currentColor\"/>\n",
              "</g>\n",
              "\n",
              "<g class=\"displacy-arrow\">\n",
              "    <path class=\"displacy-arc\" id=\"arrow-d05150fa85af4387a6077faa4b6b4cb5-0-56\" stroke-width=\"2px\" d=\"M4710,602.0 C4710,562.0 4700.0,562.0 4700.0,602.0\" fill=\"none\" stroke=\"currentColor\"/>\n",
              "    <text dy=\"1.25em\" style=\"font-size: 0.8em; letter-spacing: 1px\">\n",
              "        <textPath xlink:href=\"#arrow-d05150fa85af4387a6077faa4b6b4cb5-0-56\" class=\"displacy-label\" startOffset=\"50%\" side=\"left\" fill=\"currentColor\" text-anchor=\"middle\">acl</textPath>\n",
              "    </text>\n",
              "    <path class=\"displacy-arrowhead\" d=\"M4700.0,604.0 L4708.0,592.0 4692.0,592.0\" fill=\"currentColor\"/>\n",
              "</g>\n",
              "\n",
              "<g class=\"displacy-arrow\">\n",
              "    <path class=\"displacy-arc\" id=\"arrow-d05150fa85af4387a6077faa4b6b4cb5-0-57\" stroke-width=\"2px\" d=\"M4790,602.0 C4790,562.0 4780.0,562.0 4780.0,602.0\" fill=\"none\" stroke=\"currentColor\"/>\n",
              "    <text dy=\"1.25em\" style=\"font-size: 0.8em; letter-spacing: 1px\">\n",
              "        <textPath xlink:href=\"#arrow-d05150fa85af4387a6077faa4b6b4cb5-0-57\" class=\"displacy-label\" startOffset=\"50%\" side=\"left\" fill=\"currentColor\" text-anchor=\"middle\">npadvmod</textPath>\n",
              "    </text>\n",
              "    <path class=\"displacy-arrowhead\" d=\"M4780.0,604.0 L4788.0,592.0 4772.0,592.0\" fill=\"currentColor\"/>\n",
              "</g>\n",
              "\n",
              "<g class=\"displacy-arrow\">\n",
              "    <path class=\"displacy-arc\" id=\"arrow-d05150fa85af4387a6077faa4b6b4cb5-0-58\" stroke-width=\"2px\" d=\"M4150,602.0 C4150,202.0 4905.0,202.0 4905.0,602.0\" fill=\"none\" stroke=\"currentColor\"/>\n",
              "    <text dy=\"1.25em\" style=\"font-size: 0.8em; letter-spacing: 1px\">\n",
              "        <textPath xlink:href=\"#arrow-d05150fa85af4387a6077faa4b6b4cb5-0-58\" class=\"displacy-label\" startOffset=\"50%\" side=\"left\" fill=\"currentColor\" text-anchor=\"middle\">prep</textPath>\n",
              "    </text>\n",
              "    <path class=\"displacy-arrowhead\" d=\"M4905.0,604.0 L4913.0,592.0 4897.0,592.0\" fill=\"currentColor\"/>\n",
              "</g>\n",
              "\n",
              "<g class=\"displacy-arrow\">\n",
              "    <path class=\"displacy-arc\" id=\"arrow-d05150fa85af4387a6077faa4b6b4cb5-0-59\" stroke-width=\"2px\" d=\"M4950,602.0 C4950,562.0 4940.0,562.0 4940.0,602.0\" fill=\"none\" stroke=\"currentColor\"/>\n",
              "    <text dy=\"1.25em\" style=\"font-size: 0.8em; letter-spacing: 1px\">\n",
              "        <textPath xlink:href=\"#arrow-d05150fa85af4387a6077faa4b6b4cb5-0-59\" class=\"displacy-label\" startOffset=\"50%\" side=\"left\" fill=\"currentColor\" text-anchor=\"middle\">prep</textPath>\n",
              "    </text>\n",
              "    <path class=\"displacy-arrowhead\" d=\"M4940.0,604.0 L4948.0,592.0 4932.0,592.0\" fill=\"currentColor\"/>\n",
              "</g>\n",
              "\n",
              "<g class=\"displacy-arrow\">\n",
              "    <path class=\"displacy-arc\" id=\"arrow-d05150fa85af4387a6077faa4b6b4cb5-0-60\" stroke-width=\"2px\" d=\"M5110,602.0 C5110,522.0 5185.0,522.0 5185.0,602.0\" fill=\"none\" stroke=\"currentColor\"/>\n",
              "    <text dy=\"1.25em\" style=\"font-size: 0.8em; letter-spacing: 1px\">\n",
              "        <textPath xlink:href=\"#arrow-d05150fa85af4387a6077faa4b6b4cb5-0-60\" class=\"displacy-label\" startOffset=\"50%\" side=\"left\" fill=\"currentColor\" text-anchor=\"middle\">det</textPath>\n",
              "    </text>\n",
              "    <path class=\"displacy-arrowhead\" d=\"M5110,604.0 L5102,592.0 5118,592.0\" fill=\"currentColor\"/>\n",
              "</g>\n",
              "\n",
              "<g class=\"displacy-arrow\">\n",
              "    <path class=\"displacy-arc\" id=\"arrow-d05150fa85af4387a6077faa4b6b4cb5-0-61\" stroke-width=\"2px\" d=\"M5190,602.0 C5190,562.0 5180.0,562.0 5180.0,602.0\" fill=\"none\" stroke=\"currentColor\"/>\n",
              "    <text dy=\"1.25em\" style=\"font-size: 0.8em; letter-spacing: 1px\">\n",
              "        <textPath xlink:href=\"#arrow-d05150fa85af4387a6077faa4b6b4cb5-0-61\" class=\"displacy-label\" startOffset=\"50%\" side=\"left\" fill=\"currentColor\" text-anchor=\"middle\">amod</textPath>\n",
              "    </text>\n",
              "    <path class=\"displacy-arrowhead\" d=\"M5190,604.0 L5182,592.0 5198,592.0\" fill=\"currentColor\"/>\n",
              "</g>\n",
              "\n",
              "<g class=\"displacy-arrow\">\n",
              "    <path class=\"displacy-arc\" id=\"arrow-d05150fa85af4387a6077faa4b6b4cb5-0-62\" stroke-width=\"2px\" d=\"M5030,602.0 C5030,482.0 5190.0,482.0 5190.0,602.0\" fill=\"none\" stroke=\"currentColor\"/>\n",
              "    <text dy=\"1.25em\" style=\"font-size: 0.8em; letter-spacing: 1px\">\n",
              "        <textPath xlink:href=\"#arrow-d05150fa85af4387a6077faa4b6b4cb5-0-62\" class=\"displacy-label\" startOffset=\"50%\" side=\"left\" fill=\"currentColor\" text-anchor=\"middle\">pobj</textPath>\n",
              "    </text>\n",
              "    <path class=\"displacy-arrowhead\" d=\"M5190.0,604.0 L5198.0,592.0 5182.0,592.0\" fill=\"currentColor\"/>\n",
              "</g>\n",
              "\n",
              "<g class=\"displacy-arrow\">\n",
              "    <path class=\"displacy-arc\" id=\"arrow-d05150fa85af4387a6077faa4b6b4cb5-0-63\" stroke-width=\"2px\" d=\"M5270,602.0 C5270,562.0 5260.0,562.0 5260.0,602.0\" fill=\"none\" stroke=\"currentColor\"/>\n",
              "    <text dy=\"1.25em\" style=\"font-size: 0.8em; letter-spacing: 1px\">\n",
              "        <textPath xlink:href=\"#arrow-d05150fa85af4387a6077faa4b6b4cb5-0-63\" class=\"displacy-label\" startOffset=\"50%\" side=\"left\" fill=\"currentColor\" text-anchor=\"middle\">prep</textPath>\n",
              "    </text>\n",
              "    <path class=\"displacy-arrowhead\" d=\"M5260.0,604.0 L5268.0,592.0 5252.0,592.0\" fill=\"currentColor\"/>\n",
              "</g>\n",
              "\n",
              "<g class=\"displacy-arrow\">\n",
              "    <path class=\"displacy-arc\" id=\"arrow-d05150fa85af4387a6077faa4b6b4cb5-0-64\" stroke-width=\"2px\" d=\"M5430,602.0 C5430,522.0 5505.0,522.0 5505.0,602.0\" fill=\"none\" stroke=\"currentColor\"/>\n",
              "    <text dy=\"1.25em\" style=\"font-size: 0.8em; letter-spacing: 1px\">\n",
              "        <textPath xlink:href=\"#arrow-d05150fa85af4387a6077faa4b6b4cb5-0-64\" class=\"displacy-label\" startOffset=\"50%\" side=\"left\" fill=\"currentColor\" text-anchor=\"middle\">compound</textPath>\n",
              "    </text>\n",
              "    <path class=\"displacy-arrowhead\" d=\"M5430,604.0 L5422,592.0 5438,592.0\" fill=\"currentColor\"/>\n",
              "</g>\n",
              "\n",
              "<g class=\"displacy-arrow\">\n",
              "    <path class=\"displacy-arc\" id=\"arrow-d05150fa85af4387a6077faa4b6b4cb5-0-65\" stroke-width=\"2px\" d=\"M5510,602.0 C5510,562.0 5500.0,562.0 5500.0,602.0\" fill=\"none\" stroke=\"currentColor\"/>\n",
              "    <text dy=\"1.25em\" style=\"font-size: 0.8em; letter-spacing: 1px\">\n",
              "        <textPath xlink:href=\"#arrow-d05150fa85af4387a6077faa4b6b4cb5-0-65\" class=\"displacy-label\" startOffset=\"50%\" side=\"left\" fill=\"currentColor\" text-anchor=\"middle\">compound</textPath>\n",
              "    </text>\n",
              "    <path class=\"displacy-arrowhead\" d=\"M5510,604.0 L5502,592.0 5518,592.0\" fill=\"currentColor\"/>\n",
              "</g>\n",
              "\n",
              "<g class=\"displacy-arrow\">\n",
              "    <path class=\"displacy-arc\" id=\"arrow-d05150fa85af4387a6077faa4b6b4cb5-0-66\" stroke-width=\"2px\" d=\"M5350,602.0 C5350,482.0 5510.0,482.0 5510.0,602.0\" fill=\"none\" stroke=\"currentColor\"/>\n",
              "    <text dy=\"1.25em\" style=\"font-size: 0.8em; letter-spacing: 1px\">\n",
              "        <textPath xlink:href=\"#arrow-d05150fa85af4387a6077faa4b6b4cb5-0-66\" class=\"displacy-label\" startOffset=\"50%\" side=\"left\" fill=\"currentColor\" text-anchor=\"middle\">pobj</textPath>\n",
              "    </text>\n",
              "    <path class=\"displacy-arrowhead\" d=\"M5510.0,604.0 L5518.0,592.0 5502.0,592.0\" fill=\"currentColor\"/>\n",
              "</g>\n",
              "\n",
              "<g class=\"displacy-arrow\">\n",
              "    <path class=\"displacy-arc\" id=\"arrow-d05150fa85af4387a6077faa4b6b4cb5-0-67\" stroke-width=\"2px\" d=\"M5670,602.0 C5670,442.0 5915.0,442.0 5915.0,602.0\" fill=\"none\" stroke=\"currentColor\"/>\n",
              "    <text dy=\"1.25em\" style=\"font-size: 0.8em; letter-spacing: 1px\">\n",
              "        <textPath xlink:href=\"#arrow-d05150fa85af4387a6077faa4b6b4cb5-0-67\" class=\"displacy-label\" startOffset=\"50%\" side=\"left\" fill=\"currentColor\" text-anchor=\"middle\">det</textPath>\n",
              "    </text>\n",
              "    <path class=\"displacy-arrowhead\" d=\"M5670,604.0 L5662,592.0 5678,592.0\" fill=\"currentColor\"/>\n",
              "</g>\n",
              "\n",
              "<g class=\"displacy-arrow\">\n",
              "    <path class=\"displacy-arc\" id=\"arrow-d05150fa85af4387a6077faa4b6b4cb5-0-68\" stroke-width=\"2px\" d=\"M5750,602.0 C5750,562.0 5740.0,562.0 5740.0,602.0\" fill=\"none\" stroke=\"currentColor\"/>\n",
              "    <text dy=\"1.25em\" style=\"font-size: 0.8em; letter-spacing: 1px\">\n",
              "        <textPath xlink:href=\"#arrow-d05150fa85af4387a6077faa4b6b4cb5-0-68\" class=\"displacy-label\" startOffset=\"50%\" side=\"left\" fill=\"currentColor\" text-anchor=\"middle\">nmod</textPath>\n",
              "    </text>\n",
              "    <path class=\"displacy-arrowhead\" d=\"M5750,604.0 L5742,592.0 5758,592.0\" fill=\"currentColor\"/>\n",
              "</g>\n",
              "\n",
              "<g class=\"displacy-arrow\">\n",
              "    <path class=\"displacy-arc\" id=\"arrow-d05150fa85af4387a6077faa4b6b4cb5-0-69\" stroke-width=\"2px\" d=\"M5830,602.0 C5830,522.0 5905.0,522.0 5905.0,602.0\" fill=\"none\" stroke=\"currentColor\"/>\n",
              "    <text dy=\"1.25em\" style=\"font-size: 0.8em; letter-spacing: 1px\">\n",
              "        <textPath xlink:href=\"#arrow-d05150fa85af4387a6077faa4b6b4cb5-0-69\" class=\"displacy-label\" startOffset=\"50%\" side=\"left\" fill=\"currentColor\" text-anchor=\"middle\">nmod</textPath>\n",
              "    </text>\n",
              "    <path class=\"displacy-arrowhead\" d=\"M5830,604.0 L5822,592.0 5838,592.0\" fill=\"currentColor\"/>\n",
              "</g>\n",
              "\n",
              "<g class=\"displacy-arrow\">\n",
              "    <path class=\"displacy-arc\" id=\"arrow-d05150fa85af4387a6077faa4b6b4cb5-0-70\" stroke-width=\"2px\" d=\"M5910,602.0 C5910,562.0 5900.0,562.0 5900.0,602.0\" fill=\"none\" stroke=\"currentColor\"/>\n",
              "    <text dy=\"1.25em\" style=\"font-size: 0.8em; letter-spacing: 1px\">\n",
              "        <textPath xlink:href=\"#arrow-d05150fa85af4387a6077faa4b6b4cb5-0-70\" class=\"displacy-label\" startOffset=\"50%\" side=\"left\" fill=\"currentColor\" text-anchor=\"middle\">compound</textPath>\n",
              "    </text>\n",
              "    <path class=\"displacy-arrowhead\" d=\"M5910,604.0 L5902,592.0 5918,592.0\" fill=\"currentColor\"/>\n",
              "</g>\n",
              "\n",
              "<g class=\"displacy-arrow\">\n",
              "    <path class=\"displacy-arc\" id=\"arrow-d05150fa85af4387a6077faa4b6b4cb5-0-71\" stroke-width=\"2px\" d=\"M5590,602.0 C5590,402.0 5920.0,402.0 5920.0,602.0\" fill=\"none\" stroke=\"currentColor\"/>\n",
              "    <text dy=\"1.25em\" style=\"font-size: 0.8em; letter-spacing: 1px\">\n",
              "        <textPath xlink:href=\"#arrow-d05150fa85af4387a6077faa4b6b4cb5-0-71\" class=\"displacy-label\" startOffset=\"50%\" side=\"left\" fill=\"currentColor\" text-anchor=\"middle\">appos</textPath>\n",
              "    </text>\n",
              "    <path class=\"displacy-arrowhead\" d=\"M5920.0,604.0 L5928.0,592.0 5912.0,592.0\" fill=\"currentColor\"/>\n",
              "</g>\n",
              "\n",
              "<g class=\"displacy-arrow\">\n",
              "    <path class=\"displacy-arc\" id=\"arrow-d05150fa85af4387a6077faa4b6b4cb5-0-72\" stroke-width=\"2px\" d=\"M6070,602.0 C6070,282.0 6655.0,282.0 6655.0,602.0\" fill=\"none\" stroke=\"currentColor\"/>\n",
              "    <text dy=\"1.25em\" style=\"font-size: 0.8em; letter-spacing: 1px\">\n",
              "        <textPath xlink:href=\"#arrow-d05150fa85af4387a6077faa4b6b4cb5-0-72\" class=\"displacy-label\" startOffset=\"50%\" side=\"left\" fill=\"currentColor\" text-anchor=\"middle\">prep</textPath>\n",
              "    </text>\n",
              "    <path class=\"displacy-arrowhead\" d=\"M6070,604.0 L6062,592.0 6078,592.0\" fill=\"currentColor\"/>\n",
              "</g>\n",
              "\n",
              "<g class=\"displacy-arrow\">\n",
              "    <path class=\"displacy-arc\" id=\"arrow-d05150fa85af4387a6077faa4b6b4cb5-0-73\" stroke-width=\"2px\" d=\"M6150,602.0 C6150,562.0 6140.0,562.0 6140.0,602.0\" fill=\"none\" stroke=\"currentColor\"/>\n",
              "    <text dy=\"1.25em\" style=\"font-size: 0.8em; letter-spacing: 1px\">\n",
              "        <textPath xlink:href=\"#arrow-d05150fa85af4387a6077faa4b6b4cb5-0-73\" class=\"displacy-label\" startOffset=\"50%\" side=\"left\" fill=\"currentColor\" text-anchor=\"middle\">nummod</textPath>\n",
              "    </text>\n",
              "    <path class=\"displacy-arrowhead\" d=\"M6150,604.0 L6142,592.0 6158,592.0\" fill=\"currentColor\"/>\n",
              "</g>\n",
              "\n",
              "<g class=\"displacy-arrow\">\n",
              "    <path class=\"displacy-arc\" id=\"arrow-d05150fa85af4387a6077faa4b6b4cb5-0-74\" stroke-width=\"2px\" d=\"M6230,602.0 C6230,522.0 6305.0,522.0 6305.0,602.0\" fill=\"none\" stroke=\"currentColor\"/>\n",
              "    <text dy=\"1.25em\" style=\"font-size: 0.8em; letter-spacing: 1px\">\n",
              "        <textPath xlink:href=\"#arrow-d05150fa85af4387a6077faa4b6b4cb5-0-74\" class=\"displacy-label\" startOffset=\"50%\" side=\"left\" fill=\"currentColor\" text-anchor=\"middle\">nmod</textPath>\n",
              "    </text>\n",
              "    <path class=\"displacy-arrowhead\" d=\"M6230,604.0 L6222,592.0 6238,592.0\" fill=\"currentColor\"/>\n",
              "</g>\n",
              "\n",
              "<g class=\"displacy-arrow\">\n",
              "    <path class=\"displacy-arc\" id=\"arrow-d05150fa85af4387a6077faa4b6b4cb5-0-75\" stroke-width=\"2px\" d=\"M6310,602.0 C6310,562.0 6300.0,562.0 6300.0,602.0\" fill=\"none\" stroke=\"currentColor\"/>\n",
              "    <text dy=\"1.25em\" style=\"font-size: 0.8em; letter-spacing: 1px\">\n",
              "        <textPath xlink:href=\"#arrow-d05150fa85af4387a6077faa4b6b4cb5-0-75\" class=\"displacy-label\" startOffset=\"50%\" side=\"left\" fill=\"currentColor\" text-anchor=\"middle\">nmod</textPath>\n",
              "    </text>\n",
              "    <path class=\"displacy-arrowhead\" d=\"M6310,604.0 L6302,592.0 6318,592.0\" fill=\"currentColor\"/>\n",
              "</g>\n",
              "\n",
              "<g class=\"displacy-arrow\">\n",
              "    <path class=\"displacy-arc\" id=\"arrow-d05150fa85af4387a6077faa4b6b4cb5-0-76\" stroke-width=\"2px\" d=\"M6070,602.0 C6070,442.0 6315.0,442.0 6315.0,602.0\" fill=\"none\" stroke=\"currentColor\"/>\n",
              "    <text dy=\"1.25em\" style=\"font-size: 0.8em; letter-spacing: 1px\">\n",
              "        <textPath xlink:href=\"#arrow-d05150fa85af4387a6077faa4b6b4cb5-0-76\" class=\"displacy-label\" startOffset=\"50%\" side=\"left\" fill=\"currentColor\" text-anchor=\"middle\">pobj</textPath>\n",
              "    </text>\n",
              "    <path class=\"displacy-arrowhead\" d=\"M6315.0,604.0 L6323.0,592.0 6307.0,592.0\" fill=\"currentColor\"/>\n",
              "</g>\n",
              "\n",
              "<g class=\"displacy-arrow\">\n",
              "    <path class=\"displacy-arc\" id=\"arrow-d05150fa85af4387a6077faa4b6b4cb5-0-77\" stroke-width=\"2px\" d=\"M6470,602.0 C6470,522.0 6545.0,522.0 6545.0,602.0\" fill=\"none\" stroke=\"currentColor\"/>\n",
              "    <text dy=\"1.25em\" style=\"font-size: 0.8em; letter-spacing: 1px\">\n",
              "        <textPath xlink:href=\"#arrow-d05150fa85af4387a6077faa4b6b4cb5-0-77\" class=\"displacy-label\" startOffset=\"50%\" side=\"left\" fill=\"currentColor\" text-anchor=\"middle\">det</textPath>\n",
              "    </text>\n",
              "    <path class=\"displacy-arrowhead\" d=\"M6470,604.0 L6462,592.0 6478,592.0\" fill=\"currentColor\"/>\n",
              "</g>\n",
              "\n",
              "<g class=\"displacy-arrow\">\n",
              "    <path class=\"displacy-arc\" id=\"arrow-d05150fa85af4387a6077faa4b6b4cb5-0-78\" stroke-width=\"2px\" d=\"M6550,602.0 C6550,562.0 6540.0,562.0 6540.0,602.0\" fill=\"none\" stroke=\"currentColor\"/>\n",
              "    <text dy=\"1.25em\" style=\"font-size: 0.8em; letter-spacing: 1px\">\n",
              "        <textPath xlink:href=\"#arrow-d05150fa85af4387a6077faa4b6b4cb5-0-78\" class=\"displacy-label\" startOffset=\"50%\" side=\"left\" fill=\"currentColor\" text-anchor=\"middle\">amod</textPath>\n",
              "    </text>\n",
              "    <path class=\"displacy-arrowhead\" d=\"M6550,604.0 L6542,592.0 6558,592.0\" fill=\"currentColor\"/>\n",
              "</g>\n",
              "\n",
              "<g class=\"displacy-arrow\">\n",
              "    <path class=\"displacy-arc\" id=\"arrow-d05150fa85af4387a6077faa4b6b4cb5-0-79\" stroke-width=\"2px\" d=\"M6630,602.0 C6630,562.0 6620.0,562.0 6620.0,602.0\" fill=\"none\" stroke=\"currentColor\"/>\n",
              "    <text dy=\"1.25em\" style=\"font-size: 0.8em; letter-spacing: 1px\">\n",
              "        <textPath xlink:href=\"#arrow-d05150fa85af4387a6077faa4b6b4cb5-0-79\" class=\"displacy-label\" startOffset=\"50%\" side=\"left\" fill=\"currentColor\" text-anchor=\"middle\">nsubj</textPath>\n",
              "    </text>\n",
              "    <path class=\"displacy-arrowhead\" d=\"M6630,604.0 L6622,592.0 6638,592.0\" fill=\"currentColor\"/>\n",
              "</g>\n",
              "\n",
              "<g class=\"displacy-arrow\">\n",
              "    <path class=\"displacy-arc\" id=\"arrow-d05150fa85af4387a6077faa4b6b4cb5-0-80\" stroke-width=\"2px\" d=\"M6710,602.0 C6710,562.0 6700.0,562.0 6700.0,602.0\" fill=\"none\" stroke=\"currentColor\"/>\n",
              "    <text dy=\"1.25em\" style=\"font-size: 0.8em; letter-spacing: 1px\">\n",
              "        <textPath xlink:href=\"#arrow-d05150fa85af4387a6077faa4b6b4cb5-0-80\" class=\"displacy-label\" startOffset=\"50%\" side=\"left\" fill=\"currentColor\" text-anchor=\"middle\">prep</textPath>\n",
              "    </text>\n",
              "    <path class=\"displacy-arrowhead\" d=\"M6700.0,604.0 L6708.0,592.0 6692.0,592.0\" fill=\"currentColor\"/>\n",
              "</g>\n",
              "\n",
              "<g class=\"displacy-arrow\">\n",
              "    <path class=\"displacy-arc\" id=\"arrow-d05150fa85af4387a6077faa4b6b4cb5-0-81\" stroke-width=\"2px\" d=\"M6790,602.0 C6790,562.0 6780.0,562.0 6780.0,602.0\" fill=\"none\" stroke=\"currentColor\"/>\n",
              "    <text dy=\"1.25em\" style=\"font-size: 0.8em; letter-spacing: 1px\">\n",
              "        <textPath xlink:href=\"#arrow-d05150fa85af4387a6077faa4b6b4cb5-0-81\" class=\"displacy-label\" startOffset=\"50%\" side=\"left\" fill=\"currentColor\" text-anchor=\"middle\">pobj</textPath>\n",
              "    </text>\n",
              "    <path class=\"displacy-arrowhead\" d=\"M6780.0,604.0 L6788.0,592.0 6772.0,592.0\" fill=\"currentColor\"/>\n",
              "</g>\n",
              "\n",
              "<g class=\"displacy-arrow\">\n",
              "    <path class=\"displacy-arc\" id=\"arrow-d05150fa85af4387a6077faa4b6b4cb5-0-82\" stroke-width=\"2px\" d=\"M6710,602.0 C6710,482.0 6870.0,482.0 6870.0,602.0\" fill=\"none\" stroke=\"currentColor\"/>\n",
              "    <text dy=\"1.25em\" style=\"font-size: 0.8em; letter-spacing: 1px\">\n",
              "        <textPath xlink:href=\"#arrow-d05150fa85af4387a6077faa4b6b4cb5-0-82\" class=\"displacy-label\" startOffset=\"50%\" side=\"left\" fill=\"currentColor\" text-anchor=\"middle\">prep</textPath>\n",
              "    </text>\n",
              "    <path class=\"displacy-arrowhead\" d=\"M6870.0,604.0 L6878.0,592.0 6862.0,592.0\" fill=\"currentColor\"/>\n",
              "</g>\n",
              "\n",
              "<g class=\"displacy-arrow\">\n",
              "    <path class=\"displacy-arc\" id=\"arrow-d05150fa85af4387a6077faa4b6b4cb5-0-83\" stroke-width=\"2px\" d=\"M6950,602.0 C6950,562.0 6940.0,562.0 6940.0,602.0\" fill=\"none\" stroke=\"currentColor\"/>\n",
              "    <text dy=\"1.25em\" style=\"font-size: 0.8em; letter-spacing: 1px\">\n",
              "        <textPath xlink:href=\"#arrow-d05150fa85af4387a6077faa4b6b4cb5-0-83\" class=\"displacy-label\" startOffset=\"50%\" side=\"left\" fill=\"currentColor\" text-anchor=\"middle\">pobj</textPath>\n",
              "    </text>\n",
              "    <path class=\"displacy-arrowhead\" d=\"M6940.0,604.0 L6948.0,592.0 6932.0,592.0\" fill=\"currentColor\"/>\n",
              "</g>\n",
              "\n",
              "<g class=\"displacy-arrow\">\n",
              "    <path class=\"displacy-arc\" id=\"arrow-d05150fa85af4387a6077faa4b6b4cb5-0-84\" stroke-width=\"2px\" d=\"M7110,602.0 C7110,562.0 7100.0,562.0 7100.0,602.0\" fill=\"none\" stroke=\"currentColor\"/>\n",
              "    <text dy=\"1.25em\" style=\"font-size: 0.8em; letter-spacing: 1px\">\n",
              "        <textPath xlink:href=\"#arrow-d05150fa85af4387a6077faa4b6b4cb5-0-84\" class=\"displacy-label\" startOffset=\"50%\" side=\"left\" fill=\"currentColor\" text-anchor=\"middle\">det</textPath>\n",
              "    </text>\n",
              "    <path class=\"displacy-arrowhead\" d=\"M7110,604.0 L7102,592.0 7118,592.0\" fill=\"currentColor\"/>\n",
              "</g>\n",
              "\n",
              "<g class=\"displacy-arrow\">\n",
              "    <path class=\"displacy-arc\" id=\"arrow-d05150fa85af4387a6077faa4b6b4cb5-0-85\" stroke-width=\"2px\" d=\"M6950,602.0 C6950,482.0 7110.0,482.0 7110.0,602.0\" fill=\"none\" stroke=\"currentColor\"/>\n",
              "    <text dy=\"1.25em\" style=\"font-size: 0.8em; letter-spacing: 1px\">\n",
              "        <textPath xlink:href=\"#arrow-d05150fa85af4387a6077faa4b6b4cb5-0-85\" class=\"displacy-label\" startOffset=\"50%\" side=\"left\" fill=\"currentColor\" text-anchor=\"middle\">npadvmod</textPath>\n",
              "    </text>\n",
              "    <path class=\"displacy-arrowhead\" d=\"M7110.0,604.0 L7118.0,592.0 7102.0,592.0\" fill=\"currentColor\"/>\n",
              "</g>\n",
              "\n",
              "<g class=\"displacy-arrow\">\n",
              "    <path class=\"displacy-arc\" id=\"arrow-d05150fa85af4387a6077faa4b6b4cb5-0-86\" stroke-width=\"2px\" d=\"M7190,602.0 C7190,562.0 7180.0,562.0 7180.0,602.0\" fill=\"none\" stroke=\"currentColor\"/>\n",
              "    <text dy=\"1.25em\" style=\"font-size: 0.8em; letter-spacing: 1px\">\n",
              "        <textPath xlink:href=\"#arrow-d05150fa85af4387a6077faa4b6b4cb5-0-86\" class=\"displacy-label\" startOffset=\"50%\" side=\"left\" fill=\"currentColor\" text-anchor=\"middle\">advmod</textPath>\n",
              "    </text>\n",
              "    <path class=\"displacy-arrowhead\" d=\"M7180.0,604.0 L7188.0,592.0 7172.0,592.0\" fill=\"currentColor\"/>\n",
              "</g>\n",
              "\n",
              "<g class=\"displacy-arrow\">\n",
              "    <path class=\"displacy-arc\" id=\"arrow-d05150fa85af4387a6077faa4b6b4cb5-0-87\" stroke-width=\"2px\" d=\"M6710,602.0 C6710,282.0 7295.0,282.0 7295.0,602.0\" fill=\"none\" stroke=\"currentColor\"/>\n",
              "    <text dy=\"1.25em\" style=\"font-size: 0.8em; letter-spacing: 1px\">\n",
              "        <textPath xlink:href=\"#arrow-d05150fa85af4387a6077faa4b6b4cb5-0-87\" class=\"displacy-label\" startOffset=\"50%\" side=\"left\" fill=\"currentColor\" text-anchor=\"middle\">prep</textPath>\n",
              "    </text>\n",
              "    <path class=\"displacy-arrowhead\" d=\"M7295.0,604.0 L7303.0,592.0 7287.0,592.0\" fill=\"currentColor\"/>\n",
              "</g>\n",
              "\n",
              "<g class=\"displacy-arrow\">\n",
              "    <path class=\"displacy-arc\" id=\"arrow-d05150fa85af4387a6077faa4b6b4cb5-0-88\" stroke-width=\"2px\" d=\"M7350,602.0 C7350,562.0 7340.0,562.0 7340.0,602.0\" fill=\"none\" stroke=\"currentColor\"/>\n",
              "    <text dy=\"1.25em\" style=\"font-size: 0.8em; letter-spacing: 1px\">\n",
              "        <textPath xlink:href=\"#arrow-d05150fa85af4387a6077faa4b6b4cb5-0-88\" class=\"displacy-label\" startOffset=\"50%\" side=\"left\" fill=\"currentColor\" text-anchor=\"middle\">prep</textPath>\n",
              "    </text>\n",
              "    <path class=\"displacy-arrowhead\" d=\"M7340.0,604.0 L7348.0,592.0 7332.0,592.0\" fill=\"currentColor\"/>\n",
              "</g>\n",
              "\n",
              "<g class=\"displacy-arrow\">\n",
              "    <path class=\"displacy-arc\" id=\"arrow-d05150fa85af4387a6077faa4b6b4cb5-0-89\" stroke-width=\"2px\" d=\"M7430,602.0 C7430,562.0 7420.0,562.0 7420.0,602.0\" fill=\"none\" stroke=\"currentColor\"/>\n",
              "    <text dy=\"1.25em\" style=\"font-size: 0.8em; letter-spacing: 1px\">\n",
              "        <textPath xlink:href=\"#arrow-d05150fa85af4387a6077faa4b6b4cb5-0-89\" class=\"displacy-label\" startOffset=\"50%\" side=\"left\" fill=\"currentColor\" text-anchor=\"middle\">pobj</textPath>\n",
              "    </text>\n",
              "    <path class=\"displacy-arrowhead\" d=\"M7420.0,604.0 L7428.0,592.0 7412.0,592.0\" fill=\"currentColor\"/>\n",
              "</g>\n",
              "\n",
              "<g class=\"displacy-arrow\">\n",
              "    <path class=\"displacy-arc\" id=\"arrow-d05150fa85af4387a6077faa4b6b4cb5-0-90\" stroke-width=\"2px\" d=\"M7590,602.0 C7590,562.0 7580.0,562.0 7580.0,602.0\" fill=\"none\" stroke=\"currentColor\"/>\n",
              "    <text dy=\"1.25em\" style=\"font-size: 0.8em; letter-spacing: 1px\">\n",
              "        <textPath xlink:href=\"#arrow-d05150fa85af4387a6077faa4b6b4cb5-0-90\" class=\"displacy-label\" startOffset=\"50%\" side=\"left\" fill=\"currentColor\" text-anchor=\"middle\">nummod</textPath>\n",
              "    </text>\n",
              "    <path class=\"displacy-arrowhead\" d=\"M7590,604.0 L7582,592.0 7598,592.0\" fill=\"currentColor\"/>\n",
              "</g>\n",
              "\n",
              "<g class=\"displacy-arrow\">\n",
              "    <path class=\"displacy-arc\" id=\"arrow-d05150fa85af4387a6077faa4b6b4cb5-0-91\" stroke-width=\"2px\" d=\"M7670,602.0 C7670,82.0 8760.0,82.0 8760.0,602.0\" fill=\"none\" stroke=\"currentColor\"/>\n",
              "    <text dy=\"1.25em\" style=\"font-size: 0.8em; letter-spacing: 1px\">\n",
              "        <textPath xlink:href=\"#arrow-d05150fa85af4387a6077faa4b6b4cb5-0-91\" class=\"displacy-label\" startOffset=\"50%\" side=\"left\" fill=\"currentColor\" text-anchor=\"middle\">nsubj</textPath>\n",
              "    </text>\n",
              "    <path class=\"displacy-arrowhead\" d=\"M7670,604.0 L7662,592.0 7678,592.0\" fill=\"currentColor\"/>\n",
              "</g>\n",
              "\n",
              "<g class=\"displacy-arrow\">\n",
              "    <path class=\"displacy-arc\" id=\"arrow-d05150fa85af4387a6077faa4b6b4cb5-0-92\" stroke-width=\"2px\" d=\"M7670,602.0 C7670,562.0 7660.0,562.0 7660.0,602.0\" fill=\"none\" stroke=\"currentColor\"/>\n",
              "    <text dy=\"1.25em\" style=\"font-size: 0.8em; letter-spacing: 1px\">\n",
              "        <textPath xlink:href=\"#arrow-d05150fa85af4387a6077faa4b6b4cb5-0-92\" class=\"displacy-label\" startOffset=\"50%\" side=\"left\" fill=\"currentColor\" text-anchor=\"middle\">prep</textPath>\n",
              "    </text>\n",
              "    <path class=\"displacy-arrowhead\" d=\"M7660.0,604.0 L7668.0,592.0 7652.0,592.0\" fill=\"currentColor\"/>\n",
              "</g>\n",
              "\n",
              "<g class=\"displacy-arrow\">\n",
              "    <path class=\"displacy-arc\" id=\"arrow-d05150fa85af4387a6077faa4b6b4cb5-0-93\" stroke-width=\"2px\" d=\"M7830,602.0 C7830,522.0 7905.0,522.0 7905.0,602.0\" fill=\"none\" stroke=\"currentColor\"/>\n",
              "    <text dy=\"1.25em\" style=\"font-size: 0.8em; letter-spacing: 1px\">\n",
              "        <textPath xlink:href=\"#arrow-d05150fa85af4387a6077faa4b6b4cb5-0-93\" class=\"displacy-label\" startOffset=\"50%\" side=\"left\" fill=\"currentColor\" text-anchor=\"middle\">det</textPath>\n",
              "    </text>\n",
              "    <path class=\"displacy-arrowhead\" d=\"M7830,604.0 L7822,592.0 7838,592.0\" fill=\"currentColor\"/>\n",
              "</g>\n",
              "\n",
              "<g class=\"displacy-arrow\">\n",
              "    <path class=\"displacy-arc\" id=\"arrow-d05150fa85af4387a6077faa4b6b4cb5-0-94\" stroke-width=\"2px\" d=\"M7910,602.0 C7910,562.0 7900.0,562.0 7900.0,602.0\" fill=\"none\" stroke=\"currentColor\"/>\n",
              "    <text dy=\"1.25em\" style=\"font-size: 0.8em; letter-spacing: 1px\">\n",
              "        <textPath xlink:href=\"#arrow-d05150fa85af4387a6077faa4b6b4cb5-0-94\" class=\"displacy-label\" startOffset=\"50%\" side=\"left\" fill=\"currentColor\" text-anchor=\"middle\">compound</textPath>\n",
              "    </text>\n",
              "    <path class=\"displacy-arrowhead\" d=\"M7910,604.0 L7902,592.0 7918,592.0\" fill=\"currentColor\"/>\n",
              "</g>\n",
              "\n",
              "<g class=\"displacy-arrow\">\n",
              "    <path class=\"displacy-arc\" id=\"arrow-d05150fa85af4387a6077faa4b6b4cb5-0-95\" stroke-width=\"2px\" d=\"M7750,602.0 C7750,482.0 7910.0,482.0 7910.0,602.0\" fill=\"none\" stroke=\"currentColor\"/>\n",
              "    <text dy=\"1.25em\" style=\"font-size: 0.8em; letter-spacing: 1px\">\n",
              "        <textPath xlink:href=\"#arrow-d05150fa85af4387a6077faa4b6b4cb5-0-95\" class=\"displacy-label\" startOffset=\"50%\" side=\"left\" fill=\"currentColor\" text-anchor=\"middle\">pobj</textPath>\n",
              "    </text>\n",
              "    <path class=\"displacy-arrowhead\" d=\"M7910.0,604.0 L7918.0,592.0 7902.0,592.0\" fill=\"currentColor\"/>\n",
              "</g>\n",
              "\n",
              "<g class=\"displacy-arrow\">\n",
              "    <path class=\"displacy-arc\" id=\"arrow-d05150fa85af4387a6077faa4b6b4cb5-0-96\" stroke-width=\"2px\" d=\"M7670,602.0 C7670,402.0 8000.0,402.0 8000.0,602.0\" fill=\"none\" stroke=\"currentColor\"/>\n",
              "    <text dy=\"1.25em\" style=\"font-size: 0.8em; letter-spacing: 1px\">\n",
              "        <textPath xlink:href=\"#arrow-d05150fa85af4387a6077faa4b6b4cb5-0-96\" class=\"displacy-label\" startOffset=\"50%\" side=\"left\" fill=\"currentColor\" text-anchor=\"middle\">appos</textPath>\n",
              "    </text>\n",
              "    <path class=\"displacy-arrowhead\" d=\"M8000.0,604.0 L8008.0,592.0 7992.0,592.0\" fill=\"currentColor\"/>\n",
              "</g>\n",
              "\n",
              "<g class=\"displacy-arrow\">\n",
              "    <path class=\"displacy-arc\" id=\"arrow-d05150fa85af4387a6077faa4b6b4cb5-0-97\" stroke-width=\"2px\" d=\"M8070,602.0 C8070,562.0 8060.0,562.0 8060.0,602.0\" fill=\"none\" stroke=\"currentColor\"/>\n",
              "    <text dy=\"1.25em\" style=\"font-size: 0.8em; letter-spacing: 1px\">\n",
              "        <textPath xlink:href=\"#arrow-d05150fa85af4387a6077faa4b6b4cb5-0-97\" class=\"displacy-label\" startOffset=\"50%\" side=\"left\" fill=\"currentColor\" text-anchor=\"middle\">prep</textPath>\n",
              "    </text>\n",
              "    <path class=\"displacy-arrowhead\" d=\"M8060.0,604.0 L8068.0,592.0 8052.0,592.0\" fill=\"currentColor\"/>\n",
              "</g>\n",
              "\n",
              "<g class=\"displacy-arrow\">\n",
              "    <path class=\"displacy-arc\" id=\"arrow-d05150fa85af4387a6077faa4b6b4cb5-0-98\" stroke-width=\"2px\" d=\"M8230,602.0 C8230,562.0 8220.0,562.0 8220.0,602.0\" fill=\"none\" stroke=\"currentColor\"/>\n",
              "    <text dy=\"1.25em\" style=\"font-size: 0.8em; letter-spacing: 1px\">\n",
              "        <textPath xlink:href=\"#arrow-d05150fa85af4387a6077faa4b6b4cb5-0-98\" class=\"displacy-label\" startOffset=\"50%\" side=\"left\" fill=\"currentColor\" text-anchor=\"middle\">compound</textPath>\n",
              "    </text>\n",
              "    <path class=\"displacy-arrowhead\" d=\"M8230,604.0 L8222,592.0 8238,592.0\" fill=\"currentColor\"/>\n",
              "</g>\n",
              "\n",
              "<g class=\"displacy-arrow\">\n",
              "    <path class=\"displacy-arc\" id=\"arrow-d05150fa85af4387a6077faa4b6b4cb5-0-99\" stroke-width=\"2px\" d=\"M8150,602.0 C8150,522.0 8225.0,522.0 8225.0,602.0\" fill=\"none\" stroke=\"currentColor\"/>\n",
              "    <text dy=\"1.25em\" style=\"font-size: 0.8em; letter-spacing: 1px\">\n",
              "        <textPath xlink:href=\"#arrow-d05150fa85af4387a6077faa4b6b4cb5-0-99\" class=\"displacy-label\" startOffset=\"50%\" side=\"left\" fill=\"currentColor\" text-anchor=\"middle\">pobj</textPath>\n",
              "    </text>\n",
              "    <path class=\"displacy-arrowhead\" d=\"M8225.0,604.0 L8233.0,592.0 8217.0,592.0\" fill=\"currentColor\"/>\n",
              "</g>\n",
              "\n",
              "<g class=\"displacy-arrow\">\n",
              "    <path class=\"displacy-arc\" id=\"arrow-d05150fa85af4387a6077faa4b6b4cb5-0-100\" stroke-width=\"2px\" d=\"M8310,602.0 C8310,562.0 8300.0,562.0 8300.0,602.0\" fill=\"none\" stroke=\"currentColor\"/>\n",
              "    <text dy=\"1.25em\" style=\"font-size: 0.8em; letter-spacing: 1px\">\n",
              "        <textPath xlink:href=\"#arrow-d05150fa85af4387a6077faa4b6b4cb5-0-100\" class=\"displacy-label\" startOffset=\"50%\" side=\"left\" fill=\"currentColor\" text-anchor=\"middle\">cc</textPath>\n",
              "    </text>\n",
              "    <path class=\"displacy-arrowhead\" d=\"M8300.0,604.0 L8308.0,592.0 8292.0,592.0\" fill=\"currentColor\"/>\n",
              "</g>\n",
              "\n",
              "<g class=\"displacy-arrow\">\n",
              "    <path class=\"displacy-arc\" id=\"arrow-d05150fa85af4387a6077faa4b6b4cb5-0-101\" stroke-width=\"2px\" d=\"M8310,602.0 C8310,522.0 8385.0,522.0 8385.0,602.0\" fill=\"none\" stroke=\"currentColor\"/>\n",
              "    <text dy=\"1.25em\" style=\"font-size: 0.8em; letter-spacing: 1px\">\n",
              "        <textPath xlink:href=\"#arrow-d05150fa85af4387a6077faa4b6b4cb5-0-101\" class=\"displacy-label\" startOffset=\"50%\" side=\"left\" fill=\"currentColor\" text-anchor=\"middle\">conj</textPath>\n",
              "    </text>\n",
              "    <path class=\"displacy-arrowhead\" d=\"M8385.0,604.0 L8393.0,592.0 8377.0,592.0\" fill=\"currentColor\"/>\n",
              "</g>\n",
              "\n",
              "<g class=\"displacy-arrow\">\n",
              "    <path class=\"displacy-arc\" id=\"arrow-d05150fa85af4387a6077faa4b6b4cb5-0-102\" stroke-width=\"2px\" d=\"M8070,602.0 C8070,362.0 8485.0,362.0 8485.0,602.0\" fill=\"none\" stroke=\"currentColor\"/>\n",
              "    <text dy=\"1.25em\" style=\"font-size: 0.8em; letter-spacing: 1px\">\n",
              "        <textPath xlink:href=\"#arrow-d05150fa85af4387a6077faa4b6b4cb5-0-102\" class=\"displacy-label\" startOffset=\"50%\" side=\"left\" fill=\"currentColor\" text-anchor=\"middle\">prep</textPath>\n",
              "    </text>\n",
              "    <path class=\"displacy-arrowhead\" d=\"M8485.0,604.0 L8493.0,592.0 8477.0,592.0\" fill=\"currentColor\"/>\n",
              "</g>\n",
              "\n",
              "<g class=\"displacy-arrow\">\n",
              "    <path class=\"displacy-arc\" id=\"arrow-d05150fa85af4387a6077faa4b6b4cb5-0-103\" stroke-width=\"2px\" d=\"M8550,602.0 C8550,562.0 8540.0,562.0 8540.0,602.0\" fill=\"none\" stroke=\"currentColor\"/>\n",
              "    <text dy=\"1.25em\" style=\"font-size: 0.8em; letter-spacing: 1px\">\n",
              "        <textPath xlink:href=\"#arrow-d05150fa85af4387a6077faa4b6b4cb5-0-103\" class=\"displacy-label\" startOffset=\"50%\" side=\"left\" fill=\"currentColor\" text-anchor=\"middle\">pobj</textPath>\n",
              "    </text>\n",
              "    <path class=\"displacy-arrowhead\" d=\"M8540.0,604.0 L8548.0,592.0 8532.0,592.0\" fill=\"currentColor\"/>\n",
              "</g>\n",
              "\n",
              "<g class=\"displacy-arrow\">\n",
              "    <path class=\"displacy-arc\" id=\"arrow-d05150fa85af4387a6077faa4b6b4cb5-0-104\" stroke-width=\"2px\" d=\"M8710,602.0 C8710,562.0 8700.0,562.0 8700.0,602.0\" fill=\"none\" stroke=\"currentColor\"/>\n",
              "    <text dy=\"1.25em\" style=\"font-size: 0.8em; letter-spacing: 1px\">\n",
              "        <textPath xlink:href=\"#arrow-d05150fa85af4387a6077faa4b6b4cb5-0-104\" class=\"displacy-label\" startOffset=\"50%\" side=\"left\" fill=\"currentColor\" text-anchor=\"middle\">aux</textPath>\n",
              "    </text>\n",
              "    <path class=\"displacy-arrowhead\" d=\"M8710,604.0 L8702,592.0 8718,592.0\" fill=\"currentColor\"/>\n",
              "</g>\n",
              "\n",
              "<g class=\"displacy-arrow\">\n",
              "    <path class=\"displacy-arc\" id=\"arrow-d05150fa85af4387a6077faa4b6b4cb5-0-105\" stroke-width=\"2px\" d=\"M8870,602.0 C8870,522.0 8945.0,522.0 8945.0,602.0\" fill=\"none\" stroke=\"currentColor\"/>\n",
              "    <text dy=\"1.25em\" style=\"font-size: 0.8em; letter-spacing: 1px\">\n",
              "        <textPath xlink:href=\"#arrow-d05150fa85af4387a6077faa4b6b4cb5-0-105\" class=\"displacy-label\" startOffset=\"50%\" side=\"left\" fill=\"currentColor\" text-anchor=\"middle\">amod</textPath>\n",
              "    </text>\n",
              "    <path class=\"displacy-arrowhead\" d=\"M8870,604.0 L8862,592.0 8878,592.0\" fill=\"currentColor\"/>\n",
              "</g>\n",
              "\n",
              "<g class=\"displacy-arrow\">\n",
              "    <path class=\"displacy-arc\" id=\"arrow-d05150fa85af4387a6077faa4b6b4cb5-0-106\" stroke-width=\"2px\" d=\"M8950,602.0 C8950,562.0 8940.0,562.0 8940.0,602.0\" fill=\"none\" stroke=\"currentColor\"/>\n",
              "    <text dy=\"1.25em\" style=\"font-size: 0.8em; letter-spacing: 1px\">\n",
              "        <textPath xlink:href=\"#arrow-d05150fa85af4387a6077faa4b6b4cb5-0-106\" class=\"displacy-label\" startOffset=\"50%\" side=\"left\" fill=\"currentColor\" text-anchor=\"middle\">quantmod</textPath>\n",
              "    </text>\n",
              "    <path class=\"displacy-arrowhead\" d=\"M8950,604.0 L8942,592.0 8958,592.0\" fill=\"currentColor\"/>\n",
              "</g>\n",
              "\n",
              "<g class=\"displacy-arrow\">\n",
              "    <path class=\"displacy-arc\" id=\"arrow-d05150fa85af4387a6077faa4b6b4cb5-0-107\" stroke-width=\"2px\" d=\"M8790,602.0 C8790,482.0 8950.0,482.0 8950.0,602.0\" fill=\"none\" stroke=\"currentColor\"/>\n",
              "    <text dy=\"1.25em\" style=\"font-size: 0.8em; letter-spacing: 1px\">\n",
              "        <textPath xlink:href=\"#arrow-d05150fa85af4387a6077faa4b6b4cb5-0-107\" class=\"displacy-label\" startOffset=\"50%\" side=\"left\" fill=\"currentColor\" text-anchor=\"middle\">dobj</textPath>\n",
              "    </text>\n",
              "    <path class=\"displacy-arrowhead\" d=\"M8950.0,604.0 L8958.0,592.0 8942.0,592.0\" fill=\"currentColor\"/>\n",
              "</g>\n",
              "\n",
              "<g class=\"displacy-arrow\">\n",
              "    <path class=\"displacy-arc\" id=\"arrow-d05150fa85af4387a6077faa4b6b4cb5-0-108\" stroke-width=\"2px\" d=\"M9030,602.0 C9030,562.0 9020.0,562.0 9020.0,602.0\" fill=\"none\" stroke=\"currentColor\"/>\n",
              "    <text dy=\"1.25em\" style=\"font-size: 0.8em; letter-spacing: 1px\">\n",
              "        <textPath xlink:href=\"#arrow-d05150fa85af4387a6077faa4b6b4cb5-0-108\" class=\"displacy-label\" startOffset=\"50%\" side=\"left\" fill=\"currentColor\" text-anchor=\"middle\">prep</textPath>\n",
              "    </text>\n",
              "    <path class=\"displacy-arrowhead\" d=\"M9020.0,604.0 L9028.0,592.0 9012.0,592.0\" fill=\"currentColor\"/>\n",
              "</g>\n",
              "\n",
              "<g class=\"displacy-arrow\">\n",
              "    <path class=\"displacy-arc\" id=\"arrow-d05150fa85af4387a6077faa4b6b4cb5-0-109\" stroke-width=\"2px\" d=\"M9190,602.0 C9190,482.0 9350.0,482.0 9350.0,602.0\" fill=\"none\" stroke=\"currentColor\"/>\n",
              "    <text dy=\"1.25em\" style=\"font-size: 0.8em; letter-spacing: 1px\">\n",
              "        <textPath xlink:href=\"#arrow-d05150fa85af4387a6077faa4b6b4cb5-0-109\" class=\"displacy-label\" startOffset=\"50%\" side=\"left\" fill=\"currentColor\" text-anchor=\"middle\">amod</textPath>\n",
              "    </text>\n",
              "    <path class=\"displacy-arrowhead\" d=\"M9190,604.0 L9182,592.0 9198,592.0\" fill=\"currentColor\"/>\n",
              "</g>\n",
              "\n",
              "<g class=\"displacy-arrow\">\n",
              "    <path class=\"displacy-arc\" id=\"arrow-d05150fa85af4387a6077faa4b6b4cb5-0-110\" stroke-width=\"2px\" d=\"M9270,602.0 C9270,562.0 9260.0,562.0 9260.0,602.0\" fill=\"none\" stroke=\"currentColor\"/>\n",
              "    <text dy=\"1.25em\" style=\"font-size: 0.8em; letter-spacing: 1px\">\n",
              "        <textPath xlink:href=\"#arrow-d05150fa85af4387a6077faa4b6b4cb5-0-110\" class=\"displacy-label\" startOffset=\"50%\" side=\"left\" fill=\"currentColor\" text-anchor=\"middle\">amod</textPath>\n",
              "    </text>\n",
              "    <path class=\"displacy-arrowhead\" d=\"M9270,604.0 L9262,592.0 9278,592.0\" fill=\"currentColor\"/>\n",
              "</g>\n",
              "\n",
              "<g class=\"displacy-arrow\">\n",
              "    <path class=\"displacy-arc\" id=\"arrow-d05150fa85af4387a6077faa4b6b4cb5-0-111\" stroke-width=\"2px\" d=\"M9350,602.0 C9350,562.0 9340.0,562.0 9340.0,602.0\" fill=\"none\" stroke=\"currentColor\"/>\n",
              "    <text dy=\"1.25em\" style=\"font-size: 0.8em; letter-spacing: 1px\">\n",
              "        <textPath xlink:href=\"#arrow-d05150fa85af4387a6077faa4b6b4cb5-0-111\" class=\"displacy-label\" startOffset=\"50%\" side=\"left\" fill=\"currentColor\" text-anchor=\"middle\">compound</textPath>\n",
              "    </text>\n",
              "    <path class=\"displacy-arrowhead\" d=\"M9350,604.0 L9342,592.0 9358,592.0\" fill=\"currentColor\"/>\n",
              "</g>\n",
              "\n",
              "<g class=\"displacy-arrow\">\n",
              "    <path class=\"displacy-arc\" id=\"arrow-d05150fa85af4387a6077faa4b6b4cb5-0-112\" stroke-width=\"2px\" d=\"M9110,602.0 C9110,442.0 9355.0,442.0 9355.0,602.0\" fill=\"none\" stroke=\"currentColor\"/>\n",
              "    <text dy=\"1.25em\" style=\"font-size: 0.8em; letter-spacing: 1px\">\n",
              "        <textPath xlink:href=\"#arrow-d05150fa85af4387a6077faa4b6b4cb5-0-112\" class=\"displacy-label\" startOffset=\"50%\" side=\"left\" fill=\"currentColor\" text-anchor=\"middle\">pobj</textPath>\n",
              "    </text>\n",
              "    <path class=\"displacy-arrowhead\" d=\"M9355.0,604.0 L9363.0,592.0 9347.0,592.0\" fill=\"currentColor\"/>\n",
              "</g>\n",
              "\n",
              "<g class=\"displacy-arrow\">\n",
              "    <path class=\"displacy-arc\" id=\"arrow-d05150fa85af4387a6077faa4b6b4cb5-0-113\" stroke-width=\"2px\" d=\"M9510,602.0 C9510,562.0 9500.0,562.0 9500.0,602.0\" fill=\"none\" stroke=\"currentColor\"/>\n",
              "    <text dy=\"1.25em\" style=\"font-size: 0.8em; letter-spacing: 1px\">\n",
              "        <textPath xlink:href=\"#arrow-d05150fa85af4387a6077faa4b6b4cb5-0-113\" class=\"displacy-label\" startOffset=\"50%\" side=\"left\" fill=\"currentColor\" text-anchor=\"middle\">nsubj</textPath>\n",
              "    </text>\n",
              "    <path class=\"displacy-arrowhead\" d=\"M9510,604.0 L9502,592.0 9518,592.0\" fill=\"currentColor\"/>\n",
              "</g>\n",
              "\n",
              "<g class=\"displacy-arrow\">\n",
              "    <path class=\"displacy-arc\" id=\"arrow-d05150fa85af4387a6077faa4b6b4cb5-0-114\" stroke-width=\"2px\" d=\"M9590,602.0 C9590,42.0 10765.0,42.0 10765.0,602.0\" fill=\"none\" stroke=\"currentColor\"/>\n",
              "    <text dy=\"1.25em\" style=\"font-size: 0.8em; letter-spacing: 1px\">\n",
              "        <textPath xlink:href=\"#arrow-d05150fa85af4387a6077faa4b6b4cb5-0-114\" class=\"displacy-label\" startOffset=\"50%\" side=\"left\" fill=\"currentColor\" text-anchor=\"middle\">ccomp</textPath>\n",
              "    </text>\n",
              "    <path class=\"displacy-arrowhead\" d=\"M9590,604.0 L9582,592.0 9598,592.0\" fill=\"currentColor\"/>\n",
              "</g>\n",
              "\n",
              "<g class=\"displacy-arrow\">\n",
              "    <path class=\"displacy-arc\" id=\"arrow-d05150fa85af4387a6077faa4b6b4cb5-0-115\" stroke-width=\"2px\" d=\"M9670,602.0 C9670,562.0 9660.0,562.0 9660.0,602.0\" fill=\"none\" stroke=\"currentColor\"/>\n",
              "    <text dy=\"1.25em\" style=\"font-size: 0.8em; letter-spacing: 1px\">\n",
              "        <textPath xlink:href=\"#arrow-d05150fa85af4387a6077faa4b6b4cb5-0-115\" class=\"displacy-label\" startOffset=\"50%\" side=\"left\" fill=\"currentColor\" text-anchor=\"middle\">advmod</textPath>\n",
              "    </text>\n",
              "    <path class=\"displacy-arrowhead\" d=\"M9670,604.0 L9662,592.0 9678,592.0\" fill=\"currentColor\"/>\n",
              "</g>\n",
              "\n",
              "<g class=\"displacy-arrow\">\n",
              "    <path class=\"displacy-arc\" id=\"arrow-d05150fa85af4387a6077faa4b6b4cb5-0-116\" stroke-width=\"2px\" d=\"M9590,602.0 C9590,522.0 9665.0,522.0 9665.0,602.0\" fill=\"none\" stroke=\"currentColor\"/>\n",
              "    <text dy=\"1.25em\" style=\"font-size: 0.8em; letter-spacing: 1px\">\n",
              "        <textPath xlink:href=\"#arrow-d05150fa85af4387a6077faa4b6b4cb5-0-116\" class=\"displacy-label\" startOffset=\"50%\" side=\"left\" fill=\"currentColor\" text-anchor=\"middle\">acomp</textPath>\n",
              "    </text>\n",
              "    <path class=\"displacy-arrowhead\" d=\"M9665.0,604.0 L9673.0,592.0 9657.0,592.0\" fill=\"currentColor\"/>\n",
              "</g>\n",
              "\n",
              "<g class=\"displacy-arrow\">\n",
              "    <path class=\"displacy-arc\" id=\"arrow-d05150fa85af4387a6077faa4b6b4cb5-0-117\" stroke-width=\"2px\" d=\"M9590,602.0 C9590,482.0 9750.0,482.0 9750.0,602.0\" fill=\"none\" stroke=\"currentColor\"/>\n",
              "    <text dy=\"1.25em\" style=\"font-size: 0.8em; letter-spacing: 1px\">\n",
              "        <textPath xlink:href=\"#arrow-d05150fa85af4387a6077faa4b6b4cb5-0-117\" class=\"displacy-label\" startOffset=\"50%\" side=\"left\" fill=\"currentColor\" text-anchor=\"middle\">prep</textPath>\n",
              "    </text>\n",
              "    <path class=\"displacy-arrowhead\" d=\"M9750.0,604.0 L9758.0,592.0 9742.0,592.0\" fill=\"currentColor\"/>\n",
              "</g>\n",
              "\n",
              "<g class=\"displacy-arrow\">\n",
              "    <path class=\"displacy-arc\" id=\"arrow-d05150fa85af4387a6077faa4b6b4cb5-0-118\" stroke-width=\"2px\" d=\"M9910,602.0 C9910,562.0 9900.0,562.0 9900.0,602.0\" fill=\"none\" stroke=\"currentColor\"/>\n",
              "    <text dy=\"1.25em\" style=\"font-size: 0.8em; letter-spacing: 1px\">\n",
              "        <textPath xlink:href=\"#arrow-d05150fa85af4387a6077faa4b6b4cb5-0-118\" class=\"displacy-label\" startOffset=\"50%\" side=\"left\" fill=\"currentColor\" text-anchor=\"middle\">nummod</textPath>\n",
              "    </text>\n",
              "    <path class=\"displacy-arrowhead\" d=\"M9910,604.0 L9902,592.0 9918,592.0\" fill=\"currentColor\"/>\n",
              "</g>\n",
              "\n",
              "<g class=\"displacy-arrow\">\n",
              "    <path class=\"displacy-arc\" id=\"arrow-d05150fa85af4387a6077faa4b6b4cb5-0-119\" stroke-width=\"2px\" d=\"M9990,602.0 C9990,522.0 10065.0,522.0 10065.0,602.0\" fill=\"none\" stroke=\"currentColor\"/>\n",
              "    <text dy=\"1.25em\" style=\"font-size: 0.8em; letter-spacing: 1px\">\n",
              "        <textPath xlink:href=\"#arrow-d05150fa85af4387a6077faa4b6b4cb5-0-119\" class=\"displacy-label\" startOffset=\"50%\" side=\"left\" fill=\"currentColor\" text-anchor=\"middle\">compound</textPath>\n",
              "    </text>\n",
              "    <path class=\"displacy-arrowhead\" d=\"M9990,604.0 L9982,592.0 9998,592.0\" fill=\"currentColor\"/>\n",
              "</g>\n",
              "\n",
              "<g class=\"displacy-arrow\">\n",
              "    <path class=\"displacy-arc\" id=\"arrow-d05150fa85af4387a6077faa4b6b4cb5-0-120\" stroke-width=\"2px\" d=\"M10070,602.0 C10070,562.0 10060.0,562.0 10060.0,602.0\" fill=\"none\" stroke=\"currentColor\"/>\n",
              "    <text dy=\"1.25em\" style=\"font-size: 0.8em; letter-spacing: 1px\">\n",
              "        <textPath xlink:href=\"#arrow-d05150fa85af4387a6077faa4b6b4cb5-0-120\" class=\"displacy-label\" startOffset=\"50%\" side=\"left\" fill=\"currentColor\" text-anchor=\"middle\">compound</textPath>\n",
              "    </text>\n",
              "    <path class=\"displacy-arrowhead\" d=\"M10070,604.0 L10062,592.0 10078,592.0\" fill=\"currentColor\"/>\n",
              "</g>\n",
              "\n",
              "<g class=\"displacy-arrow\">\n",
              "    <path class=\"displacy-arc\" id=\"arrow-d05150fa85af4387a6077faa4b6b4cb5-0-121\" stroke-width=\"2px\" d=\"M9830,602.0 C9830,442.0 10075.0,442.0 10075.0,602.0\" fill=\"none\" stroke=\"currentColor\"/>\n",
              "    <text dy=\"1.25em\" style=\"font-size: 0.8em; letter-spacing: 1px\">\n",
              "        <textPath xlink:href=\"#arrow-d05150fa85af4387a6077faa4b6b4cb5-0-121\" class=\"displacy-label\" startOffset=\"50%\" side=\"left\" fill=\"currentColor\" text-anchor=\"middle\">pobj</textPath>\n",
              "    </text>\n",
              "    <path class=\"displacy-arrowhead\" d=\"M10075.0,604.0 L10083.0,592.0 10067.0,592.0\" fill=\"currentColor\"/>\n",
              "</g>\n",
              "\n",
              "<g class=\"displacy-arrow\">\n",
              "    <path class=\"displacy-arc\" id=\"arrow-d05150fa85af4387a6077faa4b6b4cb5-0-122\" stroke-width=\"2px\" d=\"M10230,602.0 C10230,562.0 10220.0,562.0 10220.0,602.0\" fill=\"none\" stroke=\"currentColor\"/>\n",
              "    <text dy=\"1.25em\" style=\"font-size: 0.8em; letter-spacing: 1px\">\n",
              "        <textPath xlink:href=\"#arrow-d05150fa85af4387a6077faa4b6b4cb5-0-122\" class=\"displacy-label\" startOffset=\"50%\" side=\"left\" fill=\"currentColor\" text-anchor=\"middle\">nsubj</textPath>\n",
              "    </text>\n",
              "    <path class=\"displacy-arrowhead\" d=\"M10230,604.0 L10222,592.0 10238,592.0\" fill=\"currentColor\"/>\n",
              "</g>\n",
              "\n",
              "<g class=\"displacy-arrow\">\n",
              "    <path class=\"displacy-arc\" id=\"arrow-d05150fa85af4387a6077faa4b6b4cb5-0-123\" stroke-width=\"2px\" d=\"M10150,602.0 C10150,522.0 10225.0,522.0 10225.0,602.0\" fill=\"none\" stroke=\"currentColor\"/>\n",
              "    <text dy=\"1.25em\" style=\"font-size: 0.8em; letter-spacing: 1px\">\n",
              "        <textPath xlink:href=\"#arrow-d05150fa85af4387a6077faa4b6b4cb5-0-123\" class=\"displacy-label\" startOffset=\"50%\" side=\"left\" fill=\"currentColor\" text-anchor=\"middle\">relcl</textPath>\n",
              "    </text>\n",
              "    <path class=\"displacy-arrowhead\" d=\"M10225.0,604.0 L10233.0,592.0 10217.0,592.0\" fill=\"currentColor\"/>\n",
              "</g>\n",
              "\n",
              "<g class=\"displacy-arrow\">\n",
              "    <path class=\"displacy-arc\" id=\"arrow-d05150fa85af4387a6077faa4b6b4cb5-0-124\" stroke-width=\"2px\" d=\"M10310,602.0 C10310,562.0 10300.0,562.0 10300.0,602.0\" fill=\"none\" stroke=\"currentColor\"/>\n",
              "    <text dy=\"1.25em\" style=\"font-size: 0.8em; letter-spacing: 1px\">\n",
              "        <textPath xlink:href=\"#arrow-d05150fa85af4387a6077faa4b6b4cb5-0-124\" class=\"displacy-label\" startOffset=\"50%\" side=\"left\" fill=\"currentColor\" text-anchor=\"middle\">prep</textPath>\n",
              "    </text>\n",
              "    <path class=\"displacy-arrowhead\" d=\"M10300.0,604.0 L10308.0,592.0 10292.0,592.0\" fill=\"currentColor\"/>\n",
              "</g>\n",
              "\n",
              "<g class=\"displacy-arrow\">\n",
              "    <path class=\"displacy-arc\" id=\"arrow-d05150fa85af4387a6077faa4b6b4cb5-0-125\" stroke-width=\"2px\" d=\"M10390,602.0 C10390,562.0 10380.0,562.0 10380.0,602.0\" fill=\"none\" stroke=\"currentColor\"/>\n",
              "    <text dy=\"1.25em\" style=\"font-size: 0.8em; letter-spacing: 1px\">\n",
              "        <textPath xlink:href=\"#arrow-d05150fa85af4387a6077faa4b6b4cb5-0-125\" class=\"displacy-label\" startOffset=\"50%\" side=\"left\" fill=\"currentColor\" text-anchor=\"middle\">pobj</textPath>\n",
              "    </text>\n",
              "    <path class=\"displacy-arrowhead\" d=\"M10380.0,604.0 L10388.0,592.0 10372.0,592.0\" fill=\"currentColor\"/>\n",
              "</g>\n",
              "\n",
              "<g class=\"displacy-arrow\">\n",
              "    <path class=\"displacy-arc\" id=\"arrow-d05150fa85af4387a6077faa4b6b4cb5-0-126\" stroke-width=\"2px\" d=\"M10310,602.0 C10310,482.0 10470.0,482.0 10470.0,602.0\" fill=\"none\" stroke=\"currentColor\"/>\n",
              "    <text dy=\"1.25em\" style=\"font-size: 0.8em; letter-spacing: 1px\">\n",
              "        <textPath xlink:href=\"#arrow-d05150fa85af4387a6077faa4b6b4cb5-0-126\" class=\"displacy-label\" startOffset=\"50%\" side=\"left\" fill=\"currentColor\" text-anchor=\"middle\">prep</textPath>\n",
              "    </text>\n",
              "    <path class=\"displacy-arrowhead\" d=\"M10470.0,604.0 L10478.0,592.0 10462.0,592.0\" fill=\"currentColor\"/>\n",
              "</g>\n",
              "\n",
              "<g class=\"displacy-arrow\">\n",
              "    <path class=\"displacy-arc\" id=\"arrow-d05150fa85af4387a6077faa4b6b4cb5-0-127\" stroke-width=\"2px\" d=\"M10550,602.0 C10550,562.0 10540.0,562.0 10540.0,602.0\" fill=\"none\" stroke=\"currentColor\"/>\n",
              "    <text dy=\"1.25em\" style=\"font-size: 0.8em; letter-spacing: 1px\">\n",
              "        <textPath xlink:href=\"#arrow-d05150fa85af4387a6077faa4b6b4cb5-0-127\" class=\"displacy-label\" startOffset=\"50%\" side=\"left\" fill=\"currentColor\" text-anchor=\"middle\">pobj</textPath>\n",
              "    </text>\n",
              "    <path class=\"displacy-arrowhead\" d=\"M10540.0,604.0 L10548.0,592.0 10532.0,592.0\" fill=\"currentColor\"/>\n",
              "</g>\n",
              "\n",
              "<g class=\"displacy-arrow\">\n",
              "    <path class=\"displacy-arc\" id=\"arrow-d05150fa85af4387a6077faa4b6b4cb5-0-128\" stroke-width=\"2px\" d=\"M10710,602.0 C10710,562.0 10700.0,562.0 10700.0,602.0\" fill=\"none\" stroke=\"currentColor\"/>\n",
              "    <text dy=\"1.25em\" style=\"font-size: 0.8em; letter-spacing: 1px\">\n",
              "        <textPath xlink:href=\"#arrow-d05150fa85af4387a6077faa4b6b4cb5-0-128\" class=\"displacy-label\" startOffset=\"50%\" side=\"left\" fill=\"currentColor\" text-anchor=\"middle\">nsubj</textPath>\n",
              "    </text>\n",
              "    <path class=\"displacy-arrowhead\" d=\"M10710,604.0 L10702,592.0 10718,592.0\" fill=\"currentColor\"/>\n",
              "</g>\n",
              "\n",
              "<g class=\"displacy-arrow\">\n",
              "    <path class=\"displacy-arc\" id=\"arrow-d05150fa85af4387a6077faa4b6b4cb5-0-129\" stroke-width=\"2px\" d=\"M10870,602.0 C10870,82.0 11960.0,82.0 11960.0,602.0\" fill=\"none\" stroke=\"currentColor\"/>\n",
              "    <text dy=\"1.25em\" style=\"font-size: 0.8em; letter-spacing: 1px\">\n",
              "        <textPath xlink:href=\"#arrow-d05150fa85af4387a6077faa4b6b4cb5-0-129\" class=\"displacy-label\" startOffset=\"50%\" side=\"left\" fill=\"currentColor\" text-anchor=\"middle\">nsubj</textPath>\n",
              "    </text>\n",
              "    <path class=\"displacy-arrowhead\" d=\"M10870,604.0 L10862,592.0 10878,592.0\" fill=\"currentColor\"/>\n",
              "</g>\n",
              "\n",
              "<g class=\"displacy-arrow\">\n",
              "    <path class=\"displacy-arc\" id=\"arrow-d05150fa85af4387a6077faa4b6b4cb5-0-130\" stroke-width=\"2px\" d=\"M10870,602.0 C10870,562.0 10860.0,562.0 10860.0,602.0\" fill=\"none\" stroke=\"currentColor\"/>\n",
              "    <text dy=\"1.25em\" style=\"font-size: 0.8em; letter-spacing: 1px\">\n",
              "        <textPath xlink:href=\"#arrow-d05150fa85af4387a6077faa4b6b4cb5-0-130\" class=\"displacy-label\" startOffset=\"50%\" side=\"left\" fill=\"currentColor\" text-anchor=\"middle\">prep</textPath>\n",
              "    </text>\n",
              "    <path class=\"displacy-arrowhead\" d=\"M10860.0,604.0 L10868.0,592.0 10852.0,592.0\" fill=\"currentColor\"/>\n",
              "</g>\n",
              "\n",
              "<g class=\"displacy-arrow\">\n",
              "    <path class=\"displacy-arc\" id=\"arrow-d05150fa85af4387a6077faa4b6b4cb5-0-131\" stroke-width=\"2px\" d=\"M11030,602.0 C11030,562.0 11020.0,562.0 11020.0,602.0\" fill=\"none\" stroke=\"currentColor\"/>\n",
              "    <text dy=\"1.25em\" style=\"font-size: 0.8em; letter-spacing: 1px\">\n",
              "        <textPath xlink:href=\"#arrow-d05150fa85af4387a6077faa4b6b4cb5-0-131\" class=\"displacy-label\" startOffset=\"50%\" side=\"left\" fill=\"currentColor\" text-anchor=\"middle\">nummod</textPath>\n",
              "    </text>\n",
              "    <path class=\"displacy-arrowhead\" d=\"M11030,604.0 L11022,592.0 11038,592.0\" fill=\"currentColor\"/>\n",
              "</g>\n",
              "\n",
              "<g class=\"displacy-arrow\">\n",
              "    <path class=\"displacy-arc\" id=\"arrow-d05150fa85af4387a6077faa4b6b4cb5-0-132\" stroke-width=\"2px\" d=\"M11110,602.0 C11110,402.0 11440.0,402.0 11440.0,602.0\" fill=\"none\" stroke=\"currentColor\"/>\n",
              "    <text dy=\"1.25em\" style=\"font-size: 0.8em; letter-spacing: 1px\">\n",
              "        <textPath xlink:href=\"#arrow-d05150fa85af4387a6077faa4b6b4cb5-0-132\" class=\"displacy-label\" startOffset=\"50%\" side=\"left\" fill=\"currentColor\" text-anchor=\"middle\">nmod</textPath>\n",
              "    </text>\n",
              "    <path class=\"displacy-arrowhead\" d=\"M11110,604.0 L11102,592.0 11118,592.0\" fill=\"currentColor\"/>\n",
              "</g>\n",
              "\n",
              "<g class=\"displacy-arrow\">\n",
              "    <path class=\"displacy-arc\" id=\"arrow-d05150fa85af4387a6077faa4b6b4cb5-0-133\" stroke-width=\"2px\" d=\"M11110,602.0 C11110,562.0 11100.0,562.0 11100.0,602.0\" fill=\"none\" stroke=\"currentColor\"/>\n",
              "    <text dy=\"1.25em\" style=\"font-size: 0.8em; letter-spacing: 1px\">\n",
              "        <textPath xlink:href=\"#arrow-d05150fa85af4387a6077faa4b6b4cb5-0-133\" class=\"displacy-label\" startOffset=\"50%\" side=\"left\" fill=\"currentColor\" text-anchor=\"middle\">cc</textPath>\n",
              "    </text>\n",
              "    <path class=\"displacy-arrowhead\" d=\"M11100.0,604.0 L11108.0,592.0 11092.0,592.0\" fill=\"currentColor\"/>\n",
              "</g>\n",
              "\n",
              "<g class=\"displacy-arrow\">\n",
              "    <path class=\"displacy-arc\" id=\"arrow-d05150fa85af4387a6077faa4b6b4cb5-0-134\" stroke-width=\"2px\" d=\"M11270,602.0 C11270,562.0 11260.0,562.0 11260.0,602.0\" fill=\"none\" stroke=\"currentColor\"/>\n",
              "    <text dy=\"1.25em\" style=\"font-size: 0.8em; letter-spacing: 1px\">\n",
              "        <textPath xlink:href=\"#arrow-d05150fa85af4387a6077faa4b6b4cb5-0-134\" class=\"displacy-label\" startOffset=\"50%\" side=\"left\" fill=\"currentColor\" text-anchor=\"middle\">nummod</textPath>\n",
              "    </text>\n",
              "    <path class=\"displacy-arrowhead\" d=\"M11270,604.0 L11262,592.0 11278,592.0\" fill=\"currentColor\"/>\n",
              "</g>\n",
              "\n",
              "<g class=\"displacy-arrow\">\n",
              "    <path class=\"displacy-arc\" id=\"arrow-d05150fa85af4387a6077faa4b6b4cb5-0-135\" stroke-width=\"2px\" d=\"M11110,602.0 C11110,482.0 11270.0,482.0 11270.0,602.0\" fill=\"none\" stroke=\"currentColor\"/>\n",
              "    <text dy=\"1.25em\" style=\"font-size: 0.8em; letter-spacing: 1px\">\n",
              "        <textPath xlink:href=\"#arrow-d05150fa85af4387a6077faa4b6b4cb5-0-135\" class=\"displacy-label\" startOffset=\"50%\" side=\"left\" fill=\"currentColor\" text-anchor=\"middle\">conj</textPath>\n",
              "    </text>\n",
              "    <path class=\"displacy-arrowhead\" d=\"M11270.0,604.0 L11278.0,592.0 11262.0,592.0\" fill=\"currentColor\"/>\n",
              "</g>\n",
              "\n",
              "<g class=\"displacy-arrow\">\n",
              "    <path class=\"displacy-arc\" id=\"arrow-d05150fa85af4387a6077faa4b6b4cb5-0-136\" stroke-width=\"2px\" d=\"M11430,602.0 C11430,562.0 11420.0,562.0 11420.0,602.0\" fill=\"none\" stroke=\"currentColor\"/>\n",
              "    <text dy=\"1.25em\" style=\"font-size: 0.8em; letter-spacing: 1px\">\n",
              "        <textPath xlink:href=\"#arrow-d05150fa85af4387a6077faa4b6b4cb5-0-136\" class=\"displacy-label\" startOffset=\"50%\" side=\"left\" fill=\"currentColor\" text-anchor=\"middle\">compound</textPath>\n",
              "    </text>\n",
              "    <path class=\"displacy-arrowhead\" d=\"M11430,604.0 L11422,592.0 11438,592.0\" fill=\"currentColor\"/>\n",
              "</g>\n",
              "\n",
              "<g class=\"displacy-arrow\">\n",
              "    <path class=\"displacy-arc\" id=\"arrow-d05150fa85af4387a6077faa4b6b4cb5-0-137\" stroke-width=\"2px\" d=\"M10950,602.0 C10950,322.0 11450.0,322.0 11450.0,602.0\" fill=\"none\" stroke=\"currentColor\"/>\n",
              "    <text dy=\"1.25em\" style=\"font-size: 0.8em; letter-spacing: 1px\">\n",
              "        <textPath xlink:href=\"#arrow-d05150fa85af4387a6077faa4b6b4cb5-0-137\" class=\"displacy-label\" startOffset=\"50%\" side=\"left\" fill=\"currentColor\" text-anchor=\"middle\">pobj</textPath>\n",
              "    </text>\n",
              "    <path class=\"displacy-arrowhead\" d=\"M11450.0,604.0 L11458.0,592.0 11442.0,592.0\" fill=\"currentColor\"/>\n",
              "</g>\n",
              "\n",
              "<g class=\"displacy-arrow\">\n",
              "    <path class=\"displacy-arc\" id=\"arrow-d05150fa85af4387a6077faa4b6b4cb5-0-138\" stroke-width=\"2px\" d=\"M11510,602.0 C11510,562.0 11500.0,562.0 11500.0,602.0\" fill=\"none\" stroke=\"currentColor\"/>\n",
              "    <text dy=\"1.25em\" style=\"font-size: 0.8em; letter-spacing: 1px\">\n",
              "        <textPath xlink:href=\"#arrow-d05150fa85af4387a6077faa4b6b4cb5-0-138\" class=\"displacy-label\" startOffset=\"50%\" side=\"left\" fill=\"currentColor\" text-anchor=\"middle\">acl</textPath>\n",
              "    </text>\n",
              "    <path class=\"displacy-arrowhead\" d=\"M11500.0,604.0 L11508.0,592.0 11492.0,592.0\" fill=\"currentColor\"/>\n",
              "</g>\n",
              "\n",
              "<g class=\"displacy-arrow\">\n",
              "    <path class=\"displacy-arc\" id=\"arrow-d05150fa85af4387a6077faa4b6b4cb5-0-139\" stroke-width=\"2px\" d=\"M11590,602.0 C11590,562.0 11580.0,562.0 11580.0,602.0\" fill=\"none\" stroke=\"currentColor\"/>\n",
              "    <text dy=\"1.25em\" style=\"font-size: 0.8em; letter-spacing: 1px\">\n",
              "        <textPath xlink:href=\"#arrow-d05150fa85af4387a6077faa4b6b4cb5-0-139\" class=\"displacy-label\" startOffset=\"50%\" side=\"left\" fill=\"currentColor\" text-anchor=\"middle\">prep</textPath>\n",
              "    </text>\n",
              "    <path class=\"displacy-arrowhead\" d=\"M11580.0,604.0 L11588.0,592.0 11572.0,592.0\" fill=\"currentColor\"/>\n",
              "</g>\n",
              "\n",
              "<g class=\"displacy-arrow\">\n",
              "    <path class=\"displacy-arc\" id=\"arrow-d05150fa85af4387a6077faa4b6b4cb5-0-140\" stroke-width=\"2px\" d=\"M11750,602.0 C11750,522.0 11825.0,522.0 11825.0,602.0\" fill=\"none\" stroke=\"currentColor\"/>\n",
              "    <text dy=\"1.25em\" style=\"font-size: 0.8em; letter-spacing: 1px\">\n",
              "        <textPath xlink:href=\"#arrow-d05150fa85af4387a6077faa4b6b4cb5-0-140\" class=\"displacy-label\" startOffset=\"50%\" side=\"left\" fill=\"currentColor\" text-anchor=\"middle\">poss</textPath>\n",
              "    </text>\n",
              "    <path class=\"displacy-arrowhead\" d=\"M11750,604.0 L11742,592.0 11758,592.0\" fill=\"currentColor\"/>\n",
              "</g>\n",
              "\n",
              "<g class=\"displacy-arrow\">\n",
              "    <path class=\"displacy-arc\" id=\"arrow-d05150fa85af4387a6077faa4b6b4cb5-0-141\" stroke-width=\"2px\" d=\"M11750,602.0 C11750,562.0 11740.0,562.0 11740.0,602.0\" fill=\"none\" stroke=\"currentColor\"/>\n",
              "    <text dy=\"1.25em\" style=\"font-size: 0.8em; letter-spacing: 1px\">\n",
              "        <textPath xlink:href=\"#arrow-d05150fa85af4387a6077faa4b6b4cb5-0-141\" class=\"displacy-label\" startOffset=\"50%\" side=\"left\" fill=\"currentColor\" text-anchor=\"middle\">case</textPath>\n",
              "    </text>\n",
              "    <path class=\"displacy-arrowhead\" d=\"M11740.0,604.0 L11748.0,592.0 11732.0,592.0\" fill=\"currentColor\"/>\n",
              "</g>\n",
              "\n",
              "<g class=\"displacy-arrow\">\n",
              "    <path class=\"displacy-arc\" id=\"arrow-d05150fa85af4387a6077faa4b6b4cb5-0-142\" stroke-width=\"2px\" d=\"M11670,602.0 C11670,482.0 11830.0,482.0 11830.0,602.0\" fill=\"none\" stroke=\"currentColor\"/>\n",
              "    <text dy=\"1.25em\" style=\"font-size: 0.8em; letter-spacing: 1px\">\n",
              "        <textPath xlink:href=\"#arrow-d05150fa85af4387a6077faa4b6b4cb5-0-142\" class=\"displacy-label\" startOffset=\"50%\" side=\"left\" fill=\"currentColor\" text-anchor=\"middle\">pobj</textPath>\n",
              "    </text>\n",
              "    <path class=\"displacy-arrowhead\" d=\"M11830.0,604.0 L11838.0,592.0 11822.0,592.0\" fill=\"currentColor\"/>\n",
              "</g>\n",
              "\n",
              "<g class=\"displacy-arrow\">\n",
              "    <path class=\"displacy-arc\" id=\"arrow-d05150fa85af4387a6077faa4b6b4cb5-0-143\" stroke-width=\"2px\" d=\"M11990,602.0 C11990,562.0 11980.0,562.0 11980.0,602.0\" fill=\"none\" stroke=\"currentColor\"/>\n",
              "    <text dy=\"1.25em\" style=\"font-size: 0.8em; letter-spacing: 1px\">\n",
              "        <textPath xlink:href=\"#arrow-d05150fa85af4387a6077faa4b6b4cb5-0-143\" class=\"displacy-label\" startOffset=\"50%\" side=\"left\" fill=\"currentColor\" text-anchor=\"middle\">advmod</textPath>\n",
              "    </text>\n",
              "    <path class=\"displacy-arrowhead\" d=\"M11980.0,604.0 L11988.0,592.0 11972.0,592.0\" fill=\"currentColor\"/>\n",
              "</g>\n",
              "\n",
              "<g class=\"displacy-arrow\">\n",
              "    <path class=\"displacy-arc\" id=\"arrow-d05150fa85af4387a6077faa4b6b4cb5-0-144\" stroke-width=\"2px\" d=\"M12070,602.0 C12070,562.0 12060.0,562.0 12060.0,602.0\" fill=\"none\" stroke=\"currentColor\"/>\n",
              "    <text dy=\"1.25em\" style=\"font-size: 0.8em; letter-spacing: 1px\">\n",
              "        <textPath xlink:href=\"#arrow-d05150fa85af4387a6077faa4b6b4cb5-0-144\" class=\"displacy-label\" startOffset=\"50%\" side=\"left\" fill=\"currentColor\" text-anchor=\"middle\">prep</textPath>\n",
              "    </text>\n",
              "    <path class=\"displacy-arrowhead\" d=\"M12060.0,604.0 L12068.0,592.0 12052.0,592.0\" fill=\"currentColor\"/>\n",
              "</g>\n",
              "\n",
              "<g class=\"displacy-arrow\">\n",
              "    <path class=\"displacy-arc\" id=\"arrow-d05150fa85af4387a6077faa4b6b4cb5-0-145\" stroke-width=\"2px\" d=\"M12230,602.0 C12230,562.0 12220.0,562.0 12220.0,602.0\" fill=\"none\" stroke=\"currentColor\"/>\n",
              "    <text dy=\"1.25em\" style=\"font-size: 0.8em; letter-spacing: 1px\">\n",
              "        <textPath xlink:href=\"#arrow-d05150fa85af4387a6077faa4b6b4cb5-0-145\" class=\"displacy-label\" startOffset=\"50%\" side=\"left\" fill=\"currentColor\" text-anchor=\"middle\">det</textPath>\n",
              "    </text>\n",
              "    <path class=\"displacy-arrowhead\" d=\"M12230,604.0 L12222,592.0 12238,592.0\" fill=\"currentColor\"/>\n",
              "</g>\n",
              "\n",
              "<g class=\"displacy-arrow\">\n",
              "    <path class=\"displacy-arc\" id=\"arrow-d05150fa85af4387a6077faa4b6b4cb5-0-146\" stroke-width=\"2px\" d=\"M12150,602.0 C12150,522.0 12225.0,522.0 12225.0,602.0\" fill=\"none\" stroke=\"currentColor\"/>\n",
              "    <text dy=\"1.25em\" style=\"font-size: 0.8em; letter-spacing: 1px\">\n",
              "        <textPath xlink:href=\"#arrow-d05150fa85af4387a6077faa4b6b4cb5-0-146\" class=\"displacy-label\" startOffset=\"50%\" side=\"left\" fill=\"currentColor\" text-anchor=\"middle\">pobj</textPath>\n",
              "    </text>\n",
              "    <path class=\"displacy-arrowhead\" d=\"M12225.0,604.0 L12233.0,592.0 12217.0,592.0\" fill=\"currentColor\"/>\n",
              "</g>\n",
              "\n",
              "<g class=\"displacy-arrow\">\n",
              "    <path class=\"displacy-arc\" id=\"arrow-d05150fa85af4387a6077faa4b6b4cb5-0-147\" stroke-width=\"2px\" d=\"M12310,602.0 C12310,562.0 12300.0,562.0 12300.0,602.0\" fill=\"none\" stroke=\"currentColor\"/>\n",
              "    <text dy=\"1.25em\" style=\"font-size: 0.8em; letter-spacing: 1px\">\n",
              "        <textPath xlink:href=\"#arrow-d05150fa85af4387a6077faa4b6b4cb5-0-147\" class=\"displacy-label\" startOffset=\"50%\" side=\"left\" fill=\"currentColor\" text-anchor=\"middle\">prep</textPath>\n",
              "    </text>\n",
              "    <path class=\"displacy-arrowhead\" d=\"M12300.0,604.0 L12308.0,592.0 12292.0,592.0\" fill=\"currentColor\"/>\n",
              "</g>\n",
              "\n",
              "<g class=\"displacy-arrow\">\n",
              "    <path class=\"displacy-arc\" id=\"arrow-d05150fa85af4387a6077faa4b6b4cb5-0-148\" stroke-width=\"2px\" d=\"M12470,602.0 C12470,522.0 12545.0,522.0 12545.0,602.0\" fill=\"none\" stroke=\"currentColor\"/>\n",
              "    <text dy=\"1.25em\" style=\"font-size: 0.8em; letter-spacing: 1px\">\n",
              "        <textPath xlink:href=\"#arrow-d05150fa85af4387a6077faa4b6b4cb5-0-148\" class=\"displacy-label\" startOffset=\"50%\" side=\"left\" fill=\"currentColor\" text-anchor=\"middle\">det</textPath>\n",
              "    </text>\n",
              "    <path class=\"displacy-arrowhead\" d=\"M12470,604.0 L12462,592.0 12478,592.0\" fill=\"currentColor\"/>\n",
              "</g>\n",
              "\n",
              "<g class=\"displacy-arrow\">\n",
              "    <path class=\"displacy-arc\" id=\"arrow-d05150fa85af4387a6077faa4b6b4cb5-0-149\" stroke-width=\"2px\" d=\"M12550,602.0 C12550,562.0 12540.0,562.0 12540.0,602.0\" fill=\"none\" stroke=\"currentColor\"/>\n",
              "    <text dy=\"1.25em\" style=\"font-size: 0.8em; letter-spacing: 1px\">\n",
              "        <textPath xlink:href=\"#arrow-d05150fa85af4387a6077faa4b6b4cb5-0-149\" class=\"displacy-label\" startOffset=\"50%\" side=\"left\" fill=\"currentColor\" text-anchor=\"middle\">compound</textPath>\n",
              "    </text>\n",
              "    <path class=\"displacy-arrowhead\" d=\"M12550,604.0 L12542,592.0 12558,592.0\" fill=\"currentColor\"/>\n",
              "</g>\n",
              "\n",
              "<g class=\"displacy-arrow\">\n",
              "    <path class=\"displacy-arc\" id=\"arrow-d05150fa85af4387a6077faa4b6b4cb5-0-150\" stroke-width=\"2px\" d=\"M12390,602.0 C12390,482.0 12550.0,482.0 12550.0,602.0\" fill=\"none\" stroke=\"currentColor\"/>\n",
              "    <text dy=\"1.25em\" style=\"font-size: 0.8em; letter-spacing: 1px\">\n",
              "        <textPath xlink:href=\"#arrow-d05150fa85af4387a6077faa4b6b4cb5-0-150\" class=\"displacy-label\" startOffset=\"50%\" side=\"left\" fill=\"currentColor\" text-anchor=\"middle\">pobj</textPath>\n",
              "    </text>\n",
              "    <path class=\"displacy-arrowhead\" d=\"M12550.0,604.0 L12558.0,592.0 12542.0,592.0\" fill=\"currentColor\"/>\n",
              "</g>\n",
              "\n",
              "<g class=\"displacy-arrow\">\n",
              "    <path class=\"displacy-arc\" id=\"arrow-d05150fa85af4387a6077faa4b6b4cb5-0-151\" stroke-width=\"2px\" d=\"M11990,602.0 C11990,242.0 12660.0,242.0 12660.0,602.0\" fill=\"none\" stroke=\"currentColor\"/>\n",
              "    <text dy=\"1.25em\" style=\"font-size: 0.8em; letter-spacing: 1px\">\n",
              "        <textPath xlink:href=\"#arrow-d05150fa85af4387a6077faa4b6b4cb5-0-151\" class=\"displacy-label\" startOffset=\"50%\" side=\"left\" fill=\"currentColor\" text-anchor=\"middle\">prep</textPath>\n",
              "    </text>\n",
              "    <path class=\"displacy-arrowhead\" d=\"M12660.0,604.0 L12668.0,592.0 12652.0,592.0\" fill=\"currentColor\"/>\n",
              "</g>\n",
              "\n",
              "<g class=\"displacy-arrow\">\n",
              "    <path class=\"displacy-arc\" id=\"arrow-d05150fa85af4387a6077faa4b6b4cb5-0-152\" stroke-width=\"2px\" d=\"M12790,602.0 C12790,522.0 12865.0,522.0 12865.0,602.0\" fill=\"none\" stroke=\"currentColor\"/>\n",
              "    <text dy=\"1.25em\" style=\"font-size: 0.8em; letter-spacing: 1px\">\n",
              "        <textPath xlink:href=\"#arrow-d05150fa85af4387a6077faa4b6b4cb5-0-152\" class=\"displacy-label\" startOffset=\"50%\" side=\"left\" fill=\"currentColor\" text-anchor=\"middle\">det</textPath>\n",
              "    </text>\n",
              "    <path class=\"displacy-arrowhead\" d=\"M12790,604.0 L12782,592.0 12798,592.0\" fill=\"currentColor\"/>\n",
              "</g>\n",
              "\n",
              "<g class=\"displacy-arrow\">\n",
              "    <path class=\"displacy-arc\" id=\"arrow-d05150fa85af4387a6077faa4b6b4cb5-0-153\" stroke-width=\"2px\" d=\"M12870,602.0 C12870,562.0 12860.0,562.0 12860.0,602.0\" fill=\"none\" stroke=\"currentColor\"/>\n",
              "    <text dy=\"1.25em\" style=\"font-size: 0.8em; letter-spacing: 1px\">\n",
              "        <textPath xlink:href=\"#arrow-d05150fa85af4387a6077faa4b6b4cb5-0-153\" class=\"displacy-label\" startOffset=\"50%\" side=\"left\" fill=\"currentColor\" text-anchor=\"middle\">amod</textPath>\n",
              "    </text>\n",
              "    <path class=\"displacy-arrowhead\" d=\"M12870,604.0 L12862,592.0 12878,592.0\" fill=\"currentColor\"/>\n",
              "</g>\n",
              "\n",
              "<g class=\"displacy-arrow\">\n",
              "    <path class=\"displacy-arc\" id=\"arrow-d05150fa85af4387a6077faa4b6b4cb5-0-154\" stroke-width=\"2px\" d=\"M12710,602.0 C12710,482.0 12870.0,482.0 12870.0,602.0\" fill=\"none\" stroke=\"currentColor\"/>\n",
              "    <text dy=\"1.25em\" style=\"font-size: 0.8em; letter-spacing: 1px\">\n",
              "        <textPath xlink:href=\"#arrow-d05150fa85af4387a6077faa4b6b4cb5-0-154\" class=\"displacy-label\" startOffset=\"50%\" side=\"left\" fill=\"currentColor\" text-anchor=\"middle\">pobj</textPath>\n",
              "    </text>\n",
              "    <path class=\"displacy-arrowhead\" d=\"M12870.0,604.0 L12878.0,592.0 12862.0,592.0\" fill=\"currentColor\"/>\n",
              "</g>\n",
              "\n",
              "<g class=\"displacy-arrow\">\n",
              "    <path class=\"displacy-arc\" id=\"arrow-d05150fa85af4387a6077faa4b6b4cb5-0-155\" stroke-width=\"2px\" d=\"M11990,602.0 C11990,122.0 12995.0,122.0 12995.0,602.0\" fill=\"none\" stroke=\"currentColor\"/>\n",
              "    <text dy=\"1.25em\" style=\"font-size: 0.8em; letter-spacing: 1px\">\n",
              "        <textPath xlink:href=\"#arrow-d05150fa85af4387a6077faa4b6b4cb5-0-155\" class=\"displacy-label\" startOffset=\"50%\" side=\"left\" fill=\"currentColor\" text-anchor=\"middle\">prep</textPath>\n",
              "    </text>\n",
              "    <path class=\"displacy-arrowhead\" d=\"M12995.0,604.0 L13003.0,592.0 12987.0,592.0\" fill=\"currentColor\"/>\n",
              "</g>\n",
              "\n",
              "<g class=\"displacy-arrow\">\n",
              "    <path class=\"displacy-arc\" id=\"arrow-d05150fa85af4387a6077faa4b6b4cb5-0-156\" stroke-width=\"2px\" d=\"M13030,602.0 C13030,562.0 13020.0,562.0 13020.0,602.0\" fill=\"none\" stroke=\"currentColor\"/>\n",
              "    <text dy=\"1.25em\" style=\"font-size: 0.8em; letter-spacing: 1px\">\n",
              "        <textPath xlink:href=\"#arrow-d05150fa85af4387a6077faa4b6b4cb5-0-156\" class=\"displacy-label\" startOffset=\"50%\" side=\"left\" fill=\"currentColor\" text-anchor=\"middle\">pobj</textPath>\n",
              "    </text>\n",
              "    <path class=\"displacy-arrowhead\" d=\"M13020.0,604.0 L13028.0,592.0 13012.0,592.0\" fill=\"currentColor\"/>\n",
              "</g>\n",
              "\n",
              "<g class=\"displacy-arrow\">\n",
              "    <path class=\"displacy-arc\" id=\"arrow-d05150fa85af4387a6077faa4b6b4cb5-0-157\" stroke-width=\"2px\" d=\"M13110,602.0 C13110,562.0 13100.0,562.0 13100.0,602.0\" fill=\"none\" stroke=\"currentColor\"/>\n",
              "    <text dy=\"1.25em\" style=\"font-size: 0.8em; letter-spacing: 1px\">\n",
              "        <textPath xlink:href=\"#arrow-d05150fa85af4387a6077faa4b6b4cb5-0-157\" class=\"displacy-label\" startOffset=\"50%\" side=\"left\" fill=\"currentColor\" text-anchor=\"middle\">cc</textPath>\n",
              "    </text>\n",
              "    <path class=\"displacy-arrowhead\" d=\"M13100.0,604.0 L13108.0,592.0 13092.0,592.0\" fill=\"currentColor\"/>\n",
              "</g>\n",
              "\n",
              "<g class=\"displacy-arrow\">\n",
              "    <path class=\"displacy-arc\" id=\"arrow-d05150fa85af4387a6077faa4b6b4cb5-0-158\" stroke-width=\"2px\" d=\"M13110,602.0 C13110,522.0 13185.0,522.0 13185.0,602.0\" fill=\"none\" stroke=\"currentColor\"/>\n",
              "    <text dy=\"1.25em\" style=\"font-size: 0.8em; letter-spacing: 1px\">\n",
              "        <textPath xlink:href=\"#arrow-d05150fa85af4387a6077faa4b6b4cb5-0-158\" class=\"displacy-label\" startOffset=\"50%\" side=\"left\" fill=\"currentColor\" text-anchor=\"middle\">conj</textPath>\n",
              "    </text>\n",
              "    <path class=\"displacy-arrowhead\" d=\"M13185.0,604.0 L13193.0,592.0 13177.0,592.0\" fill=\"currentColor\"/>\n",
              "</g>\n",
              "\n",
              "<g class=\"displacy-arrow\">\n",
              "    <path class=\"displacy-arc\" id=\"arrow-d05150fa85af4387a6077faa4b6b4cb5-0-159\" stroke-width=\"2px\" d=\"M13110,602.0 C13110,482.0 13270.0,482.0 13270.0,602.0\" fill=\"none\" stroke=\"currentColor\"/>\n",
              "    <text dy=\"1.25em\" style=\"font-size: 0.8em; letter-spacing: 1px\">\n",
              "        <textPath xlink:href=\"#arrow-d05150fa85af4387a6077faa4b6b4cb5-0-159\" class=\"displacy-label\" startOffset=\"50%\" side=\"left\" fill=\"currentColor\" text-anchor=\"middle\">advmod</textPath>\n",
              "    </text>\n",
              "    <path class=\"displacy-arrowhead\" d=\"M13270.0,604.0 L13278.0,592.0 13262.0,592.0\" fill=\"currentColor\"/>\n",
              "</g>\n",
              "</svg></span>"
            ],
            "text/plain": [
              "<IPython.core.display.HTML object>"
            ]
          },
          "metadata": {},
          "output_type": "display_data"
        }
      ],
      "source": [
        "displacy.render(docs[0], style='dep', jupyter=True, options={'distance':80})"
      ]
    },
    {
      "cell_type": "code",
      "execution_count": null,
      "metadata": {
        "colab": {
          "base_uri": "https://localhost:8080/"
        },
        "id": "CyJGcLhSqW3f",
        "outputId": "ddbfb788-a00f-42e1-aff7-94dc413496d2"
      },
      "outputs": [
        {
          "name": "stdout",
          "output_type": "stream",
          "text": [
            "texts length: 8000\n",
            "test_texts length: 5\n"
          ]
        }
      ],
      "source": [
        "print('texts length:', len(texts))\n",
        "print('test_texts length:', len(test_texts))"
      ]
    },
    {
      "cell_type": "markdown",
      "metadata": {
        "id": "b5Os5Yg39FfP"
      },
      "source": [
        "Turn to Dictionary and Corpus"
      ]
    },
    {
      "cell_type": "code",
      "execution_count": null,
      "metadata": {
        "id": "YnOO4cIR0jH5"
      },
      "outputs": [],
      "source": [
        "dictionary, corpus = text_to_corpus(texts)\n",
        "test_dictionary, test_corpus = text_to_corpus(test_texts)"
      ]
    },
    {
      "cell_type": "markdown",
      "metadata": {
        "id": "UvCv9uXS81af"
      },
      "source": [
        "Configurations"
      ]
    },
    {
      "cell_type": "code",
      "execution_count": null,
      "metadata": {
        "id": "GiD8j17Y0b4q"
      },
      "outputs": [],
      "source": [
        "lsi_conf = {\n",
        "    \"corpus\": corpus,\n",
        "    \"id2word\": dictionary,\n",
        "    \"num_topics\": 7,\n",
        "    \"decay\": 0.5,\n",
        "}\n",
        "\n",
        "lda_conf = {\n",
        "    'corpus': corpus,\n",
        "    'id2word': dictionary,\n",
        "    'num_topics': 15,\n",
        "    'passes': 20,\n",
        "}\n",
        "\n",
        "hdp_conf = {\n",
        "    'corpus': corpus,\n",
        "    'id2word': dictionary,\n",
        "    'T': 20,\n",
        "}\n",
        "\n",
        "ens_conf = {\n",
        "    'corpus': corpus,\n",
        "    'id2word': dictionary,\n",
        "    'num_topics': 15,\n",
        "    'passes': 20,\n",
        "    'num_models': 7,\n",
        "    'topic_model_class': LdaModel,\n",
        "    'ensemble_workers': 4,\n",
        "    'distance_workers': 4,\n",
        "    'iterations': 150, \n",
        "}\n",
        "\n",
        "lda_mult_conf = {\n",
        "    'corpus': corpus,\n",
        "    'id2word': dictionary,\n",
        "    'num_topics': 15,\n",
        "    'passes': 20,\n",
        "}"
      ]
    },
    {
      "cell_type": "markdown",
      "metadata": {
        "id": "JoF1EXsl84HA"
      },
      "source": [
        "Build models"
      ]
    },
    {
      "cell_type": "code",
      "execution_count": null,
      "metadata": {
        "id": "EZuBP4V-CCUh"
      },
      "outputs": [],
      "source": [
        "# lsi_model = get_model(\"lsi\", lsi_conf) # Latent Semantic Indexing (not usefull for our purpose)"
      ]
    },
    {
      "cell_type": "code",
      "execution_count": null,
      "metadata": {
        "colab": {
          "base_uri": "https://localhost:8080/",
          "height": 129
        },
        "id": "Hy7eI5SpOww9",
        "outputId": "c2480857-94d0-419e-a09f-76bc1d8016c2"
      },
      "outputs": [
        {
          "ename": "SyntaxError",
          "evalue": "ignored",
          "output_type": "error",
          "traceback": [
            "\u001b[0;36m  File \u001b[0;32m\"<unknown>\"\u001b[0;36m, line \u001b[0;32m5\u001b[0m\n\u001b[0;31m    # lda_model = get_model(\"lda\", lda_conf) # Latent Dirichlet Allocation - supervised model.\u001b[0m\n\u001b[0m                                                                                              ^\u001b[0m\n\u001b[0;31mSyntaxError\u001b[0m\u001b[0;31m:\u001b[0m unexpected EOF while parsing\n"
          ]
        }
      ],
      "source": [
        "%%time\n",
        "lda_best_trained = 'lda_15_topics_20_passes'\n",
        "if LOAD:\n",
        "    lda_model(lda_best_trained, 'lda')\n",
        "else:\n",
        "    lda_model = get_model(\"lda\", lda_conf) # Latent Dirichlet Allocation - supervised model.\n",
        "    save_model(lda_model, 'new_lda')"
      ]
    },
    {
      "cell_type": "code",
      "execution_count": null,
      "metadata": {
        "id": "BEYOsiYwCC82"
      },
      "outputs": [],
      "source": [
        "%%time\n",
        "hdp_model = get_model(\"hdp\", hdp_conf) # Hierarchical Dirichlet process - unsupervised model."
      ]
    },
    {
      "cell_type": "markdown",
      "metadata": {
        "id": "LCWz8H_VM1z6"
      },
      "source": [
        "###View models topics"
      ]
    },
    {
      "cell_type": "code",
      "execution_count": null,
      "metadata": {
        "colab": {
          "base_uri": "https://localhost:8080/"
        },
        "id": "coBSvXTTPEdr",
        "outputId": "4d29f4d5-c8cf-4fed-b5a0-3f4efe3ddaa8"
      },
      "outputs": [
        {
          "name": "stderr",
          "output_type": "stream",
          "text": [
            "2021-09-14 14:11:17,106 : INFO : topic #0 (0.067): 0.009*\"year\" + 0.009*\"state\" + 0.008*\"work\" + 0.007*\"pay\" + 0.006*\"new\" + 0.006*\"percent\" + 0.006*\"time\" + 0.006*\"job\" + 0.006*\"people\" + 0.006*\"program\"\n",
            "2021-09-14 14:11:17,112 : INFO : topic #1 (0.067): 0.030*\"rate\" + 0.024*\"interest_rate\" + 0.023*\"Fed\" + 0.023*\"Federal_Reserve\" + 0.017*\"bank\" + 0.012*\"inflation\" + 0.010*\"loan\" + 0.009*\"bond\" + 0.009*\"mortgage\" + 0.008*\"year\"\n",
            "2021-09-14 14:11:17,118 : INFO : topic #2 (0.067): 0.008*\"Mr._Bernanke\" + 0.005*\"Williams\" + 0.004*\"communist\" + 0.003*\"Wall_Streeters\" + 0.003*\"sister\" + 0.003*\"nursing_home\" + 0.003*\"Poland\" + 0.003*\"novel\" + 0.003*\"love\" + 0.003*\"monetarist\"\n",
            "2021-09-14 14:11:17,123 : INFO : topic #3 (0.067): 0.023*\"percent\" + 0.021*\"year\" + 0.016*\"increase\" + 0.015*\"rise\" + 0.015*\"month\" + 0.014*\"report\" + 0.013*\"price\" + 0.011*\"economy\" + 0.011*\"inflation\" + 0.010*\"rate\"\n",
            "2021-09-14 14:11:17,128 : INFO : topic #4 (0.067): 0.027*\"U.S.\" + 0.014*\"country\" + 0.013*\"government\" + 0.012*\"market\" + 0.012*\"world\" + 0.008*\"debt\" + 0.007*\"crisis\" + 0.007*\"bank\" + 0.007*\"global\" + 0.006*\"United_States\"\n",
            "2021-09-14 14:11:17,132 : INFO : topic #5 (0.067): 0.011*\"Wilson\" + 0.008*\"General_Assembly\" + 0.005*\"hispanic\" + 0.004*\"Strauss\" + 0.004*\"Simpson\" + 0.003*\"crew\" + 0.003*\"civil_servant\" + 0.003*\"Jarrett\" + 0.003*\"debt_relief\" + 0.003*\"convict\"\n",
            "2021-09-14 14:11:17,136 : INFO : topic #6 (0.067): 0.031*\"rail\" + 0.015*\"copper\" + 0.012*\"railroad\" + 0.008*\"capita_income\" + 0.004*\"industrial_output\" + 0.004*\"freight\" + 0.004*\"cent_gallon\" + 0.003*\"Limited\" + 0.003*\"intermediate\" + 0.003*\"jumbo\"\n",
            "2021-09-14 14:11:17,141 : INFO : topic #7 (0.067): 0.047*\"China\" + 0.021*\"chinese\" + 0.011*\"immigrant\" + 0.007*\"Beijing\" + 0.005*\"State_University\" + 0.004*\"AIG\" + 0.004*\"manpower\" + 0.004*\"ton\" + 0.004*\"charity\" + 0.003*\"Wright\"\n",
            "2021-09-14 14:11:17,145 : INFO : topic #8 (0.067): 0.031*\"stock\" + 0.020*\"market\" + 0.014*\"point\" + 0.014*\"stock_market\" + 0.013*\"gain\" + 0.012*\"price\" + 0.012*\"rise\" + 0.012*\"investor\" + 0.012*\"day\" + 0.012*\"Dow_Jones\"\n",
            "2021-09-14 14:11:17,149 : INFO : topic #9 (0.067): 0.010*\"Congress\" + 0.010*\"White_House\" + 0.010*\"president\" + 0.010*\"vote\" + 0.009*\"Bush\" + 0.008*\"political\" + 0.008*\"yesterday\" + 0.008*\"bill\" + 0.008*\"House\" + 0.008*\"Senate\"\n",
            "2021-09-14 14:11:17,154 : INFO : topic #10 (0.067): 0.025*\"company\" + 0.009*\"year\" + 0.008*\"fund\" + 0.007*\"share\" + 0.006*\"market\" + 0.006*\"stock\" + 0.006*\"business\" + 0.006*\"sell\" + 0.005*\"buy\" + 0.005*\"firm\"\n",
            "2021-09-14 14:11:17,158 : INFO : topic #11 (0.067): 0.006*\"Washington\" + 0.006*\"go\" + 0.005*\"like\" + 0.005*\"good\" + 0.005*\"come\" + 0.005*\"home\" + 0.004*\"day\" + 0.004*\"way\" + 0.004*\"District\" + 0.004*\"car\"\n",
            "2021-09-14 14:11:17,162 : INFO : topic #12 (0.067): 0.044*\"dollar\" + 0.042*\"U.S.\" + 0.014*\"currency\" + 0.014*\"Japan\" + 0.012*\"trade\" + 0.009*\"market\" + 0.008*\"japanese\" + 0.008*\"gold\" + 0.008*\"trade_deficit\" + 0.007*\"import\"\n",
            "2021-09-14 14:11:17,167 : INFO : topic #13 (0.067): 0.021*\"drug\" + 0.010*\"mexican\" + 0.009*\"announce_yesterday\" + 0.006*\"freedom\" + 0.005*\"viewer\" + 0.005*\"delegate\" + 0.004*\"border\" + 0.004*\"Congressional\" + 0.004*\"Week\" + 0.004*\"Police\"\n",
            "2021-09-14 14:11:17,170 : INFO : topic #14 (0.067): 0.018*\"year\" + 0.013*\"economy\" + 0.011*\"economic\" + 0.011*\"deficit\" + 0.011*\"budget\" + 0.008*\"tax\" + 0.008*\"government\" + 0.008*\"cut\" + 0.007*\"spending\" + 0.006*\"recession\"\n"
          ]
        },
        {
          "name": "stdout",
          "output_type": "stream",
          "text": [
            "[(0,\n",
            "  '0.009*\"year\" + 0.009*\"state\" + 0.008*\"work\" + 0.007*\"pay\" + 0.006*\"new\" + '\n",
            "  '0.006*\"percent\" + 0.006*\"time\" + 0.006*\"job\" + 0.006*\"people\" + '\n",
            "  '0.006*\"program\"'),\n",
            " (1,\n",
            "  '0.030*\"rate\" + 0.024*\"interest_rate\" + 0.023*\"Fed\" + '\n",
            "  '0.023*\"Federal_Reserve\" + 0.017*\"bank\" + 0.012*\"inflation\" + 0.010*\"loan\" + '\n",
            "  '0.009*\"bond\" + 0.009*\"mortgage\" + 0.008*\"year\"'),\n",
            " (2,\n",
            "  '0.008*\"Mr._Bernanke\" + 0.005*\"Williams\" + 0.004*\"communist\" + '\n",
            "  '0.003*\"Wall_Streeters\" + 0.003*\"sister\" + 0.003*\"nursing_home\" + '\n",
            "  '0.003*\"Poland\" + 0.003*\"novel\" + 0.003*\"love\" + 0.003*\"monetarist\"'),\n",
            " (3,\n",
            "  '0.023*\"percent\" + 0.021*\"year\" + 0.016*\"increase\" + 0.015*\"rise\" + '\n",
            "  '0.015*\"month\" + 0.014*\"report\" + 0.013*\"price\" + 0.011*\"economy\" + '\n",
            "  '0.011*\"inflation\" + 0.010*\"rate\"'),\n",
            " (4,\n",
            "  '0.027*\"U.S.\" + 0.014*\"country\" + 0.013*\"government\" + 0.012*\"market\" + '\n",
            "  '0.012*\"world\" + 0.008*\"debt\" + 0.007*\"crisis\" + 0.007*\"bank\" + '\n",
            "  '0.007*\"global\" + 0.006*\"United_States\"'),\n",
            " (5,\n",
            "  '0.011*\"Wilson\" + 0.008*\"General_Assembly\" + 0.005*\"hispanic\" + '\n",
            "  '0.004*\"Strauss\" + 0.004*\"Simpson\" + 0.003*\"crew\" + 0.003*\"civil_servant\" + '\n",
            "  '0.003*\"Jarrett\" + 0.003*\"debt_relief\" + 0.003*\"convict\"'),\n",
            " (6,\n",
            "  '0.031*\"rail\" + 0.015*\"copper\" + 0.012*\"railroad\" + 0.008*\"capita_income\" + '\n",
            "  '0.004*\"industrial_output\" + 0.004*\"freight\" + 0.004*\"cent_gallon\" + '\n",
            "  '0.003*\"Limited\" + 0.003*\"intermediate\" + 0.003*\"jumbo\"'),\n",
            " (7,\n",
            "  '0.047*\"China\" + 0.021*\"chinese\" + 0.011*\"immigrant\" + 0.007*\"Beijing\" + '\n",
            "  '0.005*\"State_University\" + 0.004*\"AIG\" + 0.004*\"manpower\" + 0.004*\"ton\" + '\n",
            "  '0.004*\"charity\" + 0.003*\"Wright\"'),\n",
            " (8,\n",
            "  '0.031*\"stock\" + 0.020*\"market\" + 0.014*\"point\" + 0.014*\"stock_market\" + '\n",
            "  '0.013*\"gain\" + 0.012*\"price\" + 0.012*\"rise\" + 0.012*\"investor\" + '\n",
            "  '0.012*\"day\" + 0.012*\"Dow_Jones\"'),\n",
            " (9,\n",
            "  '0.010*\"Congress\" + 0.010*\"White_House\" + 0.010*\"president\" + 0.010*\"vote\" + '\n",
            "  '0.009*\"Bush\" + 0.008*\"political\" + 0.008*\"yesterday\" + 0.008*\"bill\" + '\n",
            "  '0.008*\"House\" + 0.008*\"Senate\"'),\n",
            " (10,\n",
            "  '0.025*\"company\" + 0.009*\"year\" + 0.008*\"fund\" + 0.007*\"share\" + '\n",
            "  '0.006*\"market\" + 0.006*\"stock\" + 0.006*\"business\" + 0.006*\"sell\" + '\n",
            "  '0.005*\"buy\" + 0.005*\"firm\"'),\n",
            " (11,\n",
            "  '0.006*\"Washington\" + 0.006*\"go\" + 0.005*\"like\" + 0.005*\"good\" + '\n",
            "  '0.005*\"come\" + 0.005*\"home\" + 0.004*\"day\" + 0.004*\"way\" + 0.004*\"District\" '\n",
            "  '+ 0.004*\"car\"'),\n",
            " (12,\n",
            "  '0.044*\"dollar\" + 0.042*\"U.S.\" + 0.014*\"currency\" + 0.014*\"Japan\" + '\n",
            "  '0.012*\"trade\" + 0.009*\"market\" + 0.008*\"japanese\" + 0.008*\"gold\" + '\n",
            "  '0.008*\"trade_deficit\" + 0.007*\"import\"'),\n",
            " (13,\n",
            "  '0.021*\"drug\" + 0.010*\"mexican\" + 0.009*\"announce_yesterday\" + '\n",
            "  '0.006*\"freedom\" + 0.005*\"viewer\" + 0.005*\"delegate\" + 0.004*\"border\" + '\n",
            "  '0.004*\"Congressional\" + 0.004*\"Week\" + 0.004*\"Police\"'),\n",
            " (14,\n",
            "  '0.018*\"year\" + 0.013*\"economy\" + 0.011*\"economic\" + 0.011*\"deficit\" + '\n",
            "  '0.011*\"budget\" + 0.008*\"tax\" + 0.008*\"government\" + 0.008*\"cut\" + '\n",
            "  '0.007*\"spending\" + 0.006*\"recession\"')]\n"
          ]
        }
      ],
      "source": [
        "# View Topics - Lda\n",
        "pprint.pprint(lda_model.print_topics())"
      ]
    },
    {
      "cell_type": "code",
      "execution_count": null,
      "metadata": {
        "colab": {
          "base_uri": "https://localhost:8080/"
        },
        "id": "uA6aRTELPGcJ",
        "outputId": "764eda30-0f30-440a-b161-c1c2acee9132"
      },
      "outputs": [
        {
          "name": "stderr",
          "output_type": "stream",
          "text": [
            "2021-09-14 14:11:17,267 : INFO : (0, '0.008*year + 0.005*market + 0.004*rate + 0.004*stock + 0.004*U.S. + 0.004*rise + 0.004*percent + 0.004*price + 0.004*company + 0.003*increase')\n",
            "2021-09-14 14:11:17,337 : INFO : (1, '0.005*year + 0.003*rate + 0.003*market + 0.003*U.S. + 0.002*stock + 0.002*price + 0.002*high + 0.002*rise + 0.002*increase + 0.002*company')\n",
            "2021-09-14 14:11:17,407 : INFO : (2, '0.002*year + 0.002*rise + 0.002*price + 0.002*market + 0.002*stock + 0.002*U.S. + 0.002*rate + 0.001*high + 0.001*company + 0.001*investor')\n",
            "2021-09-14 14:11:17,480 : INFO : (3, '0.002*year + 0.001*company + 0.001*rise + 0.001*U.S. + 0.001*rate + 0.001*price + 0.001*stock + 0.001*market + 0.001*high + 0.001*investor')\n",
            "2021-09-14 14:11:17,547 : INFO : (4, '0.001*U.S. + 0.001*company + 0.001*market + 0.001*year + 0.001*price + 0.001*stock + 0.001*rise + 0.001*high + 0.001*investor + 0.001*Mr.')\n",
            "2021-09-14 14:11:17,622 : INFO : (5, '0.001*year + 0.001*stock + 0.001*market + 0.001*U.S. + 0.001*company + 0.001*investor + 0.001*Mr. + 0.001*rise + 0.001*economy + 0.000*bank')\n",
            "2021-09-14 14:11:17,687 : INFO : (6, '0.000*market + 0.000*Fed + 0.000*U.S. + 0.000*rate + 0.000*interest_rate + 0.000*year + 0.000*pvogram + 0.000*change + 0.000*political + 0.000*bank')\n",
            "2021-09-14 14:11:17,759 : INFO : (7, '0.000*year + 0.000*Fed + 0.000*rate + 0.000*Mr. + 0.000*market + 0.000*wt + 0.000*official + 0.000*program + 0.000*economy + 0.000*interest_rate')\n",
            "2021-09-14 14:11:17,829 : INFO : (8, '0.000*rate + 0.000*market + 0.000*year + 0.000*fall + 0.000*U.S. + 0.000*rise + 0.000*interest_rate + 0.000*company + 0.000*economy + 0.000*dollar')\n",
            "2021-09-14 14:11:17,897 : INFO : (9, '0.000*year + 0.000*rate + 0.000*company + 0.000*20‰ûólate + 0.000*expect + 0.000*U.S. + 0.000*buy + 0.000*market + 0.000*economic + 0.000*again.last')\n",
            "2021-09-14 14:11:17,960 : INFO : (10, '0.000*year + 0.000*Federal_Reserve + 0.000*Fed + 0.000*low + 0.000*airline + 0.000*Duvalier + 0.000*price + 0.000*Gasser + 0.000*company + 0.000*Ohio')\n",
            "2021-09-14 14:11:18,020 : INFO : (11, '0.000*year + 0.000*bank + 0.000*gain + 0.000*U.S. + 0.000*rate + 0.000*Bottoms + 0.000*stock + 0.000*mid_afternoon + 0.000*week + 0.000*inflation')\n",
            "2021-09-14 14:11:18,078 : INFO : (12, '0.000*U.S. + 0.000*subc + 0.000*simultaneously.‰û\\x9d + 0.000*saintly + 0.000*RTKL + 0.000*wolud + 0.000*‰û÷tor + 0.000*doing?well + 0.000*indignant + 0.000*Martinsville')\n",
            "2021-09-14 14:11:18,153 : INFO : (13, '0.000*14v + 0.000*Ritholtz + 0.000*U.S. + 0.000*peking‰ûª + 0.000*Rodgin + 0.000*television_network + 0.000*Brookes + 0.000*splinter + 0.000*Horizons + 0.000*do.‰Û\\x9dKennedy')\n",
            "2021-09-14 14:11:18,216 : INFO : (14, '0.000*U.S. + 0.000*New_York + 0.000*market + 0.000*Pathmark + 0.000*Footwear + 0.000*year + 0.000*state + 0.000*perplexing + 0.000*art + 0.000*stock')\n",
            "2021-09-14 14:11:18,278 : INFO : (15, '0.000*NossiterThe + 0.000*locations,‰û\\x9d + 0.000*Tyco + 0.000*help + 0.000*dollar + 0.000*fall + 0.000*trading_volume + 0.000*350.your + 0.000*newfound + 0.000*bckavsl')\n",
            "2021-09-14 14:11:18,338 : INFO : (16, '0.000*hous + 0.000*Turin + 0.000*rates.the + 0.000*3fe + 0.000*demand + 0.000*year + 0.000*Loan + 0.000*‰ûïcrunch‰û\\x9d + 0.000*BYTE + 0.000*Force')\n",
            "2021-09-14 14:11:18,401 : INFO : (17, '0.000*year + 0.000*Ehrenkrantz + 0.000*Wash- + 0.000*capital‰ÛÓcash + 0.000*drop + 0.000*final_hour + 0.000*Organizations + 0.000*price + 0.000*86-point + 0.000*irrespective')\n",
            "2021-09-14 14:11:18,463 : INFO : (18, '0.000*deprecate + 0.000*Telling + 0.000*\"Foer + 0.000*RomTelecom + 0.000*tag + 0.000*40-hour + 0.000*Aronson + 0.000*panded + 0.000*unfurl + 0.000*come')\n",
            "2021-09-14 14:11:18,534 : INFO : (19, '0.000*dollar + 0.000*radio + 0.000*Reserve_Banks + 0.000*Dealogic + 0.000*100,000.region + 0.000*domestic_demand + 0.000*Image + 0.000*bellow + 0.000*3/8.while + 0.000*systems.‰û\\x9dwork')\n"
          ]
        },
        {
          "name": "stdout",
          "output_type": "stream",
          "text": [
            "[(0,\n",
            "  '0.008*year + 0.005*market + 0.004*rate + 0.004*stock + 0.004*U.S. + '\n",
            "  '0.004*rise + 0.004*percent + 0.004*price + 0.004*company + 0.003*increase'),\n",
            " (1,\n",
            "  '0.005*year + 0.003*rate + 0.003*market + 0.003*U.S. + 0.002*stock + '\n",
            "  '0.002*price + 0.002*high + 0.002*rise + 0.002*increase + 0.002*company'),\n",
            " (2,\n",
            "  '0.002*year + 0.002*rise + 0.002*price + 0.002*market + 0.002*stock + '\n",
            "  '0.002*U.S. + 0.002*rate + 0.001*high + 0.001*company + 0.001*investor'),\n",
            " (3,\n",
            "  '0.002*year + 0.001*company + 0.001*rise + 0.001*U.S. + 0.001*rate + '\n",
            "  '0.001*price + 0.001*stock + 0.001*market + 0.001*high + 0.001*investor'),\n",
            " (4,\n",
            "  '0.001*U.S. + 0.001*company + 0.001*market + 0.001*year + 0.001*price + '\n",
            "  '0.001*stock + 0.001*rise + 0.001*high + 0.001*investor + 0.001*Mr.'),\n",
            " (5,\n",
            "  '0.001*year + 0.001*stock + 0.001*market + 0.001*U.S. + 0.001*company + '\n",
            "  '0.001*investor + 0.001*Mr. + 0.001*rise + 0.001*economy + 0.000*bank'),\n",
            " (6,\n",
            "  '0.000*market + 0.000*Fed + 0.000*U.S. + 0.000*rate + 0.000*interest_rate + '\n",
            "  '0.000*year + 0.000*pvogram + 0.000*change + 0.000*political + 0.000*bank'),\n",
            " (7,\n",
            "  '0.000*year + 0.000*Fed + 0.000*rate + 0.000*Mr. + 0.000*market + 0.000*wt + '\n",
            "  '0.000*official + 0.000*program + 0.000*economy + 0.000*interest_rate'),\n",
            " (8,\n",
            "  '0.000*rate + 0.000*market + 0.000*year + 0.000*fall + 0.000*U.S. + '\n",
            "  '0.000*rise + 0.000*interest_rate + 0.000*company + 0.000*economy + '\n",
            "  '0.000*dollar'),\n",
            " (9,\n",
            "  '0.000*year + 0.000*rate + 0.000*company + 0.000*20‰ûólate + 0.000*expect + '\n",
            "  '0.000*U.S. + 0.000*buy + 0.000*market + 0.000*economic + 0.000*again.last'),\n",
            " (10,\n",
            "  '0.000*year + 0.000*Federal_Reserve + 0.000*Fed + 0.000*low + 0.000*airline '\n",
            "  '+ 0.000*Duvalier + 0.000*price + 0.000*Gasser + 0.000*company + 0.000*Ohio'),\n",
            " (11,\n",
            "  '0.000*year + 0.000*bank + 0.000*gain + 0.000*U.S. + 0.000*rate + '\n",
            "  '0.000*Bottoms + 0.000*stock + 0.000*mid_afternoon + 0.000*week + '\n",
            "  '0.000*inflation'),\n",
            " (12,\n",
            "  '0.000*U.S. + 0.000*subc + 0.000*simultaneously.‰û\\x9d + 0.000*saintly + '\n",
            "  '0.000*RTKL + 0.000*wolud + 0.000*‰û÷tor + 0.000*doing?well + '\n",
            "  '0.000*indignant + 0.000*Martinsville'),\n",
            " (13,\n",
            "  '0.000*14v + 0.000*Ritholtz + 0.000*U.S. + 0.000*peking‰ûª + 0.000*Rodgin + '\n",
            "  '0.000*television_network + 0.000*Brookes + 0.000*splinter + 0.000*Horizons '\n",
            "  '+ 0.000*do.‰Û\\x9dKennedy'),\n",
            " (14,\n",
            "  '0.000*U.S. + 0.000*New_York + 0.000*market + 0.000*Pathmark + '\n",
            "  '0.000*Footwear + 0.000*year + 0.000*state + 0.000*perplexing + 0.000*art + '\n",
            "  '0.000*stock'),\n",
            " (15,\n",
            "  '0.000*NossiterThe + 0.000*locations,‰û\\x9d + 0.000*Tyco + 0.000*help + '\n",
            "  '0.000*dollar + 0.000*fall + 0.000*trading_volume + 0.000*350.your + '\n",
            "  '0.000*newfound + 0.000*bckavsl'),\n",
            " (16,\n",
            "  '0.000*hous + 0.000*Turin + 0.000*rates.the + 0.000*3fe + 0.000*demand + '\n",
            "  '0.000*year + 0.000*Loan + 0.000*‰ûïcrunch‰û\\x9d + 0.000*BYTE + 0.000*Force'),\n",
            " (17,\n",
            "  '0.000*year + 0.000*Ehrenkrantz + 0.000*Wash- + 0.000*capital‰ÛÓcash + '\n",
            "  '0.000*drop + 0.000*final_hour + 0.000*Organizations + 0.000*price + '\n",
            "  '0.000*86-point + 0.000*irrespective'),\n",
            " (18,\n",
            "  '0.000*deprecate + 0.000*Telling + 0.000*\"Foer + 0.000*RomTelecom + '\n",
            "  '0.000*tag + 0.000*40-hour + 0.000*Aronson + 0.000*panded + 0.000*unfurl + '\n",
            "  '0.000*come'),\n",
            " (19,\n",
            "  '0.000*dollar + 0.000*radio + 0.000*Reserve_Banks + 0.000*Dealogic + '\n",
            "  '0.000*100,000.region + 0.000*domestic_demand + 0.000*Image + 0.000*bellow + '\n",
            "  '0.000*3/8.while + 0.000*systems.‰û\\x9dwork')]\n"
          ]
        }
      ],
      "source": [
        "# View Topics - Hdp\n",
        "pprint.pprint(hdp_model.print_topics())"
      ]
    },
    {
      "cell_type": "markdown",
      "metadata": {
        "id": "ciwp30b24gAs"
      },
      "source": [
        "###Mallet model - Not supported"
      ]
    },
    {
      "cell_type": "markdown",
      "metadata": {
        "id": "lSX5gcatqVtN"
      },
      "source": [
        "**Gensim ver 4.1.0 does not support Mallet model.**\n",
        "\n",
        "**MalletModel 2 LdaModel does not work properly, so we upgraded gensim and neglected the Mallet model.**\n",
        "\n",
        "**Therefore, all cells regarding MalletModel are commented out.**"
      ]
    },
    {
      "cell_type": "markdown",
      "metadata": {
        "id": "eDtZgCoJBKHV"
      },
      "source": [
        "download and unzip LdaMallet"
      ]
    },
    {
      "cell_type": "code",
      "execution_count": null,
      "metadata": {
        "id": "IQG9FKHB4e6-"
      },
      "outputs": [],
      "source": [
        "# !wget http://mallet.cs.umass.edu/dist/mallet-2.0.8.zip\n",
        "# !unzip mallet-2.0.8.zip"
      ]
    },
    {
      "cell_type": "code",
      "execution_count": null,
      "metadata": {
        "id": "eHExS-f2BcYG"
      },
      "outputs": [],
      "source": [
        "# def install_java():\n",
        "#   !apt-get install -y openjdk-8-jdk-headless -qq > /dev/null      #install openjdk\n",
        "#   os.environ[\"JAVA_HOME\"] = \"/usr/lib/jvm/java-8-openjdk-amd64\"     #set environment variable\n",
        "#   !java -version       #check java version\n",
        "# install_java()"
      ]
    },
    {
      "cell_type": "code",
      "execution_count": null,
      "metadata": {
        "id": "_KTKcCwo5bFC"
      },
      "outputs": [],
      "source": [
        "# from gensim.models.wrappers import LdaMallet\n",
        "\n",
        "# mallet_path = '/content/mallet-2.0.8/bin/mallet'\n",
        "# lda_mallet = LdaMallet(mallet_path, corpus=corpus, num_topics=15, id2word=dictionary)"
      ]
    },
    {
      "cell_type": "code",
      "execution_count": null,
      "metadata": {
        "id": "KDuXvpwB5qFw"
      },
      "outputs": [],
      "source": [
        "# lda_mallet.show_topics(-1)"
      ]
    },
    {
      "cell_type": "code",
      "execution_count": null,
      "metadata": {
        "id": "fGOF-L4aHrs6"
      },
      "outputs": [],
      "source": [
        "# gensim_lda_model = gensim.models.wrappers.ldamallet.malletmodel2ldamodel(lda_mallet)"
      ]
    },
    {
      "cell_type": "code",
      "execution_count": null,
      "metadata": {
        "id": "mTlk4AbCHypZ"
      },
      "outputs": [],
      "source": [
        "# (coherencemodel = CoherenceModel(model=gensim_lda_model, texts=texts, dictionary=dictionary, coherence='c_v')\n",
        "# print(coherencemodel.get_coherence())"
      ]
    },
    {
      "cell_type": "code",
      "execution_count": null,
      "metadata": {
        "id": "tjtmW0J9It7J"
      },
      "outputs": [],
      "source": [
        "# pyLDAvis.enable_notebook()\n",
        "# vis_mallet_data = gensimvis.prepare(gensim_lda_model, corpus, dictionary)\n",
        "# pyLDAvis.display(vis_mallet_data)"
      ]
    },
    {
      "cell_type": "markdown",
      "metadata": {
        "id": "UUINxp7ru6Rc"
      },
      "source": [
        "###EnsembleLda\n",
        "\n"
      ]
    },
    {
      "cell_type": "code",
      "execution_count": null,
      "metadata": {
        "id": "9VNSFVRRvJlU"
      },
      "outputs": [],
      "source": [
        "%%time\n",
        "ens_best_trained = 'ensemble_7_lda_150_iterations_20_passes'\n",
        "if LOAD:\n",
        "    ensemble = load_trained_model(ens_best_trained, 'ensemble')\n",
        "else:\n",
        "    ensemble = get_model('ensemble', ens_conf)\n",
        "    save_model(ensemlbe, 'new_ensemble_lda')"
      ]
    },
    {
      "cell_type": "code",
      "execution_count": null,
      "metadata": {
        "colab": {
          "base_uri": "https://localhost:8080/"
        },
        "id": "pmxwvs7K6cB6",
        "outputId": "95f18b04-3283-4842-c3cc-5f3f25377185"
      },
      "outputs": [
        {
          "name": "stderr",
          "output_type": "stream",
          "text": [
            "2021-09-14 14:21:13,679 : INFO : fitting the clustering model\n",
            "2021-09-14 14:21:13,710 : INFO : generating stable topics\n",
            "2021-09-14 14:21:13,715 : INFO : found 13 clusters\n",
            "2021-09-14 14:21:13,750 : INFO : found 10 stable topics\n",
            "2021-09-14 14:21:13,754 : INFO : generating classic gensim model representation based on results from the ensemble\n",
            "2021-09-14 14:21:13,763 : INFO : using symmetric alpha at 0.1\n",
            "2021-09-14 14:21:13,766 : INFO : using symmetric eta at 0.1\n",
            "2021-09-14 14:21:13,787 : INFO : using serial LDA version on this node\n"
          ]
        },
        {
          "name": "stdout",
          "output_type": "stream",
          "text": [
            "shape: (120, 120)\n",
            "0.005534759203446371 0.8103933178432241 1.0\n"
          ]
        },
        {
          "name": "stderr",
          "output_type": "stream",
          "text": [
            "2021-09-14 14:21:13,871 : INFO : running online (multi-pass) LDA training, 10 topics, 0 passes over the supplied corpus of 8000 documents, updating model once every 2000 documents, evaluating perplexity every 8000 documents, iterating 50x with a convergence threshold of 0.001000\n",
            "2021-09-14 14:21:13,875 : WARNING : too few updates, training might not converge; consider increasing the number of passes or iterations to improve accuracy\n",
            "2021-09-14 14:21:13,878 : INFO : LdaModel lifecycle event {'msg': 'trained LdaModel(num_terms=56564, num_topics=10, decay=0.5, chunksize=2000) in 0.01s', 'datetime': '2021-09-14T14:21:13.878121', 'gensim': '4.1.0', 'python': '3.7.11 (default, Jul  3 2021, 18:01:19) \\n[GCC 7.5.0]', 'platform': 'Linux-5.4.104+-x86_64-with-Ubuntu-18.04-bionic', 'event': 'created'}\n"
          ]
        }
      ],
      "source": [
        "shape = ensemble.asymmetric_distance_matrix.shape\n",
        "print('shape:', shape)\n",
        "without_diagonal = ensemble.asymmetric_distance_matrix[~np.eye(shape[0], dtype=bool)].reshape(shape[0], -1)\n",
        "print(without_diagonal.min(), without_diagonal.mean(), without_diagonal.max())\n",
        "\n",
        "ensemble.recluster(eps=0.2, min_samples=2, min_cores=2)"
      ]
    },
    {
      "cell_type": "code",
      "execution_count": null,
      "metadata": {
        "colab": {
          "base_uri": "https://localhost:8080/"
        },
        "id": "TJ6ymj0P8WPd",
        "outputId": "0963f4e2-05a3-4faa-ec58-0ce373593115"
      },
      "outputs": [
        {
          "name": "stdout",
          "output_type": "stream",
          "text": [
            "num of topics in ensemble: 10\n"
          ]
        }
      ],
      "source": [
        "print(\"num of topics in ensemble:\", len(ensemble.get_topics()))"
      ]
    },
    {
      "cell_type": "markdown",
      "metadata": {
        "id": "xH5TTNQCFdTY"
      },
      "source": [
        "#Part III - Models Visualizations"
      ]
    },
    {
      "cell_type": "markdown",
      "metadata": {
        "id": "_NBtr9gdRXLk"
      },
      "source": [
        "LdaModel visual"
      ]
    },
    {
      "cell_type": "code",
      "execution_count": null,
      "metadata": {
        "colab": {
          "base_uri": "https://localhost:8080/",
          "height": 915
        },
        "id": "CEHoqUZmFcDe",
        "outputId": "e13318c6-1145-48e5-bd44-29dbb112e94a"
      },
      "outputs": [
        {
          "name": "stderr",
          "output_type": "stream",
          "text": [
            "/usr/local/lib/python3.7/dist-packages/pyLDAvis/_prepare.py:247: FutureWarning: In a future version of pandas all arguments of DataFrame.drop except for the argument 'labels' will be keyword-only\n",
            "  by='saliency', ascending=False).head(R).drop('saliency', 1)\n"
          ]
        },
        {
          "data": {
            "text/html": [
              "\n",
              "<link rel=\"stylesheet\" type=\"text/css\" href=\"https://cdn.jsdelivr.net/gh/bmabey/pyLDAvis@3.3.1/pyLDAvis/js/ldavis.v1.0.0.css\">\n",
              "\n",
              "\n",
              "<div id=\"ldavis_el9031403225203534885077880300\"></div>\n",
              "<script type=\"text/javascript\">\n",
              "\n",
              "var ldavis_el9031403225203534885077880300_data = {\"mdsDat\": {\"x\": [0.19726082763479436, 0.17178939535997312, 0.22084180891448754, 0.19963532131229828, 0.19146261593851122, 0.16251342261817786, 0.06300575768869218, 0.06942444165727722, 0.08116028818596786, 0.030724970026885186, -0.2601558570825607, -0.2831466951354762, -0.2817643837782647, -0.2812144170201515, -0.2815374963206115], \"y\": [-0.1558955096781856, -0.03977791388474969, 0.14033442781588934, 0.14172304449397594, 0.08848991179021783, -0.04708224321200444, -0.17404267399270323, -0.2106930404493769, 0.1562738170486139, 0.03355072783748393, -0.008262911909512363, 0.025015758743495157, 0.015202886622831403, 0.017763534923856752, 0.01740018385016876], \"topics\": [1, 2, 3, 4, 5, 6, 7, 8, 9, 10, 11, 12, 13, 14, 15], \"cluster\": [1, 1, 1, 1, 1, 1, 1, 1, 1, 1, 1, 1, 1, 1, 1], \"Freq\": [17.255779817143672, 15.427444628731676, 13.335149544161887, 12.801069539446134, 10.09555300175301, 9.357296257122885, 5.823610276649893, 5.262895026313323, 4.733341832389297, 3.9884211022830782, 0.655109971016087, 0.4205465394997406, 0.3286287761333263, 0.2605410165250843, 0.25461267083089]}, \"tinfo\": {\"Term\": [\"U.S.\", \"stock\", \"dollar\", \"company\", \"rate\", \"Fed\", \"interest_rate\", \"Federal_Reserve\", \"market\", \"percent\", \"bank\", \"rise\", \"Dow_Jones\", \"stock_market\", \"inflation\", \"economy\", \"government\", \"price\", \"gain\", \"share\", \"increase\", \"investor\", \"point\", \"trade\", \"country\", \"China\", \"deficit\", \"year\", \"loan\", \"budget\", \"Maryland\", \"student\", \"education\", \"population\", \"unemployed\", \"poverty\", \"retiree\", \"welfare\", \"cost_living\", \"teacher\", \"coverage\", \"deduction\", \"high_school\", \"Dr.\", \"tuition\", \"doctor\", \"adult\", \"wage_increase\", \"pay_raise\", \"school\", \"Health\", \"health_insurance\", \"patent\", \"elderly\", \"youth\", \"IRS\", \"waste\", \"working\", \"student_loan\", \"audit\", \"citizen\", \"Kennedy\", \"mother\", \"union\", \"care\", \"college\", \"law\", \"council\", \"family\", \"black\", \"state\", \"worker\", \"Act\", \"retirement\", \"Administration\", \"work\", \"wage_price\", \"federal\", \"health_care\", \"study\", \"program\", \"salary\", \"people\", \"employer\", \"pay\", \"benefit\", \"county\", \"labor\", \"job\", \"child\", \"employee\", \"cost\", \"limit\", \"system\", \"income\", \"agency\", \"find\", \"unemployment\", \"city\", \"time\", \"new\", \"percent\", \"year\", \"need\", \"government\", \"change\", \"bill\", \"plan\", \"increase\", \"way\", \"money\", \"service\", \"high\", \"official\", \"come\", \"acquisition\", \"SEC\", \"cent_share\", \"online\", \"NASD\", \"ipo\", \"net_income\", \"subsidiary\", \"operator\", \"station\", \"AT&T\", \"initial_public\", \"motor\", \"investigate\", \"training\", \"Google\", \"filing\", \"private_equity\", \"supervisor\", \"financial_service\", \"buyout\", \"annuity\", \"AOL\", \"lawsuit\", \"GE\", \"video\", \"plastic\", \"Kelly\", \"antitrust\", \"chairman_chief\", \"chief_executive\", \"company\", \"own\", \"brand\", \"internet\", \"shareholder\", \"Securities_Exchange\", \"customer\", \"acquire\", \"Corp.\", \"network\", \"offering\", \"Inc.\", \"investigation\", \"real_estate\", \"software\", \"hotel\", \"manager\", \"mutual_fund\", \"firm\", \"Co.\", \"fund\", \"operation\", \"store\", \"executive\", \"computer\", \"sell\", \"management\", \"buy\", \"profit\", \"unit\", \"share\", \"deal\", \"industry\", \"business\", \"sale\", \"offer\", \"value\", \"base\", \"invest\", \"investment\", \"revenue\", \"year\", \"Mr.\", \"stock\", \"investor\", \"market\", \"large\", \"plan\", \"big\", \"money\", \"new\", \"price\", \"include\", \"Commerce_Department\", \"consumer_price\", \"consumer_spending\", \"annual_rate\", \"report_yesterday\", \"retail_sale\", \"seasonally_adjust\", \"labor_market\", \"jobless_rate\", \"consumer_confidence\", \"wholesale_price\", \"energy_price\", \"previous_month\", \"housing_start\", \"forecaster\", \"food_price\", \"Statistics\", \"Conference_Board\", \"Labor_Department\", \"Bureau_Labor\", \"durable_good\", \"CPI\", \"new_order\", \"food_energy\", \"industrial_production\", \"gross_national\", \"statistical\", \"add_job\", \"consumer_sentiment\", \"single_family\", \"inventory\", \"unemployment_rate\", \"report_show\", \"output\", \"revise\", \"survey\", \"quarter\", \"percent\", \"forecast\", \"year_earlier\", \"report\", \"slowdown\", \"month\", \"increase\", \"second_quarter\", \"production\", \"economist\", \"figure\", \"rise\", \"growth\", \"January\", \"recession\", \"consumer\", \"inflation\", \"sale\", \"economy\", \"price\", \"year\", \"decline\", \"cent\", \"drop\", \"number\", \"rate\", \"fall\", \"expect\", \"job\", \"continue\", \"high\", \"U.S.\", \"low\", \"average\", \"industrial_average\", \"Dow\", \"Industrial_Average\", \"blue_chip\", \"500-stock_index\", \"fall_point\", \"Nasdaq_Composite\", \"Nasdaq_composite\", \"Big_Board\", \"broad_market\", \"technology_stock\", \"gainer\", \"Dow_industrial\", \"point_close\", \"volume_share\", \"nearly_point\", \"previous_session\", \"advance_issue\", \"trading_volume\", \"American_Stock\", \"lose_point\", \"send_stock\", \"chief_investment\", \"bull\", \"corporate_earning\", \"Dow_Jones\", \"York_Stock\", \"Intel\", \"market_strategist\", \"total_share\", \"Standard_Poor\", \"Associated_Press\", \"Stock_Exchange\", \"profit_taking\", \"rally\", \"S&P\", \"NEW_YORK\", \"stock\", \"selling\", \"advance\", \"stock_market\", \"session\", \"trading\", \"gain\", \"point\", \"close\", \"volume\", \"finish\", \"Index\", \"market\", \"day\", \"investor\", \"index\", \"share\", \"trader\", \"news\", \"loss\", \"price\", \"rise\", \"average\", \"decline\", \"week\", \"high\", \"fall\", \"New_York\", \"low\", \"issue\", \"drop\", \"analyst\", \"year\", \"Fed\", \"Greenspan\", \"Volcker\", \"Fed_official\", \"D.C.\", \"Chairman_Alan\", \"federal_fund\", \"term_interest\", \"Freddie_Mac\", \"Federal_Open\", \"Fed_policy\", \"Market_Committee\", \"Treasury_bill\", \"Fed_Chairman\", \"raise_short\", \"Fed_chairman\", \"Mr._Greenspan\", \"rate_mortgage\", \"fix_rate\", \"Senate_Banking\", \"prime_rate\", \"adjustable_rate\", \"30-year_fix\", \"borrower\", \"FOMC\", \"home_loan\", \"policy_meeting\", \"Treasury_security\", \"mortgage_back\", \"Fannie_Mae\", \"Bernanke\", \"Treasurys\", \"discount_rate\", \"mortgage\", \"money_supply\", \"Federal_Reserve\", \"Alan_Greenspan\", \"monetary_policy\", \"yield\", \"interest_rate\", \"loan\", \"deposit\", \"bank\", \"lender\", \"rate\", \"Treasury\", \"credit\", \"bond\", \"central_bank\", \"short_term\", \"Board\", \"raise_interest\", \"inflation\", \"meeting\", \"policy\", \"week\", \"money\", \"yesterday\", \"long_term\", \"low\", \"economy\", \"market\", \"high\", \"year\", \"month\", \"investor\", \"rise\", \"increase\", \"point\", \"federal_budget\", \"spending_cut\", \"government_spending\", \"capital_gain\", \"federal_spending\", \"Congressional_Budget\", \"outlay\", \"tax_revenue\", \"Northern_Virginia\", \"national_debt\", \"Columbia\", \"bureau\", \"Arlington\", \"deficit_fiscal\", \"budget_surplus\", \"speaker\", \"income_taxis\", \"current_fiscal\", \"postal\", \"balance_budget\", \"prosperous\", \"undergo\", \"Eastern_Europe\", \"defense_spending\", \"balanced_budget\", \"dull\", \"private_investment\", \"miracle\", \"fiscal\", \"tax_reduction\", \"raise_taxis\", \"gdp\", \"budget\", \"deficit\", \"tax_increase\", \"tax_cut\", \"budget_deficit\", \"federal_deficit\", \"deficit_reduction\", \"fiscal_year\", \"tax\", \"spending\", \"taxis\", \"surplus\", \"shortfall\", \"economic\", \"income_tax\", \"Social_Security\", \"prosperity\", \"cut\", \"economy\", \"saving\", \"government\", \"year\", \"recession\", \"project\", \"reduce\", \"real\", \"growth\", \"policy\", \"current\", \"problem\", \"spend\", \"revenue\", \"administration\", \"effect\", \"investment\", \"high\", \"rate\", \"increase\", \"new\", \"plan\", \"economist\", \"time\", \"need\", \"Montgomery\", \"missile\", \"CBO\", \"voluntary\", \"mill\", \"airport\", \"Jimmy_Carter\", \"tour\", \"smile\", \"Senate_Majority\", \"baseball\", \"automaker\", \"Judge\", \"Avenue\", \"reserve_requirement\", \"dress\", \"foreign_policy\", \"EU\", \"doom\", \"demonstration\", \"map\", \"La\", \"Adams\", \"lump_sum\", \"I.\", \"wonderful\", \"budget_resolution\", \"Alexander\", \"locality\", \"Kentucky\", \"Capitol\", \"Ford\", \"Vietnam\", \"coal\", \"mile\", \"town\", \"gas\", \"gallon\", \"District\", \"coin\", \"encounter\", \"Brown\", \"electricity\", \"art\", \"natural_gas\", \"downtown\", \"Detroit\", \"wear\", \"car\", \"friend\", \"story\", \"street\", \"book\", \"Washington\", \"newspaper\", \"energy\", \"neighborhood\", \"Washington_Post\", \"movie\", \"man\", \"plant\", \"city\", \"like\", \"home\", \"go\", \"talk\", \"thing\", \"oil\", \"hand\", \"good\", \"way\", \"war\", \"life\", \"think\", \"come\", \"get\", \"day\", \"people\", \"house\", \"look\", \"price\", \"begin\", \"time\", \"country\", \"year\", \"old\", \"Democrats\", \"Republicans\", \"democratic\", \"republican\", \"Obama\", \"Republican\", \"senator\", \"GOP\", \"Democrat\", \"AFL_CIO\", \"Mr._Bush\", \"veto\", \"House_Senate\", \"Bill_Clinton\", \"Dole\", \"tonight\", \"church\", \"House_Speaker\", \"incumbent\", \"Mr._Reagan\", \"Mr._Obama\", \"President_Barack\", \"Barack_Obama\", \"Sen\", \"pollster\", \"Gore\", \"activist\", \"endorsement\", \"congressional_Democrats\", \"Cheney\", \"voter\", \"elect\", \"Senate\", \"Bush\", \"campaign\", \"nomination\", \"election\", \"Sen.\", \"candidate\", \"House\", \"White_House\", \"aide\", \"party\", \"vote\", \"lawmaker\", \"opposition\", \"Clinton\", \"political\", \"Rep.\", \"Congress\", \"administration\", \"president\", \"President_Bush\", \"bill\", \"President\", \"governor\", \"chairman\", \"leader\", \"Committee\", \"support\", \"yesterday\", \"issue\", \"member\", \"meeting\", \"week\", \"plan\", \"japanese\", \"yen\", \"euro\", \"foreign_exchange\", \"Tokyo\", \"west_german\", \"exchange_rate\", \"U.S._currency\", \"ECB\", \"ounce\", \"Japanese\", \"japanese_yen\", \"European_Central\", \"foreign_currency\", \"current_account\", \"late_New\", \"West_Germany\", \"Bundesbank\", \"canadian_dollar\", \"rupee\", \"gold_price\", \"Bank_Japan\", \"greenback\", \"swiss_franc\", \"dollar_yen\", \"franc\", \"dollar_denominate\", \"major_currency\", \"Japan\", \"yen_yen\", \"gold\", \"currency\", \"dollar\", \"trade_deficit\", \"London\", \"import\", \"yuan\", \"intervention\", \"Germany\", \"U.S.\", \"Canada\", \"export\", \"trade\", \"german\", \"foreign\", \"China\", \"Europe\", \"canadian\", \"mark\", \"United_States\", \"New_York\", \"trader\", \"market\", \"central_bank\", \"european\", \"fall\", \"yesterday\", \"interest_rate\", \"rise\", \"world\", \"strong\", \"country\", \"IMF\", \"India\", \"Latin_America\", \"World_Bank\", \"Argentina\", \"Indonesia\", \"jurisdiction\", \"Regan\", \"latin_american\", \"Paulson\", \"corn\", \"wheat\", \"Africa\", \"impression\", \"Thailand\", \"global_financial\", \"Russia\", \"BCCI\", \"International_Monetary\", \"debt_crisis\", \"tariff\", \"injury\", \"Puerto_Rico\", \"corporate_debt\", \"Frederick\", \"diplomat\", \"Dukakis\", \"investment_grade\", \"grain\", \"homeless\", \"South_Korea\", \"Mexico\", \"Italy\", \"Asia\", \"Brady\", \"Brazil\", \"Hong_Kong\", \"russian\", \"develop_country\", \"crisis\", \"global\", \"Fund\", \"world\", \"country\", \"international\", \"Europe\", \"european\", \"U.S.\", \"asian\", \"debt\", \"foreign\", \"collapse\", \"government\", \"farmer\", \"United_States\", \"market\", \"capital\", \"bank\", \"risk\", \"financial\", \"trade\", \"economic\", \"bond\", \"loan\", \"economy\", \"large\", \"Mr._Bernanke\", \"Williams\", \"communist\", \"Wall_Streeters\", \"sister\", \"nursing_home\", \"Poland\", \"monetarist\", \"Kohl\", \"ruble\", \"novel\", \"Dominion\", \"processor\", \"parliament\", \"Grand\", \"Newsweek\", \"organizer\", \"QE\", \"Japan_Germany\", \"Series\", \"Stein\", \"Hitler\", \"Bonn\", \"Wyo\", \"print_money\", \"revolutionary\", \"Point\", \"Jackson_Hole\", \"widow\", \"Monetary\", \"curve\", \"love\", \"celebration\", \"Belt\", \"gather\", \"deflation\", \"President\", \"control\", \"immigrant\", \"State_University\", \"manpower\", \"charity\", \"affordable_housing\", \"Trade_Representative\", \"cement\", \"cell\", \"destructive\", \"Outlook\", \"personal_exemption\", \"South Carolina\", \"World_Economic\", \"can\", \"cent_pound\", \"jean\", \"importer\", \"smoker\", \"Townsend\", \"federation\", \"Christmas_shopping\", \"exclusion\", \"void\", \"click\", \"ledger\", \"dialogue\", \"achieve_goal\", \"little_chance\", \"Volcker_rule\", \"Quebec\", \"French\", \"chinese\", \"Wright\", \"Beijing\", \"Federation\", \"China\", \"cotton\", \"Chinese\", \"AIG\", \"intent\", \"illegal_immigrant\", \"brain\", \"beef\", \"ton\", \"immigration\", \"Parker\", \"House_Ways\", \"Means_Committee\", \"mexican\", \"announce_yesterday\", \"Congressional\", \"freedom\", \"Week\", \"Police\", \"Fox\", \"CNN\", \"State_Department\", \"czar\", \"inter\", \"integration\", \"Drug\", \"van\", \"Buffalo\", \"stadium\", \"Mexicans\", \"invoke\", \"ticker\", \"Grace\", \"terror\", \"uphold\", \"Channel\", \"Pakistan\", \"al_Qaeda\", \"Fox_News\", \"defendant\", \"cdo\", \"instruct\", \"global_competition\", \"delegate\", \"viewer\", \"drug\", \"Calif\", \"FDA\", \"border\", \"constitutional\", \"NBC\", \"illegal\", \"police\", \"agent\", \"Mexico\", \"rail\", \"copper\", \"capita_income\", \"industrial_output\", \"cent_gallon\", \"Limited\", \"intermediate\", \"Aaron\", \"Railroad\", \"Jacobs\", \"refiner\", \"vacant\", \"recruitment\", \"shuttle\", \"dole\", \"Empire\", \"Fraser\", \"economist_caution\", \"hospitality\", \"OSI\", \"InBev\", \"Intimate_Brands\", \"Poole\", \"tragedy\", \"GTE\", \"interview_Wall\", \"Wagner\", \"crude_future\", \"12-month_period\", \"deficit_widen\", \"walkout\", \"railroad\", \"freight\", \"ease_concern\", \"jumbo\", \"President_Nixon\", \"Qwest\", \"Street_Journal\", \"census\", \"Cohen\", \"Wilson\", \"General_Assembly\", \"hispanic\", \"Strauss\", \"Simpson\", \"civil_servant\", \"Jarrett\", \"debt_relief\", \"convict\", \"Ukraine\", \"protester\", \"welfare_reform\", \"prestigious\", \"GAF\", \"Bowles\", \"President_Bill\", \"Oxley\", \"Sarbanes\", \"invisible\", \"reintroduce\", \"Japan_Nikkei\", \"Suharto\", \"Ambassador\", \"Martha\", \"lion_share\", \"IMF_World\", \"Book\", \"Madoff\", \"outsider\", \"approve_voter\", \"Hall\", \"crew\", \"security_law\", \"spanish\", \"deregulation\", \"Long\"], \"Freq\": [3807.0, 4090.0, 2074.0, 3555.0, 4198.0, 1947.0, 2655.0, 2177.0, 4534.0, 3984.0, 1999.0, 3862.0, 1282.0, 1988.0, 2863.0, 3088.0, 2336.0, 3908.0, 1973.0, 2145.0, 3351.0, 2439.0, 2319.0, 1248.0, 1271.0, 397.0, 975.0, 7758.0, 1071.0, 936.0, 246.43754230014457, 224.7147867699893, 192.89362226440963, 155.50020353992838, 117.86273548345436, 117.62562906524639, 98.93416489699648, 98.89860569135898, 94.39686093585567, 91.11304008935421, 77.04833535656971, 67.57638076198236, 62.365056703484896, 57.95955830148258, 58.01526209273656, 57.88275548512589, 57.700444873704896, 56.966337320551276, 56.537734866663214, 298.76111431951, 51.403564148758534, 50.814848136279714, 50.56073073466226, 49.288821870118376, 46.23216184452367, 44.91447789329276, 49.74949940320082, 44.01767641638871, 42.83991920629639, 42.73492241644375, 88.20972808227528, 77.84675354908767, 63.95677881322067, 272.15992295237385, 156.7819904308364, 143.65508584102827, 410.9736356154087, 88.73784563374551, 337.40361560135335, 238.35822049555875, 1272.0311341545257, 833.4085860071124, 123.5650215243961, 157.03178329248087, 179.88478099441164, 1156.8047125666524, 97.51737127380588, 611.2162223182584, 230.25347512589718, 306.0194154531252, 853.9452182005283, 135.13868987631818, 891.0620690795478, 222.0353119383496, 967.4104708843912, 443.71466018017037, 244.24413900437807, 256.22363840439283, 898.2214801467487, 194.4072450404335, 362.62642742302796, 761.3231670516058, 283.12754756964006, 391.99022276714453, 391.4439455263345, 253.47316341061799, 439.2483901666332, 452.76105723622175, 340.11922399159573, 905.4930589694998, 936.6834656701873, 929.5883821350849, 1296.533572216008, 444.41678978735166, 618.3674573020728, 473.41526286015403, 397.0334472269253, 485.6779351647299, 605.4590433373075, 425.5407133726365, 459.8181321192175, 372.15146321187393, 477.55323947589596, 399.66117961349727, 395.143961113403, 149.99596688143555, 131.00101736244798, 145.42398211295927, 102.62889495952051, 87.7635219683966, 81.64592504220155, 81.57020682575696, 79.02159826386911, 76.0811458552365, 75.36508124225571, 70.21607639250246, 65.38606671750425, 63.30152012971411, 61.663867333605516, 61.02222964206464, 60.13640882028018, 59.554083857478105, 56.19083050343565, 55.780160934780405, 53.868153258771876, 51.69001798887282, 49.48049896435686, 49.37977795399105, 48.754995060406124, 48.15917946294979, 46.54457363967344, 45.352221282930664, 44.00801338877964, 43.63211061662493, 42.16128784911932, 149.56379838366712, 3255.5507420179547, 216.42306657000142, 90.56927947060434, 202.11835725676173, 151.53210954245324, 148.99197368814004, 349.59285542570626, 148.207123074003, 579.6484631746932, 123.6685610341214, 180.17274579202845, 581.4134444545538, 125.39118632754152, 314.9969629517537, 119.46257910943052, 96.15540655802705, 314.51645018135355, 270.18096135881143, 640.7033074549173, 449.4900950928496, 1017.9412333358812, 291.7892352185769, 202.68183006763863, 365.2725598245246, 236.2964742638169, 726.5279386466229, 229.59293146280368, 648.1073966745566, 452.77880447824407, 271.1434669804358, 946.4374413178247, 410.6439541952734, 563.6684231915093, 794.6538237553352, 636.303661485254, 451.7873919719533, 410.87853190302593, 443.66044940126756, 261.9697447983459, 440.74816383688926, 321.7480344706588, 1230.4175284626594, 414.31521916509826, 795.3661957176886, 626.7644499568075, 823.1948566065954, 497.470237636114, 494.47666844933525, 525.8158092014012, 493.2572630846726, 579.9241206767471, 555.8940117085367, 413.3721056228426, 404.2274025947401, 328.4813531777472, 305.60002427569657, 301.23676241423027, 236.47813512386455, 193.89009261534054, 137.51680732757717, 134.4419943756741, 124.3399606797429, 120.02911299876735, 111.59672225233217, 84.27167604812666, 84.17154733969227, 78.09875422773628, 75.20135315948686, 67.44932850137967, 67.06202491313563, 65.91440892490098, 381.29090499362246, 61.77983737821353, 58.798371275027556, 78.06563473186951, 54.05309619808031, 52.62604017485315, 79.77228091787889, 90.47839620308508, 45.5561015473603, 41.79524049665387, 40.55059626520688, 40.011542854405, 159.31550599244747, 354.9297966906018, 84.62468522736717, 177.28098527562375, 147.93356108908029, 312.35298112982923, 861.9037969527523, 2568.5067461586873, 433.1042871245939, 208.82783379962734, 1549.5743463612764, 203.40584465601893, 1716.0777098327305, 1821.4013097559905, 274.14227333123205, 286.0522372528582, 727.5387463329467, 530.0185115443094, 1737.8279106942325, 878.0448580625475, 573.9995310677987, 793.8491727851896, 573.1414789494185, 1241.3456497608925, 748.225624696483, 1281.3946266532944, 1491.8429789787099, 2345.437215826182, 912.0314920426155, 661.929194730564, 628.4488177665437, 575.0928791237045, 1115.04938038087, 819.72854059295, 668.0843296715226, 622.6670441112727, 587.8749941213523, 735.0914012863329, 603.9564218621607, 535.6036830680259, 498.6875990002553, 548.3376658693064, 425.1539017302596, 369.28810066769285, 330.5621202898468, 248.32699223122336, 141.76483597701352, 139.04980793676376, 133.887417439373, 122.51829078075157, 102.63331573611282, 96.00445394473887, 92.16307875448064, 81.01543819145662, 78.46918771913182, 77.46483085980988, 74.55961476197074, 70.6535193645883, 69.49577392259619, 66.73214150180014, 63.945688769807816, 62.874976310384675, 62.866862004234434, 61.66311878506169, 60.9630954004248, 59.09226222760022, 1265.722582857967, 56.95909572999411, 56.8662856120811, 51.30937379014162, 47.85534549930315, 313.5864153631856, 171.32264041309773, 438.67881468973223, 117.64156145509011, 738.3412060165759, 161.09480501272282, 922.9302795765519, 3294.021617413433, 188.13518199446764, 708.777311151474, 1529.2132896608314, 505.8936414888123, 769.1651429740243, 1353.3425524540937, 1547.049374206104, 1180.01124844934, 352.92163915076145, 225.74360624279075, 182.68279434090286, 2187.3382320524574, 1289.6201230220768, 1300.2197753544635, 745.7143345251944, 1079.7800305003839, 437.70229084038664, 402.7104953552605, 519.6128967799883, 1334.9559733287938, 1319.993869502087, 724.7002992073325, 842.0512870458889, 955.9202538038568, 1044.0184348636024, 799.8910315433346, 593.9540267997562, 689.9743271385136, 547.0451916158529, 520.0306049693316, 519.1876194154871, 543.7887921073556, 1946.4700171762513, 367.8840838998934, 144.66592165992762, 138.14158854138068, 136.55593564052728, 133.5713225793909, 119.97786735667161, 103.18151977857356, 102.59758362802494, 101.46482616585021, 101.2530499855991, 95.62849878801636, 95.07258137328124, 87.75708217383729, 74.39330646114905, 74.45480437423531, 73.86352504177859, 71.28372094344766, 66.68901888823076, 65.97132415902252, 63.997920615650834, 62.82921318821275, 60.782990581181835, 214.5591374795962, 54.23175552299314, 48.66655265294483, 47.775858290210095, 45.6329636322586, 44.76335497423573, 111.43080882488445, 148.80120045459466, 128.77758866837848, 145.31980087691443, 731.0210131839733, 202.57759469249447, 1927.9531017898605, 157.6077411411556, 208.92325030671253, 442.11884977883705, 2071.7341453219833, 877.6072905691143, 176.56086920571235, 1451.0595516464239, 243.98592595319366, 2504.561646277894, 336.2100445667731, 538.3076541010598, 801.0940628367505, 432.4028021497808, 331.5866863124411, 326.6435092606046, 161.73267227571796, 1024.5507055335697, 310.04839253961376, 443.3320264485301, 622.4360480835207, 460.4815879946137, 547.3920497218927, 275.0113340230193, 505.6674773646995, 534.1972511998823, 620.5906659490945, 503.8658578271629, 665.5090776944688, 401.5147501259292, 367.869456834989, 354.50881902304883, 345.72028543936347, 312.1361688590707, 174.0437612364076, 85.9521533815686, 84.14867590597815, 92.75562117148809, 68.83089767316338, 67.81933457063863, 64.37601233504397, 58.19027339017851, 55.81687534040927, 53.87582198512157, 49.89721933176021, 48.07739507338055, 47.93028318870512, 39.47879037706622, 39.303784990797546, 38.79339345441964, 38.13284190113144, 33.794910030406555, 32.64489164714911, 32.164649367624655, 32.07477412378009, 31.47679058010018, 30.13608873898889, 54.39844727236245, 30.462827445582843, 28.469433697937706, 27.207435959392505, 27.052299540268574, 349.3938727109791, 25.462862322429295, 77.62254005718688, 62.87335871678399, 846.0530489363659, 864.8465818981714, 158.9725679699763, 314.4561489735066, 287.75430906672057, 80.62013421379172, 79.51885846500969, 141.56901994897726, 665.23170727802, 587.1325410200457, 351.22053522845215, 136.53535590333237, 66.60398859900279, 895.4333224459059, 101.77830327650797, 192.73088667292333, 102.3543567568663, 609.798882858562, 987.5108612960684, 172.08593971866784, 662.6177609835586, 1432.0551932087576, 483.2874071391117, 215.6132497116276, 296.32810274527947, 218.72228046819362, 423.7141794361967, 342.9372003835611, 252.98795860603173, 297.1551610982671, 218.40899384931382, 211.4183968473921, 217.32628628697827, 206.9861423452944, 252.52488067744665, 389.42658955589184, 402.6504727013719, 343.9974282569279, 313.8691487823424, 266.8581282291494, 251.9845253828712, 280.9779378212059, 237.48435652212675, 67.39692711008404, 56.8494145820729, 54.72230483957627, 49.57100792296481, 49.56116784691256, 48.88982495254159, 44.70265310046397, 39.441718580978396, 38.544783676533626, 34.5960426823106, 36.10234966612755, 31.521272614352476, 28.950361759290907, 28.894037870902633, 28.73912223557953, 27.410583694070286, 39.8963517587225, 25.977823582276507, 25.77673484385541, 24.32976477287263, 23.91568057596374, 23.516631570577907, 23.35104920159678, 23.231900760440986, 24.791213600049222, 23.045696134739124, 22.936038578060725, 22.75608946999984, 22.729381302974488, 22.535950549580726, 28.45131711431215, 151.6781590845219, 67.43039819148771, 64.69922408155668, 82.89014395760577, 110.69132337040693, 86.78446522647728, 42.92601482683974, 210.8405160388707, 42.696147001563645, 31.435129190743304, 66.93093166607567, 47.35293448785426, 58.503830103410884, 51.842400773648144, 47.67098672586277, 67.39431031118023, 60.43391598247209, 205.7067328613279, 82.73218964294557, 117.89438446456342, 70.07760669301928, 145.39483154146888, 296.63523836666536, 75.91725284633301, 142.0541314228184, 67.04659531784158, 68.50330284531175, 60.892699551505906, 150.01948485124242, 112.5287266791429, 187.8792059676926, 266.32757608227104, 221.88283730426684, 293.7521987029222, 166.83359793323513, 178.94057437965833, 160.46365947744417, 125.13016979773491, 251.86289232894725, 215.17482439314668, 116.79714187060785, 120.56049777037612, 177.881232611656, 228.60555901968294, 162.35802804684874, 219.94948470239106, 179.2545674437681, 112.64790220046164, 145.26463011801513, 198.88501747234795, 138.29029663174745, 144.96280317342763, 132.25337006608615, 122.54146585034479, 117.92639036662443, 299.1362492397895, 233.7320447809306, 213.05486709469477, 161.66876543302635, 133.26647765001093, 105.13969693141185, 99.66381756436242, 98.77275000272867, 90.28234708449806, 68.06935945638652, 61.50500203512422, 59.418451029352354, 57.25328823488197, 47.584641028692644, 40.95089162446495, 40.61588474082036, 39.640677113566255, 39.44794736617213, 36.01852482874751, 34.83259608130236, 34.4035595443846, 34.03328864266773, 30.127991203463747, 29.325097855474404, 28.72858750170387, 28.65218341725607, 28.52443797257883, 26.86074862964194, 26.221776678246638, 25.30086260383726, 183.76326348737408, 76.63804957669302, 334.4253274602116, 396.4830747528224, 333.77520621593754, 55.600024305133665, 256.37283757766136, 151.44314303891903, 180.8567603033349, 336.53097755503217, 444.8553432539038, 88.39457189598778, 223.12300830297443, 421.2492607544992, 137.16953389586823, 112.17285017477913, 191.01912437121072, 373.5607880717469, 102.62585082171344, 453.8457950490464, 289.40248377449933, 436.99301029828325, 147.2794076699139, 344.2485551812994, 217.37265230523127, 134.50310116052458, 207.62275024784492, 182.2034547440986, 172.72425792998115, 232.73812962944237, 347.47605907860844, 254.31312421819507, 200.69164085602847, 176.7655468597276, 203.74753632117276, 189.07638584793602, 318.81195264918927, 285.5883988379479, 249.44993402095423, 164.28628597796057, 152.23330088154927, 113.33806590833166, 112.2447958815406, 81.82980835920098, 72.49125015005588, 70.38498066422987, 68.26769673866731, 67.71410645642679, 55.56554086003829, 52.45059057644551, 52.06741596529924, 49.911050935513686, 49.71038146675855, 47.64598260670429, 43.913199637628445, 42.39636254231481, 41.819904670633875, 39.98008546403842, 35.85842604616556, 35.759838238073506, 35.27284894124881, 34.564477283105916, 34.40553942742076, 34.3944137775228, 555.8033273825748, 33.06224578899111, 304.18764960822256, 561.6633985579836, 1754.3472654500029, 299.89119330227146, 129.7999871214492, 293.8036046716399, 45.25893526585244, 97.99247229547133, 115.46738833386709, 1690.9181791879287, 118.81021750570724, 254.88403320809988, 466.2174999461534, 86.27339570870062, 206.10399424790657, 189.33800591846074, 181.79779015946102, 74.56315106224874, 172.17247654911415, 187.6120798184217, 243.2710418478031, 173.32643025398255, 358.6252275048659, 163.77596108226618, 121.25077083546861, 220.17738068426337, 210.61712501834273, 210.75224536445873, 219.23454093580943, 160.49872737063242, 156.87145967595328, 148.5427731400534, 143.0848191170235, 84.20697159871953, 66.67160556790063, 65.69550969539837, 59.76788802491472, 57.167118383892145, 50.873046883326104, 45.23817354171938, 42.955824372529115, 41.18838225310938, 35.55608588706928, 35.05295483473653, 32.55727894273101, 32.19262323427418, 30.61770852124031, 30.33386637610197, 104.94786096391273, 29.7821183369998, 104.55167049308646, 29.469050946230883, 52.67472373269759, 27.69359091874136, 26.138134323489716, 26.007368431517282, 25.710440326361457, 25.45990754267595, 24.84951573914513, 24.75202797255805, 34.54938257295071, 22.81562605966177, 79.65715724649048, 146.39076640832747, 42.11056076864268, 156.31905674680945, 48.57012876370406, 100.09303422181468, 79.46429014787084, 46.73632171442689, 44.20216689180155, 243.44233693115936, 233.1858336136919, 133.18940473955814, 386.2092978255651, 484.16323148362636, 188.62328840242327, 188.39262566215982, 154.33169318982897, 919.9342353213397, 86.04518293351057, 276.1197146488204, 177.851983456913, 117.01182370774286, 427.02043818727975, 66.37929063945991, 195.36620267005185, 403.1558639844948, 134.00235463164248, 239.61535641635152, 142.44644760605263, 156.23888937963684, 178.09165780264277, 150.75660032313328, 130.5360491789427, 112.45843282578801, 111.82722218328561, 101.08460756575042, 42.818014356138164, 29.131987004885463, 24.691112599305892, 18.707722180306515, 17.892710917109387, 17.747704301968042, 17.170962718639483, 15.64324468596204, 15.381388279225884, 15.124379022461593, 16.801190206350864, 14.396988428456831, 12.910415375085408, 12.691458618510396, 12.406588831304491, 11.636456353597053, 11.353123186043515, 11.329763488957624, 10.953215997533949, 10.822150550173548, 10.714349883493131, 10.347471038930506, 9.966621525541857, 9.669575502643204, 9.627161337071728, 9.539370074879557, 9.376678224540525, 9.282484594239182, 9.091747511263263, 8.90730505344927, 13.483768186192306, 16.139833212465575, 10.125564819174677, 9.996643969526094, 12.55168651488934, 12.726019734147302, 15.36085042123449, 10.381984055037393, 37.74609500975061, 17.11827266092076, 15.254908185867023, 12.691365377676432, 11.386941903165953, 9.35700086813428, 9.331318284091099, 8.745717326952986, 7.960185633490517, 7.960132112668394, 7.795428781464727, 7.741466618409553, 7.079626485254568, 6.984476344288842, 6.858453334629996, 6.526496199199232, 6.467301346535054, 6.445531546287621, 6.043134010067588, 5.979185685001714, 5.846898268962805, 5.827951897931623, 5.639644649076265, 5.609253056083612, 5.577542380674968, 5.526604144069686, 5.45855900591969, 5.320728067804839, 5.173767712531873, 5.152330976477492, 8.448864498752032, 74.12415828299466, 12.182611263735591, 26.013026539346413, 11.106492795246755, 165.9344550303915, 11.173010119774485, 12.160797000035933, 15.736911769514032, 10.134290354989966, 6.830544696085171, 8.424275386274667, 10.865021666983104, 13.044279208557006, 9.433197227493455, 7.324743616600622, 7.673017603901852, 7.382297438518814, 27.11950702327835, 23.86947787854192, 12.178710663259675, 16.02900931140878, 11.358837396559439, 10.755244579959669, 9.345222955332316, 9.336176337053422, 8.196305007630649, 7.297977099395413, 6.582576188079775, 6.496718890549138, 6.3030118763717455, 6.267241702120071, 6.178201359025729, 6.133410947103227, 6.120533349789302, 6.05857302259139, 5.907403773779287, 5.830946980733332, 5.726968135748443, 5.617794884692039, 5.40645790317171, 5.382054553849974, 5.170919287466945, 5.084038937086845, 5.005317915753306, 4.95977050906515, 4.868754194083575, 4.8529779470295065, 12.482967867548723, 13.74884971026987, 58.71213054029242, 9.053936002200164, 7.026754850702026, 12.330060715751463, 7.584917686491013, 7.240125069331977, 8.410603051549232, 9.077774420451568, 6.369471705818897, 6.116029986963273, 66.92773301730335, 32.192684768253784, 16.864653962792104, 9.685343896030709, 9.53423646005707, 7.4300330215706865, 7.282791777134568, 7.237638598094643, 6.011041764224104, 5.503014810005242, 5.260619036969072, 4.803986057049407, 4.361576213750554, 3.9474422639633437, 3.7819790604413615, 3.727053022518231, 3.6455656008812687, 3.612013036929712, 3.6071314536181536, 3.5871605517052174, 3.448450791682511, 3.3722239717384728, 3.356966568942397, 3.217233000182944, 3.165890292838427, 3.148821967762605, 3.1433185494485087, 3.022034452827529, 2.8718419151943757, 2.837484383536498, 5.224151653325552, 26.902602280852722, 9.560568800361436, 4.5110359655091, 7.245865796553162, 5.574385042466371, 4.205787161094556, 3.628969901014513, 3.9225415724978814, 3.7958922997988087, 22.50911997629777, 17.06788455403916, 11.358433877055962, 9.545568110967302, 7.609618805568694, 6.528655475776138, 6.351298966118953, 6.343532153608527, 6.327089243220604, 6.068480807744312, 5.866685758311866, 5.808978540764094, 5.751250385724316, 5.734467490347168, 5.666403691932637, 5.149514343176419, 4.934319797372489, 4.772446064541285, 4.641291122063412, 4.621109373817452, 4.352840279827712, 4.158026637699646, 4.150980673128251, 3.9559444455197026, 3.9144450900865126, 3.8260126015331215, 3.8199826038356823, 3.7854442167265825, 3.73323234306255, 3.72514523677562, 6.067073010662833, 7.200450360619612, 5.966924998309217, 4.0743806093721116, 4.296341953187371, 3.916019888592317], \"Total\": [3807.0, 4090.0, 2074.0, 3555.0, 4198.0, 1947.0, 2655.0, 2177.0, 4534.0, 3984.0, 1999.0, 3862.0, 1282.0, 1988.0, 2863.0, 3088.0, 2336.0, 3908.0, 1973.0, 2145.0, 3351.0, 2439.0, 2319.0, 1248.0, 1271.0, 397.0, 975.0, 7758.0, 1071.0, 936.0, 247.25157783034882, 225.52133231973465, 193.6919835087665, 156.3081451679831, 118.66254777662078, 118.42398960161749, 99.7325250769263, 99.69700172756791, 95.19522186048273, 91.91140069984571, 77.87454209432617, 68.37477065750579, 63.18153020859188, 58.757919086949684, 58.81569670223266, 58.68137304876638, 58.499229024123245, 57.764697877592376, 57.336095291274674, 303.16963178690406, 52.20224566371527, 51.61320847093147, 51.35909225340691, 50.08718247113474, 47.03052235760879, 45.712838026024265, 50.63715637070719, 44.816043395317635, 43.63827985869282, 43.53328297608192, 89.98741903014952, 79.35480584434053, 65.16028933808674, 286.714516400979, 163.898690635666, 150.44604847428448, 448.65596798293507, 92.25495441869549, 371.5627591102247, 260.17440042675463, 1517.3790131209046, 987.3061382272489, 131.26950407735643, 170.1901231412558, 197.8004495550825, 1490.3620491026443, 102.87050344786357, 758.4529051742553, 266.03787470614225, 366.9659878528506, 1164.1654365377037, 149.3638255043438, 1316.4289250201882, 265.2081073931458, 1482.8063399335958, 621.8725109799133, 302.014388845814, 325.24586725662044, 1585.8950610843547, 232.3076727997286, 525.0638971043705, 1445.569788630642, 383.0750952323784, 603.2788640056732, 654.8264969431391, 345.3353398948938, 842.316967528516, 893.4944369813734, 562.2398342292936, 2946.2181185151626, 3171.1142802477766, 3984.44940026973, 7758.901946837077, 1017.9748683721668, 2336.1634763808297, 1258.1995882993976, 836.1868314217833, 1520.8973449963753, 3351.7094920504064, 1146.6590686140607, 1571.44129864492, 757.0742279867325, 3435.2902083616173, 1265.2981563538317, 1968.5882287281931, 150.7875423425458, 131.8025111743138, 146.38572762861457, 103.42047010515748, 88.55509638967422, 82.43750216341749, 82.36178159577338, 79.81317642468986, 76.87272135933084, 76.15665852191837, 71.00765472463735, 66.17764255536237, 64.09875968913394, 62.4554449039135, 61.81380658918415, 60.928040404633116, 60.345658975628524, 56.982405300170456, 56.571736608743116, 54.660733296123425, 52.48163761782659, 50.272074658182035, 50.171352393691066, 49.5467082751819, 48.95075406519766, 47.33614893672326, 46.14379708541218, 44.799591283484624, 44.42430266812085, 42.95286268326811, 152.4250818073231, 3555.11187881124, 226.30623450081563, 93.04601370904408, 212.60995261639502, 158.5502480119725, 156.65839476573683, 379.0816176163606, 155.99686636789846, 659.8347278039937, 130.2635070947348, 196.44072150050508, 684.1984960681042, 134.7923569699131, 369.5676106711678, 128.69059658744087, 101.71801747803447, 375.7395180145345, 318.5460893089521, 898.3271384153363, 603.6399473499062, 1573.0409370027137, 370.5618631425351, 245.803592402515, 500.0011104705163, 304.17777280629804, 1247.88883480941, 296.00176014806374, 1178.7318879348607, 765.5279071977009, 384.5890336353999, 2145.993369481628, 682.2882009978746, 1130.6472708640702, 1912.285694761704, 1450.1662017334404, 864.8722727105227, 753.5035089442628, 864.4337402615381, 375.2952694275718, 901.85311660515, 533.8900295061795, 7758.901946837077, 959.3488995324994, 4090.1347489387927, 2439.2998133423353, 4534.738864087963, 1497.976635602491, 1520.8973449963753, 1791.8338654756783, 1571.44129864492, 3171.1142802477766, 3908.4829459065427, 1347.62975650688, 405.0232869434964, 329.27726421444004, 306.3971082307344, 302.0327325560868, 237.27402122820897, 194.68627240692717, 138.31269124410272, 135.23790563037295, 125.13584503244913, 120.824997985224, 112.39370467081847, 85.06756053158831, 84.96743145653586, 78.89463869828545, 75.99821113198904, 68.24521606836157, 67.85790913394285, 66.71029324000708, 386.1059814662347, 62.57572145859059, 59.5942553403612, 79.14783442709582, 54.84898044928133, 53.421924306188345, 80.9991193669007, 91.94299028575038, 46.351997357278385, 42.5911249237659, 41.346480276884115, 40.807427060593824, 173.8241073821411, 406.89953446116954, 90.18574534248683, 200.37500783922874, 164.65445605312658, 374.61126608865425, 1167.6646248227426, 3984.44940026973, 552.6758433051406, 246.18228200584923, 2583.034450748195, 245.91862585980581, 2985.0529412609644, 3351.7094920504064, 355.25641033615227, 379.2403304694433, 1195.3423125650017, 821.2988282600477, 3862.8589343450262, 1636.265174888325, 968.2558854193722, 1499.827920544535, 993.9035150230368, 2863.265786429073, 1450.1662017334404, 3088.752352171075, 3908.4829459065427, 7758.901946837077, 2145.587067204697, 1356.1086789863227, 1385.1516298503138, 1228.0458103602168, 4198.540695741384, 2400.3028578204003, 1834.871714028611, 1585.8950610843547, 1567.958022601995, 3435.2902083616173, 3807.160845961323, 2297.423948317026, 1633.5041183984608, 549.1326444623168, 425.9488803531622, 370.0830793194057, 331.35709905771495, 249.12197080460916, 142.56031726104908, 139.84478638740003, 134.68239597840775, 123.31326929080261, 103.42829463337586, 96.79943249560596, 92.95805736162704, 81.81041670371265, 79.26416631130932, 78.25980934472724, 75.35540328946534, 71.44849879651072, 70.2907523378586, 67.52712016521936, 64.74066737624052, 63.669954807729006, 63.66184102602164, 62.458102883110364, 61.758092336943704, 59.8872410988335, 1282.911163543746, 57.75407449714665, 57.661264489826536, 52.104352648794396, 48.65032389212106, 321.67808326622435, 175.42861984168832, 457.06421079311673, 121.84172879053449, 814.5178743330574, 169.33209308211423, 1071.1116060678683, 4090.1347489387927, 204.01984240888063, 854.6249931912813, 1988.4200289577561, 613.4675716455315, 1006.1495461085213, 1973.8468253200158, 2319.4270589999587, 1725.6109393429376, 440.7700921935001, 266.9149904308528, 211.56400965231018, 4534.738864087963, 2373.5760685033233, 2439.2998133423353, 1217.535388935535, 2145.993369481628, 655.882669319897, 642.6214707273784, 938.9748842519856, 3908.4829459065427, 3862.8589343450262, 1633.5041183984608, 2145.587067204697, 2820.9183530335013, 3435.2902083616173, 2400.3028578204003, 1434.4844005831949, 2297.423948317026, 1441.8447335073777, 1385.1516298503138, 1393.3851425312846, 7758.901946837077, 1947.2651407116932, 368.6791419796776, 145.46339985288589, 138.93664461267218, 137.35099959790784, 134.3663952276103, 120.7738966134043, 103.97657577668681, 103.39265750850743, 102.25988191596618, 102.04810582171697, 96.42355452627389, 95.86763760137923, 88.55214277152973, 75.18836299600825, 75.25237447600014, 74.65858097862989, 72.07877678932294, 67.48407472178552, 66.77138252373453, 64.79298260066302, 63.624268878942814, 61.57804629699024, 217.65390908579, 55.02681117051885, 49.46160928806743, 48.57126071604615, 46.43748044054807, 45.55841541653279, 113.42831155179147, 151.78699329905766, 131.55564076531084, 149.28016101229161, 773.8868344207582, 209.82157618709277, 2177.061117720473, 164.47675282004175, 225.16711007605616, 502.06972012158445, 2655.0408187689236, 1071.278977397482, 193.13645710046083, 1999.702685830435, 286.39872260909374, 4198.540695741384, 438.9431434764642, 776.6451477497465, 1277.3149018488016, 601.0278457648872, 434.1139563647027, 467.40697133500265, 186.99309677997712, 2863.265786429073, 607.5241667436532, 1188.8087830522306, 2820.9183530335013, 1571.44129864492, 2370.4821881663443, 588.2350219540398, 2297.423948317026, 3088.752352171075, 4534.738864087963, 3435.2902083616173, 7758.901946837077, 2985.0529412609644, 2439.2998133423353, 3862.8589343450262, 3351.7094920504064, 2319.4270589999587, 174.84156564628, 86.75004805647569, 84.94643077493015, 93.66868371089464, 69.62865703525294, 68.61848350653997, 65.1850372401693, 58.98803266414665, 56.614632199999285, 54.67365756228924, 50.69497770410582, 48.87515177843489, 48.728039808068665, 40.276545161544874, 40.10153996725204, 39.59115034888461, 38.93059688479184, 34.59268215440786, 33.4444370030205, 32.96240517798287, 32.872536560099476, 32.274548812328824, 30.934011890767326, 55.85120834660101, 31.282972691163117, 29.267192591704205, 28.005190936263105, 27.850056710820887, 359.9349142412691, 26.260617079606742, 80.17413443184697, 65.14018679386733, 936.5683755579523, 975.4998733446397, 173.53388994619277, 358.40130401919004, 336.8018969748492, 88.43007228608228, 87.25700800864693, 164.14902730687294, 894.8933258537077, 792.9258673498396, 448.971670930213, 167.64249874818844, 74.27727792006289, 1793.0664488854936, 126.42655882410567, 304.8070690200068, 133.42217257965643, 1557.4518160086948, 3088.752352171075, 286.9682505207475, 2336.1634763808297, 7758.901946837077, 1499.827920544535, 442.98235689695923, 745.9404909765176, 456.2744046377051, 1636.265174888325, 1188.8087830522306, 708.3678914341641, 966.2206167960668, 558.3044286395682, 533.8900295061795, 566.175154391027, 518.0087132057205, 901.85311660515, 3435.2902083616173, 4198.540695741384, 3351.7094920504064, 3171.1142802477766, 1520.8973449963753, 1195.3423125650017, 2946.2181185151626, 1017.9748683721668, 68.19443726840521, 57.64692536089144, 55.5198148005427, 50.36853469825441, 50.35878777686239, 49.68918749185836, 45.50016251323314, 40.23922760033894, 39.34615388788591, 35.39355350658047, 36.96160497215882, 32.318782327500294, 29.74787312808506, 29.691560414591326, 29.536633711676444, 28.208092571739716, 41.1082850833882, 26.77533324380412, 26.574244700833706, 25.12731583512797, 24.7131903189993, 24.31414105559371, 24.148558600698525, 24.029411414232218, 25.647291588040254, 23.843342634538228, 23.73354953273657, 23.55359940069835, 23.526890916038273, 23.333461548640734, 29.4774851532463, 160.09977254710614, 70.88598199575613, 68.80276348096974, 89.04223334719454, 122.01195949530518, 98.5536133991558, 46.454449009500166, 265.8393510630129, 46.45817546099161, 33.265138511791335, 76.85049429022806, 52.85210879765605, 67.36473500491144, 59.16461872475545, 54.04044309140727, 82.11181934117793, 72.48556027395558, 323.32001779774225, 110.00874921918475, 176.43204580000543, 91.50157578262142, 257.2618132476115, 748.1581020247494, 106.98727185569044, 270.1120569372767, 89.42345488159776, 93.15991563105086, 79.1122668309537, 362.07240994025926, 225.32088379070476, 562.2398342292936, 1080.7909760588238, 817.9450492837244, 1413.9887002653634, 511.9187053578658, 619.3195078224483, 520.6969381134857, 344.1761313233731, 1619.662596162918, 1146.6590686140607, 316.0965447487932, 342.8829619536447, 951.2692782265266, 1968.5882287281931, 875.4888661619029, 2373.5760685033233, 1316.4289250201882, 330.9655326922788, 946.0414952503064, 3908.4829459065427, 1279.1051403313388, 2946.2181185151626, 1271.796173803634, 7758.901946837077, 528.7621771480983, 299.9367784146125, 234.53257369014096, 213.85539731714965, 162.46929386439612, 134.06700618782816, 105.94022553187706, 100.46454358655734, 99.57327835953043, 91.08290828674147, 68.8698882567813, 62.30553054075488, 60.21898032377624, 58.05383685965485, 48.385169771668636, 41.75141986122117, 41.4164136054038, 40.44120670999066, 40.2484756553644, 36.81905333285034, 35.63312462455501, 35.2040877801285, 34.83381791847546, 30.928519719133764, 30.125627298699015, 29.529116316532836, 29.452712630980827, 29.324967078988433, 27.66127775240682, 27.022306893001442, 26.10139135997317, 190.44843622809074, 79.49867347352065, 355.82185521003316, 426.34730534286274, 367.8637911456863, 58.22645627548906, 285.67142943009884, 165.96217856678882, 201.2005776158539, 392.6126696042052, 539.2315108191145, 96.23433952938451, 261.9108909676178, 549.0837340550091, 162.2132677903543, 131.02783067639493, 254.42153198771445, 590.9400529668419, 123.94276114848259, 919.9640281587473, 566.175154391027, 1034.3730078639467, 220.4793601390257, 836.1868314217833, 428.39681174744277, 192.6595361791874, 488.62590692860635, 391.318600809849, 348.80239336896966, 691.5078393231807, 2370.4821881663443, 1441.8447335073777, 645.2604509853682, 607.5241667436532, 2820.9183530335013, 1520.8973449963753, 319.6063776179744, 286.3827952855391, 250.24433072480028, 165.08068305622186, 153.0276993650081, 114.13246247376478, 113.03919264602182, 82.62420475152648, 73.28564673532308, 71.17937719835557, 69.06210160683781, 68.50850301857628, 56.35993809251772, 53.244987399340054, 52.861812741192196, 50.70544729654925, 50.5047781989508, 48.44037916329347, 44.70759612614156, 43.190759280734326, 42.61430132656925, 40.774482147383736, 36.65282252403438, 36.55423463155588, 36.06724532703291, 35.358873758683195, 35.19993614140674, 35.188811046043334, 569.058078964001, 33.85664214821342, 328.37399000621406, 622.4153357671465, 2074.2708123639136, 346.4200128163104, 146.6169088041035, 380.2549368921113, 47.59362272905004, 117.79933351867174, 143.0245158507172, 3807.160845961323, 154.19152743762572, 405.8031937674837, 1248.3783247965553, 112.51289232984847, 412.30976913794467, 397.3289402052198, 378.02578046026264, 95.32355387492403, 463.6169544863761, 754.1397565970024, 1434.4844005831949, 655.882669319897, 4534.738864087963, 601.0278457648872, 287.47721437465367, 2400.3028578204003, 2370.4821881663443, 2655.0408187689236, 3862.8589343450262, 858.6269469635172, 1168.8192091913809, 1271.796173803634, 143.88307942733388, 85.00523228246048, 67.46997879177735, 66.4937714259004, 60.566151445679516, 57.965380865511214, 51.67131164807732, 46.036436653829476, 43.75432924033825, 41.986644487173166, 36.354346463978544, 35.85125999863607, 33.355545061282044, 32.9908874044414, 31.415968439559897, 31.13212654048049, 107.72318460457457, 30.58037829572216, 107.3757831339424, 30.268195347704633, 54.163163597699324, 28.491854113773712, 26.936397729657696, 26.805629659782777, 26.508703078960078, 26.258167821186962, 25.647776497373222, 25.55028823899729, 35.682002857803774, 23.61388906437046, 84.42779858317738, 157.75533391230454, 44.58063234214723, 178.48283068176886, 52.513786844526834, 116.6351413923833, 91.15945225475288, 50.88258852667477, 49.40980954758482, 408.4412089230975, 408.0383945241118, 203.7612040347634, 858.6269469635172, 1271.796173803634, 362.96420219272534, 378.02578046026264, 287.47721437465367, 3807.160845961323, 128.8207737425356, 741.8976627625307, 412.30976913794467, 221.41353444957798, 2336.1634763808297, 92.13040695179399, 754.1397565970024, 4534.738864087963, 419.3799456519037, 1999.702685830435, 578.3111773604709, 792.8529833174299, 1248.3783247965553, 1793.0664488854936, 1277.3149018488016, 1071.278977397482, 3088.752352171075, 1497.976635602491, 43.6388314591308, 29.952803760912246, 25.511929429208603, 19.528540361414432, 18.713528522985712, 18.568521751461947, 17.99177944879959, 16.464061488849236, 16.202204873417532, 15.945196006197227, 17.728257936487253, 15.217805187035335, 13.731233036936942, 13.51227629548952, 13.227406529580563, 12.457583021515216, 12.173942506350956, 12.150579760086242, 11.774033645396013, 11.642967734009149, 11.5352021107875, 11.168287725248714, 10.787439557003179, 10.490392025376234, 10.447978600194588, 10.360188162844452, 10.197495551920397, 10.103300874316101, 9.912564489199832, 9.728122914029573, 21.70238517251736, 80.77742795422738, 15.722169149297617, 14.74094779578882, 80.13941429319908, 89.41184951940642, 428.39681174744277, 609.117444625509, 38.57493377774235, 17.94712915231824, 16.083748169337476, 13.520204441195753, 12.215781932556068, 10.185840443785974, 10.160157086860012, 9.574555873879593, 8.789025496268554, 8.788971373374853, 8.624267652486012, 8.570307010572893, 7.90846681289813, 7.813315775092038, 7.687291783143239, 7.3553344798054585, 7.296141396325292, 7.274369964427253, 6.8719730970562525, 6.808026357609115, 6.675738282673848, 6.6567916132156615, 6.468483948243564, 6.438092931467256, 6.4063821071918685, 6.35544486794701, 6.287398812064983, 6.149567974212051, 6.002606158257809, 5.981169226997084, 9.991476851454678, 103.64990091549288, 15.016544603402673, 36.476250593249944, 14.049333953315834, 397.3289402052198, 15.159515323029245, 17.227178492894357, 28.7000598834521, 15.071020740922416, 9.15355575179127, 14.891698376699349, 28.189399495869715, 46.76006045988533, 26.278739041970464, 17.434841884441468, 34.831655080543584, 31.530765781344517, 27.952959995912234, 24.70293201745229, 13.012164892560744, 17.18965407129753, 12.192291497112905, 11.588697806013196, 10.178676064816909, 10.169628927271404, 9.029759055665007, 8.13143071271547, 7.416031035711421, 7.330172205767795, 7.136465499309415, 7.100695013501193, 7.011654990099581, 6.966864172009496, 6.9539861204706055, 6.892027139929873, 6.740857737631833, 6.664400275154904, 6.560422592084733, 6.451248531121469, 6.239911675776878, 6.215511857741735, 6.0043716920130175, 5.917491850484876, 5.83877162201301, 5.7932229739474, 5.70220918694842, 5.686431327343068, 16.7345584617916, 20.064906515021985, 145.48029307527625, 17.220767792690296, 12.295721462796463, 45.40693553715317, 15.07895433596133, 17.12632978103461, 38.917239386199704, 80.874908537061, 61.29658778323454, 157.75533391230454, 67.76532601173886, 33.03028749180268, 17.702245203185168, 10.522934641427113, 10.371827328871898, 8.267623038422986, 8.120383177734729, 8.075229035926188, 6.848632169937933, 6.340605212816893, 6.098209727701142, 5.6415786471634695, 5.19916754507713, 4.785033959724483, 4.619570754567014, 4.56464470275104, 4.483156580471653, 4.449604785646215, 4.444722761240318, 4.424750339291522, 4.286040560021323, 4.209813735303984, 4.19455756424545, 4.054824844060274, 4.003480251754445, 3.986412394100974, 3.980909490113891, 3.859625398178525, 3.7094325245888844, 3.675076100519107, 8.026965876522176, 77.79375016668463, 20.757837330762435, 7.259356563566393, 17.1719490886523, 25.784126599944756, 10.181649219868389, 6.297752503319237, 16.158537192552366, 24.150596378207705, 23.34737210981018, 17.906137895332456, 12.196747810440053, 10.383820488906224, 8.447870794594863, 7.366908049960358, 7.189550693014839, 7.18178473089131, 7.16534147290636, 6.906733743076467, 6.704939179136859, 6.647231399425755, 6.589503804016871, 6.572719014967583, 6.504655614673485, 5.987768789158293, 5.772571725147114, 5.6106988550264205, 5.479544683729451, 5.459362130820799, 5.191093041954057, 4.996279385094954, 4.989233737332496, 4.794196811857831, 4.752698639731908, 4.664265524041971, 4.658235334511447, 4.623696068609663, 4.571502981132499, 4.563397958038619, 14.664576893784941, 23.946526119774646, 16.909192729142298, 8.733432382304525, 34.832920944761526, 20.237985227318173], \"Category\": [\"Default\", \"Default\", \"Default\", \"Default\", \"Default\", \"Default\", \"Default\", \"Default\", \"Default\", \"Default\", \"Default\", \"Default\", \"Default\", \"Default\", \"Default\", \"Default\", \"Default\", \"Default\", \"Default\", \"Default\", \"Default\", \"Default\", \"Default\", \"Default\", \"Default\", \"Default\", \"Default\", \"Default\", \"Default\", \"Default\", \"Topic1\", \"Topic1\", \"Topic1\", \"Topic1\", \"Topic1\", \"Topic1\", \"Topic1\", \"Topic1\", \"Topic1\", \"Topic1\", \"Topic1\", \"Topic1\", \"Topic1\", \"Topic1\", \"Topic1\", \"Topic1\", \"Topic1\", \"Topic1\", \"Topic1\", \"Topic1\", \"Topic1\", \"Topic1\", \"Topic1\", \"Topic1\", \"Topic1\", \"Topic1\", \"Topic1\", \"Topic1\", \"Topic1\", \"Topic1\", \"Topic1\", \"Topic1\", \"Topic1\", \"Topic1\", \"Topic1\", \"Topic1\", \"Topic1\", \"Topic1\", \"Topic1\", \"Topic1\", \"Topic1\", \"Topic1\", \"Topic1\", \"Topic1\", \"Topic1\", \"Topic1\", \"Topic1\", \"Topic1\", \"Topic1\", \"Topic1\", \"Topic1\", \"Topic1\", \"Topic1\", \"Topic1\", \"Topic1\", \"Topic1\", \"Topic1\", \"Topic1\", \"Topic1\", \"Topic1\", \"Topic1\", \"Topic1\", \"Topic1\", \"Topic1\", \"Topic1\", \"Topic1\", \"Topic1\", \"Topic1\", \"Topic1\", \"Topic1\", \"Topic1\", \"Topic1\", \"Topic1\", \"Topic1\", \"Topic1\", \"Topic1\", \"Topic1\", \"Topic1\", \"Topic1\", \"Topic1\", \"Topic1\", \"Topic1\", \"Topic1\", \"Topic1\", \"Topic1\", \"Topic2\", \"Topic2\", \"Topic2\", \"Topic2\", \"Topic2\", \"Topic2\", \"Topic2\", \"Topic2\", \"Topic2\", \"Topic2\", \"Topic2\", \"Topic2\", \"Topic2\", \"Topic2\", \"Topic2\", \"Topic2\", \"Topic2\", \"Topic2\", \"Topic2\", \"Topic2\", \"Topic2\", \"Topic2\", \"Topic2\", \"Topic2\", \"Topic2\", \"Topic2\", \"Topic2\", \"Topic2\", \"Topic2\", \"Topic2\", \"Topic2\", \"Topic2\", \"Topic2\", \"Topic2\", \"Topic2\", \"Topic2\", \"Topic2\", \"Topic2\", \"Topic2\", \"Topic2\", \"Topic2\", \"Topic2\", \"Topic2\", \"Topic2\", \"Topic2\", \"Topic2\", \"Topic2\", \"Topic2\", \"Topic2\", \"Topic2\", \"Topic2\", \"Topic2\", \"Topic2\", \"Topic2\", \"Topic2\", \"Topic2\", \"Topic2\", \"Topic2\", \"Topic2\", \"Topic2\", \"Topic2\", \"Topic2\", \"Topic2\", \"Topic2\", \"Topic2\", \"Topic2\", \"Topic2\", \"Topic2\", \"Topic2\", \"Topic2\", \"Topic2\", \"Topic2\", \"Topic2\", \"Topic2\", \"Topic2\", \"Topic2\", \"Topic2\", \"Topic2\", \"Topic2\", \"Topic2\", \"Topic2\", \"Topic2\", \"Topic2\", \"Topic2\", \"Topic3\", \"Topic3\", \"Topic3\", \"Topic3\", \"Topic3\", \"Topic3\", \"Topic3\", \"Topic3\", \"Topic3\", \"Topic3\", \"Topic3\", \"Topic3\", \"Topic3\", \"Topic3\", \"Topic3\", \"Topic3\", \"Topic3\", \"Topic3\", \"Topic3\", \"Topic3\", \"Topic3\", \"Topic3\", \"Topic3\", \"Topic3\", \"Topic3\", \"Topic3\", \"Topic3\", \"Topic3\", \"Topic3\", \"Topic3\", \"Topic3\", \"Topic3\", \"Topic3\", \"Topic3\", \"Topic3\", \"Topic3\", \"Topic3\", \"Topic3\", \"Topic3\", \"Topic3\", \"Topic3\", \"Topic3\", \"Topic3\", \"Topic3\", \"Topic3\", \"Topic3\", \"Topic3\", \"Topic3\", \"Topic3\", \"Topic3\", \"Topic3\", \"Topic3\", \"Topic3\", \"Topic3\", \"Topic3\", \"Topic3\", \"Topic3\", \"Topic3\", \"Topic3\", \"Topic3\", \"Topic3\", \"Topic3\", \"Topic3\", \"Topic3\", \"Topic3\", \"Topic3\", \"Topic3\", \"Topic3\", \"Topic3\", \"Topic3\", \"Topic3\", \"Topic4\", \"Topic4\", \"Topic4\", \"Topic4\", \"Topic4\", \"Topic4\", \"Topic4\", \"Topic4\", \"Topic4\", \"Topic4\", \"Topic4\", \"Topic4\", \"Topic4\", \"Topic4\", \"Topic4\", \"Topic4\", \"Topic4\", \"Topic4\", \"Topic4\", \"Topic4\", \"Topic4\", \"Topic4\", \"Topic4\", \"Topic4\", \"Topic4\", \"Topic4\", \"Topic4\", \"Topic4\", \"Topic4\", \"Topic4\", \"Topic4\", \"Topic4\", \"Topic4\", \"Topic4\", \"Topic4\", \"Topic4\", \"Topic4\", \"Topic4\", \"Topic4\", \"Topic4\", \"Topic4\", \"Topic4\", \"Topic4\", \"Topic4\", \"Topic4\", \"Topic4\", \"Topic4\", \"Topic4\", \"Topic4\", \"Topic4\", \"Topic4\", \"Topic4\", \"Topic4\", \"Topic4\", \"Topic4\", \"Topic4\", \"Topic4\", \"Topic4\", \"Topic4\", \"Topic4\", \"Topic4\", \"Topic4\", \"Topic4\", \"Topic4\", \"Topic4\", \"Topic4\", \"Topic4\", \"Topic4\", \"Topic4\", \"Topic4\", \"Topic5\", \"Topic5\", \"Topic5\", \"Topic5\", \"Topic5\", \"Topic5\", \"Topic5\", \"Topic5\", \"Topic5\", \"Topic5\", \"Topic5\", \"Topic5\", \"Topic5\", \"Topic5\", \"Topic5\", \"Topic5\", \"Topic5\", \"Topic5\", \"Topic5\", \"Topic5\", \"Topic5\", \"Topic5\", \"Topic5\", \"Topic5\", \"Topic5\", \"Topic5\", \"Topic5\", \"Topic5\", \"Topic5\", \"Topic5\", \"Topic5\", \"Topic5\", \"Topic5\", \"Topic5\", \"Topic5\", \"Topic5\", \"Topic5\", \"Topic5\", \"Topic5\", \"Topic5\", \"Topic5\", \"Topic5\", \"Topic5\", \"Topic5\", \"Topic5\", \"Topic5\", \"Topic5\", \"Topic5\", \"Topic5\", \"Topic5\", \"Topic5\", \"Topic5\", \"Topic5\", \"Topic5\", \"Topic5\", \"Topic5\", \"Topic5\", \"Topic5\", \"Topic5\", \"Topic5\", \"Topic5\", \"Topic5\", \"Topic5\", \"Topic5\", \"Topic5\", \"Topic5\", \"Topic5\", \"Topic5\", \"Topic5\", \"Topic6\", \"Topic6\", \"Topic6\", \"Topic6\", \"Topic6\", \"Topic6\", \"Topic6\", \"Topic6\", \"Topic6\", \"Topic6\", \"Topic6\", \"Topic6\", \"Topic6\", \"Topic6\", \"Topic6\", \"Topic6\", \"Topic6\", \"Topic6\", \"Topic6\", \"Topic6\", \"Topic6\", \"Topic6\", \"Topic6\", \"Topic6\", \"Topic6\", \"Topic6\", \"Topic6\", \"Topic6\", \"Topic6\", \"Topic6\", \"Topic6\", \"Topic6\", \"Topic6\", \"Topic6\", \"Topic6\", \"Topic6\", \"Topic6\", \"Topic6\", \"Topic6\", \"Topic6\", \"Topic6\", \"Topic6\", \"Topic6\", \"Topic6\", \"Topic6\", \"Topic6\", \"Topic6\", \"Topic6\", \"Topic6\", \"Topic6\", \"Topic6\", \"Topic6\", \"Topic6\", \"Topic6\", \"Topic6\", \"Topic6\", \"Topic6\", \"Topic6\", \"Topic6\", \"Topic6\", \"Topic6\", \"Topic6\", \"Topic6\", \"Topic6\", \"Topic6\", \"Topic6\", \"Topic6\", \"Topic6\", \"Topic6\", \"Topic6\", \"Topic6\", \"Topic6\", \"Topic6\", \"Topic6\", \"Topic6\", \"Topic7\", \"Topic7\", \"Topic7\", \"Topic7\", \"Topic7\", \"Topic7\", \"Topic7\", \"Topic7\", \"Topic7\", \"Topic7\", \"Topic7\", \"Topic7\", \"Topic7\", \"Topic7\", \"Topic7\", \"Topic7\", \"Topic7\", \"Topic7\", \"Topic7\", \"Topic7\", \"Topic7\", \"Topic7\", \"Topic7\", \"Topic7\", \"Topic7\", \"Topic7\", \"Topic7\", \"Topic7\", \"Topic7\", \"Topic7\", \"Topic7\", \"Topic7\", \"Topic7\", \"Topic7\", \"Topic7\", \"Topic7\", \"Topic7\", \"Topic7\", \"Topic7\", \"Topic7\", \"Topic7\", \"Topic7\", \"Topic7\", \"Topic7\", \"Topic7\", \"Topic7\", \"Topic7\", \"Topic7\", \"Topic7\", \"Topic7\", \"Topic7\", \"Topic7\", \"Topic7\", \"Topic7\", \"Topic7\", \"Topic7\", \"Topic7\", \"Topic7\", \"Topic7\", \"Topic7\", \"Topic7\", \"Topic7\", \"Topic7\", \"Topic7\", \"Topic7\", \"Topic7\", \"Topic7\", \"Topic7\", \"Topic7\", \"Topic7\", \"Topic7\", \"Topic7\", \"Topic7\", \"Topic7\", \"Topic7\", \"Topic7\", \"Topic7\", \"Topic7\", \"Topic7\", \"Topic7\", \"Topic7\", \"Topic7\", \"Topic7\", \"Topic7\", \"Topic7\", \"Topic7\", \"Topic8\", \"Topic8\", \"Topic8\", \"Topic8\", \"Topic8\", \"Topic8\", \"Topic8\", \"Topic8\", \"Topic8\", \"Topic8\", \"Topic8\", \"Topic8\", \"Topic8\", \"Topic8\", \"Topic8\", \"Topic8\", \"Topic8\", \"Topic8\", \"Topic8\", \"Topic8\", \"Topic8\", \"Topic8\", \"Topic8\", \"Topic8\", \"Topic8\", \"Topic8\", \"Topic8\", \"Topic8\", \"Topic8\", \"Topic8\", \"Topic8\", \"Topic8\", \"Topic8\", \"Topic8\", \"Topic8\", \"Topic8\", \"Topic8\", \"Topic8\", \"Topic8\", \"Topic8\", \"Topic8\", \"Topic8\", \"Topic8\", \"Topic8\", \"Topic8\", \"Topic8\", \"Topic8\", \"Topic8\", \"Topic8\", \"Topic8\", \"Topic8\", \"Topic8\", \"Topic8\", \"Topic8\", \"Topic8\", \"Topic8\", \"Topic8\", \"Topic8\", \"Topic8\", \"Topic8\", \"Topic8\", \"Topic8\", \"Topic8\", \"Topic8\", \"Topic8\", \"Topic8\", \"Topic9\", \"Topic9\", \"Topic9\", \"Topic9\", \"Topic9\", \"Topic9\", \"Topic9\", \"Topic9\", \"Topic9\", \"Topic9\", \"Topic9\", \"Topic9\", \"Topic9\", \"Topic9\", \"Topic9\", \"Topic9\", \"Topic9\", \"Topic9\", \"Topic9\", \"Topic9\", \"Topic9\", \"Topic9\", \"Topic9\", \"Topic9\", \"Topic9\", \"Topic9\", \"Topic9\", \"Topic9\", \"Topic9\", \"Topic9\", \"Topic9\", \"Topic9\", \"Topic9\", \"Topic9\", \"Topic9\", \"Topic9\", \"Topic9\", \"Topic9\", \"Topic9\", \"Topic9\", \"Topic9\", \"Topic9\", \"Topic9\", \"Topic9\", \"Topic9\", \"Topic9\", \"Topic9\", \"Topic9\", \"Topic9\", \"Topic9\", \"Topic9\", \"Topic9\", \"Topic9\", \"Topic9\", \"Topic9\", \"Topic9\", \"Topic9\", \"Topic9\", \"Topic9\", \"Topic9\", \"Topic9\", \"Topic9\", \"Topic10\", \"Topic10\", \"Topic10\", \"Topic10\", \"Topic10\", \"Topic10\", \"Topic10\", \"Topic10\", \"Topic10\", \"Topic10\", \"Topic10\", \"Topic10\", \"Topic10\", \"Topic10\", \"Topic10\", \"Topic10\", \"Topic10\", \"Topic10\", \"Topic10\", \"Topic10\", \"Topic10\", \"Topic10\", \"Topic10\", \"Topic10\", \"Topic10\", \"Topic10\", \"Topic10\", \"Topic10\", \"Topic10\", \"Topic10\", \"Topic10\", \"Topic10\", \"Topic10\", \"Topic10\", \"Topic10\", \"Topic10\", \"Topic10\", \"Topic10\", \"Topic10\", \"Topic10\", \"Topic10\", \"Topic10\", \"Topic10\", \"Topic10\", \"Topic10\", \"Topic10\", \"Topic10\", \"Topic10\", \"Topic10\", \"Topic10\", \"Topic10\", \"Topic10\", \"Topic10\", \"Topic10\", \"Topic10\", \"Topic10\", \"Topic10\", \"Topic10\", \"Topic10\", \"Topic10\", \"Topic10\", \"Topic10\", \"Topic10\", \"Topic10\", \"Topic10\", \"Topic10\", \"Topic11\", \"Topic11\", \"Topic11\", \"Topic11\", \"Topic11\", \"Topic11\", \"Topic11\", \"Topic11\", \"Topic11\", \"Topic11\", \"Topic11\", \"Topic11\", \"Topic11\", \"Topic11\", \"Topic11\", \"Topic11\", \"Topic11\", \"Topic11\", \"Topic11\", \"Topic11\", \"Topic11\", \"Topic11\", \"Topic11\", \"Topic11\", \"Topic11\", \"Topic11\", \"Topic11\", \"Topic11\", \"Topic11\", \"Topic11\", \"Topic11\", \"Topic11\", \"Topic11\", \"Topic11\", \"Topic11\", \"Topic11\", \"Topic11\", \"Topic11\", \"Topic12\", \"Topic12\", \"Topic12\", \"Topic12\", \"Topic12\", \"Topic12\", \"Topic12\", \"Topic12\", \"Topic12\", \"Topic12\", \"Topic12\", \"Topic12\", \"Topic12\", \"Topic12\", \"Topic12\", \"Topic12\", \"Topic12\", \"Topic12\", \"Topic12\", \"Topic12\", \"Topic12\", \"Topic12\", \"Topic12\", \"Topic12\", \"Topic12\", \"Topic12\", \"Topic12\", \"Topic12\", \"Topic12\", \"Topic12\", \"Topic12\", \"Topic12\", \"Topic12\", \"Topic12\", \"Topic12\", \"Topic12\", \"Topic12\", \"Topic12\", \"Topic12\", \"Topic12\", \"Topic12\", \"Topic12\", \"Topic12\", \"Topic12\", \"Topic12\", \"Topic12\", \"Topic12\", \"Topic12\", \"Topic13\", \"Topic13\", \"Topic13\", \"Topic13\", \"Topic13\", \"Topic13\", \"Topic13\", \"Topic13\", \"Topic13\", \"Topic13\", \"Topic13\", \"Topic13\", \"Topic13\", \"Topic13\", \"Topic13\", \"Topic13\", \"Topic13\", \"Topic13\", \"Topic13\", \"Topic13\", \"Topic13\", \"Topic13\", \"Topic13\", \"Topic13\", \"Topic13\", \"Topic13\", \"Topic13\", \"Topic13\", \"Topic13\", \"Topic13\", \"Topic13\", \"Topic13\", \"Topic13\", \"Topic13\", \"Topic13\", \"Topic13\", \"Topic13\", \"Topic13\", \"Topic13\", \"Topic13\", \"Topic13\", \"Topic13\", \"Topic14\", \"Topic14\", \"Topic14\", \"Topic14\", \"Topic14\", \"Topic14\", \"Topic14\", \"Topic14\", \"Topic14\", \"Topic14\", \"Topic14\", \"Topic14\", \"Topic14\", \"Topic14\", \"Topic14\", \"Topic14\", \"Topic14\", \"Topic14\", \"Topic14\", \"Topic14\", \"Topic14\", \"Topic14\", \"Topic14\", \"Topic14\", \"Topic14\", \"Topic14\", \"Topic14\", \"Topic14\", \"Topic14\", \"Topic14\", \"Topic14\", \"Topic14\", \"Topic14\", \"Topic14\", \"Topic14\", \"Topic14\", \"Topic14\", \"Topic14\", \"Topic14\", \"Topic14\", \"Topic15\", \"Topic15\", \"Topic15\", \"Topic15\", \"Topic15\", \"Topic15\", \"Topic15\", \"Topic15\", \"Topic15\", \"Topic15\", \"Topic15\", \"Topic15\", \"Topic15\", \"Topic15\", \"Topic15\", \"Topic15\", \"Topic15\", \"Topic15\", \"Topic15\", \"Topic15\", \"Topic15\", \"Topic15\", \"Topic15\", \"Topic15\", \"Topic15\", \"Topic15\", \"Topic15\", \"Topic15\", \"Topic15\", \"Topic15\", \"Topic15\", \"Topic15\", \"Topic15\", \"Topic15\", \"Topic15\", \"Topic15\"], \"logprob\": [30.0, 29.0, 28.0, 27.0, 26.0, 25.0, 24.0, 23.0, 22.0, 21.0, 20.0, 19.0, 18.0, 17.0, 16.0, 15.0, 14.0, 13.0, 12.0, 11.0, 10.0, 9.0, 8.0, 7.0, 6.0, 5.0, 4.0, 3.0, 2.0, 1.0, -6.3781, -6.4704, -6.6231, -6.8386, -7.1157, -7.1177, -7.2908, -7.2911, -7.3377, -7.3731, -7.5408, -7.672, -7.7522, -7.8255, -7.8245, -7.8268, -7.83, -7.8428, -7.8503, -6.1856, -7.9455, -7.957, -7.9621, -7.9875, -8.0516, -8.0805, -7.9782, -8.1006, -8.1278, -8.1302, -7.4055, -7.5305, -7.727, -6.2788, -6.8304, -6.9178, -5.8667, -7.3995, -6.064, -6.4115, -4.7369, -5.1597, -7.0685, -6.8288, -6.6929, -4.8318, -7.3052, -5.4698, -6.446, -6.1616, -5.1354, -6.9789, -5.0928, -6.4824, -5.0106, -5.79, -6.3871, -6.3392, -5.0848, -6.6153, -5.9919, -5.2502, -6.2393, -5.914, -5.9154, -6.35, -5.8002, -5.7699, -6.0559, -5.0768, -5.0429, -5.0505, -4.7178, -5.7885, -5.4581, -5.7253, -5.9012, -5.6997, -5.4792, -5.8319, -5.7544, -5.9659, -5.7166, -5.8946, -5.906, -6.7626, -6.898, -6.7936, -7.1421, -7.2986, -7.3708, -7.3718, -7.4035, -7.4414, -7.4509, -7.5217, -7.5929, -7.6253, -7.6515, -7.662, -7.6766, -7.6863, -7.7445, -7.7518, -7.7867, -7.828, -7.8717, -7.8737, -7.8864, -7.8987, -7.9328, -7.9588, -7.9889, -7.9974, -8.0317, -6.7655, -3.6851, -6.396, -7.2671, -6.4644, -6.7524, -6.7693, -5.9165, -6.7746, -5.4108, -6.9556, -6.5793, -5.4078, -6.9418, -6.0207, -6.9902, -7.2073, -6.0222, -6.1741, -5.3107, -5.6651, -4.8477, -6.0972, -6.4616, -5.8726, -6.3081, -5.185, -6.3369, -5.2992, -5.6578, -6.1706, -4.9205, -5.7555, -5.4388, -5.0953, -5.3176, -5.66, -5.7549, -5.6782, -6.205, -5.6848, -5.9995, -4.6581, -5.7466, -5.0944, -5.3327, -5.06, -5.5637, -5.5697, -5.5083, -5.5722, -5.4103, -5.4527, -5.7489, -5.6255, -5.833, -5.9052, -5.9196, -6.1616, -6.3602, -6.7037, -6.7264, -6.8045, -6.8398, -6.9126, -7.1934, -7.1946, -7.2695, -7.3073, -7.4161, -7.4219, -7.4391, -5.6839, -7.5039, -7.5534, -7.2699, -7.6375, -7.6643, -7.2483, -7.1224, -7.8085, -7.8947, -7.9249, -7.9383, -6.5566, -5.7556, -7.1893, -6.4498, -6.6307, -5.8834, -4.8683, -3.7764, -5.5565, -6.286, -4.2818, -6.3123, -4.1797, -4.1201, -6.0138, -5.9713, -5.0378, -5.3546, -4.1671, -4.8498, -5.2749, -4.9506, -5.2764, -4.5035, -5.0098, -4.4718, -4.3197, -3.8673, -4.8118, -5.1323, -5.1842, -5.273, -4.6108, -4.9185, -5.1231, -5.1935, -5.251, -5.0275, -5.224, -5.3441, -5.4155, -5.2797, -5.5342, -5.675, -5.7858, -6.0719, -6.6324, -6.6518, -6.6896, -6.7784, -6.9554, -7.0222, -7.0631, -7.192, -7.2239, -7.2368, -7.275, -7.3288, -7.3453, -7.3859, -7.4286, -7.4455, -7.4456, -7.4649, -7.4763, -7.5075, -4.4432, -7.5443, -7.5459, -7.6487, -7.7184, -5.8385, -6.4431, -5.5028, -6.819, -4.9822, -6.5046, -4.7591, -3.4867, -6.3495, -5.0231, -4.2541, -5.3603, -4.9413, -4.3763, -4.2425, -4.5133, -5.7204, -6.1672, -6.3789, -3.8962, -4.4245, -4.4163, -4.9723, -4.6021, -5.5051, -5.5884, -5.3335, -4.39, -4.4012, -5.0009, -4.8508, -4.7239, -4.6358, -4.9021, -5.1998, -5.05, -5.2821, -5.3327, -5.3343, -5.2881, -3.7754, -5.4414, -6.3748, -6.4209, -6.4324, -6.4545, -6.5619, -6.7127, -6.7184, -6.7295, -6.7316, -6.7887, -6.7945, -6.8746, -7.0398, -7.039, -7.047, -7.0825, -7.1491, -7.16, -7.1903, -7.2088, -7.2419, -5.9806, -7.3559, -7.4642, -7.4827, -7.5285, -7.5478, -6.6358, -6.3466, -6.4911, -6.3702, -4.7547, -6.0381, -3.785, -6.2891, -6.0072, -5.2576, -3.713, -4.572, -6.1755, -4.0691, -5.8521, -3.5233, -5.5314, -5.0607, -4.6632, -5.2798, -5.5453, -5.5603, -6.2632, -4.4172, -5.6124, -5.2549, -4.9155, -5.2169, -5.044, -5.7324, -5.1233, -5.0684, -4.9185, -5.1269, -4.8486, -5.3539, -5.4414, -5.4784, -5.5035, -5.6057, -6.1139, -6.8194, -6.8407, -6.7433, -7.0416, -7.0564, -7.1085, -7.2095, -7.2512, -7.2866, -7.3633, -7.4004, -7.4035, -7.5975, -7.6019, -7.615, -7.6322, -7.7529, -7.7876, -7.8024, -7.8052, -7.824, -7.8675, -7.2769, -7.8567, -7.9244, -7.9697, -7.9755, -5.417, -8.036, -6.9214, -7.1321, -4.5327, -4.5107, -6.2045, -5.5224, -5.6111, -6.8835, -6.8972, -6.3205, -4.7731, -4.898, -5.4118, -6.3567, -7.0745, -4.4759, -6.6504, -6.0119, -6.6448, -4.8601, -4.3781, -6.1252, -4.777, -4.0064, -5.0926, -5.8998, -5.5818, -5.8854, -5.2242, -5.4357, -5.7399, -5.579, -5.8869, -5.9194, -5.8918, -5.9406, -5.7417, -5.3086, -5.2752, -5.4326, -5.5243, -5.6865, -5.7439, -5.635, -5.8031, -6.5884, -6.7586, -6.7967, -6.8956, -6.8958, -6.9094, -6.999, -7.1242, -7.1472, -7.2553, -7.2126, -7.3483, -7.4334, -7.4354, -7.4407, -7.4881, -7.1127, -7.5418, -7.5495, -7.6073, -7.6245, -7.6413, -7.6484, -7.6535, -7.5885, -7.6615, -7.6663, -7.6742, -7.6753, -7.6839, -7.4508, -5.7772, -6.5879, -6.6293, -6.3815, -6.0923, -6.3356, -7.0395, -5.4479, -7.0449, -7.3511, -6.5953, -6.9414, -6.7299, -6.8508, -6.9347, -6.5884, -6.6975, -5.4726, -6.3834, -6.0292, -6.5494, -5.8196, -5.1065, -6.4694, -5.8428, -6.5936, -6.5721, -6.6899, -5.7882, -6.0758, -5.5632, -5.2143, -5.3969, -5.1163, -5.682, -5.6119, -5.7209, -5.9696, -5.2701, -5.4276, -6.0386, -6.0069, -5.6179, -5.367, -5.7092, -5.4056, -5.6102, -6.0747, -5.8204, -5.5063, -5.8696, -5.8225, -5.9143, -5.9906, -6.0289, -4.9969, -5.2436, -5.3362, -5.6122, -5.8054, -6.0425, -6.096, -6.1049, -6.1948, -6.4772, -6.5786, -6.6132, -6.6503, -6.8353, -6.9854, -6.9936, -7.0179, -7.0228, -7.1137, -7.1472, -7.1596, -7.1704, -7.2923, -7.3193, -7.3399, -7.3425, -7.347, -7.4071, -7.4312, -7.4669, -5.4841, -6.3587, -4.8854, -4.7151, -4.8873, -6.6796, -5.1511, -5.6776, -5.5001, -4.8791, -4.6, -6.216, -5.29, -4.6545, -5.7765, -5.9777, -5.4454, -4.7747, -6.0667, -4.58, -5.0299, -4.6178, -5.7054, -4.8564, -5.3162, -5.7962, -5.362, -5.4926, -5.5461, -5.2479, -4.8471, -5.1592, -5.396, -5.5229, -5.3809, -5.4556, -4.8271, -4.9372, -5.0725, -5.4901, -5.5663, -5.8613, -5.871, -6.1871, -6.3082, -6.3377, -6.3683, -6.3764, -6.5742, -6.6318, -6.6392, -6.6815, -6.6855, -6.7279, -6.8095, -6.8447, -6.8583, -6.9033, -7.0121, -7.0149, -7.0286, -7.0489, -7.0535, -7.0538, -4.2713, -7.0933, -4.8741, -4.2608, -3.1219, -4.8883, -5.7257, -4.9088, -6.7793, -6.0068, -5.8427, -3.1587, -5.8142, -5.0509, -4.4471, -6.1342, -5.2633, -5.3482, -5.3888, -6.2801, -5.4432, -5.3573, -5.0975, -5.4365, -4.7094, -5.4932, -5.7939, -5.1973, -5.2417, -5.241, -5.2016, -5.5134, -5.5363, -5.5908, -5.457, -5.9872, -6.2207, -6.2354, -6.33, -6.3745, -6.4911, -6.6085, -6.6603, -6.7023, -6.8494, -6.8636, -6.9375, -6.9487, -6.9989, -7.0082, -5.767, -7.0266, -5.7708, -7.0371, -6.4563, -7.0993, -7.1571, -7.1621, -7.1736, -7.1834, -7.2076, -7.2116, -6.8781, -7.293, -6.0427, -5.4342, -6.6802, -5.3686, -6.5375, -5.8144, -6.0452, -6.576, -6.6317, -4.9256, -4.9686, -5.5287, -4.4641, -4.2381, -5.1807, -5.182, -5.3814, -3.5962, -5.9656, -4.7996, -5.2395, -5.6582, -4.3636, -6.2251, -5.1456, -4.4212, -5.5226, -4.9414, -5.4615, -5.3691, -5.2382, -5.4048, -5.5488, -5.6979, -5.7035, -5.8045, -4.8572, -5.2423, -5.4077, -5.6852, -5.7297, -5.7379, -5.7709, -5.8641, -5.881, -5.8978, -5.7927, -5.9471, -6.0561, -6.0732, -6.0959, -6.16, -6.1846, -6.1867, -6.2205, -6.2325, -6.2425, -6.2774, -6.3149, -6.3451, -6.3495, -6.3587, -6.3759, -6.386, -6.4068, -6.4273, -6.0126, -5.8328, -6.2991, -6.3119, -6.0843, -6.0705, -5.8823, -6.2741, -4.54, -5.3307, -5.446, -5.63, -5.7384, -5.9348, -5.9375, -6.0023, -6.0964, -6.0964, -6.1173, -6.1243, -6.2137, -6.2272, -6.2454, -6.295, -6.3041, -6.3075, -6.372, -6.3826, -6.405, -6.4082, -6.4411, -6.4465, -6.4521, -6.4613, -6.4737, -6.4993, -6.5273, -6.5314, -6.0369, -3.8651, -5.6709, -4.9123, -5.7634, -3.0593, -5.7574, -5.6727, -5.4149, -5.855, -6.2495, -6.0398, -5.7853, -5.6025, -5.9266, -6.1796, -6.1332, -6.1718, -4.624, -4.7517, -5.4246, -5.1499, -5.4943, -5.5489, -5.6894, -5.6904, -5.8206, -5.9367, -6.0398, -6.053, -6.0832, -6.0889, -6.1032, -6.1105, -6.1126, -6.1228, -6.148, -6.1611, -6.1791, -6.1983, -6.2367, -6.2412, -6.2812, -6.2982, -6.3138, -6.3229, -6.3414, -6.3447, -5.3999, -5.3033, -3.8516, -5.7211, -5.9745, -5.4122, -5.8981, -5.9446, -5.7948, -5.7184, -6.0727, -6.1133, -3.4885, -4.2203, -4.8669, -5.4215, -5.4372, -5.6866, -5.7066, -5.7128, -5.8985, -5.9868, -6.0318, -6.1226, -6.2193, -6.319, -6.3618, -6.3765, -6.3986, -6.4078, -6.4092, -6.4147, -6.4542, -6.4765, -6.4811, -6.5236, -6.5397, -6.5451, -6.5468, -6.5862, -6.6371, -6.6492, -6.0388, -4.3999, -5.4344, -6.1856, -5.7117, -5.9739, -6.2556, -6.4031, -6.3253, -6.3582, -4.5552, -4.8319, -5.2391, -5.413, -5.6397, -5.7929, -5.8204, -5.8216, -5.8242, -5.866, -5.8998, -5.9097, -5.9197, -5.9226, -5.9345, -6.0302, -6.0729, -6.1062, -6.1341, -6.1384, -6.1982, -6.244, -6.2457, -6.2939, -6.3044, -6.3272, -6.3288, -6.3379, -6.3518, -6.354, -5.8662, -5.6949, -5.8828, -6.2644, -6.2113, -6.304], \"loglift\": [30.0, 29.0, 28.0, 27.0, 26.0, 25.0, 24.0, 23.0, 22.0, 21.0, 20.0, 19.0, 18.0, 17.0, 16.0, 15.0, 14.0, 13.0, 12.0, 11.0, 10.0, 9.0, 8.0, 7.0, 6.0, 5.0, 4.0, 3.0, 2.0, 1.0, 1.7537, 1.7534, 1.7529, 1.7518, 1.7503, 1.7503, 1.749, 1.749, 1.7486, 1.7483, 1.7464, 1.7453, 1.744, 1.7433, 1.7433, 1.7433, 1.7433, 1.7431, 1.743, 1.7424, 1.7416, 1.7414, 1.7414, 1.741, 1.7399, 1.7394, 1.7393, 1.739, 1.7386, 1.7385, 1.7371, 1.7378, 1.7384, 1.7049, 1.7126, 1.7108, 1.6693, 1.7182, 1.6606, 1.6694, 1.5807, 1.5876, 1.6965, 1.6766, 1.6621, 1.5037, 1.7036, 1.5412, 1.6126, 1.5754, 1.4471, 1.6569, 1.3668, 1.5793, 1.33, 1.4195, 1.5447, 1.5185, 1.1885, 1.5789, 1.3869, 1.1158, 1.4547, 1.3259, 1.2425, 1.4478, 1.1059, 1.0772, 1.2544, 0.5772, 0.5375, 0.3016, -0.0321, 0.9282, 0.4278, 0.7796, 1.0122, 0.6155, 0.0458, 0.7658, 0.5281, 1.0469, -0.2162, 0.6046, 0.1512, 1.8638, 1.8629, 1.8624, 1.8613, 1.86, 1.8594, 1.8594, 1.8591, 1.8587, 1.8586, 1.8578, 1.857, 1.8565, 1.8563, 1.8561, 1.8559, 1.8558, 1.855, 1.8549, 1.8544, 1.8538, 1.8532, 1.8531, 1.8529, 1.8527, 1.8522, 1.8517, 1.8512, 1.851, 1.8504, 1.8501, 1.781, 1.8244, 1.842, 1.8184, 1.8237, 1.8188, 1.788, 1.8178, 1.7395, 1.8171, 1.7826, 1.7062, 1.7967, 1.7093, 1.7946, 1.8128, 1.6912, 1.7043, 1.5311, 1.5742, 1.4338, 1.63, 1.6761, 1.5551, 1.6165, 1.3281, 1.615, 1.2709, 1.3439, 1.5195, 1.0504, 1.3613, 1.1729, 0.9909, 1.0453, 1.2197, 1.2626, 1.202, 1.5095, 1.153, 1.3626, 0.0275, 1.0294, 0.2315, 0.5101, 0.1627, 0.7667, 0.7455, 0.643, 0.7103, 0.1701, -0.0813, 0.6873, 2.0128, 2.0123, 2.0122, 2.0121, 2.0114, 2.0107, 2.009, 2.0089, 2.0084, 2.0082, 2.0077, 2.0054, 2.0054, 2.0046, 2.0042, 2.003, 2.003, 2.0028, 2.0022, 2.002, 2.0013, 2.001, 2.0002, 1.9998, 1.9995, 1.9987, 1.9974, 1.9959, 1.9953, 1.9951, 1.9276, 1.8781, 1.9511, 1.8923, 1.9077, 1.833, 1.7111, 1.5757, 1.771, 1.8502, 1.5038, 1.825, 1.4612, 1.4049, 1.7556, 1.7328, 1.5182, 1.5768, 1.216, 1.3923, 1.4919, 1.3786, 1.4643, 1.179, 1.353, 1.1349, 1.0516, 0.8184, 1.1593, 1.2976, 1.2245, 1.2561, 0.6889, 0.9404, 1.0045, 1.0799, 1.0338, 0.4729, 0.1736, 0.5586, 0.8283, 2.0542, 2.0538, 2.0535, 2.0532, 2.0524, 2.05, 2.0499, 2.0497, 2.0492, 2.0479, 2.0474, 2.0471, 2.0459, 2.0456, 2.0454, 2.045, 2.0445, 2.0443, 2.0438, 2.0433, 2.0431, 2.0431, 2.0428, 2.0427, 2.0423, 2.0422, 2.0418, 2.0418, 2.0403, 2.0392, 2.0302, 2.032, 2.0146, 2.0206, 1.9575, 2.0058, 1.9067, 1.8392, 1.9746, 1.8685, 1.7931, 1.8628, 1.7871, 1.6782, 1.6507, 1.6756, 1.8334, 1.8881, 1.9089, 1.3266, 1.4456, 1.4265, 1.5654, 1.3688, 1.6512, 1.5883, 1.4639, 0.9814, 0.9819, 1.2429, 1.1203, 0.9735, 0.8646, 0.9568, 1.1739, 0.8528, 1.0865, 1.076, 1.0684, -0.6024, 2.2927, 2.2909, 2.2876, 2.2873, 2.2873, 2.2871, 2.2865, 2.2854, 2.2854, 2.2853, 2.2853, 2.2848, 2.2847, 2.2841, 2.2824, 2.2824, 2.2824, 2.282, 2.2812, 2.281, 2.2807, 2.2805, 2.2801, 2.2788, 2.2785, 2.2769, 2.2766, 2.2756, 2.2755, 2.2753, 2.2732, 2.2717, 2.2662, 2.2361, 2.2579, 2.1716, 2.2504, 2.2182, 2.1659, 2.045, 2.0937, 2.2033, 1.9724, 2.1328, 1.7765, 2.0264, 1.9265, 1.8265, 1.9638, 2.0237, 1.9347, 2.1479, 1.2654, 1.6204, 1.3067, 0.7819, 1.0656, 0.8274, 1.5328, 0.7794, 0.5383, 0.3042, 0.3735, -0.163, 0.2869, 0.4013, -0.0954, 0.0215, 0.2874, 2.3644, 2.3598, 2.3596, 2.3592, 2.3575, 2.3573, 2.3565, 2.3554, 2.3548, 2.3543, 2.3532, 2.3526, 2.3525, 2.349, 2.3489, 2.3487, 2.3483, 2.3457, 2.3448, 2.3445, 2.3444, 2.344, 2.3429, 2.3427, 2.3424, 2.3414, 2.3401, 2.34, 2.3393, 2.3382, 2.3367, 2.3336, 2.2674, 2.2486, 2.2814, 2.2382, 2.2116, 2.2766, 2.2762, 2.221, 2.0724, 2.0685, 2.1235, 2.1638, 2.26, 1.6746, 2.1521, 1.9106, 2.1039, 1.4313, 1.2287, 1.8576, 1.1089, 0.6793, 1.2365, 1.649, 1.4458, 1.6337, 1.0179, 1.1259, 1.3394, 1.1899, 1.4305, 1.4427, 1.4115, 1.4517, 1.0961, 0.1918, 0.0246, 0.0924, 0.0562, 0.6287, 0.8122, 0.019, 0.9135, 2.8315, 2.8293, 2.8288, 2.8273, 2.8273, 2.827, 2.8256, 2.8232, 2.8227, 2.8205, 2.8197, 2.8183, 2.8161, 2.816, 2.8159, 2.8146, 2.8133, 2.813, 2.8128, 2.811, 2.8104, 2.8099, 2.8097, 2.8095, 2.8093, 2.8092, 2.8091, 2.8088, 2.8088, 2.8085, 2.8078, 2.7892, 2.7933, 2.7818, 2.7717, 2.7459, 2.7161, 2.7643, 2.6115, 2.7588, 2.7867, 2.705, 2.7334, 2.7022, 2.7111, 2.7178, 2.6457, 2.6614, 2.3911, 2.5583, 2.4401, 2.5765, 2.2726, 1.9181, 2.5002, 2.2006, 2.5553, 2.5358, 2.5815, 1.9622, 2.1489, 1.7471, 1.4425, 1.5386, 1.2718, 1.7221, 1.6017, 1.6661, 1.8315, 0.9822, 1.1701, 1.8476, 1.798, 1.1666, 0.6902, 1.1583, 0.4645, 0.8494, 1.7655, 0.9695, -0.1349, 0.6187, -0.1686, 0.5798, -1.3049, 1.3428, 2.9418, 2.9411, 2.9407, 2.9395, 2.9385, 2.9369, 2.9365, 2.9364, 2.9357, 2.9328, 2.9316, 2.9311, 2.9306, 2.9278, 2.9251, 2.925, 2.9245, 2.9244, 2.9225, 2.9218, 2.9215, 2.9212, 2.9183, 2.9176, 2.917, 2.9169, 2.9168, 2.9151, 2.9144, 2.9133, 2.9088, 2.9078, 2.8825, 2.8719, 2.8472, 2.8983, 2.8363, 2.8529, 2.8379, 2.7904, 2.7521, 2.8595, 2.7842, 2.6795, 2.7768, 2.7891, 2.6579, 2.4859, 2.7558, 2.2379, 2.2734, 2.0829, 2.541, 2.057, 2.2661, 2.5852, 2.0886, 2.1801, 2.2417, 1.8555, 1.0243, 1.2094, 1.7766, 1.7099, 0.3166, 0.8596, 3.048, 3.0478, 3.0474, 3.0457, 3.0453, 3.0436, 3.0435, 3.0409, 3.0396, 3.0393, 3.039, 3.0389, 3.0363, 3.0355, 3.0354, 3.0347, 3.0347, 3.034, 3.0326, 3.032, 3.0317, 3.0309, 3.0286, 3.0286, 3.0283, 3.0278, 3.0277, 3.0277, 3.027, 3.0268, 2.974, 2.9478, 2.883, 2.9063, 2.9287, 2.7926, 3.0002, 2.8664, 2.8365, 2.2389, 2.7899, 2.5855, 2.0656, 2.785, 2.3571, 2.3093, 2.3185, 2.8049, 2.06, 1.6593, 1.2762, 1.7197, 0.5133, 1.7504, 2.1873, 0.6616, 0.6297, 0.517, 0.1815, 1.3735, 1.0422, 0.9032, 3.2162, 3.2123, 3.2099, 3.2097, 3.2085, 3.2079, 3.2062, 3.2043, 3.2034, 3.2026, 3.1996, 3.1993, 3.1976, 3.1973, 3.196, 3.1958, 3.1957, 3.1953, 3.1951, 3.195, 3.1939, 3.1934, 3.1917, 3.1915, 3.1912, 3.1909, 3.1902, 3.19, 3.1895, 3.1874, 3.1636, 3.147, 3.1648, 3.0892, 3.1437, 3.0688, 3.0845, 3.1368, 3.1104, 2.7043, 2.6622, 2.7966, 2.4228, 2.256, 2.5672, 2.5253, 2.5997, 1.8014, 2.8182, 2.2334, 2.381, 2.584, 1.5223, 2.894, 1.8711, 0.8016, 2.0809, 1.1001, 1.8206, 1.5975, 1.2745, 0.7458, 0.9409, 0.9677, -0.0968, 0.5259, 5.0091, 5.0003, 4.9954, 4.9852, 4.9833, 4.9829, 4.9814, 4.977, 4.9761, 4.9753, 4.9744, 4.9727, 4.9665, 4.9655, 4.9641, 4.9599, 4.9583, 4.9582, 4.9559, 4.955, 4.9543, 4.9518, 4.949, 4.9466, 4.9463, 4.9456, 4.9442, 4.9434, 4.9417, 4.94, 4.5522, 3.4177, 4.5881, 4.6397, 3.1742, 3.0785, 1.6999, 0.9562, 5.4496, 5.4241, 5.4185, 5.4081, 5.4011, 5.3865, 5.3863, 5.3808, 5.3723, 5.3723, 5.3703, 5.3697, 5.3607, 5.3592, 5.3573, 5.3518, 5.3508, 5.3504, 5.3428, 5.3416, 5.3388, 5.3384, 5.3342, 5.3336, 5.3328, 5.3316, 5.33, 5.3266, 5.3228, 5.3222, 5.3037, 5.1361, 5.2622, 5.1333, 5.2363, 4.5982, 5.1662, 5.1231, 4.8705, 5.0745, 5.1786, 4.9017, 4.518, 4.1947, 4.4468, 4.6042, 3.9586, 4.0195, 5.6877, 5.6837, 5.6518, 5.6481, 5.6472, 5.6434, 5.6326, 5.6325, 5.6212, 5.6099, 5.5988, 5.5973, 5.5938, 5.5931, 5.5915, 5.5906, 5.5903, 5.5891, 5.586, 5.5844, 5.5821, 5.5797, 5.5746, 5.574, 5.5686, 5.5662, 5.564, 5.5627, 5.56, 5.5595, 5.4249, 5.34, 4.8106, 5.0751, 5.1585, 4.4144, 5.0309, 4.857, 4.1861, 3.5309, 3.4538, 2.4679, 5.9377, 5.9245, 5.9017, 5.8672, 5.866, 5.8433, 5.8413, 5.8407, 5.8197, 5.8085, 5.8024, 5.7894, 5.7745, 5.7577, 5.7501, 5.7474, 5.7433, 5.7416, 5.7414, 5.7403, 5.7327, 5.7283, 5.7274, 5.7188, 5.7154, 5.7143, 5.7139, 5.7055, 5.6942, 5.6915, 5.5207, 4.8883, 5.1749, 5.4744, 5.0873, 4.4186, 5.066, 5.3989, 4.5345, 4.0998, 5.9366, 5.9252, 5.902, 5.889, 5.8687, 5.8524, 5.8492, 5.8491, 5.8488, 5.8438, 5.8396, 5.8384, 5.8371, 5.8367, 5.8352, 5.8224, 5.8163, 5.8114, 5.8072, 5.8065, 5.7971, 5.7895, 5.7892, 5.781, 5.7791, 5.7751, 5.7748, 5.7732, 5.7706, 5.7702, 5.0906, 4.7715, 4.9316, 5.2107, 3.8804, 4.3307]}, \"token.table\": {\"Topic\": [14, 5, 4, 8, 10, 12, 2, 2, 14, 1, 2, 7, 1, 3, 7, 10, 5, 6, 7, 15, 4, 10, 6, 9, 10, 1, 4, 7, 10, 9, 8, 9, 12, 10, 11, 5, 11, 4, 8, 1, 2, 3, 5, 11, 15, 15, 6, 9, 10, 2, 9, 10, 2, 4, 7, 13, 9, 3, 6, 8, 7, 13, 3, 2, 13, 2, 9, 7, 5, 13, 8, 9, 10, 12, 9, 10, 12, 12, 6, 8, 2, 3, 4, 5, 10, 2, 6, 14, 6, 3, 1, 5, 6, 8, 3, 1, 5, 6, 8, 13, 6, 2, 3, 4, 5, 5, 8, 8, 2, 3, 7, 9, 2, 6, 7, 8, 11, 4, 3, 4, 4, 1, 13, 10, 9, 7, 6, 14, 2, 9, 10, 9, 1, 13, 5, 2, 5, 5, 5, 5, 5, 5, 5, 3, 4, 5, 9, 12, 13, 2, 4, 7, 13, 13, 14, 5, 10, 12, 15, 2, 9, 10, 15, 2, 8, 14, 15, 9, 10, 2, 8, 13, 11, 5, 2, 15, 1, 11, 6, 9, 10, 1, 8, 8, 8, 1, 12, 7, 10, 15, 1, 14, 2, 3, 4, 5, 9, 1, 3, 4, 10, 10, 4, 4, 9, 10, 14, 9, 10, 11, 14, 1, 2, 3, 4, 5, 6, 7, 8, 9, 9, 10, 11, 15, 9, 15, 7, 7, 2, 1, 11, 7, 11, 7, 1, 3, 10, 14, 2, 9, 10, 2, 6, 15, 15, 5, 15, 1, 1, 12, 13, 9, 10, 13, 11, 7, 1, 2, 3, 5, 6, 7, 8, 9, 10, 11, 11, 8, 5, 8, 8, 2, 8, 13, 2, 3, 4, 5, 9, 4, 4, 1, 2, 3, 4, 5, 6, 7, 8, 9, 10, 11, 6, 14, 8, 12, 15, 13, 2, 12, 10, 11, 11, 13, 14, 1, 5, 6, 7, 8, 9, 10, 11, 8, 15, 1, 6, 8, 4, 9, 14, 10, 11, 12, 2, 14, 14, 10, 1, 8, 8, 8, 9, 10, 4, 10, 2, 15, 2, 10, 8, 1, 8, 1, 8, 5, 7, 11, 15, 1, 6, 12, 9, 10, 2, 4, 10, 13, 12, 3, 11, 2, 4, 15, 3, 14, 15, 10, 9, 12, 12, 1, 5, 6, 10, 5, 5, 5, 10, 1, 2, 3, 4, 5, 6, 7, 9, 10, 9, 15, 1, 3, 4, 6, 7, 9, 10, 7, 9, 5, 12, 14, 11, 1, 2, 3, 5, 6, 7, 8, 9, 10, 2, 5, 7, 13, 9, 1, 3, 6, 7, 8, 11, 15, 10, 12, 6, 12, 11, 4, 12, 1, 2, 6, 2, 8, 3, 5, 1, 3, 6, 8, 1, 1, 3, 4, 6, 7, 9, 4, 12, 1, 2, 3, 5, 6, 10, 1, 2, 3, 13, 6, 8, 7, 13, 2, 3, 4, 5, 6, 9, 10, 13, 3, 2, 2, 15, 1, 2, 7, 9, 10, 1, 7, 1, 2, 3, 4, 5, 6, 6, 6, 2, 5, 9, 10, 1, 2, 3, 4, 5, 6, 9, 10, 7, 1, 2, 6, 12, 1, 2, 3, 4, 5, 6, 7, 8, 9, 10, 1, 2, 3, 4, 5, 6, 9, 10, 1, 2, 3, 4, 5, 6, 7, 8, 9, 10, 1, 2, 5, 8, 1, 2, 7, 8, 4, 2, 4, 5, 10, 1, 2, 7, 8, 9, 1, 2, 6, 8, 9, 13, 1, 5, 10, 8, 12, 2, 4, 4, 1, 6, 8, 6, 8, 9, 10, 7, 6, 4, 6, 1, 2, 3, 4, 5, 6, 7, 8, 1, 2, 3, 4, 5, 6, 7, 9, 10, 2, 1, 5, 8, 12, 2, 7, 9, 9, 1, 2, 8, 14, 1, 2, 5, 6, 9, 10, 6, 1, 2, 3, 7, 1, 2, 13, 2, 11, 12, 12, 3, 14, 1, 2, 3, 4, 5, 14, 12, 2, 5, 9, 11, 1, 2, 3, 5, 6, 7, 8, 2, 1, 2, 3, 4, 5, 6, 7, 8, 9, 10, 12, 2, 8, 4, 1, 7, 9, 12, 8, 1, 8, 1, 2, 6, 7, 15, 12, 1, 2, 3, 4, 5, 6, 7, 8, 9, 10, 2, 7, 5, 7, 2, 4, 5, 6, 7, 9, 10, 1, 7, 1, 2, 3, 4, 5, 6, 7, 8, 9, 10, 11, 2, 3, 4, 10, 1, 2, 3, 4, 8, 11, 12, 13, 1, 2, 3, 5, 3, 3, 3, 3, 1, 2, 3, 4, 5, 6, 7, 8, 9, 10, 1, 2, 3, 5, 6, 7, 8, 9, 10, 11, 15, 14, 10, 10, 4, 1, 2, 3, 5, 6, 7, 1, 9, 12, 1, 9, 1, 2, 3, 6, 7, 8, 9, 10, 1, 6, 1, 1, 2, 3, 4, 5, 6, 10, 2, 15, 1, 2, 3, 5, 6, 7, 8, 9, 10, 14, 5, 9, 10, 1, 2, 3, 4, 5, 6, 9, 6, 2, 11, 1, 2, 5, 1, 2, 3, 4, 5, 6, 7, 8, 9, 13, 1, 2, 4, 5, 6, 7, 8, 9, 1, 2, 4, 6, 8, 9, 10, 11, 1, 2, 5, 6, 10, 10, 15, 2, 3, 4, 5, 6, 9, 1, 13, 6, 8, 3, 6, 9, 6, 6, 8, 14, 5, 6, 10, 11, 13, 15, 8, 7, 1, 2, 5, 5, 7, 15, 12, 6, 9, 10, 12, 10, 5, 9, 1, 14, 1, 2, 4, 6, 9, 9, 9, 7, 2, 7, 7, 1, 2, 3, 4, 5, 6, 9, 1, 2, 4, 8, 13, 6, 3, 5, 14, 1, 3, 4, 5, 6, 7, 8, 9, 10, 11, 1, 3, 5, 6, 9, 14, 1, 3, 4, 5, 6, 7, 8, 9, 10, 11, 1, 1, 2, 3, 4, 5, 6, 7, 9, 10, 1, 8, 11, 6, 8, 9, 3, 7, 1, 2, 1, 3, 6, 7, 8, 1, 3, 4, 7, 8, 3, 9, 2, 4, 9, 10, 9, 12, 1, 2, 3, 6, 8, 1, 2, 3, 4, 5, 6, 7, 8, 9, 10, 3, 9, 10, 1, 2, 3, 4, 5, 6, 7, 8, 9, 10, 4, 1, 2, 1, 7, 8, 10, 1, 2, 5, 6, 8, 6, 6, 8, 5, 6, 12, 1, 2, 3, 4, 5, 6, 7, 9, 2, 1, 2, 4, 5, 6, 10, 2, 1, 2, 3, 4, 5, 6, 7, 8, 10, 1, 4, 7, 8, 10, 2, 3, 4, 5, 8, 9, 10, 1, 6, 2, 6, 5, 3, 3, 3, 4, 5, 6, 3, 3, 5, 6, 9, 10, 9, 9, 7, 9, 13, 2, 14, 1, 7, 8, 1, 2, 5, 6, 10, 1, 2, 3, 4, 5, 6, 9, 4, 2, 7, 1, 3, 7, 1, 2, 3, 4, 6, 8, 11, 6, 9, 9, 10, 1, 2, 3, 4, 5, 6, 7, 8, 9, 10, 2, 4, 5, 6, 9, 10, 13, 10, 1, 2, 3, 4, 5, 6, 7, 8, 9, 10, 2, 4, 7, 9, 9, 1, 2, 3, 4, 5, 6, 7, 8, 9, 10, 1, 2, 3, 4, 5, 6, 7, 8, 9, 10, 6, 1, 5, 6, 8, 9, 10, 9, 3, 6, 2, 3, 4, 5, 6, 9, 10, 1, 2, 3, 4, 5, 6, 7, 8, 9, 10, 1, 2, 3, 8, 1, 1, 2, 3, 4, 5, 6, 7, 9, 10, 1, 15, 1, 2, 3, 5, 7, 9, 10, 5, 10, 14, 2, 3, 1, 2, 3, 5, 7, 3, 2, 13, 12, 13, 12, 8, 12, 13, 3, 7, 9, 10, 12, 10, 1, 2, 3, 4, 5, 6, 8, 9, 10, 1, 2, 3, 6, 1, 6, 6, 1, 2, 3, 4, 5, 6, 7, 9, 8, 1, 3, 4, 5, 4, 14, 3, 9, 1, 2, 3, 4, 6, 7, 10, 1, 3, 4, 5, 6, 7, 9, 2, 10, 13, 13, 9, 12, 13, 13, 2, 3, 4, 5, 6, 7, 9, 14, 2, 4, 6, 9, 10, 2, 4, 1, 6, 9, 11, 14, 2, 3, 1, 2, 4, 5, 6, 2, 2, 7, 10, 2, 4, 5, 6, 9, 10, 10, 2, 4, 5, 9, 10, 15, 13, 2, 1, 2, 3, 4, 5, 6, 7, 8, 9, 10, 9, 9, 12, 1, 2, 3, 6, 8, 3, 2, 14, 10, 1, 3, 4, 7, 8, 3, 1, 2, 3, 4, 5, 6, 7, 9, 10, 9, 10, 1, 2, 8, 10, 1, 6, 8, 10, 2, 1, 2, 4, 6, 7, 8, 9, 10, 12, 2, 5, 10, 1, 2, 4, 5, 7, 8, 9, 1, 2, 3, 4, 5, 6, 7, 8, 9, 10, 11, 1, 2, 4, 5, 6, 7, 9, 10, 15, 12, 1, 2, 5, 10, 7, 1, 2, 3, 4, 5, 6, 9, 1, 2, 3, 4, 5, 6, 7, 8, 9, 10, 4, 1, 2, 3, 4, 5, 6, 10, 1, 4, 6, 11, 1, 2, 3, 4, 5, 6, 7, 9, 7, 9, 1, 2, 7, 8, 9, 1, 2, 2, 3, 4, 8, 9, 12, 7, 1, 2, 3, 4, 5, 6, 7, 8, 9, 1, 2, 3, 4, 5, 6, 7, 9, 10, 4, 1, 2, 4, 5, 6, 7, 8, 9, 10, 1, 2, 4, 5, 6, 7, 8, 10, 13, 2, 7, 7, 6, 7, 11, 5, 9, 1, 2, 4, 5, 6, 9, 10, 3, 5, 9, 1, 2, 3, 4, 5, 6, 7, 8, 9, 10, 2, 3, 5, 5, 1, 2, 2, 7, 2, 4, 5, 10, 6, 3, 7, 4, 1, 2, 3, 5, 6, 7, 8, 9, 10, 2, 7, 8, 2, 2, 6, 13, 1, 2, 3, 4, 5, 6, 7, 8, 9, 10, 3, 1, 2, 3, 4, 5, 6, 7, 8, 9, 2, 6, 7, 8, 11, 5, 8, 11, 1, 2, 3, 4, 5, 6, 8, 11, 1, 2, 3, 5, 6, 7, 8, 9, 10, 2, 4, 10, 1, 2, 3, 5, 6, 7, 8, 9, 10, 2, 3, 4, 6, 7, 9, 1, 2, 4, 6, 7, 8, 2, 1, 2, 4, 5, 6, 2, 1, 8, 11, 9, 6, 3, 6, 15, 1, 2, 4, 11, 1, 2, 8, 1, 1, 2, 3, 5, 6, 10, 1, 1, 2, 3, 4, 6, 7, 8, 9, 1, 2, 3, 4, 5, 12, 1, 2, 3, 4, 5, 6, 8, 10, 1, 2, 3, 7, 10, 2, 1, 3, 4, 5, 6, 7, 8, 9, 4, 1, 11, 13, 1, 5, 6, 8, 9, 10, 11, 5, 1, 6, 8, 9, 10, 8, 1, 6, 1, 1, 2, 4, 5, 6, 7, 8, 9, 15, 3, 4, 1, 2, 3, 4, 5, 7, 9, 10, 5, 11, 2, 6, 1, 2, 3, 4, 5, 6, 7, 8, 9, 10, 11, 1, 2, 3, 7, 10, 2, 3, 4, 9, 4, 9, 1, 2, 4, 5, 6, 8, 9, 10, 1, 2, 3, 6, 7, 1, 2, 6, 8, 11, 6, 15, 2, 3, 4, 5, 6, 9, 14, 4, 14, 3, 4, 5, 9, 5, 6, 8, 4, 5, 8, 9, 1, 3, 4, 5, 6, 9, 5, 1, 3, 4, 5, 6, 7, 9, 10, 2, 3, 6, 1, 2, 3, 5, 6, 7, 8, 14, 1, 2, 3, 5, 6, 9, 14, 15, 1, 2, 3, 4, 5, 6, 7, 9, 3, 4, 3, 8, 7, 3, 1, 1, 2, 2, 6, 1, 2, 3, 5, 11, 1, 2, 3, 4, 5, 6, 9, 1, 2, 3, 5, 6, 9, 10, 11, 9, 10, 11, 1, 2, 2, 3, 4, 7, 9, 1, 2, 3, 5, 6, 1, 7, 3, 2, 3, 4, 4, 15, 2, 3, 4, 5, 7, 9, 10, 2, 4, 9, 10, 8, 4, 1, 2, 3, 6, 1, 4, 5, 8, 1, 2, 3, 4, 6, 2, 4, 4, 5, 6, 9, 10, 2, 6, 14, 3, 11, 3, 4, 5, 6, 9, 7, 12, 2, 4, 6, 11, 14, 15, 6, 1, 2, 3, 4, 5, 6, 7, 1, 3, 6, 8, 6, 13, 1, 2, 3, 6, 7, 8, 2, 3, 2, 4, 2, 3, 4, 6, 9, 10, 2, 3, 7, 1, 2, 3, 4, 6, 7, 11, 1, 4, 7, 1, 2, 3, 4, 5, 6, 8, 9, 10, 1, 1, 1, 2, 6, 2, 2, 1, 3, 4, 5, 6, 8, 9, 10, 1, 6, 9, 1, 2, 3, 5, 9, 1, 2, 6, 7, 10, 1, 2, 4, 5, 6, 7, 8, 9, 10, 10, 12, 1, 2, 6, 6, 8, 6, 8, 6, 6, 1, 6, 7, 8, 1, 4, 5, 13, 1, 2, 3, 4, 5, 6, 7, 8, 9, 10, 11, 1, 2, 3, 4, 5, 6, 7, 8, 10, 13, 1, 2, 3, 4, 5, 6, 7, 8, 9, 10, 1, 2, 10, 12, 8, 4, 7, 1, 7, 1, 2, 3, 4, 8, 9, 10, 3, 9, 2, 4, 5, 9, 2, 4, 9, 10, 4, 14, 2, 1, 6, 1, 1, 3, 6, 7, 11, 1, 3, 11, 1, 9, 10, 1, 2, 3, 9, 13, 14, 1, 2, 3, 4, 5, 6, 9, 10, 13, 8, 2, 2, 13, 12, 2, 3, 4, 5, 4, 7, 1, 2, 5, 8, 1, 8, 1, 1, 5, 3, 14, 1, 3, 4, 6, 7, 8, 10, 1, 1, 2, 3, 4, 5, 6, 7, 8, 9, 10, 2, 4, 7, 1, 2, 3, 4, 5, 6, 7, 8, 9, 10, 1, 15, 9, 10, 3, 11, 7, 1, 2, 3, 4, 5, 6, 7, 8, 1, 3, 1, 1, 2, 4, 5, 6, 7, 9, 10, 11, 1, 2, 3, 4, 5, 6, 7, 8, 9, 10, 2, 3, 9, 9, 1, 2, 3, 4, 5, 6, 7, 8, 9, 2, 4, 5, 10, 1, 9, 12], \"Freq\": [0.8087490418315371, 0.9906127860211361, 0.9954962992586104, 0.9873691060229702, 0.41811759448345154, 0.5574901259779353, 0.9766529635378464, 0.985809209886667, 0.8668484780874249, 0.9446215316462798, 0.05332540904454805, 0.9524377988893589, 0.9100080429790655, 0.015166800716317758, 0.07077840334281621, 0.9893407509717252, 0.960622077533789, 0.03647931940001731, 0.9764961867916487, 0.801726319228052, 0.9885594726428114, 0.9906523457052198, 0.9850591197401684, 0.1176583759893553, 0.8740336502066394, 0.017100972479332528, 0.9747554313219541, 0.9767085190224131, 0.9810212192239837, 0.981005714687331, 0.9699785270175947, 0.27415098419820966, 0.712792558915345, 0.2713529723741859, 0.6783824309354647, 0.9816387871023534, 0.013176359558420852, 0.9974595654417057, 0.9920395076944802, 0.16473866399568976, 0.034231410700403066, 0.10055476893243401, 0.6996044561894877, 0.9270040353095675, 0.8586942721346038, 0.922416243907662, 0.03808523666215945, 0.019042618331079723, 0.9330882982229065, 0.01714749068011682, 0.12003243476081772, 0.8573745340058408, 0.07807366830121913, 0.05204911220081276, 0.8718226293636137, 0.855718087737056, 0.9909088415305557, 0.9907996033418236, 0.06801966292874442, 0.9288202248200963, 0.9906373102574252, 0.8849880427657625, 0.9854975889687405, 0.4064859409445897, 0.5226247812144724, 0.22699042276598735, 0.7717674374043569, 0.9498775032685044, 0.9972731632266413, 0.801293393207764, 0.9578033467724572, 0.4756764002702189, 0.10318906037607924, 0.41778985420558906, 0.11609562185850307, 0.1741434327877546, 0.6965737311510184, 0.8987769960323859, 0.24762055124737695, 0.750722623623, 0.7438208852333169, 0.09277053357030234, 0.12590286698826744, 0.026505866734372094, 0.00828308335449128, 0.7039163643735089, 0.08281368992629516, 0.16562737985259032, 0.9862909949746456, 0.9974735108412689, 0.17201716828969946, 0.2952961388973174, 0.037270386462768215, 0.49598283523530007, 0.9893525690637932, 0.2630537636176367, 0.03587096776604137, 0.2076168134337546, 0.4934975565388722, 0.9222139512588398, 0.9909866339951826, 0.8790079933050918, 0.050012523757013844, 0.04091933761937497, 0.028795089435856458, 0.9974445064183342, 0.9881107410038739, 0.9968767470946243, 0.08524960299460321, 0.06089257356757372, 0.8159604858054879, 0.03653554414054423, 0.06394839564579897, 0.13918180228791543, 0.7937124400743285, 0.9820025315613495, 0.9199749785157696, 0.9977723140101331, 0.012471635179947841, 0.9868181336133729, 0.9900939668031801, 0.9871009882799266, 0.8407523304891771, 0.9747433662547876, 0.9824570459210614, 0.9710430030228089, 0.969806312415426, 0.8763004046271691, 0.018517255599544556, 0.4814486455881585, 0.4973205789591967, 0.993613582542854, 0.32531641287604973, 0.569303722533087, 0.9813398023858418, 0.00881614110550697, 0.9785916627112738, 0.9993502986905878, 0.9937647723222882, 0.9833576749608139, 0.9932584768022622, 0.989729296655951, 0.9876796071698821, 0.057876188672153744, 0.018832728059986537, 0.8855975536500986, 0.037206121289241695, 0.7829552658191209, 0.1423555028762038, 0.012492210127353805, 0.037476630382061414, 0.9494079696788892, 0.8842014366788762, 0.844952578952906, 0.8922284841497055, 0.9962022689234473, 0.9808099597537899, 0.8006824335318622, 0.10008530419148277, 0.3239085689184475, 0.019630822358693786, 0.6527248434265683, 0.9128642174321813, 0.9805773356640973, 0.9942426485400984, 0.7493480200596243, 0.9493951235811349, 0.8040579568892373, 0.18877882466095136, 0.9847682545102412, 0.9846291702685265, 0.900306066904203, 0.9072073178641857, 0.998157905066094, 0.5455322753560327, 0.40914920651702447, 0.9769694646575152, 0.8953924044589658, 0.02193957895239244, 0.09872810528576599, 0.8666133686195014, 0.14008717562641515, 0.8583523306563983, 0.9818472487494238, 0.9689807965386137, 0.7464474467227712, 0.22967613745316037, 0.9747617955752452, 0.9938625206601873, 0.8575841103775048, 0.9844061743526304, 0.6999467125866571, 0.8491687768079631, 0.0628472588687477, 0.036539103993457965, 0.027769719035028055, 0.023385026555813097, 0.00945340373954366, 0.12289424861406759, 0.8649864421682449, 0.9881744657891147, 0.9833455615904423, 0.9970734157276319, 0.9885319114022689, 0.01862617381337434, 0.9778741252021528, 0.7126206023895199, 0.04486253098992426, 0.9421131507884095, 0.8907979789930996, 0.9462819082114757, 0.10327848403078684, 0.05990152073785636, 0.5928184983367164, 0.13529481408033076, 0.06713101462001143, 0.009295063562770815, 0.004131139361231473, 0.020655696806157368, 0.007229493882155078, 0.9770531700599456, 0.022844768364710957, 0.9342592633325213, 0.7705506273288256, 0.9846210644894036, 0.8345445016236449, 0.98900745655386, 0.9748596101353212, 0.9821518174479553, 0.9829272363541779, 0.012601631235309973, 0.9857088693014706, 0.9257999215038965, 0.9870799032186482, 0.010359849865081159, 0.9867756996489804, 0.9930342531568332, 0.8466762414624095, 0.04092297436182253, 0.8866644445061549, 0.07502545299667464, 0.3952962664090311, 0.3458842331079022, 0.19764813320451555, 0.8651087659407495, 0.9956073541537148, 0.8343420508116214, 0.9949380390558819, 0.7294462861922679, 0.22200539144982068, 0.8628144917254961, 0.03169464940424441, 0.9254837626039366, 0.03803357928509329, 0.9251527843074949, 0.9824848284368995, 0.06254241812258149, 0.4315426850458123, 0.0448220663211834, 0.052118681768817905, 0.10111024263150674, 0.04794918722731247, 0.15635604530645372, 0.07088140720559236, 0.0323135826966671, 0.0010423736353763582, 0.9853609402962799, 0.9950962532843689, 0.9911787637804368, 0.9657969327980096, 0.9822321328475718, 0.9937316268367933, 0.5255066389044102, 0.4087273858145412, 0.02520745723138884, 0.010269704797973232, 0.861721593502663, 0.08309124791087433, 0.019605800068857985, 0.9939591141777728, 0.9949332949310082, 0.059254739867120855, 0.21749975104166713, 0.04112976061364859, 0.414086064483174, 0.05228359400040075, 0.0027884583466880404, 0.0348557293336005, 0.005576916693376081, 0.16939884456129845, 0.00209134376001603, 0.9632687158716956, 0.9891435804470475, 0.9040058067186832, 0.9920412469990322, 0.9102316596723766, 0.8661650713179445, 0.8044389769399678, 0.5162077212774401, 0.40149489432689783, 0.9765009921792016, 0.8825696421417036, 0.944875966736811, 0.9492006939979288, 0.7152124995427649, 0.08403423884775187, 0.07703138561043922, 0.08636852326018943, 0.17040276210794128, 0.5065397174989488, 0.0070028532373126555, 0.030345697361688174, 0.03501426618656328, 0.9760629764894875, 0.8350355827120798, 0.05896243526742234, 0.27213431661887233, 0.6667290757162373, 0.46540261712900954, 0.3102684114193397, 0.23270130856450477, 0.965236712827911, 0.9053065958329156, 0.8359569526024444, 0.49107957778029127, 0.392863662224233, 0.8760873487025623, 0.9774866012844793, 0.16943304962233446, 0.8310287671952595, 0.9911249430784518, 0.9977292122720464, 0.018566105405642342, 0.974720533796223, 0.9507943654953007, 0.04724444052150563, 0.9939112603609468, 0.8911545832691916, 0.9511140480075198, 0.04468321030907811, 0.962635556513453, 0.08435656919486582, 0.90984585345891, 0.059018297197074084, 0.9386719649439401, 0.988447408237199, 0.9888806444227959, 0.9447763019963511, 0.9469841803355443, 0.3641647825192474, 0.6331874146505833, 0.9334554748307937, 0.047377760253445936, 0.9475552050689187, 0.0031086979561874254, 0.9761311582428515, 0.01865218773712455, 0.8859594094020741, 0.9472267043781819, 0.9873572713204374, 0.9536027105856265, 0.03938177519689336, 0.9604777395242323, 0.9630366790993462, 0.3175736104183037, 0.6351472208366074, 0.8005957416898896, 0.9867593309956316, 0.9932842265206068, 0.8731116835381996, 0.8835795190067587, 0.0068345981582939525, 0.7654749937289226, 0.16630855518515283, 0.05923318403854758, 0.990949629895055, 0.9905791520901277, 0.9805736891976378, 0.01520269285577733, 0.013133146200807496, 0.08799207954541022, 0.15864840610575454, 0.009193202340565247, 0.015497112516952844, 0.024690314857518093, 0.004990595556306848, 0.44416300451130947, 0.2416498900948579, 0.9924452555591472, 0.8687174318851648, 0.15381764319579314, 0.04110643912991024, 0.0013260141654809754, 0.1670777848506029, 0.1286233740516546, 0.2492906631104234, 0.2585727622687902, 0.9451798241859896, 0.04232148466504431, 0.9968143199364614, 0.8329715240640069, 0.7535966360074597, 0.9729349786705641, 0.17108683265421043, 0.10158280688843745, 0.018712622321554268, 0.010692927040888152, 0.10425603864865948, 0.39697491639297267, 0.14168128329176802, 0.033415397002775474, 0.020049238201665286, 0.15027922583619965, 0.10734230416871404, 0.7406618987641269, 0.9022094003087742, 0.9900053377729459, 0.011126946181030401, 0.044507784724121605, 0.10570598871978881, 0.012981437211202134, 0.8252485084264214, 0.9681898306242825, 0.9851215756455853, 0.9925741702521618, 0.8851273155225882, 0.1331864322200202, 0.7991185933201211, 0.9532532221684398, 0.9869433541492575, 0.7952414264553134, 0.032051925890665946, 0.9487370063637119, 0.019231155534399566, 0.9947771392098378, 0.9889184162385207, 0.9861209365842306, 0.9901881956375702, 0.0847794178669468, 0.017662378722280582, 0.38327361827348866, 0.5104427450739089, 0.9914660580583484, 0.07839695835457988, 0.06786602365023334, 0.8296036339313005, 0.00819072699226954, 0.0011701038560385057, 0.014041246272462069, 0.9816369537253706, 0.9004744895358758, 0.7326212257251257, 0.0781848738916142, 0.04633177712095656, 0.06949766568143484, 0.040540304980836994, 0.028957360700597852, 0.13051297452789223, 0.7015072380874208, 0.04894236544795959, 0.09788473089591918, 0.07273910783024179, 0.9144344984373254, 0.986130030965564, 0.8327265959652319, 0.16363027926780185, 0.3071656119588561, 0.3724741883332858, 0.08683887627808783, 0.013635856605650155, 0.04736665978804791, 0.009329796624918528, 0.971544591672127, 0.9965807263757579, 0.9746961973057343, 0.9904488614871307, 0.8765398145813319, 0.04453368665046, 0.0742228110841, 0.87582917079238, 0.3260343714744506, 0.6675941892095892, 0.9877499940361741, 0.9901363137920874, 0.12427272004617143, 0.01469234128624687, 0.3054782625765495, 0.44383114302204085, 0.1077438360991437, 0.00428526620848867, 0.9708029443608166, 0.9589881465604599, 0.13952074074658607, 0.7256078667501663, 0.014502155848211457, 0.12001784150243965, 0.18740591956878755, 0.5136310388181585, 0.14576015966461253, 0.042802586568179875, 0.030077493264126398, 0.052057199880218764, 0.018509226624077783, 0.010411439976043753, 0.9739836792021574, 0.3902176065017529, 0.10642298359138716, 0.07094865572759143, 0.3902176065017529, 0.13056002570417347, 0.06332552144932964, 0.21655764742548533, 0.17746781937034356, 0.12665104289865928, 0.10163355294336857, 0.10788792543219125, 0.03908982805514175, 0.02423569339418789, 0.012508744977645361, 0.7139727068822654, 0.057889678936399895, 0.0996988915015776, 0.03698507265381105, 0.008040233185611097, 0.06432186548488877, 0.004824139911366658, 0.012864373096977756, 0.05301830813136258, 0.2935540008115444, 0.1322667266013993, 0.25058126685244, 0.03236907233283189, 0.10045574172258173, 0.03181098487881755, 0.03236907233283189, 0.01841688598247332, 0.05525065794741995, 0.47477427900290403, 0.026309909667667226, 0.08730106389725943, 0.41139131480352387, 0.9147710136339979, 0.0038435756875378063, 0.0614972110006049, 0.01921787843768903, 0.9989223135441178, 0.02974990736035282, 0.24034793577969252, 0.6270967314642791, 0.10255889116332156, 0.25654798575362514, 0.16714489980918001, 0.5636281505193279, 0.003887090693236744, 0.007774181386473488, 0.44046134722382807, 0.06606920208357421, 0.08809226944476561, 0.022023067361191404, 0.11011533680595702, 0.26427680833429684, 0.00459444998805807, 0.987806747432485, 0.00918889997611614, 0.40290904692160856, 0.5372120625621447, 0.9780107322443498, 0.021494741368007688, 0.9958590187057222, 0.044844563510890355, 0.9032976364336485, 0.05125092972673183, 0.8551020721284907, 0.06532029717648193, 0.05641298392514348, 0.023752835336902516, 0.9690922956246069, 0.9725312302681747, 0.9877248096847349, 0.9820941368652479, 0.18616465153464545, 0.4157328594664133, 0.24996265009427113, 0.013596294775002196, 0.03765127783846762, 0.06745853946058782, 0.007321081801924259, 0.02196324540577278, 0.027996188393457338, 0.5497433357260714, 0.01696738690512566, 0.1043494294665228, 0.16119017559869375, 0.000848369345256283, 0.04920542202486441, 0.08398856518037201, 0.0050902160715376975, 0.9908227403014003, 0.07067833427972021, 0.01902878230607852, 0.9079447557471751, 0.8959064501546454, 0.1888305593769423, 0.0209811732641047, 0.7867939974039262, 0.9841727986415308, 0.05467181123605899, 0.03976131726258836, 0.8995998030660616, 0.9603301617888101, 0.04530497988039346, 0.20268017314912865, 0.07868759663436758, 0.33382616753974126, 0.01907578100227093, 0.3195193317880381, 0.9928611817268778, 0.08969441545107606, 0.07113695018533618, 0.2010392070455153, 0.6371396407904024, 0.9579088117854386, 0.03660798006823332, 0.8630774307299082, 0.3180222749494699, 0.6360445498989398, 0.9399913811723589, 0.8858130758272993, 0.6807546914005317, 0.24754716050928427, 0.0973373314730709, 0.05235568586809117, 0.48816146541797684, 0.2765265098666787, 0.08480146302578147, 0.9641502584759729, 0.9105937692321842, 0.9905337244889734, 0.7187686944025414, 0.2728658932454093, 0.006655265688912421, 0.012279332542383321, 0.2906108701697386, 0.010232777118652768, 0.23126076288155256, 0.026605220508497195, 0.004093110847461107, 0.4256835281359551, 0.9778160843365793, 0.3759339967988022, 0.08106821918282837, 0.1057065995227076, 0.08663172442086563, 0.16372601129081027, 0.14862506850185203, 0.004768718775460493, 0.01430615632638148, 0.009537437550920985, 0.008742651088344237, 0.9615239219600332, 0.9840900081629047, 0.01312120010883873, 0.9926654371176195, 0.8350994078755484, 0.15927153655358398, 0.2797880146903766, 0.7139418305892369, 0.9890901695106525, 0.9779144790286334, 0.011112664534416289, 0.6047241395943864, 0.012450202874002073, 0.04624361067486484, 0.3343768771874842, 0.9501951093359537, 0.9319529966201631, 0.06490454913472346, 0.10257236782898262, 0.004056534320920216, 0.6838157855265508, 0.02202118631356689, 0.03534979908230474, 0.009851583350806239, 0.04230385791816797, 0.0249187108285099, 0.009851583350806239, 0.04360289977058515, 0.9447294950293449, 0.06457421046418269, 0.9255636833199519, 0.12646020068107616, 0.06774653607914793, 0.04516435738609863, 0.17162455806717478, 0.04516435738609863, 0.01806574295443945, 0.5284229814173539, 0.9571537535239, 0.03988140639682917, 0.2006514080677958, 0.12191477958549618, 0.09854778016494274, 0.16661686543351145, 0.10007171490976144, 0.10515149739249045, 0.11632701885449427, 0.03403454263428435, 0.02031912993091603, 0.036574433875648855, 0.9799337235300403, 0.915864285286218, 0.04303662028525533, 0.03684834808737548, 0.004500561598458074, 0.01643775596708056, 0.7758620816462024, 0.07890122864198668, 0.12821449654322836, 0.962168037797461, 0.26527038353452165, 0.19895278765089122, 0.5305407670690433, 0.07344777324618677, 0.15293234977288206, 0.576514713288562, 0.19518997273644156, 0.9931719594539129, 0.9961210069650961, 0.9916200780679795, 0.9987039426284816, 0.048470685378349296, 0.07844597765180215, 0.3750100395061762, 0.1932449693373663, 0.12245225779793507, 0.06760385065927665, 0.0019133165280927355, 0.03443969750566924, 0.0701549393634003, 0.009566582640463677, 0.22655729402864772, 0.12148724462405747, 0.03940126852672134, 0.1740222693263526, 0.11984552510211074, 0.052535024702295124, 0.2035732207213936, 0.009850317131680336, 0.0361178294828279, 0.016417195219467225, 0.8373641399627977, 0.9688077952074025, 0.9902529821481003, 0.9699455051044189, 0.9851848059360547, 0.5264360157394264, 0.18954463641603528, 0.22344130497218756, 0.013835374920878487, 0.04565673723889901, 0.0006917687460439244, 0.987444518357923, 0.19789550893112104, 0.7256168660807771, 0.964717836140019, 0.03251857874629278, 0.22409251251923026, 0.007862895176113343, 0.05582655575040473, 0.09120958404291478, 0.10379021632469612, 0.01887094842267202, 0.1171571381240888, 0.38056412652388577, 0.8079085269164715, 0.18873272964851998, 0.9887698589191461, 0.14292241485266685, 0.023176607813945975, 0.01802625052195798, 0.02703937578293697, 0.6927230557723852, 0.05536634088887094, 0.03862767968990996, 0.6681553691742981, 0.2923179740137554, 0.06610498502633616, 0.017138329451272336, 0.019586662230025528, 0.004896665557506382, 0.15669329784020422, 0.053863321132570204, 0.053863321132570204, 0.03427665890254467, 0.5949448652370254, 0.7772775050697385, 0.03534617278169135, 0.9029340501504791, 0.061052480259285065, 0.1849321540178465, 0.12422923323336253, 0.14116958321973014, 0.05505613745569476, 0.13552279989094093, 0.35715904554591726, 0.9836968749934556, 0.9828668343274926, 0.3225451923535296, 0.5990125000851263, 0.02374158909786074, 0.9232840204723621, 0.05275908688413498, 0.12456244103728789, 0.08603797473709576, 0.08732212361376883, 0.08860627249044191, 0.18941195930927798, 0.39166540738528666, 0.0006420744383365355, 0.0006420744383365355, 0.03017749860181717, 0.860857116946689, 0.1499846601606826, 0.048028795669432064, 0.5434837404698891, 0.06108925764971622, 0.0021065261258522835, 0.09268714953750047, 0.05603359494767074, 0.046343574768750236, 0.010259594097863941, 0.6023847391745828, 0.013190906697253637, 0.0542292830887094, 0.20079491305819427, 0.0014656562996948487, 0.1143211913761982, 0.0029313125993896973, 0.016174737571374456, 0.19005316646364984, 0.20757579883263885, 0.21431527282071153, 0.37201896414161245, 0.9581013888295522, 0.8354469292558924, 0.031226884717984713, 0.425058490489583, 0.3924333870528825, 0.0503358738737664, 0.053132311311197875, 0.04707336353009636, 0.9945188751069741, 0.8563445059486964, 0.9668546410829145, 0.017904715575609527, 0.01640184733714186, 0.8867248716642318, 0.09636085310570842, 0.9683054950114318, 0.9168318032641254, 0.08022278278561097, 0.8163096267792245, 0.6039467955338466, 0.08947359933834763, 0.15657879884210835, 0.1453945989248149, 0.717078973275479, 0.17926974331886975, 0.9960001134978086, 0.9551358432979943, 0.062132236348097364, 0.02071074544936579, 0.9164504861344361, 0.5454610031162885, 0.31579321233048285, 0.11483389539290285, 0.9102260544580807, 0.04047779212898749, 0.06071668819348124, 0.8905114268377249, 0.9440723859096541, 0.9520847063757517, 0.9713279984207734, 0.02009644134663669, 0.9883885973799533, 0.865881315064935, 0.06219052942898375, 0.004820971273564632, 0.03567518742437827, 0.05158439262714156, 0.8455983613832364, 0.9659108432303314, 0.970409569198982, 0.9783909304930992, 0.11102795715148445, 0.8882236572118756, 0.9571721282228759, 0.01660468031394187, 0.02093633604801366, 0.45337996683284754, 0.3754101636195553, 0.07219426223452986, 0.020214393425668362, 0.040428786851336725, 0.19933971390196784, 0.03436891618999446, 0.32994159542394674, 0.027495132951995564, 0.40555321104193454, 0.9567026257221749, 0.9900283116725391, 0.2755065111469653, 0.6887662778674132, 0.04182778616298204, 0.18348455530161456, 0.027885190775321363, 0.04238548997848847, 0.4991449148782524, 0.02230815262025709, 0.06302053115222628, 0.03346222893038563, 0.08421327614147052, 0.002230815262025709, 0.011712126185810637, 0.6090305616621531, 0.14891131864816382, 0.21081827134459147, 0.01924135016240319, 0.8989562427888933, 0.0022662872259991062, 0.41473056235783645, 0.012950212719994893, 0.17288533981193183, 0.3198702541838738, 0.010360170175995914, 0.005180085087997957, 0.02525291480399004, 0.0362605956159857, 0.0003237553179998723, 0.9964274024343647, 0.2490305601264458, 0.04633126700026899, 0.08494065616715982, 0.03474845025020174, 0.1274109842507397, 0.39960717787732003, 0.0077218778333781645, 0.04826173645861353, 0.0019304694583445411, 0.9782941978866293, 0.9685696205440093, 0.02515765248166258, 0.07701155150127884, 0.8961344174694265, 0.021003150409439682, 0.09460360454381238, 0.8892738827118364, 0.6913444287483433, 0.30853387729264914, 0.8370784821857128, 0.15836619933243215, 0.030061501161209196, 0.9319065359974851, 0.9760937380288124, 0.0037021672091898223, 0.292471209525996, 0.10736284906650484, 0.5257077437049548, 0.0666390097654168, 0.9874504390990277, 0.9950275368029468, 0.03130682902844182, 0.006957073117431516, 0.42090292360460674, 0.5356946300422267, 0.9908067934519312, 0.9013351098580674, 0.0679998489763452, 0.729998378716647, 0.0759998312088564, 0.029999933371916997, 0.09599978679013439, 0.04359977833237914, 0.19728899695401558, 0.36405814907536577, 0.06757965641518766, 0.14714925187177957, 0.10191448185193623, 0.0005449972291547392, 0.008719955666475827, 0.052319733998854964, 0.016894914103796916, 0.2488891205175452, 0.6283834230888518, 0.12074818718177935, 0.015831335565090306, 0.04791062078908908, 0.341623556930896, 0.3332912750545327, 0.1074864362050868, 0.04207802347563476, 0.014581493283635807, 0.0008332281876363318, 0.0916551006399965, 0.004999369125817991, 0.9960696126957752, 0.9069800235282147, 0.08881406758584892, 0.18452105621214746, 0.05427089888592573, 0.04341671910874058, 0.7163758652942196, 0.805587263008271, 0.06328672442618168, 0.0013184734255454517, 0.12393650200127246, 0.005273893702181807, 0.9951866957770067, 0.9159779914908915, 0.07915859185723755, 0.9935921864317955, 0.9909712888052019, 0.8813126866487511, 0.08279568612567066, 0.030439590487378917, 0.6453193183324331, 0.028004423248388605, 0.026786839628893448, 0.10105944041809801, 0.0706198499307191, 0.014611003433941882, 0.9942720158915138, 0.110991573282342, 0.28756907623152245, 0.08576621571817336, 0.17279369931455515, 0.14504580599396966, 0.19675778900051535, 0.9879121033275584, 0.5211814755294455, 0.17095702158596845, 0.1270305646506849, 0.03561604616374343, 0.005936007693957238, 0.01543362000428882, 0.09260172002573291, 0.027305635392203296, 0.002374403077582895, 0.0449581343506772, 0.8467115302710873, 0.05994417913423627, 0.041211623154787436, 0.0037465111958897668, 0.7135485198974779, 0.08571487680515726, 0.051206290039444595, 0.047866749384698204, 0.0033395406547463867, 0.03562176698396145, 0.061224912003683754, 0.027782800735181995, 0.9696197456578517, 0.13402455293793178, 0.8650675689630142, 0.9928268302739395, 0.9921020384108576, 0.9817537969677723, 0.7834610563229091, 0.016284409946665548, 0.01990316771259122, 0.179128509413321, 0.9868653338398268, 0.033955052845997646, 0.007276082752713781, 0.026678970093283863, 0.4996243490196796, 0.4317142433276843, 0.9766177538929142, 0.9934536068290085, 0.9730398609151405, 0.9898505319730364, 0.9307924367550853, 0.48174575417740306, 0.48174575417740306, 0.15453316323166885, 0.754485444013442, 0.09090186072451109, 0.17227777969743485, 0.6471541687527257, 0.12777798420363248, 0.043864084129605185, 0.008899959098760473, 0.027357745954398, 0.012665623127036112, 0.25128596284039645, 0.6854635236351944, 0.0015198747752443334, 0.0025331246254072224, 0.01925174715309489, 0.9896936598201489, 0.0645793904344121, 0.9256379295599069, 0.030440284191809226, 0.09132085257542767, 0.8827682415624676, 0.16221730735937293, 0.1746955617716324, 0.03743476323677837, 0.137260798534854, 0.274521597069708, 0.04991301764903783, 0.16221730735937293, 0.9671449085548398, 0.030703012969994913, 0.7643568503054571, 0.23108462916211495, 0.3426656940997824, 0.19988832155820643, 0.0422621022723065, 0.10965302211193038, 0.02398659858698477, 0.028555474508315203, 0.18503947481388253, 0.03769322635097607, 0.02969769348864781, 0.001142218980332608, 0.08087474228616974, 0.019605998129980543, 0.031859746961218384, 0.019605998129980543, 0.2744839738197276, 0.5710246955356834, 0.8792860956497656, 0.963634782898354, 0.21853074210706913, 0.09476737683607529, 0.09406015760595532, 0.1287138998818336, 0.07142914224211645, 0.11103341912883448, 0.20792245365526965, 0.03677539996623817, 0.02192379613371891, 0.014851603832519262, 0.00913592455950372, 0.01218123274600496, 0.04872493098401984, 0.9257736886963769, 0.9855846204807718, 0.17225809910099082, 0.14200488456354082, 0.23338194071747145, 0.1710232740178296, 0.009261188123709184, 0.07347209244809286, 0.1555879604783143, 0.0012348250831612246, 0.037044752494836734, 0.0037044752494836738, 0.2645362819203911, 0.0004280522361171376, 0.1468219169881782, 0.002568313416702826, 0.08561044722342753, 0.28379863254566223, 0.005136626833405652, 0.005136626833405652, 0.02354287298644257, 0.18277830482201776, 0.9888584986291211, 0.12976258790921297, 0.09342906329463334, 0.04671453164731667, 0.70071797470975, 0.025952517581842593, 0.9808866430362213, 0.9821890244985553, 0.9788674451449562, 0.01087630494605507, 0.04461379556341303, 0.5365878425298171, 0.008556070382024416, 0.13139679515251784, 0.25912670299845375, 0.018334436532909466, 0.001222295768860631, 0.17142385723595147, 0.12784152065054008, 0.005810978211388186, 0.058109782113881854, 0.06682624943096413, 0.12784152065054008, 0.3631861382117616, 0.029054891056940927, 0.011621956422776372, 0.037771358374023206, 0.8645385558505584, 0.030070906290454204, 0.030070906290454204, 0.0751772657261355, 0.9881191561404902, 0.13914399395909294, 0.034931546600609105, 0.21395572292873077, 0.3039044554252992, 0.14671249572255823, 0.11323643023030786, 0.005239731990091366, 0.041335663477387444, 0.0014554811083587129, 0.9812994366440462, 0.9018797609789331, 0.31175688418592895, 0.10147380936247882, 0.29830854800535944, 0.007335456098492446, 0.2714118756442205, 0.0024451520328308152, 0.006112880082077038, 0.9906673216922849, 0.9740030512256145, 0.8999436443778966, 0.9437855984632295, 0.04915549991995987, 0.35351113165243964, 0.20545946113133245, 0.04532193995544098, 0.04834340261913705, 0.3414252809976554, 0.9886603359487228, 0.7708665998194668, 0.20556442661852448, 0.7647301431064274, 0.2184943266018364, 0.9850956639082012, 0.49469649130566573, 0.3424821862885378, 0.11416072876284593, 0.1788273955251591, 0.015778887840455214, 0.7731655041823056, 0.03155777568091043, 0.8223524838789316, 0.969964815062598, 0.256747076360831, 0.3064639957717433, 0.09943383882182472, 0.07272027018312553, 0.07939866234280034, 0.07197822660982833, 0.06381574730355914, 0.010388610026160792, 0.038586265811454364, 0.5971047320553858, 0.10689854538075962, 0.17714616091668736, 0.11758839991883557, 0.1898335304165847, 0.806792504270485, 0.9760960026493872, 0.1805049039706277, 0.030133876530633718, 0.5433048431909306, 0.03371413908872881, 0.10323090375840857, 0.10263419333205939, 0.0005967104263491825, 0.005668749050317234, 0.9777546335739281, 0.013141301801492979, 0.3679564504418034, 0.6127131964946102, 0.005749319538153178, 0.9979373936812193, 0.9503052466591968, 0.9876650588955789, 0.012345813236194735, 0.22376563099705782, 0.4988293117879075, 0.2043077500407919, 0.021226779225017343, 0.005306694806254336, 0.04599135498753758, 0.0008844491343757226, 0.1274768139688528, 0.43342116749409954, 0.005588024721922315, 0.3579828337481483, 0.049593719407060546, 0.0003492515451201447, 0.02514611124865042, 0.9822048276443637, 0.9827370268073942, 0.8768531346489916, 0.8185346580642212, 0.19905751916683953, 0.6635250638894651, 0.06635250638894652, 0.9439011199241144, 0.0007532840873336743, 0.022221880576343393, 0.08888752230537357, 0.7804023144776866, 0.025611658969344926, 0.00263649430566786, 0.07947147121370264, 0.8620282869401156, 0.09091805693410444, 0.008265277903100405, 0.15153009489017408, 0.22867268865244453, 0.5207125078953254, 0.950096632420881, 0.047034486753508964, 0.07640111137448378, 0.08489012374942642, 0.831923212744379, 0.008489012374942642, 0.7525563598084708, 0.0805411873579877, 0.9147177707085746, 0.04263309799882207, 0.6981169797307114, 0.05062680387360121, 0.015987411749558277, 0.19451350961962569, 0.9927076829792151, 0.9273522832448219, 0.01483763653191715, 0.05193172786171003, 0.48899315407375693, 0.021067732261681137, 0.08094444500540647, 0.2805334874844909, 0.07540030493654301, 0.05322374466108919, 0.9784625428155684, 0.2570409740411872, 0.5329398185861935, 0.15086296403055327, 0.022547453863262037, 0.03648587988782402, 0.9124845746484421, 0.8705711510098683, 0.9946929231000932, 0.15535653374764283, 0.0832267145076658, 0.0034677797711527418, 0.3793751069641099, 0.09779138954650732, 0.035371353665757964, 0.004854891679613838, 0.17616321237455929, 0.0013871119084610966, 0.062420035880749354, 0.9981027361766255, 0.9925775196337542, 0.9516902350557881, 0.5662417533389587, 0.015763968634158094, 0.3928380983632197, 0.0012611174907326474, 0.02333067357855398, 0.9909231041500971, 0.5241105685520259, 0.40764155331824237, 0.987008039342034, 0.7870968573999277, 0.15065525786170492, 0.033820568091403144, 0.015372985496092338, 0.009223791297655402, 0.9908464596179392, 0.10681074470540557, 0.33178087574116605, 0.22497013103576047, 0.056075640970337924, 0.06942698405851362, 0.1268377593376691, 0.0006675671544087848, 0.01535404455140205, 0.06742428259528727, 0.9860873469388118, 0.9827598947707599, 0.9160693924295077, 0.01783103440252083, 0.05795086180819271, 0.006686637900945312, 0.09247085768216023, 0.04931779076381879, 0.8445671668303968, 0.006164723845477349, 0.98896580026779, 0.14821682352938695, 0.04088739959431364, 0.07666387423933807, 0.048553787018247446, 0.06644202434075966, 0.46509417038531764, 0.03577647464502443, 0.1149958113590071, 0.9365660523533774, 0.13268215602995648, 0.8519591071397206, 0.010474907054996565, 0.5570413849429526, 0.026248023374275255, 0.03208091745744753, 0.0029164470415861394, 0.3528900920319229, 0.020415129291102976, 0.008749341124758418, 0.25351803083993096, 0.25536852741540494, 0.037935179797215945, 0.05829064212742938, 0.013878724316054615, 0.06384213185385124, 0.24611604453803518, 0.030533193495320153, 0.024056455481161334, 0.013878724316054615, 0.002775744863210923, 0.7387585450532317, 0.033935904896438204, 0.010441816891211755, 0.05742999290166465, 0.09136589779810285, 0.01827317955962057, 0.023494088005226448, 0.023494088005226448, 0.8416271056112309, 0.8130652463664578, 0.03827201024667131, 0.037338546582118354, 0.8195810974774979, 0.1045479304299314, 0.9776047367279163, 0.11220005191251047, 0.039100018090723346, 0.03570001651761697, 0.08840004090076582, 0.46750021630212696, 0.2482001148367656, 0.006800003146212756, 0.18709538734679795, 0.23466201124852626, 0.13212951083813415, 0.10147546432368702, 0.04228144346820293, 0.086676959109816, 0.15327023257223563, 0.00951332478034566, 0.01902664956069132, 0.03382515477456234, 0.9894776930539351, 0.00532495605990904, 0.3141724075346333, 0.027689771511527007, 0.5537954302305401, 0.0031949736359454237, 0.06389947271890847, 0.033014727571436045, 0.7180223667540612, 0.037139087935554885, 0.037139087935554885, 0.19807513565629273, 0.10141793819581439, 0.026986747502748893, 0.2333047848624743, 0.30033638349833447, 0.22024668123211194, 0.06703159863586015, 0.0008705402420241578, 0.049620793795377, 0.957160356677629, 0.9662162201363435, 0.45018619349343536, 0.008285635463069362, 0.4142817731534681, 0.12152265345835064, 0.0027618784876897876, 0.2229716470840781, 0.7770224065051207, 0.8383467399556707, 0.08250396488452633, 0.021291345776651954, 0.021291345776651954, 0.03725985510914092, 0.9326184321013204, 0.9711413091635116, 0.06255163819909912, 0.03451124866157193, 0.1703992902665114, 0.28471780145796843, 0.008627812165392983, 0.017255624330785965, 0.006470859124044737, 0.045296013868313154, 0.3709959231118982, 0.00022051986453273364, 0.1814878485104398, 0.02535978442126437, 0.4822769437330885, 0.1369428358748276, 0.004630917155187406, 0.0008820794581309346, 0.07916663136725138, 0.08886950540669167, 0.9788049828343861, 0.018106275605397418, 0.046088701541011606, 0.01481422549532516, 0.5102677670611999, 0.0016460250550361288, 0.0016460250550361288, 0.2913464347413948, 0.11522175385252902, 0.0016460250550361288, 0.3595447383234414, 0.00774880901559141, 0.00774880901559141, 0.2665590301363445, 0.0030995236062365643, 0.03099523606236564, 0.31150212242677466, 0.010848332621827975, 0.9659084406069485, 0.05615312882487954, 0.9321419384930004, 0.9928753690725804, 0.9694773795383115, 0.9887777993910093, 0.9718136688712239, 0.9281995044898196, 0.06661718931745117, 0.2927249019079909, 0.3137247318274772, 0.01081809420094749, 0.2927249019079909, 0.05854498038159818, 0.003818150894452055, 0.026727056261164384, 0.019063816375267804, 0.967488681044841, 0.009531908187633902, 0.06968050620641099, 0.10552576661067048, 0.5748641762028907, 0.06968050620641099, 0.13467097834123662, 0.004020029204216019, 0.0026800194694773455, 0.026465192261088788, 0.00938006814317071, 0.003015021903162014, 0.018090500286749, 0.036181000573498, 0.9445825506866798, 0.9877428700838847, 0.982193305924924, 0.982858331511207, 0.21488450124081807, 0.7710561515111707, 0.8476010507168144, 0.12243126288131763, 0.012557052603212064, 0.015696315754015082, 0.9876785715036213, 0.11831395436798589, 0.8789036610193238, 0.9952836389435789, 0.43616007997328643, 0.08546379945422504, 0.007858740179698854, 0.16306885872875124, 0.23281517782357855, 0.023576220539096564, 0.003929370089849427, 0.006876397657236497, 0.03831135837603192, 0.20128947180393694, 0.7492441450479875, 0.04473099373420821, 0.9956074093012098, 0.9519166400903084, 0.03070698839000995, 0.015353494195004974, 0.29547973273507727, 0.1829010085233136, 0.11510149674311976, 0.15546585724481654, 0.06275396671748174, 0.09901882185572494, 0.03500346887256518, 0.02869653754417506, 0.005991584761970617, 0.01986683368442889, 0.9845214907856605, 0.006224504132226441, 0.09181143595034001, 0.12915846074369866, 0.6271187913218139, 0.006224504132226441, 0.023341890495849154, 0.0451276549586417, 0.021785764462792543, 0.04979603305781153, 0.1775912187538356, 0.06542834375141311, 0.7103648750153424, 0.028040718750605622, 0.018693812500403747, 0.03434864712592715, 0.96176211952596, 0.9589210660688552, 0.2687196171478348, 0.1392456197947871, 0.4682235753333485, 0.07735867766377062, 0.012214528052174309, 0.029314867325218343, 0.004885811220869724, 0.9693824980215678, 0.2092794574541548, 0.5226205235871711, 0.03931216327868101, 0.08671800723238458, 0.01849984154290871, 0.006937440578590767, 0.07399936617163484, 0.002312480192863589, 0.04046840337511281, 0.9163069582776766, 0.07126831897715262, 0.010181188425307517, 0.3161310225509748, 0.07508111785585651, 0.02845179202958773, 0.19363025131247205, 0.07112948007396933, 0.06164554939744008, 0.06480685962294984, 0.11143618544921861, 0.0790327556377437, 0.013443520573332722, 0.1862887850876106, 0.3111214761257002, 0.019205029390475317, 0.3072804702476051, 0.15940174394094514, 0.4293045338914639, 0.19668577764190415, 0.07186595721531114, 0.05106265381087896, 0.2231627092475451, 0.02836814100604387, 0.9959343628516681, 0.09984837534608385, 0.7879925838123374, 0.013493023695416736, 0.06476651373800034, 0.03238325686900017, 0.988647190526124, 0.13737539503691681, 0.8547802357852602, 0.9035692417851876, 0.9834309143353559, 0.9818204101686233, 0.883343695946434, 0.10979413169955676, 0.8749857577494304, 0.017675164843881416, 0.9544589015695965, 0.02209395605485177, 0.9620880831410676, 0.05727138701480946, 0.08781612675604117, 0.8514346202868339, 0.9930082048250554, 0.6521418029837295, 0.2407596935524213, 0.0269758760282825, 0.05260295825515088, 0.02427828842545425, 0.00269758760282825, 0.994138155213269, 0.6768310715949484, 0.10786757818909391, 0.02126966330489176, 0.028865971628067384, 0.007596308323175627, 0.13597391898484373, 0.01063483165244588, 0.009875200820128317, 0.23340740628731363, 0.025850497685584197, 0.6447565879054932, 0.037395380147107235, 0.058477339424671045, 0.9276149955403968, 0.31954819409666224, 0.32480824667438507, 0.007890078866584252, 0.001972519716646063, 0.04339543376621339, 0.17555425478149964, 0.12426874214870198, 0.0026300262888614176, 0.2174676362689707, 0.18196271606179182, 0.048819265284870975, 0.5015069979264019, 0.053257380310768335, 0.9752123328018496, 0.04742550517946767, 0.06639570725125474, 0.6669750592057861, 0.13451597832721737, 0.048287787091821625, 0.01681449729090217, 0.018970202071787068, 0.0008622819123539576, 0.9840512255393651, 0.8531694347249948, 0.02472954883260855, 0.11128296974673846, 0.1716003472621023, 0.3726419305740751, 0.2885241132887308, 0.11019434064380099, 0.04626479950693934, 0.005047069037120656, 0.004205890864267213, 0.9882387093185452, 0.10660979854674867, 0.1946051878234301, 0.6328899151822858, 0.003384438049103132, 0.06261210390840795, 0.9820815390863359, 0.9980286045384779, 0.9867111829994221, 0.9964197321586292, 0.07734153868265148, 0.0976436925868475, 0.009667692335331435, 0.11794584649104352, 0.14984923119763724, 0.10054400028744694, 0.42247815505398373, 0.02416923083832859, 0.910538969010456, 0.9886140908351367, 0.9937227680907884, 0.0038378061789190857, 0.14225468236526745, 0.3817337879298184, 0.34156474992379865, 0.0703597799468499, 0.0509148953069932, 0.004605367414702903, 0.004861221159964175, 0.9877612888181057, 0.9571229404904941, 0.9827594975151476, 0.9641069779330976, 0.3249775408862692, 0.12212531791267439, 0.03829353188787248, 0.013454484176820061, 0.033118730281403226, 0.3073832154242737, 0.05071305574339869, 0.008279682570350807, 0.016559365140701613, 0.08383178602480192, 0.9467467317050167, 0.10811086455190058, 0.010547401419697618, 0.7541392015083798, 0.1186582659715982, 0.007910551064773215, 0.5917485120278062, 0.17896147052496567, 0.22337526612970168, 0.005225152424086589, 0.9684695150941346, 0.024622106315952574, 0.7335727150084838, 0.0034359377752153806, 0.0532570355158384, 0.06785977106050377, 0.10909102436308833, 0.013743751100861522, 0.0025769533314115353, 0.014602735544665367, 0.3024951172743192, 0.12867329615400144, 0.04289109871800048, 0.487604069636216, 0.03837624622136885, 0.19487015911450054, 0.022485018359365446, 0.7644906242184252, 0.007495006119788482, 0.014990012239576965, 0.9734569749887035, 0.8948627034037306, 0.17385128887570472, 0.738225670004224, 0.05395384827177043, 0.01969743667064635, 0.013702564640449635, 0.0008564102900281022, 0.9887062299145983, 0.6427251532786065, 0.34707158277044753, 0.03743453699917305, 0.04278232799905491, 0.8663421419808619, 0.053477909998818636, 0.9841948547799698, 0.9728823460676695, 0.024945701181222295, 0.9060574644900068, 0.009821761132683, 0.03314844382280513, 0.049108805663415, 0.026675935310952817, 0.2655684631402892, 0.005954449846194825, 0.5966358745887215, 0.09598573152066057, 0.009288941760063927, 0.9850333643636036, 0.2103997047045116, 0.12930815184964775, 0.02849162667873595, 0.0569832533574719, 0.47997432635716714, 0.030683290269407942, 0.0569832533574719, 0.006574990772015988, 0.8523474214310389, 0.062234891088615546, 0.08388180972813399, 0.018002065190383474, 0.01866880834558286, 0.529394065228314, 0.04800550717435593, 0.32203694396130433, 0.06200711343354307, 0.0020002294655981634, 0.7693539331671335, 0.17695781580002123, 0.11260951914546806, 0.045580043463641834, 0.2077913746136613, 0.3968144960364112, 0.05898593860000708, 0.8199127651001376, 0.9158579116363297, 0.08400971962923079, 0.09601110814769233, 0.600069425923077, 0.16453516517245662, 0.022067069211364768, 0.006581406606898264, 0.005032840346451614, 0.021292786081141442, 0.9424992794283222, 0.055441134084018955, 0.9946305911552634, 0.9971114919426693, 0.9818315886327865, 0.99647498306664, 0.9926551034744053, 0.9224977166841335, 0.07050937961916943, 0.6031204596531484, 0.3952124751143302, 0.05465992367127984, 0.01821997455709328, 0.8988520781499352, 0.024293299409457708, 0.9652334342597925, 0.021486676425597512, 0.008025144207150878, 0.4499258268396202, 0.3417158178528761, 0.09190084495285683, 0.030288447491504927, 0.05669376068922717, 0.032854284585540676, 0.19712570751324407, 0.008645864364615967, 0.39943893364525773, 0.07781277928154372, 0.03458345745846387, 0.2455425479550935, 0.9407222083798864, 0.9724302304343726, 0.9236951452530887, 0.05895926459062269, 0.9038333046449318, 0.09373086122243737, 0.43857041988688217, 0.5158029466594148, 0.030341349803494993, 0.0013791522637952268, 0.013101946506054655, 0.2752917782947852, 0.06272470897855865, 0.006969412108728739, 0.05227059081546554, 0.5993694413506716, 0.9862465387369839, 0.013193933628588412, 0.9977392440181005, 0.11822446767465386, 0.7712739081632181, 0.10977986284075, 0.5913942883130909, 0.35483657298785454, 0.5825839447558121, 0.009616241178912991, 0.21155730593608582, 0.08414211031548868, 0.011218948042065158, 0.08093669658918436, 0.020033835789402068, 0.0294089041985204, 0.9214789982203059, 0.0294089041985204, 0.019605936132346933, 0.9953760444235025, 0.989603803230398, 0.4913652931882912, 0.4187171987652911, 0.07793159219921822, 0.01056699555243637, 0.044012106340970386, 0.8248194743900376, 0.03912187230308478, 0.09128436870719783, 0.02562915653988504, 0.44082149248602265, 0.0018639386574461846, 0.5032634375104699, 0.02795907986169277, 0.9586866113796436, 0.03784289255445961, 0.07140982118979987, 0.7647761495165663, 0.11978421618934171, 0.03685668190441283, 0.006910627857077406, 0.09424147190118344, 0.9020255167684701, 0.8359397307663654, 0.98021372287464, 0.9618709789493045, 0.8254763106708598, 0.04066385766851526, 0.10572602993813968, 0.02033192883425763, 0.004066385766851526, 0.9912023449897478, 0.8248136992400564, 0.924698487345527, 0.05439402866738394, 0.007770575523911991, 0.3435075544958165, 0.11450251816527217, 0.4580100726610887, 0.9850686240820162, 0.2901642754200405, 0.06448095009334233, 0.08597460012445644, 0.03582275005185685, 0.010746825015557055, 0.39046797556523966, 0.12000621267372044, 0.007566911671142133, 0.22826850207945434, 0.7402961918267387, 0.0227007350134264, 0.9913539176832802, 0.8612196035206157, 0.8382875926191864, 0.0006590311262729454, 0.01252159139918596, 0.05338152122810857, 0.017793840409369523, 0.0771066417739346, 0.98481211565256, 0.9924059937576106, 0.19437012440880266, 0.8053524400032654, 0.15791432163584937, 0.005532030375778162, 0.7689522222331645, 0.04827953782497305, 0.0010058237046869387, 0.017601914832021427, 0.8258626247722934, 0.07729748704765309, 0.09763893100756178, 0.09068647323931618, 0.09635437781677345, 0.0736827595069444, 0.04534323661965809, 0.011335809154914523, 0.6688127401399568, 0.011335809154914523, 0.20764669720156453, 0.0218575470738489, 0.7650141475847114, 0.0017111286196123106, 0.05475611582759394, 0.396981839750056, 0.2241578491692127, 0.06844514478449243, 0.06930070909429857, 0.0479116013491447, 0.1343235966395664, 0.002566692929418466, 0.9976883236970437, 0.9853733955426368, 0.8338647453144968, 0.08720154199367286, 0.07902639743176604, 0.9898115015450217, 0.9898935998253454, 0.21836339577551653, 0.028922304076227354, 0.0896591426363048, 0.07809022100581385, 0.04193734091052966, 0.3369448424880487, 0.10556640987822984, 0.09978194906298436, 0.0059650745334097815, 0.81721521107714, 0.17298716146888365, 0.08809131755314142, 0.06673584663116774, 0.8328633659569734, 0.00800830159574013, 0.9848380184363803, 0.6497824196876117, 0.21880428418052233, 0.09614127638235072, 0.0314945560562873, 0.003315216426977611, 0.06641679556567814, 0.07813740654785664, 0.07813740654785664, 0.013674046145874913, 0.11720610982178496, 0.3262236723373015, 0.18752977571485593, 0.08790458236633873, 0.04492900876501757, 0.9785248216603668, 0.018462732484157862, 0.24919171208173121, 0.006704709742109361, 0.7431053297504541, 0.8761128837388029, 0.1199772420406641, 0.91624754132637, 0.08067588414194453, 0.9519959079489528, 0.98325028621022, 0.18263958576741887, 0.7817865195654149, 0.013363872129323332, 0.020045808193984996, 0.9900839211141819, 0.9917413514212261, 0.9906077328533666, 0.9145752298394781, 0.2502746935018826, 0.11141260549438643, 0.043596236932586, 0.04844026325842889, 0.02906415795505733, 0.16954092140450108, 0.2890269041086257, 0.03067883339700496, 0.014532078977528664, 0.009688052651685777, 0.003229350883895259, 0.26806289852585424, 0.10512270530425656, 0.0767395748721073, 0.07989325603123498, 0.11773742994076736, 0.11563497583468223, 0.18711841544157667, 0.047305217386915455, 0.0021024541060851313, 0.8900944410240428, 0.30717345545892666, 0.12796065492598382, 0.12015403672095032, 0.15816887319763517, 0.09707360028867737, 0.09537650937453966, 0.049215636509993776, 0.017310327324204705, 0.02613520007772083, 0.0010182545484826299, 0.3207865826621043, 0.3207865826621043, 0.08554308870989448, 0.27801503830715707, 0.9899456865248838, 0.9866326914171608, 0.969203494345192, 0.09015509664381106, 0.9097468843148208, 0.008811431423877565, 0.17142239315543625, 0.015219745186697612, 0.2835678840047871, 0.005607274542467541, 0.3732842766842677, 0.14258498122274604, 0.1327867856883648, 0.8660007762284662, 0.015246629416766383, 0.6678023684543676, 0.051838540017005705, 0.26376668891005844, 0.12125434084014516, 0.7642999025087839, 0.1133032365227586, 0.0009938880396733211, 0.9921939486841783, 0.7398593318758421, 0.9868345498507683, 0.9861313093618137, 0.9605091671539666, 0.9944165384189457, 0.5069981202462077, 0.45327646512078174, 0.011192011484463747, 0.023503224117373867, 0.003357603445339124, 0.12533806426575533, 0.8724512316537872, 0.002457609103250105, 0.9486788580303332, 0.031390109273062496, 0.017438949596145833, 0.041602850317277645, 0.7046482772488901, 0.23921638932434647, 0.013000890724149264, 0.9300525272054547, 0.8862767520778871, 0.09688076980859801, 0.5454520053607368, 0.0597210224847522, 0.06237529015074119, 0.019907007494917403, 0.051758219486785245, 0.14731185546238876, 0.017252739828928415, 0.8449877073429655, 0.9797575396125571, 0.992898684318984, 0.2990295516955428, 0.6977356206229332, 0.9275743818811246, 0.09301901541450505, 0.0998252848350786, 0.8008710351541533, 0.004537512947049027, 0.9839022180698409, 0.9926832356656351, 0.15298213148595036, 0.009106079255116093, 0.0692062023388823, 0.766731873280775, 0.031504590527664376, 0.9661407761817075, 0.9867618475351013, 0.9526540331327141, 0.048604797608811943, 0.24916014727927746, 0.6229003681981937, 0.022145132923116918, 0.06643539876935076, 0.02847231375829318, 0.36697648844022324, 0.37014007885781136, 0.03796308501105757, 0.1012348933628202, 0.9874172165979729, 0.3715140896368578, 0.12209383227502368, 0.016569877237324643, 0.07500049696894312, 0.05058173051393838, 0.12471012868091705, 0.1875012424223578, 0.024418766455004737, 0.009593086821609004, 0.017441976039289098, 0.013795851149119211, 0.13795851149119212, 0.8277510689471527, 0.12159160850265364, 0.05069271141655823, 0.10351238974569932, 0.3388967280715361, 0.22049556993775676, 0.01098932904834479, 0.038285404426491525, 0.07231687502781733, 0.03190450368874294, 0.011343823533775268, 0.9930087995076067, 0.902631432466505, 0.9900776479432827, 0.9762557857473223, 0.996497093213792, 0.9079386075930088, 0.9646298487814957, 0.7763214318941069, 0.10198864100942458, 0.0597170332226236, 0.005367823211022346, 0.007380756915155726, 0.019458359139956007, 0.025497160252356144, 0.004696845309644553, 0.8437099373206448, 0.1549671313446082, 0.9817912663971827, 0.03144555396902448, 0.08036086014306257, 0.009317201176007253, 0.00349395044100272, 0.1024892129360798, 0.13277011675810335, 0.18634402352014506, 0.44955495674234996, 0.002329300294001813, 0.16716282908159744, 0.15852758656157662, 0.30223348820072937, 0.07011301389390055, 0.08583688833334148, 0.18456219833835585, 0.01585275865615766, 0.008248589869870654, 0.004768716018518971, 0.002706568551051308, 0.15029513780817455, 0.8489644270786076, 0.9986633439862984, 0.9746979589865021, 0.05104446707258239, 0.10968232594108611, 0.1615705032132153, 0.16241421341276213, 0.23075473957605425, 0.03754510387983333, 0.01139008769388202, 0.14638371962137262, 0.08901142605218912, 0.017925797233540597, 0.07568669943050474, 0.8803558196916604, 0.025892818226225307, 0.9780882221597935, 0.9455048264803143, 0.04202243673245841], \"Term\": [\"12-month_period\", \"30-year_fix\", \"500-stock_index\", \"AFL_CIO\", \"AIG\", \"AIG\", \"AOL\", \"AT&T\", \"Aaron\", \"Act\", \"Act\", \"Adams\", \"Administration\", \"Administration\", \"Administration\", \"Africa\", \"Alan_Greenspan\", \"Alan_Greenspan\", \"Alexander\", \"Ambassador\", \"American_Stock\", \"Argentina\", \"Arlington\", \"Asia\", \"Asia\", \"Associated_Press\", \"Associated_Press\", \"Avenue\", \"BCCI\", \"Bank_Japan\", \"Barack_Obama\", \"Beijing\", \"Beijing\", \"Belt\", \"Belt\", \"Bernanke\", \"Bernanke\", \"Big_Board\", \"Bill_Clinton\", \"Board\", \"Board\", \"Board\", \"Board\", \"Bonn\", \"Book\", \"Bowles\", \"Brady\", \"Brady\", \"Brady\", \"Brazil\", \"Brazil\", \"Brazil\", \"Brown\", \"Brown\", \"Brown\", \"Buffalo\", \"Bundesbank\", \"Bureau_Labor\", \"Bush\", \"Bush\", \"CBO\", \"CNN\", \"CPI\", \"Calif\", \"Calif\", \"Canada\", \"Canada\", \"Capitol\", \"Chairman_Alan\", \"Channel\", \"Cheney\", \"China\", \"China\", \"China\", \"Chinese\", \"Chinese\", \"Chinese\", \"Christmas_shopping\", \"Clinton\", \"Clinton\", \"Co.\", \"Co.\", \"Co.\", \"Co.\", \"Co.\", \"Cohen\", \"Cohen\", \"Cohen\", \"Columbia\", \"Commerce_Department\", \"Committee\", \"Committee\", \"Committee\", \"Committee\", \"Conference_Board\", \"Congress\", \"Congress\", \"Congress\", \"Congress\", \"Congressional\", \"Congressional_Budget\", \"Corp.\", \"Corp.\", \"Corp.\", \"Corp.\", \"D.C.\", \"Democrat\", \"Democrats\", \"Detroit\", \"Detroit\", \"Detroit\", \"Detroit\", \"District\", \"District\", \"District\", \"Dole\", \"Dominion\", \"Dow\", \"Dow_Jones\", \"Dow_Jones\", \"Dow_industrial\", \"Dr.\", \"Drug\", \"Dukakis\", \"ECB\", \"EU\", \"Eastern_Europe\", \"Empire\", \"Europe\", \"Europe\", \"Europe\", \"European_Central\", \"FDA\", \"FDA\", \"FOMC\", \"Fannie_Mae\", \"Fannie_Mae\", \"Fed\", \"Fed_Chairman\", \"Fed_chairman\", \"Fed_official\", \"Fed_policy\", \"Federal_Open\", \"Federal_Reserve\", \"Federal_Reserve\", \"Federal_Reserve\", \"Federal_Reserve\", \"Federation\", \"Federation\", \"Ford\", \"Ford\", \"Ford\", \"Fox\", \"Fox_News\", \"Fraser\", \"Freddie_Mac\", \"Frederick\", \"French\", \"French\", \"Fund\", \"Fund\", \"Fund\", \"GAF\", \"GE\", \"GOP\", \"GTE\", \"General_Assembly\", \"Germany\", \"Germany\", \"Google\", \"Gore\", \"Grace\", \"Grand\", \"Greenspan\", \"Hall\", \"Hall\", \"Health\", \"Hitler\", \"Hong_Kong\", \"Hong_Kong\", \"Hong_Kong\", \"House\", \"House\", \"House_Senate\", \"House_Speaker\", \"House_Ways\", \"House_Ways\", \"I.\", \"IMF\", \"IMF_World\", \"IRS\", \"InBev\", \"Inc.\", \"Inc.\", \"Inc.\", \"Inc.\", \"Inc.\", \"Index\", \"Index\", \"Index\", \"India\", \"Indonesia\", \"Industrial_Average\", \"Intel\", \"International_Monetary\", \"International_Monetary\", \"Intimate_Brands\", \"Italy\", \"Italy\", \"Jackson_Hole\", \"Jacobs\", \"January\", \"January\", \"January\", \"January\", \"January\", \"January\", \"January\", \"January\", \"January\", \"Japan\", \"Japan\", \"Japan_Germany\", \"Japan_Nikkei\", \"Japanese\", \"Jarrett\", \"Jimmy_Carter\", \"Judge\", \"Kelly\", \"Kennedy\", \"Kennedy\", \"Kentucky\", \"Kohl\", \"La\", \"Labor_Department\", \"Labor_Department\", \"Latin_America\", \"Limited\", \"London\", \"London\", \"London\", \"Long\", \"Long\", \"Long\", \"Madoff\", \"Market_Committee\", \"Martha\", \"Maryland\", \"Means_Committee\", \"Means_Committee\", \"Mexicans\", \"Mexico\", \"Mexico\", \"Mexico\", \"Monetary\", \"Montgomery\", \"Mr.\", \"Mr.\", \"Mr.\", \"Mr.\", \"Mr.\", \"Mr.\", \"Mr.\", \"Mr.\", \"Mr.\", \"Mr.\", \"Mr._Bernanke\", \"Mr._Bush\", \"Mr._Greenspan\", \"Mr._Obama\", \"Mr._Reagan\", \"NASD\", \"NBC\", \"NBC\", \"NEW_YORK\", \"NEW_YORK\", \"NEW_YORK\", \"NEW_YORK\", \"NEW_YORK\", \"Nasdaq_Composite\", \"Nasdaq_composite\", \"New_York\", \"New_York\", \"New_York\", \"New_York\", \"New_York\", \"New_York\", \"New_York\", \"New_York\", \"New_York\", \"New_York\", \"Newsweek\", \"Northern_Virginia\", \"OSI\", \"Obama\", \"Outlook\", \"Oxley\", \"Pakistan\", \"Parker\", \"Parker\", \"Paulson\", \"Point\", \"Poland\", \"Police\", \"Poole\", \"President\", \"President\", \"President\", \"President\", \"President\", \"President\", \"President\", \"President\", \"President_Barack\", \"President_Bill\", \"President_Bush\", \"President_Bush\", \"President_Bush\", \"President_Nixon\", \"President_Nixon\", \"President_Nixon\", \"Puerto_Rico\", \"QE\", \"Quebec\", \"Qwest\", \"Qwest\", \"Railroad\", \"Regan\", \"Rep.\", \"Rep.\", \"Republican\", \"Republicans\", \"Russia\", \"Russia\", \"S&P\", \"S&P\", \"SEC\", \"Sarbanes\", \"Securities_Exchange\", \"Securities_Exchange\", \"Sen\", \"Sen.\", \"Sen.\", \"Senate\", \"Senate\", \"Senate_Banking\", \"Senate_Majority\", \"Series\", \"Simpson\", \"Social_Security\", \"Social_Security\", \"South Carolina\", \"South_Korea\", \"South_Korea\", \"Standard_Poor\", \"Standard_Poor\", \"Standard_Poor\", \"State_Department\", \"State_University\", \"Statistics\", \"Stein\", \"Stock_Exchange\", \"Stock_Exchange\", \"Strauss\", \"Street_Journal\", \"Street_Journal\", \"Suharto\", \"Thailand\", \"Tokyo\", \"Townsend\", \"Trade_Representative\", \"Treasury\", \"Treasury\", \"Treasury\", \"Treasury\", \"Treasury_bill\", \"Treasury_security\", \"Treasurys\", \"Treasurys\", \"U.S.\", \"U.S.\", \"U.S.\", \"U.S.\", \"U.S.\", \"U.S.\", \"U.S.\", \"U.S.\", \"U.S.\", \"U.S._currency\", \"Ukraine\", \"United_States\", \"United_States\", \"United_States\", \"United_States\", \"United_States\", \"United_States\", \"United_States\", \"Vietnam\", \"Vietnam\", \"Volcker\", \"Volcker_rule\", \"Wagner\", \"Wall_Streeters\", \"Washington\", \"Washington\", \"Washington\", \"Washington\", \"Washington\", \"Washington\", \"Washington\", \"Washington\", \"Washington\", \"Washington_Post\", \"Washington_Post\", \"Washington_Post\", \"Week\", \"West_Germany\", \"White_House\", \"White_House\", \"White_House\", \"White_House\", \"White_House\", \"Williams\", \"Wilson\", \"World_Bank\", \"World_Economic\", \"Wright\", \"Wright\", \"Wyo\", \"York_Stock\", \"achieve_goal\", \"acquire\", \"acquire\", \"acquire\", \"acquisition\", \"activist\", \"add_job\", \"adjustable_rate\", \"administration\", \"administration\", \"administration\", \"administration\", \"adult\", \"advance\", \"advance\", \"advance\", \"advance\", \"advance\", \"advance\", \"advance_issue\", \"affordable_housing\", \"agency\", \"agency\", \"agency\", \"agency\", \"agency\", \"agency\", \"agent\", \"agent\", \"agent\", \"agent\", \"aide\", \"aide\", \"airport\", \"al_Qaeda\", \"analyst\", \"analyst\", \"analyst\", \"analyst\", \"analyst\", \"analyst\", \"analyst\", \"announce_yesterday\", \"annual_rate\", \"annuity\", \"antitrust\", \"approve_voter\", \"art\", \"art\", \"art\", \"asian\", \"asian\", \"audit\", \"automaker\", \"average\", \"average\", \"average\", \"average\", \"average\", \"average\", \"balance_budget\", \"balanced_budget\", \"bank\", \"bank\", \"bank\", \"bank\", \"base\", \"base\", \"base\", \"base\", \"base\", \"base\", \"base\", \"base\", \"baseball\", \"beef\", \"beef\", \"beef\", \"beef\", \"begin\", \"begin\", \"begin\", \"begin\", \"begin\", \"begin\", \"begin\", \"begin\", \"begin\", \"begin\", \"benefit\", \"benefit\", \"benefit\", \"benefit\", \"benefit\", \"benefit\", \"benefit\", \"benefit\", \"big\", \"big\", \"big\", \"big\", \"big\", \"big\", \"big\", \"big\", \"big\", \"big\", \"bill\", \"bill\", \"bill\", \"bill\", \"black\", \"black\", \"black\", \"black\", \"blue_chip\", \"bond\", \"bond\", \"bond\", \"bond\", \"book\", \"book\", \"book\", \"book\", \"book\", \"border\", \"border\", \"border\", \"border\", \"border\", \"border\", \"borrower\", \"borrower\", \"borrower\", \"brain\", \"brain\", \"brand\", \"brand\", \"broad_market\", \"budget\", \"budget\", \"budget\", \"budget_deficit\", \"budget_deficit\", \"budget_deficit\", \"budget_deficit\", \"budget_resolution\", \"budget_surplus\", \"bull\", \"bureau\", \"business\", \"business\", \"business\", \"business\", \"business\", \"business\", \"business\", \"business\", \"buy\", \"buy\", \"buy\", \"buy\", \"buy\", \"buy\", \"buy\", \"buy\", \"buy\", \"buyout\", \"campaign\", \"campaign\", \"campaign\", \"can\", \"canadian\", \"canadian\", \"canadian\", \"canadian_dollar\", \"candidate\", \"candidate\", \"candidate\", \"capita_income\", \"capital\", \"capital\", \"capital\", \"capital\", \"capital\", \"capital\", \"capital_gain\", \"car\", \"car\", \"car\", \"car\", \"care\", \"care\", \"cdo\", \"celebration\", \"celebration\", \"cell\", \"cement\", \"census\", \"census\", \"cent\", \"cent\", \"cent\", \"cent\", \"cent\", \"cent_gallon\", \"cent_pound\", \"cent_share\", \"central_bank\", \"central_bank\", \"central_bank\", \"chairman\", \"chairman\", \"chairman\", \"chairman\", \"chairman\", \"chairman\", \"chairman\", \"chairman_chief\", \"change\", \"change\", \"change\", \"change\", \"change\", \"change\", \"change\", \"change\", \"change\", \"change\", \"charity\", \"chief_executive\", \"chief_executive\", \"chief_investment\", \"child\", \"child\", \"chinese\", \"chinese\", \"church\", \"citizen\", \"citizen\", \"city\", \"city\", \"city\", \"city\", \"civil_servant\", \"click\", \"close\", \"close\", \"close\", \"close\", \"close\", \"close\", \"close\", \"close\", \"close\", \"close\", \"coal\", \"coal\", \"coin\", \"coin\", \"collapse\", \"collapse\", \"collapse\", \"collapse\", \"collapse\", \"collapse\", \"collapse\", \"college\", \"college\", \"come\", \"come\", \"come\", \"come\", \"come\", \"come\", \"come\", \"come\", \"come\", \"come\", \"communist\", \"company\", \"company\", \"company\", \"company\", \"computer\", \"computer\", \"computer\", \"computer\", \"congressional_Democrats\", \"constitutional\", \"constitutional\", \"constitutional\", \"consumer\", \"consumer\", \"consumer\", \"consumer\", \"consumer_confidence\", \"consumer_price\", \"consumer_sentiment\", \"consumer_spending\", \"continue\", \"continue\", \"continue\", \"continue\", \"continue\", \"continue\", \"continue\", \"continue\", \"continue\", \"continue\", \"control\", \"control\", \"control\", \"control\", \"control\", \"control\", \"control\", \"control\", \"control\", \"control\", \"convict\", \"copper\", \"corn\", \"corporate_debt\", \"corporate_earning\", \"cost\", \"cost\", \"cost\", \"cost\", \"cost\", \"cost\", \"cost_living\", \"cotton\", \"cotton\", \"council\", \"council\", \"country\", \"country\", \"country\", \"country\", \"country\", \"country\", \"country\", \"country\", \"county\", \"county\", \"coverage\", \"credit\", \"credit\", \"credit\", \"credit\", \"credit\", \"credit\", \"credit\", \"crew\", \"crew\", \"crisis\", \"crisis\", \"crisis\", \"crisis\", \"crisis\", \"crisis\", \"crisis\", \"crisis\", \"crisis\", \"crude_future\", \"currency\", \"currency\", \"currency\", \"current\", \"current\", \"current\", \"current\", \"current\", \"current\", \"current_account\", \"current_fiscal\", \"curve\", \"curve\", \"customer\", \"customer\", \"customer\", \"cut\", \"cut\", \"cut\", \"cut\", \"cut\", \"cut\", \"cut\", \"cut\", \"cut\", \"czar\", \"day\", \"day\", \"day\", \"day\", \"day\", \"day\", \"day\", \"day\", \"deal\", \"deal\", \"deal\", \"deal\", \"deal\", \"deal\", \"deal\", \"deal\", \"debt\", \"debt\", \"debt\", \"debt\", \"debt\", \"debt_crisis\", \"debt_relief\", \"decline\", \"decline\", \"decline\", \"decline\", \"decline\", \"decline\", \"deduction\", \"defendant\", \"defense_spending\", \"defense_spending\", \"deficit\", \"deficit\", \"deficit\", \"deficit_fiscal\", \"deficit_reduction\", \"deficit_reduction\", \"deficit_widen\", \"deflation\", \"deflation\", \"deflation\", \"deflation\", \"delegate\", \"delegate\", \"democratic\", \"demonstration\", \"deposit\", \"deposit\", \"deposit\", \"deregulation\", \"deregulation\", \"deregulation\", \"destructive\", \"develop_country\", \"develop_country\", \"develop_country\", \"dialogue\", \"diplomat\", \"discount_rate\", \"discount_rate\", \"doctor\", \"dole\", \"dollar\", \"dollar\", \"dollar\", \"dollar\", \"dollar\", \"dollar_denominate\", \"dollar_yen\", \"doom\", \"downtown\", \"downtown\", \"dress\", \"drop\", \"drop\", \"drop\", \"drop\", \"drop\", \"drop\", \"drop\", \"drug\", \"drug\", \"drug\", \"drug\", \"drug\", \"dull\", \"durable_good\", \"ease_concern\", \"ease_concern\", \"economic\", \"economic\", \"economic\", \"economic\", \"economic\", \"economic\", \"economic\", \"economic\", \"economic\", \"economic\", \"economist\", \"economist\", \"economist\", \"economist\", \"economist\", \"economist_caution\", \"economy\", \"economy\", \"economy\", \"economy\", \"economy\", \"economy\", \"economy\", \"economy\", \"economy\", \"economy\", \"education\", \"effect\", \"effect\", \"effect\", \"effect\", \"effect\", \"effect\", \"effect\", \"effect\", \"effect\", \"elderly\", \"elect\", \"elect\", \"election\", \"election\", \"election\", \"electricity\", \"electricity\", \"employee\", \"employee\", \"employer\", \"employer\", \"encounter\", \"encounter\", \"endorsement\", \"energy\", \"energy\", \"energy\", \"energy\", \"energy\", \"energy_price\", \"euro\", \"european\", \"european\", \"european\", \"european\", \"exchange_rate\", \"exclusion\", \"executive\", \"executive\", \"executive\", \"executive\", \"executive\", \"expect\", \"expect\", \"expect\", \"expect\", \"expect\", \"expect\", \"expect\", \"expect\", \"expect\", \"expect\", \"export\", \"export\", \"export\", \"fall\", \"fall\", \"fall\", \"fall\", \"fall\", \"fall\", \"fall\", \"fall\", \"fall\", \"fall\", \"fall_point\", \"family\", \"family\", \"farmer\", \"farmer\", \"farmer\", \"farmer\", \"federal\", \"federal\", \"federal\", \"federal\", \"federal\", \"federal_budget\", \"federal_deficit\", \"federal_deficit\", \"federal_fund\", \"federal_spending\", \"federation\", \"figure\", \"figure\", \"figure\", \"figure\", \"figure\", \"figure\", \"figure\", \"figure\", \"filing\", \"financial\", \"financial\", \"financial\", \"financial\", \"financial\", \"financial\", \"financial_service\", \"find\", \"find\", \"find\", \"find\", \"find\", \"find\", \"find\", \"find\", \"find\", \"finish\", \"finish\", \"finish\", \"finish\", \"finish\", \"firm\", \"firm\", \"firm\", \"firm\", \"firm\", \"firm\", \"firm\", \"fiscal\", \"fiscal\", \"fiscal_year\", \"fiscal_year\", \"fix_rate\", \"food_energy\", \"food_price\", \"forecast\", \"forecast\", \"forecast\", \"forecast\", \"forecaster\", \"foreign\", \"foreign\", \"foreign\", \"foreign\", \"foreign\", \"foreign_currency\", \"foreign_exchange\", \"foreign_policy\", \"franc\", \"freedom\", \"freight\", \"freight\", \"friend\", \"friend\", \"friend\", \"fund\", \"fund\", \"fund\", \"fund\", \"fund\", \"gain\", \"gain\", \"gain\", \"gain\", \"gain\", \"gain\", \"gain\", \"gainer\", \"gallon\", \"gallon\", \"gas\", \"gas\", \"gas\", \"gather\", \"gather\", \"gather\", \"gather\", \"gather\", \"gather\", \"gather\", \"gdp\", \"gdp\", \"german\", \"german\", \"get\", \"get\", \"get\", \"get\", \"get\", \"get\", \"get\", \"get\", \"get\", \"get\", \"global\", \"global\", \"global\", \"global\", \"global\", \"global\", \"global_competition\", \"global_financial\", \"go\", \"go\", \"go\", \"go\", \"go\", \"go\", \"go\", \"go\", \"go\", \"go\", \"gold\", \"gold\", \"gold\", \"gold\", \"gold_price\", \"good\", \"good\", \"good\", \"good\", \"good\", \"good\", \"good\", \"good\", \"good\", \"good\", \"government\", \"government\", \"government\", \"government\", \"government\", \"government\", \"government\", \"government\", \"government\", \"government\", \"government_spending\", \"governor\", \"governor\", \"governor\", \"governor\", \"governor\", \"grain\", \"greenback\", \"gross_national\", \"gross_national\", \"growth\", \"growth\", \"growth\", \"growth\", \"growth\", \"growth\", \"growth\", \"hand\", \"hand\", \"hand\", \"hand\", \"hand\", \"hand\", \"hand\", \"hand\", \"hand\", \"hand\", \"health_care\", \"health_care\", \"health_care\", \"health_care\", \"health_insurance\", \"high\", \"high\", \"high\", \"high\", \"high\", \"high\", \"high\", \"high\", \"high\", \"high_school\", \"hispanic\", \"home\", \"home\", \"home\", \"home\", \"home\", \"home\", \"home\", \"home_loan\", \"homeless\", \"hospitality\", \"hotel\", \"hotel\", \"house\", \"house\", \"house\", \"house\", \"house\", \"housing_start\", \"illegal\", \"illegal\", \"illegal_immigrant\", \"illegal_immigrant\", \"immigrant\", \"immigration\", \"immigration\", \"immigration\", \"import\", \"import\", \"import\", \"import\", \"importer\", \"impression\", \"include\", \"include\", \"include\", \"include\", \"include\", \"include\", \"include\", \"include\", \"include\", \"income\", \"income\", \"income\", \"income\", \"income_tax\", \"income_tax\", \"income_taxis\", \"increase\", \"increase\", \"increase\", \"increase\", \"increase\", \"increase\", \"increase\", \"increase\", \"incumbent\", \"index\", \"index\", \"index\", \"index\", \"industrial_average\", \"industrial_output\", \"industrial_production\", \"industrial_production\", \"industry\", \"industry\", \"industry\", \"industry\", \"industry\", \"industry\", \"industry\", \"inflation\", \"inflation\", \"inflation\", \"inflation\", \"inflation\", \"inflation\", \"inflation\", \"initial_public\", \"injury\", \"instruct\", \"integration\", \"intent\", \"intent\", \"intent\", \"inter\", \"interest_rate\", \"interest_rate\", \"interest_rate\", \"interest_rate\", \"interest_rate\", \"interest_rate\", \"interest_rate\", \"intermediate\", \"international\", \"international\", \"international\", \"international\", \"international\", \"internet\", \"internet\", \"intervention\", \"intervention\", \"intervention\", \"intervention\", \"interview_Wall\", \"inventory\", \"inventory\", \"invest\", \"invest\", \"invest\", \"invest\", \"invest\", \"investigate\", \"investigation\", \"investigation\", \"investigation\", \"investment\", \"investment\", \"investment\", \"investment\", \"investment\", \"investment\", \"investment_grade\", \"investor\", \"investor\", \"investor\", \"investor\", \"investor\", \"invisible\", \"invoke\", \"ipo\", \"issue\", \"issue\", \"issue\", \"issue\", \"issue\", \"issue\", \"issue\", \"issue\", \"issue\", \"issue\", \"japanese\", \"japanese_yen\", \"jean\", \"job\", \"job\", \"job\", \"job\", \"job\", \"jobless_rate\", \"jumbo\", \"jumbo\", \"jurisdiction\", \"labor\", \"labor\", \"labor\", \"labor\", \"labor\", \"labor_market\", \"large\", \"large\", \"large\", \"large\", \"large\", \"large\", \"large\", \"large\", \"large\", \"late_New\", \"latin_american\", \"law\", \"law\", \"law\", \"law\", \"lawmaker\", \"lawmaker\", \"lawmaker\", \"lawmaker\", \"lawsuit\", \"leader\", \"leader\", \"leader\", \"leader\", \"leader\", \"leader\", \"leader\", \"leader\", \"ledger\", \"lender\", \"lender\", \"lender\", \"life\", \"life\", \"life\", \"life\", \"life\", \"life\", \"life\", \"like\", \"like\", \"like\", \"like\", \"like\", \"like\", \"like\", \"like\", \"like\", \"like\", \"like\", \"limit\", \"limit\", \"limit\", \"limit\", \"limit\", \"limit\", \"limit\", \"limit\", \"lion_share\", \"little_chance\", \"loan\", \"loan\", \"loan\", \"loan\", \"locality\", \"long_term\", \"long_term\", \"long_term\", \"long_term\", \"long_term\", \"long_term\", \"long_term\", \"look\", \"look\", \"look\", \"look\", \"look\", \"look\", \"look\", \"look\", \"look\", \"look\", \"lose_point\", \"loss\", \"loss\", \"loss\", \"loss\", \"loss\", \"loss\", \"loss\", \"love\", \"love\", \"love\", \"love\", \"low\", \"low\", \"low\", \"low\", \"low\", \"low\", \"low\", \"low\", \"lump_sum\", \"major_currency\", \"man\", \"man\", \"man\", \"man\", \"man\", \"management\", \"management\", \"manager\", \"manager\", \"manager\", \"manager\", \"manager\", \"manpower\", \"map\", \"mark\", \"mark\", \"mark\", \"mark\", \"mark\", \"mark\", \"mark\", \"mark\", \"mark\", \"market\", \"market\", \"market\", \"market\", \"market\", \"market\", \"market\", \"market\", \"market\", \"market_strategist\", \"meeting\", \"meeting\", \"meeting\", \"meeting\", \"meeting\", \"meeting\", \"meeting\", \"meeting\", \"meeting\", \"member\", \"member\", \"member\", \"member\", \"member\", \"member\", \"member\", \"member\", \"mexican\", \"mile\", \"mile\", \"mill\", \"miracle\", \"missile\", \"monetarist\", \"monetary_policy\", \"monetary_policy\", \"money\", \"money\", \"money\", \"money\", \"money\", \"money\", \"money\", \"money_supply\", \"money_supply\", \"money_supply\", \"month\", \"month\", \"month\", \"month\", \"month\", \"month\", \"month\", \"month\", \"month\", \"month\", \"mortgage\", \"mortgage\", \"mortgage\", \"mortgage_back\", \"mother\", \"motor\", \"movie\", \"movie\", \"mutual_fund\", \"mutual_fund\", \"mutual_fund\", \"mutual_fund\", \"national_debt\", \"natural_gas\", \"natural_gas\", \"nearly_point\", \"need\", \"need\", \"need\", \"need\", \"need\", \"need\", \"need\", \"need\", \"need\", \"neighborhood\", \"neighborhood\", \"neighborhood\", \"net_income\", \"network\", \"network\", \"network\", \"new\", \"new\", \"new\", \"new\", \"new\", \"new\", \"new\", \"new\", \"new\", \"new\", \"new_order\", \"news\", \"news\", \"news\", \"news\", \"news\", \"news\", \"news\", \"news\", \"news\", \"newspaper\", \"newspaper\", \"newspaper\", \"newspaper\", \"newspaper\", \"nomination\", \"nomination\", \"novel\", \"number\", \"number\", \"number\", \"number\", \"number\", \"number\", \"number\", \"nursing_home\", \"offer\", \"offer\", \"offer\", \"offer\", \"offer\", \"offer\", \"offer\", \"offer\", \"offer\", \"offering\", \"offering\", \"offering\", \"official\", \"official\", \"official\", \"official\", \"official\", \"official\", \"official\", \"official\", \"official\", \"oil\", \"oil\", \"oil\", \"oil\", \"oil\", \"oil\", \"old\", \"old\", \"old\", \"old\", \"old\", \"old\", \"online\", \"operation\", \"operation\", \"operation\", \"operation\", \"operation\", \"operator\", \"opposition\", \"opposition\", \"organizer\", \"ounce\", \"outlay\", \"output\", \"output\", \"outsider\", \"own\", \"own\", \"own\", \"parliament\", \"party\", \"party\", \"party\", \"patent\", \"pay\", \"pay\", \"pay\", \"pay\", \"pay\", \"pay\", \"pay_raise\", \"people\", \"people\", \"people\", \"people\", \"people\", \"people\", \"people\", \"people\", \"percent\", \"percent\", \"percent\", \"percent\", \"percent\", \"personal_exemption\", \"plan\", \"plan\", \"plan\", \"plan\", \"plan\", \"plan\", \"plan\", \"plan\", \"plant\", \"plant\", \"plant\", \"plant\", \"plant\", \"plastic\", \"point\", \"point\", \"point\", \"point\", \"point\", \"point\", \"point\", \"point\", \"point_close\", \"police\", \"police\", \"police\", \"policy\", \"policy\", \"policy\", \"policy\", \"policy\", \"policy\", \"policy\", \"policy_meeting\", \"political\", \"political\", \"political\", \"political\", \"political\", \"pollster\", \"population\", \"postal\", \"poverty\", \"president\", \"president\", \"president\", \"president\", \"president\", \"president\", \"president\", \"president\", \"prestigious\", \"previous_month\", \"previous_session\", \"price\", \"price\", \"price\", \"price\", \"price\", \"price\", \"price\", \"price\", \"prime_rate\", \"print_money\", \"private_equity\", \"private_investment\", \"problem\", \"problem\", \"problem\", \"problem\", \"problem\", \"problem\", \"problem\", \"problem\", \"problem\", \"problem\", \"processor\", \"production\", \"production\", \"production\", \"production\", \"production\", \"profit\", \"profit\", \"profit\", \"profit\", \"profit_taking\", \"profit_taking\", \"program\", \"program\", \"program\", \"program\", \"program\", \"program\", \"program\", \"program\", \"project\", \"project\", \"project\", \"project\", \"project\", \"prosperity\", \"prosperity\", \"prosperity\", \"prosperity\", \"prosperity\", \"prosperous\", \"protester\", \"quarter\", \"quarter\", \"quarter\", \"quarter\", \"quarter\", \"quarter\", \"rail\", \"railroad\", \"railroad\", \"raise_interest\", \"raise_interest\", \"raise_interest\", \"raise_interest\", \"raise_short\", \"raise_taxis\", \"raise_taxis\", \"rally\", \"rally\", \"rally\", \"rally\", \"rate\", \"rate\", \"rate\", \"rate\", \"rate\", \"rate\", \"rate_mortgage\", \"real\", \"real\", \"real\", \"real\", \"real\", \"real\", \"real\", \"real\", \"real_estate\", \"real_estate\", \"real_estate\", \"recession\", \"recession\", \"recession\", \"recession\", \"recession\", \"recession\", \"recession\", \"recruitment\", \"reduce\", \"reduce\", \"reduce\", \"reduce\", \"reduce\", \"reduce\", \"refiner\", \"reintroduce\", \"report\", \"report\", \"report\", \"report\", \"report\", \"report\", \"report\", \"report\", \"report_show\", \"report_show\", \"report_yesterday\", \"republican\", \"reserve_requirement\", \"retail_sale\", \"retiree\", \"retirement\", \"retirement\", \"revenue\", \"revenue\", \"revise\", \"revise\", \"revise\", \"revise\", \"revolutionary\", \"rise\", \"rise\", \"rise\", \"rise\", \"rise\", \"rise\", \"rise\", \"risk\", \"risk\", \"risk\", \"risk\", \"risk\", \"risk\", \"risk\", \"ruble\", \"rupee\", \"russian\", \"russian\", \"salary\", \"salary\", \"sale\", \"sale\", \"sale\", \"sale\", \"sale\", \"saving\", \"saving\", \"saving\", \"saving\", \"saving\", \"school\", \"school\", \"seasonally_adjust\", \"second_quarter\", \"second_quarter\", \"second_quarter\", \"security_law\", \"security_law\", \"sell\", \"sell\", \"sell\", \"sell\", \"sell\", \"sell\", \"sell\", \"selling\", \"selling\", \"selling\", \"selling\", \"senator\", \"send_stock\", \"service\", \"service\", \"service\", \"service\", \"session\", \"session\", \"session\", \"session\", \"share\", \"share\", \"share\", \"share\", \"share\", \"shareholder\", \"shareholder\", \"short_term\", \"short_term\", \"short_term\", \"short_term\", \"short_term\", \"shortfall\", \"shortfall\", \"shuttle\", \"single_family\", \"sister\", \"slowdown\", \"slowdown\", \"slowdown\", \"slowdown\", \"slowdown\", \"smile\", \"smoker\", \"software\", \"software\", \"software\", \"spanish\", \"spanish\", \"spanish\", \"speaker\", \"spend\", \"spend\", \"spend\", \"spend\", \"spend\", \"spend\", \"spend\", \"spending\", \"spending\", \"spending\", \"spending\", \"spending_cut\", \"stadium\", \"state\", \"state\", \"state\", \"state\", \"state\", \"state\", \"station\", \"statistical\", \"stock\", \"stock\", \"stock_market\", \"stock_market\", \"stock_market\", \"stock_market\", \"stock_market\", \"stock_market\", \"store\", \"store\", \"store\", \"story\", \"story\", \"story\", \"story\", \"story\", \"story\", \"story\", \"street\", \"street\", \"street\", \"strong\", \"strong\", \"strong\", \"strong\", \"strong\", \"strong\", \"strong\", \"strong\", \"strong\", \"student\", \"student_loan\", \"study\", \"study\", \"study\", \"subsidiary\", \"supervisor\", \"support\", \"support\", \"support\", \"support\", \"support\", \"support\", \"support\", \"support\", \"surplus\", \"surplus\", \"surplus\", \"survey\", \"survey\", \"survey\", \"survey\", \"swiss_franc\", \"system\", \"system\", \"system\", \"system\", \"system\", \"talk\", \"talk\", \"talk\", \"talk\", \"talk\", \"talk\", \"talk\", \"talk\", \"talk\", \"tariff\", \"tariff\", \"tax\", \"tax\", \"tax\", \"tax_cut\", \"tax_cut\", \"tax_increase\", \"tax_increase\", \"tax_reduction\", \"tax_revenue\", \"taxis\", \"taxis\", \"taxis\", \"taxis\", \"teacher\", \"technology_stock\", \"term_interest\", \"terror\", \"thing\", \"thing\", \"thing\", \"thing\", \"thing\", \"thing\", \"thing\", \"thing\", \"thing\", \"thing\", \"thing\", \"think\", \"think\", \"think\", \"think\", \"think\", \"think\", \"think\", \"think\", \"think\", \"ticker\", \"time\", \"time\", \"time\", \"time\", \"time\", \"time\", \"time\", \"time\", \"time\", \"time\", \"ton\", \"ton\", \"ton\", \"ton\", \"tonight\", \"total_share\", \"tour\", \"town\", \"town\", \"trade\", \"trade\", \"trade\", \"trade\", \"trade\", \"trade\", \"trade\", \"trade_deficit\", \"trade_deficit\", \"trader\", \"trader\", \"trader\", \"trader\", \"trading\", \"trading\", \"trading\", \"trading\", \"trading_volume\", \"tragedy\", \"training\", \"tuition\", \"undergo\", \"unemployed\", \"unemployment\", \"unemployment\", \"unemployment\", \"unemployment\", \"unemployment\", \"unemployment_rate\", \"unemployment_rate\", \"unemployment_rate\", \"union\", \"union\", \"union\", \"unit\", \"unit\", \"unit\", \"unit\", \"uphold\", \"vacant\", \"value\", \"value\", \"value\", \"value\", \"value\", \"value\", \"value\", \"value\", \"van\", \"veto\", \"video\", \"viewer\", \"viewer\", \"void\", \"volume\", \"volume\", \"volume\", \"volume\", \"volume_share\", \"voluntary\", \"vote\", \"vote\", \"vote\", \"vote\", \"voter\", \"voter\", \"wage_increase\", \"wage_price\", \"wage_price\", \"walkout\", \"walkout\", \"war\", \"war\", \"war\", \"war\", \"war\", \"war\", \"war\", \"waste\", \"way\", \"way\", \"way\", \"way\", \"way\", \"way\", \"way\", \"way\", \"way\", \"way\", \"wear\", \"wear\", \"wear\", \"week\", \"week\", \"week\", \"week\", \"week\", \"week\", \"week\", \"week\", \"week\", \"week\", \"welfare\", \"welfare_reform\", \"west_german\", \"wheat\", \"wholesale_price\", \"widow\", \"wonderful\", \"work\", \"work\", \"work\", \"work\", \"work\", \"work\", \"work\", \"work\", \"worker\", \"worker\", \"working\", \"world\", \"world\", \"world\", \"world\", \"world\", \"world\", \"world\", \"world\", \"world\", \"year\", \"year\", \"year\", \"year\", \"year\", \"year\", \"year\", \"year\", \"year\", \"year\", \"year_earlier\", \"year_earlier\", \"yen\", \"yen_yen\", \"yesterday\", \"yesterday\", \"yesterday\", \"yesterday\", \"yesterday\", \"yesterday\", \"yesterday\", \"yesterday\", \"yesterday\", \"yield\", \"yield\", \"yield\", \"yield\", \"youth\", \"yuan\", \"yuan\"]}, \"R\": 30, \"lambda.step\": 0.01, \"plot.opts\": {\"xlab\": \"PC1\", \"ylab\": \"PC2\"}, \"topic.order\": [1, 11, 4, 9, 2, 15, 12, 10, 13, 5, 3, 8, 14, 7, 6]};\n",
              "\n",
              "function LDAvis_load_lib(url, callback){\n",
              "  var s = document.createElement('script');\n",
              "  s.src = url;\n",
              "  s.async = true;\n",
              "  s.onreadystatechange = s.onload = callback;\n",
              "  s.onerror = function(){console.warn(\"failed to load library \" + url);};\n",
              "  document.getElementsByTagName(\"head\")[0].appendChild(s);\n",
              "}\n",
              "\n",
              "if(typeof(LDAvis) !== \"undefined\"){\n",
              "   // already loaded: just create the visualization\n",
              "   !function(LDAvis){\n",
              "       new LDAvis(\"#\" + \"ldavis_el9031403225203534885077880300\", ldavis_el9031403225203534885077880300_data);\n",
              "   }(LDAvis);\n",
              "}else if(typeof define === \"function\" && define.amd){\n",
              "   // require.js is available: use it to load d3/LDAvis\n",
              "   require.config({paths: {d3: \"https://d3js.org/d3.v5\"}});\n",
              "   require([\"d3\"], function(d3){\n",
              "      window.d3 = d3;\n",
              "      LDAvis_load_lib(\"https://cdn.jsdelivr.net/gh/bmabey/pyLDAvis@3.3.1/pyLDAvis/js/ldavis.v3.0.0.js\", function(){\n",
              "        new LDAvis(\"#\" + \"ldavis_el9031403225203534885077880300\", ldavis_el9031403225203534885077880300_data);\n",
              "      });\n",
              "    });\n",
              "}else{\n",
              "    // require.js not available: dynamically load d3 & LDAvis\n",
              "    LDAvis_load_lib(\"https://d3js.org/d3.v5.js\", function(){\n",
              "         LDAvis_load_lib(\"https://cdn.jsdelivr.net/gh/bmabey/pyLDAvis@3.3.1/pyLDAvis/js/ldavis.v3.0.0.js\", function(){\n",
              "                 new LDAvis(\"#\" + \"ldavis_el9031403225203534885077880300\", ldavis_el9031403225203534885077880300_data);\n",
              "            })\n",
              "         });\n",
              "}\n",
              "</script>"
            ],
            "text/plain": [
              "<IPython.core.display.HTML object>"
            ]
          },
          "execution_count": 41,
          "metadata": {},
          "output_type": "execute_result"
        }
      ],
      "source": [
        "pyLDAvis.enable_notebook()\n",
        "vis_lda = gensimvis.prepare(lda_model, corpus, dictionary)\n",
        "pyLDAvis.display(vis_lda)"
      ]
    },
    {
      "cell_type": "markdown",
      "metadata": {
        "id": "M7hsZwtgRjGB"
      },
      "source": [
        "HdpModel visual"
      ]
    },
    {
      "cell_type": "code",
      "execution_count": null,
      "metadata": {
        "colab": {
          "base_uri": "https://localhost:8080/",
          "height": 915
        },
        "id": "JxuJXGq5Fg4C",
        "outputId": "043c0d18-3988-44d0-a10b-27ca687c2be6"
      },
      "outputs": [
        {
          "name": "stderr",
          "output_type": "stream",
          "text": [
            "/usr/local/lib/python3.7/dist-packages/pyLDAvis/_prepare.py:247: FutureWarning: In a future version of pandas all arguments of DataFrame.drop except for the argument 'labels' will be keyword-only\n",
            "  by='saliency', ascending=False).head(R).drop('saliency', 1)\n"
          ]
        },
        {
          "data": {
            "text/html": [
              "\n",
              "<link rel=\"stylesheet\" type=\"text/css\" href=\"https://cdn.jsdelivr.net/gh/bmabey/pyLDAvis@3.3.1/pyLDAvis/js/ldavis.v1.0.0.css\">\n",
              "\n",
              "\n",
              "<div id=\"ldavis_el9031403225203541283092296518\"></div>\n",
              "<script type=\"text/javascript\">\n",
              "\n",
              "var ldavis_el9031403225203541283092296518_data = {\"mdsDat\": {\"x\": [0.2702727983325238, 0.1647742349550122, 0.09178220453979036, 0.07210738790054687, 0.04318279039473386, 0.023977743411754484, -0.02661516931245664, -0.044769827649921184, -0.036870962159309975, -0.029641812859553977, -0.06497296519768637, -0.05608878213639767, -0.05363583604750967, -0.042625170491238665, -0.05470713249157257, -0.05321298342302473, -0.040891253023596745, -0.054795434717267284, -0.0444778954429878, -0.06279193458183821], \"y\": [-0.0009474679594164854, -0.002300771036807711, -0.004045790503420596, -0.0026568559139354474, -0.0036706273729250364, -0.0009313303002537567, 0.01636138083087694, 0.045628309216504986, 0.0228033716336803, 0.018919267778371242, 0.02356610216605638, -0.00214020484301505, -0.09277132447259005, -0.010144824730130318, 0.03993593828711086, -0.005010802442780274, 0.013340411986594466, -0.013084654097383438, 0.017341848857564086, -0.06019197708410121], \"topics\": [1, 2, 3, 4, 5, 6, 7, 8, 9, 10, 11, 12, 13, 14, 15, 16, 17, 18, 19, 20], \"cluster\": [1, 1, 1, 1, 1, 1, 1, 1, 1, 1, 1, 1, 1, 1, 1, 1, 1, 1, 1, 1], \"Freq\": [92.74349671888173, 4.796641540217542, 0.6072720325151336, 0.577054729710889, 0.3504275037387405, 0.19750096259627611, 0.08819502094112794, 0.08149237887393046, 0.06935793762797213, 0.06405334914378004, 0.055171916290412466, 0.0531761878517061, 0.05121011271079399, 0.050876452356991016, 0.04345504884200876, 0.04242640142849014, 0.040922446023693985, 0.03420285173252074, 0.03211004110189327, 0.02095636741437122]}, \"tinfo\": {\"Term\": [\"year\", \"U.S.\", \"market\", \"stock\", \"rate\", \"price\", \"rise\", \"company\", \"high\", \"economy\", \"month\", \"increase\", \"investor\", \"interest_rate\", \"new\", \"time\", \"fall\", \"inflation\", \"week\", \"dollar\", \"report\", \"low\", \"Fed\", \"point\", \"share\", \"government\", \"day\", \"bank\", \"Federal_Reserve\", \"decline\", \"privately\", \"Jacob\", \"dramatically\", \"folk\", \"Merrill\", \"disc\", \"Glendening\", \"deeply\", \"rise_rapidly\", \"Wilder\", \"manager\", \"Shaw\", \"Intel\", \"lump_sum\", \"mental\", \"III\", \"Barry\", \"Magellan\", \"Reich\", \"Gov\", \"chemical\", \"bank_hold\", \"german\", \"operate\", \"fed\\u2030\\u00fb\\u00aas\", \"seismic\", \"Salomon_Smith\", \"retarded\", \"economic_reform\", \"black_man\", \"percent\", \"year\", \"market\", \"rise\", \"stock\", \"U.S.\", \"week\", \"new\", \"price\", \"day\", \"budget\", \"fund\", \"sell\", \"increase\", \"decline\", \"expect\", \"yesterday\", \"company\", \"dollar\", \"month\", \"economy\", \"bank\", \"inflation\", \"black\", \"United_States\", \"come\", \"government\", \"investor\", \"rate\", \"time\", \"high\", \"report\", \"fall\", \"point\", \"Federal_Reserve\", \"interest_rate\", \"low\", \"readily\", \"tourism\", \"ar.d\", \"Cowan\", \"2307.30.---Burlington\", \"incoming\", \"visian\", \"CntCrd\", \"Wilsons\", \"weekly_survey\", \"speaking\", \"TheTreasury\", \"phone_call\", \"Kraklio\", \"funds\\u2030\\u00db\\u00d3as\", \"primacy\", \"Wilens\", \"j\\u00e5\\u00c7\", \"loafer\", \"44-pt)lnt\", \"paper\\u2030\\u00db\\u00d3that\", \"feerease\", \"\\\"Like\", \"Okun\", \"llie\", \"Xiaochuan\", \"2008.among\", \"lilt\", \"tuxedo\", \"uncompetitive\", \"BMA\", \"Nigh\", \"Tne\", \"24.Standard\", \"tlj\", \"Photographer\", \"semiprocessed\", \"Plug_Power\", \"housing_recovery\", \"Root\", \"Benitez\", \"\\u2030\\u00db\\u00cfmarket\", \"that-\", \"Andersen\", \"viewer\", \"hotcake\", \"patrimonial\", \"U.S.---But\", \"year\", \"indicate\", \"rate\", \"high\", \"market\", \"price\", \"U.S.\", \"stock\", \"time\", \"increase\", \"economy\", \"company\", \"rise\", \"interest_rate\", \"new\", \"month\", \"inflation\", \"report\", \"low\", \"fall\", \"week\", \"government\", \"work\", \"percent\", \"job\", \"share\", \"investor\", \"point\", \"Federal_Reserve\", \"stock_market\", \"yesterday\", \"day\", \"bank\", \"nondescript\", \"CALIF\", \"introvert\", \"-point\", \"Royster\", \"worker\\u2030\\u00db\\u00aas\", \"G.M.\", \"401(k).1\", \"way\\u2030\\u00db\\u00d3but\", \"Urbanchuk\", \"8'4\", \"\\u2030\\u00fb\\u00a2\\u2030\\u00fb\\u00aa\", \"profit\\u2030\\u00db\\u00d3to\", \"bush\", \"Chance\", \"slayer\", \"40b\", \"Needham\", \"by'2,600\", \"Petrolane\", \"KB\", \"Neill\", \"workersJiad\", \"Cards\", \"lcrease\", \"mood.2\", \"\\u2030\\u00db\\u00cfstick\", \"984.94.the\", \"Birr\", \"\\u2030\\u00fb\\u00efthat\\u2030\\u00fb\\u009d\", \"reporter\\u2030\\u00db\\u00aas\", \"\\u2030\\u00fb\\u00ef\\u2030\\u00fb\\u00eft\", \"Garnick\", \"Condominium\", \"Riedy\", \"MTV\", \"DiMaggio\", \"mailroom\", \"report\\u2030\\u00fb\\u00aas\", \"10%.both\", \"janitorial\", \"6*sSoundsn\", \"\\u2030\\u00fb\\u00efdumpe\", \"sunco\", \"4I\", \"-undersecretary\", \"Biomagnetic\", \"unlocking\", \"Loehmann\", \"Gehry\", \"Weatherless\", \"rise\", \"price\", \"stock\", \"year\", \"market\", \"U.S.\", \"60th\", \"high\", \"rate\", \"investor\", \"company\", \"indicate\", \"fall\", \"gain\", \"interest_rate\", \"month\", \"decline\", \"economy\", \"share\", \"dollar\", \"low\", \"inflation\", \"point\", \"increase\", \"Dow_Jones\", \"analyst\", \"week\", \"report\", \"drop\", \"day\", \"stock_market\", \"close\", \"time\", \"new\", \"Soper\", \"BOE\", \"cox-2\", \"terrorism_coverage\", \"Getty\", \"growth3M\", \"minimization\", \"Colgate\", \"Wimpey\", \"1.3-square\", \"Arminio\", \"Fill\", \"PurchasePro.com\", \"lines,\\u2030\\u00db\\u009d\", \"forecastproductivity\", \"Jinping\", \"I\\u2030\\u00db\\u00aaacific\", \"FRANCE\", \"\\\"mental\", \"el\", \"Mager\", \"a.m.-6\", \"SkyTel\", \"striker\", \"Laurn\", \"rates,\\u2030\\u00fb\\u009d\", \"tress\", \"Zanaia\", \"1972.for\", \"acknowledged\", \"fri\", \"recession.\\u2030\\u00fb\\u009dthere\", \"wash->ington\", \"AmPace\", \"Wyckoff\", \"B-\", \"Emmy\", \"2.3%.mr\", \"Balenciaga\", \"cc\", \"speller\", \"stomping\", \"A2\", \"Everest\", \"acquaint\", \"239,000.san\", \"company\", \"AMR\", \"year\", \"rise\", \"U.S.\", \"rate\", \"Mr.\", \"price\", \"investor\", \"stock\", \"high\", \"interest_rate\", \"market\", \"month\", \"expect\", \"inflation\", \"time\", \"economic\", \"yesterday\", \"increase\", \"share\", \"cost\", \"sale\", \"report\", \"business\", \"Fannie\", \"fall\", \"index\", \"dollar\", \"new\", \"week\", \"government\", \"economy\", \"monthsOn\", \"argumentative\", \"SDI\", \"5%-5.5\", \"composer\", \"\\u2030\\u00fb\\u00efconsiderable\", \"mush\", \"nonacademic\", \"Kindler\", \"spectacular\\u2030\\u00db\\u00d3told\", \"cockpit\", \"nces,\\u2030\\u00db\\u009d\", \"103-page\", \"Canadair\", \"lasted.)This\", \"brimmer\\u2030\\u00fb\\u00f3action\", \"blowhard\", \"6.65%.\\\"clearly\", \"Pere\", \"unpredictability\", \"pledge^revenqe\", \"Pali\", \"zag\", \"Silent\", \"TIAA\", \"2002.even\", \"off\\u2030\\u00db\\u009d\", \"3v\\u00e5\\u00e8\", \"Aluisi\", \"OartDg\", \"Chaos\", \"Hub\", \"Nihon\", \"amine\", \"itolllml\", \"Pitsuwan\", \"billion).mr\", \"\\u2030\\u00db\\u00cfundercover\", \"pollcy\", \"estranged\", \"Westwood\", \"skeet\", \"outsourced\", \"chef\", \"USS\", \"7.7%.the\", \"Khorana\", \"'cent\", \"Oros\", \"else,\\u2030\\u00db\\u00aa\\u2030\\u00db\\u00aa\", \"company\", \"6%.interest\", \"U.S.\", \"market\", \"IRe\", \"price\", \"year\", \"Mr.\", \"stock\", \"kaufman\", \"investor\", \"rise\", \"high\", \"expect\", \"trade\", \"week\", \"big\", \"government\", \"economy\", \"fund\", \"new\", \"work\", \"New_York\", \"day\", \"dollar\", \"rate\", \"increase\", \"like\", \"month\", \"time\", \"point\", \"quarter\", \"business\", \"interest_rate\", \"bank\", \"Med\", \"rehashing\", \"Choquette\", \"Jeffries\", \"IPS\", \"Clairton\", \"Traub\", \"British_Gas\", \"security?entirely\", \"may.---\", \"ballot?Mr\", \"\\u2030\\u00db\\u00cfyoung\", \"costly,\\u2030\\u00db\\u009d\", \"sunlit\", \"22fe\", \"Torto\", \"backlot\", \"Achuthan\", \"Wake\", \"coiffeur\", \"6.85%.\\\"you\", \"95.more\", \"pla\", \"Algerians\", \"telfainistration\", \"\\\"similar\", \"taxrejecting\", \"LinkedIn\", \"Beset\", \"totals.|\", \"Sonnenfeld\", \"Palermo\", \"Morrison\", \"\\\"russian\", \"101.76.nationwide\", \"procedure\\u2030\\u00fb\\u009d\", \"Luiz\", \"abowe\", \"1997.while\", \"billion\\u2030\\u00fb\\u00f3come\", \"septemficial\", \"sler\\u2030\\u00db\\u00aas\", \"recession\\u2030\\u00db\\u00d3if\", \"\\\"throughout\", \"baton\", \"fernande\", \"Homestore\", \"Dustin\", \"j-\", \"Ball\", \"Amin\", \"year\", \"Bolger\", \"stock\", \"Mr.\", \"market\", \"company\", \"U.S.\", \"investor\", \"bank\", \"New_York\", \"economy\", \"rise\", \"time\", \"dollar\", \"decline\", \"fall\", \"price\", \"Federal_Reserve\", \"report\", \"point\", \"bond\", \"stock_market\", \"big\", \"future\", \"interest_rate\", \"index\", \"new\", \"increase\", \"average\", \"week\", \"high\", \"month\", \"984.94.the\", \"NHL\", \"right?most\", \"shoddy\", \"Compo\", \"holster\", \"seated\", \"elitist\", \"Aquaria\", \"50-seat\", \"ESL\", \"BurneNEW\", \"Beebower\", \"convergence\", \"PetersonThe\", \"undercounte\", \"abotd\", \"Rossi\", \"Chula\", \"recovery\\\"?confuse\", \"XKW\", \"JIM\", \"71mil\", \"7.01-point\", \"Zyuganov\", \"forego\", \"advo-\", \"2002.even\", \"OartDg\", \"taxwriting\", \"unlock\", \"Producers\\u2030\\u00db\\u00aa\", \"villager\", \"houses?\\\"marketer\", \"tradeweb.2\", \"Jeremiah\", \"Iff).\\u2030\\u00db\\u00d3A\", \"consensus\\u2030\\u00fb\\u009d\", \"Reidy\", \"U.S.J\", \"Vermonters\", \"vear\", \"te^^ad^is\", \"mighlomical\", \"Monika\", \"pvogram\", \"cents,\\u2030\\u00db\\u009d\", \"occur.\\u2030\\u00fb\\u009dthe\", \"Tftp\", \"slugfest\", \"KesslerWhat\", \"Pizza\", \"buyer\\u2030\\u00db\\u00aas\", \"2008).as\", \"Syrians\", \"We\\u2030\\u00db\\u00aall\", \"\\u2030\\u00fb\\u00f3broker\", \"Schweitzer\", \"animate\", \"job\\u2030\\u00fb\\u00aa\", \"Overland\", \"market\", \"Fed\", \"involvement.\\u2030\\u00db\\u00cfThe\", \"U.S.\", \"Cadillac\", \"thrice\", \"interest_rate\", \"rate\", \"appearance\", \"political\", \"change\", \"allow\", \"year\", \"Donoghue\", \"credit\", \"bank\", \"plan\", \"time\", \"program\", \"rise\", \"include\", \"price\", \"dollar\", \"country\", \"central_bank\", \"come\", \"economy\", \"trader\", \"39,-500\", \"11\\u2030\\u00fb\\u00f3\", \"Pere\", \"recovery\\\"?confuse\", \"imperfection\", \"PHILADELPHIA\", \"workersJiad\", \"indonesianshare\", \"Tenpas\", \"Yoshiro\", \"\\\"Warburg\", \"^declining\", \"SedcoAA\", \"comfort-\", \"domi\", \"subvention\", \"3v\\u00e5\\u00e8\", \"Maramarco\", \"2004.\\\"the\", \"WiscPL\", \"161.05.blue\", \"\\u2030\\u00fb\\u00ef100\", \".8027'/3\", \"plan\\u2030\\u00db\\u00aas\", \"socalg\", \"stories.\\u2030\\u00db\\u009d\", \"\\\"Adobe\", \"PetersonThe\", \"accumulator\", \"5466roins\", \"country\\u2030\\u00db\\u009d\", \"program\\u2030\\u00fb\\u00f3designe\", \"Castellani\", \"SnBelir\", \"Principal\", \"Bottoms\", \"\\u2030\\u00fb\\u00effriendly\\u2030\\u00fb\\u009d\", \"Vinnie\", \"Preparedness\", \"banks\\u2030\\u00db\\u00d3and\", \"hubris\", \"preorder\", \"10%03\", \"1)4-point\", \"Pathmark\", \"testament\", \"6.16.The\", \"debtholder\", \"socenbi\", \"u.s./japan\", \"Roland\", \"apotaae\", \"productio\", \"wrongheade\", \"Hanley\", \"telltale\", \"\\u2030\\u00db\\u00d3though\", \"suits\\u2030\\u00fb\\u009d\", \"mid_afternoon\", \"Friedman\\u2030\\u00db\\u00d3\", \"sit_sideline\", \"sideshow\", \"downshifting.---\", \"U.S.At\", \"year\", \"Weinblatt\", \"bank\", \"gain\", \"U.S.\", \"administration_official\", \"rate\", \"someday\", \"stock\", \"week\", \"inflation\", \"market\", \"global\", \"Beebower\", \"Javier\", \"11\\u2030\\u00fb\\u00f3\", \"oalary\", \"Bovard\", \"STOCKBROKER\", \"market.\\u2030\\u00db\\u009dSuzanne\", \"\\\"similar\", \"ERP\", \"AWatdnt\", \"HDFC\", \"\\u2030\\u00fb\\u00efstagflation.\\u2030\\u00fb\\u00aa\\u2030\\u00fb\\u00aa\", \"Sanctac\", \"aStS$ks\", \"custodian\", \"employment\\u2030\\u00db\\u00d3a\", \"Revival\", \"PrettyThe\", \"amphitheater\", \"lent\", \"5.7%.these\", \".'mpi'Mitm\", \"lO\", \"CareGovernment\", \"fingerprint\", \"yestcrcray\\u2030\\u00fb\\u00aapassc\", \"nercent\", \"71mil\", \"SoCenBI\", \"recy\", \"wt\", \"Colt\", \"his-\", \"backfired\", \"INFORMATION\", \"\\u2030\\u00db\\u00cfstudy\", \"halting\", \"injudiciously\", \"be1\", \"program.\\u2030\\u00fb\\u009dgao\\u2030\\u00fb\\u00aas\", \"CollnSLf\", \"Kelman\", \"said.meaningful\", \"ADP\", \"Croatia\", \"unsullied\", \"frightened\", \"Camilla\", \"xvay\", \"Co.through\", \"\\u2030\\u00db\\u00cfhardware\\u2030\\u00db\\u009d\", \"BABY\", \"imon\", \"year\", \"Fed\", \"Menefee\", \"rate\", \"Mr.\", \"official\", \"program\", \"market\", \"economy\", \"interest_rate\", \"government\", \"week\", \"investor\", \"U.S.\", \"bill\", \"state\", \"new\", \"raise\", \"family\", \"reaction\", \"policy\", \"HDFC\", \"Yasuda\", \"Borlaug\", \"Mou\", \"care_coverage\", \"Frame\", \".8027'/3\", \"independentgroundwork\", \"drone\", \"avoidable\", \"tlietreasury\", \"largcst\", \"Reddy\", \"comfort-\", \"BOB\", \"four\\u2030\\u00db\\u00d3prone\", \"STOCKBROKER\", \"Lvdai\", \"52vs\", \"less.\\u2030\\u00fb\\u009d\", \"forecastproductivity\", \"Acquisitions\", \"FedRes\", \"backlot\", \"market_rout\", \"IHijjit\", \"unheralded\", \"arlibk\", \"Society\\u2030\\u00db\\u00aas\", \"D.C.,CEO\", \"inagakitokyo\", \"ConEd\", \"Siaca\", \"slalevm\", \"besieged}arKe\", \"SCHIP\", \"Couriers\", \"Alfandre\", \"39-a\", \"habitual\", \"Velcade\", \"att\", \"now?\\u2030\\u00db\\u009d\", \"UFW\", \"way?With\", \"retailers\\u2030\\u00fb\\u00aa\", \"Helmut\", \"abo\", \"poinsettia\", \"\\u2030\\u00db\\u00cfLifeline\\u2030\\u00db\\u009d\", \"\\\"Other\", \"trod\", \"Dome\", \"Harajli\", \"rate\", \"inattention\", \"Kirkpatrick\", \"market\", \"fall\", \"year\", \"U.S.\", \"rise\", \"interest_rate\", \"company\", \"dollar\", \"economy\", \"high\", \"bank\", \"price\", \"share\", \"quarter\", \"government\", \"low\", \"economic\", \"Sharif\", \"3\\u2030\\u00db\\u00f7\", \"^declining\", \"Similiar\", \"recovery\\\"?confuse\", \"fiberglass\", \"RFA\", \"21the\", \"Craigslist\", \"rachet\", \"ConsOG\", \"bush\", \"NHL\", \"Lao\", \"works\\u2030\\u00fb\\u009d\", \"stories.\\u2030\\u00db\\u009d\", \"institunot\", \"\\\"Later\", \"expressway\", \"Stales\", \"voiceless\", \"mood.2\", \"C1The\", \"the[rose\", \"15,890.10.\\\"this\", \".'mpi'Mitm\", \"Borlaug\", \"roundup\", \"14.meanwhile\", \"Bakins\", \"market,\\u2030\\u00db\\u009d\", \"infla-\", \"Mowat\", \"fondue\", \"bereft\", \"Dodgeville\", \"\\\"Betty\", \"systems.\\u2030\\u00fb\\u009dwork\", \"Entitlement\", \"Hour\", \"ramrod\", \"bellow\", \"100,000.region\", \"dialysis\", \"total-\", \"week,\\u2030\\u00db\\u009d\", \"responder\", \"3/8.while\", \"seymour\", \"Hens\", \"ury\", \"Vic\", \"Image\", \"bitter\\u2030\\u00fb\\u009d\", \"Reserve_Banks\", \"\\\"President\", \"Pilenzo\", \"Anagnos\", \"equivalently\", \"scholarwho\", \"fungus\", \"radio\", \"Dealogic\", \"domestic_demand\", \"Pailleret\", \"fastenal\", \"aspire\", \"Cornell\", \"tax_bracket\", \"dollar\", \"Liberty\", \"import_export\", \"schooling\", \"tribute\", \"admittedly\", \"Mike\", \"share\", \"person_familiar\", \"Istithmar\", \"chip_stock\", \"Tenpas\", \"1998)this\", \"way\\u2030\\u00db\\u00d3but\", \"tike\", \"restyle\", \"frangoshong\", \"boston\\u2030\\u00fb\\u00f3the\", \"nonserious\", \"1995)looking\", \"allowable\", \"5%-5.5\", \"developmentsiraq\", \"AOL.The\", \"1,000-page\", \"Loest\", \"offerk\", \"doing?well\", \"WisGas\", \"preeminence\", \"Compo\", \"pg\", \"lh\", \"indignant\", \"NekimkenVice\", \"aod\", \"Noh\", \"+2.0%Unit\", \"Autolrol\", \"secede\", \"butterfly\", \"estranged\", \"7,-286,001,150\", \"wolud\", \"12-inflation\", \"homeless,\\u2030\\u00fb\\u009d\", \"Workers\\u2030\\u00db\\u00aa\", \"Nashashibi\", \"BurnuPS\", \"\\u2030\\u00fb\\u00f7tor\", \"simultaneously.\\u2030\\u00fb\\u009d\", \"fdr\\u00e5\\u00c8sk9,68\", \"33j4\", \"impotent\", \"Visions\", \"ClearVision\", \"156.64.a\", \"Goldschmidt\", \"io47k\\u2030\\u00db\\u00aa\", \"decorator\", \"subc\", \"Martinsville\", \"saintly\", \"35-\", \"Foundation\\u2030\\u00db\\u00aas\", \"RTKL\", \"itself.\\u2030\\u00fb\\u00eflooke\", \"Win95\", \"Gemini\", \"ambiguously\", \"1957\\u2030\\u00fb\\u00f3from\", \"U.S.\", \"45-minute\", \"misconduct\", \"man-\", \"Seaboard\", \"inc.--fully\", \"harbor\", \"company\", \"Associates_Inc.\", \"directly\", \"capital\\u2030\\u00db\\u00d3cash\", \"Thad\", \"Bide\", \"NHL\", \"Geist\", \"Zyuganov\", \"ConsOG\", \"eloquence\", \"aUrition\", \"Twomey\", \"gen\", \"shoddy\", \"Groucho\", \"Terrance\", \"\\\"prerecession\", \"forecastproductivity\", \"allowable\", \"possible,1\", \"Pantheon\", \"de-^\", \"wheolf\", \"16.ios09\", \"speculating\", \"sidor\\u2030\\u00db\\u009d\", \"America's\", \"Bly\", \"Lui\", \"Huynh\", \"ethereal\", \"\\\"Dayton\", \"overseas.\\u2030\\u00fb\\u00efexchange\", \"Oatscp\", \"Poor\\u2030\\u00db\\u00aas.index\", \"86-point\", \"Wash-\", \"thetbe\", \"beliefs\\u2030\\u00fb\\u00f3as\", \"11\\u2030\\u00fb\\u00f3\\u2030\\u00fb\\u00aawall\", \"months\\u2030\\u00db\\u00d3even\", \"uing\", \"too\\u2030\\u00fb\\u00f3$19.50\", \"strike.\\u2030\\u00db\\u00aa\", \"Anuradha\", \"irrespective\", \"Ehrenkrantz\", \"Uninsured\", \"23-aug\", \"York_Times\", \"34b\", \"CrslFo\", \"1987.banker\", \"0.5%.trading\", \"Housekeeping\", \"Mildred\", \"Frumberg\", \"Lynchburg\", \"foolishness\", \"perceived\", \"cuisine\", \"Organizations\", \"YORK_June\", \"employment?john\", \"in^o\", \"Foundry\", \"precautionary\", \"Richard_B.\", \"final_hour\", \"Leslie\", \"year\", \"drop\", \"price\", \"laptop\", \"financial_condition\", \"Digene\", \"Lesher\", \"yelling\", \"1,000-page\", \"order.\\u2030\\u00db\\u009d\", \"bretheren\", \"shrib\", \"Rossi\", \"BancOklahoma\", \"at*)\\u2030\\u00fb\\u00f3report\", \"million).Canadian\", \"aofficial\", \"Kiplingers\\u2030\\u00db\\u00aa\", \"Chicagoan\", \"taking,\\u2030\\u00fb\\u009d\", \"Ihoir\", \"conformance\", \"2*i\", \"inflation?It\", \"Baupost\", \"roundup\", \"giver\", \"trickery\", \"2004.\\\"the\", \"butterfly\", \"3,512.000\\u2030\\u00fb\\u00f3i\", \"imbibe\", \"tike\", \"6'/a\", \"ADGC\", \"Spadaccia\", \"Shami\", \"\\\"Brimmer\", \"Mortgage.com\", \"crossword\", \"Estate\", \".\\u2030\\u00db\\u00d3\", \"northwestern\", \"dlc).democrat\", \"BIS\\u2030\\u00db\\u00d3\", \"dullness\", \"dalian\", \"Cogan\", \"Malgoire\", \"Duvalier\", \"Underhill\", \"avoidance,\\u2030\\u00fb\\u009d\", \"history.\\u2030\\u00fb\\u00f7the\", \"foundation\\u2030\\u00db\\u00aas\", \"Gasser\", \"250-share\", \"euro]50\", \"Alpha\", \"pf\", \"provocation\", \"attutude\", \"prob-\", \"Federa\", \"4::k\", \"shed_job\", \"Federal_Reserve\", \"Fed\", \"airline\", \"year\", \"Ohio\", \"point_close\", \"low\", \"plummet\", \"appropriation_bill\", \"price\", \"company\", \"rate\", \"U.S.\", \"Mr.\", \"quarter\", \"rise\", \"billion.\\u2030\\u00fb\\u00efthe\", \"ECU\", \"plush\", \"Bakins\", \"Satoshi\", \"AWatdnt\", \"spiritually\", \"elitist\", \".60b\", \"a'difficult\", \"interest\\u2030\\u00fb\\u009d\", \"Lao\", \"153.20.The\", \"FHA-\", \"ierving\", \"LevisohnBond\", \"challenge.\\u2030\\u00db\\u009d;The\", \"6*s\", \"filiate\", \"497s\", \"\\u2030\\u00fb\\u00f7people\", \"Kconnmie\", \"Pg\", \"rcl^]g\", \"3v2\", \"\\u2030\\u00db\\u00aa\\u2030\\u00db\\u00a2<s07\", \"Arlene\", \"Olinger\", \"slicker\", \"cdly\", \"Brorson\", \"Climb\", \"\\u2030\\u00db\\u00cfinvestors\", \"BavswRt\", \"phasing\", \"i\\u2030\\u00fb\\u00aarodut\", \"industrlal\", \"NossiterThe\", \"aCornco\", \"\\\"city\", \"Pord\", \"decade\\u2030\\u00db\\u00d3from\", \"report\\u2030\\u00fb\\u009d\", \"ers1\", \"e>:N\", \"Upshaw\", \"constable\", \"BrfsES\", \"locations,\\u2030\\u00fb\\u009d\", \"House.\\u2030\\u00db\\u009dCaddell\", \"newfound\", \"Tyco\", \"bckavsl\", \"thrum\", \"trade\\u2030\\u00db\\u00d3that\", \"350.your\", \"launcher\", \"11.while\", \"Mobil_Corp.\", \"matic\", \"fiasco\", \"contradic\", \"exhortation\", \"trading_volume\", \"President_Boris\", \"help\", \"dollar\", \"fall\", \"U.S.\", \"rail\", \"Glenayre\", \"\\u2030\\u00db\\u00cfcBeckless\", \"PetersonThe\", \"3v2\", \"Compo\", \"Pampers\", \"them.\\u2030\\u00db\\u009dMore\", \"Spiegel\", \"Queen\\u2030\\u00db\\u00d3but\", \"Wanniski\", \"6.65%.\\\"clearly\", \"8g.16.the\", \"september.|\", \"52vs\", \"shrib\", \"\\\"Dayton\", \"rehashing\", \"Loest\", \"Reddy\", \"escent\", \"Yales\", \"fiberglass\", \"blowhard\", \"60i.stocks\", \"1995)looking\", \"Capi-\", \"con-\\\\islation\", \"1\\u00e5\\u00a3j\", \"Calypso\", \"3,512.000\\u2030\\u00fb\\u00f3i\", \"^.It\", \"disorganize\", \"manservant\", \"MeltzerWould\", \"anywhcrc-\\u2030\\u00fb\\u00aa-else.\\u2030\\u00fb\\u009d\", \"S&L.The\", \"Uniquely\", \"Ritholtz\", \"year?first\", \"Horizons\", \"345,000.\\\"the\", \"Petersen\", \"Banque\", \"14v\", \"peking\\u2030\\u00fb\\u00aa\", \"Chileans\", \"slocli\", \"Midweek\", \"variously\", \"Rodgin\", \"splinter\", \"Consequences\", \"shipbuilding\", \"do.\\u2030\\u00db\\u009dKennedy\", \"Ina\", \"BCE\", \"Allen\\u2030\\u00db\\u00aas\", \"Brookes\", \"euro]990\", \"1-year\", \"ag\", \"bemuse\", \"television_network\", \"endear\", \"slave\", \"surly\", \"irrationally\", \"sharply_lower\", \"adjournment\", \"U.S.\", \"shorthand\", \"Bogema\", \"mit\", \"politico\", \"previously\", \"Litton\", \"2.22.the\", \"recovery\\\"?confuse\", \"nonacademic\", \"NHL\", \"Brunei\", \"AngAGd\", \"\\u2030\\u00fb\\u00f7\\u2030\\u00fb\\u00f7will\", \"robbery\", \"ttt\", \"that\\u2030\\u00db\\u00aall\", \"aod\", \"disorganize\", \"clodhopper\", \"BurneNEW\", \"miy\", \"landscaper\", \"Loest\", \"PHILADELPHIA\", \"3.96%.---payrolls\", \"factors\\u2030\\u00fb\\u00f3point\", \"monthsOn\", \"Bide\", \"commmercial\", \"7'/as03\", \"Tingo\", \"Pokphand\", \"sloiic.il\", \"PrettyThe\", \"1998)this\", \"disturbedrab\", \"roadside\", \"debt\\u2030\\u00fb\\u00f3that\", \"lntertnay\", \"bdilder\", \"aggra-0\", \"\\u2030\\u00db\\u00cfserve\", \"peculiarly\", \"20\\u2030\\u00fb\\u00f3late\", \"Raj\", \"again.last\", \"Mirror\\u2030\\u00db\\u009d\", \"\\u2030\\u00db\\u00cfSocial\", \"dow-.jone\", \"\\u2030\\u00fb\\u00a2*-p*ri*nc\\u00e5\\u00e7\", \"execu-\", \"theotlicial\", \"600-dollar\", \"948.94.other\", \"PUERTO\", \"Cartier\", \"th%nd\", \"AvilaThe\", \"brainpower\", \"Escherich\", \"\\\"stimulus\", \"BobEvn\", \"keeper\", \"tobusiness\", \"allowj\", \"Noah\", \"mid-1978\", \"rate\", \"year\", \"filibuster\", \"does.\\u2030\\u00db\\u009d\", \"company\", \"maximum\", \"Nobel\", \"expect\", \"Yancy\", \"farmhand\", \"U.S.\", \"buy\", \"E.\", \"home_builder\", \"market\", \"economic\", \"growth\", \"price\", \"cut\", \"report\", \"way\", \"stock\", \"month\", \"add\", \"auction\", \"increase\", \"Glenayre\", \"3fe\", \"auctionedeconomy\", \"coronary\", \"mills\\u2030\\u00db\\u00d3Japan\\u2030\\u00db\\u00aas\\u2030\\u00db\\u00d3and\", \"3v2\", \"1993.joe\", \"year.\\u2030\\u00db\\u00cfI\", \"1/4%.other\", \"aofficial\", \"Sakhrani\", \"NewswiresEmboldened\", \"year\\u2030\\u00db\\u00d3was\", \"sunlit\", \"Thurmond\", \"Lantz\", \"landscaper\", \"Camaguey\", \"hogwash\", \"5ft93\", \"Jollay\", \"Icos\", \"Scotsman\", \"close-\", \"s85\", \"Episcopal\", \"shrib\", \"supercharge\", \"offerk\", \"Judicate\", \"box-\", \"^he\", \"ek\", \"americanized\", \"Comfd\", \"32'4\", \"\\u2030\\u00d0\\u00caBusiriesshas\", \"Turin\", \"Meer\", \"Mahalingam\", \"\\u2030\\u00db\\u00cfrecurrent\", \"BYTE\", \"\\u2030\\u00fb\\u00efcrunch\\u2030\\u00fb\\u009d\", \"Kong\", \"\\u2030\\u00db\\u00cfreal\\u2030\\u00db\\u009d\", \"hous\", \"FUND\", \"nation,\\u2030\\u00db\\u009d\", \"underpriced\", \"Amrtrst\", \"3500.\\u2030\\u00db\\u00cfInvestors\", \"14\\u2030\\u00fb\\u00aa\", \"rates.the\", \"mid-1975\", \"motorcar\", \"unrelentingly\", \"complicit\", \"XL\", \"Priday\", \"bathing\", \"Force\", \"Loan\", \"nemesis\", \"financial_regulation\", \"rebuild\", \"TRAC\", \"hover\", \"demand\", \"year\", \"high\", \"mortgage\", \"damage\", \"tlietreasury\", \"Tm\", \"C1The\", \"september.|\", \"5%-5.5\", \"COMPUTER\", \"\\u2030\\u00fb\\u00efstagflation.\\u2030\\u00fb\\u00aa\\u2030\\u00fb\\u00aa\", \"Ace\", \"drone\", \"RFA\", \"roundup\", \"morning\\u2030\\u00db\\u00d3some\", \"Mout\", \"PMC\", \"Pere\", \"Terrance\", \"year\\u2030\\u00db\\u00d3was\", \"close-\", \"Joffe\", \"heedlessly\", \"3\\u2030\\u00db\\u00f7\", \"shrib\", \"con-\\\\islation\", \"yestcrcray\\u2030\\u00fb\\u00aapassc\", \"traitor\", \"ap)\\u2030\\u00fb\\u00f3secretary\", \"role\\u2030\\u00fb\\u009d\", \"Lao\", \"employment\\u2030\\u00db\\u00d3a\", \"optimally\", \"1.00a\", \"then.w\", \"Inch\", \"Dianne\", \"4vfe\", \"Pathmark\", \"lligh\", \"1^ocks-\", \"BOMA\", \"B8DO\", \"Footwear\", \"bleakest\", \"McGwire\", \"\\u2030\\u00db\\u00cfmovie\", \"4.6%.yesterday\", \"Barker\", \"year\\u2030\\u00db\\u00d3that\", \"exporting\", \"browser\", \"PAYING\", \"employment\\u2030\\u00fb\\u00f3because\", \"courtroom\", \"Saks\", \"/P)._The\", \"miniscule\", \"adrift\", \"perplexing\", \"Barnegat\", \"Reflation\", \"state-\", \"regimen\", \"this,\\u2030\\u00db\\u009d\", \"questioning\", \"Engine\", \"higher\\u2030\\u00db\\u00d3even\", \"coastal\", \"annual_convention\", \"legend\", \"reform_package\", \"U.S.\", \"26-week\", \"duration_gap\", \"New_York\", \"Mr._Reagan\\u2030\\u00db\\u00aas\", \"art\", \"market\", \"battlefield\", \"state\", \"year\", \"stock\", \"month\", \"Pope\", \"Pere\", \"less.\\u2030\\u00fb\\u009d\", \"Glenayre\", \"Jeffries\", \"Jinping\", \"18-county\", \"eloquence\", \"Zyuganov\", \"Schroders\", \"WSJ.com\", \"trickery\", \"Choquette\", \"Endicott\", \"frangoshong\", \"TPG\", \"LinkedIn\", \"\\u2030\\u00db\\u00cflust\", \"ne&F-\", \"1995)looking\", \"cnbc\", \"BearCrk\", \"mid-1991.hyman\", \"bondsman\", \"nab\", \"2575.49.the\", \"CoreLogic\", \"dressier\", \"Ave\", \"factors\\u2030\\u00db\\u00d3including\", \"BasES\", \"microenterprise\", \"easiness\", \"Hexaware\", \"1995.recent\", \"RomTelecom\", \"subcommittee\\u2030\\u00db\\u00aa\", \"McInturff\", \"Cushman\", \"\\u2030\\u00db\\u00cfloyal\", \"deprecate\", \"--Offer\", \"fees.\\u2030\\u00db\\u00aa\", \"Bunting\", \"funded''by\", \"unfurl\", \"eindhoven\", \"Greyhound\", \"Mehdi\", \"55.98.of\", \"U.S.\\\"Looking\", \"\\\"Foer\", \"decorator\", \"goods\\u2030\\u00db\\u00d3and\", \"Telling\", \"40-hour\", \".Tones\", \"Chamorro\", \"panded\", \"Aronson\", \"tag\", \"oils\\u2030\\u00db\\u00d3and\", \"usury\", \"Halls\", \"McChes\", \"india\", \"because^\", \"Sawicz\", \"injunction\", \"investor_brace\", \"come\", \"oversight\", \"Ablin\", \"Google\"], \"Freq\": [6476.0, 3341.0, 3769.0, 3353.0, 3397.0, 3183.0, 3227.0, 2843.0, 2735.0, 2622.0, 2466.0, 2785.0, 2081.0, 2153.0, 2608.0, 2420.0, 2045.0, 2378.0, 2350.0, 1790.0, 2096.0, 1905.0, 1694.0, 1870.0, 1737.0, 1968.0, 1976.0, 1740.0, 1809.0, 1776.0, 34.56639170178346, 27.62250842936794, 69.5616957458483, 56.793075852921575, 28.233842585333452, 18.290707278692285, 23.912612270968122, 56.679418369133955, 22.479118708617044, 39.401786247113, 300.0180763894627, 17.51074104422216, 52.41045505114047, 33.817751852487184, 17.85212776305425, 41.59490263727599, 68.79561323339618, 18.70730679891696, 25.165759472883487, 10.798776188925906, 95.3033405915904, 51.52654976178851, 133.4488459035108, 157.35279525971808, 20.058215901575878, 10.702130375247622, 26.426651024570983, 10.957133565732388, 34.31323805325014, 17.75234249490752, 3065.376849218177, 6245.418125056554, 3634.679503731457, 3114.731340613403, 3233.6023581205204, 3219.623236041671, 2271.0128151158765, 2516.989786772659, 3065.244235036326, 1911.9399423807424, 771.2421639896381, 1292.6845010779432, 1021.2809444049001, 2683.8360824939423, 1718.5499023971265, 1547.5076289661101, 1821.730582633918, 2735.0909296959, 1730.5447462851232, 2375.7493160421714, 2523.9764117829177, 1681.3990056974228, 2290.8206906001583, 245.29898347967037, 592.4237920461372, 1577.2685808050062, 1897.7043775989885, 2005.0643829651958, 3256.3553699564386, 2326.4033571036584, 2621.4034317495143, 2017.0861110698063, 1968.1966088425934, 1802.1144413008578, 1744.2822028747978, 2066.943609126389, 1831.1182747885755, 3.115271872910165, 3.3682504837628975, 1.8765024336196037, 2.5675036265018294, 2.504361940536133, 2.671363926379999, 2.6877451474800185, 1.7837979790337464, 1.1035491232843726, 1.7295136426683158, 1.6839536782381082, 1.3385263364001143, 1.8674385190622755, 1.611479485177325, 1.718718762569126, 1.5504527428696948, 1.2620650447954858, 1.0657922140651928, 1.8016962848302351, 1.0611588329987942, 1.0170394756553272, 1.476857756081333, 1.6408028298557489, 3.5307581001127253, 1.0143113804462294, 1.2570044970265684, 1.5982398576531023, 1.7747602088928323, 1.319810663934319, 1.4113068451139117, 1.6531875896755401, 2.2982526269447163, 1.5886366182276468, 2.0740542976818315, 3.7733588381302354, 1.8584316843254305, 1.8714765672790532, 1.854022471670626, 1.9226834459519444, 2.153507885235471, 1.9881472562298712, 2.096177191768391, 2.255835925128957, 3.140410958284698, 5.1159198701984865, 2.125473619171829, 3.0256508060680516, 2.1749088013282947, 204.60486185981063, 25.91765202470157, 123.99092571998717, 98.8204357954588, 114.82529888443021, 99.33055693459809, 101.3542756174867, 100.43171057967058, 84.09019062127538, 90.2293079511173, 86.55093625816842, 89.55604092135675, 93.2718639364184, 74.33302497675437, 81.80492815369449, 78.30053510272191, 76.77842376230926, 69.51866680173731, 64.3196456835482, 65.74159166402545, 68.86040842086187, 62.61246395635899, 48.639157498739145, 76.81263932664525, 50.429154407183205, 57.37240007509758, 62.19917820963605, 58.887028546840085, 56.843649294284006, 52.57743413588032, 55.14487785009726, 55.85423714365786, 52.33033716161747, 0.27870682568701843, 0.47282706710707256, 0.6327414245955405, 0.7045194045078609, 0.461446628331319, 0.2298249226737485, 0.5760501014054967, 0.4411314511945728, 0.2773500091846943, 0.3444820512964344, 0.38112430977226436, 0.23685187828639828, 0.13631398601726286, 0.2610971381654634, 0.3881679795476955, 0.2807014130016352, 0.1937296906581272, 0.33297880737321106, 0.13180557970634008, 0.28155679712576365, 0.26101594496987457, 0.23863205119849124, 0.20954525205378727, 0.24298324366731705, 0.3860688284381799, 0.19185997691370782, 0.21745901848212054, 0.11821697967108173, 0.26846556390047394, 0.16174839588127685, 0.4318515612285523, 0.3697958079735222, 0.2966228234441439, 0.39929179857193486, 0.43773714783145756, 0.352578265926504, 0.6080472099646784, 0.5044670729574184, 0.3386636835985111, 0.39319885008146976, 0.3889708531439567, 0.48500478465880487, 0.43001772739326877, 0.6147601289580052, 0.4925436351264627, 0.460614830561673, 0.5949699735771473, 0.40488725461204733, 0.5248492767313941, 0.5310923895510195, 0.6312417967596811, 10.22004481903466, 9.844268888489324, 9.753548901157043, 12.169842487741237, 9.765265557448135, 8.89475474679002, 0.5993939276783993, 7.372118254502752, 7.851347904429614, 6.493000368325993, 7.013296329794242, 2.652596831587777, 5.986685269593218, 5.426709741562324, 5.961957377787126, 5.974172588691936, 5.245967139449412, 5.951005497887338, 5.157543982124354, 5.103880659250488, 5.188025625905996, 5.562147200724586, 4.996334519885804, 5.423726544737344, 3.9461356793919027, 3.982608383902205, 4.885502641320363, 4.702769642837442, 3.9403734836130218, 4.556504264107492, 4.174256129669842, 3.815479059880231, 4.236052908678127, 4.082237056710763, 0.34719160959988893, 0.3404659285843212, 0.24036256864516084, 0.4535524532979205, 0.31442795483733293, 0.30908800991239677, 0.3525252509989041, 0.3569809380514212, 0.28958491308745704, 0.3570284428156637, 0.3090932972560877, 0.2694122549281249, 0.24559356002640828, 0.26802891962373177, 0.18476364597946449, 0.25267070312472084, 0.4161424935373601, 0.21887715239182892, 0.3219820937237273, 0.43494543181848205, 0.3113328443080409, 0.3184179074040347, 0.3439891097732085, 0.2557113808073094, 0.34504294717476097, 0.21444453500404992, 0.14711268560953653, 0.21806240694487417, 0.38075332847603754, 0.23746510999649023, 0.33752187067923234, 0.39508620866434385, 0.43341227049059516, 0.39534549543813724, 0.4362759053021732, 0.459671954944415, 0.42201005198243563, 0.4820111863085365, 0.4287771597675115, 0.469815138278449, 0.3610538084626068, 0.5279983106359861, 0.7408424783529672, 0.36868435594619786, 0.43895535697532845, 0.6127327386287891, 6.478982512707637, 0.7318215668218265, 8.537476727692463, 6.223360572150691, 6.170613919416774, 6.059560798514279, 3.5920775107845078, 5.323478793752848, 4.556840274109799, 5.207695492851084, 4.774505126372862, 4.375494787861949, 5.0335912420003375, 4.397498182247293, 3.6117211803221325, 3.8938184771604, 3.6105768845758988, 3.1243859964012017, 3.2355120561266553, 3.494699075925537, 3.0810230405768726, 2.752149460885239, 2.7945048546735474, 3.07417153555916, 2.8096006130707405, 0.9662683747337939, 2.939468532360846, 2.4185360755935577, 2.750274737251337, 2.990626481378384, 2.9196551547450507, 2.746741844658964, 2.9028210212456194, 0.21310371539442283, 0.18685211179494218, 0.1935124414125623, 0.151890067964775, 0.26363029249809655, 0.1578987792507591, 0.14602809916145543, 0.10232643971561892, 0.15385947581425347, 0.14896279744078814, 0.2816767500956611, 0.2469567686391508, 0.15927526119150975, 0.18066475170831475, 0.16074753236013853, 0.3051610262680775, 0.12489352642600736, 0.2528638510889799, 0.10331700791396915, 0.17162137940666672, 0.21365929465511505, 0.2448681106390525, 0.1459192399497483, 0.2732915699977059, 0.1829232740433922, 0.10467064938074054, 0.23463717647350332, 0.11887551382838216, 0.3262537932945164, 0.09524790330849617, 0.21968067352249385, 0.4223010514164075, 0.25250114486149067, 0.24418991736994647, 0.20731549682468514, 0.23186338243694862, 0.2505691092964316, 0.28877926753777006, 0.2513780233063913, 0.23196740738685884, 0.33924590149529393, 0.24463278897577637, 0.34388783645712573, 0.5636538010381681, 0.3233051242691575, 0.2484139060659933, 0.3594915979551764, 0.3652144098200143, 0.3005508865355172, 0.36434679511111695, 3.2987962860907665, 0.28377748560719573, 3.4339058813036294, 3.1078641418331334, 0.34623085816783145, 2.7414133012923925, 2.958248774958857, 1.6284462356910305, 2.0953948737990595, 0.31462782945007844, 1.7708788815649394, 1.9679988978569636, 1.8774861727188654, 1.5437787634898568, 1.342196170833156, 1.5967929766044884, 1.4307590518328004, 1.4960570586710034, 1.5855074066156152, 1.326667399089167, 1.4603230149761883, 1.2294716551142808, 1.2122924821573997, 1.3434527855182294, 1.3081133757733574, 1.4713773897820481, 1.3697591904137543, 1.0925994315329004, 1.3011507385689018, 1.2955260856889674, 1.2321303555903296, 1.0777155666716396, 1.1255646683041136, 1.1700252436967948, 1.1294769096412558, 0.14449712436450582, 0.10047357345041236, 0.07023475934314856, 0.11811324025612059, 0.14707002460332355, 0.11619665022518438, 0.1784205103832662, 0.20156194954704096, 0.10009428336182336, 0.2294228631958623, 0.09799261718401106, 0.1373904505219317, 0.16942509176712622, 0.06344953734002495, 0.12454388283347602, 0.22843810772010284, 0.08318991527620491, 0.1334970175194174, 0.15090753865996367, 0.082481714358231, 0.1342120225878851, 0.10661615014574635, 0.16239270326770736, 0.17992790505395684, 0.09305575198045583, 0.12402586455316306, 0.10421787601301206, 0.09337186845902642, 0.1900950768745145, 0.13086825738011115, 0.14679689875169896, 0.15102852292456326, 0.21771543628611773, 0.1415311070439202, 0.148517511057846, 0.22731793623860533, 0.19313284680895204, 0.15176522547410423, 0.27338181347135976, 0.17069263019918063, 0.3674953262560855, 0.22729595978125539, 0.22402840167332386, 0.23291193419842104, 0.18047389053344803, 0.200303931732633, 0.19535141826494254, 0.18576999380300946, 0.2007450193661498, 0.2226601552050017, 0.204146463812119, 1.87647580014216, 0.2051037348101779, 1.3684032222336306, 0.860046092828085, 1.2737027390534839, 1.166703983093379, 1.1755240727899492, 1.0119411003808827, 0.8191630289077081, 0.7233249795101956, 0.837792707559241, 0.8538888645212033, 0.7317752087527886, 0.6878190530636221, 0.680839779261748, 0.6870392198421565, 0.7269968980405604, 0.6308342683181422, 0.6444082326950044, 0.6292692119143946, 0.5602272942434537, 0.5890861536944311, 0.5832403010864746, 0.5045966635806213, 0.5894770950653994, 0.5261653175901124, 0.5967663591305419, 0.6009362310304431, 0.5319319437986284, 0.567969151512389, 0.5646388011814087, 0.5477503013919386, 0.05402848485808972, 0.06035849377223035, 0.07405099474300937, 0.0408864143810795, 0.055440505650189445, 0.11378708544817828, 0.06203884578926063, 0.03801909010869014, 0.05860607290379322, 0.054134991900573005, 0.13165109697137986, 0.06842689557077322, 0.037582056378269904, 0.08436729570327024, 0.032538339923271195, 0.038197287236601686, 0.11787544167257082, 0.045584484910263914, 0.046631835294925705, 0.03066875409134294, 0.0711111176905346, 0.04720734042387203, 0.07848309494164464, 0.06412578381450221, 0.037246068607998596, 0.08022136542381451, 0.062290517022658275, 0.03401812048957512, 0.03137620904448689, 0.03837119618732597, 0.07701060066686446, 0.060383067340460395, 0.049653175634518106, 0.10250689882703404, 0.07529752850937801, 0.06982333372740751, 0.10875526275017192, 0.11730341349781871, 0.0757316940394817, 0.10475327595953535, 0.0742341658549395, 0.11759083537373194, 0.07976892750209827, 0.08185926824562267, 0.10338188056741124, 0.1589168888213084, 0.12042058899327887, 0.09775398842944988, 0.09015702567954048, 0.09021688529211494, 0.09982345725284394, 0.1109080107976299, 0.10392932746290647, 0.10355828314550908, 0.11400360362479946, 0.0930605234668771, 0.09369993913261697, 0.09290777656126778, 0.08899451320766583, 0.09215305498244594, 0.0979459794062984, 0.2517834866581895, 0.22282316768726068, 0.09236135164696106, 0.20622213121477576, 0.09920852292739578, 0.09644065534091786, 0.18207335782858225, 0.18455467104355697, 0.11645424585478838, 0.14398863942128612, 0.14626176835041865, 0.1343149200283904, 0.16105742329317602, 0.10163272865796495, 0.13665164970872648, 0.14121386188244922, 0.1353038487998109, 0.1332368076019954, 0.12701842185149512, 0.13075594147739536, 0.12337376376755323, 0.12605302823357215, 0.12194280476975729, 0.12051400907567311, 0.11839537342257184, 0.11896172471806764, 0.11771115876535755, 0.11728704054396334, 0.08626343883166533, 0.08887639082112503, 0.05355677048800258, 0.04018962378835158, 0.04485259436835835, 0.0622546953679351, 0.06557775123194849, 0.06679906348406273, 0.050543054259012184, 0.046830313106008145, 0.07259059845944556, 0.053895530571814516, 0.06236111744213249, 0.03693917853260263, 0.061258072279528696, 0.0782056428990932, 0.04173072928464914, 0.034924097896254724, 0.036021103645278475, 0.037157664712946806, 0.07105621823752901, 0.07692263237216176, 0.03784239012749989, 0.057312371688859325, 0.029997966451599464, 0.029010337372078265, 0.03342178210674118, 0.025559280829601624, 0.036739427557044145, 0.07000493554546708, 0.07272065019010913, 0.07705350491696097, 0.06766180516604475, 0.06466272517487223, 0.07512929940911009, 0.11806883469597734, 0.07714924764784024, 0.08938329836539217, 0.07955938502585869, 0.11129404573828437, 0.10871454810111875, 0.10140118270911183, 0.09325194492251836, 0.09251397614263286, 0.09709747951685276, 0.10282071239347002, 0.10913609133389984, 0.10238185416118958, 0.1084444867748377, 0.09434230302562144, 0.08909260015785543, 0.08549582824267579, 0.09033134114306668, 0.102356160260758, 0.11288676141686013, 0.10019798449428664, 0.09930918284956712, 0.10404933181742557, 0.11394840873536072, 0.09786863511746095, 0.10118386795454606, 0.09728223175521966, 0.09607112798561102, 0.09750217537630466, 0.19389691167327036, 0.09623772114223134, 0.14797569747357048, 0.13553783088649082, 0.1346083463298732, 0.10735181400847281, 0.12051021411475331, 0.09951231845887414, 0.11518514231030655, 0.11346480035074438, 0.11296560590347085, 0.10207816913390967, 0.09794948986409478, 0.05944414126885844, 0.07530512925993657, 0.07104507696621418, 0.04887638901718682, 0.06124644233388698, 0.05399313918609647, 0.07097615822265965, 0.0671790549529753, 0.03376285605252912, 0.032766737211319966, 0.03727326010927788, 0.05586863020415142, 0.059987501099860854, 0.03284614205644239, 0.039468311994472836, 0.04708904722900586, 0.06952672496109945, 0.034396860803790716, 0.05117590113964856, 0.05088716492139955, 0.07333123534003148, 0.03362961148721079, 0.08522823067529944, 0.05119422733423972, 0.03428120663581648, 0.0280598304147854, 0.03302686669844398, 0.06027969829504792, 0.046755717997048425, 0.04828055096933288, 0.11033809602798486, 0.055367817373799616, 0.05556700571449239, 0.07286839756784157, 0.09298263762732888, 0.07965366788520521, 0.06577985929320905, 0.05551869731933277, 0.07591441333459403, 0.07305594291552331, 0.06680796865712527, 0.06987656334218859, 0.09867268554548178, 0.08736979361128358, 0.08208488424021029, 0.09047660384184662, 0.07791086906505673, 0.09638436492788807, 0.06987545755103176, 0.07493343525686187, 0.07613546523788915, 0.06995953042131105, 0.07569355382786343, 0.1914424586054283, 0.15877132887393908, 0.08013423702600878, 0.14363379574234764, 0.11678508012482804, 0.10762842353489782, 0.10441210754879279, 0.11256741956983536, 0.10408311645451145, 0.10188488502994042, 0.09836371767651826, 0.0976044068811724, 0.09463336008124568, 0.09497014580599117, 0.08935026686229276, 0.09067311192796922, 0.08700386018692287, 0.08443743567782239, 0.08246385034579193, 0.08181653165941026, 0.07916925488193995, 0.07542292253098434, 0.08489311894432264, 0.057116507870323414, 0.07285185046285711, 0.05092297055124637, 0.06519833742639794, 0.04623239644594853, 0.07227677784829287, 0.040412110893636125, 0.05017395139567346, 0.024101335880348695, 0.0801295003238643, 0.05641638901938531, 0.03395056479178595, 0.05389577085332561, 0.06287998170220647, 0.04070155678680305, 0.04078845454122012, 0.048833182525238855, 0.03309990687977044, 0.031866135018670166, 0.05670853302966535, 0.04278367259462352, 0.030644021614517902, 0.07481965717404684, 0.060952983853325246, 0.05096937403276874, 0.025661644154692766, 0.04523388281287278, 0.06274113922820987, 0.0743153214748229, 0.05082180227445207, 0.0534891246659774, 0.08050024608455474, 0.0720042900082344, 0.08697402070176752, 0.1116123833784788, 0.06407799909230807, 0.0800015794418927, 0.08098050145406255, 0.09735927407883029, 0.07315009423533536, 0.07617905565984547, 0.07452661680026364, 0.0732027276149115, 0.07669547193383901, 0.08698638873726758, 0.08172949396650901, 0.08619711269446662, 0.0793083685050448, 0.0799272274893585, 0.08478516481558347, 0.08152481778194258, 0.06603435959733865, 0.1823132950778306, 0.07254550822003557, 0.07855899787835598, 0.14816480315413671, 0.12900024742608046, 0.13669527414555596, 0.12813054605100424, 0.12398655851573963, 0.12021208191254389, 0.1188821999329034, 0.11490859542435732, 0.11628681024321053, 0.11389551157290685, 0.1098376493973344, 0.11192126355046735, 0.10475705411300142, 0.08851608531296679, 0.0873553649298346, 0.08232052704995081, 0.0802472995327399, 0.05813255737130883, 0.0535866651932293, 0.05849711835706761, 0.045363536044454325, 0.027858799473326326, 0.04151889807666016, 0.022782772125326846, 0.03148517435495567, 0.03136813892637025, 0.03108334928919068, 0.026245660222834526, 0.04319380951716896, 0.025054679712949203, 0.03557948785521697, 0.050844384217662006, 0.022130010418569327, 0.03234820813717343, 0.027459342593607272, 0.027261152714942307, 0.03270280887732618, 0.04673444718116809, 0.02992336418938131, 0.03014115674608373, 0.03550091535581878, 0.0385659127278243, 0.023199066488885197, 0.028279863873327576, 0.023315140180532663, 0.04160886138459719, 0.018984041274770526, 0.032065110044588, 0.032912857075144346, 0.05427948553453902, 0.04392657681405205, 0.05269520844288293, 0.04116561642528857, 0.04497968325595915, 0.07349760809726492, 0.0550462381540684, 0.050676031175744325, 0.051225544504154494, 0.07526584006248323, 0.07711617412375263, 0.06270395539669986, 0.05546129862672014, 0.06255037770360317, 0.05796889177679972, 0.07441559592202032, 0.05080713634848027, 0.06019481305028694, 0.06652844963826526, 0.05478543521785972, 0.07551101586544046, 0.05968861621018284, 0.08019434439918513, 0.05926933697604571, 0.061083867421716724, 0.06928485435663019, 0.0662573309503611, 0.06753389356143712, 0.05763931250780648, 0.09758115210058306, 0.07778780663879395, 0.07704366047520905, 0.0650091994897202, 0.06515791554835607, 0.05964661572131115, 0.06416081150530184, 0.06806793350988483, 0.11082847418727033, 0.06835494286060159, 0.06390863338666965, 0.06290960618106368, 0.062232232971594095, 0.06269689388781623, 0.06360766183468186, 0.06559434335851852, 0.06152607217161446, 0.06092914431294693, 0.06137428171862119, 0.06044900302115697, 0.04044899677177331, 0.05785693415282807, 0.03924437374823062, 0.030482463953106522, 0.02564031459584671, 0.057742039866148655, 0.044552890734121955, 0.01826448867810702, 0.018201613926900444, 0.025033609541405766, 0.03914445588329968, 0.04007961379671187, 0.026835384535059074, 0.024713248448316183, 0.03243654821741995, 0.07286528534528412, 0.05213785418704129, 0.05100448944233895, 0.024320630829235287, 0.03773902379125019, 0.06623913203486986, 0.07278551783031306, 0.01589869218281087, 0.022937189791923978, 0.032073436011569534, 0.037557365727559154, 0.03027401190839403, 0.054061790313976246, 0.02555197063589522, 0.04927127059222991, 0.037789715428795355, 0.07324207680279851, 0.05483390512184624, 0.04470637731064834, 0.04812887673145717, 0.054804275678711795, 0.04120063674810401, 0.07315302475419053, 0.07579657521294715, 0.05546650098456351, 0.06907842713028413, 0.06416290572778933, 0.06904235425716228, 0.053390007206606846, 0.05044331075143105, 0.05380478621443263, 0.06222859335427517, 0.061715213752482095, 0.07834838304172986, 0.0691440853649893, 0.07539912017357196, 0.060832324219740476, 0.061632042487565285, 0.0745075137201866, 0.05943271318308347, 0.056023198192548175, 0.06757197386815475, 0.06219281240223942, 0.05806404064463353, 0.12471898406052273, 0.06005833204066347, 0.06501423196045307, 0.0633790707793873, 0.0606685854324626, 0.05951067549612833, 0.0649366065784598, 0.06613755850010045, 0.05963085743659315, 0.06034394133532667, 0.06908187847769741, 0.045431655565190715, 0.025770738447365417, 0.0333735484727804, 0.04150454804735715, 0.03227788884851242, 0.02939325408896931, 0.04491726242917128, 0.03915767074486544, 0.0494149211997382, 0.03875784768698639, 0.018773631015226756, 0.02843776245099869, 0.04071034317948881, 0.041011032517032114, 0.025102016019468657, 0.016328293711578148, 0.04521742171118814, 0.039196629680052504, 0.025724248554687634, 0.0295518943276566, 0.027156384236736858, 0.03938326912226774, 0.02530764630709329, 0.03182060175788647, 0.02328696172801801, 0.025862995168535196, 0.03484834792057238, 0.046947524115979786, 0.029145449683788856, 0.033795182086457515, 0.048201449187028005, 0.036478463450675444, 0.0660550113345239, 0.06918396144463311, 0.063334531726293, 0.062063938284000406, 0.03764760058515482, 0.06055240021404313, 0.04501182082936098, 0.047366287866860084, 0.041938184395901246, 0.05558318287248229, 0.06529854400695173, 0.069643412845071, 0.06433822754865066, 0.05511740471959838, 0.05664304229409428, 0.06336411937906986, 0.053107574605894395, 0.05751383961867, 0.05644318534613296, 0.05297722610929085, 0.05994229954265293, 0.0622567768860322, 0.06514728638600539, 0.057627341096706856, 0.06107427945921528, 0.05827211132451639, 0.06688644062914131, 0.05872904898445749, 0.05892932560319091, 0.05448778507072191, 0.057649587447028576, 0.06320403734196975, 0.05868079306668589, 0.06716145824352432, 0.05862749178661933, 0.078716102266486, 0.06887429593101486, 0.06606186651525132, 0.05920953107363058, 0.057521696053887496, 0.04912309258849512, 0.05768133362285355, 0.061719575190600985, 0.03837146957344235, 0.030104609264008323, 0.0487554129137711, 0.0135730040132256, 0.031917708021135346, 0.0532849830761946, 0.033680231668683704, 0.054209362601888335, 0.028244655113969747, 0.03020509700733727, 0.03946354742458027, 0.03764337522289879, 0.03869767934731404, 0.039542940043012814, 0.054628659868278945, 0.018898137355026736, 0.032413444801430415, 0.023520854216025136, 0.048336294684782705, 0.02701643524825529, 0.020916401270186902, 0.025963736007458802, 0.027321856733845115, 0.06822517585132964, 0.022188770814981468, 0.027470742879492128, 0.02589095431114434, 0.04400271478700445, 0.032140646312249666, 0.040638149432019856, 0.04154584431951386, 0.05822207676102385, 0.054160673420441806, 0.0543737641609497, 0.046820383248255, 0.045609245454295885, 0.04455468893477078, 0.06777839264314406, 0.06696518107908019, 0.054416249819992296, 0.05398684604541127, 0.0738121082508242, 0.0542350630154995, 0.06670076959667014, 0.06771317001306384, 0.0589556515552171, 0.07036705219229485, 0.05560977946932694, 0.058660009818202435, 0.0634726253193007, 0.052954636560851004, 0.05529935851369437, 0.05701190589528973, 0.061770353495791845, 0.06763511411112369, 0.05850910557936535, 0.06225888917806652, 0.09191210056314683, 0.09126566028654255, 0.0745587584885946, 0.09329745457888744, 0.06937112947955297, 0.06845014175644808, 0.08172548171291692, 0.06701140695250948, 0.06057577855761118, 0.07081318879772877, 0.06980038620160603, 0.06653222764280937, 0.06195953557869388, 0.060675421974341365, 0.06030693021485543, 0.05976464498575395, 0.017321747905088027, 0.04210925017987041, 0.03793452319387576, 0.02314881294558502, 0.03629370345010799, 0.02207697626654902, 0.026231901801237276, 0.020024932440989757, 0.0296152042390331, 0.0329578055173995, 0.024194245271435627, 0.027104281904246564, 0.04815629217131486, 0.022731406252102484, 0.0360972442892622, 0.017292852226962665, 0.040534058916525, 0.04334448989394611, 0.040361484117871375, 0.033069508712242277, 0.04272303613470988, 0.03817898170906677, 0.057145572087516264, 0.021010125875677115, 0.019891155363684698, 0.02521990290932946, 0.033254337827488024, 0.029241626038290416, 0.04459347252375435, 0.022906737926323185, 0.04862429807969473, 0.052006230420079395, 0.04428118567185509, 0.035841706410870575, 0.040370114000262365, 0.051980928382580484, 0.05001407121280116, 0.08721096884181397, 0.038864744475395875, 0.04737978862355235, 0.04746312950864402, 0.05114784939429294, 0.054466883042962495, 0.03676578038405454, 0.05630385292990974, 0.055051189605290166, 0.04144283019412252, 0.040980425837841374, 0.07290299916527007, 0.051960275148534636, 0.05980642014455314, 0.06850789337435809, 0.05938541352926023, 0.047287267060396244, 0.05027998933389373, 0.06028420164836075, 0.05166095886437364, 0.04982104146028501, 0.05753892252874993, 0.05171793983144884, 0.05346189529139602, 0.050357714252667427, 0.05031832978914125, 0.06094903454559934, 0.05047680263386433, 0.06499688522643722, 0.06378445626680754, 0.06190245523919581, 0.05184293674216249, 0.048885572563059566, 0.02394745625790467, 0.03378238417522596, 0.0242552469079801, 0.03142766602420142, 0.030484076833212023, 0.03693145500947336, 0.0365441046568563, 0.030278791420470484, 0.03594987919905942, 0.040190115216646866, 0.05294026293886857, 0.03744134811224612, 0.017819508001671876, 0.032776525505933816, 0.009315632549227917, 0.027485684254174806, 0.01816590716505401, 0.019976720589863172, 0.029616383071137033, 0.03750238673062132, 0.02526525501239501, 0.02294481058059845, 0.019254056855368518, 0.03451151480816455, 0.012166519757136809, 0.031656688861316944, 0.02572957844978743, 0.02517722827711669, 0.038294787078973686, 0.022584882501977953, 0.038687338729660375, 0.026637083480323794, 0.029000956894985625, 0.02973126806744327, 0.03742091187986022, 0.050942552908092846, 0.03475147923164251, 0.0774022739387198, 0.04280637038527453, 0.05455392868578473, 0.040435460683003306, 0.05421792861047722, 0.043298683417697555, 0.08601555439081428, 0.06220232402997579, 0.052524328177322284, 0.041979317812194474, 0.04641318554688537, 0.03899610272069445, 0.05747622322547887, 0.054733916049508446, 0.04681417256628083, 0.043771226072314755, 0.05451605278074045, 0.04233136101417894, 0.05101643363684998, 0.052707713789644485, 0.055367560757950386, 0.05259703411771623, 0.0526989068413726, 0.04580359160043872, 0.048159671479295174, 0.05571486977594604, 0.045038080420143164, 0.04471495432415487, 0.046203625613055896, 0.04590052620527977, 0.05131425649828487, 0.044134271272561046, 0.06618892975859242, 0.04845343933384058, 0.04583292626153734, 0.046365684249238925, 0.04517232932043519, 0.04835422562894007, 0.04548470336332232, 0.030301335614826425, 0.018889472181521805, 0.01838564079433311, 0.021979421648239565, 0.03712548470706062, 0.04852542818508603, 0.03113782645324446, 0.027780807288361985, 0.04202944972424458, 0.018102732648040576, 0.02190816066906351, 0.03101723633620917, 0.019892904833309456, 0.030339034306762443, 0.030903727647858637, 0.025699069726499556, 0.019551606844140795, 0.02382307934267661, 0.03343726350676479, 0.022997083540635208, 0.019520249917766387, 0.012825200662134573, 0.027091696660255793, 0.0259129141080442, 0.01823552094784623, 0.01202164758247011, 0.02322838485684086, 0.0168026410022967, 0.017286155311534882, 0.017851792300677103, 0.03591579045844791, 0.04172287411876607, 0.03284763709629978, 0.03959268411426232, 0.04174248179080932, 0.04133328194156181, 0.033137844429182405, 0.08924299730772774, 0.03894227281041752, 0.056471097216125185, 0.03776567793474462, 0.05018389605085157, 0.042959170247444826, 0.033771308708558614, 0.0416665472926178, 0.04792257332407162, 0.04531538269641922, 0.046840986194662836, 0.04791319882999195, 0.040530717107274614, 0.05172752139361089, 0.040213455866305314, 0.04242134061394209, 0.043919956560842806, 0.05195349762863206, 0.04243271372821411, 0.050306072134077444, 0.0509311498164697, 0.04204413377284678, 0.041908704764171974, 0.04218779370731378, 0.1234462325229738, 0.13377519970218799, 0.05014719608864952, 0.043776360170415314, 0.09113545827362651, 0.05634213091477631, 0.04767300601638227, 0.0744603119073653, 0.0462906473383622, 0.04671560359647935, 0.06838626606536811, 0.06331456385310247, 0.05407669782952167, 0.0511210046215054, 0.061473795618023325, 0.056854972637143994, 0.05619615090474639, 0.052487780370131076, 0.051086383812994636, 0.05144171447942218, 0.05038054769586372, 0.050965629224693776, 0.04964279213302049, 0.04863870669553604, 0.048037194834189986, 0.04803051904422053, 0.04157335297163536, 0.04984729916895956, 0.0440878655392912, 0.025930212211276497, 0.02485111829157315, 0.0269378893122438, 0.033805482667915464, 0.02471859424524955, 0.028854708976168073, 0.020469811358542384, 0.021665411802949563, 0.01796673627502096, 0.017451203710658947, 0.012847934943383212, 0.022070629136580398, 0.02077388821576369, 0.02187558743350603, 0.017666492365870593, 0.030157252249136703, 0.01879668588230538, 0.024249061174362724, 0.02696639172240518, 0.02341479212349695, 0.012706188047030696, 0.017362758464890004, 0.042391591546081506, 0.006736374107588317, 0.02263459984303842, 0.018687176849258743, 0.024334393732010306, 0.027234994581438812, 0.027658194626764505, 0.03252058079667516, 0.04337299593565593, 0.04141626252274847, 0.03457747149791963, 0.03649155569275664, 0.054643000492200416, 0.03891608103837207, 0.046734959760259945, 0.03637175993537787, 0.04747260723726503, 0.047925209151356535, 0.030775068101925658, 0.03715561464161092, 0.05545373501676343, 0.0420986099099374, 0.038007041151691, 0.038099452674431836, 0.03172965088687547, 0.04177825585067254, 0.03530278263548064, 0.0501781466863412, 0.03799637603707781, 0.04040317824083067, 0.04622097231698514, 0.03468780418654977, 0.039550240670569434, 0.03982802848081405, 0.03935577633662737, 0.04677816189738808, 0.048147197629531756, 0.04286020582563998, 0.04416028326578837, 0.045748369473410815, 0.04135603604157362, 0.04404341714427877, 0.049648404856154515, 0.048981997336129464, 0.0451358848358057, 0.04163177329322762, 0.039710366690575774, 0.017617776599015304, 0.02241041212297876, 0.024138136767621995, 0.015483033365983771, 0.01669990842542674, 0.03390690871525576, 0.025350126423907857, 0.023743739919025248, 0.01734751951882972, 0.011386263328590336, 0.016650829826952315, 0.01900272907272055, 0.019708459809162762, 0.025948946364341575, 0.013313553467737898, 0.023843368990934116, 0.015050202937821562, 0.012410440606454767, 0.009635210846371277, 0.014252652631333665, 0.01648071723684954, 0.006438740740726006, 0.020192736309256148, 0.012580056074914784, 0.016051034762347257, 0.00915514435660863, 0.02087577178055807, 0.017419035375809265, 0.017760883971081873, 0.01778886239385682, 0.023112172123255746, 0.024964618612282927, 0.028953320497995268, 0.02170388721009195, 0.025673255101021718, 0.05125264065015756, 0.020316416355670514, 0.036654638870162876, 0.042369231982511704, 0.028643575828925405, 0.050167883628884816, 0.03179220560820247, 0.04526019589726005, 0.03523411861296795, 0.03230530865298832, 0.03291472039634116, 0.034829504902287686, 0.033523218741010476, 0.03746830976084535, 0.03237221112654891, 0.03903950811709376, 0.032444690486043475, 0.03503599987114584, 0.03473520705875392, 0.033834511504870636, 0.045101096297390536, 0.04662486562074814, 0.03976794159262848, 0.037602611441833585, 0.035938177999956154, 0.036797138869171624, 0.037705485336900886, 0.03849191180998675, 0.03658009348999603, 0.03832555329956943, 0.0397839477488612, 0.0382880970744704, 0.040294981522443776, 0.04387878615034011, 0.09179185534929574, 0.040246125225650915, 0.04219159036123309, 0.06996069901359647, 0.0402463412957255, 0.04644175911680576, 0.057867024360910777, 0.037986372449302676, 0.04748032764036403, 0.0494604090054061, 0.045868883464401856, 0.04202896570352859, 0.037586994228303736, 0.015381327751151497, 0.017849397960097192, 0.009967046507055361, 0.015303050284591502, 0.01825743496503494, 0.014275153354563684, 0.01827799365545651, 0.011978847419277152, 0.023900520979024665, 0.01059562371159222, 0.014162861923274915, 0.007303587171135543, 0.008450379809115645, 0.008637426519986502, 0.02379423461020921, 0.013611040920400039, 0.01723943373540001, 0.010728865656947393, 0.006511285998317145, 0.012375461565181158, 0.012811691406173019, 0.012271177631921152, 0.019531438994850474, 0.014518048634141576, 0.01184923370719529, 0.01243812133265128, 0.010710748641835424, 0.013061555974146814, 0.013379133458736281, 0.016586929450668003, 0.02389409672986107, 0.020205286585742523, 0.015331572664698912, 0.016457470670454714, 0.0300715817676278, 0.02271814417240292, 0.02599096345638606, 0.026752506519433884, 0.020123104343673346, 0.035304144112566244, 0.017248175720141666, 0.022545617748735643, 0.0221576358956568, 0.02122438149084773, 0.027124238464611355, 0.02371412577734168, 0.019103853270021315, 0.025327428939482175, 0.024759777051437837, 0.01881716301184785, 0.03065873389327397, 0.023360089158724784, 0.026489250697150277, 0.031063575675024917, 0.028773496389837092, 0.023585428451334937, 0.022009037201064608, 0.02713460581676768, 0.027214812332119087, 0.02935521686722961, 0.026459654612268322, 0.02672213557765048, 0.02246054043219462, 0.022814545236904335, 0.02398025571732606, 0.022916656647826522, 0.024255439929585624, 0.02409973564856823, 0.02401084612929779, 0.027023940466554052, 0.024590579479874093, 0.023096855954876507, 0.02304043145699442], \"Total\": [6476.0, 3341.0, 3769.0, 3353.0, 3397.0, 3183.0, 3227.0, 2843.0, 2735.0, 2622.0, 2466.0, 2785.0, 2081.0, 2153.0, 2608.0, 2420.0, 2045.0, 2378.0, 2350.0, 1790.0, 2096.0, 1905.0, 1694.0, 1870.0, 1737.0, 1968.0, 1976.0, 1740.0, 1809.0, 1776.0, 34.824776481020336, 27.83948409849798, 70.1553727964771, 57.28468285133104, 28.48358068084936, 18.45873161070072, 24.14239078013612, 57.231773540634755, 22.70094884989333, 39.808509734623954, 303.30680118075276, 17.70864429149203, 53.007680623229405, 34.20500496186372, 18.056975917921733, 42.079367033251586, 69.61570592749742, 18.930367767758455, 25.46936152050446, 10.930281881431071, 96.4743249121204, 52.16041797276051, 135.10119698300426, 159.36856066471566, 20.31566317122728, 10.842967017130386, 26.775455922666367, 11.101920338818825, 34.769219944165854, 17.988885961309, 3144.651526939613, 6476.757029239511, 3769.529854657632, 3227.801068378881, 3353.0783920008557, 3341.7875958807676, 2350.3132764396705, 2608.4507545265783, 3183.8876987029166, 1976.8756455119508, 790.1801219127361, 1331.6100432632777, 1049.6189634498085, 2785.407660238476, 1776.0206890180593, 1598.3094670449943, 1885.0099921957617, 2843.196569241022, 1790.8544454542455, 2466.75811820711, 2622.455933708432, 1740.322043918138, 2378.8229798449483, 249.0536963237974, 607.0359666712044, 1633.2116796691453, 1968.7464743868898, 2081.5326640943617, 3397.165434571506, 2420.8530318058197, 2735.3328068337632, 2096.4793217682004, 2045.055384820424, 1870.3627881876935, 1809.1624098800366, 2153.9716049622234, 1905.1711049044493, 3.3377464681041853, 3.7256158489465827, 2.088365959493596, 2.880050288025023, 2.8293139954410442, 3.031133003849993, 3.050223274366424, 2.0274891936618387, 1.2633000565001138, 1.9927005759916758, 1.9461256421038649, 1.5535096750697324, 2.182159961579717, 1.8882976623207444, 2.0143899165095376, 1.8265223917924331, 1.4903208779106645, 1.2609148975695619, 2.133887089119212, 1.2595113438532763, 1.210919602819234, 1.758903745421421, 1.9569612520425548, 4.2128228545801685, 1.2121071737555968, 1.5032424657485435, 1.9113592614009065, 2.1233002012116957, 1.579246869762953, 1.6890915183110342, 1.9849612084448764, 2.7738171561873948, 1.9129390305902398, 2.5190049331567015, 4.716534827932954, 2.2731030198246223, 2.290752479929406, 2.267850137195815, 2.3942396874017056, 2.771961338664314, 2.5218771971390535, 2.694912492505171, 2.956832533174901, 4.526740638623001, 8.544443719116316, 2.7784043983583846, 4.5519765995718755, 2.947740749761729, 6476.757029239511, 212.87040324805415, 3397.165434571506, 2735.3328068337632, 3769.529854657632, 3183.8876987029166, 3341.7875958807676, 3353.0783920008557, 2420.8530318058197, 2785.407660238476, 2622.455933708432, 2843.196569241022, 3227.801068378881, 2153.9716049622234, 2608.4507545265783, 2466.75811820711, 2378.8229798449483, 2096.4793217682004, 1905.1711049044493, 2045.055384820424, 2350.3132764396705, 1968.7464743868898, 1183.7533404721723, 3144.651526939613, 1325.2696726456675, 1737.7160996759762, 2081.5326640943617, 1870.3627881876935, 1809.1624098800366, 1597.9515753198252, 1885.0099921957617, 1976.8756455119508, 1740.322043918138, 0.5094558059374809, 0.9205672469306024, 1.254724053879983, 1.413769667893259, 0.9517870615568111, 0.4796235360843624, 1.2304426525098364, 0.9550001616681257, 0.6137960198676153, 0.7696997427378958, 0.8689354260003217, 0.5544173723436925, 0.31958751802311425, 0.6134963800136192, 0.9142016072062326, 0.6979149122670789, 0.48739443504961083, 0.8406608776953204, 0.33634734702162994, 0.7294914757691289, 0.6785994086201241, 0.62069726391501, 0.5486157341892473, 0.6364385141301215, 1.0160121316253927, 0.5058828569343791, 0.5751799976024353, 0.3127477057605001, 0.7110594591016486, 0.43089044829439593, 1.1996935888202795, 1.0372059239050886, 0.8319441224427743, 1.1785556477423245, 1.3121095595467158, 1.0210137624861786, 1.9646545390582228, 1.648955770564938, 0.9927778923308825, 1.2239893606831247, 1.214205660651282, 1.7339910631278128, 1.4740715018394108, 2.7668044882256586, 1.907513622588288, 1.7120215643406673, 2.805696251759894, 1.3776924307467504, 2.483425954335761, 2.746012711704752, 4.1159186156121645, 3227.801068378881, 3183.8876987029166, 3353.0783920008557, 6476.757029239511, 3769.529854657632, 3341.7875958807676, 3.695422103730517, 2735.3328068337632, 3397.165434571506, 2081.5326640943617, 2843.196569241022, 212.87040324805415, 2045.055384820424, 1601.8046275293186, 2153.9716049622234, 2466.75811820711, 1776.0206890180593, 2622.455933708432, 1737.7160996759762, 1790.8544454542455, 1905.1711049044493, 2378.8229798449483, 1870.3627881876935, 2785.407660238476, 1037.233431488083, 1145.6110829947402, 2350.3132764396705, 2096.4793217682004, 1146.8764199215852, 1976.8756455119508, 1597.9515753198252, 1384.6396820359178, 2420.8530318058197, 2608.4507545265783, 0.5346952529043388, 0.5809937714705528, 0.41423927310864234, 0.8220079873190098, 0.5735871122902231, 0.6087103110349176, 0.7017580927048886, 0.7383245088591831, 0.6122308521465145, 0.7656293549454947, 0.6636865368339525, 0.5789888187223788, 0.5316977621167217, 0.5902961568739364, 0.40912309830085763, 0.5606134537551802, 0.9241555987389799, 0.4872510959806031, 0.7224256595152544, 0.9778453747048229, 0.7141600235300671, 0.739073167743155, 0.7992767833758523, 0.6060750667679022, 0.8216713317866997, 0.5149899613983066, 0.3539773102940179, 0.5362595319008907, 0.9487636363909769, 0.5931056333111978, 0.8430199152759524, 0.9896510689512955, 1.1184479102832527, 1.0310098705881372, 1.2227906282136976, 1.3180293101227043, 1.179365280220229, 1.4461769544349492, 1.2669037153798075, 1.582616228769125, 1.0049440406238102, 2.16475217511408, 4.546297891335151, 1.077708282087066, 1.6644925377244537, 3.9641710620218236, 2843.196569241022, 6.841255996971611, 6476.757029239511, 3227.801068378881, 3341.7875958807676, 3397.165434571506, 771.4168528291694, 3183.8876987029166, 2081.5326640943617, 3353.0783920008557, 2735.3328068337632, 2153.9716049622234, 3769.529854657632, 2466.75811820711, 1598.3094670449943, 2378.8229798449483, 2420.8530318058197, 1476.4420964203446, 1885.0099921957617, 2785.407660238476, 1737.7160996759762, 1159.6280212221413, 1242.9203268648073, 2096.4793217682004, 1523.1468367171485, 23.7024534347838, 2045.055384820424, 982.6958632920102, 1790.8544454542455, 2608.4507545265783, 2350.3132764396705, 1968.7464743868898, 2622.455933708432, 0.41809155604933546, 0.4125611292223095, 0.48682217835542424, 0.3840642051386064, 0.6871236497264616, 0.4320158495224988, 0.42316768050495995, 0.2999759840962769, 0.45268846159166465, 0.44329131620465617, 0.8818141932038948, 0.778530774838436, 0.5177013087999986, 0.5912761037439259, 0.5331491717728705, 1.0341305500839868, 0.4252442389024734, 0.8679178240079896, 0.3591336065257437, 0.5972487776941232, 0.7437841854627747, 0.8571948322613335, 0.519636896471238, 0.9737958785814705, 0.6531088970386378, 0.37437290640972903, 0.8425586615077438, 0.42913606541766625, 1.1846301984389187, 0.3475116329728335, 0.8061421688501851, 1.6280497525896338, 0.9566495122260752, 0.9415143286889318, 0.7878331411759979, 0.900361985200651, 1.0407746639036868, 1.3355739488469114, 1.0845990850169203, 0.9585351312407009, 1.7879603072943122, 1.0712010249598711, 2.0138391414550862, 5.679320438638427, 2.13910976281449, 1.2025271348502733, 2.8368457590405165, 3.0848468718537876, 1.9717287574279285, 3.3063559925829487, 2843.196569241022, 1.7176640655466353, 3341.7875958807676, 3769.529854657632, 3.2317928502937896, 3183.8876987029166, 6476.757029239511, 771.4168528291694, 3353.0783920008557, 2.492000770156009, 2081.5326640943617, 3227.801068378881, 2735.3328068337632, 1598.3094670449943, 1059.4453492566918, 2350.3132764396705, 1531.6861563402394, 1968.7464743868898, 2622.455933708432, 1331.6100432632777, 2608.4507545265783, 1183.7533404721723, 1138.083273958709, 1976.8756455119508, 1790.8544454542455, 3397.165434571506, 2785.407660238476, 882.7194866475294, 2466.75811820711, 2420.8530318058197, 1870.3627881876935, 986.2630028344736, 1523.1468367171485, 2153.9716049622234, 1740.322043918138, 0.532706730974753, 0.3717937880417219, 0.26067025101078534, 0.4571416773875916, 0.5792573412313229, 0.4577259460382295, 0.7041136569865036, 0.8636187576598916, 0.4352365540209511, 1.0139211949057088, 0.4413498844919158, 0.6198569795370245, 0.8102444459676758, 0.3045696840532351, 0.6041069513087854, 1.1127786480859052, 0.41079917875539207, 0.662850071434546, 0.7535016749036872, 0.42614077022075253, 0.6937684697870413, 0.5514107942660783, 0.8451298804623291, 0.9363880245247854, 0.49321368412232836, 0.6718805365711858, 0.5702157926199609, 0.5149227121652064, 1.0615836976240338, 0.7337654040493815, 0.8420034932031912, 0.8697122560921687, 1.3329846338418712, 0.8111159834759419, 0.9233600229302487, 1.6922343537329372, 1.3732119866137436, 0.9970575076064562, 2.931938039166476, 1.2391854683591428, 5.545890879237727, 2.1750078579223797, 2.186298886233079, 2.5948189822885652, 1.455262490093396, 1.9208378409359865, 1.8503874120619754, 1.630094966949752, 2.041886666517253, 3.2564744363300724, 2.6195273426835866, 6476.757029239511, 2.7230023197497895, 3353.0783920008557, 771.4168528291694, 3769.529854657632, 2843.196569241022, 3341.7875958807676, 2081.5326640943617, 1740.322043918138, 1138.083273958709, 2622.455933708432, 3227.801068378881, 2420.8530318058197, 1790.8544454542455, 1776.0206890180593, 2045.055384820424, 3183.8876987029166, 1809.1624098800366, 2096.4793217682004, 1870.3627881876935, 1131.5277441477906, 1597.9515753198252, 1531.6861563402394, 575.1181239256548, 2153.9716049622234, 982.6958632920102, 2608.4507545265783, 2785.407660238476, 1284.146841789347, 2350.3132764396705, 2735.3328068337632, 2466.75811820711, 0.3127477057605001, 0.360082496886391, 0.48561600790050985, 0.29551372620347804, 0.4310639030952138, 0.9419337598361449, 0.5352103230020463, 0.3286528412125631, 0.5099369438198166, 0.4782630950555243, 1.1744295984106428, 0.6178483235698926, 0.34576992679932983, 0.7836017118230527, 0.3025496280676356, 0.3604198854774869, 1.1206484474472744, 0.4419713362304863, 0.45760128841272857, 0.3042082990756485, 0.7170951727860148, 0.4790574216304735, 0.8060371229886478, 0.6694806848804322, 0.3894624881972565, 0.8537762299993146, 0.6776467218962787, 0.37437290640972903, 0.3475116329728335, 0.4350839523966402, 0.9048892232869686, 0.7012102338543339, 0.5754301461913939, 1.3365797584454564, 0.9554386194169051, 0.876304549597423, 1.5699585924626815, 1.7624867557818393, 0.9857696418914601, 1.6689319447688402, 0.9878416916549665, 2.2101841889977614, 1.1702550297630778, 1.2729750330740097, 2.244180598996905, 5.839634284314664, 3.9224295748544376, 2.240595630091322, 1.804405087842916, 1.8127869836442712, 2.5912913183905815, 4.09895662073357, 3.3405571132298837, 4.201896359103054, 6.882939270892765, 2.7272475842903154, 2.9808279035451375, 2.894778700382036, 2.3732703136354933, 2.951878230935331, 4.489524341645831, 3769.529854657632, 1694.3207346997572, 3.0912138765646575, 3341.7875958807676, 5.853141167704977, 4.549477849763843, 2153.9716049622234, 3397.165434571506, 31.728525027882025, 507.89061362177875, 1029.6220306141997, 370.46693819178705, 6476.757029239511, 9.27552305251785, 653.7008054900663, 1740.322043918138, 1255.0270505869198, 2420.8530318058197, 959.395149100249, 3227.801068378881, 1077.9019764808638, 3183.8876987029166, 1790.8544454542455, 1081.573411814018, 527.8699967572967, 1633.2116796691453, 2622.455933708432, 585.1526520618219, 0.4836720720365585, 0.5606352954787654, 0.3591336065257437, 0.3042082990756485, 0.34035808695717656, 0.5011249463163295, 0.5486157341892473, 0.5662001979874738, 0.4400059393534524, 0.4625251225845375, 0.721600360642507, 0.5398130636914434, 0.6286939727464856, 0.37312836699456675, 0.6253369604844552, 0.8021878606725625, 0.42913606541766625, 0.3756939515965078, 0.3916854960335387, 0.4168835207080603, 0.8031403765430783, 0.8712482610283869, 0.4400861118593167, 0.6690833148443525, 0.350639061079301, 0.34078694695094497, 0.39457919126726915, 0.3025496280676356, 0.435135077337179, 0.8539626216788772, 0.9082676540145523, 0.9773889432504312, 0.8710636625784864, 0.8669027975009189, 1.065495686472618, 1.9070484990223773, 1.1026726753255953, 1.3546892922007971, 1.177812371962287, 1.9833440860489298, 2.053229833882323, 1.848371664930822, 1.631527826007419, 1.64800474613817, 1.8078634652296075, 2.2062554581838962, 2.5840016970716144, 2.2920498943062277, 3.0945084515179637, 2.2096307956548484, 1.9125931532013138, 1.8442416872750191, 2.311482058192762, 4.018856105803614, 7.075866487120146, 4.108200933635935, 4.25756398335442, 5.567269184508761, 9.25199487636897, 4.485160128172423, 6.3376585956322025, 5.099095305151786, 5.159869775494589, 6.635198975755832, 6476.757029239511, 6.666976525670049, 1740.322043918138, 1601.8046275293186, 3341.7875958807676, 72.44400196126678, 3397.165434571506, 15.973898745787363, 3353.0783920008557, 2350.3132764396705, 2378.8229798449483, 3769.529854657632, 387.6873182068435, 0.34576992679932983, 0.5133324739734018, 0.5606352954787654, 0.41242204575227503, 0.5184593232677792, 0.49904031490154105, 0.6604076733651788, 0.6718805365711858, 0.3530825102049429, 0.34470234307273573, 0.4021414576274146, 0.6041145884858945, 0.6710960040650985, 0.36768219822444226, 0.4435495754646569, 0.5352339183150282, 0.7912254189002959, 0.3929355941921407, 0.5943262115215886, 0.5941661077437824, 0.8730565621410049, 0.40432492175986007, 1.0256243332742547, 0.6254542897831756, 0.4451846067060754, 0.3662639841216599, 0.43636854374238254, 0.8060371229886478, 0.6328219658087832, 0.6813041582151173, 1.9118040932810325, 0.8387800246458276, 0.8453990775051348, 1.3041094487156646, 1.9848118426783763, 1.6141812305591556, 1.1999981477061648, 0.9221249317569887, 1.8522785591444886, 1.717514953550661, 1.4177536922230125, 1.8102313551385636, 4.693025128317431, 3.468058099841054, 3.0056645276550693, 4.3514171063341145, 2.7304979535113474, 6.264142268926439, 1.9711444355273415, 2.8453657453569976, 3.4677394629493645, 2.1210885322419233, 3.736477444152472, 6476.757029239511, 1694.3207346997572, 8.398698646263862, 3397.165434571506, 771.4168528291694, 1053.1714403406838, 959.395149100249, 3769.529854657632, 2622.455933708432, 2153.9716049622234, 1968.7464743868898, 2350.3132764396705, 2081.5326640943617, 3341.7875958807676, 707.9510648090305, 1280.805743461729, 2608.4507545265783, 901.0953682184132, 295.04112384079014, 135.7829634990072, 1033.2584209724346, 0.4021414576274146, 0.7079247233324807, 0.49430697093214643, 0.6552838734297014, 0.4584737422954466, 0.5928691774863064, 0.4400861118593167, 0.6898985544847888, 0.4192334871285552, 0.5278874845993171, 0.25567026163597045, 0.8699845314544234, 0.6166716744603153, 0.37312836699456675, 0.632390119283317, 0.7699849474168443, 0.49904031490154105, 0.5130511243606365, 0.6156661149629987, 0.41743125766274947, 0.40912309830085763, 0.7437792194650904, 0.561424847560726, 0.41079917875539207, 1.005419256710274, 0.8381101804083759, 0.7031108252111484, 0.35432723703543473, 0.6387442238025642, 0.887415373431245, 1.0639067643487474, 0.7376047996114121, 0.7937275622181896, 1.3580647556258443, 1.1908796551867527, 1.723306959452143, 2.8245290109141745, 1.1258884246435117, 1.7096125047564315, 1.7510099320818926, 2.5057010615504707, 1.5210673764302134, 1.6596190452042137, 1.6405880197298295, 1.5766998221315738, 1.8841161011709089, 2.787041390627111, 2.807579125355929, 3.545551719582677, 2.7339423868312007, 3.2742704615397664, 4.479500211452738, 3.8287440224974754, 1.310033789542604, 3397.165434571506, 2.741171800456843, 5.681544735205267, 3769.529854657632, 2045.055384820424, 6476.757029239511, 3341.7875958807676, 3227.801068378881, 2153.9716049622234, 2843.196569241022, 1790.8544454542455, 2622.455933708432, 2735.3328068337632, 1740.322043918138, 3183.8876987029166, 1737.7160996759762, 986.2630028344736, 1968.7464743868898, 1905.1711049044493, 1476.4420964203446, 0.39736952206136034, 0.47249989274352927, 0.5398130636914434, 0.46855610519703655, 0.3042082990756485, 0.49696795382368136, 0.27857160063831743, 0.40535809340940954, 0.40997898259251, 0.420757008759575, 0.3657151400209086, 0.6134963800136192, 0.360082496886391, 0.5228512789447165, 0.7814440475871443, 0.34078694695094497, 0.5121373961271514, 0.4399189391806142, 0.4476528617695114, 0.5420988017387184, 0.7889697278502581, 0.5058828569343791, 0.5122714138104533, 0.6136282570117072, 0.6683724153949894, 0.40432492175986007, 0.49430697093214643, 0.42123874731195443, 0.7538036534170514, 0.34660292481136457, 0.5874872550657831, 0.6059234349185927, 1.0317860500571037, 0.8482826321272247, 1.052953035941631, 0.824222269858325, 0.9337216246179076, 1.8827719287543423, 1.3155777378780282, 1.168772762468163, 1.2301754605995514, 2.4635347277888133, 2.606437549912433, 1.8863874120487794, 1.5255054659904075, 1.9617952334098299, 1.6913797865418612, 2.905803605959051, 1.3449300337453551, 2.044994536372342, 2.651453922087623, 1.6357062413376902, 3.8223292373840208, 2.0775515456797073, 4.904699174813213, 2.0820022498635558, 2.5996251325057744, 4.120236159259567, 3.5960699707684878, 3.992879715704803, 2.2416207626238496, 33.39708859451108, 10.620322326320515, 12.055030686814147, 5.808541168499291, 6.672907560546856, 3.0627849557766327, 5.966778399882276, 11.432673518870956, 1790.8544454542455, 15.807699931933996, 11.209860385627671, 9.065066391646228, 7.9111379721962845, 12.813453893851557, 29.554224711019764, 1737.7160996759762, 16.19695112237983, 6.682345177841667, 23.06376178417127, 0.4400059393534524, 0.4088717610552132, 0.6137960198676153, 0.4408029612018328, 0.3625046266090529, 0.32382683382932537, 0.8052598791933505, 0.6310942713864651, 0.27184603537885976, 0.27250258059692767, 0.3840642051386064, 0.6168674428656701, 0.6370370819662422, 0.4297454127318884, 0.4098108215310781, 0.5395401973870222, 1.2520932830847304, 0.9000196620580758, 0.886533734859152, 0.4310639030952138, 0.690449928237526, 1.2185700471632828, 1.3483808832987245, 0.2946483650531487, 0.4283699322336051, 0.6012350523012493, 0.7132967439664976, 0.5752448119685656, 1.0299980515606644, 0.49615987885619894, 0.9585351312407009, 0.7447243982217063, 1.5645760396445907, 1.1347587045564487, 0.9057724016470715, 0.9982803896056405, 1.1914465402973027, 0.8344715033320915, 1.89627110869864, 1.9964610193391452, 1.2989412402263403, 1.8141864689763343, 1.7293137469432465, 2.194109546139271, 1.3740419961301584, 1.2632803044896004, 1.4684004543221079, 2.0995130323540887, 2.0720666545024895, 3.8189524030080144, 2.8990709504578023, 3.775760151311892, 2.071679219246657, 2.3840788300857367, 6.483565762832851, 2.4321137007730407, 1.9721450463374317, 6.615086071267783, 5.054546695893895, 2.7737308143784296, 3341.7875958807676, 3.776439904059124, 8.369958891145554, 7.974961008256025, 5.428779953484417, 4.135549592915122, 18.817653373225983, 2843.196569241022, 9.152516324078304, 83.18208796552086, 0.6096265291517685, 0.48493796425522195, 0.2764174526505201, 0.360082496886391, 0.4522645815897008, 0.3894624881972565, 0.3657151400209086, 0.5915534507158341, 0.5646980914115255, 0.7362407113493004, 0.5880399540748658, 0.29551372620347804, 0.4477202249811408, 0.6516143490195015, 0.6647607859831336, 0.40912309830085763, 0.27250258059692767, 0.7612413316652484, 0.6599500009105268, 0.43565920700285615, 0.5166751963900182, 0.4798973133235218, 0.7064265451835465, 0.46626712643173746, 0.5927209214114632, 0.43980880883438345, 0.4885608548116033, 0.6606856124874279, 0.892245878515257, 0.5549105748106707, 0.6532834116178439, 0.9654751001347065, 0.7256857658170613, 1.6053451299818953, 1.7066051248656358, 1.5388918678908319, 1.6527940781879906, 0.8169228796646116, 1.8315552789284073, 1.1171663293077272, 1.2360599892140822, 1.0070976299986174, 1.8111277294790102, 2.562361423807759, 2.9831188328414853, 2.526564676802229, 1.80640445529473, 1.9263127636821529, 2.534862594856648, 1.6688773534722456, 2.19357402828011, 2.123262936371656, 1.782469100037731, 2.860684316271397, 3.859002933755249, 4.684386434862669, 2.9230253954159586, 3.763324127512437, 3.2257453168011914, 6.666674263615657, 3.547386096192483, 4.295500713212879, 2.55743222123813, 4.025551513078123, 10.22250271850755, 5.863831327132533, 35.988361280508364, 11.447833426191686, 6476.757029239511, 1146.8764199215852, 3183.8876987029166, 17.759290341968423, 17.852452637244074, 0.4155518540407276, 0.4977379125614222, 0.6432260500170633, 0.4297454127318884, 0.3964664975549012, 0.6623214004975235, 0.18636350150441192, 0.4419713362304863, 0.7705753614368845, 0.5215527934565574, 0.8473944969296708, 0.45136770806597637, 0.4829324992790232, 0.6347629560805212, 0.6109383985770187, 0.6281796192933775, 0.6431625179783343, 0.901218369275393, 0.31974402370400296, 0.5738067274542719, 0.42123874731195443, 0.892086183139826, 0.5051679492809908, 0.3916854960335387, 0.49615987885619894, 0.5259580882249085, 1.3354551578385894, 0.4408029612018328, 0.5502328153321482, 0.522911502209717, 0.9204762857043017, 0.6657642923626567, 0.894797448136305, 0.9227983809006579, 1.4616692437596626, 1.3659522505785926, 1.4520087358615776, 1.1757480731602878, 1.1609524383370964, 1.122539559883682, 2.245230463889156, 2.5360736587023442, 1.7026962080361372, 1.7355433632842734, 3.53218842859797, 1.8572454805533334, 3.2618951946396444, 3.4649587192582207, 2.515988553231894, 4.338452115128724, 2.3585582457747334, 3.1383774449364163, 4.372724489803265, 2.187713003792615, 2.6490276509157904, 3.059817108032435, 4.776624936300064, 7.784041631144454, 4.2079570837873534, 10.881781683857275, 1809.1624098800366, 1694.3207346997572, 137.62420723006295, 6476.757029239511, 72.80192048701238, 64.26538584527867, 1905.1711049044493, 71.71341408694809, 17.30255640568126, 3183.8876987029166, 2843.196569241022, 3397.165434571506, 3341.7875958807676, 771.4168528291694, 986.2630028344736, 3227.801068378881, 0.24505052799044633, 0.6126970346686461, 0.5618632456720225, 0.34660292481136457, 0.5492452337605446, 0.34470234307273573, 0.42750606391489415, 0.3286528412125631, 0.5021138536651075, 0.6194383553315247, 0.4625707026020181, 0.5228512789447165, 0.9852005505002212, 0.4676746582370989, 0.7460011998950451, 0.3587575007756087, 0.855047273643378, 0.9280213451046954, 0.87310957396244, 0.7166857285028823, 0.9271193150267707, 0.839225891923409, 1.257425372952788, 0.4660697743901529, 0.44240620636587846, 0.5612487499518785, 0.7402230165769508, 0.652080152340549, 1.0086680145311686, 0.5246217483038248, 1.122048802572526, 1.2240829406258957, 1.0546518467459125, 0.838289370166197, 1.0020647292386964, 1.3991918567629207, 1.3864411454359256, 3.7304422315602235, 1.0143294815007946, 1.4281152801447023, 1.4471028412605202, 1.7019538739818796, 2.165470189792433, 0.9418875552693636, 2.662031366000521, 2.546999838900178, 1.2618155035257357, 1.2396955085811858, 6.475738005008805, 2.470906767770239, 4.953828651451118, 8.392340440480634, 5.274572162054325, 2.2071641588929256, 2.9225823030735367, 7.474409305083522, 3.4928789688493684, 3.0231346122931884, 7.553593834264706, 4.306149393969922, 8.387979065211109, 4.6443187317758685, 4.68887314927951, 56.08507147824866, 5.915699718706944, 1015.5252600659604, 1790.8544454542455, 2045.055384820424, 3341.7875958807676, 121.96770093536487, 0.2614523320442223, 0.4009443261071508, 0.3025496280676356, 0.44240620636587846, 0.4310639030952138, 0.5669571794590299, 0.5775379156013931, 0.48468816826745453, 0.5802210507003014, 0.6587773266163827, 0.8679178240079896, 0.6647179541520974, 0.3296724047410326, 0.6156661149629987, 0.18636350150441192, 0.5549105748106707, 0.3717937880417219, 0.4098108215310781, 0.6166716744603153, 0.7967217270661624, 0.5373394163434841, 0.49696795382368136, 0.4252442389024734, 0.766851370327732, 0.27184603537885976, 0.718156079981149, 0.586838008695282, 0.578667332677728, 0.8820416709198743, 0.5259580882249085, 0.9012913718393958, 0.6282420523376184, 0.6956716638610254, 0.7161742959466729, 0.939348509959668, 1.409410099389084, 0.8762931981936701, 2.5148038669463446, 1.1560200928031645, 1.5975463884897927, 1.0770795234618296, 1.6748165450306516, 1.2357843084437456, 3.6701259122147625, 2.5852353585587395, 1.8923772584330267, 1.3368926390806999, 1.7477550232513765, 1.1756894776418554, 4.006059506236027, 3.5316689186090153, 2.220803125727732, 1.7618650149892001, 3.9715792078408385, 1.57611635632382, 3.6781649274704313, 4.33169709965929, 5.562024930816624, 4.912292150498369, 5.190408018840975, 2.772376176511926, 4.056204214759061, 12.84966803056255, 2.636238638900814, 2.613054161401471, 3.593295570587524, 3.4877161501264853, 11.91535606699989, 2.3804124197351664, 3341.7875958807676, 14.900080597859413, 4.956653405041724, 6.9919380619100036, 3.64338711618828, 85.95606766912294, 13.702629711776197, 0.42994445883259813, 0.3042082990756485, 0.2999759840962769, 0.360082496886391, 0.6289657624707832, 0.8243869391735282, 0.5754565583821232, 0.5142664417101668, 0.8005232394427406, 0.3520052923850966, 0.4283699322336051, 0.6282420523376184, 0.4038489383306798, 0.6178483235698926, 0.6403932500752962, 0.5331209404232655, 0.4098108215310781, 0.5011249463163295, 0.7079758800484415, 0.4899012603493587, 0.41809155604933546, 0.2764174526505201, 0.5883704412990415, 0.5698982127544671, 0.40164562217004807, 0.2699446430601753, 0.5390306037938631, 0.3929355941921407, 0.4088717610552132, 0.4346809840857335, 0.8796635497544611, 1.0276747516879892, 0.8359088137817999, 1.0353249588182387, 1.1019161591872562, 1.1202157323261408, 0.8778414800495637, 3.624334471064579, 1.226920150640959, 2.3095208207148517, 1.2082845588193487, 2.0196873877921453, 1.5731546215553098, 0.9975546415479101, 1.6118769441545566, 2.205204453504768, 1.9911327749298684, 2.1582868254061234, 2.416278937385542, 1.6092457532495674, 3.00351078747128, 1.5980258551181348, 1.9977081201071483, 2.4406753469417763, 4.739805809723486, 2.330135154401799, 4.738388925047042, 5.302702029525885, 2.2524906766082884, 2.39116338654587, 2.541655666792069, 3397.165434571506, 6476.757029239511, 11.412678056986811, 3.5390032898002164, 2843.196569241022, 56.721800395790744, 9.219444940238306, 1598.3094670449943, 7.000715399297453, 8.269954379983604, 3341.7875958807676, 953.272671249284, 77.22523314807015, 42.02091298473121, 3769.529854657632, 1476.4420964203446, 1398.0215947680053, 3183.8876987029166, 1309.2184803662199, 2096.4793217682004, 944.963444263244, 3353.0783920008557, 2466.75811820711, 857.2115431948351, 119.85750648347941, 2785.407660238476, 0.2614523320442223, 0.6666296421478828, 0.6849117021380955, 0.4117114586509026, 0.3954900032038514, 0.44240620636587846, 0.6390899857414595, 0.5200592101705621, 0.6182787445008073, 0.45136770806597637, 0.4855904055850747, 0.41979162004773074, 0.4115468871896068, 0.3045696840532351, 0.5239572324294094, 0.5034749009294864, 0.5331209404232655, 0.43080873861676633, 0.7355081256478485, 0.4805051592706358, 0.6414753103219484, 0.7237032166853536, 0.6311980338826013, 0.3432053511466702, 0.47229525876519224, 1.165673072985291, 0.18636350150441192, 0.6427544655052918, 0.5395401973870222, 0.7107094707259977, 0.7975293478320415, 0.828060089526731, 1.0050565014889035, 1.4257290755022252, 1.3591706309546403, 1.0908592085840654, 1.211503945526781, 2.1785021605623838, 1.3813563017495194, 1.8300315398427505, 1.261580170071164, 1.9419482969263482, 1.994384870467022, 1.0120005826223237, 1.4548692212403216, 3.2629865211744087, 2.0375599255715664, 1.7643815569247936, 1.8219303822087385, 1.1759403196053622, 2.4402427972671363, 1.6355968198529491, 4.939532553664704, 2.1163069874278584, 2.751345985912209, 5.022607557521891, 1.5559580455476043, 3.090605002455481, 3.2409477321481996, 3.1952255579424373, 9.575214297723878, 11.606472073302987, 5.667454044729951, 16.10276537356907, 30.451596912620005, 8.619235457404221, 35.56391385273251, 616.4616221790777, 6476.757029239511, 2735.3328068337632, 640.749789279508, 159.68699944805442, 0.25567026163597045, 0.4481878343061065, 0.5122714138104533, 0.3296724047410326, 0.3840642051386064, 0.8067762526586674, 0.6041145884858945, 0.5713080136493791, 0.4192334871285552, 0.27857160063831743, 0.42123874731195443, 0.4832669484819904, 0.521722130547502, 0.6913511434674727, 0.3591336065257437, 0.6516143490195015, 0.4115468871896068, 0.3432053511466702, 0.26907310423656955, 0.4061082620187079, 0.47249989274352927, 0.18636350150441192, 0.586838008695282, 0.3662639841216599, 0.47118152254217444, 0.2703159951934066, 0.6240121645044179, 0.5228512789447165, 0.5352339183150282, 0.5362485051366277, 0.7130965653405189, 0.7736967688459149, 0.9150654950807965, 0.6685994477217546, 0.8116799716872184, 1.8078634652296075, 0.6304040070294931, 1.3576491846370276, 1.7841146927575033, 1.093235059245634, 2.5442358055097785, 1.3195948916415177, 2.36503844624309, 1.5977339876221868, 1.406879539630724, 1.5098774864613933, 1.918917607376972, 1.7681007951267904, 2.3155728341296484, 1.7365199692238222, 2.957079715271268, 1.8737823836324898, 2.3773695150664174, 2.3485395465764602, 2.200526018620122, 5.605954590915664, 7.451918437909701, 4.22610682328967, 3.6103241654090503, 3.0734816039224304, 3.46579174889221, 4.0262001075019915, 4.601104601741934, 3.776546279795844, 4.870601796451115, 6.427898478885047, 5.139798093856658, 7.4186352754747515, 13.341961703205264, 3341.7875958807676, 7.558497918708694, 11.478106080040023, 1138.083273958709, 8.923425722592183, 50.948036639895975, 3769.529854657632, 7.4781303197021725, 1280.805743461729, 6476.757029239511, 3353.0783920008557, 2466.75811820711, 11.243344154735468, 0.3591336065257437, 0.41743125766274947, 0.2614523320442223, 0.4571416773875916, 0.5606134537551802, 0.4486426859880795, 0.5915534507158341, 0.3894624881972565, 0.811223952013101, 0.3623713352879188, 0.5051679492809908, 0.26067025101078534, 0.31018531034967084, 0.32382683382932537, 0.897403722178714, 0.5149227121652064, 0.678810445536077, 0.43829016308815644, 0.27184603537885976, 0.5274829795582598, 0.55548052603862, 0.5352200388152946, 0.852772483882322, 0.6398090135304474, 0.5275243679309776, 0.5568724874448112, 0.481457939535191, 0.5959089368723129, 0.6176926589734179, 0.7717758771750857, 1.1987360181541802, 1.0094956994939015, 0.7382455013603381, 0.8267175045693825, 2.0520624536734102, 1.381854405665767, 1.7247361903451268, 1.859810049402441, 1.1928072456055476, 3.136968268552757, 0.9472345559527166, 1.5595292734433024, 1.5508935191511355, 1.4748301871524876, 2.5342327700518763, 1.9227745588896836, 1.1983054926419567, 2.4226485409134817, 2.321402785828408, 1.174748146367443, 4.163552966006492, 2.0720666545024895, 3.143115328793759, 5.076788078618619, 4.098858590002456, 2.316696365676175, 1.8603083133369611, 4.81503220503948, 5.168222004702484, 9.146654760520692, 5.268944049168314, 5.768570820575517, 2.318193068463041, 2.897174594034818, 4.695279625129498, 3.1633925390132256, 6.189804610811683, 8.594871920508336, 8.162106326040321, 1633.2116796691453, 44.78057138879059, 6.104453840246243, 50.75494091614603], \"Category\": [\"Default\", \"Default\", \"Default\", \"Default\", \"Default\", \"Default\", \"Default\", \"Default\", \"Default\", \"Default\", \"Default\", \"Default\", \"Default\", \"Default\", \"Default\", \"Default\", \"Default\", \"Default\", \"Default\", \"Default\", \"Default\", \"Default\", \"Default\", \"Default\", \"Default\", \"Default\", \"Default\", \"Default\", \"Default\", \"Default\", \"Topic1\", \"Topic1\", \"Topic1\", \"Topic1\", \"Topic1\", \"Topic1\", \"Topic1\", \"Topic1\", \"Topic1\", \"Topic1\", \"Topic1\", \"Topic1\", \"Topic1\", \"Topic1\", \"Topic1\", \"Topic1\", \"Topic1\", \"Topic1\", \"Topic1\", \"Topic1\", \"Topic1\", \"Topic1\", \"Topic1\", \"Topic1\", \"Topic1\", \"Topic1\", \"Topic1\", \"Topic1\", \"Topic1\", \"Topic1\", \"Topic1\", \"Topic1\", \"Topic1\", \"Topic1\", \"Topic1\", \"Topic1\", \"Topic1\", \"Topic1\", \"Topic1\", \"Topic1\", \"Topic1\", \"Topic1\", \"Topic1\", \"Topic1\", \"Topic1\", \"Topic1\", \"Topic1\", \"Topic1\", \"Topic1\", \"Topic1\", \"Topic1\", \"Topic1\", \"Topic1\", \"Topic1\", \"Topic1\", \"Topic1\", \"Topic1\", \"Topic1\", \"Topic1\", \"Topic1\", \"Topic1\", \"Topic1\", \"Topic1\", \"Topic1\", \"Topic1\", \"Topic1\", \"Topic1\", \"Topic2\", \"Topic2\", \"Topic2\", \"Topic2\", \"Topic2\", \"Topic2\", \"Topic2\", \"Topic2\", \"Topic2\", \"Topic2\", \"Topic2\", \"Topic2\", \"Topic2\", \"Topic2\", \"Topic2\", \"Topic2\", \"Topic2\", \"Topic2\", \"Topic2\", \"Topic2\", \"Topic2\", \"Topic2\", \"Topic2\", \"Topic2\", \"Topic2\", \"Topic2\", \"Topic2\", \"Topic2\", \"Topic2\", \"Topic2\", \"Topic2\", \"Topic2\", \"Topic2\", \"Topic2\", \"Topic2\", \"Topic2\", \"Topic2\", \"Topic2\", \"Topic2\", \"Topic2\", \"Topic2\", \"Topic2\", \"Topic2\", \"Topic2\", \"Topic2\", \"Topic2\", \"Topic2\", \"Topic2\", \"Topic2\", \"Topic2\", \"Topic2\", \"Topic2\", \"Topic2\", \"Topic2\", \"Topic2\", \"Topic2\", \"Topic2\", \"Topic2\", \"Topic2\", \"Topic2\", \"Topic2\", \"Topic2\", \"Topic2\", \"Topic2\", \"Topic2\", \"Topic2\", \"Topic2\", \"Topic2\", \"Topic2\", \"Topic2\", \"Topic2\", \"Topic2\", \"Topic2\", \"Topic2\", \"Topic2\", \"Topic2\", \"Topic2\", \"Topic2\", \"Topic2\", \"Topic2\", \"Topic2\", \"Topic3\", \"Topic3\", \"Topic3\", \"Topic3\", \"Topic3\", \"Topic3\", \"Topic3\", \"Topic3\", \"Topic3\", \"Topic3\", \"Topic3\", \"Topic3\", \"Topic3\", \"Topic3\", \"Topic3\", \"Topic3\", \"Topic3\", \"Topic3\", \"Topic3\", \"Topic3\", \"Topic3\", \"Topic3\", \"Topic3\", \"Topic3\", \"Topic3\", \"Topic3\", \"Topic3\", \"Topic3\", \"Topic3\", \"Topic3\", \"Topic3\", \"Topic3\", \"Topic3\", \"Topic3\", \"Topic3\", \"Topic3\", \"Topic3\", \"Topic3\", \"Topic3\", \"Topic3\", \"Topic3\", \"Topic3\", \"Topic3\", \"Topic3\", \"Topic3\", \"Topic3\", \"Topic3\", \"Topic3\", \"Topic3\", \"Topic3\", \"Topic3\", \"Topic3\", \"Topic3\", \"Topic3\", \"Topic3\", \"Topic3\", \"Topic3\", \"Topic3\", \"Topic3\", \"Topic3\", \"Topic3\", \"Topic3\", \"Topic3\", \"Topic3\", \"Topic3\", \"Topic3\", \"Topic3\", \"Topic3\", \"Topic3\", \"Topic3\", \"Topic3\", \"Topic3\", \"Topic3\", \"Topic3\", \"Topic3\", \"Topic3\", \"Topic3\", \"Topic3\", \"Topic3\", \"Topic3\", \"Topic3\", \"Topic3\", \"Topic3\", \"Topic3\", \"Topic3\", \"Topic4\", \"Topic4\", \"Topic4\", \"Topic4\", \"Topic4\", \"Topic4\", \"Topic4\", \"Topic4\", \"Topic4\", \"Topic4\", \"Topic4\", \"Topic4\", \"Topic4\", \"Topic4\", \"Topic4\", \"Topic4\", \"Topic4\", \"Topic4\", \"Topic4\", \"Topic4\", \"Topic4\", \"Topic4\", \"Topic4\", \"Topic4\", \"Topic4\", \"Topic4\", \"Topic4\", \"Topic4\", \"Topic4\", \"Topic4\", \"Topic4\", \"Topic4\", \"Topic4\", \"Topic4\", \"Topic4\", \"Topic4\", \"Topic4\", \"Topic4\", \"Topic4\", \"Topic4\", \"Topic4\", \"Topic4\", \"Topic4\", \"Topic4\", \"Topic4\", \"Topic4\", \"Topic4\", \"Topic4\", \"Topic4\", \"Topic4\", \"Topic4\", \"Topic4\", \"Topic4\", \"Topic4\", \"Topic4\", \"Topic4\", \"Topic4\", \"Topic4\", \"Topic4\", \"Topic4\", \"Topic4\", \"Topic4\", \"Topic4\", \"Topic4\", \"Topic4\", \"Topic4\", \"Topic4\", \"Topic4\", \"Topic4\", \"Topic4\", \"Topic4\", \"Topic4\", \"Topic4\", \"Topic4\", \"Topic4\", \"Topic4\", \"Topic4\", \"Topic4\", \"Topic4\", \"Topic5\", \"Topic5\", \"Topic5\", \"Topic5\", \"Topic5\", \"Topic5\", \"Topic5\", \"Topic5\", \"Topic5\", \"Topic5\", \"Topic5\", \"Topic5\", \"Topic5\", \"Topic5\", \"Topic5\", \"Topic5\", \"Topic5\", \"Topic5\", \"Topic5\", \"Topic5\", \"Topic5\", \"Topic5\", \"Topic5\", \"Topic5\", \"Topic5\", \"Topic5\", \"Topic5\", \"Topic5\", \"Topic5\", \"Topic5\", \"Topic5\", \"Topic5\", \"Topic5\", \"Topic5\", \"Topic5\", \"Topic5\", \"Topic5\", \"Topic5\", \"Topic5\", \"Topic5\", \"Topic5\", \"Topic5\", \"Topic5\", \"Topic5\", \"Topic5\", \"Topic5\", \"Topic5\", \"Topic5\", \"Topic5\", \"Topic5\", \"Topic5\", \"Topic5\", \"Topic5\", \"Topic5\", \"Topic5\", \"Topic5\", \"Topic5\", \"Topic5\", \"Topic5\", \"Topic5\", \"Topic5\", \"Topic5\", \"Topic5\", \"Topic5\", \"Topic5\", \"Topic5\", \"Topic5\", \"Topic5\", \"Topic5\", \"Topic5\", \"Topic5\", \"Topic5\", \"Topic5\", \"Topic5\", \"Topic5\", \"Topic5\", \"Topic5\", \"Topic5\", \"Topic5\", \"Topic5\", \"Topic5\", \"Topic5\", \"Topic5\", \"Topic5\", \"Topic5\", \"Topic6\", \"Topic6\", \"Topic6\", \"Topic6\", \"Topic6\", \"Topic6\", \"Topic6\", \"Topic6\", \"Topic6\", \"Topic6\", \"Topic6\", \"Topic6\", \"Topic6\", \"Topic6\", \"Topic6\", \"Topic6\", \"Topic6\", \"Topic6\", \"Topic6\", \"Topic6\", \"Topic6\", \"Topic6\", \"Topic6\", \"Topic6\", \"Topic6\", \"Topic6\", \"Topic6\", \"Topic6\", \"Topic6\", \"Topic6\", \"Topic6\", \"Topic6\", \"Topic6\", \"Topic6\", \"Topic6\", \"Topic6\", \"Topic6\", \"Topic6\", \"Topic6\", \"Topic6\", \"Topic6\", \"Topic6\", \"Topic6\", \"Topic6\", \"Topic6\", \"Topic6\", \"Topic6\", \"Topic6\", \"Topic6\", \"Topic6\", \"Topic6\", \"Topic6\", \"Topic6\", \"Topic6\", \"Topic6\", \"Topic6\", \"Topic6\", \"Topic6\", \"Topic6\", \"Topic6\", \"Topic6\", \"Topic6\", \"Topic6\", \"Topic6\", \"Topic6\", \"Topic6\", \"Topic6\", \"Topic6\", \"Topic6\", \"Topic6\", \"Topic6\", \"Topic6\", \"Topic6\", \"Topic6\", \"Topic6\", \"Topic6\", \"Topic6\", \"Topic6\", \"Topic6\", \"Topic6\", \"Topic6\", \"Topic6\", \"Topic6\", \"Topic7\", \"Topic7\", \"Topic7\", \"Topic7\", \"Topic7\", \"Topic7\", \"Topic7\", \"Topic7\", \"Topic7\", \"Topic7\", \"Topic7\", \"Topic7\", \"Topic7\", \"Topic7\", \"Topic7\", \"Topic7\", \"Topic7\", \"Topic7\", \"Topic7\", \"Topic7\", \"Topic7\", \"Topic7\", \"Topic7\", \"Topic7\", \"Topic7\", \"Topic7\", \"Topic7\", \"Topic7\", \"Topic7\", \"Topic7\", \"Topic7\", \"Topic7\", \"Topic7\", \"Topic7\", \"Topic7\", \"Topic7\", \"Topic7\", \"Topic7\", \"Topic7\", \"Topic7\", \"Topic7\", \"Topic7\", \"Topic7\", \"Topic7\", \"Topic7\", \"Topic7\", \"Topic7\", \"Topic7\", \"Topic7\", \"Topic7\", \"Topic7\", \"Topic7\", \"Topic7\", \"Topic7\", \"Topic7\", \"Topic7\", \"Topic7\", \"Topic7\", \"Topic7\", \"Topic7\", \"Topic7\", \"Topic7\", \"Topic7\", \"Topic7\", \"Topic7\", \"Topic7\", \"Topic7\", \"Topic7\", \"Topic7\", \"Topic7\", \"Topic7\", \"Topic7\", \"Topic7\", \"Topic7\", \"Topic7\", \"Topic7\", \"Topic7\", \"Topic7\", \"Topic7\", \"Topic7\", \"Topic7\", \"Topic7\", \"Topic7\", \"Topic7\", \"Topic7\", \"Topic7\", \"Topic7\", \"Topic7\", \"Topic7\", \"Topic8\", \"Topic8\", \"Topic8\", \"Topic8\", \"Topic8\", \"Topic8\", \"Topic8\", \"Topic8\", \"Topic8\", \"Topic8\", \"Topic8\", \"Topic8\", \"Topic8\", \"Topic8\", \"Topic8\", \"Topic8\", \"Topic8\", \"Topic8\", \"Topic8\", \"Topic8\", \"Topic8\", \"Topic8\", \"Topic8\", \"Topic8\", \"Topic8\", \"Topic8\", \"Topic8\", \"Topic8\", \"Topic8\", \"Topic8\", \"Topic8\", \"Topic8\", \"Topic8\", \"Topic8\", \"Topic8\", \"Topic8\", \"Topic8\", \"Topic8\", \"Topic8\", \"Topic8\", \"Topic8\", \"Topic8\", \"Topic8\", \"Topic8\", \"Topic8\", \"Topic8\", \"Topic8\", \"Topic8\", \"Topic8\", \"Topic8\", \"Topic8\", \"Topic8\", \"Topic8\", \"Topic8\", \"Topic8\", \"Topic8\", \"Topic8\", \"Topic8\", \"Topic8\", \"Topic8\", \"Topic8\", \"Topic8\", \"Topic8\", \"Topic8\", \"Topic8\", \"Topic8\", \"Topic8\", \"Topic8\", \"Topic8\", \"Topic8\", \"Topic8\", \"Topic8\", \"Topic8\", \"Topic8\", \"Topic8\", \"Topic8\", \"Topic8\", \"Topic9\", \"Topic9\", \"Topic9\", \"Topic9\", \"Topic9\", \"Topic9\", \"Topic9\", \"Topic9\", \"Topic9\", \"Topic9\", \"Topic9\", \"Topic9\", \"Topic9\", \"Topic9\", \"Topic9\", \"Topic9\", \"Topic9\", \"Topic9\", \"Topic9\", \"Topic9\", \"Topic9\", \"Topic9\", \"Topic9\", \"Topic9\", \"Topic9\", \"Topic9\", \"Topic9\", \"Topic9\", \"Topic9\", \"Topic9\", \"Topic9\", \"Topic9\", \"Topic9\", \"Topic9\", \"Topic9\", \"Topic9\", \"Topic9\", \"Topic9\", \"Topic9\", \"Topic9\", \"Topic9\", \"Topic9\", \"Topic9\", \"Topic9\", \"Topic9\", \"Topic9\", \"Topic9\", \"Topic9\", \"Topic9\", \"Topic9\", \"Topic9\", \"Topic9\", \"Topic9\", \"Topic9\", \"Topic9\", \"Topic9\", \"Topic9\", \"Topic9\", \"Topic9\", \"Topic9\", \"Topic9\", \"Topic9\", \"Topic9\", \"Topic9\", \"Topic9\", \"Topic9\", \"Topic9\", \"Topic9\", \"Topic9\", \"Topic9\", \"Topic9\", \"Topic9\", \"Topic9\", \"Topic9\", \"Topic10\", \"Topic10\", \"Topic10\", \"Topic10\", \"Topic10\", \"Topic10\", \"Topic10\", \"Topic10\", \"Topic10\", \"Topic10\", \"Topic10\", \"Topic10\", \"Topic10\", \"Topic10\", \"Topic10\", \"Topic10\", \"Topic10\", \"Topic10\", \"Topic10\", \"Topic10\", \"Topic10\", \"Topic10\", \"Topic10\", \"Topic10\", \"Topic10\", \"Topic10\", \"Topic10\", \"Topic10\", \"Topic10\", \"Topic10\", \"Topic10\", \"Topic10\", \"Topic10\", \"Topic10\", \"Topic10\", \"Topic10\", \"Topic10\", \"Topic10\", \"Topic10\", \"Topic10\", \"Topic10\", \"Topic10\", \"Topic10\", \"Topic10\", \"Topic10\", \"Topic10\", \"Topic10\", \"Topic10\", \"Topic10\", \"Topic10\", \"Topic10\", \"Topic10\", \"Topic10\", \"Topic10\", \"Topic10\", \"Topic10\", \"Topic10\", \"Topic10\", \"Topic10\", \"Topic10\", \"Topic10\", \"Topic10\", \"Topic10\", \"Topic10\", \"Topic10\", \"Topic10\", \"Topic10\", \"Topic10\", \"Topic10\", \"Topic10\", \"Topic10\", \"Topic10\", \"Topic10\", \"Topic10\", \"Topic11\", \"Topic11\", \"Topic11\", \"Topic11\", \"Topic11\", \"Topic11\", \"Topic11\", \"Topic11\", \"Topic11\", \"Topic11\", \"Topic11\", \"Topic11\", \"Topic11\", \"Topic11\", \"Topic11\", \"Topic11\", \"Topic11\", \"Topic11\", \"Topic11\", \"Topic11\", \"Topic11\", \"Topic11\", \"Topic11\", \"Topic11\", \"Topic11\", \"Topic11\", \"Topic11\", \"Topic11\", \"Topic11\", \"Topic11\", \"Topic11\", \"Topic11\", \"Topic11\", \"Topic11\", \"Topic11\", \"Topic11\", \"Topic11\", \"Topic11\", \"Topic11\", \"Topic11\", \"Topic11\", \"Topic11\", \"Topic11\", \"Topic11\", \"Topic11\", \"Topic11\", \"Topic11\", \"Topic11\", \"Topic11\", \"Topic11\", \"Topic11\", \"Topic11\", \"Topic11\", \"Topic11\", \"Topic11\", \"Topic11\", \"Topic11\", \"Topic11\", \"Topic11\", \"Topic11\", \"Topic11\", \"Topic11\", \"Topic11\", \"Topic11\", \"Topic11\", \"Topic11\", \"Topic11\", \"Topic11\", \"Topic11\", \"Topic11\", \"Topic11\", \"Topic11\", \"Topic11\", \"Topic11\", \"Topic11\", \"Topic11\", \"Topic11\", \"Topic11\", \"Topic11\", \"Topic11\", \"Topic12\", \"Topic12\", \"Topic12\", \"Topic12\", \"Topic12\", \"Topic12\", \"Topic12\", \"Topic12\", \"Topic12\", \"Topic12\", \"Topic12\", \"Topic12\", \"Topic12\", \"Topic12\", \"Topic12\", \"Topic12\", \"Topic12\", \"Topic12\", \"Topic12\", \"Topic12\", \"Topic12\", \"Topic12\", \"Topic12\", \"Topic12\", \"Topic12\", \"Topic12\", \"Topic12\", \"Topic12\", \"Topic12\", \"Topic12\", \"Topic12\", \"Topic12\", \"Topic12\", \"Topic12\", \"Topic12\", \"Topic12\", \"Topic12\", \"Topic12\", \"Topic12\", \"Topic12\", \"Topic12\", \"Topic12\", \"Topic12\", \"Topic12\", \"Topic12\", \"Topic12\", \"Topic12\", \"Topic12\", \"Topic12\", \"Topic12\", \"Topic12\", \"Topic12\", \"Topic12\", \"Topic12\", \"Topic12\", \"Topic12\", \"Topic12\", \"Topic12\", \"Topic12\", \"Topic12\", \"Topic12\", \"Topic12\", \"Topic12\", \"Topic12\", \"Topic12\", \"Topic12\", \"Topic12\", \"Topic12\", \"Topic12\", \"Topic12\", \"Topic13\", \"Topic13\", \"Topic13\", \"Topic13\", \"Topic13\", \"Topic13\", \"Topic13\", \"Topic13\", \"Topic13\", \"Topic13\", \"Topic13\", \"Topic13\", \"Topic13\", \"Topic13\", \"Topic13\", \"Topic13\", \"Topic13\", \"Topic13\", \"Topic13\", \"Topic13\", \"Topic13\", \"Topic13\", \"Topic13\", \"Topic13\", \"Topic13\", \"Topic13\", \"Topic13\", \"Topic13\", \"Topic13\", \"Topic13\", \"Topic13\", \"Topic13\", \"Topic13\", \"Topic13\", \"Topic13\", \"Topic13\", \"Topic13\", \"Topic13\", \"Topic13\", \"Topic13\", \"Topic13\", \"Topic13\", \"Topic13\", \"Topic13\", \"Topic13\", \"Topic13\", \"Topic13\", \"Topic13\", \"Topic13\", \"Topic13\", \"Topic13\", \"Topic13\", \"Topic13\", \"Topic13\", \"Topic13\", \"Topic13\", \"Topic13\", \"Topic13\", \"Topic13\", \"Topic13\", \"Topic13\", \"Topic13\", \"Topic13\", \"Topic13\", \"Topic13\", \"Topic13\", \"Topic13\", \"Topic13\", \"Topic13\", \"Topic13\", \"Topic13\", \"Topic13\", \"Topic13\", \"Topic14\", \"Topic14\", \"Topic14\", \"Topic14\", \"Topic14\", \"Topic14\", \"Topic14\", \"Topic14\", \"Topic14\", \"Topic14\", \"Topic14\", \"Topic14\", \"Topic14\", \"Topic14\", \"Topic14\", \"Topic14\", \"Topic14\", \"Topic14\", \"Topic14\", \"Topic14\", \"Topic14\", \"Topic14\", \"Topic14\", \"Topic14\", \"Topic14\", \"Topic14\", \"Topic14\", \"Topic14\", \"Topic14\", \"Topic14\", \"Topic14\", \"Topic14\", \"Topic14\", \"Topic14\", \"Topic14\", \"Topic14\", \"Topic14\", \"Topic14\", \"Topic14\", \"Topic14\", \"Topic14\", \"Topic14\", \"Topic14\", \"Topic14\", \"Topic14\", \"Topic14\", \"Topic14\", \"Topic14\", \"Topic14\", \"Topic14\", \"Topic14\", \"Topic14\", \"Topic14\", \"Topic14\", \"Topic14\", \"Topic14\", \"Topic14\", \"Topic14\", \"Topic14\", \"Topic14\", \"Topic14\", \"Topic14\", \"Topic14\", \"Topic14\", \"Topic14\", \"Topic14\", \"Topic14\", \"Topic14\", \"Topic14\", \"Topic14\", \"Topic14\", \"Topic14\", \"Topic14\", \"Topic14\", \"Topic14\", \"Topic14\", \"Topic15\", \"Topic15\", \"Topic15\", \"Topic15\", \"Topic15\", \"Topic15\", \"Topic15\", \"Topic15\", \"Topic15\", \"Topic15\", \"Topic15\", \"Topic15\", \"Topic15\", \"Topic15\", \"Topic15\", \"Topic15\", \"Topic15\", \"Topic15\", \"Topic15\", \"Topic15\", \"Topic15\", \"Topic15\", \"Topic15\", \"Topic15\", \"Topic15\", \"Topic15\", \"Topic15\", \"Topic15\", \"Topic15\", \"Topic15\", \"Topic15\", \"Topic15\", \"Topic15\", \"Topic15\", \"Topic15\", \"Topic15\", \"Topic15\", \"Topic15\", \"Topic15\", \"Topic15\", \"Topic15\", \"Topic15\", \"Topic15\", \"Topic15\", \"Topic15\", \"Topic15\", \"Topic15\", \"Topic15\", \"Topic15\", \"Topic15\", \"Topic15\", \"Topic15\", \"Topic15\", \"Topic15\", \"Topic15\", \"Topic15\", \"Topic15\", \"Topic15\", \"Topic15\", \"Topic15\", \"Topic15\", \"Topic15\", \"Topic15\", \"Topic15\", \"Topic15\", \"Topic15\", \"Topic15\", \"Topic15\", \"Topic15\", \"Topic15\", \"Topic16\", \"Topic16\", \"Topic16\", \"Topic16\", \"Topic16\", \"Topic16\", \"Topic16\", \"Topic16\", \"Topic16\", \"Topic16\", \"Topic16\", \"Topic16\", \"Topic16\", \"Topic16\", \"Topic16\", \"Topic16\", \"Topic16\", \"Topic16\", \"Topic16\", \"Topic16\", \"Topic16\", \"Topic16\", \"Topic16\", \"Topic16\", \"Topic16\", \"Topic16\", \"Topic16\", \"Topic16\", \"Topic16\", \"Topic16\", \"Topic16\", \"Topic16\", \"Topic16\", \"Topic16\", \"Topic16\", \"Topic16\", \"Topic16\", \"Topic16\", \"Topic16\", \"Topic16\", \"Topic16\", \"Topic16\", \"Topic16\", \"Topic16\", \"Topic16\", \"Topic16\", \"Topic16\", \"Topic16\", \"Topic16\", \"Topic16\", \"Topic16\", \"Topic16\", \"Topic16\", \"Topic16\", \"Topic16\", \"Topic16\", \"Topic16\", \"Topic16\", \"Topic16\", \"Topic16\", \"Topic16\", \"Topic16\", \"Topic16\", \"Topic16\", \"Topic16\", \"Topic16\", \"Topic16\", \"Topic16\", \"Topic16\", \"Topic16\", \"Topic16\", \"Topic16\", \"Topic16\", \"Topic16\", \"Topic16\", \"Topic16\", \"Topic17\", \"Topic17\", \"Topic17\", \"Topic17\", \"Topic17\", \"Topic17\", \"Topic17\", \"Topic17\", \"Topic17\", \"Topic17\", \"Topic17\", \"Topic17\", \"Topic17\", \"Topic17\", \"Topic17\", \"Topic17\", \"Topic17\", \"Topic17\", \"Topic17\", \"Topic17\", \"Topic17\", \"Topic17\", \"Topic17\", \"Topic17\", \"Topic17\", \"Topic17\", \"Topic17\", \"Topic17\", \"Topic17\", \"Topic17\", \"Topic17\", \"Topic17\", \"Topic17\", \"Topic17\", \"Topic17\", \"Topic17\", \"Topic17\", \"Topic17\", \"Topic17\", \"Topic17\", \"Topic17\", \"Topic17\", \"Topic17\", \"Topic17\", \"Topic17\", \"Topic17\", \"Topic17\", \"Topic17\", \"Topic17\", \"Topic17\", \"Topic17\", \"Topic17\", \"Topic17\", \"Topic17\", \"Topic17\", \"Topic17\", \"Topic17\", \"Topic17\", \"Topic17\", \"Topic17\", \"Topic17\", \"Topic17\", \"Topic17\", \"Topic17\", \"Topic17\", \"Topic17\", \"Topic17\", \"Topic17\", \"Topic17\", \"Topic17\", \"Topic17\", \"Topic17\", \"Topic17\", \"Topic17\", \"Topic17\", \"Topic17\", \"Topic17\", \"Topic17\", \"Topic17\", \"Topic17\", \"Topic17\", \"Topic17\", \"Topic17\", \"Topic17\", \"Topic17\", \"Topic17\", \"Topic17\", \"Topic18\", \"Topic18\", \"Topic18\", \"Topic18\", \"Topic18\", \"Topic18\", \"Topic18\", \"Topic18\", \"Topic18\", \"Topic18\", \"Topic18\", \"Topic18\", \"Topic18\", \"Topic18\", \"Topic18\", \"Topic18\", \"Topic18\", \"Topic18\", \"Topic18\", \"Topic18\", \"Topic18\", \"Topic18\", \"Topic18\", \"Topic18\", \"Topic18\", \"Topic18\", \"Topic18\", \"Topic18\", \"Topic18\", \"Topic18\", \"Topic18\", \"Topic18\", \"Topic18\", \"Topic18\", \"Topic18\", \"Topic18\", \"Topic18\", \"Topic18\", \"Topic18\", \"Topic18\", \"Topic18\", \"Topic18\", \"Topic18\", \"Topic18\", \"Topic18\", \"Topic18\", \"Topic18\", \"Topic18\", \"Topic18\", \"Topic18\", \"Topic18\", \"Topic18\", \"Topic18\", \"Topic18\", \"Topic18\", \"Topic18\", \"Topic18\", \"Topic18\", \"Topic18\", \"Topic18\", \"Topic18\", \"Topic18\", \"Topic18\", \"Topic18\", \"Topic18\", \"Topic18\", \"Topic18\", \"Topic18\", \"Topic18\", \"Topic18\", \"Topic18\", \"Topic18\", \"Topic19\", \"Topic19\", \"Topic19\", \"Topic19\", \"Topic19\", \"Topic19\", \"Topic19\", \"Topic19\", \"Topic19\", \"Topic19\", \"Topic19\", \"Topic19\", \"Topic19\", \"Topic19\", \"Topic19\", \"Topic19\", \"Topic19\", \"Topic19\", \"Topic19\", \"Topic19\", \"Topic19\", \"Topic19\", \"Topic19\", \"Topic19\", \"Topic19\", \"Topic19\", \"Topic19\", \"Topic19\", \"Topic19\", \"Topic19\", \"Topic19\", \"Topic19\", \"Topic19\", \"Topic19\", \"Topic19\", \"Topic19\", \"Topic19\", \"Topic19\", \"Topic19\", \"Topic19\", \"Topic19\", \"Topic19\", \"Topic19\", \"Topic19\", \"Topic19\", \"Topic19\", \"Topic19\", \"Topic19\", \"Topic19\", \"Topic19\", \"Topic19\", \"Topic19\", \"Topic19\", \"Topic19\", \"Topic19\", \"Topic19\", \"Topic19\", \"Topic19\", \"Topic19\", \"Topic19\", \"Topic19\", \"Topic19\", \"Topic19\", \"Topic19\", \"Topic19\", \"Topic19\", \"Topic19\", \"Topic19\", \"Topic19\", \"Topic19\", \"Topic19\", \"Topic19\", \"Topic19\", \"Topic19\", \"Topic19\", \"Topic19\", \"Topic19\", \"Topic19\", \"Topic19\", \"Topic19\", \"Topic19\", \"Topic19\", \"Topic20\", \"Topic20\", \"Topic20\", \"Topic20\", \"Topic20\", \"Topic20\", \"Topic20\", \"Topic20\", \"Topic20\", \"Topic20\", \"Topic20\", \"Topic20\", \"Topic20\", \"Topic20\", \"Topic20\", \"Topic20\", \"Topic20\", \"Topic20\", \"Topic20\", \"Topic20\", \"Topic20\", \"Topic20\", \"Topic20\", \"Topic20\", \"Topic20\", \"Topic20\", \"Topic20\", \"Topic20\", \"Topic20\", \"Topic20\", \"Topic20\", \"Topic20\", \"Topic20\", \"Topic20\", \"Topic20\", \"Topic20\", \"Topic20\", \"Topic20\", \"Topic20\", \"Topic20\", \"Topic20\", \"Topic20\", \"Topic20\", \"Topic20\", \"Topic20\", \"Topic20\", \"Topic20\", \"Topic20\", \"Topic20\", \"Topic20\", \"Topic20\", \"Topic20\", \"Topic20\", \"Topic20\", \"Topic20\", \"Topic20\", \"Topic20\", \"Topic20\", \"Topic20\", \"Topic20\", \"Topic20\", \"Topic20\", \"Topic20\", \"Topic20\", \"Topic20\", \"Topic20\", \"Topic20\", \"Topic20\", \"Topic20\", \"Topic20\", \"Topic20\", \"Topic20\", \"Topic20\"], \"logprob\": [30.0, 29.0, 28.0, 27.0, 26.0, 25.0, 24.0, 23.0, 22.0, 21.0, 20.0, 19.0, 18.0, 17.0, 16.0, 15.0, 14.0, 13.0, 12.0, 11.0, 10.0, 9.0, 8.0, 7.0, 6.0, 5.0, 4.0, 3.0, 2.0, 1.0, -10.024, -10.2483, -9.3247, -9.5275, -10.2264, -10.6605, -10.3925, -9.5295, -10.4543, -9.8931, -7.8631, -10.7041, -9.6078, -10.0459, -10.6848, -9.8389, -9.3358, -10.638, -10.3414, -11.1875, -9.0099, -9.6248, -8.6732, -8.5084, -10.5683, -11.1965, -10.2925, -11.1729, -10.0314, -10.6904, -5.539, -4.8273, -5.3686, -5.523, -5.4856, -5.4899, -5.8389, -5.7361, -5.539, -6.011, -6.9189, -6.4024, -6.6381, -5.6719, -6.1177, -6.2225, -6.0594, -5.653, -6.1107, -5.7939, -5.7333, -6.1395, -5.8303, -8.0644, -7.1827, -6.2035, -6.0185, -5.9635, -5.4786, -5.8148, -5.6955, -5.9575, -5.982, -6.0702, -6.1028, -5.9331, -6.0542, -9.4687, -9.3906, -9.9756, -9.6621, -9.687, -9.6224, -9.6163, -10.0263, -10.5065, -10.0572, -10.0839, -10.3134, -9.9804, -10.1278, -10.0634, -10.1665, -10.3722, -10.5413, -10.0163, -10.5456, -10.5881, -10.2151, -10.1098, -9.3435, -10.5908, -10.3763, -10.1361, -10.0313, -10.3275, -10.2605, -10.1023, -9.7728, -10.1421, -9.8755, -9.277, -9.9853, -9.9783, -9.9876, -9.9513, -9.8379, -9.9178, -9.8649, -9.7915, -9.4606, -8.9726, -9.851, -9.4979, -9.828, -5.2839, -7.3501, -5.7848, -6.0117, -5.8616, -6.0065, -5.9864, -5.9955, -6.1731, -6.1026, -6.1443, -6.1101, -6.0695, -6.2964, -6.2007, -6.2444, -6.2641, -6.3634, -6.4411, -6.4193, -6.3729, -6.468, -6.7206, -6.2636, -6.6844, -6.5554, -6.4747, -6.5294, -6.5647, -6.6427, -6.595, -6.5823, -6.6474, -9.8159, -9.2873, -8.996, -8.8885, -9.3117, -10.0087, -9.0899, -9.3567, -9.8208, -9.604, -9.5029, -9.9786, -10.5311, -9.8812, -9.4846, -9.8088, -10.1796, -9.638, -10.5647, -9.8057, -9.8815, -9.9711, -10.1011, -9.9531, -9.49, -10.1893, -10.064, -10.6735, -9.8533, -10.36, -9.378, -9.5331, -9.7536, -9.4564, -9.3644, -9.5808, -9.0358, -9.2226, -9.6211, -9.4717, -9.4826, -9.2619, -9.3822, -9.0248, -9.2465, -9.3135, -9.0575, -9.4425, -9.1829, -9.1711, -8.9984, -6.214, -6.2514, -6.2607, -6.0393, -6.2595, -6.3528, -9.0501, -6.5406, -6.4776, -6.6676, -6.5905, -7.5628, -6.7488, -6.847, -6.7529, -6.7509, -6.8808, -6.7547, -6.8978, -6.9083, -6.892, -6.8223, -6.9296, -6.8475, -7.1656, -7.1564, -6.952, -6.9902, -7.167, -7.0217, -7.1094, -7.1992, -7.0947, -7.1317, -9.5451, -9.5647, -9.9129, -9.2779, -9.6443, -9.6614, -9.5299, -9.5173, -9.7266, -9.5172, -9.6614, -9.7988, -9.8913, -9.8039, -10.1759, -9.8629, -9.364, -10.0065, -9.6205, -9.3198, -9.6542, -9.6317, -9.5544, -9.851, -9.5514, -10.027, -10.4038, -10.0102, -9.4529, -9.925, -9.5734, -9.4159, -9.3233, -9.4153, -9.3167, -9.2645, -9.35, -9.2171, -9.3341, -9.2427, -9.506, -9.1259, -8.7872, -9.4851, -9.3106, -8.9771, -6.6187, -8.7995, -6.3428, -6.659, -6.6675, -6.6856, -7.2085, -6.8151, -6.9706, -6.8371, -6.924, -7.0112, -6.8711, -7.0062, -7.2031, -7.1279, -7.2034, -7.348, -7.3131, -7.236, -7.362, -7.4749, -7.4596, -7.3642, -7.4542, -8.5216, -7.409, -7.6041, -7.4756, -7.3918, -7.4158, -7.4768, -7.4216, -9.5345, -9.6659, -9.6309, -9.8731, -9.3217, -9.8343, -9.9124, -10.2681, -9.8602, -9.8925, -9.2555, -9.387, -9.8256, -9.6996, -9.8164, -9.1754, -10.0688, -9.3634, -10.2584, -9.7509, -9.5319, -9.3955, -9.9132, -9.2857, -9.6872, -10.2454, -9.4382, -10.1182, -9.1086, -10.3398, -9.5041, -8.8505, -9.3648, -9.3983, -9.562, -9.4501, -9.3725, -9.2306, -9.3693, -9.4496, -9.0695, -9.3965, -9.0559, -8.5618, -9.1176, -9.3811, -9.0115, -8.9958, -9.1906, -8.9981, -6.7949, -9.248, -6.7548, -6.8545, -9.0491, -6.98, -6.9039, -7.5009, -7.2487, -9.1448, -7.417, -7.3115, -7.3585, -7.5542, -7.6942, -7.5205, -7.6303, -7.5856, -7.5276, -7.7058, -7.6098, -7.7819, -7.796, -7.6932, -7.7199, -7.6023, -7.6738, -7.8999, -7.7252, -7.7296, -7.7797, -7.9136, -7.8702, -7.8315, -7.8667, -9.3496, -9.7129, -10.071, -9.5512, -9.3319, -9.5675, -9.1387, -9.0167, -9.7167, -8.8873, -9.7379, -9.4, -9.1904, -10.1726, -9.4982, -8.8916, -9.9017, -9.4287, -9.3062, -9.9102, -9.4234, -9.6536, -9.2328, -9.1303, -9.7896, -9.5023, -9.6763, -9.7862, -9.0753, -9.4486, -9.3338, -9.3054, -8.9396, -9.3703, -9.3221, -8.8965, -9.0594, -9.3005, -8.712, -9.183, -8.4161, -8.8966, -8.9111, -8.8722, -9.1272, -9.023, -9.048, -9.0983, -9.0208, -8.9172, -9.004, -6.7857, -8.9993, -7.1014, -7.5658, -7.1731, -7.2609, -7.2534, -7.4032, -7.6145, -7.739, -7.5921, -7.573, -7.7274, -7.7893, -7.7995, -7.7904, -7.7339, -7.8758, -7.8545, -7.8783, -7.9945, -7.9443, -7.9542, -8.0991, -7.9436, -8.0572, -7.9313, -7.9243, -8.0463, -7.9808, -7.9866, -8.017, -9.5271, -9.4163, -9.2119, -9.8058, -9.5013, -8.7823, -9.3889, -9.8785, -9.4458, -9.5252, -8.6365, -9.2909, -9.8901, -9.0815, -10.0342, -9.8739, -8.747, -9.6971, -9.6743, -10.0934, -9.2524, -9.6621, -9.1538, -9.3558, -9.8991, -9.1318, -9.3848, -9.9897, -10.0706, -9.8693, -9.1727, -9.4159, -9.6116, -8.8867, -9.1952, -9.2707, -8.8275, -8.7519, -9.1894, -8.865, -9.2094, -8.7494, -9.1375, -9.1116, -8.8782, -8.4483, -8.7256, -8.9342, -9.0151, -9.0144, -8.9132, -8.8079, -8.8729, -8.8765, -8.7804, -8.9834, -8.9765, -8.985, -9.0281, -8.9932, -8.9322, -7.9881, -8.1103, -8.9909, -8.1877, -8.9194, -8.9477, -8.3122, -8.2987, -8.7591, -8.5469, -8.5312, -8.6164, -8.4349, -8.8953, -8.5992, -8.5664, -8.6091, -8.6245, -8.6723, -8.6433, -8.7014, -8.6799, -8.7131, -8.7249, -8.7426, -8.7378, -8.7484, -8.752, -8.9802, -8.9503, -9.4569, -9.744, -9.6342, -9.3064, -9.2544, -9.2359, -9.5148, -9.5911, -9.1528, -9.4505, -9.3047, -9.8283, -9.3225, -9.0783, -9.7064, -9.8844, -9.8535, -9.8224, -9.1741, -9.0948, -9.8042, -9.3891, -10.0365, -10.0699, -9.9284, -10.1966, -9.8337, -9.189, -9.151, -9.0931, -9.2231, -9.2684, -9.1184, -8.6663, -9.0919, -8.9447, -9.0611, -8.7254, -8.7489, -8.8185, -8.9023, -8.9102, -8.8619, -8.8046, -8.745, -8.8089, -8.7514, -8.8907, -8.9479, -8.9891, -8.9341, -8.8091, -8.7112, -8.8304, -8.8394, -8.7927, -8.7018, -8.854, -8.8207, -8.86, -8.8725, -8.8577, -8.1703, -8.8708, -8.4405, -8.5283, -8.5352, -8.7615, -8.6459, -8.8373, -8.6911, -8.7061, -8.7105, -8.8119, -8.8531, -9.1913, -8.9548, -9.013, -9.3871, -9.1615, -9.2875, -9.014, -9.069, -9.757, -9.7869, -9.6581, -9.2534, -9.1822, -9.7845, -9.6009, -9.4243, -9.0347, -9.7384, -9.3411, -9.3468, -8.9814, -9.761, -8.831, -9.3407, -9.7418, -9.942, -9.779, -9.1774, -9.4314, -9.3993, -8.5728, -9.2624, -9.2588, -8.9877, -8.744, -8.8987, -9.09, -9.2596, -8.9468, -8.9851, -9.0745, -9.0296, -8.6846, -8.8062, -8.8686, -8.7713, -8.9208, -8.708, -9.0296, -8.9598, -8.9438, -9.0284, -8.9497, -8.0218, -8.2089, -8.8927, -8.3091, -8.516, -8.5977, -8.628, -8.5528, -8.6312, -8.6525, -8.6877, -8.6954, -8.7264, -8.7228, -8.7838, -8.7691, -8.8104, -8.8404, -8.864, -8.8719, -8.9048, -8.8737, -8.7554, -9.1517, -8.9084, -9.2665, -9.0194, -9.3631, -8.9163, -9.4977, -9.2813, -10.0145, -8.8132, -9.164, -9.6719, -9.2097, -9.0556, -9.4905, -9.4884, -9.3084, -9.6973, -9.7353, -9.1589, -9.4406, -9.7744, -8.8817, -9.0867, -9.2656, -9.9518, -9.385, -9.0578, -8.8885, -9.2685, -9.2173, -8.8085, -8.9201, -8.7312, -8.4818, -9.0367, -8.8148, -8.8026, -8.6184, -8.9043, -8.8637, -8.8856, -8.9036, -8.857, -8.731, -8.7934, -8.7402, -8.8235, -8.8157, -8.7567, -8.7959, -9.0066, -7.9911, -8.9126, -8.8329, -8.1985, -8.337, -8.279, -8.3437, -8.3766, -8.4075, -8.4187, -8.4527, -8.4407, -8.4615, -8.4978, -8.479, -8.5452, -8.7136, -8.7268, -8.7862, -8.8117, -8.9848, -9.0662, -8.9786, -9.2328, -9.7204, -9.3214, -9.9215, -9.598, -9.6017, -9.6109, -9.78, -9.2818, -9.8265, -9.4758, -9.1188, -9.9506, -9.571, -9.7348, -9.7421, -9.5601, -9.2031, -9.6489, -9.6416, -9.478, -9.3952, -9.9034, -9.7054, -9.8984, -9.3192, -10.1039, -9.5798, -9.5537, -9.0534, -9.265, -9.083, -9.3299, -9.2413, -8.7503, -9.0394, -9.1221, -9.1113, -8.7265, -8.7022, -8.9091, -9.0319, -8.9116, -8.9876, -8.7379, -9.1195, -8.95, -8.8499, -9.0441, -8.7233, -8.9584, -8.6631, -8.9654, -8.9353, -8.8093, -8.854, -8.8349, -8.9933, -8.4669, -8.6936, -8.7032, -8.873, -8.8707, -8.9591, -8.8861, -8.827, -8.3396, -8.8228, -8.8901, -8.9058, -8.9167, -8.9092, -8.8948, -8.864, -8.9281, -8.9378, -8.9305, -8.9089, -9.3107, -8.9527, -9.3409, -9.5935, -9.7665, -8.9547, -9.214, -10.1057, -10.1092, -9.7905, -9.3434, -9.3198, -9.721, -9.8034, -9.5314, -8.7221, -9.0568, -9.0788, -9.8194, -9.38, -8.8174, -8.7232, -10.2445, -9.8779, -9.5427, -9.3848, -9.6004, -9.0206, -9.77, -9.1134, -9.3787, -8.7169, -9.0064, -9.2106, -9.1368, -9.0069, -9.2922, -8.7181, -8.6826, -8.9949, -8.7755, -8.8493, -8.776, -9.0331, -9.0898, -9.0253, -8.8799, -8.8882, -8.6495, -8.7745, -8.6879, -8.9026, -8.8895, -8.6998, -8.9258, -8.9849, -8.7975, -8.8805, -8.9491, -8.1846, -8.9154, -8.8361, -8.8616, -8.9053, -8.9245, -8.8373, -8.819, -8.9225, -8.9106, -8.7377, -9.1568, -9.7238, -9.4653, -9.2472, -9.4986, -9.5923, -9.1682, -9.3054, -9.0728, -9.3157, -10.0406, -9.6253, -9.2665, -9.2592, -9.7501, -10.1801, -9.1615, -9.3044, -9.7256, -9.5869, -9.6714, -9.2997, -9.7419, -9.5129, -9.8251, -9.7202, -9.422, -9.124, -9.6007, -9.4527, -9.0976, -9.3763, -8.7825, -8.7363, -8.8246, -8.8449, -9.3448, -8.8695, -9.1661, -9.1151, -9.2368, -8.9551, -8.7941, -8.7296, -8.8089, -8.9636, -8.9363, -8.8241, -9.0007, -8.921, -8.9398, -9.0032, -8.8796, -8.8418, -8.7964, -8.919, -8.8609, -8.9079, -8.77, -8.9001, -8.8967, -8.975, -8.9186, -8.8267, -8.9009, -8.7659, -8.9018, -8.6072, -8.7407, -8.7824, -8.8919, -8.9209, -9.0722, -8.9115, -8.8439, -9.3192, -9.5618, -9.0797, -10.3584, -9.5033, -8.9908, -9.4496, -8.9736, -9.6256, -9.5585, -9.2911, -9.3383, -9.3107, -9.2891, -8.9659, -10.0274, -9.4879, -9.8086, -9.0883, -9.67, -9.9259, -9.7098, -9.6588, -8.7437, -9.8669, -9.6534, -9.7126, -9.1822, -9.4964, -9.2618, -9.2397, -8.9022, -8.9745, -8.9706, -9.1202, -9.1464, -9.1698, -8.7502, -8.7623, -8.9698, -8.9777, -8.665, -8.9732, -8.7663, -8.7512, -8.8897, -8.7128, -8.9481, -8.8947, -8.8159, -8.997, -8.9537, -8.9232, -8.8431, -8.7524, -8.8973, -8.8352, -8.4457, -8.4527, -8.6549, -8.4307, -8.727, -8.7404, -8.5631, -8.7616, -8.8626, -8.7064, -8.7208, -8.7688, -8.84, -8.8609, -8.867, -8.8761, -9.9568, -9.0685, -9.1729, -9.6669, -9.2172, -9.7143, -9.5418, -9.8118, -9.4205, -9.3136, -9.6227, -9.5091, -8.9344, -9.6851, -9.2226, -9.9585, -9.1067, -9.0396, -9.1109, -9.3102, -9.0541, -9.1665, -8.7632, -9.7638, -9.8185, -9.5812, -9.3046, -9.4332, -9.0112, -9.6774, -8.9247, -8.8574, -9.0182, -9.2297, -9.1107, -8.8579, -8.8965, -8.3405, -9.1487, -8.9506, -8.9489, -8.8741, -8.8112, -9.2042, -8.778, -8.8005, -9.0845, -9.0957, -8.5197, -8.8583, -8.7177, -8.5819, -8.7248, -8.9526, -8.8912, -8.7097, -8.8641, -8.9004, -8.7563, -8.863, -8.8298, -8.8897, -8.8904, -8.6988, -8.8873, -8.6345, -8.6533, -8.6833, -8.8606, -8.9193, -9.609, -9.2649, -9.5962, -9.3372, -9.3676, -9.1758, -9.1863, -9.3744, -9.2027, -9.0912, -8.8157, -9.1621, -9.9046, -9.2951, -10.5532, -9.4712, -9.8853, -9.7903, -9.3965, -9.1604, -9.5554, -9.6518, -9.8271, -9.2436, -10.2862, -9.3299, -9.5372, -9.5589, -9.1395, -9.6676, -9.1293, -9.5025, -9.4175, -9.3927, -9.1626, -8.8542, -9.2366, -8.4358, -9.0282, -8.7857, -9.0851, -8.7918, -9.0167, -8.3303, -8.6545, -8.8236, -9.0477, -8.9473, -9.1214, -8.7335, -8.7824, -8.9387, -9.0059, -8.7864, -9.0393, -8.8527, -8.8201, -8.7709, -8.8222, -8.8203, -8.9605, -8.9103, -8.7646, -8.9773, -8.9845, -8.9518, -8.9584, -8.8469, -8.9976, -8.5923, -8.9043, -8.9599, -8.9483, -8.9744, -8.9063, -8.9675, -9.3376, -9.8102, -9.8372, -9.6587, -9.1345, -8.8667, -9.3103, -9.4244, -9.0104, -9.8527, -9.6619, -9.3142, -9.7584, -9.3363, -9.3179, -9.5023, -9.7757, -9.5781, -9.2391, -9.6134, -9.7773, -10.1973, -9.4495, -9.494, -9.8454, -10.2621, -9.6034, -9.9272, -9.8989, -9.8667, -9.1676, -9.0177, -9.2569, -9.0701, -9.0172, -9.0271, -9.2481, -8.2574, -9.0867, -8.715, -9.1174, -8.8331, -8.9885, -9.2291, -9.0191, -8.8792, -8.9351, -8.902, -8.8794, -9.0467, -8.8028, -9.0546, -9.0011, -8.9664, -8.7984, -9.0008, -8.8306, -8.8183, -9.01, -9.0133, -9.0066, -7.933, -7.8526, -8.8338, -8.9697, -8.2364, -8.7173, -8.8844, -8.4385, -8.9138, -8.9047, -8.5236, -8.6006, -8.7584, -8.8146, -8.6302, -8.7083, -8.7199, -8.7882, -8.8152, -8.8083, -8.8292, -8.8176, -8.8439, -8.8643, -8.8768, -8.8769, -8.8419, -8.6604, -8.7832, -9.314, -9.3565, -9.2759, -9.0488, -9.3618, -9.2071, -9.5504, -9.4937, -9.6809, -9.71, -10.0162, -9.4751, -9.5357, -9.484, -9.6977, -9.163, -9.6357, -9.381, -9.2748, -9.416, -10.0273, -9.7151, -8.8224, -10.6619, -9.4499, -9.6416, -9.3775, -9.2649, -9.2495, -9.0875, -8.7996, -8.8457, -9.0262, -8.9723, -8.5686, -8.908, -8.7249, -8.9756, -8.7092, -8.6998, -9.1427, -8.9543, -8.5538, -8.8294, -8.9316, -8.9292, -9.1121, -8.837, -9.0054, -8.6538, -8.9319, -8.8705, -8.736, -9.023, -8.8918, -8.8848, -8.8967, -8.724, -8.6951, -8.8114, -8.7816, -8.7462, -8.8472, -8.7842, -8.6644, -8.6779, -8.7597, -8.8405, -8.8878, -9.6373, -9.3967, -9.3225, -9.7665, -9.6908, -8.9826, -9.2735, -9.3389, -9.6528, -10.0738, -9.6938, -9.5617, -9.5252, -9.2501, -9.9175, -9.3347, -9.7949, -9.9877, -10.2408, -9.8493, -9.7041, -10.6439, -9.5009, -9.9741, -9.7305, -10.2919, -9.4677, -9.6487, -9.6293, -9.6277, -9.3659, -9.2888, -9.1406, -9.4288, -9.2608, -8.5695, -9.4948, -8.9047, -8.7598, -9.1513, -8.5909, -9.047, -8.6938, -8.9442, -9.031, -9.0123, -8.9558, -8.994, -8.8828, -9.029, -8.8417, -9.0267, -8.9499, -8.9585, -8.9848, -8.6973, -8.6641, -8.8232, -8.8792, -8.9245, -8.9008, -8.8764, -8.8558, -8.9067, -8.8601, -8.8228, -8.8611, -8.81, -8.7248, -7.9867, -8.8112, -8.764, -8.2583, -8.8112, -8.6681, -8.4481, -8.869, -8.6459, -8.6051, -8.6805, -8.7679, -8.8796, -9.3464, -9.1976, -9.7802, -9.3515, -9.175, -9.421, -9.1738, -9.5964, -8.9056, -9.7191, -9.4289, -10.0912, -9.9453, -9.9234, -8.9101, -9.4686, -9.2323, -9.7066, -10.206, -9.5638, -9.5292, -9.5723, -9.1075, -9.4041, -9.6073, -9.5588, -9.7083, -9.5099, -9.4858, -9.2709, -8.9059, -9.0736, -9.3496, -9.2787, -8.6759, -8.9564, -8.8218, -8.7929, -9.0777, -8.5155, -9.2318, -8.964, -8.9813, -9.0244, -8.7791, -8.9135, -9.1296, -8.8476, -8.8703, -9.1448, -8.6566, -8.9285, -8.8028, -8.6435, -8.7201, -8.9189, -8.9881, -8.7787, -8.7758, -8.7001, -8.8039, -8.794, -8.9678, -8.9521, -8.9023, -8.9477, -8.8909, -8.8973, -8.901, -8.7828, -8.8772, -8.9398, -8.9423], \"loglift\": [30.0, 29.0, 28.0, 27.0, 26.0, 25.0, 24.0, 23.0, 22.0, 21.0, 20.0, 19.0, 18.0, 17.0, 16.0, 15.0, 14.0, 13.0, 12.0, 11.0, 10.0, 9.0, 8.0, 7.0, 6.0, 5.0, 4.0, 3.0, 2.0, 1.0, 0.0679, 0.0675, 0.0668, 0.0667, 0.0665, 0.0662, 0.0658, 0.0656, 0.0655, 0.0651, 0.0644, 0.0641, 0.064, 0.0639, 0.0639, 0.0638, 0.0635, 0.0635, 0.0633, 0.0632, 0.0631, 0.0631, 0.063, 0.0626, 0.0626, 0.0623, 0.0622, 0.0622, 0.0621, 0.0621, 0.0498, 0.039, 0.0389, 0.0397, 0.0391, 0.0381, 0.041, 0.0396, 0.0374, 0.0419, 0.0511, 0.0457, 0.048, 0.0382, 0.0424, 0.043, 0.0412, 0.0366, 0.0411, 0.0377, 0.0371, 0.0409, 0.0376, 0.0601, 0.051, 0.0405, 0.0386, 0.0379, 0.033, 0.0355, 0.0328, 0.0367, 0.037, 0.0382, 0.0388, 0.0341, 0.0357, 2.9683, 2.9364, 2.9303, 2.9224, 2.9153, 2.9109, 2.9107, 2.9092, 2.9021, 2.8956, 2.8926, 2.8883, 2.8815, 2.8787, 2.8785, 2.8734, 2.871, 2.8691, 2.868, 2.8659, 2.8628, 2.8625, 2.861, 2.8606, 2.8591, 2.8584, 2.8583, 2.8579, 2.8578, 2.8576, 2.8544, 2.8492, 2.8515, 2.8429, 2.8141, 2.8358, 2.8351, 2.8358, 2.8179, 2.7848, 2.7995, 2.786, 2.7667, 2.6716, 2.5243, 2.7694, 2.6288, 2.7332, -0.4176, 0.9315, -0.2732, -0.2834, -0.454, -0.4302, -0.4584, -0.4709, -0.3227, -0.3925, -0.3739, -0.4206, -0.5068, -0.3293, -0.4249, -0.4129, -0.3962, -0.3692, -0.3512, -0.4002, -0.493, -0.4109, -0.1548, -0.6748, -0.2315, -0.3735, -0.4733, -0.421, -0.4231, -0.3769, -0.4945, -0.5293, -0.467, 4.5008, 4.4377, 4.4193, 4.4074, 4.38, 4.3683, 4.345, 4.3316, 4.3096, 4.3, 4.2798, 4.2535, 4.2519, 4.2497, 4.2473, 4.1931, 4.1813, 4.1778, 4.1671, 4.1519, 4.1485, 4.148, 4.1415, 4.1411, 4.1363, 4.1344, 4.1313, 4.1311, 4.1299, 4.1241, 4.0822, 4.0726, 4.0726, 4.0216, 4.0062, 4.0407, 3.9311, 3.9196, 4.0284, 3.9684, 3.9656, 3.8299, 3.872, 3.5997, 3.75, 3.7911, 3.5531, 3.8794, 3.5497, 3.461, 3.229, -0.6513, -0.675, -0.7361, -1.1731, -0.8519, -0.8249, 3.285, -0.8124, -0.9661, -0.6662, -0.9009, 0.7188, -0.7297, -0.5836, -0.7857, -0.9193, -0.7207, -0.9844, -0.7159, -0.7565, -0.802, -0.9544, -0.8212, -1.1374, -0.4676, -0.5578, -1.0721, -0.9959, -0.5696, -0.9688, -0.8436, -0.7902, -1.2443, -1.3559, 4.7232, 4.6206, 4.6107, 4.5603, 4.5538, 4.4773, 4.4665, 4.4283, 4.4063, 4.3921, 4.3908, 4.3899, 4.3826, 4.3655, 4.36, 4.358, 4.3571, 4.3547, 4.3469, 4.3449, 4.3247, 4.313, 4.3119, 4.292, 4.2873, 4.2789, 4.277, 4.2552, 4.242, 4.2396, 4.2396, 4.2367, 4.207, 4.1965, 4.1244, 4.1016, 4.1273, 4.0563, 4.0716, 3.9405, 4.1313, 3.744, 3.3407, 4.0823, 3.8221, 3.2879, -0.9291, 2.9198, -1.4765, -1.0963, -1.1395, -1.1741, -0.2145, -1.2387, -0.9692, -1.3125, -1.1957, -1.0441, -1.4636, -1.1746, -0.9375, -1.26, -1.353, -1.0032, -1.2125, -1.5259, -1.1801, -0.8885, -0.9426, -1.37, -1.1405, 1.9551, -1.39, -0.8521, -1.3238, -1.616, -1.5359, -1.4197, -1.6512, 4.9799, 4.8617, 4.7312, 4.7261, 4.6958, 4.6473, 4.5898, 4.5782, 4.5746, 4.5632, 4.5126, 4.5056, 4.475, 4.4681, 4.4548, 4.4333, 4.4286, 4.4205, 4.4079, 4.4067, 4.4064, 4.4008, 4.3837, 4.3831, 4.3811, 4.3793, 4.3754, 4.3701, 4.3643, 4.3595, 4.3537, 4.3044, 4.3218, 4.3042, 4.3187, 4.2971, 4.2298, 4.1223, 4.1918, 4.235, 3.9917, 4.177, 3.8863, 3.3436, 3.7642, 4.0767, 3.588, 3.52, 3.7727, 3.4483, -1.1054, 3.8532, -1.2268, -1.447, 3.4201, -1.4036, -2.0376, -0.5068, -1.7241, 3.5843, -1.4156, -1.7488, -1.6303, -1.2887, -1.0174, -1.6405, -1.3221, -1.5285, -1.7572, -1.2577, -1.8341, -1.2161, -1.1908, -1.6403, -1.5681, -2.0907, -1.9637, -1.0407, -1.8936, -1.8792, -1.6714, -1.1653, -1.5565, -1.8643, -1.6863, 4.9225, 4.9187, 4.9158, 4.8738, 4.8563, 4.8562, 4.8544, 4.7721, 4.7574, 4.7412, 4.7222, 4.7205, 4.6623, 4.6585, 4.6481, 4.6438, 4.6302, 4.6247, 4.6191, 4.585, 4.5845, 4.5839, 4.5777, 4.5777, 4.5594, 4.5376, 4.5277, 4.5198, 4.5072, 4.5032, 4.4804, 4.4765, 4.4152, 4.4813, 4.3999, 4.2197, 4.2657, 4.3447, 3.8546, 4.2448, 3.5131, 3.9686, 3.949, 3.8166, 4.1398, 3.9665, 3.9788, 4.0553, 3.9076, 3.5444, 3.6753, -1.9194, 3.6412, -1.5768, -0.5718, -1.7656, -1.5713, -1.7254, -1.4018, -1.4341, -1.1338, -1.8217, -2.0103, -1.877, -1.6375, -1.6394, -1.7714, -2.1575, -1.7341, -1.8603, -1.7699, -1.3836, -1.6785, -1.6461, -0.8114, -1.9764, -1.3053, -2.1556, -2.2142, -1.5619, -2.1008, -2.2584, -2.1854, 5.2775, 5.2473, 5.1527, 5.0555, 4.9824, 4.9198, 4.8785, 4.8765, 4.8699, 4.8547, 4.845, 4.8329, 4.8141, 4.8047, 4.8035, 4.7889, 4.7813, 4.7617, 4.7497, 4.7389, 4.7224, 4.7161, 4.7041, 4.6877, 4.6862, 4.6685, 4.6466, 4.635, 4.6286, 4.6051, 4.5695, 4.5813, 4.5833, 4.4654, 4.4927, 4.5036, 4.3637, 4.3237, 4.4671, 4.265, 4.4451, 4.0998, 4.3475, 4.2893, 3.9557, 3.4293, 3.5499, 3.9013, 4.0369, 4.033, 3.7769, 3.4236, 3.5632, 3.3302, 2.9328, 3.6556, 3.5735, 3.5943, 3.7499, 3.5666, 3.2083, -2.5805, -1.903, 3.5228, -2.6597, 2.9559, 3.1795, -2.345, -2.7871, 1.4259, -1.1349, -1.8259, -0.889, -3.5686, 2.5196, -1.4396, -2.3859, -2.1018, -2.7741, -1.8964, -3.0806, -2.0419, -3.1035, -2.5613, -2.0688, -1.3692, -2.4939, -2.978, -1.4816, 5.3884, 5.2706, 5.2095, 5.0883, 5.0858, 5.0268, 4.9883, 4.9752, 4.9485, 4.8222, 4.8158, 4.8082, 4.8017, 4.7998, 4.7892, 4.7844, 4.7819, 4.7368, 4.7261, 4.6948, 4.6874, 4.6853, 4.6589, 4.655, 4.6538, 4.6488, 4.6438, 4.6412, 4.6406, 4.6111, 4.5875, 4.572, 4.5572, 4.5167, 4.4604, 4.3304, 4.4527, 4.394, 4.4175, 4.2321, 4.174, 4.2094, 4.2504, 4.2325, 4.1882, 4.0464, 3.9479, 4.0039, 3.7613, 3.9588, 4.0459, 4.0411, 3.8703, 3.4421, 2.9744, 3.3988, 3.3542, 3.1326, 2.7156, 3.2875, 2.9751, 3.1532, 3.1288, 2.8921, -3.304, 2.8743, -2.2601, -2.265, -3.0072, 0.598, -3.1343, 2.034, -3.1664, -2.8262, -2.8426, -3.4043, -1.1711, 5.5129, 5.3543, 5.2079, 5.1409, 5.1377, 5.0498, 5.0431, 4.9709, 4.9263, 4.9204, 4.8951, 4.8929, 4.8589, 4.8583, 4.8543, 4.843, 4.8418, 4.838, 4.8215, 4.8161, 4.7966, 4.7868, 4.7859, 4.7708, 4.7098, 4.7046, 4.6925, 4.6805, 4.6684, 4.6267, 4.4214, 4.5557, 4.5514, 4.389, 4.2128, 4.2647, 4.3699, 4.4637, 4.0791, 4.1162, 4.2186, 4.0192, 3.4116, 3.5924, 3.6731, 3.4005, 3.717, 3.0994, 3.934, 3.6368, 3.4549, 3.8619, 3.3744, -3.1555, -2.0017, 2.6215, -2.7975, -1.522, -1.915, -1.8521, -3.1453, -2.8608, -2.6853, -2.6306, -2.8155, -2.725, -3.1948, -1.7039, -2.2821, -3.0347, -2.0017, -0.9089, -0.1407, -2.203, 5.6795, 5.2323, 5.1951, 5.1566, 5.1556, 5.1457, 5.0999, 5.0972, 5.0139, 4.9998, 4.9916, 4.9684, 4.9616, 4.9562, 4.8908, 4.8481, 4.8468, 4.8212, 4.8189, 4.8186, 4.8007, 4.7794, 4.7789, 4.7575, 4.7551, 4.7322, 4.7289, 4.728, 4.7056, 4.7039, 4.6918, 4.6781, 4.6559, 4.5277, 4.5475, 4.3668, 4.1221, 4.487, 4.2912, 4.2795, 4.1053, 4.3186, 4.272, 4.2616, 4.2834, 4.1518, 3.8862, 3.8165, 3.6364, 3.8131, 3.6405, 3.3861, 3.5038, 4.3656, -2.4795, 3.7213, 3.0721, -2.7909, -2.3179, -3.4128, -2.8158, -2.8139, -2.4404, -2.7291, -2.3009, -2.6704, -2.7333, -2.3174, -2.9026, -2.3632, -1.9653, -2.6697, -2.6963, -2.4668, 5.5803, 5.3257, 5.2802, 5.1675, 5.1119, 5.0201, 4.9988, 4.9472, 4.9322, 4.8971, 4.8681, 4.849, 4.8372, 4.8149, 4.7701, 4.7681, 4.7404, 4.7286, 4.7039, 4.6945, 4.6762, 4.6748, 4.6695, 4.6526, 4.65, 4.6444, 4.6415, 4.6084, 4.6057, 4.5979, 4.5944, 4.5896, 4.5576, 4.5418, 4.5076, 4.5056, 4.4695, 4.2592, 4.3286, 4.3642, 4.3238, 4.0141, 3.982, 4.0985, 4.1881, 4.0568, 4.1291, 3.8377, 4.2264, 3.9769, 3.8172, 4.1061, 3.5781, 3.9527, 3.389, 3.9435, 3.7516, 3.417, 3.5084, 3.4228, 3.8417, 1.6669, 2.5859, 2.4496, 3.0099, 2.8735, 3.5638, 2.9699, 2.3787, -2.1877, 2.0589, 2.3354, 2.532, 2.6573, 2.1825, 1.3612, -2.6821, 1.9294, 2.805, 1.5734, 5.5543, 5.226, 5.1776, 5.1205, 5.0634, 5.0033, 4.9041, 4.8885, 4.839, 4.8332, 4.8087, 4.7819, 4.7734, 4.7658, 4.731, 4.7279, 4.6954, 4.6908, 4.6839, 4.6644, 4.6327, 4.6272, 4.6202, 4.6198, 4.6121, 4.6084, 4.5953, 4.5948, 4.5921, 4.5731, 4.5712, 4.5583, 4.4777, 4.5094, 4.5306, 4.5072, 4.4602, 4.531, 4.2842, 4.2682, 4.3858, 4.2712, 4.2453, 4.0805, 4.2914, 4.3187, 4.2327, 4.0207, 4.0255, 3.6527, 3.8034, 3.6258, 4.0113, 3.8839, 3.0732, 3.8276, 3.9782, 2.9554, 3.1415, 3.6729, -2.6566, 3.3981, 2.6815, 2.7044, 3.0453, 3.2981, 1.8702, -3.1294, 2.5057, 0.3106, 5.3994, 5.2092, 5.2043, 5.1984, 5.1885, 5.0866, 5.0559, 4.9991, 4.9083, 4.8757, 4.8575, 4.8207, 4.8205, 4.804, 4.7914, 4.7859, 4.7622, 4.7535, 4.7534, 4.7476, 4.7157, 4.705, 4.6901, 4.6633, 4.6524, 4.6385, 4.6383, 4.6347, 4.6323, 4.6305, 4.6153, 4.5798, 4.5866, 4.3864, 4.3715, 4.3866, 4.2949, 4.4997, 4.1676, 4.3654, 4.3152, 4.3984, 4.0932, 3.9073, 3.8197, 3.9065, 4.0874, 4.0504, 3.888, 4.1294, 3.9357, 3.9495, 4.0611, 3.7116, 3.4501, 3.3016, 3.6506, 3.456, 3.5632, 2.9751, 3.476, 3.288, 3.7282, 3.331, 2.491, 2.9725, 1.2931, 2.3026, -3.7409, -2.1433, -3.206, 1.8734, 1.8393, 5.4482, 5.4284, 5.2396, 5.1676, 5.0056, 4.9746, 4.9639, 4.9554, 4.912, 4.8436, 4.8342, 4.8121, 4.8117, 4.8057, 4.7967, 4.7965, 4.7945, 4.7803, 4.7551, 4.7098, 4.6982, 4.6681, 4.6551, 4.6536, 4.6333, 4.626, 4.6093, 4.5945, 4.5863, 4.578, 4.5429, 4.5527, 4.4916, 4.4829, 4.3605, 4.3559, 4.2987, 4.3602, 4.3466, 4.3569, 4.0832, 3.9493, 4.1402, 4.1132, 3.7154, 4.05, 3.6937, 3.6483, 3.8299, 3.462, 3.8361, 3.6038, 3.351, 3.8623, 3.7143, 3.6007, 3.2355, 2.8378, 3.308, 2.42, -2.304, -2.2455, 0.0628, -3.5644, 0.6275, 0.7389, -2.4732, 0.608, 1.9288, -3.13, -3.0313, -3.2572, -3.312, -1.8669, -2.1187, -3.3134, 5.0917, 5.0636, 5.0458, 5.035, 5.0243, 4.9931, 4.9502, 4.9432, 4.9107, 4.8076, 4.7905, 4.7816, 4.7228, 4.7172, 4.7127, 4.7088, 4.6922, 4.6773, 4.667, 4.6652, 4.6639, 4.651, 4.65, 4.6419, 4.6392, 4.6387, 4.6384, 4.6366, 4.6224, 4.61, 4.6024, 4.5826, 4.5708, 4.5889, 4.5295, 4.4484, 4.419, 3.9852, 4.4793, 4.3353, 4.3238, 4.2364, 4.0584, 4.4979, 3.8851, 3.9068, 4.3252, 4.3317, 3.2545, 3.8793, 3.3244, 2.9331, 3.2546, 3.898, 3.6786, 2.921, 3.5274, 3.6356, 2.8639, 3.3192, 2.6856, 3.217, 3.2066, 0.9166, 2.9773, -1.9154, -2.5015, -2.6642, -3.3326, -0.0808, 5.3748, 5.2913, 5.2415, 5.1206, 5.1161, 5.0339, 5.0049, 4.9921, 4.9839, 4.9684, 4.9682, 4.8886, 4.8473, 4.8322, 4.7691, 4.76, 4.7464, 4.744, 4.7291, 4.7091, 4.708, 4.6897, 4.6702, 4.6642, 4.6586, 4.6434, 4.638, 4.6304, 4.6282, 4.6172, 4.6168, 4.6045, 4.5876, 4.5834, 4.5422, 4.4449, 4.5377, 4.2842, 4.4691, 4.3881, 4.4829, 4.3347, 4.4138, 4.0117, 4.038, 4.1808, 4.3042, 4.1367, 4.359, 3.521, 3.5981, 3.9057, 4.07, 3.4767, 4.148, 3.4871, 3.3562, 3.1554, 3.2283, 3.1752, 3.6621, 3.3317, 2.3243, 3.6956, 3.6972, 3.4114, 3.4346, 2.3175, 3.7774, -3.0643, 2.0366, 3.0817, 2.7492, 3.375, 0.2821, 2.0572, 5.1488, 5.0221, 5.0091, 5.005, 4.9715, 4.9687, 4.8845, 4.8829, 4.8544, 4.8337, 4.8281, 4.7929, 4.7906, 4.7874, 4.77, 4.769, 4.7586, 4.755, 4.7485, 4.7424, 4.737, 4.7307, 4.7231, 4.7105, 4.709, 4.6897, 4.6568, 4.6491, 4.6378, 4.6087, 4.6029, 4.5972, 4.5646, 4.5374, 4.528, 4.5016, 4.5245, 4.0972, 4.3511, 4.0902, 4.3357, 4.1062, 4.2007, 4.4156, 4.1458, 3.9723, 4.0184, 3.9709, 3.8807, 4.1198, 3.7397, 4.1189, 3.9491, 3.7836, 3.2878, 3.7955, 3.2559, 3.1557, 3.8202, 3.7572, 3.7028, -2.4214, -2.9863, 2.3737, 3.4087, -2.5468, 0.8868, 2.5365, -2.1729, 2.7824, 2.6249, -2.9956, -1.8183, 0.5372, 1.0895, -3.2226, -2.3634, -2.3205, -3.2118, -2.3502, -2.8141, -2.038, -3.293, -3.0123, -1.9758, -0.0208, -3.1668, 6.1418, 5.3873, 5.2375, 5.2157, 5.2134, 5.1819, 5.0412, 4.9342, 4.916, 4.8873, 4.871, 4.8294, 4.8201, 4.8149, 4.8135, 4.7928, 4.7872, 4.7866, 4.7865, 4.7395, 4.7052, 4.6908, 4.6864, 4.6844, 4.6773, 4.6665, 4.6604, 4.6343, 4.6177, 4.6062, 4.6036, 4.5815, 4.5497, 4.488, 4.4897, 4.5291, 4.4781, 4.295, 4.4112, 4.313, 4.4343, 4.2693, 4.2522, 4.4876, 4.3131, 3.9058, 4.1011, 4.1428, 4.1132, 4.368, 3.9131, 4.1448, 3.3912, 3.9607, 3.7597, 3.2923, 4.1772, 3.6221, 3.5816, 3.5838, 2.6591, 2.4956, 3.0961, 2.0817, 1.4799, 2.6411, 1.2867, -1.4462, -3.8117, -3.0315, -1.6609, -0.3187, 5.3688, 5.0481, 4.9887, 4.9854, 4.9084, 4.8743, 4.8728, 4.8631, 4.8588, 4.8465, 4.813, 4.8078, 4.7677, 4.7612, 4.7488, 4.7358, 4.7352, 4.724, 4.7142, 4.6941, 4.6879, 4.6784, 4.6743, 4.6725, 4.6643, 4.6585, 4.6462, 4.642, 4.6381, 4.6377, 4.6145, 4.61, 4.5904, 4.6161, 4.5901, 4.4806, 4.6088, 4.4318, 4.3035, 4.4018, 4.1175, 4.3179, 4.0876, 4.2294, 4.2699, 4.2179, 4.0347, 4.0783, 3.9198, 4.0614, 3.7164, 3.9876, 3.8264, 3.83, 3.8688, 3.2211, 2.9697, 3.3778, 3.4793, 3.595, 3.4985, 3.373, 3.2602, 3.4067, 3.1989, 2.9588, 3.1441, 2.8282, 2.3265, -2.4587, 2.8083, 2.4378, -1.6532, 2.6423, 1.0434, -3.0406, 2.7612, -2.1589, -3.7388, -3.1558, -2.9363, 2.3429, 5.3199, 5.3183, 5.2035, 5.0735, 5.046, 5.0228, 4.9934, 4.9889, 4.9458, 4.9383, 4.8962, 4.8956, 4.8675, 4.8464, 4.8404, 4.8373, 4.7973, 4.7605, 4.7388, 4.7181, 4.701, 4.6951, 4.694, 4.6847, 4.6746, 4.6689, 4.6649, 4.6501, 4.6382, 4.6304, 4.5551, 4.5592, 4.5961, 4.5538, 4.2475, 4.3625, 4.2754, 4.2289, 4.3883, 3.9835, 4.4646, 4.2339, 4.2221, 4.2293, 3.9333, 4.075, 4.3317, 3.9098, 3.9298, 4.3364, 3.5593, 3.9852, 3.6943, 3.3741, 3.5115, 3.8832, 4.0334, 3.2918, 3.224, 2.7288, 3.1765, 3.0958, 3.8337, 3.6264, 3.1934, 3.5429, 2.9285, 2.5938, 2.6417, -2.5389, 0.9633, 2.8934, 0.773]}, \"token.table\": {\"Topic\": [1, 1, 2, 1, 1, 1, 1, 1, 2, 1, 3, 1, 1, 1, 1, 1, 1, 2, 1, 1, 1, 1, 1, 1, 1, 2, 1, 1, 1, 1, 2, 1, 1, 2, 1, 4, 2, 1, 1, 2, 1, 1, 1, 1, 1, 1, 2, 1, 1, 2, 1, 1, 1, 2, 2, 1, 1, 2, 1, 1, 1, 2, 1, 1, 1, 1, 3, 2, 1, 1, 1, 2, 4, 1, 1, 4, 1, 1, 1, 1, 1, 2, 1, 1, 1, 2, 1, 2, 1, 1, 2, 1, 2, 1, 1, 2, 2, 1, 1, 1, 2, 1, 1, 1, 2, 1, 3, 1, 1, 1, 2, 1, 1, 1, 2, 2, 1, 1, 1, 1, 1, 1, 2, 1, 1, 2, 2, 1, 1, 1, 1, 1, 2, 1, 2, 1, 2, 1, 2, 1, 1, 1, 3, 1, 2, 1, 1, 2, 3, 4, 5, 1, 1, 2, 1, 2, 1, 1, 2, 2, 1, 1, 1, 1, 4, 1, 2, 3, 4, 5, 1, 1, 2, 3, 4, 5, 6, 1, 1, 1, 1, 1, 1, 2, 3, 1, 2, 1, 3, 1, 2, 1, 1, 1, 2, 1, 1, 1, 1, 2, 1, 1, 1, 1, 1, 2, 1, 2, 1, 1, 1, 2, 1, 1, 1, 2, 1, 1, 1, 1, 1, 1, 1, 1, 1, 1, 2, 1, 2, 1, 1, 1, 2, 1, 2, 3, 1, 1, 2, 1, 1, 1, 1, 1, 1, 1, 1, 1, 1, 1, 1, 1, 2, 1, 1, 2, 1, 1, 1, 2, 3, 4, 5, 6, 1, 2, 1, 2, 3, 4, 5, 6, 2, 1, 1, 1, 1, 2, 2, 1, 1, 1, 1, 2, 1, 1, 1, 1, 1, 2, 1, 1, 2, 1, 2, 1, 1, 1, 1, 2, 1, 1, 1, 2, 1, 2, 1, 1, 2, 1, 1, 2, 1, 1, 1, 1, 1, 1, 1, 2, 1, 1, 1, 1, 1, 2, 2, 1, 1, 2, 1, 2, 3, 4, 5, 6, 1, 2, 1, 2, 1, 1, 1, 1, 1, 1, 2, 1, 1, 1, 2, 1, 1, 2, 1, 3, 1, 1, 1, 1, 2, 2, 1, 1, 1, 2, 1, 2, 1, 1, 1, 1, 1, 2, 1, 1, 2, 3, 4, 1, 2, 1, 2, 1, 1, 1, 1, 1, 1, 2, 4, 1, 2, 3, 4, 1, 1, 1, 1, 2, 3, 4, 5, 1, 1, 2, 1, 2, 1, 2, 1, 2, 2, 1, 2, 1, 1, 1, 1, 2, 3, 1, 2, 3, 4, 5, 6, 1, 1, 1, 2, 3, 4, 5, 6, 1, 1, 1, 2, 1, 1, 1, 1, 1, 1, 2, 1, 2, 1, 1, 2, 3, 4, 5, 6, 1, 2, 3, 4, 1, 1, 1, 2, 1, 1, 2, 1, 2, 3, 4, 5, 6, 2, 1, 1, 1, 2, 3, 4, 5, 1, 2, 3, 4, 5, 1, 2, 3, 4, 5, 1, 2, 1, 2, 3, 4, 1, 1, 2, 4, 5, 1, 5, 1, 2, 1, 2, 1, 2, 3, 4, 5, 1, 1, 2, 3, 4, 5, 1, 2, 3, 4, 5, 6, 1, 1, 1, 1, 1, 2, 3, 4, 5, 1, 2, 3, 4, 5, 1, 2, 1, 2, 3, 4, 1, 1, 1, 2, 3, 4, 5, 1, 1, 2, 1, 2, 3, 4, 5, 1, 1, 1, 1, 2, 3, 4, 5, 6, 1, 1, 1, 2, 3, 4, 1, 2, 1, 2, 1, 1, 2, 1, 2, 1, 2, 3, 4, 5, 6, 1, 2, 1, 1, 1, 1, 2, 3, 4, 5, 1, 1, 1, 1, 2, 3, 4, 5, 1, 1, 2, 3, 4, 5, 6, 1, 2, 1, 1, 2, 1, 1, 1, 1, 1, 1, 1, 1, 2, 3, 4, 5, 1, 1, 2, 3, 4, 5, 6, 1, 2, 1, 2, 1, 2, 2, 1, 2, 1, 1, 2, 1, 2, 1, 1, 2, 1, 2, 1, 2, 1, 1, 2, 1, 2, 1, 2, 1, 1, 2, 3, 4, 5, 1, 2, 1, 1, 2, 3, 4, 6, 1, 2, 3, 4, 5, 1, 2, 1, 2, 3, 1, 1, 2, 3, 4, 5, 1, 2, 3, 4, 5, 1, 2, 1, 1, 2, 3, 4, 5, 1, 2, 3, 4, 5, 6, 1, 2, 1, 2, 1, 2, 2, 1, 1, 2, 1, 2, 1, 1, 1, 1, 2, 1, 1, 1, 1, 1, 2, 3, 4, 5, 2, 1, 2, 3, 4, 5, 6, 1, 2, 3, 4, 5, 6, 1, 1, 2, 3, 4, 2, 1, 1, 2, 3, 4, 5, 1, 2, 1, 2, 3, 4, 5, 6, 3, 1, 2, 3, 4, 5, 6, 1, 1, 2, 1, 1, 1, 1, 2, 1, 1, 2, 3, 4, 5, 1, 2, 1, 1, 1, 2, 1, 1, 2, 2, 1, 2, 3, 4, 5, 2, 2, 2, 1, 1, 2, 3, 4, 5, 1, 2, 3, 1, 2, 1, 2, 3, 1, 2, 3, 4, 5, 6, 2, 1, 2, 1, 2, 1, 1, 1, 1, 1, 1, 1, 1, 1, 2, 3, 4, 5, 6, 1, 1, 2, 3, 4, 5, 1, 2, 1, 2, 1, 1, 2, 3, 4, 5, 6, 1, 2, 1, 1, 1, 2, 3, 4, 5, 1, 2, 1, 3, 1, 1, 2, 1, 2, 1, 2, 2, 1, 1, 1, 2, 3, 4, 1, 1, 2, 1, 2, 2, 1, 2, 3, 4, 5, 1, 2, 1, 1, 2, 3, 4, 5, 6, 1, 2, 1, 2, 3, 4, 5, 1, 2, 3, 4, 1, 1, 2, 1, 1, 2, 1, 2, 3, 4, 5, 6, 2, 1, 1, 1, 1, 1, 2, 3, 4, 1, 1, 1, 1, 2, 3, 4, 5, 1, 2, 1, 2, 1, 2, 1, 2, 3, 4, 1, 1, 2, 3, 4, 5, 1, 1, 2, 2, 1, 2, 1, 1, 1, 1, 2, 3, 4, 5, 6, 1, 1, 2, 1, 1, 2, 3, 4, 5, 6, 1, 1, 1, 2, 1, 2, 3, 4, 5, 1, 1, 1, 1, 2, 3, 4, 5, 2, 1, 2, 1, 2, 3, 4, 5, 1, 2, 1, 2, 1, 1, 1, 1, 1, 2, 1, 1, 1, 2, 1, 1, 1, 2, 1, 1, 2, 2, 1, 1, 2, 3, 4, 5, 1, 1, 2, 3, 4, 5, 6, 1, 2, 3, 4, 5, 6, 1, 2, 4, 1, 2, 1, 1, 3, 1, 2, 1, 1, 2, 1, 2, 1, 1, 1, 1, 2, 1, 1, 1, 2, 1, 2, 1, 2, 1, 2, 3, 4, 5, 6, 1, 2, 1, 2, 1, 2, 2, 1, 2, 3, 4, 5, 6, 1, 2, 3, 4, 5, 1, 1, 2, 1, 2, 1, 2, 2, 1, 2, 2, 1, 2, 1, 2, 1, 1, 1, 2, 2, 1, 1, 2, 2, 1, 2, 3, 4, 5, 1, 1, 2, 3, 4, 5, 6, 1, 2, 1, 1, 2, 3, 4, 5, 1, 2, 1, 1, 2, 3, 4, 5, 6, 2, 1, 1, 2, 3, 4, 5, 1, 1, 1, 1, 2, 2, 2, 1, 2, 2, 1, 2, 1, 1, 2, 1, 1], \"Freq\": [1.1175713588397151, 0.9607179331350346, 1.0219926418637693, 0.9162346346273462, 0.9606137554035161, 0.7002235841203772, 0.8439164304567479, 0.38538333765310484, 0.38538333765310484, 0.6483303979358085, 0.7073287981133154, 0.5841047921526148, 0.8632982852788562, 0.8515930689417015, 0.9419464569083025, 0.6067943689745656, 0.7706523235707403, 0.19266308089268508, 0.6129224301660502, 0.7673308727719921, 0.6615649835330709, 0.8174106479604755, 0.6113976182039206, 0.7210505033986809, 0.45587702402916314, 0.45587702402916314, 0.6821426555687317, 0.7365673042166292, 0.6914783124799001, 0.7139633497862824, 1.0463757601143624, 0.8277381748155289, 0.5535858799887878, 1.0603276995179705, 0.7567786437727354, 0.25225954792424515, 0.7939643045850219, 0.8479756663134876, 0.9261099328576505, 0.13230141897966435, 0.6882777610635893, 0.9167085835925605, 0.5512112547968986, 0.9284365529352103, 0.7889974013021817, 0.48270021280786846, 0.48270021280786846, 0.9365288565665163, 0.8195905760852278, 0.4097952880426139, 0.5849278694545288, 0.7107929085829755, 0.7319110757607773, 0.24397035858692576, 0.7939587085739599, 0.7943989779303614, 0.7129350276785292, 0.2376450092261764, 0.5242426518784746, 0.8615480313065476, 0.5821860164966288, 0.5821860164966288, 0.5767042410219676, 0.7739932997205655, 1.0044533569944596, 0.811815244859717, 0.27060508161990565, 0.831582066648758, 0.6229190105751763, 0.4633304471994035, 0.6598775688935253, 0.21995918963117514, 0.21995918963117514, 0.8650374110334236, 0.8770319372138674, 0.14617198953564456, 0.9828889130821851, 0.8881874776504861, 0.9234256015534005, 0.9147614969403127, 0.38174825805618257, 0.38174825805618257, 0.8503832918456214, 0.9708181389095003, 0.22090949754616207, 0.6627284926384862, 0.5521421729254073, 0.5521421729254073, 0.9674507007343297, 0.8740765617597118, 0.10925957021996398, 0.6257721029964654, 0.6257721029964654, 0.47145604004705627, 0.8156241112502742, 0.8908372014110758, 1.0075763654680716, 0.560502082102364, 0.5149467684504099, 0.9212416859568197, 0.8092027008008584, 0.6623053916405087, 0.9464976081428853, 0.9911556462827705, 0.7930600277717338, 0.712835539037943, 0.3564177695189715, 0.8583193108871178, 0.8069961066737789, 0.7344833992590118, 0.3672416996295059, 0.5243705131320134, 0.8066496918622267, 0.7191625441730471, 0.1797906360432618, 0.8912268322975755, 0.6447895923553404, 0.8542421678786376, 1.1337332837768401, 0.9578326516885275, 0.6214091278356269, 0.5375453051683848, 0.5375453051683848, 0.5284358578838793, 0.7277797933515806, 0.8169381067337496, 0.9864417557697605, 0.7028973351716046, 0.587303827471011, 0.7053411361123086, 0.7357427958089635, 0.4502875506680996, 0.4502875506680996, 0.8379731347319098, 0.16759462694638197, 0.7080826545848395, 1.0416484783177975, 0.9981153826040964, 0.5992052069730662, 0.5376893195739538, 0.9415910075739264, 0.5089953374089676, 0.5089953374089676, 0.783546766869808, 0.2611822556232693, 0.9702956856494407, 0.9650672352161845, 0.027958990830438915, 0.003856412528336402, 0.001928206264168201, 0.0009641031320841005, 0.6134611910809152, 0.8493318124567858, 0.2831106041522619, 0.9452868838871775, 0.03884740618714428, 1.005658898657562, 0.7943766017246257, 0.26479220057487524, 0.760122318285013, 0.8194453238141841, 0.7320900123532269, 0.4907831114314269, 0.9281739572037122, 0.04218972532744147, 0.9649884856598482, 0.030100558268288842, 0.0023608280994736348, 0.0017706210746052259, 0.0005902070248684087, 0.8992757659456171, 0.9639820009943952, 0.031506292463692964, 0.00221096789218898, 0.0016582259191417349, 0.000552741973047245, 0.000552741973047245, 0.7860906586051555, 0.9399267442128567, 0.8388984352199779, 0.9936526677164329, 0.8918299203800975, 0.7774028813916082, 0.25913429379720276, 0.8127156499006407, 0.6914908636512608, 0.23049695455042024, 0.7283287478878349, 0.36416437394391743, 0.9070176767707724, 0.15116961279512872, 0.9941020431061336, 0.6810131371565487, 0.9654232497473413, 0.019702515300966148, 1.0063784373838858, 0.8345117385678139, 0.8627409111036629, 0.7066272390952055, 0.1413254478190411, 0.7176068524586859, 0.97799772294152, 0.5404273686047464, 0.6259599140312472, 0.4047097256131626, 0.4047097256131626, 0.561019543047805, 0.561019543047805, 0.6142318429822949, 0.9981138729299595, 0.5038260949967752, 0.5038260949967752, 0.6188515454566303, 0.6369594744733819, 0.7848617462511371, 0.2616205820837124, 0.6344709234110286, 1.0928179516939431, 0.9809899129450343, 0.897888367080424, 1.0057657642265965, 1.1915742943870753, 0.5524155777996981, 0.7718159613339711, 0.7050083684057761, 0.8800423534497359, 1.0591550473784794, 0.8735277346996364, 0.08735277346996363, 0.9489046518208308, 0.9487230023320014, 0.9477470785719647, 0.08615882532472406, 0.40266954537304445, 0.40266954537304445, 0.40266954537304445, 0.728219684759626, 0.8539005173080403, 0.21347512932701007, 1.0036783348900458, 0.5464386696231078, 0.5761884267228217, 0.6898761824660321, 0.6903277434911692, 0.8456522147354685, 0.5797988153770322, 0.72392618670033, 0.8255427752825764, 0.9525285210178102, 0.9830224757811263, 0.5721625666620509, 0.9474110816231208, 0.033836110057968605, 0.6991334166528346, 0.9267111991442422, 0.13238731416346317, 0.8911938731196376, 0.7501961947737108, 0.9476069874790255, 0.038889479650302004, 0.0038889479650302, 0.0051852639533736, 0.0025926319766868, 0.0012963159883434, 0.8965166796587695, 0.8393158787892147, 0.9603866650268118, 0.033389472343109655, 0.0026360109744560252, 0.00175734064963735, 0.000878670324818675, 0.000878670324818675, 0.7210280589471136, 0.8364129407690032, 0.9761975973975898, 0.8041941983766566, 0.9752489978978804, 0.013735901378843387, 0.9494821258983657, 0.899998974413055, 0.507169151047163, 0.8909629830704127, 0.5758643826289963, 0.5758643826289963, 0.8277190058876385, 0.8608013363348189, 0.5531391165499299, 0.5970803208071357, 0.7952758243232512, 0.8798545347734864, 0.7693416927663733, 0.9758580951471841, 0.8818924880428782, 0.8894150941549008, 0.08894150941549009, 0.6910358901160993, 0.8452085531300264, 0.9256551626062504, 0.9254166949913735, 0.8150489658822434, 0.8309503143078841, 0.9815715238826621, 0.8155444110702943, 0.20388610276757357, 1.023221792249958, 0.7621314795888402, 0.7952906492181212, 0.49924370741041235, 0.49924370741041235, 0.5228503502306238, 0.9746292060554916, 0.7215107844771428, 0.7095166981089855, 0.580279673632787, 0.8412659400758428, 0.9710385539314041, 0.9693359285557814, 0.6908991004169167, 0.7368138024147826, 0.18420345060369564, 1.0164527393352156, 0.8717206071210561, 0.9281565678923093, 0.7878997385859742, 0.5541992797168702, 0.6437037477446756, 1.0455116279283074, 0.9180619768050617, 0.8340939037977236, 0.11915627197110339, 0.9635561529910255, 0.03022334517145763, 0.0026931693717140463, 0.0017954462478093642, 0.0008977231239046821, 0.0002992410413015607, 0.8512462889106918, 0.678485718312122, 0.904268285235037, 0.15071138087250618, 0.599185606779495, 0.6095375487166358, 0.9349683848707888, 0.5384317853890094, 0.7915886810114512, 0.9752305176352944, 0.02306288386299683, 0.7852375840210581, 0.7981798111074134, 0.6113567184179686, 0.7381766474107305, 0.911531515606947, 0.5859586294625313, 0.5859586294625313, 0.7288773856267824, 0.2429591285422608, 0.8999581709787082, 0.5592965324343703, 0.7333400940642653, 0.9796900275842092, 0.6709964376275375, 0.7915775787823769, 1.0141241911766576, 0.8178014918717857, 0.9706837326725688, 0.6652286791951739, 0.5637954104140682, 0.2818977052070341, 0.999897810544116, 0.5191264984864123, 1.1095191091856957, 0.9858729517754006, 0.7123574833341345, 0.35617874166706726, 0.6007837087495215, 0.9659225970220099, 0.02916432962022977, 0.0023331463696183814, 0.0011665731848091907, 0.4200952707645742, 0.4200952707645742, 0.9800673358432237, 0.01380376529356653, 0.9365156420282679, 0.8919087586086407, 0.7214028229445784, 0.43299025106449407, 0.9075100602368634, 0.9591335903525962, 0.029064654253108974, 0.007266163563277243, 0.9636487448582649, 0.029692258244932532, 0.002699296204084776, 0.002699296204084776, 0.887906005902551, 0.7913667121226589, 0.7013955296154296, 0.9654236209978059, 0.02880558724496166, 0.003491586332722625, 0.0008728965831806563, 0.0008728965831806563, 0.8427190061364315, 0.7782406870769882, 0.19456017176924706, 0.5422282810869338, 0.5422282810869338, 0.9455214187749651, 0.03151738062583217, 0.9247188464443574, 0.05779492790277234, 0.9576865543647226, 0.9617642451334323, 0.019627841737416985, 0.6530004648964519, 0.6574330733112531, 0.9804507570483848, 0.9427861743108712, 0.041716202403135894, 0.008343240480627179, 0.9593918389296625, 0.03582144853146467, 0.002336181425965087, 0.0015574542839767247, 0.0007787271419883624, 0.0007787271419883624, 0.9197107267364005, 0.7668068051993927, 0.9659131801924539, 0.029879527287333493, 0.001149212587974365, 0.001149212587974365, 0.0005746062939871825, 0.0005746062939871825, 0.9969245267006049, 1.0083978942777654, 0.6259339016078409, 0.31296695080392045, 0.6871612556548626, 0.9360628527103263, 0.9479441832212254, 0.5398756008177678, 0.9483489522725518, 0.6050360496791778, 0.6050360496791778, 0.40592080506109474, 0.40592080506109474, 0.7396077320476331, 0.9656025118970024, 0.028726511510120425, 0.002611501046374584, 0.001305750523187292, 0.000652875261593646, 0.000652875261593646, 0.9689935280838206, 0.02683801316850232, 0.001412527008868543, 0.001412527008868543, 0.9608227743066389, 0.962671662303168, 0.9837236050553245, 0.01204559516394275, 1.000617828069782, 0.7578083291577798, 0.7578083291577798, 0.9632994026327943, 0.03181539311447761, 0.002651282759539801, 0.0008837609198466003, 0.0008837609198466003, 0.0008837609198466003, 1.2418351216028864, 0.5005736273156683, 0.43185858171283514, 0.9757268989932218, 0.020248547839029248, 0.001265534239939328, 0.001265534239939328, 0.001265534239939328, 0.9651072139363159, 0.03020063390549016, 0.001969606559053706, 0.001969606559053706, 0.0006565355196845687, 0.9661453934192932, 0.02832348058883921, 0.002098035599173275, 0.0010490177995866375, 0.0010490177995866375, 0.8980537971103241, 0.6318651242302419, 0.9604637564447667, 0.034099304962536096, 0.0018944058312520054, 0.0018944058312520054, 0.7648320875490368, 0.9576329669362476, 0.03884920758362059, 0.0019424603791810295, 0.0009712301895905147, 0.8803870205990193, 0.17607740411980385, 0.9847179556481647, 0.010365452164717523, 0.953877351226315, 0.04335806141937795, 0.9619831189883865, 0.0324994296955536, 0.00288883819516032, 0.00144441909758016, 0.00072220954879008, 0.9334310458868248, 0.9655821224101626, 0.029389944119015732, 0.0018368715074384833, 0.0012245810049589887, 0.0006122905024794944, 0.9619454488614888, 0.031654512028348805, 0.0024620176022049074, 0.0021103008018899206, 0.0010551504009449603, 0.00035171680031498677, 0.6426908507343845, 0.5673801500746029, 0.792508886763416, 0.8612673313380674, 0.958065844967344, 0.0370808562858648, 0.0017246909900402233, 0.002587036485060335, 0.0008623454950201116, 0.9680341515089286, 0.028661947179347457, 0.0009245789412692728, 0.0009245789412692728, 0.0009245789412692728, 0.5336799026050256, 0.5336799026050256, 0.962213897730249, 0.03212478831849798, 0.00152975182469038, 0.00152975182469038, 0.684149306875904, 0.9300176255002514, 0.9677529144299809, 0.028261134833393285, 0.0015276289099131505, 0.0015276289099131505, 0.0007638144549565753, 0.7886206274558122, 0.9769110856813752, 0.018786751647718754, 0.9671827382469725, 0.028327527898446895, 0.00252924356236133, 0.001011697424944532, 0.000505848712472266, 0.8725813539086908, 0.9730705151191732, 0.5875599893082925, 0.9678941301919262, 0.027026712186860067, 0.0028152825194645904, 0.0011261130077858362, 0.0005630565038929181, 0.0005630565038929181, 0.48260995746785157, 0.9959502645768928, 0.9603193105637129, 0.03406538094905063, 0.0016221609975738394, 0.0016221609975738394, 0.9563373751893425, 0.5301138003852103, 0.9497236957161457, 0.036065456799347306, 0.9751482593508869, 0.5035780215717531, 0.25178901078587657, 0.8476963015678225, 0.798662538574076, 0.9665777162369756, 0.02791963362902876, 0.002791963362902876, 0.0016751780177417254, 0.0005583926725805751, 0.0005583926725805751, 0.8295292031846961, 0.16590584063693922, 0.6356654242997064, 0.7752133627474325, 0.9977853043853414, 0.964358479072767, 0.029645739862996453, 0.0034877341015289946, 0.0017438670507644973, 0.0008719335253822486, 0.8907771527986614, 0.8712238700589819, 0.7513059483610941, 0.9617715475891745, 0.03251058752414111, 0.0020319117202588196, 0.0020319117202588196, 0.0006773039067529397, 0.9778764106470865, 0.9624565917608366, 0.033175009303959106, 0.002287931676135111, 0.0011439658380675555, 0.0007626438920450369, 0.00038132194602251846, 1.0401635442664223, 0.9949689380831698, 0.6048955419460401, 0.6984051919190833, 0.23280173063969445, 0.676342943908947, 0.7586566597149584, 0.8342440565356668, 0.9559079660224808, 0.8142838164855862, 0.620394753846739, 0.8530834323412307, 0.9685233253745233, 0.02565210357904099, 0.0025026442516137555, 0.0025026442516137555, 0.0012513221258068777, 0.5655786156288053, 0.9623211256808136, 0.032272964580759, 0.0029339058709780905, 0.0014669529354890453, 0.0004889843118296817, 0.0004889843118296817, 0.9557989622903301, 0.04067229626767362, 0.8464375591892779, 0.12091965131275399, 0.7492985560840351, 0.149859711216807, 0.7698577649484362, 0.9844620789108993, 0.5685359432561826, 0.6412191274820309, 0.5206061535692776, 0.5206061535692776, 0.834527595452913, 0.11921822792184472, 1.1453316168114984, 0.8762185308362419, 0.08762185308362419, 0.9725366411433779, 0.027786761175525084, 0.8962353983015501, 0.05601471239384688, 0.9315170190966615, 0.9950303844385441, 1.1788523802406707, 0.6842225877122056, 0.3421112938561028, 0.39745808808051114, 0.39745808808051114, 0.7324671301906868, 0.9710049924460926, 0.024031059364481796, 0.0022529118154201683, 0.0007509706051400561, 0.0007509706051400561, 0.6780441631254777, 0.9928564393657848, 0.8922115789376304, 0.9598028249086387, 0.033036691437072704, 0.005216319700590427, 0.0017387732335301426, 0.0017387732335301426, 0.9632885143926566, 0.031214793078180706, 0.003121479307818071, 0.0012485917231272283, 0.0006242958615636142, 0.9844472363685379, 0.007401858920064195, 0.9672743532970702, 0.02837338103004739, 0.0025793982754588538, 0.9544670450101864, 0.9640652184995421, 0.03200005730530619, 0.0015238122526336282, 0.0015238122526336282, 0.0005079374175445427, 0.9620738370806039, 0.032903640524689796, 0.002145889599436291, 0.0014305930662908608, 0.0007152965331454304, 0.5710989878915382, 0.8333346196504823, 0.9565486005609312, 0.9630484227802241, 0.031510786839434736, 0.001969424177464671, 0.0009847120887323355, 0.0009847120887323355, 0.9582015005457024, 0.03619303645708682, 0.0025591035878748253, 0.001827931134196304, 0.0007311724536785215, 0.00036558622683926075, 0.6159403140256511, 0.20531343800855037, 0.8658111807583788, 1.0616457787583238, 0.9757046453250035, 0.023797674276219597, 0.7198376165765129, 0.919403123651349, 0.7481783213319614, 0.8353382539450153, 0.9560252603465254, 0.028118390010191924, 0.487037536420929, 0.7488083700380344, 0.8028952522368233, 0.8920717703871807, 0.08920717703871807, 0.5782640667534221, 0.7820344106839084, 0.7296149769476983, 0.7254174886790125, 0.9601986289876466, 0.03432594132612843, 0.0018554562878988342, 0.0018554562878988342, 0.0009277281439494171, 0.9897289218881358, 0.9635932428541558, 0.032311248828939654, 0.0017950693793855363, 0.0010770416276313216, 0.00035901387587710727, 0.00035901387587710727, 0.9606227473448602, 0.032563482960842716, 0.0030528265275790046, 0.0020352176850526697, 0.0010176088425263349, 0.0010176088425263349, 0.8519194423675412, 0.854980294221168, 0.12214004203159542, 0.014093081772876395, 0.004697693924292132, 0.7416302117496403, 0.7212711504501546, 0.9630813303095497, 0.03236894911996304, 0.002522255775581536, 0.0016815038503876904, 0.0004203759625969226, 0.9307875758929107, 0.11634844698661384, 0.9596226780511581, 0.03435514183637431, 0.002785552040787106, 0.0018570346938580709, 0.0004642586734645177, 0.0004642586734645177, 0.7969879886399723, 0.963232542340305, 0.0297857444514209, 0.002882491398524603, 0.0024020761654371696, 0.0009608304661748678, 0.0004804152330874339, 0.8576217609010132, 0.32349751260541204, 0.6469950252108241, 0.47630092530492435, 0.8601617422023298, 0.7805300147814158, 0.8223299755123724, 0.7146982704098457, 0.4897431460805078, 0.9582955274790743, 0.0377281703731919, 0.001509126814927676, 0.000754563407463838, 0.000754563407463838, 0.6775347231604065, 0.7930749346585718, 0.8025679702638262, 0.8441687804173417, 0.9572454570341652, 0.05630855629612737, 0.8588903385301857, 0.8087740908136278, 0.1347956818022713, 0.8206339900836284, 0.9629333133090849, 0.030587293481582695, 0.0022657254430802, 0.0022657254430802, 0.0011328627215401, 0.9419299253391807, 0.8250095549732592, 0.9372567134400369, 0.926535322361585, 0.9610685335750097, 0.03359278325985834, 0.0026244361921764327, 0.0015746617153058597, 0.0005248872384352865, 0.9940065799700282, 0.6064444043016366, 0.6064444043016366, 0.8777472382314218, 0.1253924626044888, 0.9890975040194299, 0.003296991680064766, 0.003296991680064766, 0.9643112377817072, 0.03050778331358909, 0.00265285072292079, 0.001326425361460395, 0.0007958552168762371, 0.00026528507229207904, 0.9946099533362771, 0.6966781050840974, 0.2322260350280325, 0.9696448211485452, 0.017629905839064458, 0.9968446589184857, 0.8342120240449645, 0.9450424781854465, 0.7868886514137001, 0.8646783863265252, 0.9088735979836925, 0.9557991985436239, 0.8581311714825126, 0.9632075323732694, 0.03162044929508208, 0.0024323422534678523, 0.0016215615023119014, 0.00040539037557797534, 0.00040539037557797534, 0.5459840669319425, 0.9644950499241067, 0.03121343203637886, 0.001560671601818943, 0.001560671601818943, 0.001560671601818943, 0.726916938197033, 0.3634584690985165, 0.5667708303089142, 0.5667708303089142, 0.8822303560889739, 0.9649405861437563, 0.03143628449097657, 0.0015334772922427594, 0.0011501079691820695, 0.00038336932306068985, 0.00038336932306068985, 0.8074562689664864, 0.8505223379291659, 0.6025479177825123, 0.8926197896398129, 0.9628062071945167, 0.03323295586963322, 0.0018990260496933268, 0.0009495130248466634, 0.0009495130248466634, 0.7591653968372253, 0.18979134920930632, 0.9851378424023123, 0.006274763327403263, 0.4965639903480357, 0.982568972110392, 0.02233111300250891, 0.8307317230014669, 0.825818656888388, 0.21968478486775447, 0.6590543546032634, 1.1391578351293437, 0.7736239539579072, 0.7971675833255969, 0.9746707938042565, 0.02448601994222765, 0.0003180002589899695, 0.0003180002589899695, 0.9393554234825379, 0.9261002201379762, 0.061740014675865075, 0.4570983480312097, 0.9979395250841081, 0.916523094187904, 0.964122645351857, 0.03107502741216729, 0.0015935911493419124, 0.0015935911493419124, 0.0007967955746709562, 0.9482186961222372, 0.0418331777700987, 0.8461306553308746, 0.9634494502246089, 0.03154468233254824, 0.0026732781637752744, 0.0010693112655101099, 0.0005346556327550549, 0.0005346556327550549, 0.9647495177149846, 0.015560476092177172, 0.9697477220238706, 0.027098738739189998, 0.0009678120978282142, 0.0009678120978282142, 0.0009678120978282142, 0.9667435995689476, 0.029533918520436284, 0.001968927901362419, 0.001968927901362419, 0.8234096197657433, 0.9782340269663401, 1.1279886604189686, 0.5410167332539295, 0.9539757020487335, 0.034901550074953665, 0.9626595816330613, 0.031094061527462663, 0.0031408142957032995, 0.0015704071478516498, 0.0009422442887109899, 0.00031408142957032995, 1.094976995073861, 1.005031576270853, 0.8374113633251616, 0.5909346999096655, 0.8652457382964526, 0.9662337785107312, 0.030227378184262358, 0.0010423233856642193, 0.0010423233856642193, 0.5822365609875334, 0.7549940066909395, 0.8562180021153153, 0.962217985742767, 0.031431778248709984, 0.0030417849918106437, 0.0020278566612070958, 0.0010139283306035479, 0.8693564581178265, 0.21733911452945662, 0.8982818940969183, 0.05988545960646122, 0.9592703568463798, 0.040994459694289734, 0.9643818297702828, 0.031073292558766303, 0.0022195208970547356, 0.0011097604485273678, 0.8128921702865292, 0.9584461112388212, 0.03650101897838263, 0.002354904450218234, 0.0017661783376636754, 0.00029436305627727924, 1.0122415321041733, 0.96477493659179, 0.03682347086228206, 0.8988100290625062, 0.9194920082629888, 0.06567800059021349, 0.45739400330709906, 0.974369458494015, 0.8656030763991825, 0.9620891458632816, 0.03338931096203754, 0.002384950783002681, 0.0014309704698016088, 0.0004769901566005363, 0.0004769901566005363, 0.9235869463489157, 0.5912332688121849, 0.5307528550807122, 0.9908195757393023, 0.9650532774513474, 0.028812184527439905, 0.003098084357789237, 0.0018588506146735423, 0.0006196168715578474, 0.0003098084357789237, 0.9691224867062496, 0.8523286985753051, 0.7945419941353126, 0.2648473313784375, 0.9670772727902629, 0.027354931177095622, 0.0024136703979790257, 0.0024136703979790257, 0.0008045567993263419, 1.001783245377313, 0.8825087047759823, 1.0144824735352902, 0.9727339497032849, 0.02191271385227772, 0.0028581800676883984, 0.0019054533784589323, 0.0009527266892294661, 0.873075558150933, 0.9015684060280755, 0.7435331020270285, 0.9610315518808838, 0.032801675722880466, 0.0028773399756912687, 0.0017264039854147613, 0.0005754679951382538, 0.8392531405499032, 0.08392531405499032, 0.9189671591036084, 0.09189671591036083, 0.5675803716473307, 0.9395922329447854, 0.9805661006077555, 0.5008863134883611, 0.7889348920508132, 0.15778697841016265, 0.9335315936963947, 0.7363419129002907, 0.7653878857709291, 0.38269394288546454, 0.4597684538736445, 0.7480032208776611, 0.5516367940758742, 0.5516367940758742, 0.9694593008878021, 0.9390318693459729, 0.06260212462306486, 1.0276828775751057, 0.8494567495249756, 0.9650175339309229, 0.031230340903913363, 0.001561517045195668, 0.001561517045195668, 0.000780758522597834, 0.9760917378426304, 0.9644868451972579, 0.029823340915190413, 0.002982334091519041, 0.0014911670457595206, 0.0005964668183038083, 0.00029823340915190416, 0.9618564315332109, 0.03316746315631762, 0.0025032047665145374, 0.0012516023832572687, 0.0006258011916286343, 0.0006258011916286343, 0.46194664289795717, 0.46194664289795717, 0.46194664289795717, 0.7855557449831103, 0.7236652399123101, 0.898106384708823, 0.7228555572000653, 0.36142777860003267, 0.8348881802421512, 0.27829606008071706, 0.531131776891112, 0.765307118643397, 0.21865917675525626, 0.874686046399719, 0.0874686046399719, 0.9338762660216872, 0.9736622099590995, 0.9065133380548426, 0.665887403615368, 0.6763994840967535, 0.906945384053332, 0.6498182366578985, 0.7451194475928109, 0.24837314919760364, 0.6594163328338275, 0.2198054442779425, 0.45307006095168845, 0.45307006095168845, 0.9608183435509653, 0.03469851283675025, 0.0016523101350833453, 0.0016523101350833453, 0.0004130775337708363, 0.0004130775337708363, 0.21202006059144382, 0.8480802423657753, 0.7543324097276574, 0.18858310243191434, 0.8090222228096106, 0.6555204306336376, 0.8052359989955082, 0.9655995948424694, 0.02926059378310513, 0.001887780244071299, 0.0009438901220356495, 0.0009438901220356495, 0.0009438901220356495, 0.9689779205513982, 0.02392538075435551, 0.0034179115363365017, 0.0017089557681682509, 0.0017089557681682509, 0.6843263226143188, 0.9271629442456365, 0.05349016986032518, 0.8848284563613374, 0.12640406519447678, 0.6697175707972733, 0.22323919026575778, 0.6332132228003727, 0.9051285870621105, 0.5920342321059818, 0.5488683924287454, 0.7891934883152267, 0.7258514147878203, 0.796399072431923, 0.19909976810798075, 0.9192407673760862, 0.7543031328356252, 0.8667658169621225, 0.17335316339242451, 0.8505647273510983, 0.9049019579254739, 0.3511053614044129, 0.5851756023406882, 0.9835345580146567, 0.9661749409913261, 0.02963077584639335, 0.0010582419945140483, 0.0010582419945140483, 0.0010582419945140483, 0.634236134211063, 0.9662541682273876, 0.02935778846661812, 0.0021273759758418925, 0.0012764255855051356, 0.000850950390336757, 0.0004254751951683785, 0.5097371952840781, 1.0036630811955738, 0.6391507824874783, 0.955435529794467, 0.04139375858525984, 0.0008447705833726498, 0.0008447705833726498, 0.0008447705833726498, 0.7464810684980017, 0.5230661465337711, 1.0146389904020092, 0.9642171185064937, 0.031651642801253994, 0.001852779090805112, 0.001389584318103834, 0.000463194772701278, 0.0003087965151341853, 0.8650368676336406, 1.0422542334862734, 0.9665731256297669, 0.02917756416555279, 0.001591503499939243, 0.001591503499939243, 0.0005305011666464144, 0.8254203411324296, 0.7315443111140747, 0.9902522598739071, 0.5767445972711485, 0.28837229863557423, 0.8383584218524209, 0.7421391253193586, 0.6258864164792796, 0.6873470037035141, 0.7926567202967303, 0.6195091239250737, 0.7487417681839075, 0.9395043775357446, 0.5014077346895595, 0.6783931435837111, 0.6709545350207484, 1.0547015090962106], \"Term\": [\"\\\"Brimmer\", \"\\\"Foer\", \"\\\"Like\", \"\\\"Other\", \"\\\"President\", \"\\\"city\", \"\\\"stimulus\", \"\\\"throughout\", \"\\\"throughout\", \"'cent\", \"-point\", \"-undersecretary\", \".Tones\", \"/P)._The\", \"0.5%.trading\", \"1)4-point\", \"1-year\", \"1-year\", \"10%03\", \"100,000.region\", \"11.while\", \"14v\", \"14\\u2030\\u00fb\\u00aa\", \"1957\\u2030\\u00fb\\u00f3from\", \"1987.banker\", \"1987.banker\", \"1997.while\", \"1^ocks-\", \"2.3%.mr\", \"2008).as\", \"2008.among\", \"20\\u2030\\u00fb\\u00f3late\", \"23-aug\", \"2307.30.---Burlington\", \"239,000.san\", \"239,000.san\", \"24.Standard\", \"250-share\", \"26-week\", \"26-week\", \"3/8.while\", \"32'4\", \"33j4\", \"345,000.\\\"the\", \"34b\", \"35-\", \"35-\", \"350.your\", \"3500.\\u2030\\u00db\\u00cfInvestors\", \"3500.\\u2030\\u00db\\u00cfInvestors\", \"39-a\", \"4.6%.yesterday\", \"40-hour\", \"40-hour\", \"44-pt)lnt\", \"45-minute\", \"4::k\", \"4::k\", \"4I\", \"55.98.of\", \"6%.interest\", \"6%.interest\", \"6*sSoundsn\", \"6.16.The\", \"600-dollar\", \"60th\", \"60th\", \"7.7%.the\", \"86-point\", \"948.94.other\", \"A2\", \"A2\", \"A2\", \"ADP\", \"AMR\", \"AMR\", \"Ablin\", \"Alfandre\", \"Allen\\u2030\\u00db\\u00aas\", \"Alpha\", \"Amin\", \"Amin\", \"Amrtrst\", \"Anagnos\", \"Andersen\", \"Andersen\", \"Anuradha\", \"Anuradha\", \"Aronson\", \"Associates_Inc.\", \"Associates_Inc.\", \"AvilaThe\", \"AvilaThe\", \"BABY\", \"BCE\", \"BIS\\u2030\\u00db\\u00d3\", \"BMA\", \"BOMA\", \"BYTE\", \"Ball\", \"Banque\", \"Barker\", \"Barnegat\", \"Barry\", \"Benitez\", \"Biomagnetic\", \"Biomagnetic\", \"BobEvn\", \"Bogema\", \"Bolger\", \"Bolger\", \"Bottoms\", \"BrfsES\", \"Brookes\", \"Brookes\", \"Brorson\", \"Bunting\", \"Cadillac\", \"Calypso\", \"Camilla\", \"Cartier\", \"Chamorro\", \"Chamorro\", \"Chileans\", \"ClearVision\", \"Climb\", \"CntCrd\", \"Co.through\", \"Cogan\", \"CollnSLf\", \"Comfd\", \"Consequences\", \"Consequences\", \"Cornell\", \"Cornell\", \"Couriers\", \"Cowan\", \"Croatia\", \"CrslFo\", \"Cushman\", \"Dealogic\", \"DiMaggio\", \"DiMaggio\", \"Dome\", \"Dome\", \"Donoghue\", \"Dow_Jones\", \"Dow_Jones\", \"Dow_Jones\", \"Dow_Jones\", \"Dow_Jones\", \"Dustin\", \"Duvalier\", \"Duvalier\", \"E.\", \"E.\", \"Ehrenkrantz\", \"Engine\", \"Engine\", \"Entitlement\", \"Escherich\", \"Estate\", \"FUND\", \"Fannie\", \"Fannie\", \"Fed\", \"Fed\", \"Fed\", \"Fed\", \"Fed\", \"Federa\", \"Federal_Reserve\", \"Federal_Reserve\", \"Federal_Reserve\", \"Federal_Reserve\", \"Federal_Reserve\", \"Federal_Reserve\", \"Footwear\", \"Force\", \"Foundation\\u2030\\u00db\\u00aas\", \"Foundry\", \"Friedman\\u2030\\u00db\\u00d3\", \"Frumberg\", \"Frumberg\", \"G.M.\", \"Gasser\", \"Gasser\", \"Gehry\", \"Gehry\", \"Gemini\", \"Gemini\", \"Glendening\", \"Goldschmidt\", \"Google\", \"Google\", \"Gov\", \"Greyhound\", \"Halls\", \"Hanley\", \"Hanley\", \"Helmut\", \"Hens\", \"Homestore\", \"Horizons\", \"House.\\u2030\\u00db\\u009dCaddell\", \"House.\\u2030\\u00db\\u009dCaddell\", \"Housekeeping\", \"Housekeeping\", \"Hub\", \"III\", \"INFORMATION\", \"INFORMATION\", \"IRe\", \"Iff).\\u2030\\u00db\\u00d3A\", \"Image\", \"Image\", \"Ina\", \"Inch\", \"Intel\", \"Istithmar\", \"Jacob\", \"Kconnmie\", \"Kelman\", \"KesslerWhat\", \"Khorana\", \"Kirkpatrick\", \"Kraklio\", \"Leslie\", \"Leslie\", \"Liberty\", \"Litton\", \"Loan\", \"Loan\", \"Loehmann\", \"Loehmann\", \"Loehmann\", \"Luiz\", \"Lynchburg\", \"Lynchburg\", \"Magellan\", \"Mahalingam\", \"Malgoire\", \"Martinsville\", \"McChes\", \"McGwire\", \"McInturff\", \"Meer\", \"Mehdi\", \"Menefee\", \"Merrill\", \"Midweek\", \"Mike\", \"Mike\", \"Mildred\", \"Mobil_Corp.\", \"Mobil_Corp.\", \"Monika\", \"Morrison\", \"Mr.\", \"Mr.\", \"Mr.\", \"Mr.\", \"Mr.\", \"Mr.\", \"Mr._Reagan\\u2030\\u00db\\u00aas\", \"Nashashibi\", \"New_York\", \"New_York\", \"New_York\", \"New_York\", \"New_York\", \"New_York\", \"Nigh\", \"Noah\", \"Nobel\", \"NossiterThe\", \"Ohio\", \"Ohio\", \"Okun\", \"Organizations\", \"Oros\", \"Overland\", \"PAYING\", \"PAYING\", \"PUERTO\", \"Pailleret\", \"Pathmark\", \"Petersen\", \"Pg\", \"Photographer\", \"Pilenzo\", \"Pizza\", \"Plug_Power\", \"Pope\", \"Pope\", \"Pord\", \"President_Boris\", \"Priday\", \"RTKL\", \"Raj\", \"Reflation\", \"Reich\", \"Reserve_Banks\", \"Reserve_Banks\", \"Richard_B.\", \"Riedy\", \"Ritholtz\", \"Rodgin\", \"Rodgin\", \"Roland\", \"RomTelecom\", \"Root\", \"S&L.The\", \"SCHIP\", \"Saks\", \"Salomon_Smith\", \"Sawicz\", \"Schweitzer\", \"Seaboard\", \"Seaboard\", \"Shaw\", \"Syrians\", \"TRAC\", \"Telling\", \"Tftp\", \"TheTreasury\", \"Tne\", \"Turin\", \"Tyco\", \"Tyco\", \"U.S.\", \"U.S.\", \"U.S.\", \"U.S.\", \"U.S.\", \"U.S.\", \"U.S.\\\"Looking\", \"U.S.---But\", \"U.S.At\", \"U.S.At\", \"U.S.J\", \"UFW\", \"USS\", \"Underhill\", \"Uninsured\", \"United_States\", \"United_States\", \"Upshaw\", \"Velcade\", \"Vic\", \"Vinnie\", \"Visions\", \"Wash-\", \"Wash-\", \"Weatherless\", \"Weatherless\", \"Weinblatt\", \"Westwood\", \"We\\u2030\\u00db\\u00aall\", \"Wilder\", \"Wilens\", \"Wilsons\", \"Win95\", \"Wyckoff\", \"XL\", \"Xiaochuan\", \"YORK_June\", \"YORK_June\", \"Yancy\", \"York_Times\", \"^.It\", \"aCornco\", \"abo\", \"abo\", \"acquaint\", \"add\", \"add\", \"add\", \"add\", \"adjournment\", \"adjournment\", \"administration_official\", \"administration_official\", \"admittedly\", \"adrift\", \"ag\", \"again.last\", \"aggra-0\", \"airline\", \"airline\", \"airline\", \"allow\", \"allow\", \"allow\", \"allow\", \"allowj\", \"ambiguously\", \"americanized\", \"analyst\", \"analyst\", \"analyst\", \"analyst\", \"analyst\", \"animate\", \"annual_convention\", \"annual_convention\", \"apotaae\", \"apotaae\", \"appearance\", \"appearance\", \"appropriation_bill\", \"appropriation_bill\", \"ar.d\", \"art\", \"art\", \"aspire\", \"att\", \"attutude\", \"auction\", \"auction\", \"auction\", \"average\", \"average\", \"average\", \"average\", \"average\", \"average\", \"avoidance,\\u2030\\u00fb\\u009d\", \"backfired\", \"bank\", \"bank\", \"bank\", \"bank\", \"bank\", \"bank\", \"bank_hold\", \"banks\\u2030\\u00db\\u00d3and\", \"bathing\", \"bathing\", \"baton\", \"battlefield\", \"bckavsl\", \"be1\", \"because^\", \"beliefs\\u2030\\u00fb\\u00f3as\", \"beliefs\\u2030\\u00fb\\u00f3as\", \"bellow\", \"bellow\", \"bemuse\", \"big\", \"big\", \"big\", \"big\", \"big\", \"big\", \"bill\", \"bill\", \"bill\", \"bill\", \"billion).mr\", \"bitter\\u2030\\u00fb\\u009d\", \"black\", \"black\", \"black_man\", \"bleakest\", \"bleakest\", \"bond\", \"bond\", \"bond\", \"bond\", \"bond\", \"bond\", \"boston\\u2030\\u00fb\\u00f3the\", \"brainpower\", \"browser\", \"budget\", \"budget\", \"budget\", \"budget\", \"budget\", \"business\", \"business\", \"business\", \"business\", \"business\", \"buy\", \"buy\", \"buy\", \"buy\", \"buy\", \"buyer\\u2030\\u00db\\u00aas\", \"cc\", \"central_bank\", \"central_bank\", \"central_bank\", \"central_bank\", \"cents,\\u2030\\u00db\\u009d\", \"change\", \"change\", \"change\", \"change\", \"chef\", \"chef\", \"chemical\", \"chemical\", \"chip_stock\", \"chip_stock\", \"close\", \"close\", \"close\", \"close\", \"close\", \"coastal\", \"come\", \"come\", \"come\", \"come\", \"come\", \"company\", \"company\", \"company\", \"company\", \"company\", \"company\", \"complicit\", \"consensus\\u2030\\u00fb\\u009d\", \"constable\", \"contradic\", \"cost\", \"cost\", \"cost\", \"cost\", \"cost\", \"country\", \"country\", \"country\", \"country\", \"country\", \"courtroom\", \"courtroom\", \"credit\", \"credit\", \"credit\", \"credit\", \"crossword\", \"cuisine\", \"cut\", \"cut\", \"cut\", \"cut\", \"cut\", \"dalian\", \"damage\", \"damage\", \"day\", \"day\", \"day\", \"day\", \"day\", \"debtholder\", \"debt\\u2030\\u00fb\\u00f3that\", \"decade\\u2030\\u00db\\u00d3from\", \"decline\", \"decline\", \"decline\", \"decline\", \"decline\", \"decline\", \"decorator\", \"deeply\", \"demand\", \"demand\", \"demand\", \"demand\", \"deprecate\", \"dialysis\", \"directly\", \"directly\", \"disc\", \"do.\\u2030\\u00db\\u009dKennedy\", \"do.\\u2030\\u00db\\u009dKennedy\", \"does.\\u2030\\u00db\\u009d\", \"doing?well\", \"dollar\", \"dollar\", \"dollar\", \"dollar\", \"dollar\", \"dollar\", \"domestic_demand\", \"domestic_demand\", \"dow-.jone\", \"downshifting.---\", \"dramatically\", \"drop\", \"drop\", \"drop\", \"drop\", \"drop\", \"dullness\", \"duration_gap\", \"e>:N\", \"economic\", \"economic\", \"economic\", \"economic\", \"economic\", \"economic_reform\", \"economy\", \"economy\", \"economy\", \"economy\", \"economy\", \"economy\", \"eindhoven\", \"ek\", \"else,\\u2030\\u00db\\u00aa\\u2030\\u00db\\u00aa\", \"employment?john\", \"employment?john\", \"employment\\u2030\\u00fb\\u00f3because\", \"endear\", \"equivalently\", \"euro]50\", \"euro]990\", \"execu-\", \"exhortation\", \"expect\", \"expect\", \"expect\", \"expect\", \"expect\", \"exporting\", \"fall\", \"fall\", \"fall\", \"fall\", \"fall\", \"fall\", \"family\", \"family\", \"farmhand\", \"farmhand\", \"fastenal\", \"fastenal\", \"fdr\\u00e5\\u00c8sk9,68\", \"fed\\u2030\\u00fb\\u00aas\", \"feerease\", \"fees.\\u2030\\u00db\\u00aa\", \"fernande\", \"fernande\", \"fiasco\", \"fiasco\", \"filiate\", \"filibuster\", \"filibuster\", \"final_hour\", \"final_hour\", \"financial_condition\", \"financial_condition\", \"financial_regulation\", \"folk\", \"fondue\", \"foolishness\", \"foolishness\", \"foundation\\u2030\\u00db\\u00aas\", \"foundation\\u2030\\u00db\\u00aas\", \"frightened\", \"fund\", \"fund\", \"fund\", \"fund\", \"fund\", \"funded''by\", \"funds\\u2030\\u00db\\u00d3as\", \"fungus\", \"future\", \"future\", \"future\", \"future\", \"future\", \"gain\", \"gain\", \"gain\", \"gain\", \"gain\", \"german\", \"german\", \"global\", \"global\", \"global\", \"goods\\u2030\\u00db\\u00d3and\", \"government\", \"government\", \"government\", \"government\", \"government\", \"growth\", \"growth\", \"growth\", \"growth\", \"growth\", \"habitual\", \"halting\", \"harbor\", \"help\", \"help\", \"help\", \"help\", \"help\", \"high\", \"high\", \"high\", \"high\", \"high\", \"high\", \"higher\\u2030\\u00db\\u00d3even\", \"higher\\u2030\\u00db\\u00d3even\", \"history.\\u2030\\u00fb\\u00f7the\", \"holster\", \"home_builder\", \"home_builder\", \"hotcake\", \"hous\", \"houses?\\\"marketer\", \"housing_recovery\", \"hover\", \"hover\", \"hubris\", \"imbibe\", \"imon\", \"import_export\", \"import_export\", \"impotent\", \"in^o\", \"inattention\", \"inc.--fully\", \"include\", \"include\", \"include\", \"include\", \"include\", \"incoming\", \"increase\", \"increase\", \"increase\", \"increase\", \"increase\", \"increase\", \"index\", \"index\", \"index\", \"index\", \"index\", \"index\", \"india\", \"indicate\", \"indicate\", \"indicate\", \"indicate\", \"indignant\", \"industrlal\", \"inflation\", \"inflation\", \"inflation\", \"inflation\", \"inflation\", \"injunction\", \"injunction\", \"interest_rate\", \"interest_rate\", \"interest_rate\", \"interest_rate\", \"interest_rate\", \"interest_rate\", \"introvert\", \"investor\", \"investor\", \"investor\", \"investor\", \"investor\", \"investor\", \"investor_brace\", \"involvement.\\u2030\\u00db\\u00cfThe\", \"involvement.\\u2030\\u00db\\u00cfThe\", \"io47k\\u2030\\u00db\\u00aa\", \"irrationally\", \"irrespective\", \"itself.\\u2030\\u00fb\\u00eflooke\", \"i\\u2030\\u00fb\\u00aarodut\", \"j-\", \"job\", \"job\", \"job\", \"job\", \"job\", \"job\\u2030\\u00fb\\u00aa\", \"j\\u00e5\\u00c7\", \"kaufman\", \"keeper\", \"laptop\", \"laptop\", \"launcher\", \"legend\", \"legend\", \"lh\", \"like\", \"like\", \"like\", \"like\", \"like\", \"lilt\", \"llie\", \"loafer\", \"locations,\\u2030\\u00fb\\u009d\", \"low\", \"low\", \"low\", \"low\", \"low\", \"lump_sum\", \"mailroom\", \"mailroom\", \"man-\", \"man-\", \"manager\", \"manager\", \"manager\", \"market\", \"market\", \"market\", \"market\", \"market\", \"market\", \"market_rout\", \"matic\", \"matic\", \"maximum\", \"maximum\", \"mental\", \"microenterprise\", \"mid-1975\", \"mid-1978\", \"mid_afternoon\", \"miniscule\", \"misconduct\", \"mit\", \"month\", \"month\", \"month\", \"month\", \"month\", \"month\", \"months\\u2030\\u00db\\u00d3even\", \"mortgage\", \"mortgage\", \"mortgage\", \"mortgage\", \"mortgage\", \"motorcar\", \"motorcar\", \"nation,\\u2030\\u00db\\u009d\", \"nation,\\u2030\\u00db\\u009d\", \"nemesis\", \"new\", \"new\", \"new\", \"new\", \"new\", \"new\", \"newfound\", \"northwestern\", \"now?\\u2030\\u00db\\u009d\", \"occur.\\u2030\\u00fb\\u009dthe\", \"official\", \"official\", \"official\", \"official\", \"official\", \"oils\\u2030\\u00db\\u00d3and\", \"oils\\u2030\\u00db\\u00d3and\", \"operate\", \"operate\", \"outsourced\", \"oversight\", \"oversight\", \"panded\", \"paper\\u2030\\u00db\\u00d3that\", \"patrimonial\", \"patrimonial\", \"peculiarly\", \"peking\\u2030\\u00fb\\u00aa\", \"perceived\", \"percent\", \"percent\", \"percent\", \"percent\", \"perplexing\", \"person_familiar\", \"person_familiar\", \"pf\", \"phasing\", \"phone_call\", \"plan\", \"plan\", \"plan\", \"plan\", \"plan\", \"plummet\", \"plummet\", \"poinsettia\", \"point\", \"point\", \"point\", \"point\", \"point\", \"point\", \"point_close\", \"point_close\", \"policy\", \"policy\", \"policy\", \"policy\", \"policy\", \"political\", \"political\", \"political\", \"political\", \"politico\", \"precautionary\", \"preeminence\", \"preorder\", \"previously\", \"previously\", \"price\", \"price\", \"price\", \"price\", \"price\", \"price\", \"primacy\", \"privately\", \"prob-\", \"procedure\\u2030\\u00fb\\u009d\", \"productio\", \"program\", \"program\", \"program\", \"program\", \"program.\\u2030\\u00fb\\u009dgao\\u2030\\u00fb\\u00aas\", \"provocation\", \"pvogram\", \"quarter\", \"quarter\", \"quarter\", \"quarter\", \"quarter\", \"questioning\", \"questioning\", \"radio\", \"radio\", \"rail\", \"rail\", \"raise\", \"raise\", \"raise\", \"raise\", \"ramrod\", \"rate\", \"rate\", \"rate\", \"rate\", \"rate\", \"rates.the\", \"reaction\", \"reaction\", \"readily\", \"rebuild\", \"rebuild\", \"recession\\u2030\\u00db\\u00d3if\", \"reform_package\", \"regimen\", \"report\", \"report\", \"report\", \"report\", \"report\", \"report\", \"report\\u2030\\u00fb\\u009d\", \"responder\", \"retailers\\u2030\\u00fb\\u00aa\", \"retarded\", \"rise\", \"rise\", \"rise\", \"rise\", \"rise\", \"rise\", \"rise_rapidly\", \"said.meaningful\", \"saintly\", \"saintly\", \"sale\", \"sale\", \"sale\", \"sale\", \"sale\", \"scholarwho\", \"schooling\", \"seismic\", \"sell\", \"sell\", \"sell\", \"sell\", \"sell\", \"semiprocessed\", \"septemficial\", \"seymour\", \"share\", \"share\", \"share\", \"share\", \"share\", \"sharply_lower\", \"sharply_lower\", \"shed_job\", \"shed_job\", \"shipbuilding\", \"shorthand\", \"sideshow\", \"simultaneously.\\u2030\\u00fb\\u009d\", \"sit_sideline\", \"sit_sideline\", \"skeet\", \"slalevm\", \"slave\", \"slave\", \"sler\\u2030\\u00db\\u00aas\", \"slocli\", \"slugfest\", \"slugfest\", \"socenbi\", \"someday\", \"someday\", \"speaking\", \"splinter\", \"state\", \"state\", \"state\", \"state\", \"state\", \"state-\", \"stock\", \"stock\", \"stock\", \"stock\", \"stock\", \"stock\", \"stock_market\", \"stock_market\", \"stock_market\", \"stock_market\", \"stock_market\", \"stock_market\", \"stomping\", \"stomping\", \"stomping\", \"subc\", \"subcommittee\\u2030\\u00db\\u00aa\", \"suits\\u2030\\u00fb\\u009d\", \"sunco\", \"sunco\", \"surly\", \"surly\", \"systems.\\u2030\\u00fb\\u009dwork\", \"tag\", \"tag\", \"tax_bracket\", \"tax_bracket\", \"television_network\", \"telltale\", \"testament\", \"th%nd\", \"that-\", \"theotlicial\", \"thetbe\", \"this,\\u2030\\u00db\\u009d\", \"this,\\u2030\\u00db\\u009d\", \"thrice\", \"thrice\", \"thrum\", \"thrum\", \"time\", \"time\", \"time\", \"time\", \"time\", \"time\", \"tlj\", \"tlj\", \"tobusiness\", \"tobusiness\", \"too\\u2030\\u00fb\\u00f3$19.50\", \"total-\", \"tourism\", \"trade\", \"trade\", \"trade\", \"trade\", \"trade\", \"trade\", \"trader\", \"trader\", \"trader\", \"trader\", \"trader\", \"trade\\u2030\\u00db\\u00d3that\", \"trading_volume\", \"trading_volume\", \"tribute\", \"tribute\", \"trod\", \"trod\", \"tuxedo\", \"u.s./japan\", \"uncompetitive\", \"underpriced\", \"unfurl\", \"unlocking\", \"unrelentingly\", \"unrelentingly\", \"unsullied\", \"ury\", \"usury\", \"usury\", \"variously\", \"vear\", \"viewer\", \"viewer\", \"visian\", \"way\", \"way\", \"way\", \"way\", \"way\", \"way?With\", \"week\", \"week\", \"week\", \"week\", \"week\", \"week\", \"week,\\u2030\\u00db\\u009d\", \"weekly_survey\", \"wolud\", \"work\", \"work\", \"work\", \"work\", \"work\", \"wrongheade\", \"wt\", \"xvay\", \"year\", \"year\", \"year\", \"year\", \"year\", \"year\", \"year?first\", \"year\\u2030\\u00db\\u00d3that\", \"yesterday\", \"yesterday\", \"yesterday\", \"yesterday\", \"yesterday\", \"\\u2030\\u00d0\\u00caBusiriesshas\", \"\\u2030\\u00db\\u00cfLifeline\\u2030\\u00db\\u009d\", \"\\u2030\\u00db\\u00cfSocial\", \"\\u2030\\u00db\\u00cfhardware\\u2030\\u00db\\u009d\", \"\\u2030\\u00db\\u00cfhardware\\u2030\\u00db\\u009d\", \"\\u2030\\u00db\\u00cfloyal\", \"\\u2030\\u00db\\u00cfmarket\", \"\\u2030\\u00db\\u00cfmovie\", \"\\u2030\\u00db\\u00cfreal\\u2030\\u00db\\u009d\", \"\\u2030\\u00db\\u00cfrecurrent\", \"\\u2030\\u00db\\u00cfstudy\", \"\\u2030\\u00db\\u00cfundercover\", \"\\u2030\\u00db\\u00d3though\", \"\\u2030\\u00fb\\u00efcrunch\\u2030\\u00fb\\u009d\", \"\\u2030\\u00fb\\u00efdumpe\", \"\\u2030\\u00fb\\u00f3broker\", \"\\u2030\\u00fb\\u00f7tor\"]}, \"R\": 30, \"lambda.step\": 0.01, \"plot.opts\": {\"xlab\": \"PC1\", \"ylab\": \"PC2\"}, \"topic.order\": [1, 2, 3, 4, 5, 6, 7, 12, 8, 9, 20, 13, 18, 11, 16, 14, 10, 17, 15, 19]};\n",
              "\n",
              "function LDAvis_load_lib(url, callback){\n",
              "  var s = document.createElement('script');\n",
              "  s.src = url;\n",
              "  s.async = true;\n",
              "  s.onreadystatechange = s.onload = callback;\n",
              "  s.onerror = function(){console.warn(\"failed to load library \" + url);};\n",
              "  document.getElementsByTagName(\"head\")[0].appendChild(s);\n",
              "}\n",
              "\n",
              "if(typeof(LDAvis) !== \"undefined\"){\n",
              "   // already loaded: just create the visualization\n",
              "   !function(LDAvis){\n",
              "       new LDAvis(\"#\" + \"ldavis_el9031403225203541283092296518\", ldavis_el9031403225203541283092296518_data);\n",
              "   }(LDAvis);\n",
              "}else if(typeof define === \"function\" && define.amd){\n",
              "   // require.js is available: use it to load d3/LDAvis\n",
              "   require.config({paths: {d3: \"https://d3js.org/d3.v5\"}});\n",
              "   require([\"d3\"], function(d3){\n",
              "      window.d3 = d3;\n",
              "      LDAvis_load_lib(\"https://cdn.jsdelivr.net/gh/bmabey/pyLDAvis@3.3.1/pyLDAvis/js/ldavis.v3.0.0.js\", function(){\n",
              "        new LDAvis(\"#\" + \"ldavis_el9031403225203541283092296518\", ldavis_el9031403225203541283092296518_data);\n",
              "      });\n",
              "    });\n",
              "}else{\n",
              "    // require.js not available: dynamically load d3 & LDAvis\n",
              "    LDAvis_load_lib(\"https://d3js.org/d3.v5.js\", function(){\n",
              "         LDAvis_load_lib(\"https://cdn.jsdelivr.net/gh/bmabey/pyLDAvis@3.3.1/pyLDAvis/js/ldavis.v3.0.0.js\", function(){\n",
              "                 new LDAvis(\"#\" + \"ldavis_el9031403225203541283092296518\", ldavis_el9031403225203541283092296518_data);\n",
              "            })\n",
              "         });\n",
              "}\n",
              "</script>"
            ],
            "text/plain": [
              "<IPython.core.display.HTML object>"
            ]
          },
          "execution_count": 42,
          "metadata": {},
          "output_type": "execute_result"
        }
      ],
      "source": [
        "vis_hdp = gensimvis.prepare(hdp_model, corpus, dictionary)\n",
        "pyLDAvis.display(vis_hdp)"
      ]
    },
    {
      "cell_type": "markdown",
      "metadata": {
        "id": "Svrkm9m7E_PN"
      },
      "source": [
        "LdaEnsemble"
      ]
    },
    {
      "cell_type": "code",
      "execution_count": null,
      "metadata": {
        "colab": {
          "base_uri": "https://localhost:8080/",
          "height": 915
        },
        "id": "3E7p-iN-E7gV",
        "outputId": "d6a5e6e3-ecb5-489d-c035-48c02cff5817"
      },
      "outputs": [
        {
          "name": "stderr",
          "output_type": "stream",
          "text": [
            "/usr/local/lib/python3.7/dist-packages/pyLDAvis/_prepare.py:247: FutureWarning: In a future version of pandas all arguments of DataFrame.drop except for the argument 'labels' will be keyword-only\n",
            "  by='saliency', ascending=False).head(R).drop('saliency', 1)\n"
          ]
        },
        {
          "data": {
            "text/html": [
              "\n",
              "<link rel=\"stylesheet\" type=\"text/css\" href=\"https://cdn.jsdelivr.net/gh/bmabey/pyLDAvis@3.3.1/pyLDAvis/js/ldavis.v1.0.0.css\">\n",
              "\n",
              "\n",
              "<div id=\"ldavis_el9031403224930123041158254687\"></div>\n",
              "<script type=\"text/javascript\">\n",
              "\n",
              "var ldavis_el9031403224930123041158254687_data = {\"mdsDat\": {\"x\": [0.023539377006728878, -0.12456160116501618, -0.11341107119552629, -0.1082473928694557, 0.32268068822326923], \"y\": [-0.19987446153344607, 0.047268695155332156, -0.0912115201865129, 0.1819949658018951, 0.06182232076273191], \"topics\": [1, 2, 3, 4, 5], \"cluster\": [1, 1, 1, 1, 1], \"Freq\": [27.480787695348603, 26.94800975553689, 15.991541413303947, 15.834958629341081, 13.744702506469473]}, \"tinfo\": {\"Term\": [\"U.S.\", \"company\", \"rate\", \"stock\", \"Fed\", \"Federal_Reserve\", \"dollar\", \"percent\", \"interest_rate\", \"inflation\", \"share\", \"Japan\", \"China\", \"stock_market\", \"country\", \"point\", \"market\", \"Dow_Jones\", \"trade\", \"economy\", \"currency\", \"gain\", \"day\", \"rise\", \"world\", \"United_States\", \"investor\", \"close\", \"foreign\", \"increase\", \"revenue\", \"store\", \"cent_share\", \"acquisition\", \"management\", \"software\", \"chief_executive\", \"acquire\", \"network\", \"expense\", \"customer\", \"online\", \"net_income\", \"earn\", \"advertising\", \"ipo\", \"web\", \"initial_public\", \"brand\", \"operator\", \"owner\", \"Fannie_Mae\", \"premium\", \"ceo\", \"site\", \"own\", \"Communications\", \"quarter_profit\", \"marketing\", \"web_site\", \"company\", \"internet\", \"shareholder\", \"employee\", \"merger\", \"Chief_Executive\", \"executive\", \"operate\", \"AT&T\", \"Corp.\", \"Inc.\", \"offering\", \"operation\", \"deal\", \"giant\", \"California\", \"Co.\", \"profit\", \"industry\", \"service\", \"firm\", \"offer\", \"earning\", \"computer\", \"share\", \"plan\", \"sale\", \"business\", \"unit\", \"sell\", \"base\", \"maker\", \"Mr.\", \"technology\", \"cost\", \"year\", \"buy\", \"expect\", \"large\", \"result\", \"price\", \"stock\", \"analyst\", \"product\", \"quarter\", \"new\", \"include\", \"market\", \"big\", \"U.S.\", \"Commerce_Department\", \"report_yesterday\", \"output\", \"revise\", \"seasonally_adjust\", \"department\", \"Labor_Department\", \"good_service\", \"previous_month\", \"consumer_confidence\", \"housing_start\", \"gross_national\", \"annual_rate\", \"GNP\", \"personal_income\", \"labor_force\", \"new_home\", \"GDP\", \"Statistics\", \"business_investment\", \"Bureau_Labor\", \"consumer_sentiment\", \"jobless\", \"gdp\", \"new_order\", \"University_Michigan\", \"Conference_Board\", \"industrial_production\", \"month_row\", \"economist_survey\", \"spending\", \"payroll\", \"economist_expect\", \"unemployment\", \"figure\", \"retail_sale\", \"unemployment_rate\", \"consumer_price\", \"consumer_spending\", \"employment\", \"percent\", \"housing\", \"monthly\", \"job\", \"recession\", \"forecast\", \"economist\", \"increase\", \"survey\", \"month\", \"economy\", \"report\", \"growth\", \"January\", \"year\", \"rise\", \"consumer\", \"number\", \"rate\", \"decline\", \"inflation\", \"quarter\", \"drop\", \"December\", \"June\", \"fall\", \"high\", \"slow\", \"continue\", \"price\", \"low\", \"expect\", \"average\", \"sale\", \"cent\", \"interest_rate\", \"U.S.\", \"week\", \"industrial_average\", \"Dow\", \"Industrial_Average\", \"blue_chip\", \"500-stock_index\", \"Nasdaq_Composite\", \"Nasdaq_composite\", \"profit_taking\", \"loser\", \"broad_market\", \"Dow_industrial\", \"trading_volume\", \"lose_point\", \"Big_Board\", \"American_Stock\", \"trading_day\", \"nervous\", \"final_hour\", \"Dow_Jones\", \"climb_point\", \"bull\", \"active_trading\", \"Poor_500-stock\", \"finish\", \"past_session\", \"tech_stock\", \"index_future\", \"block\", \"section\", \"bull_market\", \"session\", \"Exchange\", \"rally\", \"Standard_Poor\", \"advance\", \"NEW_YORK\", \"Stock_Exchange\", \"stock_market\", \"trader\", \"active\", \"day\", \"fall_point\", \"stock\", \"close\", \"Index\", \"trading\", \"point\", \"investor\", \"selling\", \"gain\", \"issue\", \"market\", \"New_York\", \"index\", \"average\", \"news\", \"week\", \"price\", \"rise\", \"high\", \"share\", \"decline\", \"fall\", \"low\", \"loss\", \"drop\", \"analyst\", \"Volcker\", \"bureau\", \"borrower\", \"tighten_monetary\", \"Police\", \"Moscow\", \"hearing\", \"manpower\", \"nursing_home\", \"panel\", \"champion\", \"Week\", \"Treasury_bill\", \"certificate\", \"czar\", \"Rangel\", \"stimulative\", \"Chemical_Bank\", \"financial_turmoil\", \"Corps\", \"undersecretary\", \"Geithner\", \"chairman_House\", \"personal_saving\", \"pay_dividend\", \"Orszag\", \"anew\", \"bill\", \"Congress\", \"testimony\", \"lending\", \"deposit\", \"bank\", \"Treasury\", \"Bernanke\", \"loan\", \"Senate_Banking\", \"vote\", \"Fed\", \"Greenspan\", \"Committee\", \"Federal_Reserve\", \"Fed_chairman\", \"member\", \"Mr._Greenspan\", \"Mr._Bernanke\", \"money\", \"central_bank\", \"monetary_policy\", \"committee\", \"interest_rate\", \"yield\", \"Alan_Greenspan\", \"short_term\", \"bond\", \"Chairman_Alan\", \"policy\", \"meeting\", \"Fed_official\", \"raise_interest\", \"rate\", \"credit\", \"Board\", \"long_term\", \"money_supply\", \"inflation\", \"Maryland\", \"discount_rate\", \"federal_fund\", \"yesterday\", \"cut\", \"economy\", \"raise\", \"financial_market\", \"week\", \"official\", \"low\", \"percent\", \"year\", \"expect\", \"market\", \"increase\", \"high\", \"point\", \"month\", \"Japan\", \"China\", \"japanese\", \"yen\", \"chinese\", \"Mexico\", \"Germany\", \"euro\", \"german\", \"Russia\", \"Hong_Kong\", \"South_Korea\", \"IMF\", \"west_german\", \"Japanese\", \"tariff\", \"Argentina\", \"International_Monetary\", \"yuan\", \"develop_country\", \"Italy\", \"japanese_yen\", \"devaluation\", \"U.S._currency\", \"European\", \"political\", \"ECB\", \"euro_zone\", \"World_Bank\", \"canadian_dollar\", \"currency\", \"Asia\", \"Tokyo\", \"exchange_rate\", \"foreign\", \"dollar\", \"Europe\", \"european\", \"Britain\", \"asian\", \"London\", \"country\", \"United_States\", \"world\", \"international\", \"U.S.\", \"global\", \"import\", \"trade_deficit\", \"export\", \"american\", \"trade\", \"Canada\", \"abroad\", \"crisis\", \"overseas\", \"market\", \"official\", \"government\", \"nation\", \"major\"], \"Freq\": [9012.0, 9486.0, 7879.0, 5751.0, 4654.0, 4493.0, 2996.0, 6521.0, 4559.0, 4474.0, 4507.0, 1740.0, 1691.0, 2416.0, 1850.0, 3125.0, 6302.0, 1742.0, 2667.0, 4069.0, 1464.0, 2880.0, 2164.0, 5673.0, 1529.0, 1459.0, 2579.0, 2133.0, 1195.0, 4560.0, 1093.0027242980848, 474.92851177257785, 470.70011995457526, 446.95654335301504, 429.32919586471417, 390.7820510919984, 386.44144846131127, 374.0094535295223, 315.1411753934347, 288.9753141207384, 517.4809718687432, 270.9920988237126, 261.99355030018825, 243.32862270552934, 219.68716843553244, 214.59338670694925, 181.53585530808996, 188.85893578961384, 266.0212216978025, 167.1152324289889, 159.81224820185855, 156.89350264909186, 153.44812493048786, 151.1421671723339, 150.85075803231962, 351.9443580629908, 126.22133208046486, 125.33232167275236, 139.40308947787673, 122.08006438542537, 9238.084684406756, 632.1610680951926, 377.449894618031, 303.9237259781787, 437.30114054934035, 179.09589561802952, 830.5339123779286, 293.43315835336267, 216.67182903885683, 1590.488488000213, 1708.2215469322664, 470.7226643470542, 606.9322249490378, 978.525958045807, 386.0295425027848, 328.4596922409262, 1264.1521116552217, 1582.295565225107, 1416.6243038246564, 680.4789740903774, 1225.3779088007373, 672.3225312630059, 1214.6285918121234, 589.3118183357484, 3070.9340837496284, 855.3177862500955, 2201.4316240168955, 1888.7767346188302, 697.6487618802512, 1480.2358629525588, 1049.708128628024, 574.6694775442186, 704.6772318104182, 628.9316780317405, 729.5965872583895, 2631.499215991836, 811.3480963260174, 1276.2627010297958, 978.9299277325181, 834.6924650039558, 1448.4357867432682, 1357.0314575231328, 977.4884855499142, 842.5045543423887, 915.4251181861866, 913.5164313632793, 774.0632761164248, 981.33555968415, 809.7215103378763, 884.4349721439261, 706.6136679821586, 414.0562924958535, 298.59000877460386, 268.5599874801373, 241.0339760767617, 243.89655716626504, 598.3957617448843, 156.06124184610175, 148.2910208603758, 200.8527783018139, 136.83652829684817, 113.69506018818548, 518.6429002988232, 103.61045628121761, 182.07259859444144, 94.98065502763775, 144.51977096877442, 101.0687676589515, 78.48537082559892, 77.64979071576117, 72.00528199440208, 70.91255262348982, 68.57851582181698, 68.73711208447557, 73.65526482815015, 59.64156662677774, 116.11466391761367, 137.06374825946781, 52.653256807263126, 52.346966249849395, 444.0743895568237, 184.23017256899684, 121.09214763724687, 604.438551736493, 985.3164031980823, 325.43224980631595, 466.8021896492485, 454.0883186373829, 518.6757183219858, 452.7571837396863, 5568.866501981468, 402.72536875908895, 324.1866158837558, 836.791105444865, 1556.8252871787859, 804.0882091738869, 1433.935508579869, 3365.7170517611185, 516.8828095678286, 3308.3481925957026, 2770.7366331952267, 2738.637651864953, 1800.3769121482262, 1056.3291180638892, 4951.889777009847, 3160.4809436927794, 957.0759138836853, 998.9327170848222, 3587.2986458481987, 1799.989005224929, 2250.084921649029, 1388.0549624809505, 1228.227918429568, 744.0529647696585, 803.0259499129045, 1569.4545277900845, 1598.8464970683062, 774.5928261892368, 1153.156426634822, 1779.5052825620032, 1267.989960930386, 1250.5275013580267, 944.8860760005177, 1032.844181906541, 861.5922975890868, 1006.9878006220827, 955.441238652783, 886.1438194992168, 746.7266729045393, 578.9740792906452, 502.16114153630656, 450.1648459882939, 337.10166236103004, 189.3560435177355, 182.32678125894736, 163.68648050290875, 158.4866255147599, 139.76186552884974, 110.32553827495401, 90.87283209260328, 85.62254422048203, 166.49542697893494, 73.75987357655121, 93.29004898948942, 65.16788856628261, 62.34724773535111, 1722.568145187543, 58.24575802664527, 79.99558696924599, 51.95037524476506, 47.59847840045166, 307.79949143157995, 39.44190459418858, 40.4704598975788, 37.673152983630345, 76.57700766652049, 34.98571743020941, 84.77259787976176, 699.9771193499517, 185.31931501740243, 1031.6089859442093, 404.93133169612713, 976.8896747288385, 1286.2142227567422, 592.5754124552708, 2045.504546602959, 637.4054636756583, 182.13935847859108, 1774.9969283508349, 185.7997541843214, 4386.49610401724, 1629.5192785697682, 256.81946193849615, 1109.6028500277657, 2172.9262376510055, 1698.0890894192057, 251.36544650605364, 1814.4372439530248, 715.8648476219506, 2949.176914161043, 915.000518514319, 1023.2497921754957, 1014.7884019558829, 547.5611320936177, 1361.9842494868765, 1795.014908652222, 1726.6290764625528, 1362.0354729530748, 1401.11321658792, 1151.8172482125763, 1039.0569906461121, 907.3735447825937, 686.6397936834825, 692.0898327221553, 641.8428060207389, 110.86777112275936, 59.34845178128915, 49.25284303896794, 33.60407689044195, 27.75161256793053, 25.075690961184332, 24.561377882757597, 24.391092490798922, 23.28788327386865, 21.993151191910293, 21.87855022181255, 20.62529709501148, 147.15893091966282, 19.341218628649436, 18.878960611950507, 18.2022215567813, 17.77071912152012, 17.55017300178093, 17.395112320215176, 17.141012543206827, 16.853186651346913, 16.84341082546779, 15.888014227328078, 15.772257403883078, 15.549275563008097, 15.52098767517928, 15.156384248949578, 65.70414539153779, 59.366158718233336, 95.82801276720657, 140.17569323292074, 68.223894062198, 896.832258667034, 522.305917679947, 309.03425253923757, 232.5601117491424, 103.82647917569248, 73.55611974126022, 3951.397237821975, 566.0902702970437, 175.95167378803413, 3546.759942462918, 130.2750158150372, 273.3437024323618, 146.6614469884631, 136.56888822630714, 459.96652435834955, 1000.5669904088861, 380.84496978119773, 164.49061566633958, 3278.961917815771, 605.371162493453, 257.1715217080544, 649.0418558751154, 1056.3507943426948, 208.95007189816104, 834.6835375489065, 659.4977614484202, 280.4372354628184, 354.62301527697645, 4197.60856473306, 627.2277776609639, 457.736775707723, 502.685468910399, 359.1634009975553, 2195.048665869436, 306.9429350086912, 283.59898364328393, 243.57730668368623, 1116.7408666690128, 759.6631095413153, 1194.3433993585209, 551.7744152388599, 360.526877772222, 800.42640836158, 519.6207569973254, 653.2030984450871, 795.2104849757319, 850.7449578753445, 615.9737771507936, 705.2147551184439, 631.0067457156862, 544.0256829115041, 506.9232903978619, 515.7717827904999, 1739.7051298227573, 1690.474050671583, 974.8134732433635, 530.0726492660439, 524.7640674372053, 493.8469820235307, 431.17531233630194, 390.1790421122833, 338.4396375945831, 317.93115518294894, 281.9879732568509, 269.60856624772777, 227.88160713056783, 222.59802566935332, 208.7597436018152, 174.37508836094793, 172.25309806181795, 169.60876423676453, 147.4807612397706, 143.2814395328692, 141.19548313282277, 132.06247746723426, 121.38526179625998, 118.67496898192074, 115.85631881533367, 114.14974097565327, 112.58125720105667, 107.13392198635202, 104.68601193232979, 99.44160623555955, 1447.4159017516508, 570.2106991198809, 375.2631876869386, 324.8576833005854, 1159.904246624606, 2837.3185788839055, 1064.3315818341302, 800.1261359421122, 282.8137388979102, 390.86104891174114, 352.36831388693196, 1715.1227446636533, 1344.0680957190425, 1381.808909030414, 853.001725089616, 6970.935659766171, 1012.6076780825781, 1065.3692720123686, 878.1899856811074, 1044.7692920227778, 616.0458187541399, 1782.3437546600462, 437.00508051581323, 396.9452610911291, 389.41008570271424, 410.428747844614, 1317.985257925658, 557.5049148679758, 521.4444276647267, 478.06617946491946, 444.77136802172583], \"Total\": [9012.0, 9486.0, 7879.0, 5751.0, 4654.0, 4493.0, 2996.0, 6521.0, 4559.0, 4474.0, 4507.0, 1740.0, 1691.0, 2416.0, 1850.0, 3125.0, 6302.0, 1742.0, 2667.0, 4069.0, 1464.0, 2880.0, 2164.0, 5673.0, 1529.0, 1459.0, 2579.0, 2133.0, 1195.0, 4560.0, 1093.5855083334604, 475.5119401478661, 471.2828940156518, 447.5395566264734, 429.9119853348733, 391.36997378900514, 387.0242175967314, 374.5922222593625, 315.7239432669324, 289.55808191350263, 518.5328589485995, 271.5749116106659, 262.57631785629854, 243.911394129469, 220.26993630177577, 215.17626524569712, 182.11864774680652, 189.46661774421278, 266.9237823537013, 167.6980002611828, 160.3950159615863, 157.4763399087018, 154.03090451253752, 151.72493481746037, 151.43352608223253, 353.3311851817446, 126.80411935297444, 125.91621422761091, 140.0612805722354, 122.66284491322529, 9486.476429058612, 637.8157086513163, 379.78691961972817, 305.73382778085056, 443.13368311983515, 180.08093729587912, 852.1553670713364, 297.0563687606369, 218.43889502943048, 1673.5953522939146, 1821.0356485202517, 482.8828417836204, 631.7423411239176, 1040.4581453707033, 396.9511866273809, 335.68959612163815, 1436.458401296704, 1852.9800497678852, 1720.0117459623912, 758.5520268973715, 1486.837251491264, 756.9720050013887, 1485.7991152486677, 652.494243927564, 4507.313604644945, 1019.9840011076412, 3280.9453648763474, 2784.3266265961224, 817.9751662405463, 2132.7877522847334, 1376.1644534030331, 656.1959995875781, 914.4442082158691, 784.5801291874918, 1014.2892375413797, 9062.83718834153, 1297.701299718717, 3333.3016358775526, 2006.1122120163063, 1479.3813903077762, 5584.336606528608, 5751.459405713568, 2671.8332399993833, 1630.6280883358231, 2411.452308166003, 2550.4718305502433, 1374.870568254636, 6302.976478104161, 2030.4007337369655, 9012.037162045623, 707.3454531329926, 414.7560847388489, 299.3160514168925, 269.26182434742367, 241.73377623003233, 244.64897804756293, 600.4713434926882, 156.7613194174512, 148.9947129082144, 201.8647272358223, 137.53626609558415, 114.39579476857863, 522.0596986238859, 104.31019398172946, 183.36430214561025, 95.6804399207266, 145.68774940692526, 101.96286371458979, 79.18510684124762, 78.3495272687989, 72.70501777242701, 71.6124738050398, 69.27826555835709, 69.43906124651986, 74.41313600803474, 60.34133625972411, 117.59849253611087, 138.88366393544132, 53.352992521327366, 53.04670392357755, 454.18755936325715, 187.21119525670565, 122.81958653954025, 625.751711914012, 1031.003629169636, 334.06342697669805, 485.61548800635467, 472.2889181613579, 543.5160677472835, 476.5228119518237, 6521.2015878968405, 425.77966469847604, 341.1586149847684, 920.2298155911888, 1840.2093700228797, 935.553950763978, 1744.0407300268785, 4560.070807149135, 587.4343207774375, 4553.281427877825, 4069.0974332304068, 4164.4468426446265, 2609.4215512447777, 1423.6275885329317, 9062.83718834153, 5673.974021238702, 1366.0637903358065, 1449.6736204927272, 7879.809809952129, 3256.54378820199, 4474.9417139839, 2411.452308166003, 2151.491109136623, 1027.9569098799554, 1176.315274451522, 3611.72450700976, 3846.9150936819806, 1139.0277396971733, 2381.2700418487907, 5584.336606528608, 3073.9615141976014, 3333.3016358775526, 2016.6309021782572, 3280.9453648763474, 1769.6201430106587, 4559.996580102328, 9012.037162045623, 3282.4657521585996, 747.4532077324928, 579.7006123155642, 502.88793880120784, 450.89139775636124, 337.8282048706816, 190.0825879786613, 183.05331671228546, 164.41301342506856, 159.21316225451355, 140.48840051583042, 111.05207115767686, 91.59937610843123, 86.34907725850218, 168.06836417590628, 74.49042159458833, 94.2881945069914, 65.89839866306043, 63.07378066662974, 1742.7700337065357, 58.9722913008431, 81.1046866310649, 52.67690855166976, 48.32501127892733, 313.4427802250265, 40.16843782130313, 41.21833461785294, 38.399686448323834, 78.15897039845142, 35.713290315606585, 86.8160946335284, 730.0761107628331, 190.7254688562023, 1081.6665669428844, 429.1470886715646, 1071.2502298936938, 1454.2915975191877, 658.9845010668977, 2416.101210555609, 723.2198075121934, 193.71882989055825, 2164.6925543947245, 198.38594547495364, 5751.459405713568, 2133.3237232593974, 286.73719569325425, 1445.3126935246023, 3125.2248487334764, 2579.2670692967904, 281.3014927763502, 2880.6595534628727, 1032.093647105323, 6302.976478104161, 1477.0565246706226, 1783.0962813117067, 2016.6309021782572, 867.8565058553578, 3282.4657521585996, 5584.336606528608, 5673.974021238702, 3846.9150936819806, 4507.313604644945, 3256.54378820199, 3611.72450700976, 3073.9615141976014, 1411.5047449469128, 2151.491109136623, 2671.8332399993833, 111.60474714032014, 60.02772032500117, 50.2250152669864, 34.28334265954277, 28.4308790314369, 25.7549579595053, 25.240687449693986, 25.070360380167262, 23.967149348240646, 22.672454643259822, 22.55781846459848, 21.304563845333615, 152.10372626067058, 20.020496212011942, 19.55822593993106, 18.88148749475684, 18.44998562222569, 18.22944047088157, 18.074385972204166, 17.820277937491696, 17.53245421535982, 17.52267777161505, 16.56727956641965, 16.45152599823423, 16.228542777283305, 16.20025290255711, 15.835653022979253, 68.70988479714308, 62.15304611913156, 100.3392339591228, 147.90119291313528, 71.58493577908895, 973.4104147944372, 568.5678793046483, 333.7352506338706, 252.15584241378804, 111.38204174823272, 78.41681300172259, 4654.938551119316, 636.504823851822, 193.65748061671968, 4493.856733659633, 143.91778825921577, 312.9040260816614, 164.1035273225925, 152.48760953440853, 555.1462095900343, 1261.0305793958069, 460.0158354552711, 188.72791631590786, 4559.996580102328, 764.1981026757074, 304.42941916139904, 834.43962699143, 1451.3819310712042, 244.6845850035303, 1121.9921574951584, 885.0174114071024, 343.5636674045894, 457.0517473983919, 7879.809809952129, 890.5321771544658, 626.4230365150928, 701.7372135930079, 476.6974616516644, 4474.9417139839, 396.99340337219826, 363.6064808384734, 305.03693728243417, 3017.4284853637796, 1851.1059471493613, 4069.0974332304068, 1189.1547102537359, 590.6331997577537, 3282.4657521585996, 1302.1739431758056, 3073.9615141976014, 6521.2015878968405, 9062.83718834153, 3333.3016358775526, 6302.976478104161, 4560.070807149135, 3846.9150936819806, 3125.2248487334764, 4553.281427877825, 1740.309948998885, 1691.078536331993, 975.4179196723853, 530.6771013124167, 525.3684768916746, 494.45143372350515, 431.77972147393126, 390.7834498186815, 339.04404575415816, 318.5355624987731, 282.59340000719465, 270.21299417823127, 228.48601393604525, 223.20243261727282, 209.36415191904638, 174.97949531219896, 172.85750517587476, 170.2132229030362, 148.08516798294636, 143.88613959711392, 141.79989059788838, 132.66688750228062, 121.98966902553434, 119.27938014067354, 116.46072611236222, 114.75496003361427, 113.18566510393892, 107.73845457140578, 105.29041885804007, 100.04602138992873, 1464.4489870431692, 575.8284260002905, 377.9511448007975, 329.8640586060837, 1195.6390571788825, 2996.889970437551, 1104.406378916736, 827.2814135732475, 288.36953706189064, 401.69329597378066, 361.460189769659, 1850.910747903945, 1459.0905864588344, 1529.1389225513742, 942.5434864819772, 9012.037162045623, 1145.9021821319825, 1215.8103351235272, 1005.7838152065875, 1238.9675000801492, 712.3116939890915, 2667.2076927973026, 480.3469114095885, 437.28631796588866, 425.66954838388887, 473.01390721935644, 6302.976478104161, 1302.1739431758056, 1703.9727886240062, 1139.9012490090229, 1291.057814012846], \"Category\": [\"Default\", \"Default\", \"Default\", \"Default\", \"Default\", \"Default\", \"Default\", \"Default\", \"Default\", \"Default\", \"Default\", \"Default\", \"Default\", \"Default\", \"Default\", \"Default\", \"Default\", \"Default\", \"Default\", \"Default\", \"Default\", \"Default\", \"Default\", \"Default\", \"Default\", \"Default\", \"Default\", \"Default\", \"Default\", \"Default\", \"Topic1\", \"Topic1\", \"Topic1\", \"Topic1\", \"Topic1\", \"Topic1\", \"Topic1\", \"Topic1\", \"Topic1\", \"Topic1\", \"Topic1\", \"Topic1\", \"Topic1\", \"Topic1\", \"Topic1\", \"Topic1\", \"Topic1\", \"Topic1\", \"Topic1\", \"Topic1\", \"Topic1\", \"Topic1\", \"Topic1\", \"Topic1\", \"Topic1\", \"Topic1\", \"Topic1\", \"Topic1\", \"Topic1\", \"Topic1\", \"Topic1\", \"Topic1\", \"Topic1\", \"Topic1\", \"Topic1\", \"Topic1\", \"Topic1\", \"Topic1\", \"Topic1\", \"Topic1\", \"Topic1\", \"Topic1\", \"Topic1\", \"Topic1\", \"Topic1\", \"Topic1\", \"Topic1\", \"Topic1\", \"Topic1\", \"Topic1\", \"Topic1\", \"Topic1\", \"Topic1\", \"Topic1\", \"Topic1\", \"Topic1\", \"Topic1\", \"Topic1\", \"Topic1\", \"Topic1\", \"Topic1\", \"Topic1\", \"Topic1\", \"Topic1\", \"Topic1\", \"Topic1\", \"Topic1\", \"Topic1\", \"Topic1\", \"Topic1\", \"Topic1\", \"Topic1\", \"Topic1\", \"Topic1\", \"Topic1\", \"Topic1\", \"Topic1\", \"Topic1\", \"Topic1\", \"Topic1\", \"Topic2\", \"Topic2\", \"Topic2\", \"Topic2\", \"Topic2\", \"Topic2\", \"Topic2\", \"Topic2\", \"Topic2\", \"Topic2\", \"Topic2\", \"Topic2\", \"Topic2\", \"Topic2\", \"Topic2\", \"Topic2\", \"Topic2\", \"Topic2\", \"Topic2\", \"Topic2\", \"Topic2\", \"Topic2\", \"Topic2\", \"Topic2\", \"Topic2\", \"Topic2\", \"Topic2\", \"Topic2\", \"Topic2\", \"Topic2\", \"Topic2\", \"Topic2\", \"Topic2\", \"Topic2\", \"Topic2\", \"Topic2\", \"Topic2\", \"Topic2\", \"Topic2\", \"Topic2\", \"Topic2\", \"Topic2\", \"Topic2\", \"Topic2\", \"Topic2\", \"Topic2\", \"Topic2\", \"Topic2\", \"Topic2\", \"Topic2\", \"Topic2\", \"Topic2\", \"Topic2\", \"Topic2\", \"Topic2\", \"Topic2\", \"Topic2\", \"Topic2\", \"Topic2\", \"Topic2\", \"Topic2\", \"Topic2\", \"Topic2\", \"Topic2\", \"Topic2\", \"Topic2\", \"Topic2\", \"Topic2\", \"Topic2\", \"Topic2\", \"Topic2\", \"Topic2\", \"Topic2\", \"Topic2\", \"Topic2\", \"Topic2\", \"Topic2\", \"Topic2\", \"Topic3\", \"Topic3\", \"Topic3\", \"Topic3\", \"Topic3\", \"Topic3\", \"Topic3\", \"Topic3\", \"Topic3\", \"Topic3\", \"Topic3\", \"Topic3\", \"Topic3\", \"Topic3\", \"Topic3\", \"Topic3\", \"Topic3\", \"Topic3\", \"Topic3\", \"Topic3\", \"Topic3\", \"Topic3\", \"Topic3\", \"Topic3\", \"Topic3\", \"Topic3\", \"Topic3\", \"Topic3\", \"Topic3\", \"Topic3\", \"Topic3\", \"Topic3\", \"Topic3\", \"Topic3\", \"Topic3\", \"Topic3\", \"Topic3\", \"Topic3\", \"Topic3\", \"Topic3\", \"Topic3\", \"Topic3\", \"Topic3\", \"Topic3\", \"Topic3\", \"Topic3\", \"Topic3\", \"Topic3\", \"Topic3\", \"Topic3\", \"Topic3\", \"Topic3\", \"Topic3\", \"Topic3\", \"Topic3\", \"Topic3\", \"Topic3\", \"Topic3\", \"Topic3\", \"Topic3\", \"Topic3\", \"Topic3\", \"Topic3\", \"Topic3\", \"Topic3\", \"Topic3\", \"Topic3\", \"Topic4\", \"Topic4\", \"Topic4\", \"Topic4\", \"Topic4\", \"Topic4\", \"Topic4\", \"Topic4\", \"Topic4\", \"Topic4\", \"Topic4\", \"Topic4\", \"Topic4\", \"Topic4\", \"Topic4\", \"Topic4\", \"Topic4\", \"Topic4\", \"Topic4\", \"Topic4\", \"Topic4\", \"Topic4\", \"Topic4\", \"Topic4\", \"Topic4\", \"Topic4\", \"Topic4\", \"Topic4\", \"Topic4\", \"Topic4\", \"Topic4\", \"Topic4\", \"Topic4\", \"Topic4\", \"Topic4\", \"Topic4\", \"Topic4\", \"Topic4\", \"Topic4\", \"Topic4\", \"Topic4\", \"Topic4\", \"Topic4\", \"Topic4\", \"Topic4\", \"Topic4\", \"Topic4\", \"Topic4\", \"Topic4\", \"Topic4\", \"Topic4\", \"Topic4\", \"Topic4\", \"Topic4\", \"Topic4\", \"Topic4\", \"Topic4\", \"Topic4\", \"Topic4\", \"Topic4\", \"Topic4\", \"Topic4\", \"Topic4\", \"Topic4\", \"Topic4\", \"Topic4\", \"Topic4\", \"Topic4\", \"Topic4\", \"Topic4\", \"Topic4\", \"Topic4\", \"Topic4\", \"Topic4\", \"Topic4\", \"Topic4\", \"Topic4\", \"Topic4\", \"Topic4\", \"Topic4\", \"Topic4\", \"Topic4\", \"Topic4\", \"Topic4\", \"Topic4\", \"Topic5\", \"Topic5\", \"Topic5\", \"Topic5\", \"Topic5\", \"Topic5\", \"Topic5\", \"Topic5\", \"Topic5\", \"Topic5\", \"Topic5\", \"Topic5\", \"Topic5\", \"Topic5\", \"Topic5\", \"Topic5\", \"Topic5\", \"Topic5\", \"Topic5\", \"Topic5\", \"Topic5\", \"Topic5\", \"Topic5\", \"Topic5\", \"Topic5\", \"Topic5\", \"Topic5\", \"Topic5\", \"Topic5\", \"Topic5\", \"Topic5\", \"Topic5\", \"Topic5\", \"Topic5\", \"Topic5\", \"Topic5\", \"Topic5\", \"Topic5\", \"Topic5\", \"Topic5\", \"Topic5\", \"Topic5\", \"Topic5\", \"Topic5\", \"Topic5\", \"Topic5\", \"Topic5\", \"Topic5\", \"Topic5\", \"Topic5\", \"Topic5\", \"Topic5\", \"Topic5\", \"Topic5\", \"Topic5\", \"Topic5\", \"Topic5\", \"Topic5\", \"Topic5\", \"Topic5\", \"Topic5\"], \"logprob\": [30.0, 29.0, 28.0, 27.0, 26.0, 25.0, 24.0, 23.0, 22.0, 21.0, 20.0, 19.0, 18.0, 17.0, 16.0, 15.0, 14.0, 13.0, 12.0, 11.0, 10.0, 9.0, 8.0, 7.0, 6.0, 5.0, 4.0, 3.0, 2.0, 1.0, -5.3539, -6.1874, -6.1963, -6.2481, -6.2883, -6.3824, -6.3936, -6.4263, -6.5975, -6.6842, -6.1016, -6.7485, -6.7823, -6.8562, -6.9584, -6.9818, -7.1491, -7.1096, -6.767, -7.2319, -7.2766, -7.295, -7.3172, -7.3323, -7.3343, -6.4871, -7.5125, -7.5196, -7.4132, -7.5459, -3.2195, -5.9014, -6.4171, -6.6338, -6.2699, -7.1626, -5.6285, -6.6689, -6.9722, -4.9788, -4.9074, -6.1963, -5.9422, -5.4645, -6.3947, -6.5562, -5.2084, -4.9839, -5.0945, -5.8278, -5.2396, -5.8398, -5.2484, -5.9716, -4.3208, -5.5991, -4.6537, -4.8069, -5.8029, -5.0506, -5.3943, -5.9968, -5.7928, -5.9065, -5.7581, -4.4753, -5.6519, -5.1989, -5.4641, -5.6235, -5.0723, -5.1375, -5.4656, -5.6142, -5.5312, -5.5333, -5.6989, -5.4617, -5.6539, -5.5656, -5.7705, -6.305, -6.6319, -6.7379, -6.8461, -6.8342, -5.9367, -7.2807, -7.3318, -7.0284, -7.4122, -7.5975, -6.0798, -7.6904, -7.1266, -7.7773, -7.3576, -7.7152, -7.9681, -7.9788, -8.0543, -8.0695, -8.103, -8.1007, -8.0316, -8.2426, -7.5764, -7.4105, -8.3673, -8.3731, -6.235, -7.1148, -7.5344, -5.9267, -5.438, -6.5458, -6.1851, -6.2127, -6.0797, -6.2156, -3.706, -6.3327, -6.5497, -5.6014, -4.9806, -5.6413, -5.0628, -4.2096, -6.0832, -4.2268, -4.4041, -4.4158, -4.8352, -5.3684, -3.8235, -4.2725, -5.4671, -5.4243, -4.1458, -4.8355, -4.6123, -5.0953, -5.2177, -5.7189, -5.6426, -4.9725, -4.954, -5.6787, -5.2807, -4.8469, -5.1858, -5.1997, -5.4799, -5.3909, -5.5722, -5.4163, -5.4688, -5.5441, -5.1934, -5.4479, -5.5902, -5.6995, -5.9888, -6.5655, -6.6033, -6.7112, -6.7435, -6.8692, -7.1057, -7.2997, -7.3592, -6.6942, -7.5083, -7.2734, -7.6322, -7.6764, -4.3576, -7.7445, -7.4272, -7.8589, -7.9463, -6.0797, -8.1343, -8.1086, -8.1802, -7.4708, -8.2542, -7.3692, -5.2581, -6.5871, -4.8703, -5.8054, -4.9248, -4.6497, -5.4247, -4.1857, -5.3517, -6.6044, -4.3276, -6.5845, -3.4229, -4.4131, -6.2608, -4.7974, -4.1253, -4.3719, -6.2822, -4.3056, -5.2357, -3.8199, -4.9902, -4.8784, -4.8867, -5.5037, -4.5924, -4.3164, -4.3552, -4.5924, -4.5641, -4.76, -4.8631, -4.9986, -5.2773, -5.2694, -5.3448, -7.091, -7.7159, -7.9023, -8.2847, -8.476, -8.5774, -8.5981, -8.6051, -8.6514, -8.7086, -8.7138, -8.7728, -6.8078, -8.8371, -8.8613, -8.8978, -8.9218, -8.9342, -8.9431, -8.9578, -8.9748, -8.9753, -9.0337, -9.0411, -9.0553, -9.0571, -9.0809, -7.6141, -7.7156, -7.2367, -6.8564, -7.5765, -5.0004, -5.541, -6.0659, -6.3502, -7.1566, -7.5013, -3.5175, -5.4605, -6.6291, -3.6255, -6.9297, -6.1886, -6.8112, -6.8825, -5.6681, -4.891, -5.8569, -6.6964, -3.704, -5.3935, -6.2496, -5.3238, -4.8367, -6.4572, -5.0723, -5.3078, -6.163, -5.9282, -3.457, -5.358, -5.673, -5.5793, -5.9155, -4.1053, -6.0726, -6.1517, -6.3039, -4.7811, -5.1664, -4.714, -5.4862, -5.9117, -5.1142, -5.5462, -5.3174, -5.1207, -5.0532, -5.3761, -5.2408, -5.352, -5.5003, -5.5709, -5.5536, -4.1963, -4.225, -4.7755, -5.3847, -5.3948, -5.4555, -5.5912, -5.6911, -5.8334, -5.8959, -6.0159, -6.0608, -6.2289, -6.2524, -6.3166, -6.4965, -6.5088, -6.5242, -6.664, -6.6929, -6.7076, -6.7745, -6.8588, -6.8813, -6.9054, -6.9202, -6.9341, -6.9837, -7.0068, -7.0582, -4.3802, -5.3117, -5.7301, -5.8743, -4.6016, -3.7071, -4.6876, -4.973, -6.0129, -5.6894, -5.7931, -4.2105, -4.4543, -4.4266, -4.909, -2.8082, -4.7375, -4.6867, -4.8799, -4.7062, -5.2344, -4.1721, -5.5778, -5.6739, -5.6931, -5.6405, -4.4739, -5.3343, -5.4011, -5.488, -5.5602], \"loglift\": [30.0, 29.0, 28.0, 27.0, 26.0, 25.0, 24.0, 23.0, 22.0, 21.0, 20.0, 19.0, 18.0, 17.0, 16.0, 15.0, 14.0, 13.0, 12.0, 11.0, 10.0, 9.0, 8.0, 7.0, 6.0, 5.0, 4.0, 3.0, 2.0, 1.0, 1.2911, 1.2905, 1.2904, 1.2904, 1.2903, 1.2902, 1.2902, 1.2901, 1.2898, 1.2897, 1.2897, 1.2895, 1.2895, 1.2893, 1.289, 1.289, 1.2885, 1.2885, 1.2883, 1.2882, 1.288, 1.288, 1.2879, 1.2878, 1.2878, 1.2878, 1.2871, 1.287, 1.287, 1.2869, 1.2652, 1.2828, 1.2855, 1.2857, 1.2784, 1.2862, 1.266, 1.2794, 1.2836, 1.2408, 1.2277, 1.2662, 1.2516, 1.2303, 1.2638, 1.2699, 1.1639, 1.1338, 1.0976, 1.1831, 1.0983, 1.1731, 1.0902, 1.1898, 0.908, 1.1156, 0.8927, 0.9036, 1.1326, 0.9265, 1.0209, 1.159, 1.0311, 1.0706, 0.9622, 0.0551, 0.822, 0.3317, 0.5742, 0.7194, -0.0578, -0.1525, 0.2861, 0.6313, 0.3231, 0.265, 0.7172, -0.5682, 0.3724, -1.0297, 1.3102, 1.3096, 1.3088, 1.3087, 1.3084, 1.3082, 1.3078, 1.3068, 1.3065, 1.3062, 1.3062, 1.3051, 1.3047, 1.3045, 1.3042, 1.3039, 1.3032, 1.3025, 1.3024, 1.3023, 1.3016, 1.3014, 1.3011, 1.3011, 1.301, 1.2996, 1.2986, 1.2981, 1.2981, 1.298, 1.2887, 1.2952, 1.2971, 1.2766, 1.2659, 1.2851, 1.2717, 1.272, 1.2645, 1.2601, 1.1534, 1.2556, 1.2602, 1.2162, 1.144, 1.1598, 1.1155, 1.0076, 1.1833, 0.9919, 0.927, 0.8921, 0.9401, 1.0129, 0.7068, 0.7261, 0.9555, 0.9389, 0.5244, 0.7184, 0.6237, 0.7589, 0.7507, 0.988, 0.9295, 0.4778, 0.4333, 0.9257, 0.5861, 0.1676, 0.4257, 0.3309, 0.5531, 0.1554, 0.5915, -0.1991, -0.9329, 0.0018, 1.8321, 1.8319, 1.8317, 1.8315, 1.831, 1.8293, 1.8291, 1.8287, 1.8285, 1.8279, 1.8265, 1.8251, 1.8247, 1.8237, 1.8233, 1.8225, 1.822, 1.8215, 1.8215, 1.8207, 1.8193, 1.8192, 1.818, 1.8149, 1.8149, 1.8148, 1.814, 1.8127, 1.8125, 1.8093, 1.791, 1.8044, 1.7857, 1.775, 1.7409, 1.7103, 1.7269, 1.6666, 1.7068, 1.7715, 1.6346, 1.7676, 1.5622, 1.5637, 1.7229, 1.5688, 1.4697, 1.4151, 1.7206, 1.3709, 1.4673, 1.0736, 1.3542, 1.2777, 1.1464, 1.3726, 0.9535, 0.6982, 0.6434, 0.7948, 0.6647, 0.7938, 0.5872, 0.6129, 1.1125, 0.6989, 0.4069, 1.8363, 1.8316, 1.8234, 1.8229, 1.8188, 1.8162, 1.8157, 1.8155, 1.8142, 1.8125, 1.8124, 1.8105, 1.8099, 1.8084, 1.8076, 1.8063, 1.8054, 1.805, 1.8046, 1.8041, 1.8034, 1.8034, 1.8011, 1.8008, 1.8002, 1.8001, 1.7991, 1.7982, 1.7971, 1.7969, 1.7893, 1.7949, 1.761, 1.7581, 1.7661, 1.7621, 1.7727, 1.779, 1.6791, 1.7257, 1.7471, 1.6063, 1.7434, 1.7078, 1.7306, 1.7327, 1.6549, 1.6116, 1.6541, 1.7055, 1.5132, 1.61, 1.6743, 1.5917, 1.5253, 1.6851, 1.5471, 1.5488, 1.6399, 1.5892, 1.2132, 1.4924, 1.5292, 1.5094, 1.5598, 1.1307, 1.5857, 1.5944, 1.618, 0.849, 0.9523, 0.6171, 1.0751, 1.3493, 0.4317, 0.9243, 0.2941, -0.2613, -0.5229, 0.1544, -0.3473, -0.1348, -0.1131, 0.024, -0.335, 1.9842, 1.9842, 1.9839, 1.9834, 1.9834, 1.9833, 1.9831, 1.983, 1.9827, 1.9826, 1.9824, 1.9823, 1.9819, 1.9818, 1.9816, 1.9811, 1.981, 1.981, 1.9804, 1.9803, 1.9802, 1.98, 1.9795, 1.9794, 1.9793, 1.9792, 1.9792, 1.9789, 1.9788, 1.9785, 1.9728, 1.9747, 1.9774, 1.9692, 1.9542, 1.9298, 1.9476, 1.9511, 1.9651, 1.9572, 1.959, 1.9083, 1.9024, 1.8832, 1.8847, 1.7277, 1.8609, 1.8524, 1.8489, 1.814, 1.8393, 1.5814, 1.89, 1.8877, 1.8955, 1.8426, 0.4196, 1.1362, 0.8004, 1.1156, 0.9189]}, \"token.table\": {\"Topic\": [3, 1, 3, 2, 4, 3, 5, 1, 5, 2, 4, 1, 3, 2, 3, 4, 1, 5, 2, 1, 2, 3, 1, 5, 2, 3, 4, 4, 1, 5, 1, 2, 3, 4, 5, 2, 2, 4, 1, 2, 3, 2, 4, 1, 2, 3, 4, 4, 1, 2, 3, 4, 3, 2, 3, 4, 3, 5, 1, 5, 5, 1, 3, 1, 2, 3, 4, 2, 4, 2, 4, 2, 3, 4, 2, 2, 4, 5, 2, 3, 4, 5, 5, 1, 2, 3, 4, 2, 3, 3, 5, 5, 1, 2, 3, 4, 5, 5, 1, 2, 3, 4, 5, 2, 3, 1, 3, 5, 2, 4, 5, 4, 1, 2, 3, 4, 5, 2, 4, 2, 3, 4, 1, 2, 3, 4, 3, 3, 1, 2, 3, 4, 5, 4, 4, 3, 4, 5, 2, 3, 4, 5, 1, 2, 3, 2, 1, 3, 2, 3, 5, 2, 3, 4, 3, 4, 1, 2, 3, 4, 5, 5, 1, 2, 3, 4, 5, 2, 4, 4, 5, 1, 2, 5, 1, 1, 1, 3, 4, 3, 2, 3, 1, 1, 2, 4, 5, 1, 2, 3, 4, 5, 4, 2, 4, 1, 3, 4, 5, 1, 2, 3, 4, 1, 2, 3, 4, 5, 1, 2, 3, 4, 5, 1, 2, 3, 4, 5, 2, 4, 1, 3, 3, 2, 3, 4, 4, 1, 3, 2, 3, 1, 3, 4, 1, 2, 3, 4, 2, 1, 2, 3, 4, 5, 5, 1, 2, 3, 4, 1, 2, 4, 5, 1, 4, 4, 4, 1, 5, 3, 1, 2, 3, 4, 5, 2, 4, 1, 2, 3, 5, 1, 2, 3, 4, 1, 2, 3, 4, 5, 2, 2, 3, 4, 2, 1, 2, 3, 4, 1, 2, 3, 4, 5, 1, 2, 3, 4, 5, 1, 2, 4, 5, 1, 2, 3, 4, 1, 2, 4, 5, 4, 5, 1, 3, 1, 2, 3, 4, 5, 4, 1, 2, 3, 4, 5, 1, 3, 4, 5, 1, 2, 3, 4, 2, 2, 4, 5, 5, 2, 3, 4, 1, 2, 3, 4, 5, 1, 2, 3, 4, 5, 1, 1, 2, 3, 2, 4, 2, 4, 2, 1, 2, 3, 4, 5, 1, 2, 1, 2, 4, 5, 5, 1, 3, 5, 4, 5, 1, 2, 4, 1, 2, 3, 4, 5, 1, 1, 2, 5, 1, 2, 3, 4, 5, 2, 3, 4, 2, 3, 4, 1, 2, 3, 4, 3, 1, 2, 3, 4, 5, 4, 2, 3, 4, 1, 2, 3, 4, 5, 1, 2, 3, 4, 1, 2, 4, 5, 1, 2, 3, 4, 2, 5, 1, 3, 1, 2, 3, 4, 5, 2, 2, 3, 4, 5, 2, 1, 2, 3, 4, 5, 4, 1, 2, 3, 4, 5, 2, 3, 4, 2, 1, 2, 5, 1, 2, 3, 4, 5, 1, 2, 3, 4, 5, 1, 2, 3, 3, 3, 2, 3, 1, 2, 3, 5, 2, 3, 4, 1, 1, 2, 3, 4, 1, 3, 5, 1, 3, 1, 2, 3, 4, 1, 1, 2, 3, 4, 5, 5, 5, 1, 2, 2, 2, 1, 2, 3, 4, 5, 2, 4, 2, 4, 2, 3, 4, 3, 3, 1, 2, 3, 5, 1, 2, 3, 4, 5, 1, 2, 3, 4, 5, 1, 2, 3, 4, 1, 4, 1, 2, 3, 4, 5, 1, 2, 3, 4, 5, 2, 3, 4, 1, 3, 2, 4, 1, 2, 3, 4, 2, 3, 4, 1, 2, 3, 4, 5, 2, 1, 2, 3, 4, 1, 2, 4, 5, 3, 1, 1, 1, 2, 3, 4, 5, 2, 3, 2, 1, 2, 3, 4, 1, 2, 3, 4, 4, 1, 2, 3, 4, 5, 1, 3, 4, 1, 2, 4, 5, 1, 1, 2, 1, 2, 3, 4, 1, 2, 1, 2, 5, 1, 3, 1, 4, 3, 4, 1, 2, 1, 2, 3, 4, 2, 3, 4, 1, 2, 3, 4, 5, 2, 3, 4, 2, 4, 5, 5, 1, 2, 1, 2, 3, 4, 5, 1, 2, 4, 5, 1, 2, 3, 3, 1, 2, 3, 4, 1, 1, 2, 3, 4, 2, 3, 4, 2, 3, 4, 1, 2, 3, 4, 1, 2, 3, 4, 1, 2, 3, 4, 5, 2, 1, 2, 3, 4, 5, 2, 3, 1, 2, 1, 2, 3, 4, 5, 1, 2, 3, 4, 5, 2, 3, 1, 2, 3, 4, 5, 1, 3, 5, 1, 2, 5, 3, 4, 1, 3, 5, 1, 3, 1, 2, 3, 4, 5, 1, 1, 2, 3, 4, 1, 1, 2, 4, 1, 3, 4, 1, 2, 3, 5, 1, 1, 2, 4, 5, 3, 1, 3, 5, 2, 4, 4, 1, 2, 3, 5, 2, 5, 1, 2, 3, 4, 5, 1, 3, 5, 1, 3, 3, 4, 2, 4, 2, 4, 1, 2, 5, 1, 4, 1, 1, 1, 2, 3, 4, 5, 5, 1, 2, 3, 4, 5, 1, 2, 3, 4, 5, 5, 1, 2, 3, 4, 5, 2, 3, 4, 5], \"Freq\": [0.9975484436801284, 0.9934128259107123, 0.004577939289911117, 0.15438718153281386, 0.8442022479560248, 0.9934163133448562, 0.9950392366533215, 0.008683142016329491, 0.9898781898615621, 0.07191329041333297, 0.925883614071662, 0.0059499597375349276, 0.987693316430798, 0.26340027486525003, 0.006385461208854546, 0.7311353084138456, 0.01733886335895073, 0.9813796661166113, 0.9903030383042642, 0.9770931354129552, 0.014894712430075535, 0.005957884972030214, 0.08951863534172742, 0.9097591545194159, 0.13486750707864936, 0.00817378830779693, 0.8541608781647793, 0.9874137403587311, 0.9939974918383332, 0.999362219844424, 0.8799419453142365, 0.038984769729111746, 0.05778099799136205, 0.016011601853028037, 0.006961566023055668, 0.9995116203384605, 0.08778385397693893, 0.9088210764671324, 0.9936585707382575, 0.9864072021533777, 0.008503510363391188, 0.03217863202016695, 0.949269644594925, 0.9500504395047855, 0.025095671986918863, 0.015535415991902154, 0.00836522399563962, 0.9539694083128787, 0.09338912854937748, 0.7237657462576754, 0.1118723935747751, 0.07101464983442246, 0.9987914238821214, 0.010328385071963552, 0.9886559710551778, 0.0011475983413292835, 0.9905263256532777, 0.9983596411809886, 0.036218552123208715, 0.9634134864773519, 0.9960439357735267, 0.026215691223544748, 0.9699805752711558, 0.9969751652281356, 0.1503779249312925, 0.0006444768211341107, 0.8487759734336239, 0.09032934814552047, 0.9032934814552047, 0.18337212568466846, 0.8149872252651932, 0.19003721093363238, 0.02047239274694869, 0.7892997507981195, 0.9905567215404523, 0.9970262352135614, 0.9701713528932355, 0.9981941683799563, 0.1084045201455742, 0.001571080002109771, 0.8892312811941304, 0.9979001632480463, 0.997872894153682, 0.9379278222191296, 0.036243112568186506, 0.014277589799588623, 0.011531899453513888, 0.10113790758776767, 0.8962911120709065, 0.9982343207448472, 0.9987473188075543, 0.9943590182297342, 0.07937469104293497, 0.74176702425964, 0.12152054469405088, 0.05689690242900648, 0.9998219001166642, 0.9982606768364664, 0.04590606036734366, 0.6826401199069807, 0.14451907893423005, 0.12496649766665774, 0.0017002244580497652, 0.995884327338065, 0.0016653584069198412, 0.013832781981291651, 0.011066225585033321, 0.9738278514829323, 0.22418508530369383, 0.7733125976206068, 0.9990870008807425, 0.9706868882996305, 0.7709601019568966, 0.0820170321230741, 0.007654922998153583, 0.05686514227199804, 0.08311059255138176, 0.0983686480875371, 0.8984336525328388, 0.09140571348300883, 0.012187428464401176, 0.8957759921334865, 0.027504800322187276, 0.020628600241640455, 0.8842793303583208, 0.06738676078935882, 0.9943046441540303, 0.9942458474328492, 0.19972153744473914, 0.04062132964977745, 0.6194752771591061, 0.05009963990139219, 0.09004394739034001, 0.9876389026911115, 0.9848446813424072, 0.9932744707072826, 0.9533147218935151, 0.9983186728207932, 0.05386864799589832, 0.008978107999316387, 0.9337232319289043, 0.9992117544943424, 0.053594677925456906, 0.002330203388063344, 0.9437323721656542, 0.9850337154482401, 0.10015410057921821, 0.8998694188405515, 0.0026458446118136744, 0.0026458446118136744, 0.9921917294301279, 0.03869370887941425, 0.04045251382847854, 0.9180961834115564, 0.026297843572516598, 0.966445751289985, 0.09809102915409447, 0.10596938104316768, 0.0031069556745640784, 0.019307510263362488, 0.7735210002637926, 0.997657766662234, 0.0013707168139943493, 0.07059191592070899, 0.0006853584069971746, 0.006853584069971746, 0.9211216990042026, 0.9943432432743134, 0.99458134930802, 0.9857042909892603, 0.9972417351817012, 0.016007818475916844, 0.0754654299578937, 0.9078719907055696, 0.9984190214740967, 0.9987943934374415, 0.0412969663533463, 0.9395059845386283, 0.02064848317667315, 0.9871498049091891, 0.087747939162009, 0.9120184740562, 0.9987745204529139, 0.03369311525070588, 0.0968677063457794, 0.004211639406338235, 0.864789958101451, 0.36566653388900333, 0.26610942230816925, 0.24028445727404313, 0.12238787777042383, 0.005239847977938635, 0.9472296455494049, 0.9941391786572473, 0.005746469240793337, 0.009957846048446595, 0.007468384536334946, 0.009957846048446595, 0.9733794512356546, 0.022314445321349286, 0.468603351748335, 0.5033147111371006, 0.005950518752359809, 0.016437054460095177, 0.030819477112678455, 0.004109263615023794, 0.9215023656690858, 0.02773752940141061, 0.7629902061512481, 0.15405135590863298, 0.021799720175749947, 0.020346405497366618, 0.0414194683339249, 0.39893602604703055, 0.21966107113206867, 0.2935381129926299, 0.019700544496149656, 0.06845939212412006, 0.029107893367959176, 0.9605604811426528, 0.012794436708954053, 0.9851716265894621, 0.9980230322405864, 0.024803946658912796, 0.24735046807082484, 0.7275824353281087, 0.9756094595397442, 0.9965391530662592, 0.9965235527343385, 0.012329743711961742, 0.9863794969569394, 0.023037203049071496, 0.9790811295855386, 0.9828792378015206, 0.6784405184205449, 0.29845636358256894, 0.003950685919865533, 0.019035123068443027, 0.99553887201387, 0.6249512119436021, 0.02234720733213867, 0.13639502406167398, 0.10942425659185143, 0.10634188316672885, 0.9895445978221177, 0.1616166051960889, 0.4871101876889113, 0.2706795590521908, 0.08080830259804445, 0.9993997362958768, 0.12450134244581353, 0.7937951833647092, 0.08167922466190315, 0.9952220456160846, 0.9490274266329292, 0.9657590394279654, 0.9752716130119629, 0.9973536085077793, 0.9992986315169599, 0.983512743368186, 0.18234457141163113, 0.014531315459538728, 0.7640659419047783, 0.02296885346830315, 0.01640632390593082, 0.127167196398369, 0.8689758420555214, 0.9738073002218729, 0.008960123459499805, 0.008222230939305703, 0.008960123459499805, 0.9026899554770437, 0.021456127973987455, 0.0659009644915329, 0.009195483417423196, 0.2510863712416267, 0.7005529366712442, 0.0021960907105681633, 0.04318978397450721, 0.002928120947424218, 0.9957163034490314, 0.9612759955652622, 0.008469392031412002, 0.029642872109942008, 0.9914473865725234, 0.014718976079507052, 0.9548935731580199, 0.0018398720099383815, 0.029437952159014104, 0.18603517963719055, 0.484195399823207, 0.15075988598138013, 0.16125848528370465, 0.017217702855812218, 0.7197158098310378, 0.26422443429413445, 0.0009859120682616956, 0.001971824136523391, 0.013802768955663739, 0.020530433486883642, 0.05240663284809772, 0.0005402745654443064, 0.9265708797369854, 0.004491696204376663, 0.2739934684669764, 0.016843860766412488, 0.7040733800360419, 0.004698480329620162, 0.0375878426369613, 0.04228632296658146, 0.9138544241111216, 0.011608461715231376, 0.9880849471729296, 0.9970438537844881, 0.001928518092426476, 0.26038488004550103, 0.23769574112037437, 0.07887176864448786, 0.4105653710261012, 0.013505439836384909, 0.9714582528269419, 0.05035357089333999, 0.011087024783854676, 0.8199778746392522, 0.09608754812674053, 0.022636008933703298, 0.9409316505001685, 0.0019222301338103543, 0.004805575334525886, 0.05286132867978474, 0.053430879888788245, 0.552733240228844, 0.3537492737464601, 0.04022669692776586, 0.9973473093869341, 0.04190825859309279, 0.9499205281101032, 0.9918872718203113, 0.9938413831964973, 0.20076649852792128, 0.01650135604339079, 0.7810641860538308, 0.002669434006224789, 0.01901971729435162, 0.020354434297464013, 0.011345094526455352, 0.9466480344574657, 0.05345130152369006, 0.5707669414877513, 0.32163739699472627, 0.04787377440817458, 0.006042321041808442, 0.9962634212611436, 0.8177417710984799, 0.06730384947312591, 0.11441654410431407, 0.8222285037906768, 0.17774814238152706, 0.9851848830401781, 0.008142023826778332, 0.9802682570987727, 0.0017202832114154576, 0.6809863969760334, 0.005652359123222218, 0.2934311649185795, 0.018185851092106266, 0.9943289632245296, 0.003270818957975426, 0.006295606264287929, 0.9506365459074773, 0.0440692438500155, 0.9979951816817089, 0.9931458588825742, 0.02296679181747112, 0.009670228133672049, 0.967022813367205, 0.01515775929371829, 0.9852543540916889, 0.975174284069767, 0.02112290868021156, 0.00352048478003526, 0.3828036401704371, 0.3753035688504834, 0.03240030810220001, 0.18480175732365928, 0.0249002367822463, 0.9980726425944852, 0.004035618367452374, 0.15254637428969972, 0.843444238797546, 0.11905669969164068, 0.43441851585159125, 0.2876742115804992, 0.12016420387481873, 0.038485770365437336, 0.005040679659065116, 0.9375664165861115, 0.05544747624971628, 0.1934191987554996, 0.006556583008661004, 0.7999031270566425, 0.015518859048911692, 0.955379760198626, 0.018428645120582635, 0.009699286905569806, 0.9829757998445487, 0.003386196375043417, 0.17438911331473597, 0.015237883687695377, 0.6112084456953368, 0.1963993897525182, 0.9405575396112256, 0.006380749936445057, 0.9826354902125388, 0.009571124904667586, 0.8238964949064552, 0.08070822807246908, 0.04573466257439915, 0.016814214181764393, 0.03295585979625821, 0.06627089752479853, 0.8593838969344841, 0.0032066563318450905, 0.07054643930059198, 0.010036473740088477, 0.019236574668502916, 0.0008363728116740399, 0.9701924615418862, 0.07081711539108096, 0.2933356005169775, 0.629716898624612, 0.005901426282590079, 0.9936770279056464, 0.9969206191135556, 0.9724117549051169, 0.02519201437578023, 0.08028608500319938, 0.0017453496739825952, 0.0026180245109738926, 0.031416294131686714, 0.8840196098721844, 0.9951434485223754, 0.4630355632833398, 0.008216093645078273, 0.22300825608069597, 0.30575605636327, 0.9965401283379401, 0.14792550472186666, 0.6898080531071502, 0.0019161334808531951, 0.15980553230315647, 0.000383226696170639, 0.9904643068785789, 0.08604297000046118, 0.4156577312106871, 0.3540499248961575, 0.14141201111858273, 0.0028594340483536953, 0.9464989369217341, 0.0023486325978206803, 0.05166991715205497, 0.9961009113391848, 0.003289986837950014, 0.1200845195851755, 0.8759589956041912, 0.5629620837564177, 0.176016568823066, 0.09600903753985418, 0.08073487247669556, 0.08437157844411428, 0.09868267819317722, 0.7381464328849656, 0.01864006143648903, 0.13837504431087738, 0.006140255532019916, 0.0005608222116106741, 0.425103236400891, 0.5737211224777196, 0.989591413751211, 0.9993936640744807, 0.9864371094334253, 0.007200270871776828, 0.82383158331698, 0.15465010667771115, 0.005813913784876359, 0.01569756721916617, 0.5027998449608623, 0.006480531335051114, 0.4905091820840412, 0.997537203388289, 0.0019736856907462937, 0.22083349895350196, 0.0581140786719742, 0.7190794866618996, 0.09230343347310752, 0.002121918010876035, 0.9049980316386289, 0.9908818353445483, 0.007839255026460034, 0.15702135107335702, 0.00930496895249523, 0.6583265533890376, 0.1752435819386602, 0.9991808332322533, 0.10367276293202575, 0.020346990855818137, 0.6937354977507517, 0.09882824129968809, 0.08332577207620762, 0.9995715480883048, 0.9949732181493355, 0.09019486066823189, 0.9095554021603626, 0.995983364246862, 0.9928884114528491, 0.4880085940038345, 0.3260036981394359, 0.04386594103405254, 0.035391838788837844, 0.10667399296917322, 0.047328894798781045, 0.9465778959756209, 0.07535022713779115, 0.9240317327950178, 0.22373047482566105, 0.05985146460304309, 0.716792540365016, 0.9959573712935328, 0.99238026406024, 0.4796299852505719, 0.02550469640918846, 0.48671462314201314, 0.0077931016805853634, 0.06408668393866443, 0.41249703164581975, 0.2950589966110083, 0.21242946503526838, 0.015940342705556127, 0.21300362928384226, 0.1913159870294874, 0.1944142216372524, 0.056542781591710854, 0.3446786001138538, 0.8762625806335148, 0.02285902384261343, 0.021335088919772534, 0.07924461598772656, 0.9978786696673206, 0.9573057441561946, 0.15564075217603696, 0.05537066514723435, 0.4678741877340805, 0.11185191670143328, 0.209107554911332, 0.9924227411894321, 0.11977165492311503, 0.011299212728595758, 0.7446181188144605, 0.12316141874169377, 0.12144298836884507, 0.003195868114969607, 0.8724719953867027, 0.9861583911278159, 0.011283276786359448, 0.1717332185354333, 0.8282323577468366, 0.06664910857866407, 0.08105972664972658, 0.023417254365476564, 0.8286105390860938, 0.2412431557775602, 0.0041955331439575685, 0.7530981993403836, 0.10234377281115949, 0.7265090138611923, 0.05226999555591407, 0.11332486431450278, 0.005490545751671646, 0.993383829010411, 0.0029311878876183348, 0.9497048755883404, 0.008793563662855004, 0.03810544253903835, 0.030704414115194076, 0.43512541146103606, 0.11579950466301767, 0.4193345699160791, 0.9863669120754518, 0.9978051415260765, 0.9977070371684787, 0.35836506369208243, 0.3269983185111562, 0.24858145555884054, 0.04548178051234306, 0.020388384367602062, 0.9952792914316749, 0.0068639951133218965, 0.9944480769095643, 0.18551453945870774, 0.1601647266134185, 0.6314407926917506, 0.023045284404808415, 0.22694763521197048, 0.6891206309323967, 0.08070782164073115, 0.0027592417654950818, 0.9596468760557191, 0.8877474933815647, 0.07794211623439333, 0.0013210528175320903, 0.015852633810385083, 0.017173686627917174, 0.9753918740626011, 0.020708956986467113, 0.004141791397293423, 0.027646076154927073, 0.14514189981336714, 0.3993322111267244, 0.4285141804013696, 0.9978830459439122, 0.9863447844004805, 0.010099093355636319, 0.9608347588672003, 0.004748771460628667, 0.0031658476404191113, 0.03007555258398156, 0.9958377544151051, 0.9989440879785886, 0.07399359609900229, 0.05919487687920182, 0.8667821257311696, 0.9962324718633033, 0.0028302058859752933, 0.9975372304481026, 0.9703404570065053, 0.9709115443697077, 0.9859172335791467, 0.01602468268997681, 0.9828472049852445, 0.012267677807795063, 0.8539837213951339, 0.011807639890002749, 0.12191004821496344, 0.9925596087698311, 0.00545362422401006, 0.9725541570865405, 0.8382484422025458, 0.03137304111167423, 0.003921630138959279, 0.11176645896033943, 0.014706113021097294, 0.14238975483006927, 0.6953099713387427, 0.1622283274131351, 0.16399401615317796, 0.744211975477737, 0.09090972634578344, 0.9934211119641964, 0.9933071579641759, 0.9933238375456505, 0.2592966903727031, 0.3187486939664444, 0.32143477846616164, 0.08488027019106441, 0.015579290098359923, 0.5169787065672001, 0.3109231366898819, 0.0012265212492697513, 0.1704864536484954, 0.8537598665447964, 0.0469513959477859, 0.09929950407347822, 0.9974879517352999, 0.3794393929755512, 0.5755867513115465, 0.020319705197597824, 0.02446658380935248, 0.9927236199624401, 0.31366818529475543, 0.19425563217986194, 0.027750804597123133, 0.4641952768973324, 0.18597456520806, 0.037194913041612, 0.7767173017513094, 0.0009244993148177828, 0.9540832928919518, 0.045300466426071356, 0.002665038942117256, 0.4552140326368856, 0.009391089605556045, 0.5327539751908686, 0.057602141216508466, 0.8460993761707895, 0.0005434164265708346, 0.09618470750303772, 0.18898068092525266, 0.6577104003230839, 0.12270537223990356, 0.02593381644209312, 0.004802558600387615, 0.9981770376212202, 0.5644251073256258, 0.30215332092761044, 0.06827177944896791, 0.033797910618300946, 0.031770035981202885, 0.972869143268023, 0.023947548141982106, 0.9994645975746764, 0.9990276217281888, 0.060275214288932705, 0.5569288805644075, 0.30437220782744673, 0.07684208605255749, 0.0015861898497087554, 0.6708432342587795, 0.31484827850491554, 0.009448496257165907, 0.0009143706055321846, 0.0039622726239728, 0.9969645275001451, 0.9800273145010422, 0.6939274657848915, 0.012190617642167013, 0.16691768771582524, 0.039385072382385734, 0.08767867304173967, 0.08531771290343379, 0.8922810807817451, 0.017774523521548707, 0.8964447735791242, 0.07909806825698155, 0.023729420477094466, 0.9588041434044355, 0.04109160614590438, 0.6813371043974455, 0.31082816127021207, 0.007765157490690523, 0.9926618862426366, 0.005266110802348205, 0.00359522714760862, 0.17496772118361953, 0.043142725771303445, 0.7777674729326648, 0.0011984090492028734, 0.9971371855793867, 0.04126326195751441, 0.6804048514270994, 0.1097427179721128, 0.16856481480516528, 0.999054669970148, 0.022017335776478294, 0.9775697084756362, 0.9756105163744075, 0.23594011611243226, 0.762589056204221, 0.001390951310906012, 0.12706421347696853, 0.010347248654476265, 0.8468188298823375, 0.01614170790098297, 0.9989233916025181, 0.1140553039381988, 0.8800983900902802, 0.005106953907680543, 0.9944022280413408, 0.970441925197889, 0.8017026898850854, 0.10706363426128326, 0.09049426229227514, 0.03986476517878899, 0.9567543642909357, 0.9917352674050324, 0.12072550662985462, 0.01724650094712209, 0.19346074975467387, 0.6681144497341645, 0.1262696795075334, 0.8729510126583805, 0.009678938446223324, 0.002765410984635235, 0.8807833986063225, 0.09817208995455086, 0.008296232953905705, 0.12246484846705394, 0.7679998971662705, 0.10931890428132499, 0.010605781616974867, 0.9863376903786626, 0.9934565481349816, 0.9696303661301823, 0.9652390692668196, 0.03355963651424373, 0.9616661979156005, 0.037066363088824, 0.8533266397414508, 0.13936853428442034, 0.007335186014969491, 0.051009469103419594, 0.9436751784132624, 0.999348514013944, 0.9945962046315313, 0.057578666243725686, 0.2699190385816982, 0.4149319757881184, 0.24371922219566428, 0.013709206248506115, 0.9990930537140698, 0.07651364978976864, 0.004577739731011799, 0.003923776912295828, 0.011117367918171512, 0.9037766154654723, 0.2903064399506734, 0.5464072560379075, 0.06201148584275122, 0.09389995454124785, 0.007392828383388491, 0.9987240804045584, 0.17266357845004188, 0.2684404962467062, 0.17664047469073382, 0.3701827584044084, 0.012262096742133492, 0.053651009936357595, 0.15310166250131313, 0.7916795368657644, 0.9926720008645881], \"Term\": [\"500-stock_index\", \"AT&T\", \"AT&T\", \"Alan_Greenspan\", \"Alan_Greenspan\", \"American_Stock\", \"Argentina\", \"Asia\", \"Asia\", \"Bernanke\", \"Bernanke\", \"Big_Board\", \"Big_Board\", \"Board\", \"Board\", \"Board\", \"Britain\", \"Britain\", \"Bureau_Labor\", \"California\", \"California\", \"California\", \"Canada\", \"Canada\", \"Chairman_Alan\", \"Chairman_Alan\", \"Chairman_Alan\", \"Chemical_Bank\", \"Chief_Executive\", \"China\", \"Co.\", \"Co.\", \"Co.\", \"Co.\", \"Co.\", \"Commerce_Department\", \"Committee\", \"Committee\", \"Communications\", \"Conference_Board\", \"Conference_Board\", \"Congress\", \"Congress\", \"Corp.\", \"Corp.\", \"Corp.\", \"Corp.\", \"Corps\", \"December\", \"December\", \"December\", \"December\", \"Dow\", \"Dow_Jones\", \"Dow_Jones\", \"Dow_Jones\", \"Dow_industrial\", \"ECB\", \"Europe\", \"Europe\", \"European\", \"Exchange\", \"Exchange\", \"Fannie_Mae\", \"Fed\", \"Fed\", \"Fed\", \"Fed_chairman\", \"Fed_chairman\", \"Fed_official\", \"Fed_official\", \"Federal_Reserve\", \"Federal_Reserve\", \"Federal_Reserve\", \"GDP\", \"GNP\", \"Geithner\", \"Germany\", \"Greenspan\", \"Greenspan\", \"Greenspan\", \"Hong_Kong\", \"IMF\", \"Inc.\", \"Inc.\", \"Inc.\", \"Inc.\", \"Index\", \"Index\", \"Industrial_Average\", \"International_Monetary\", \"Italy\", \"January\", \"January\", \"January\", \"January\", \"Japan\", \"Japanese\", \"June\", \"June\", \"June\", \"June\", \"June\", \"Labor_Department\", \"Labor_Department\", \"London\", \"London\", \"London\", \"Maryland\", \"Maryland\", \"Mexico\", \"Moscow\", \"Mr.\", \"Mr.\", \"Mr.\", \"Mr.\", \"Mr.\", \"Mr._Bernanke\", \"Mr._Bernanke\", \"Mr._Greenspan\", \"Mr._Greenspan\", \"Mr._Greenspan\", \"NEW_YORK\", \"NEW_YORK\", \"NEW_YORK\", \"NEW_YORK\", \"Nasdaq_Composite\", \"Nasdaq_composite\", \"New_York\", \"New_York\", \"New_York\", \"New_York\", \"New_York\", \"Orszag\", \"Police\", \"Poor_500-stock\", \"Rangel\", \"Russia\", \"Senate_Banking\", \"Senate_Banking\", \"Senate_Banking\", \"South_Korea\", \"Standard_Poor\", \"Standard_Poor\", \"Standard_Poor\", \"Statistics\", \"Stock_Exchange\", \"Stock_Exchange\", \"Tokyo\", \"Tokyo\", \"Tokyo\", \"Treasury\", \"Treasury\", \"Treasury\", \"Treasury_bill\", \"Treasury_bill\", \"U.S.\", \"U.S.\", \"U.S.\", \"U.S.\", \"U.S.\", \"U.S._currency\", \"United_States\", \"United_States\", \"United_States\", \"United_States\", \"United_States\", \"University_Michigan\", \"Volcker\", \"Week\", \"World_Bank\", \"abroad\", \"abroad\", \"abroad\", \"acquire\", \"acquisition\", \"active\", \"active\", \"active\", \"active_trading\", \"advance\", \"advance\", \"advertising\", \"american\", \"american\", \"american\", \"american\", \"analyst\", \"analyst\", \"analyst\", \"analyst\", \"analyst\", \"anew\", \"annual_rate\", \"annual_rate\", \"asian\", \"asian\", \"asian\", \"asian\", \"average\", \"average\", \"average\", \"average\", \"bank\", \"bank\", \"bank\", \"bank\", \"bank\", \"base\", \"base\", \"base\", \"base\", \"base\", \"big\", \"big\", \"big\", \"big\", \"big\", \"bill\", \"bill\", \"block\", \"block\", \"blue_chip\", \"bond\", \"bond\", \"bond\", \"borrower\", \"brand\", \"broad_market\", \"bull\", \"bull\", \"bull_market\", \"bull_market\", \"bureau\", \"business\", \"business\", \"business\", \"business\", \"business_investment\", \"buy\", \"buy\", \"buy\", \"buy\", \"buy\", \"canadian_dollar\", \"cent\", \"cent\", \"cent\", \"cent\", \"cent_share\", \"central_bank\", \"central_bank\", \"central_bank\", \"ceo\", \"certificate\", \"chairman_House\", \"champion\", \"chief_executive\", \"chinese\", \"climb_point\", \"close\", \"close\", \"close\", \"close\", \"close\", \"committee\", \"committee\", \"company\", \"company\", \"company\", \"company\", \"computer\", \"computer\", \"computer\", \"computer\", \"consumer\", \"consumer\", \"consumer\", \"consumer\", \"consumer\", \"consumer_confidence\", \"consumer_price\", \"consumer_price\", \"consumer_price\", \"consumer_sentiment\", \"consumer_spending\", \"consumer_spending\", \"consumer_spending\", \"consumer_spending\", \"continue\", \"continue\", \"continue\", \"continue\", \"continue\", \"cost\", \"cost\", \"cost\", \"cost\", \"cost\", \"country\", \"country\", \"country\", \"country\", \"credit\", \"credit\", \"credit\", \"credit\", \"crisis\", \"crisis\", \"crisis\", \"crisis\", \"currency\", \"currency\", \"customer\", \"customer\", \"cut\", \"cut\", \"cut\", \"cut\", \"cut\", \"czar\", \"day\", \"day\", \"day\", \"day\", \"day\", \"deal\", \"deal\", \"deal\", \"deal\", \"decline\", \"decline\", \"decline\", \"decline\", \"department\", \"deposit\", \"deposit\", \"devaluation\", \"develop_country\", \"discount_rate\", \"discount_rate\", \"discount_rate\", \"dollar\", \"dollar\", \"dollar\", \"dollar\", \"dollar\", \"drop\", \"drop\", \"drop\", \"drop\", \"drop\", \"earn\", \"earning\", \"earning\", \"earning\", \"economist\", \"economist\", \"economist_expect\", \"economist_expect\", \"economist_survey\", \"economy\", \"economy\", \"economy\", \"economy\", \"economy\", \"employee\", \"employee\", \"employment\", \"employment\", \"employment\", \"euro\", \"euro_zone\", \"european\", \"european\", \"european\", \"exchange_rate\", \"exchange_rate\", \"executive\", \"executive\", \"executive\", \"expect\", \"expect\", \"expect\", \"expect\", \"expect\", \"expense\", \"export\", \"export\", \"export\", \"fall\", \"fall\", \"fall\", \"fall\", \"fall\", \"fall_point\", \"fall_point\", \"fall_point\", \"federal_fund\", \"federal_fund\", \"federal_fund\", \"figure\", \"figure\", \"figure\", \"figure\", \"final_hour\", \"financial_market\", \"financial_market\", \"financial_market\", \"financial_market\", \"financial_market\", \"financial_turmoil\", \"finish\", \"finish\", \"finish\", \"firm\", \"firm\", \"firm\", \"firm\", \"firm\", \"forecast\", \"forecast\", \"forecast\", \"forecast\", \"foreign\", \"foreign\", \"foreign\", \"foreign\", \"gain\", \"gain\", \"gain\", \"gain\", \"gdp\", \"german\", \"giant\", \"giant\", \"global\", \"global\", \"global\", \"global\", \"global\", \"good_service\", \"government\", \"government\", \"government\", \"government\", \"gross_national\", \"growth\", \"growth\", \"growth\", \"growth\", \"growth\", \"hearing\", \"high\", \"high\", \"high\", \"high\", \"high\", \"housing\", \"housing\", \"housing\", \"housing_start\", \"import\", \"import\", \"import\", \"include\", \"include\", \"include\", \"include\", \"include\", \"increase\", \"increase\", \"increase\", \"increase\", \"increase\", \"index\", \"index\", \"index\", \"index_future\", \"industrial_average\", \"industrial_production\", \"industrial_production\", \"industry\", \"industry\", \"industry\", \"industry\", \"inflation\", \"inflation\", \"inflation\", \"initial_public\", \"interest_rate\", \"interest_rate\", \"interest_rate\", \"interest_rate\", \"international\", \"international\", \"international\", \"internet\", \"internet\", \"investor\", \"investor\", \"investor\", \"investor\", \"ipo\", \"issue\", \"issue\", \"issue\", \"issue\", \"issue\", \"japanese\", \"japanese_yen\", \"job\", \"job\", \"jobless\", \"labor_force\", \"large\", \"large\", \"large\", \"large\", \"large\", \"lending\", \"lending\", \"loan\", \"loan\", \"long_term\", \"long_term\", \"long_term\", \"lose_point\", \"loser\", \"loss\", \"loss\", \"loss\", \"loss\", \"low\", \"low\", \"low\", \"low\", \"low\", \"major\", \"major\", \"major\", \"major\", \"major\", \"maker\", \"maker\", \"maker\", \"maker\", \"management\", \"manpower\", \"market\", \"market\", \"market\", \"market\", \"market\", \"marketing\", \"meeting\", \"meeting\", \"meeting\", \"meeting\", \"member\", \"member\", \"member\", \"merger\", \"merger\", \"monetary_policy\", \"monetary_policy\", \"money\", \"money\", \"money\", \"money\", \"money_supply\", \"money_supply\", \"money_supply\", \"month\", \"month\", \"month\", \"month\", \"month\", \"month_row\", \"monthly\", \"monthly\", \"monthly\", \"monthly\", \"nation\", \"nation\", \"nation\", \"nation\", \"nervous\", \"net_income\", \"network\", \"new\", \"new\", \"new\", \"new\", \"new\", \"new_home\", \"new_home\", \"new_order\", \"news\", \"news\", \"news\", \"news\", \"number\", \"number\", \"number\", \"number\", \"nursing_home\", \"offer\", \"offer\", \"offer\", \"offer\", \"offer\", \"offering\", \"offering\", \"offering\", \"official\", \"official\", \"official\", \"official\", \"online\", \"operate\", \"operate\", \"operation\", \"operation\", \"operation\", \"operation\", \"operator\", \"output\", \"overseas\", \"overseas\", \"overseas\", \"own\", \"own\", \"owner\", \"panel\", \"past_session\", \"pay_dividend\", \"payroll\", \"payroll\", \"percent\", \"percent\", \"percent\", \"percent\", \"personal_income\", \"personal_income\", \"personal_saving\", \"plan\", \"plan\", \"plan\", \"plan\", \"plan\", \"point\", \"point\", \"point\", \"policy\", \"policy\", \"policy\", \"political\", \"premium\", \"previous_month\", \"price\", \"price\", \"price\", \"price\", \"price\", \"product\", \"product\", \"product\", \"product\", \"profit\", \"profit\", \"profit\", \"profit_taking\", \"quarter\", \"quarter\", \"quarter\", \"quarter\", \"quarter_profit\", \"raise\", \"raise\", \"raise\", \"raise\", \"raise_interest\", \"raise_interest\", \"raise_interest\", \"rally\", \"rally\", \"rally\", \"rate\", \"rate\", \"rate\", \"rate\", \"recession\", \"recession\", \"recession\", \"recession\", \"report\", \"report\", \"report\", \"report\", \"report\", \"report_yesterday\", \"result\", \"result\", \"result\", \"result\", \"result\", \"retail_sale\", \"retail_sale\", \"revenue\", \"revise\", \"rise\", \"rise\", \"rise\", \"rise\", \"rise\", \"sale\", \"sale\", \"sale\", \"sale\", \"sale\", \"seasonally_adjust\", \"section\", \"sell\", \"sell\", \"sell\", \"sell\", \"sell\", \"selling\", \"selling\", \"selling\", \"service\", \"service\", \"service\", \"session\", \"session\", \"share\", \"share\", \"share\", \"shareholder\", \"shareholder\", \"short_term\", \"short_term\", \"short_term\", \"short_term\", \"short_term\", \"site\", \"slow\", \"slow\", \"slow\", \"slow\", \"software\", \"spending\", \"spending\", \"stimulative\", \"stock\", \"stock\", \"stock\", \"stock_market\", \"stock_market\", \"stock_market\", \"stock_market\", \"store\", \"survey\", \"survey\", \"survey\", \"tariff\", \"tech_stock\", \"technology\", \"technology\", \"technology\", \"testimony\", \"testimony\", \"tighten_monetary\", \"trade\", \"trade\", \"trade\", \"trade\", \"trade_deficit\", \"trade_deficit\", \"trader\", \"trader\", \"trader\", \"trader\", \"trader\", \"trading\", \"trading\", \"trading\", \"trading_day\", \"trading_day\", \"trading_volume\", \"undersecretary\", \"unemployment\", \"unemployment\", \"unemployment_rate\", \"unemployment_rate\", \"unit\", \"unit\", \"unit\", \"vote\", \"vote\", \"web\", \"web_site\", \"week\", \"week\", \"week\", \"week\", \"week\", \"west_german\", \"world\", \"world\", \"world\", \"world\", \"world\", \"year\", \"year\", \"year\", \"year\", \"year\", \"yen\", \"yesterday\", \"yesterday\", \"yesterday\", \"yesterday\", \"yesterday\", \"yield\", \"yield\", \"yield\", \"yuan\"]}, \"R\": 30, \"lambda.step\": 0.01, \"plot.opts\": {\"xlab\": \"PC1\", \"ylab\": \"PC2\"}, \"topic.order\": [4, 1, 2, 5, 3]};\n",
              "\n",
              "function LDAvis_load_lib(url, callback){\n",
              "  var s = document.createElement('script');\n",
              "  s.src = url;\n",
              "  s.async = true;\n",
              "  s.onreadystatechange = s.onload = callback;\n",
              "  s.onerror = function(){console.warn(\"failed to load library \" + url);};\n",
              "  document.getElementsByTagName(\"head\")[0].appendChild(s);\n",
              "}\n",
              "\n",
              "if(typeof(LDAvis) !== \"undefined\"){\n",
              "   // already loaded: just create the visualization\n",
              "   !function(LDAvis){\n",
              "       new LDAvis(\"#\" + \"ldavis_el9031403224930123041158254687\", ldavis_el9031403224930123041158254687_data);\n",
              "   }(LDAvis);\n",
              "}else if(typeof define === \"function\" && define.amd){\n",
              "   // require.js is available: use it to load d3/LDAvis\n",
              "   require.config({paths: {d3: \"https://d3js.org/d3.v5\"}});\n",
              "   require([\"d3\"], function(d3){\n",
              "      window.d3 = d3;\n",
              "      LDAvis_load_lib(\"https://cdn.jsdelivr.net/gh/bmabey/pyLDAvis@3.3.1/pyLDAvis/js/ldavis.v3.0.0.js\", function(){\n",
              "        new LDAvis(\"#\" + \"ldavis_el9031403224930123041158254687\", ldavis_el9031403224930123041158254687_data);\n",
              "      });\n",
              "    });\n",
              "}else{\n",
              "    // require.js not available: dynamically load d3 & LDAvis\n",
              "    LDAvis_load_lib(\"https://d3js.org/d3.v5.js\", function(){\n",
              "         LDAvis_load_lib(\"https://cdn.jsdelivr.net/gh/bmabey/pyLDAvis@3.3.1/pyLDAvis/js/ldavis.v3.0.0.js\", function(){\n",
              "                 new LDAvis(\"#\" + \"ldavis_el9031403224930123041158254687\", ldavis_el9031403224930123041158254687_data);\n",
              "            })\n",
              "         });\n",
              "}\n",
              "</script>"
            ],
            "text/plain": [
              "<IPython.core.display.HTML object>"
            ]
          },
          "execution_count": 73,
          "metadata": {},
          "output_type": "execute_result"
        }
      ],
      "source": [
        "vis_lda_ens = gensimvis.prepare(ensemble.classic_model_representation, corpus, dictionary)\n",
        "pyLDAvis.display(vis_lda_ens)"
      ]
    },
    {
      "cell_type": "markdown",
      "metadata": {
        "id": "zpVUD-V8NRg4"
      },
      "source": [
        "#Part IV - Compare models"
      ]
    },
    {
      "cell_type": "markdown",
      "metadata": {
        "id": "slcXy1SbOQtS"
      },
      "source": [
        "In order to compare different topic-models, calculate a 'coherence' and 'preplexity' values."
      ]
    },
    {
      "cell_type": "markdown",
      "metadata": {
        "id": "zupx8Ts3eOt7"
      },
      "source": [
        "##Coherence"
      ]
    },
    {
      "cell_type": "markdown",
      "metadata": {
        "id": "OF5j-SmKeTEI"
      },
      "source": [
        "Coherence is a ratio between models topics and it reflects the level of the human-logic perception of the model. The higher The better.\n",
        "\n",
        "- There are two main methods: 'u_mass' and 'c_v'"
      ]
    },
    {
      "cell_type": "code",
      "execution_count": null,
      "metadata": {
        "id": "VOXeRD-DH-Ci"
      },
      "outputs": [],
      "source": [
        "cm_umass_lda = CoherenceModel(model=lda_model, corpus=corpus, coherence='u_mass')\n",
        "coherence_umass_lda = cm_umass_lda.get_coherence()\n",
        "\n",
        "cm_cv_lda = CoherenceModel(model=lda_model, texts=texts, dictionary=dictionary, coherence='c_v')\n",
        "coherence_cv_lda = cm_cv_lda.get_coherence()\n",
        "\n",
        "cm_cv_hdp = CoherenceModel(model=hdp_model, texts=texts, dictionary=dictionary, coherence='c_v')\n",
        "coherence_cv_hdp = cm_cv_hdp.get_coherence()"
      ]
    },
    {
      "cell_type": "code",
      "execution_count": null,
      "metadata": {
        "colab": {
          "base_uri": "https://localhost:8080/"
        },
        "id": "89-qiVFILysE",
        "outputId": "c03e0346-f9ad-4af2-9999-c08debe2bad7"
      },
      "outputs": [
        {
          "data": {
            "text/plain": [
              "-7.367485127160617"
            ]
          },
          "execution_count": 75,
          "metadata": {},
          "output_type": "execute_result"
        }
      ],
      "source": [
        "coherence_umass_lda"
      ]
    },
    {
      "cell_type": "markdown",
      "metadata": {
        "id": "WMm5JWSDO03P"
      },
      "source": [
        "coherence history:\n",
        "\n",
        "**7 topics**\n",
        "    \n",
        "    lda: 0.5062256897837729, 0.5448603849002667\n",
        "\n",
        "    ens: 0.5758941699203135, 0.5444156252198165\n",
        "\n",
        "**10 topics**\n",
        "\n",
        "    ens: 0.5781681353837331(passes=20)\n",
        "\n",
        "**15 topics**\n",
        "\n",
        "    lda: 0.5640849068140356\n",
        "\n",
        "    ens: 0.5887390636591965(passes=3), 0.5886554167545726(20 passes)"
      ]
    },
    {
      "cell_type": "code",
      "execution_count": null,
      "metadata": {
        "colab": {
          "base_uri": "https://localhost:8080/"
        },
        "id": "q3YAgX5SNirH",
        "outputId": "1cb155d4-8dc1-4d8b-b5c3-d2ee30e43d40"
      },
      "outputs": [
        {
          "data": {
            "text/plain": [
              "0.5739542270019945"
            ]
          },
          "execution_count": 76,
          "metadata": {},
          "output_type": "execute_result"
        }
      ],
      "source": [
        "coherence_cv_lda"
      ]
    },
    {
      "cell_type": "code",
      "execution_count": null,
      "metadata": {
        "colab": {
          "base_uri": "https://localhost:8080/"
        },
        "id": "y9oUVfI5y7KG",
        "outputId": "d1f799c2-517a-498e-ed0f-1aaa7bf3535c"
      },
      "outputs": [
        {
          "data": {
            "text/plain": [
              "0.5344888002233145"
            ]
          },
          "execution_count": 77,
          "metadata": {},
          "output_type": "execute_result"
        }
      ],
      "source": [
        "coherence_cv_hdp"
      ]
    },
    {
      "cell_type": "code",
      "execution_count": null,
      "metadata": {
        "id": "9iHLPN2TFWbV"
      },
      "outputs": [],
      "source": [
        "cm_cv_ens = CoherenceModel(model=ensemble, texts=texts, dictionary=dictionary, coherence='c_v')\n",
        "coherence_cv_ens = cm_cv_ens.get_coherence()"
      ]
    },
    {
      "cell_type": "code",
      "execution_count": null,
      "metadata": {
        "colab": {
          "base_uri": "https://localhost:8080/"
        },
        "id": "c1vBKqybOy_h",
        "outputId": "ea5c78b9-da7a-4177-a233-62c8743376c8"
      },
      "outputs": [
        {
          "data": {
            "text/plain": [
              "0.6174554795540548"
            ]
          },
          "execution_count": 79,
          "metadata": {},
          "output_type": "execute_result"
        }
      ],
      "source": [
        "coherence_cv_ens"
      ]
    },
    {
      "cell_type": "markdown",
      "metadata": {
        "id": "pzYTjrEEeXrA"
      },
      "source": [
        "##Preplexity"
      ]
    },
    {
      "cell_type": "markdown",
      "metadata": {
        "id": "g1V1mmT7FwJN"
      },
      "source": [
        "Preplexity is a measure of how good a model is. The lower the better."
      ]
    },
    {
      "cell_type": "code",
      "execution_count": null,
      "metadata": {
        "colab": {
          "base_uri": "https://localhost:8080/"
        },
        "id": "TwfDt_6e0w6e",
        "outputId": "4f4cb485-f164-4918-8ea6-54339fcc2691"
      },
      "outputs": [
        {
          "name": "stderr",
          "output_type": "stream",
          "text": [
            "2021-09-14 16:09:56,692 : INFO : -9.721 per-word bound, 844.1 perplexity estimate based on a held-out corpus of 8000 documents with 840921 words\n",
            "2021-09-14 16:10:03,002 : INFO : -9.559 per-word bound, 754.1 perplexity estimate based on a held-out corpus of 8000 documents with 840921 words\n"
          ]
        }
      ],
      "source": [
        "preplexity_lda = lda_model.log_perplexity(corpus)\n",
        "preplexity_ens = ensemble.log_perplexity(corpus)"
      ]
    },
    {
      "cell_type": "code",
      "execution_count": null,
      "metadata": {
        "colab": {
          "base_uri": "https://localhost:8080/"
        },
        "id": "0lgxYq-P1787",
        "outputId": "6115e4fc-c934-4ecf-c785-1a8d6c42d69f"
      },
      "outputs": [
        {
          "data": {
            "text/plain": [
              "-9.721228313791771"
            ]
          },
          "execution_count": 81,
          "metadata": {},
          "output_type": "execute_result"
        }
      ],
      "source": [
        "preplexity_lda"
      ]
    },
    {
      "cell_type": "code",
      "execution_count": null,
      "metadata": {
        "colab": {
          "base_uri": "https://localhost:8080/"
        },
        "id": "DtRooiGlBNtW",
        "outputId": "a8c567a8-5a9b-41e0-aac3-034c9911c9b5"
      },
      "outputs": [
        {
          "data": {
            "text/plain": [
              "-9.558631550073498"
            ]
          },
          "execution_count": 82,
          "metadata": {},
          "output_type": "execute_result"
        }
      ],
      "source": [
        "preplexity_ens"
      ]
    },
    {
      "cell_type": "markdown",
      "metadata": {
        "id": "F4DrGq0GedJw"
      },
      "source": [
        "##Difference"
      ]
    },
    {
      "cell_type": "markdown",
      "metadata": {
        "id": "kWwIdhgNOQXX"
      },
      "source": [
        "Compare differences between models: Lda vs. EnsembleLda"
      ]
    },
    {
      "cell_type": "code",
      "execution_count": null,
      "metadata": {
        "id": "y9jcbbZGsbVw"
      },
      "outputs": [],
      "source": [
        "mdiff, annotation = lda_model.diff(ensemble.generate_gensim_representation(), distance='jensen_shannon')"
      ]
    },
    {
      "cell_type": "code",
      "execution_count": null,
      "metadata": {
        "colab": {
          "base_uri": "https://localhost:8080/"
        },
        "id": "fpGGrz6QWEJV",
        "outputId": "f148bd85-adcc-46ba-bfc0-b57d2a522e92"
      },
      "outputs": [
        {
          "name": "stdout",
          "output_type": "stream",
          "text": [
            "[[0.65506657 0.79951505 0.86647833 0.66734539 0.72057789]\n",
            " [0.4774283  0.65357744 0.87103098 0.74461597 0.16296525]\n",
            " [0.98850598 1.         0.86235675 0.90233343 0.91877213]\n",
            " [0.0955497  0.59341439 0.89231994 0.62115372 0.61306076]\n",
            " [0.84535052 0.85537036 0.45795395 0.76224698 0.77257149]\n",
            " [0.9760461  0.97398292 0.84907689 0.87022385 0.93107806]\n",
            " [0.97341619 0.96805631 0.84563905 0.86850353 0.93008487]\n",
            " [0.99810733 0.9965131  0.81887601 0.89474303 0.95210318]\n",
            " [0.54719335 0.05366259 0.88531908 0.61770878 0.65797544]\n",
            " [0.89077696 0.87209877 0.88958088 0.83780497 0.80328532]\n",
            " [0.68841946 0.66898503 0.8227623  0.19073801 0.75222423]\n",
            " [0.81316041 0.82086377 0.84687504 0.76974072 0.84808898]\n",
            " [0.68435711 0.68177749 0.34476458 0.75852275 0.66016869]\n",
            " [0.98677447 0.98271309 0.85815949 0.87420245 0.93954368]\n",
            " [0.55297215 0.78007663 0.79816287 0.70588087 0.63316069]]\n"
          ]
        }
      ],
      "source": [
        "print(mdiff)"
      ]
    },
    {
      "cell_type": "markdown",
      "metadata": {
        "id": "9rxRrJ-aubXH"
      },
      "source": [
        "#Part V - Inference"
      ]
    },
    {
      "cell_type": "code",
      "execution_count": null,
      "metadata": {
        "id": "-QRgR3Ghpftp"
      },
      "outputs": [],
      "source": [
        "def find_similiar_docs_by_cossim(model, corpus, test_corpus):\n",
        "    if isinstance(model, EnsembleLda):\n",
        "        docs_topics = model.generate_gensim_representation().get_document_topics(corpus)\n",
        "        test_docs_topics = model.generate_gensim_representation().get_document_topics(test_corpus)\n",
        "    elif isinstance(model, LdaModel):\n",
        "        docs_topics = model.get_document_topics(corpus)\n",
        "        test_docs_topics = model.get_document_topics(test_corpus)\n",
        "    else:\n",
        "        return None, None\n",
        "\n",
        "    cs_map = []\n",
        "    max_values = [0 for _ in range(len(test_docs_topics))]\n",
        "    max_docs_idxs = [0 for _ in range(len(test_docs_topics))]\n",
        "\n",
        "    for doc_idx, doc_topics in enumerate(docs_topics):\n",
        "        for i, test_doc_topics in enumerate(test_docs_topics):\n",
        "            cs = cossim(doc_topics, test_doc_topics)\n",
        "            if cs > max_values[i]:\n",
        "                max_values[i] = cs\n",
        "                max_docs_idxs[i] = doc_idx\n",
        "\n",
        "    return max_values, max_docs_idxs"
      ]
    },
    {
      "cell_type": "code",
      "execution_count": null,
      "metadata": {
        "colab": {
          "base_uri": "https://localhost:8080/"
        },
        "id": "Pv-YVDjNwvJK",
        "outputId": "dc26e214-8d36-4a56-ff05-e8edec0101e7"
      },
      "outputs": [
        {
          "data": {
            "text/plain": [
              "[[(0, 1)], [(1, 1), (2, 1), (3, 1)], [(4, 1)], [(5, 1), (6, 1)], [(7, 1)]]"
            ]
          },
          "execution_count": 87,
          "metadata": {},
          "output_type": "execute_result"
        }
      ],
      "source": [
        "test_corpus"
      ]
    },
    {
      "cell_type": "code",
      "execution_count": null,
      "metadata": {
        "id": "xZ9LLOJ_qntl"
      },
      "outputs": [],
      "source": [
        "max_values, max_docs_idxs = find_similiar_docs_by_cossim(lda_model, corpus, test_corpus)"
      ]
    },
    {
      "cell_type": "code",
      "execution_count": null,
      "metadata": {
        "colab": {
          "base_uri": "https://localhost:8080/"
        },
        "id": "lbgETZM5r8bv",
        "outputId": "c6c8c0be-dba7-4d96-af39-141039bfb72f"
      },
      "outputs": [
        {
          "data": {
            "text/plain": [
              "[0.9791280054441839,\n",
              " 0.9971664659518216,\n",
              " 0.9851451333296798,\n",
              " 0.9672786436660437,\n",
              " 0.9817375171838574]"
            ]
          },
          "execution_count": 89,
          "metadata": {},
          "output_type": "execute_result"
        }
      ],
      "source": [
        "max_values"
      ]
    },
    {
      "cell_type": "code",
      "execution_count": null,
      "metadata": {
        "colab": {
          "base_uri": "https://localhost:8080/"
        },
        "id": "n01NZ6LosLPA",
        "outputId": "89adb049-483c-4271-cfce-23a9e918c0f4"
      },
      "outputs": [
        {
          "name": "stdout",
          "output_type": "stream",
          "text": [
            "most similar docs titles indexes: [1064, 1474, 5011, 1494, 3211]\n"
          ]
        }
      ],
      "source": [
        "print('most similar docs titles indexes:', max_docs_idxs)"
      ]
    },
    {
      "cell_type": "code",
      "execution_count": null,
      "metadata": {
        "id": "NqpraCjGsMsm"
      },
      "outputs": [],
      "source": [
        "def print_docs_text(df, test_df, docs_idxs, test_col_name):\n",
        "    for i, doc in enumerate(docs_idxs):\n",
        "        test_headline = test_df.iloc[i][test_col_name]\n",
        "        pred_headline = df.iloc[doc]['headline']\n",
        "        pred_text = df.iloc[doc]['text']\n",
        "\n",
        "        print('input text:', test_headline)\n",
        "        print('output doc title:', pred_headline)\n",
        "        print('output doc text:', pred_text, end=\"\\n\\n\")"
      ]
    },
    {
      "cell_type": "code",
      "execution_count": null,
      "metadata": {
        "colab": {
          "base_uri": "https://localhost:8080/"
        },
        "id": "gueOfreZutPH",
        "outputId": "54f138f3-3c2e-4252-8285-504b1ae80046"
      },
      "outputs": [
        {
          "name": "stdout",
          "output_type": "stream",
          "text": [
            "input text: inflation\n",
            "output doc title: Fed's Williams: Fed Not Near Limit on Bond Buying\n",
            "output doc text: The Federal Reserve isn't near a limit on how many Treasury or mortgage-backed securities it can purchase, Federal Reserve President John Williams said in an interview with The Wall Street Journal.Some Fed officials have been concerned that if the central bank buys too many bonds in these markets it could become such a big player that these markets become illiquid and stop functioning properly. Mr. Williams said the Fed isn't close to causing those kinds of problems. He said he wants to keep buying $85 billiong per month of long-term securities in 2013.He is in a camp of policy activists at the Fed who want the central bank to keep buying mortgage and Treasury bonds next year to push down long-term interest rates in hopes of boosting the economy.The Fed next meets Dec. 11-12. It is widely expected to continue its $40 billion-per-month mortgage-bond-buying program. It must decide what to do about its Treasury purchase program, known as Operation Twist. Under the program, which expires at year-end, the Fed is buying $45 billion per month of long-term Treasurys.Mr. Williams said he wanted to keep buying both classes of securities at the present pace. Stopping or scaling back, he said, would be \"counterproductive\" for the economy.\n",
            "\n",
            "input text: crisis in stock market\n",
            "output doc title: Signs of Economic Strength, Inflation Caused Fed to Tighten Credit in March\n",
            "output doc text: WASHINGTON -- Surprising strength in the U.S. economy and a determination to respond quickly to hints of renewed inflation caused the Federal Reserve to tighten its grip on credit in late March, newly released minutes of Fed meetings show.The decision to reverse course, which had been widely reported but not previously confirmed by the Fed, led to higher interest rates immediately after the March 29 meeting of the Fed's policy-making Open Market Committee. The minutes of the meeting were released Friday after the customary seven-week delay.The Fed tightened credit again in early May because of continued fears of inflation. That move wasn't covered in the minutes released Friday. The Open Market Committee held a regularly scheduled session last week at which it apparently didn't change its credit position.The minutes of the Open Market Committee offer one of the few ways for outsiders to get a glimpse of the Fed's deliberations. Before the March 29 meeting, economists generally predicted that the Fed wouldn't tighten credit. But at the meeting, only one of the 11 committee members, Fed Governor Martha Seger, dissented from the tightening move.Among the others, the only disagreement was a matter of degree. \"Most indicated a preference for only a slight move toward restraint, at least at this time, but a few urged somewhat greater tightening,\" the minutes say.\n",
            "\n",
            "input text: google\n",
            "output doc title: LETTERS\n",
            "output doc text: The American Academy of Pediatrics recommendation about breast-feeding duration has not changed so dramatically as was suggested by \"What's Good for the Baby May Guilt-Trip the Mother {Second Opinion, December 9}. Previously, they recommended \"breast-feed to one year\"; currently, they say \"breast-feed to at least one year.\" They present a solid body of evidence supporting the vital importance of breast-feeding to women's and children's health, and its potential impact on health care costs, the environment, maternal job satisfaction and productivity.The column missed the forest (the vast improvements in women's lives when this country becomes a truly breast-feeding society) for the trees (the temporary difficulties some women may face in the process).As a family physician who believes physicians have a responsibility to provide people with accurate and current data from which they can make informed health decisions, I believe that withholding vital information to spare people feelings of guilt or failure is patronizing at best, negligent at worst.Prospective parents need correct information about the crucial infant feeding decision. The AAP has provided it. Let's hope this gives parents the impetus to choose breast-feeding in a decidedly bottle-feeding culture. Alicia Dermet Clinical Assistant Professor, Department of Family Medicine, UMDNJ-Robert Wood Johnson Medical School Old Bridge, N.J.Instead of criticizing the Academy of Pediatrics, you should be applauding them and supporting their efforts to educate not only their members but individual families and the business community in this country. Where is your article about the policy statement and what it actually says? Where are your articles about how we as a society could begin to achieve this goal? You could fill a column every week about breast-feeding and how mothers, whether working outside the home or not, are successfully breast-feeding their babies. You could do exposes about how hospitals and health care professionals often sabotage new mothers' efforts to breast-feed their babies. You could write about the many hospitals who do get new mothers off to a good start and employers who provide support to allow new mothers to breast-feed even though they work outside the home.\n",
            "\n",
            "input text: new ecosystem\n",
            "output doc title: Europea's Markets Feel Own Pain\n",
            "output doc text: BRUSSELS--European markets enjoyed letting the U.S. debt-ceiling circus steal the spotlight. It didn't last long.Markets across the Continent slumped Monday, a reminder that the euro zone's own debt woes remain far from resolved. Stocks in Italy, the currency union's second-most indebted country after Greece, were particularly hit hard. The Milan bourse slumped 3.9%, and bank shares were among the biggest losers. Banco Popolare SC and Intesa Sanpaolo SpA both closed down almost 8%.Italy's government bonds also weakened; the yield on the 10-year bond rose 0.12 percentage point, to 5.987%, compared with 2.469% for 10-year German bunds.European trading began Monday on a relatively optimistic note after news that a debt-ceiling deal was at hand in the U.S. But investors soured over the course of the day, and stocks accelerated their fall near the end of trading when the Institute for Supply Management released weak manufacturing figures in the U.S. The U.K.'s FTSE 100 lost 0.7%, the German DAX dropped 2.9% and France's CAC-40 shed 2.3%.Besides Italy, Spain--another worrying spot in the euro zone--also had a rough day; the Madrid stock market closed down 3.2%. Some of the nervousness in Europe relates to fears about the health of the U.S. economy, but significant concern remains that policy makers' recent efforts to bolster Greece and implement measures to backstop the rest of the euro zone aren't convincing.\n",
            "\n",
            "input text: how to invest\n",
            "output doc title: U.S. News: Fed Looks at Low-Rate Peg\n",
            "output doc text: Federal Reserve officials are debating whether to strengthen their commitment to keep short-term interest rates near zero as part of their effort to keep boosting the slow-growing economy.But they face many unresolved questions about whether to make such a move, and if so when, and several events in the coming days could shed light on their thinking.Fed Vice Chairwoman Janet Yellen testifies before the Senate Banking Committee on Thursday in a hearing on her nomination to lead the Fed when Chairman Ben Bernanke's term ends in January. Mr. Bernanke speaks at the National Economic Club next Tuesday. And the Fed on Wednesday releases minutes of its October meeting, at which the idea likely was discussed.The Fed's vow to keep interest rates low for a long time is one of its key tools to rev up the economy, given that it has cut short-term rates nearly to zero. The commitment is one of two pillars of the Fed's easy-money policy, the other one being an $85 billion monthly bond-buying program. Officials might start scaling back the bond-buying program in the coming months, possibly as early as December, but want to reassure the public and investors they won't raise interest rates for a long time after they end the program.The Fed has said for months it won't raise short-term interest rates from near zero until the unemployment rate, which was 7.3% in October, falls below 6.5%, as long as inflation doesn't move above 2.5%. Fed officials believe the promise, known as \"forward guidance,\" helps hold down long-term borrowing rates, which in turn encourages borrowing, investment and spending.\n",
            "\n"
          ]
        }
      ],
      "source": [
        "print_docs_text(df, test_df, max_docs_idxs, 'test')"
      ]
    },
    {
      "cell_type": "code",
      "execution_count": null,
      "metadata": {
        "id": "IAaY7SZcuP4b"
      },
      "outputs": [],
      "source": [
        "def get_most_likely_topic(model, unseen_corpus):\n",
        "    dist = model.get_document_topics(unseen_corpus)\n",
        "    most_sim_topics = []\n",
        "    \n",
        "    for id, doc in enumerate(dist):\n",
        "        topics = []\n",
        "        probs = []\n",
        "        for topic, prob in doc:\n",
        "            topics.append(topic)\n",
        "            probs.append(prob)\n",
        "        max_p = max(probs)\n",
        "        topic = topics[probs.index(max_p)]\n",
        "        most_sim_topics.append((id, topic))\n",
        "    \n",
        "    return most_sim_topics"
      ]
    },
    {
      "cell_type": "code",
      "execution_count": null,
      "metadata": {
        "colab": {
          "base_uri": "https://localhost:8080/"
        },
        "id": "JZ-A4TaZwWXf",
        "outputId": "c8f02b44-46fe-4901-d844-dae985f2da45"
      },
      "outputs": [
        {
          "data": {
            "text/plain": [
              "[(0, 1), (1, 1), (2, 0), (3, 8), (4, 1)]"
            ]
          },
          "execution_count": 94,
          "metadata": {},
          "output_type": "execute_result"
        }
      ],
      "source": [
        "get_most_likely_topic(lda_model, test_corpus)"
      ]
    },
    {
      "cell_type": "code",
      "execution_count": null,
      "metadata": {
        "id": "1FxWSQ3m82GV"
      },
      "outputs": [],
      "source": [
        "def find_docs_similiar_by_similarity(corpus, dictionary, test_corpus, input_df, input_col, output_df, output_col):\n",
        "    index_tmpfile = get_tmpfile(\"index\")\n",
        "    index = Similarity(index_tmpfile, corpus, num_features=len(dictionary))\n",
        "    similarities = index[test_corpus]\n",
        "\n",
        "    sim_dict = {}\n",
        "    sim_dict['sim_docs_id'] = []\n",
        "    sim_dict['sim_docs_titles'] = []\n",
        "    sim_dict['sim_docs_texts'] = []\n",
        "    sim_dict['sim_val'] = []\n",
        "    for id, doc in enumerate(similarities):\n",
        "        most_sim_val = max(similarities[id])\n",
        "        most_sim_doc_index = list(similarities[id]).index(most_sim_val)\n",
        "        sim_dict['sim_docs_id'].append((id, most_sim_doc_index))\n",
        "        sim_dict['sim_docs_titles'].append((input_df.iloc[[sim_dict['sim_docs_id'][id][0]]][input_col].values[0], output_df.iloc[[sim_dict['sim_docs_id'][id][1]]][output_col].values[0])) #translate docs indexes to titles.\n",
        "        sim_dict['sim_val'].append(most_sim_val)\n",
        "        sim_dict['sim_docs_texts'].append(output_df.iloc[id]['text'])\n",
        "\n",
        "    return sim_dict"
      ]
    },
    {
      "cell_type": "code",
      "execution_count": null,
      "metadata": {
        "id": "Zupb15KG-I_0"
      },
      "outputs": [],
      "source": [
        "sim_dict = find_docs_similiar_by_similarity(corpus, dictionary, test_corpus=test_corpus, input_df=test_df, input_col=\"test\", output_df=df, output_col=\"headline\")"
      ]
    },
    {
      "cell_type": "code",
      "execution_count": null,
      "metadata": {
        "colab": {
          "base_uri": "https://localhost:8080/"
        },
        "id": "tvwweIMVdzRT",
        "outputId": "dff8d2b0-faba-4402-8f47-cbcb04d0f7df"
      },
      "outputs": [
        {
          "name": "stdout",
          "output_type": "stream",
          "text": [
            "inflation\n",
            "Yields on CDs Fell in the Latest Week\n",
            "NEW YORK -- Yields on most certificates of deposit offered by major banks dropped more than a tenth of a percentage point in the latest week, reflecting the overall decline in short-term interest rates.On small-denomination, or \"consumer,\" CDs sold directly by banks, the average yield on six-month deposits fell to 5.49% from 5.62% in the week ended yesterday, according to an 18-bank survey by Banxquote Money Markets, a Wilmington, Del., information service.On three-month \"consumer\" deposits, the average yield sank to 5.29% from 5.42% the week before, according to Banxquote. Two banks in the Banxquote survey, Citibank in New York and CoreStates in Pennsylvania, are paying less than 5% on threemonth small-denomination CDs.Declines were somewhat smaller on five-year consumer CDs, which eased to 7.37% from 7.45%, Banxquote said.Yields on three-month and six-month Treasury bills sold at Monday's auction plummeted more than a fifth of a percentage point from the previous week, to 5.46% and 5.63%, respectively.\n",
            "similarity val: 0.07980869\n",
            "\n",
            "crisis in stock market\n",
            "Yields on CDs Fell in the Latest Week\n",
            "The Wall Street Journal OnlineThe Morning Brief, a look at the day's biggest news, is emailed to subscribers by 7 a.m. every business day. Sign up for the e-mail here.On Friday evening, with Congress out of town on its summer recess and Americans heading into a mid-August weekend, the Bush administration sent a message to the states: The federal government will make it tougher for a national children's insurance program to cover the offspring of middle-income families.The State Children's Health Insurance Program was created in 1997 to help children whose families couldn't afford insurance but didn't qualify for Medicaid, and administration officials tell the New York Times that the changes are aimed at returning the program to its low- income focus and assuring it didn't become a replacement for private insurance. Administration point man Dennis Smith wrote to state officials saying there would be new restrictions on the District of Columbia and the 18 states -- including California and New York -- that extend or plan to extend coverage for children whose families make more than 250% of Federal poverty levels. For a family of three that 250% is $42,900, and for a family of four it's $51,625. Under the new limits, a child from a family making more would have to spend one year uninsured before qualifying, and any state that wants to extend coverage would have to assure Washington that at least 95% of children eligible for SCHIP or Medicaid are enrolled in one of the programs. But as the Associated Press reports, no state can currently make such assurances.Rachel Klein, deputy director of health policy for advocacy group Families USA, tells the AP that since many families above the 250% threshold can't afford private insurance, \"the effect of this policy is to have more uninsured kids.\" Ann Clemency Kohler, deputy commissioner of human services in New Jersey, tells the Times the changes \"will cause havoc with our program and could jeopardize coverage for thousands of children.\" States have already been imposing waiting periods and taking other steps to prevent parents from moving their children from private insurance to SCHIP, which currently serves some 6.6 million children, the Washington Post notes. The administration's new restrictions come as the program, which expires at the end of next month if Congress doesn't reauthorize it, is the subject of a larger political fight that pits the White House against Democrats and some Republicans in Congress and state capitals.\n",
            "similarity val: 0.27646542\n",
            "\n",
            "google\n",
            "First Chicago To Buy a Bank For $247 Million --- Acquiring Beneficial Unit Would Allow Expansion Of Credit Card Business\n",
            "WASHINGTON -- In an effort to achieve banking reform, Senate negotiators and the Bush administration have agreed to drop efforts to allow banks to expand further into the securities business.The compromise is one of several the Senate Banking Committee is pursuing to remove obstacles its banking bill will face when the Senate starts voting on the measure, perhaps today. The latest version of the House banking bill also drops the administration's proposals to broaden bank entry into the securities business.Last night, the House began its second attempt to pass a banking bill after failing last week, in part because of disagreement over how to allow banks into the securities business. The House adopted on a voice vote provisions that would replenish the bank deposit insurance fund, tighten bank regulation, trim the scope of deposit insurance, and restrict the Federal Reserve Board's ability to keep sick banks alive with loans.But the House delayed until today a vote on an amendment to allow banks to branch nationwide and on final passage of the banking bill to give the House leadership and the administration more time to drum up support for the bill.House Speaker Thomas Foley (D., Wash.) is working hard to win passage of the bill in the face of significant opposition from Rep. John Dingell (D., Mich.), who believes the bill should include provisions imposing stiffer regulation on banks in the securities business.\n",
            "similarity val: 0.26037782\n",
            "\n",
            "new ecosystem\n",
            "Dollar Falls Back Against Major Rivals\n",
            "The statistics on the enormous costs of employee drug abuse are well known (at least $70 billion per year, according to December 1985 testimony before the House Labor Subcommittee on Health and Safety). Management is under pressure to reduce productivity losses, turnover, insurance costs and the risk of lawsuits for personal and property damage caused by drug-impaired workers. Management also is under sales pressure from a growing cadre of laboratories, test-kit manufacturers and consultants who extol the virtues of testing. A common argument is the following: \"Your competitors are starting to require drug tests. If you don't, their work force will be clean and you will end up with all the junkies.\"Many companies that have implemented widespread drug-testing programs, however, have learned that there is a downside to testing. They have experienced the protests of employees and civil libertarians and have watched the proliferation of lawsuits alleging invasion of privacy, defamation and other legal theories. A Texas railroad employee was awarded $200,000 in damages when his employer misreported the results of a drug test. Numerous other cases are pending.Is there a middle ground? Can safety and efficiency be protected without invading the privacy of applicants and employees?A growing number of companies have concluded that drug testing should be the least important part of a comprehensive drug-abuse program. The starting point is a drug-awareness program to educate managers, supervisors and employees about the dangers and signs of drug abuse. The second part of the program is an effective employee-assistance program (EAP). Rehabilitation is preferable to punishment or dismissal (at least for initial or nonserious offenses) because it encourages employees to seek help voluntarily, improves labor relations and is cost-effective by restoring valuable employees to productive status. More than one company that heedlessly adopted a \"screen and fire\" policy on drugs had second thoughts after discovering traces of drugs in some of their most productive employees.There may be a place for drug testing in a company's drug-abuse program, but there are limits to the effectiveness of testing. To begin with, the accuracy of some drug tests varies widely, and the test results are often unacceptable even when performed by professional laboratories. Last year the Centers for Disease Control published the results of a 10-year study of laboratory testing for amphetamines, barbiturates, cocaine, codeine, methadone and morphine. Virtually all of the laboratories in the study had unacceptably high error rates.\n",
            "similarity val: 0.24999999\n",
            "\n",
            "how to invest\n",
            "Making Right Money Decisions\n",
            "NEW YORK -- Indecision marked the dollar's tone, as traders paused for breath, awaiting a critical monthly U.S. employment report for release today.The dollar ended the New York day slightly weaker against both the euro and the yen.Market participants were also reluctant to make major bets on the yen, following a stream of more rigorous-sounding statements from top Japanese officials about the issue of bank reforms.Late yesterday afternoon in New York, the euro was at 98.77 cents, slightly stronger than its 98.68-cent level late Wednesday. Against the yen, the dollar was trading at 122.59 yen, down modestly from 122.84 yen. Against the Swiss franc, the dollar was at 1.4782 francs, unchanged, while sterling was changing hands at $1.5698, up from $1.5689.The euro managed to raise its head briefly above 99 cents during New York trade, for the first time in roughly four weeks, taking advantage of some softness in stock markets and some worries about the state of the U.S. economic recovery ahead of the employment report.\n",
            "similarity val: 0.1796053\n",
            "\n"
          ]
        }
      ],
      "source": [
        "for i, sim_titles in enumerate(sim_dict['sim_docs_titles']):\n",
        "  print(sim_titles[0])\n",
        "  print(sim_titles[1])\n",
        "  print(sim_dict['sim_docs_texts'][i])\n",
        "  print('similarity val:', sim_dict['sim_val'][i], end=\"\\n\\n\")"
      ]
    },
    {
      "cell_type": "code",
      "execution_count": null,
      "metadata": {
        "colab": {
          "base_uri": "https://localhost:8080/",
          "height": 443,
          "referenced_widgets": [
            "54bd0fdcbd2f4ce8b791509cf382e76e",
            "ec1b592ff81840a48ef073fe4e664675",
            "15836c1b785348d2a8246083e950e5c8",
            "0c0be67111c44f49b1fd9f129042d02c",
            "1c635408fddb4107ac2404d9941752f1",
            "eb71b96e92d242b5b589de58ef168e60",
            "deb4dfd8aaed4cda9431c20ac7df2f60",
            "0d3e3ae375ad4828a9cb4b9bb5905657",
            "0e7e7b48c9d3402ba793b33e3737823e",
            "4e1860f8d52447fe9cce3aec5b8021a4",
            "81cc7bdbe21248faa2fb82e8e5f7867d"
          ]
        },
        "id": "nqqa5VFEYt5w",
        "outputId": "128b19e6-10ac-4834-e565-77890f4b7972"
      },
      "outputs": [
        {
          "data": {
            "application/vnd.jupyter.widget-view+json": {
              "model_id": "54bd0fdcbd2f4ce8b791509cf382e76e",
              "version_major": 2,
              "version_minor": 0
            },
            "text/plain": [
              "  0%|          | 0/2885 [00:00<?, ?it/s]"
            ]
          },
          "metadata": {},
          "output_type": "display_data"
        },
        {
          "name": "stderr",
          "output_type": "stream",
          "text": [
            "2021-09-14 16:10:44,324 : INFO : collecting all words and their counts\n",
            "2021-09-14 16:10:44,326 : INFO : PROGRESS: at sentence #0, processed 0 words and 0 word types\n",
            "2021-09-14 16:10:44,346 : INFO : collected 9596 token types (unigram + bigrams) from a corpus of 8932 words and 2885 sentences\n",
            "2021-09-14 16:10:44,348 : INFO : merged Phrases<9596 vocab, min_count=5, threshold=10.0, max_vocab_size=40000000>\n",
            "2021-09-14 16:10:44,349 : INFO : Phrases lifecycle event {'msg': 'built Phrases<9596 vocab, min_count=5, threshold=10.0, max_vocab_size=40000000> in 0.03s', 'datetime': '2021-09-14T16:10:44.349837', 'gensim': '4.1.0', 'python': '3.7.11 (default, Jul  3 2021, 18:01:19) \\n[GCC 7.5.0]', 'platform': 'Linux-5.4.104+-x86_64-with-Ubuntu-18.04-bionic', 'event': 'created'}\n",
            "2021-09-14 16:10:44,395 : INFO : adding document #0 to Dictionary(0 unique tokens: [])\n",
            "2021-09-14 16:10:44,434 : INFO : built Dictionary(4216 unique tokens: ['card', 'credit', 'detection', 'fraud', 'Database']...) from 2885 documents (total 8803 corpus positions)\n",
            "2021-09-14 16:10:44,436 : INFO : Dictionary lifecycle event {'msg': \"built Dictionary(4216 unique tokens: ['card', 'credit', 'detection', 'fraud', 'Database']...) from 2885 documents (total 8803 corpus positions)\", 'datetime': '2021-09-14T16:10:44.436745', 'gensim': '4.1.0', 'python': '3.7.11 (default, Jul  3 2021, 18:01:19) \\n[GCC 7.5.0]', 'platform': 'Linux-5.4.104+-x86_64-with-Ubuntu-18.04-bionic', 'event': 'created'}\n",
            "2021-09-14 16:10:44,462 : INFO : generating classic gensim model representation based on results from the ensemble\n",
            "2021-09-14 16:10:44,465 : INFO : using symmetric alpha at 0.2\n",
            "2021-09-14 16:10:44,467 : INFO : using symmetric eta at 0.2\n",
            "2021-09-14 16:10:44,481 : INFO : using serial LDA version on this node\n",
            "2021-09-14 16:10:44,529 : INFO : running online (multi-pass) LDA training, 5 topics, 0 passes over the supplied corpus of 8000 documents, updating model once every 2000 documents, evaluating perplexity every 8000 documents, iterating 150x with a convergence threshold of 0.001000\n",
            "2021-09-14 16:10:44,530 : WARNING : too few updates, training might not converge; consider increasing the number of passes or iterations to improve accuracy\n",
            "2021-09-14 16:10:44,532 : INFO : LdaModel lifecycle event {'msg': 'trained LdaModel(num_terms=56564, num_topics=5, decay=0.5, chunksize=2000) in 0.00s', 'datetime': '2021-09-14T16:10:44.532627', 'gensim': '4.1.0', 'python': '3.7.11 (default, Jul  3 2021, 18:01:19) \\n[GCC 7.5.0]', 'platform': 'Linux-5.4.104+-x86_64-with-Ubuntu-18.04-bionic', 'event': 'created'}\n",
            "2021-09-14 16:10:44,559 : INFO : generating classic gensim model representation based on results from the ensemble\n",
            "2021-09-14 16:10:44,565 : INFO : using symmetric alpha at 0.2\n",
            "2021-09-14 16:10:44,567 : INFO : using symmetric eta at 0.2\n",
            "2021-09-14 16:10:44,581 : INFO : using serial LDA version on this node\n",
            "2021-09-14 16:10:44,623 : INFO : running online (multi-pass) LDA training, 5 topics, 0 passes over the supplied corpus of 8000 documents, updating model once every 2000 documents, evaluating perplexity every 8000 documents, iterating 150x with a convergence threshold of 0.001000\n",
            "2021-09-14 16:10:44,627 : WARNING : too few updates, training might not converge; consider increasing the number of passes or iterations to improve accuracy\n",
            "2021-09-14 16:10:44,629 : INFO : LdaModel lifecycle event {'msg': 'trained LdaModel(num_terms=56564, num_topics=5, decay=0.5, chunksize=2000) in 0.01s', 'datetime': '2021-09-14T16:10:44.629709', 'gensim': '4.1.0', 'python': '3.7.11 (default, Jul  3 2021, 18:01:19) \\n[GCC 7.5.0]', 'platform': 'Linux-5.4.104+-x86_64-with-Ubuntu-18.04-bionic', 'event': 'created'}\n"
          ]
        }
      ],
      "source": [
        "test_articles_docs, test_articles_texts = preprocess_with_spacy(test_articles_df, 'Title')\n",
        "test_articles_dictionary, test_articles_corpus = text_to_corpus(test_articles_texts)\n",
        "test_max_values, test_max_docs_idxs = find_similiar_docs_by_cossim(ensemble, corpus, test_corpus)"
      ]
    },
    {
      "cell_type": "code",
      "execution_count": null,
      "metadata": {
        "colab": {
          "base_uri": "https://localhost:8080/"
        },
        "id": "Hl4WxX4tM-SD",
        "outputId": "cfe44636-8319-4dfd-eae3-4dc6cfd636da"
      },
      "outputs": [
        {
          "name": "stdout",
          "output_type": "stream",
          "text": [
            "input text: inflation\n",
            "output doc title: Business and Finance\n",
            "output doc text: Stocks hit new highs for the year, commodities prices rose and the dollar slipped as traders focused on signs of economic growth in Asia and Fed chief Bernanke's commitment to low interest rates. The Dow industrials rose 136.49 points, or 1.3%, to 10406.96. Gold climbed to $1,138.60.Bernanke warned that unemployment, tepid lending and troubles in commercial real estate will weigh on recovery. He also said the Fed is watching the dollar's trajectory.---The New York Fed caved in to demands by AIG's trading partners that they be paid in full for complex securities they had insured with the firm, a government audit found.---\n",
            "\n",
            "input text: crisis in stock market\n",
            "output doc title: Late Buying Spurt Pushes List Upward: Ticker Lags Near Close\n",
            "output doc text: .NEW YORK, Aug. 17 (AP>‰ÛÓLate buying rescued a faltering stock market advance today and the list ended irregularly higher in fairly active trading.The ticker tape lagged in a buying spurt just before the close. An hour earlier so many of the initial gains had been cut or erased that it looked as if the market might end with a slight loss if the erosion continued.The market was higher in early trading but backtracked most of the afternoon as turnover faded. Prices steadied, however, and as action became dull new buying came in. Brokers said much of this was short covering in anticipation of an expected increase in the short position to be announced Thursday. This refers to the total number of borrowed shares sold in the hope that they can be replaced by stock bought at a low er price.Autos were early leaders in the advance. General Motors was spurred by talk of better earnings and the possibility of a year-end extra dividend. American .Motors topped the most-active list, rising lr,åÇ to 231* on 110,400 shares, helped by news of the expansion program for production of its Rambler car.The Dow Jones industrial average rose 1.11 to 626.54, continuing its penetration of the 625 level which has been regarded as an upside barrier.\n",
            "\n",
            "input text: google\n",
            "output doc title: And Amtrak Keeps Rolling Along\n",
            "output doc text: David Gunn, 65 and a glutton for punishment, left retirement to run Amtrak. His office is in magnificently restored Union Station, a relic of something Gunn knows is gone forever -- the era of glamorous railroading. He explains his challenge by taking a visitor on a walk back to the 1930s.He walks to the end of Union Station's passenger platform, looking north up the Washington-New York-Boston corridor. Almost everything that strikes the eye, Gunn says, from the transformers to the poles holding overhead electric power wires, was here in the 1930s, if not 1910. The foundations of more than 9,800 poles in the corridor are, Gunn says, \"in trouble.\"Deferred maintenance cannot forever be deferred for this railroad that two years ago mortgaged part of Penn Station in Manhattan to meet $300 million in expenses. Gunn's predecessor then said he was \"absolutely confident\" that Amtrak would reach \"operational self- sufficiency by the congressionally mandated deadline in 2003.\" \"Fanciful\" is Gunn's dismissal of the idea that Amtrak can end its deficit. Fanciful, too, is the idea that the government will quit subsidizing Amtrak operations in the Northeast Corridor. Without subsidies, those operations would end for 1.1 million passengers a month, who would be put into the corridor's already congested highways and air space.Furthermore, it is fanciful to think Congress will subsidize the Northeast Corridor without legislative logrolling to guarantee continuing subsidies of long-distance trains (routes of at least 500 miles) beyond the corridor, where five-sixths of Americans live. Trains such as the Sunset Limited, which is not crowded on its runs from Orlando to Los Angeles via New Orleans. Or the Texas Eagle, which, according to the Wall Street Journal, lost $38.4 million in 2001 ($1.70 for every $1 of revenue) on its 33-hour runs -- its meanderings, actually; it averages 39 mph -- between Chicago and San Antonio.Amtrak accounts for only three-tenths of 1 percent of intercity travel. Do at least Amtrak's Northeast Corridor operations make money? There are two answers: Don't be daft. And: Yes, if you disregard sufficient expenses. The same is true of the 12 daily trains that carry 200,000 passengers a month -- up 25 percent over last year -- in the San Diego-Los Angeles-Santa Barbara corridor. But by performing valuable services in congested regions, these services may help force the government to quit pretending that self- sufficiency is just over the horizon and to decide what kind of intercity rail service it wants to pay for.\n",
            "\n",
            "input text: new ecosystem\n",
            "output doc title: Dollar Falls against Europe's Currencies as Germany Tightens Interest Rates\n",
            "output doc text: NEW YORK -- A startling decision by the German central bank to raise key interest rates, coinciding with demoralizing comments about the U.S. economy, pushed the dollar down against European currencies.The greenback rose slightly against the yen and the Canadian dollar. But rather than representing optimism about the dollar, those advances reflected a broad yen sell-off and the fact that interest rates in Canada are falling even faster than in the U.S.In late New York trading, the dollar was quoted at 1.4770 marks, down from 1.4880 marks late Wednesday in New York. Against the Japanese currency, the dollar rose to 131.27 yen from 131.15 yen. Sterling was trading at $1.9660, up from $1.9625.In early trading in Tokyo Friday, the dollar was trading at about 131.35 yen, down slightly from Thursday's Tokyo close of 131.40 yen. Meanwhile, the U.S. currency was trading at 1.4800 marks, off a bit from 1.4895 marks at Thursday's close.Reports late in the New York afternoon that Iraqi vehicles were massing on the Saudi border helped pull the dollar out of its troughs for the day. However, the Pentagon discounted reports of a \"massive deployment\" of Iraqi troops. Even without that denial, traders have become so jaded to news about the Mideast the war was \"a secondary situation\" for the market, said Al Soria, foreign-exchange manager at Kansallis Osake Pankki in New York.\n",
            "\n",
            "input text: how to invest\n",
            "output doc title: Black Monday\n",
            "output doc text: Excerpts from \"the first rough draft of history\" as reported in The Washington Post on this date in the 20th century.The stock market crash of Black Monday, 1987, was in many ways the nation's gravest financial crisis since the Great Depression. But the Federal Reserve's decisive moves to pump money into the banking system and cut interest rates averted a recession. In fact, the stock market soon recovered and the economy kept growing. An excerpt from the Post of Oct. 20, 1987:The stock market was devastated by the worst one-day collapse in history yesterday in a pandemonium of panic selling that shattered all records and swamped stock exchanges around the country and overseas.The best-known market barometer -- the Dow Jones average of 30 industrial stocks -- plummeted 508 points, five times the previous record set last Friday. The Dow closed at 1738, dropping 22.6 percent, or nearly double the 12.8 percent plunge of Oct. 28, 1929, the crash that began the Great Depression.More than 604 million shares were traded on the New York Stock Exchange and 239 million on the American and over-the-counter markets, shattering previous records.\n",
            "\n"
          ]
        }
      ],
      "source": [
        "print_docs_text(df, test_df, test_max_docs_idxs, 'test')"
      ]
    }
  ],
  "metadata": {
    "colab": {
      "collapsed_sections": [
        "LCWz8H_VM1z6"
      ],
      "name": "TopicModeling.ipynb",
      "provenance": []
    },
    "kernelspec": {
      "display_name": "Python 3",
      "language": "python",
      "name": "python3"
    },
    "language_info": {
      "codemirror_mode": {
        "name": "ipython",
        "version": 3
      },
      "file_extension": ".py",
      "mimetype": "text/x-python",
      "name": "python",
      "nbconvert_exporter": "python",
      "pygments_lexer": "ipython3",
      "version": "3.7.4"
    },
    "widgets": {
      "application/vnd.jupyter.widget-state+json": {
        "03a034a985904b74a8cada2a2f70a828": {
          "model_module": "@jupyter-widgets/base",
          "model_module_version": "1.2.0",
          "model_name": "LayoutModel",
          "state": {
            "_model_module": "@jupyter-widgets/base",
            "_model_module_version": "1.2.0",
            "_model_name": "LayoutModel",
            "_view_count": null,
            "_view_module": "@jupyter-widgets/base",
            "_view_module_version": "1.2.0",
            "_view_name": "LayoutView",
            "align_content": null,
            "align_items": null,
            "align_self": null,
            "border": null,
            "bottom": null,
            "display": null,
            "flex": null,
            "flex_flow": null,
            "grid_area": null,
            "grid_auto_columns": null,
            "grid_auto_flow": null,
            "grid_auto_rows": null,
            "grid_column": null,
            "grid_gap": null,
            "grid_row": null,
            "grid_template_areas": null,
            "grid_template_columns": null,
            "grid_template_rows": null,
            "height": null,
            "justify_content": null,
            "justify_items": null,
            "left": null,
            "margin": null,
            "max_height": null,
            "max_width": null,
            "min_height": null,
            "min_width": null,
            "object_fit": null,
            "object_position": null,
            "order": null,
            "overflow": null,
            "overflow_x": null,
            "overflow_y": null,
            "padding": null,
            "right": null,
            "top": null,
            "visibility": null,
            "width": null
          }
        },
        "0c0be67111c44f49b1fd9f129042d02c": {
          "model_module": "@jupyter-widgets/controls",
          "model_module_version": "1.5.0",
          "model_name": "FloatProgressModel",
          "state": {
            "_dom_classes": [],
            "_model_module": "@jupyter-widgets/controls",
            "_model_module_version": "1.5.0",
            "_model_name": "FloatProgressModel",
            "_view_count": null,
            "_view_module": "@jupyter-widgets/controls",
            "_view_module_version": "1.5.0",
            "_view_name": "ProgressView",
            "bar_style": "success",
            "description": "",
            "description_tooltip": null,
            "layout": "IPY_MODEL_0e7e7b48c9d3402ba793b33e3737823e",
            "max": 2885,
            "min": 0,
            "orientation": "horizontal",
            "style": "IPY_MODEL_0d3e3ae375ad4828a9cb4b9bb5905657",
            "value": 2885
          }
        },
        "0d3e3ae375ad4828a9cb4b9bb5905657": {
          "model_module": "@jupyter-widgets/controls",
          "model_module_version": "1.5.0",
          "model_name": "ProgressStyleModel",
          "state": {
            "_model_module": "@jupyter-widgets/controls",
            "_model_module_version": "1.5.0",
            "_model_name": "ProgressStyleModel",
            "_view_count": null,
            "_view_module": "@jupyter-widgets/base",
            "_view_module_version": "1.2.0",
            "_view_name": "StyleView",
            "bar_color": null,
            "description_width": ""
          }
        },
        "0e7e7b48c9d3402ba793b33e3737823e": {
          "model_module": "@jupyter-widgets/base",
          "model_module_version": "1.2.0",
          "model_name": "LayoutModel",
          "state": {
            "_model_module": "@jupyter-widgets/base",
            "_model_module_version": "1.2.0",
            "_model_name": "LayoutModel",
            "_view_count": null,
            "_view_module": "@jupyter-widgets/base",
            "_view_module_version": "1.2.0",
            "_view_name": "LayoutView",
            "align_content": null,
            "align_items": null,
            "align_self": null,
            "border": null,
            "bottom": null,
            "display": null,
            "flex": null,
            "flex_flow": null,
            "grid_area": null,
            "grid_auto_columns": null,
            "grid_auto_flow": null,
            "grid_auto_rows": null,
            "grid_column": null,
            "grid_gap": null,
            "grid_row": null,
            "grid_template_areas": null,
            "grid_template_columns": null,
            "grid_template_rows": null,
            "height": null,
            "justify_content": null,
            "justify_items": null,
            "left": null,
            "margin": null,
            "max_height": null,
            "max_width": null,
            "min_height": null,
            "min_width": null,
            "object_fit": null,
            "object_position": null,
            "order": null,
            "overflow": null,
            "overflow_x": null,
            "overflow_y": null,
            "padding": null,
            "right": null,
            "top": null,
            "visibility": null,
            "width": null
          }
        },
        "15836c1b785348d2a8246083e950e5c8": {
          "model_module": "@jupyter-widgets/controls",
          "model_module_version": "1.5.0",
          "model_name": "HTMLModel",
          "state": {
            "_dom_classes": [],
            "_model_module": "@jupyter-widgets/controls",
            "_model_module_version": "1.5.0",
            "_model_name": "HTMLModel",
            "_view_count": null,
            "_view_module": "@jupyter-widgets/controls",
            "_view_module_version": "1.5.0",
            "_view_name": "HTMLView",
            "description": "",
            "description_tooltip": null,
            "layout": "IPY_MODEL_deb4dfd8aaed4cda9431c20ac7df2f60",
            "placeholder": "​",
            "style": "IPY_MODEL_eb71b96e92d242b5b589de58ef168e60",
            "value": "100%"
          }
        },
        "1a9eb14a7ac5458fbe36424f49ec39c5": {
          "model_module": "@jupyter-widgets/controls",
          "model_module_version": "1.5.0",
          "model_name": "HTMLModel",
          "state": {
            "_dom_classes": [],
            "_model_module": "@jupyter-widgets/controls",
            "_model_module_version": "1.5.0",
            "_model_name": "HTMLModel",
            "_view_count": null,
            "_view_module": "@jupyter-widgets/controls",
            "_view_module_version": "1.5.0",
            "_view_name": "HTMLView",
            "description": "",
            "description_tooltip": null,
            "layout": "IPY_MODEL_4b92e809903e43bfad19fd43037fc7da",
            "placeholder": "​",
            "style": "IPY_MODEL_34f2c38e040d44319c8281bd57dc5f92",
            "value": " 5/5 [00:00&lt;00:00,  7.89it/s]"
          }
        },
        "1c635408fddb4107ac2404d9941752f1": {
          "model_module": "@jupyter-widgets/controls",
          "model_module_version": "1.5.0",
          "model_name": "HTMLModel",
          "state": {
            "_dom_classes": [],
            "_model_module": "@jupyter-widgets/controls",
            "_model_module_version": "1.5.0",
            "_model_name": "HTMLModel",
            "_view_count": null,
            "_view_module": "@jupyter-widgets/controls",
            "_view_module_version": "1.5.0",
            "_view_name": "HTMLView",
            "description": "",
            "description_tooltip": null,
            "layout": "IPY_MODEL_81cc7bdbe21248faa2fb82e8e5f7867d",
            "placeholder": "​",
            "style": "IPY_MODEL_4e1860f8d52447fe9cce3aec5b8021a4",
            "value": " 2885/2885 [00:25&lt;00:00, 118.61it/s]"
          }
        },
        "1c6bcccdd5a24c3aa522aded10cd529c": {
          "model_module": "@jupyter-widgets/controls",
          "model_module_version": "1.5.0",
          "model_name": "HTMLModel",
          "state": {
            "_dom_classes": [],
            "_model_module": "@jupyter-widgets/controls",
            "_model_module_version": "1.5.0",
            "_model_name": "HTMLModel",
            "_view_count": null,
            "_view_module": "@jupyter-widgets/controls",
            "_view_module_version": "1.5.0",
            "_view_name": "HTMLView",
            "description": "",
            "description_tooltip": null,
            "layout": "IPY_MODEL_03a034a985904b74a8cada2a2f70a828",
            "placeholder": "​",
            "style": "IPY_MODEL_30e03850fbca4c44ab29adb4ae9fafb1",
            "value": " 8000/8000 [06:31&lt;00:00, 20.57it/s]"
          }
        },
        "250dd837cee04ae2a5d217b7934b2ab5": {
          "model_module": "@jupyter-widgets/base",
          "model_module_version": "1.2.0",
          "model_name": "LayoutModel",
          "state": {
            "_model_module": "@jupyter-widgets/base",
            "_model_module_version": "1.2.0",
            "_model_name": "LayoutModel",
            "_view_count": null,
            "_view_module": "@jupyter-widgets/base",
            "_view_module_version": "1.2.0",
            "_view_name": "LayoutView",
            "align_content": null,
            "align_items": null,
            "align_self": null,
            "border": null,
            "bottom": null,
            "display": null,
            "flex": null,
            "flex_flow": null,
            "grid_area": null,
            "grid_auto_columns": null,
            "grid_auto_flow": null,
            "grid_auto_rows": null,
            "grid_column": null,
            "grid_gap": null,
            "grid_row": null,
            "grid_template_areas": null,
            "grid_template_columns": null,
            "grid_template_rows": null,
            "height": null,
            "justify_content": null,
            "justify_items": null,
            "left": null,
            "margin": null,
            "max_height": null,
            "max_width": null,
            "min_height": null,
            "min_width": null,
            "object_fit": null,
            "object_position": null,
            "order": null,
            "overflow": null,
            "overflow_x": null,
            "overflow_y": null,
            "padding": null,
            "right": null,
            "top": null,
            "visibility": null,
            "width": null
          }
        },
        "30e03850fbca4c44ab29adb4ae9fafb1": {
          "model_module": "@jupyter-widgets/controls",
          "model_module_version": "1.5.0",
          "model_name": "DescriptionStyleModel",
          "state": {
            "_model_module": "@jupyter-widgets/controls",
            "_model_module_version": "1.5.0",
            "_model_name": "DescriptionStyleModel",
            "_view_count": null,
            "_view_module": "@jupyter-widgets/base",
            "_view_module_version": "1.2.0",
            "_view_name": "StyleView",
            "description_width": ""
          }
        },
        "34f2c38e040d44319c8281bd57dc5f92": {
          "model_module": "@jupyter-widgets/controls",
          "model_module_version": "1.5.0",
          "model_name": "DescriptionStyleModel",
          "state": {
            "_model_module": "@jupyter-widgets/controls",
            "_model_module_version": "1.5.0",
            "_model_name": "DescriptionStyleModel",
            "_view_count": null,
            "_view_module": "@jupyter-widgets/base",
            "_view_module_version": "1.2.0",
            "_view_name": "StyleView",
            "description_width": ""
          }
        },
        "451ad5bc1db044fcad2cbfd24d724510": {
          "model_module": "@jupyter-widgets/controls",
          "model_module_version": "1.5.0",
          "model_name": "HTMLModel",
          "state": {
            "_dom_classes": [],
            "_model_module": "@jupyter-widgets/controls",
            "_model_module_version": "1.5.0",
            "_model_name": "HTMLModel",
            "_view_count": null,
            "_view_module": "@jupyter-widgets/controls",
            "_view_module_version": "1.5.0",
            "_view_name": "HTMLView",
            "description": "",
            "description_tooltip": null,
            "layout": "IPY_MODEL_dbefbbcae3154e119644d519acbd3c69",
            "placeholder": "​",
            "style": "IPY_MODEL_7dad4494d7254704a84e47b656e9bdfe",
            "value": "100%"
          }
        },
        "45ecd59849d14c76b657ef48060bc09f": {
          "model_module": "@jupyter-widgets/base",
          "model_module_version": "1.2.0",
          "model_name": "LayoutModel",
          "state": {
            "_model_module": "@jupyter-widgets/base",
            "_model_module_version": "1.2.0",
            "_model_name": "LayoutModel",
            "_view_count": null,
            "_view_module": "@jupyter-widgets/base",
            "_view_module_version": "1.2.0",
            "_view_name": "LayoutView",
            "align_content": null,
            "align_items": null,
            "align_self": null,
            "border": null,
            "bottom": null,
            "display": null,
            "flex": null,
            "flex_flow": null,
            "grid_area": null,
            "grid_auto_columns": null,
            "grid_auto_flow": null,
            "grid_auto_rows": null,
            "grid_column": null,
            "grid_gap": null,
            "grid_row": null,
            "grid_template_areas": null,
            "grid_template_columns": null,
            "grid_template_rows": null,
            "height": null,
            "justify_content": null,
            "justify_items": null,
            "left": null,
            "margin": null,
            "max_height": null,
            "max_width": null,
            "min_height": null,
            "min_width": null,
            "object_fit": null,
            "object_position": null,
            "order": null,
            "overflow": null,
            "overflow_x": null,
            "overflow_y": null,
            "padding": null,
            "right": null,
            "top": null,
            "visibility": null,
            "width": null
          }
        },
        "4b92e809903e43bfad19fd43037fc7da": {
          "model_module": "@jupyter-widgets/base",
          "model_module_version": "1.2.0",
          "model_name": "LayoutModel",
          "state": {
            "_model_module": "@jupyter-widgets/base",
            "_model_module_version": "1.2.0",
            "_model_name": "LayoutModel",
            "_view_count": null,
            "_view_module": "@jupyter-widgets/base",
            "_view_module_version": "1.2.0",
            "_view_name": "LayoutView",
            "align_content": null,
            "align_items": null,
            "align_self": null,
            "border": null,
            "bottom": null,
            "display": null,
            "flex": null,
            "flex_flow": null,
            "grid_area": null,
            "grid_auto_columns": null,
            "grid_auto_flow": null,
            "grid_auto_rows": null,
            "grid_column": null,
            "grid_gap": null,
            "grid_row": null,
            "grid_template_areas": null,
            "grid_template_columns": null,
            "grid_template_rows": null,
            "height": null,
            "justify_content": null,
            "justify_items": null,
            "left": null,
            "margin": null,
            "max_height": null,
            "max_width": null,
            "min_height": null,
            "min_width": null,
            "object_fit": null,
            "object_position": null,
            "order": null,
            "overflow": null,
            "overflow_x": null,
            "overflow_y": null,
            "padding": null,
            "right": null,
            "top": null,
            "visibility": null,
            "width": null
          }
        },
        "4e1860f8d52447fe9cce3aec5b8021a4": {
          "model_module": "@jupyter-widgets/controls",
          "model_module_version": "1.5.0",
          "model_name": "DescriptionStyleModel",
          "state": {
            "_model_module": "@jupyter-widgets/controls",
            "_model_module_version": "1.5.0",
            "_model_name": "DescriptionStyleModel",
            "_view_count": null,
            "_view_module": "@jupyter-widgets/base",
            "_view_module_version": "1.2.0",
            "_view_name": "StyleView",
            "description_width": ""
          }
        },
        "54bd0fdcbd2f4ce8b791509cf382e76e": {
          "model_module": "@jupyter-widgets/controls",
          "model_module_version": "1.5.0",
          "model_name": "HBoxModel",
          "state": {
            "_dom_classes": [],
            "_model_module": "@jupyter-widgets/controls",
            "_model_module_version": "1.5.0",
            "_model_name": "HBoxModel",
            "_view_count": null,
            "_view_module": "@jupyter-widgets/controls",
            "_view_module_version": "1.5.0",
            "_view_name": "HBoxView",
            "box_style": "",
            "children": [
              "IPY_MODEL_15836c1b785348d2a8246083e950e5c8",
              "IPY_MODEL_0c0be67111c44f49b1fd9f129042d02c",
              "IPY_MODEL_1c635408fddb4107ac2404d9941752f1"
            ],
            "layout": "IPY_MODEL_ec1b592ff81840a48ef073fe4e664675"
          }
        },
        "75c589bd4752482982003406fd81adad": {
          "model_module": "@jupyter-widgets/controls",
          "model_module_version": "1.5.0",
          "model_name": "HBoxModel",
          "state": {
            "_dom_classes": [],
            "_model_module": "@jupyter-widgets/controls",
            "_model_module_version": "1.5.0",
            "_model_name": "HBoxModel",
            "_view_count": null,
            "_view_module": "@jupyter-widgets/controls",
            "_view_module_version": "1.5.0",
            "_view_name": "HBoxView",
            "box_style": "",
            "children": [
              "IPY_MODEL_451ad5bc1db044fcad2cbfd24d724510",
              "IPY_MODEL_8bde0386b1f3418985dfd2647fb4e768",
              "IPY_MODEL_1a9eb14a7ac5458fbe36424f49ec39c5"
            ],
            "layout": "IPY_MODEL_45ecd59849d14c76b657ef48060bc09f"
          }
        },
        "7dad4494d7254704a84e47b656e9bdfe": {
          "model_module": "@jupyter-widgets/controls",
          "model_module_version": "1.5.0",
          "model_name": "DescriptionStyleModel",
          "state": {
            "_model_module": "@jupyter-widgets/controls",
            "_model_module_version": "1.5.0",
            "_model_name": "DescriptionStyleModel",
            "_view_count": null,
            "_view_module": "@jupyter-widgets/base",
            "_view_module_version": "1.2.0",
            "_view_name": "StyleView",
            "description_width": ""
          }
        },
        "7f3fac98ff18423db41ec1bf87455468": {
          "model_module": "@jupyter-widgets/controls",
          "model_module_version": "1.5.0",
          "model_name": "HTMLModel",
          "state": {
            "_dom_classes": [],
            "_model_module": "@jupyter-widgets/controls",
            "_model_module_version": "1.5.0",
            "_model_name": "HTMLModel",
            "_view_count": null,
            "_view_module": "@jupyter-widgets/controls",
            "_view_module_version": "1.5.0",
            "_view_name": "HTMLView",
            "description": "",
            "description_tooltip": null,
            "layout": "IPY_MODEL_98a684d5ea8741b8bab9bf91537654f7",
            "placeholder": "​",
            "style": "IPY_MODEL_bae84e5449524df18194fbac3d0afc22",
            "value": "100%"
          }
        },
        "81cc7bdbe21248faa2fb82e8e5f7867d": {
          "model_module": "@jupyter-widgets/base",
          "model_module_version": "1.2.0",
          "model_name": "LayoutModel",
          "state": {
            "_model_module": "@jupyter-widgets/base",
            "_model_module_version": "1.2.0",
            "_model_name": "LayoutModel",
            "_view_count": null,
            "_view_module": "@jupyter-widgets/base",
            "_view_module_version": "1.2.0",
            "_view_name": "LayoutView",
            "align_content": null,
            "align_items": null,
            "align_self": null,
            "border": null,
            "bottom": null,
            "display": null,
            "flex": null,
            "flex_flow": null,
            "grid_area": null,
            "grid_auto_columns": null,
            "grid_auto_flow": null,
            "grid_auto_rows": null,
            "grid_column": null,
            "grid_gap": null,
            "grid_row": null,
            "grid_template_areas": null,
            "grid_template_columns": null,
            "grid_template_rows": null,
            "height": null,
            "justify_content": null,
            "justify_items": null,
            "left": null,
            "margin": null,
            "max_height": null,
            "max_width": null,
            "min_height": null,
            "min_width": null,
            "object_fit": null,
            "object_position": null,
            "order": null,
            "overflow": null,
            "overflow_x": null,
            "overflow_y": null,
            "padding": null,
            "right": null,
            "top": null,
            "visibility": null,
            "width": null
          }
        },
        "8bde0386b1f3418985dfd2647fb4e768": {
          "model_module": "@jupyter-widgets/controls",
          "model_module_version": "1.5.0",
          "model_name": "FloatProgressModel",
          "state": {
            "_dom_classes": [],
            "_model_module": "@jupyter-widgets/controls",
            "_model_module_version": "1.5.0",
            "_model_name": "FloatProgressModel",
            "_view_count": null,
            "_view_module": "@jupyter-widgets/controls",
            "_view_module_version": "1.5.0",
            "_view_name": "ProgressView",
            "bar_style": "success",
            "description": "",
            "description_tooltip": null,
            "layout": "IPY_MODEL_dff06ff1a9644d32876fed4ae208fac8",
            "max": 5,
            "min": 0,
            "orientation": "horizontal",
            "style": "IPY_MODEL_c527dc41924141e4b6784f34d138fe05",
            "value": 5
          }
        },
        "98a684d5ea8741b8bab9bf91537654f7": {
          "model_module": "@jupyter-widgets/base",
          "model_module_version": "1.2.0",
          "model_name": "LayoutModel",
          "state": {
            "_model_module": "@jupyter-widgets/base",
            "_model_module_version": "1.2.0",
            "_model_name": "LayoutModel",
            "_view_count": null,
            "_view_module": "@jupyter-widgets/base",
            "_view_module_version": "1.2.0",
            "_view_name": "LayoutView",
            "align_content": null,
            "align_items": null,
            "align_self": null,
            "border": null,
            "bottom": null,
            "display": null,
            "flex": null,
            "flex_flow": null,
            "grid_area": null,
            "grid_auto_columns": null,
            "grid_auto_flow": null,
            "grid_auto_rows": null,
            "grid_column": null,
            "grid_gap": null,
            "grid_row": null,
            "grid_template_areas": null,
            "grid_template_columns": null,
            "grid_template_rows": null,
            "height": null,
            "justify_content": null,
            "justify_items": null,
            "left": null,
            "margin": null,
            "max_height": null,
            "max_width": null,
            "min_height": null,
            "min_width": null,
            "object_fit": null,
            "object_position": null,
            "order": null,
            "overflow": null,
            "overflow_x": null,
            "overflow_y": null,
            "padding": null,
            "right": null,
            "top": null,
            "visibility": null,
            "width": null
          }
        },
        "9a26213c4e744e44ba958c232fbb6932": {
          "model_module": "@jupyter-widgets/controls",
          "model_module_version": "1.5.0",
          "model_name": "FloatProgressModel",
          "state": {
            "_dom_classes": [],
            "_model_module": "@jupyter-widgets/controls",
            "_model_module_version": "1.5.0",
            "_model_name": "FloatProgressModel",
            "_view_count": null,
            "_view_module": "@jupyter-widgets/controls",
            "_view_module_version": "1.5.0",
            "_view_name": "ProgressView",
            "bar_style": "success",
            "description": "",
            "description_tooltip": null,
            "layout": "IPY_MODEL_9b61237d057746c4b12980efa175a32b",
            "max": 8000,
            "min": 0,
            "orientation": "horizontal",
            "style": "IPY_MODEL_9de49d7b26d24e6e8c6be097c51e68db",
            "value": 8000
          }
        },
        "9b61237d057746c4b12980efa175a32b": {
          "model_module": "@jupyter-widgets/base",
          "model_module_version": "1.2.0",
          "model_name": "LayoutModel",
          "state": {
            "_model_module": "@jupyter-widgets/base",
            "_model_module_version": "1.2.0",
            "_model_name": "LayoutModel",
            "_view_count": null,
            "_view_module": "@jupyter-widgets/base",
            "_view_module_version": "1.2.0",
            "_view_name": "LayoutView",
            "align_content": null,
            "align_items": null,
            "align_self": null,
            "border": null,
            "bottom": null,
            "display": null,
            "flex": null,
            "flex_flow": null,
            "grid_area": null,
            "grid_auto_columns": null,
            "grid_auto_flow": null,
            "grid_auto_rows": null,
            "grid_column": null,
            "grid_gap": null,
            "grid_row": null,
            "grid_template_areas": null,
            "grid_template_columns": null,
            "grid_template_rows": null,
            "height": null,
            "justify_content": null,
            "justify_items": null,
            "left": null,
            "margin": null,
            "max_height": null,
            "max_width": null,
            "min_height": null,
            "min_width": null,
            "object_fit": null,
            "object_position": null,
            "order": null,
            "overflow": null,
            "overflow_x": null,
            "overflow_y": null,
            "padding": null,
            "right": null,
            "top": null,
            "visibility": null,
            "width": null
          }
        },
        "9de49d7b26d24e6e8c6be097c51e68db": {
          "model_module": "@jupyter-widgets/controls",
          "model_module_version": "1.5.0",
          "model_name": "ProgressStyleModel",
          "state": {
            "_model_module": "@jupyter-widgets/controls",
            "_model_module_version": "1.5.0",
            "_model_name": "ProgressStyleModel",
            "_view_count": null,
            "_view_module": "@jupyter-widgets/base",
            "_view_module_version": "1.2.0",
            "_view_name": "StyleView",
            "bar_color": null,
            "description_width": ""
          }
        },
        "bae84e5449524df18194fbac3d0afc22": {
          "model_module": "@jupyter-widgets/controls",
          "model_module_version": "1.5.0",
          "model_name": "DescriptionStyleModel",
          "state": {
            "_model_module": "@jupyter-widgets/controls",
            "_model_module_version": "1.5.0",
            "_model_name": "DescriptionStyleModel",
            "_view_count": null,
            "_view_module": "@jupyter-widgets/base",
            "_view_module_version": "1.2.0",
            "_view_name": "StyleView",
            "description_width": ""
          }
        },
        "c527dc41924141e4b6784f34d138fe05": {
          "model_module": "@jupyter-widgets/controls",
          "model_module_version": "1.5.0",
          "model_name": "ProgressStyleModel",
          "state": {
            "_model_module": "@jupyter-widgets/controls",
            "_model_module_version": "1.5.0",
            "_model_name": "ProgressStyleModel",
            "_view_count": null,
            "_view_module": "@jupyter-widgets/base",
            "_view_module_version": "1.2.0",
            "_view_name": "StyleView",
            "bar_color": null,
            "description_width": ""
          }
        },
        "dbefbbcae3154e119644d519acbd3c69": {
          "model_module": "@jupyter-widgets/base",
          "model_module_version": "1.2.0",
          "model_name": "LayoutModel",
          "state": {
            "_model_module": "@jupyter-widgets/base",
            "_model_module_version": "1.2.0",
            "_model_name": "LayoutModel",
            "_view_count": null,
            "_view_module": "@jupyter-widgets/base",
            "_view_module_version": "1.2.0",
            "_view_name": "LayoutView",
            "align_content": null,
            "align_items": null,
            "align_self": null,
            "border": null,
            "bottom": null,
            "display": null,
            "flex": null,
            "flex_flow": null,
            "grid_area": null,
            "grid_auto_columns": null,
            "grid_auto_flow": null,
            "grid_auto_rows": null,
            "grid_column": null,
            "grid_gap": null,
            "grid_row": null,
            "grid_template_areas": null,
            "grid_template_columns": null,
            "grid_template_rows": null,
            "height": null,
            "justify_content": null,
            "justify_items": null,
            "left": null,
            "margin": null,
            "max_height": null,
            "max_width": null,
            "min_height": null,
            "min_width": null,
            "object_fit": null,
            "object_position": null,
            "order": null,
            "overflow": null,
            "overflow_x": null,
            "overflow_y": null,
            "padding": null,
            "right": null,
            "top": null,
            "visibility": null,
            "width": null
          }
        },
        "deb4dfd8aaed4cda9431c20ac7df2f60": {
          "model_module": "@jupyter-widgets/base",
          "model_module_version": "1.2.0",
          "model_name": "LayoutModel",
          "state": {
            "_model_module": "@jupyter-widgets/base",
            "_model_module_version": "1.2.0",
            "_model_name": "LayoutModel",
            "_view_count": null,
            "_view_module": "@jupyter-widgets/base",
            "_view_module_version": "1.2.0",
            "_view_name": "LayoutView",
            "align_content": null,
            "align_items": null,
            "align_self": null,
            "border": null,
            "bottom": null,
            "display": null,
            "flex": null,
            "flex_flow": null,
            "grid_area": null,
            "grid_auto_columns": null,
            "grid_auto_flow": null,
            "grid_auto_rows": null,
            "grid_column": null,
            "grid_gap": null,
            "grid_row": null,
            "grid_template_areas": null,
            "grid_template_columns": null,
            "grid_template_rows": null,
            "height": null,
            "justify_content": null,
            "justify_items": null,
            "left": null,
            "margin": null,
            "max_height": null,
            "max_width": null,
            "min_height": null,
            "min_width": null,
            "object_fit": null,
            "object_position": null,
            "order": null,
            "overflow": null,
            "overflow_x": null,
            "overflow_y": null,
            "padding": null,
            "right": null,
            "top": null,
            "visibility": null,
            "width": null
          }
        },
        "dff06ff1a9644d32876fed4ae208fac8": {
          "model_module": "@jupyter-widgets/base",
          "model_module_version": "1.2.0",
          "model_name": "LayoutModel",
          "state": {
            "_model_module": "@jupyter-widgets/base",
            "_model_module_version": "1.2.0",
            "_model_name": "LayoutModel",
            "_view_count": null,
            "_view_module": "@jupyter-widgets/base",
            "_view_module_version": "1.2.0",
            "_view_name": "LayoutView",
            "align_content": null,
            "align_items": null,
            "align_self": null,
            "border": null,
            "bottom": null,
            "display": null,
            "flex": null,
            "flex_flow": null,
            "grid_area": null,
            "grid_auto_columns": null,
            "grid_auto_flow": null,
            "grid_auto_rows": null,
            "grid_column": null,
            "grid_gap": null,
            "grid_row": null,
            "grid_template_areas": null,
            "grid_template_columns": null,
            "grid_template_rows": null,
            "height": null,
            "justify_content": null,
            "justify_items": null,
            "left": null,
            "margin": null,
            "max_height": null,
            "max_width": null,
            "min_height": null,
            "min_width": null,
            "object_fit": null,
            "object_position": null,
            "order": null,
            "overflow": null,
            "overflow_x": null,
            "overflow_y": null,
            "padding": null,
            "right": null,
            "top": null,
            "visibility": null,
            "width": null
          }
        },
        "e576e1b497e8467882dce7257de727ae": {
          "model_module": "@jupyter-widgets/controls",
          "model_module_version": "1.5.0",
          "model_name": "HBoxModel",
          "state": {
            "_dom_classes": [],
            "_model_module": "@jupyter-widgets/controls",
            "_model_module_version": "1.5.0",
            "_model_name": "HBoxModel",
            "_view_count": null,
            "_view_module": "@jupyter-widgets/controls",
            "_view_module_version": "1.5.0",
            "_view_name": "HBoxView",
            "box_style": "",
            "children": [
              "IPY_MODEL_7f3fac98ff18423db41ec1bf87455468",
              "IPY_MODEL_9a26213c4e744e44ba958c232fbb6932",
              "IPY_MODEL_1c6bcccdd5a24c3aa522aded10cd529c"
            ],
            "layout": "IPY_MODEL_250dd837cee04ae2a5d217b7934b2ab5"
          }
        },
        "eb71b96e92d242b5b589de58ef168e60": {
          "model_module": "@jupyter-widgets/controls",
          "model_module_version": "1.5.0",
          "model_name": "DescriptionStyleModel",
          "state": {
            "_model_module": "@jupyter-widgets/controls",
            "_model_module_version": "1.5.0",
            "_model_name": "DescriptionStyleModel",
            "_view_count": null,
            "_view_module": "@jupyter-widgets/base",
            "_view_module_version": "1.2.0",
            "_view_name": "StyleView",
            "description_width": ""
          }
        },
        "ec1b592ff81840a48ef073fe4e664675": {
          "model_module": "@jupyter-widgets/base",
          "model_module_version": "1.2.0",
          "model_name": "LayoutModel",
          "state": {
            "_model_module": "@jupyter-widgets/base",
            "_model_module_version": "1.2.0",
            "_model_name": "LayoutModel",
            "_view_count": null,
            "_view_module": "@jupyter-widgets/base",
            "_view_module_version": "1.2.0",
            "_view_name": "LayoutView",
            "align_content": null,
            "align_items": null,
            "align_self": null,
            "border": null,
            "bottom": null,
            "display": null,
            "flex": null,
            "flex_flow": null,
            "grid_area": null,
            "grid_auto_columns": null,
            "grid_auto_flow": null,
            "grid_auto_rows": null,
            "grid_column": null,
            "grid_gap": null,
            "grid_row": null,
            "grid_template_areas": null,
            "grid_template_columns": null,
            "grid_template_rows": null,
            "height": null,
            "justify_content": null,
            "justify_items": null,
            "left": null,
            "margin": null,
            "max_height": null,
            "max_width": null,
            "min_height": null,
            "min_width": null,
            "object_fit": null,
            "object_position": null,
            "order": null,
            "overflow": null,
            "overflow_x": null,
            "overflow_y": null,
            "padding": null,
            "right": null,
            "top": null,
            "visibility": null,
            "width": null
          }
        }
      }
    }
  },
  "nbformat": 4,
  "nbformat_minor": 0
}